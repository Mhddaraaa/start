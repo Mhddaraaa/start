{
  "cells": [
    {
      "cell_type": "code",
      "execution_count": 1,
      "metadata": {
        "id": "Cdy1Whdwz8pb"
      },
      "outputs": [],
      "source": [
        "import numpy as np\n",
        "import pandas as pd\n",
        "import matplotlib.pyplot as plt\n",
        "import copy\n",
        "\n",
        "import torch\n",
        "import torch.nn.functional as F\n",
        "from torch import nn\n",
        "from tqdm.auto import tqdm\n",
        "import random\n",
        "from collections import Counter\n",
        "import re"
      ]
    },
    {
      "cell_type": "code",
      "execution_count": 2,
      "metadata": {
        "colab": {
          "base_uri": "https://localhost:8080/"
        },
        "id": "keymoIMu0Bb0",
        "outputId": "efe65d26-e171-4fe2-fb59-bca6e2d6ffe6"
      },
      "outputs": [
        {
          "name": "stdout",
          "output_type": "stream",
          "text": [
            "--2025-05-08 21:32:56--  https://raw.githubusercontent.com/karpathy/char-rnn/master/data/tinyshakespeare/input.txt\n",
            "Resolving raw.githubusercontent.com (raw.githubusercontent.com)... 185.199.108.133, 185.199.111.133, 185.199.110.133, ...\n",
            "Connecting to raw.githubusercontent.com (raw.githubusercontent.com)|185.199.108.133|:443... connected.\n",
            "HTTP request sent, awaiting response... 200 OK\n",
            "Length: 1115394 (1.1M) [text/plain]\n",
            "Saving to: ‘input.txt’\n",
            "\n",
            "\rinput.txt             0%[                    ]       0  --.-KB/s               \rinput.txt           100%[===================>]   1.06M  --.-KB/s    in 0.04s   \n",
            "\n",
            "2025-05-08 21:32:56 (28.4 MB/s) - ‘input.txt’ saved [1115394/1115394]\n",
            "\n"
          ]
        }
      ],
      "source": [
        "!wget \"https://raw.githubusercontent.com/karpathy/char-rnn/master/data/tinyshakespeare/input.txt\""
      ]
    },
    {
      "cell_type": "code",
      "execution_count": 3,
      "metadata": {
        "id": "c4bzYxpN0Dlf"
      },
      "outputs": [],
      "source": [
        "with open('/content/input.txt', mode='r', encoding='utf-8') as f:\n",
        "    text = f.read()"
      ]
    },
    {
      "cell_type": "code",
      "execution_count": 4,
      "metadata": {
        "colab": {
          "base_uri": "https://localhost:8080/"
        },
        "id": "fNeJbXp70N_P",
        "outputId": "d4dad302-0753-4ed2-9b8e-a6cde40cbb7c"
      },
      "outputs": [
        {
          "name": "stdout",
          "output_type": "stream",
          "text": [
            "Length of data:  1115394\n",
            "First Citizen:\n",
            "Before we proceed any further, hear me speak.\n",
            "\n",
            "All:\n",
            "Speak, speak.\n",
            "\n",
            "First Citizen:\n",
            "You\n"
          ]
        }
      ],
      "source": [
        "print('Length of data: ', len(text))\n",
        "print(text[:100])"
      ]
    },
    {
      "cell_type": "markdown",
      "metadata": {
        "id": "RcCHNFTq92qv"
      },
      "source": [
        "## **Tokenizer**\n",
        "\n",
        "**Byte Pair Encoding (BPE):** Iteratively merges the most frequent adjacent symbol pairs to reduce vocabulary size while preserving meaning.\n",
        "- This is an unsupervised, data-driven tokenization algorithm often used for compressing and preprocessing input in NLP tasks.\n",
        "\n",
        "**Note:** In it's orginal form, first we should convert all characters to their unicode format. After this we must create new index for each new pairs. Nonetheless, in this implementation I just used the orginal characters and split them using regular expresion."
      ]
    },
    {
      "cell_type": "code",
      "execution_count": null,
      "metadata": {
        "id": "2bTyPE669rT-"
      },
      "outputs": [],
      "source": [
        "def merge(words, pair):\n",
        "    new_words = []\n",
        "    for word in words:\n",
        "        pairs = [[word[i] + ' ' + word[i+1]] for i in range(len(word) - 1)]\n",
        "        if pair in [''.join(pair) for pair in pairs]:\n",
        "            item = ' '.join(word)\n",
        "            item = item.replace(' '.join(pair.split()), ''.join(pair.split()))\n",
        "            new_words.append(item.split())\n",
        "        else:\n",
        "            new_words.append(word)\n",
        "\n",
        "    return new_words\n",
        "\n",
        "def PBE(text, num_iteration=1000, freq_limit=5, pattern=r\"\\s*\\S+\"):\n",
        "    # Tokenize input text into list of character lists per word\n",
        "    words = [[c for c in item] for item in re.findall(pattern, text)]\n",
        "\n",
        "    pbar = tqdm(range(num_iteration))  # Show progress bar\n",
        "\n",
        "    for _ in pbar:\n",
        "        pairs = []\n",
        "        for item in words:\n",
        "            # Collect all adjacent character pairs from words\n",
        "            pairs += [item[i] + ' ' + item[i+1] for i in range(len(item) - 1)]\n",
        "\n",
        "        # Find most common pair\n",
        "        max = Counter(pairs).most_common(1)[0]\n",
        "\n",
        "        if max[1] > freq_limit:\n",
        "            pair = max[0]\n",
        "            words = merge(words, pair)  # Merge the pair in all words\n",
        "        else:\n",
        "            break  # Stop if no pair is frequent enough\n",
        "\n",
        "        pbar.set_description(f\"Max frequency: {max[1]}, \")\n",
        "\n",
        "    # Flatten the list of words into a single list of subwords/tokens\n",
        "    return [w for word in words for w in word]"
      ]
    },
    {
      "cell_type": "code",
      "execution_count": 5,
      "metadata": {
        "id": "STGE6_Im0VsI"
      },
      "outputs": [],
      "source": [
        "#tokens = PBE(text, num_iteration=4000)\n",
        "\n",
        "# As I train the tokenizer in the past, I just use it\n",
        "!cp \"/content/drive/MyDrive/LLM/TinyShakesCustomTokens4000.npy\" /content/\n",
        "tokens = np.load('/content/TinyShakesCustomTokens4000.npy')"
      ]
    },
    {
      "cell_type": "code",
      "execution_count": 6,
      "metadata": {
        "colab": {
          "base_uri": "https://localhost:8080/"
        },
        "id": "FfXaKfg40Voo",
        "outputId": "b43c8fef-882a-45ba-dd66-e2774100a003"
      },
      "outputs": [
        {
          "name": "stdout",
          "output_type": "stream",
          "text": [
            "q was not in the tokens, adding...\n"
          ]
        }
      ],
      "source": [
        "chars = sorted(list(set(tokens)))\n",
        "\n",
        "for item in sorted(list(set(text))):\n",
        "    if item not in chars:\n",
        "        print(item, \"was not in the tokens, adding...\")\n",
        "        chars.append(item)"
      ]
    },
    {
      "cell_type": "code",
      "execution_count": 7,
      "metadata": {
        "id": "wL1Eec1R0Okb"
      },
      "outputs": [],
      "source": [
        "VOCAB_SIZE = len(chars)\n",
        "T = 256 # length of text sequence\n",
        "BATCH_SIZE = 64\n",
        "LR = 2e-3\n",
        "EPOCHS = 2000\n",
        "EVAL_INTERVAL = 100\n",
        "EVAL_ITER = 5\n",
        "N_EMBD = 192\n",
        "N_HEAD = 8\n",
        "NUM_BLOCK = 16"
      ]
    },
    {
      "cell_type": "code",
      "execution_count": 8,
      "metadata": {
        "id": "LG9WH45c0sLQ"
      },
      "outputs": [],
      "source": [
        "stoi = {ch:i for i, ch in enumerate(chars)} # String to int\n",
        "itos = {i:ch for i, ch in enumerate(chars)} # Int to string\n",
        "\n",
        "encode = lambda s: [stoi[item] for item in s]\n",
        "decode = lambda i:  ''.join(itos[c] for c in i)"
      ]
    },
    {
      "cell_type": "code",
      "execution_count": 9,
      "metadata": {
        "colab": {
          "base_uri": "https://localhost:8080/"
        },
        "id": "nG8BhvSW0slS",
        "outputId": "075a8009-cf7d-4313-c4b8-4ad0a74bcd5b"
      },
      "outputs": [
        {
          "name": "stdout",
          "output_type": "stream",
          "text": [
            "Available device is:  cuda\n"
          ]
        },
        {
          "data": {
            "text/plain": [
              "(torch.Size([1115394]), torch.int64)"
            ]
          },
          "execution_count": 9,
          "metadata": {},
          "output_type": "execute_result"
        }
      ],
      "source": [
        "# Set a random seed for reproducibility of results\n",
        "torch.manual_seed(123)\n",
        "\n",
        "# Choose 'cuda' if a GPU is available, otherwise fall back to CPU\n",
        "device = 'cuda' if torch.cuda.is_available() else 'cpu'\n",
        "print('Available device is: ', device)\n",
        "\n",
        "# Convert the encoded text into a PyTorch tensor, store it on the selected device\n",
        "data = torch.tensor(encode(text), dtype=torch.long, device=device)\n",
        "\n",
        "# Display the shape and data type of the tensor\n",
        "data.shape, data.dtype"
      ]
    },
    {
      "cell_type": "code",
      "execution_count": 10,
      "metadata": {
        "colab": {
          "base_uri": "https://localhost:8080/"
        },
        "id": "ZoI4_BbP0uJD",
        "outputId": "c9112090-6cd5-45ff-8abc-1b25d5be674a"
      },
      "outputs": [
        {
          "data": {
            "text/plain": [
              "(1003854, 111540)"
            ]
          },
          "execution_count": 10,
          "metadata": {},
          "output_type": "execute_result"
        }
      ],
      "source": [
        "# Split the data into 90% training and 10% testing\n",
        "split = int(0.9 * len(data))\n",
        "train_data = data[:split]\n",
        "test_data = data[split:]\n",
        "\n",
        "# Show the lengths of the training and testing sets\n",
        "len(train_data), len(test_data)"
      ]
    },
    {
      "cell_type": "code",
      "execution_count": 11,
      "metadata": {
        "id": "ZbzkveJN0v4f"
      },
      "outputs": [],
      "source": [
        "# Function to generate a batch of input (x) and target (y) sequences from the dataset\n",
        "def get_batch(data_set, device, T=T):\n",
        "    # Randomly select starting indices for BATCH_SIZE number of sequences\n",
        "    # Ensures sequences of length T can be formed without going out of bounds\n",
        "    idx = torch.randint(len(data_set) - T, (BATCH_SIZE,))\n",
        "\n",
        "    # Stack BATCH_SIZE input sequences of length T starting from the random indices\n",
        "    x = torch.stack([data_set[i: i + T] for i in idx]).to(device)\n",
        "\n",
        "    # Stack BATCH_SIZE target sequences by shifting each input sequence by one token\n",
        "    y = torch.stack([data_set[i + 1: i + T + 1] for i in idx]).to(device)\n",
        "\n",
        "    # Return a batch of input and corresponding target sequences\n",
        "    return x, y"
      ]
    },
    {
      "cell_type": "markdown",
      "metadata": {
        "id": "RF_FK6Nk2rr4"
      },
      "source": [
        "## **Transfomer decoder architecture impelemtetion**"
      ]
    },
    {
      "cell_type": "markdown",
      "metadata": {
        "id": "Xvkle8-32rj3"
      },
      "source": [
        "### **1. Single Attention Head (Head)**\n",
        "\n",
        "First is implementing **scaled dot-product** attention with **causal masking** for autoregressive token prediction. It models how each token attends to previous tokens in the sequence.\n",
        "\n",
        "Given a sequence of token embeddings $X \\in \\mathbb{R}^{B \\times T \\times C}$, we compute attention weights:\n",
        "<br>\n",
        "\n",
        "$$\n",
        "\\large \\text{Attention}(Q, K, V) = \\text{softmax}\\left(\\frac{QK^\\top}{\\sqrt{d_k}} + \\text{mask} \\right)V\n",
        "$$\n",
        "\n",
        "> Query: $Q = XW^Q$ <br>\n",
        "Key: $K = XW^K$ <br>\n",
        "Value: $V = XW^V$ <br>\n",
        "$d_k$: Dimension of keys (i.e., head size) <br>\n",
        "*mask:* Causal (lower triangular) mask ensures no future tokens are attended."
      ]
    },
    {
      "cell_type": "code",
      "execution_count": null,
      "metadata": {
        "id": "oCwuwcmc2Fq7"
      },
      "outputs": [],
      "source": [
        "class Head(nn.Module):\n",
        "    def __init__(self, n_embd=N_EMBD, h_s=HEAD_SIZE):\n",
        "        super().__init__()\n",
        "        self.device = 'cuda' if torch.cuda.is_available() else 'cpu'\n",
        "\n",
        "        # Linear projections for Q, K, V (no bias for simplicity)\n",
        "        self.query = nn.Linear(n_embd, h_s, bias=False)\n",
        "        self.key = nn.Linear(n_embd, h_s, bias=False)\n",
        "        self.value = nn.Linear(n_embd, h_s, bias=False)\n",
        "\n",
        "        self.drop = nn.Dropout(0.2)\n",
        "\n",
        "    def forward(self, x):\n",
        "        B, T, C = x.shape  # Batch, Time, Embedding size\n",
        "        q = self.query(x)  # (B, T, h_s)\n",
        "        k = self.key(x)\n",
        "        v = self.value(x)\n",
        "\n",
        "        # Scaled dot-product attention\n",
        "        wei = (q @ k.transpose(-1, -2)) * (C ** -0.5)\n",
        "\n",
        "        # Apply causal mask to prevent attending to future positions\n",
        "        tril = torch.tril(torch.ones(T, T)).to(self.device)\n",
        "        wei = wei.masked_fill(tril == 0, float('-inf'))\n",
        "\n",
        "        # Apply softmax + dropout\n",
        "        wei = self.drop(F.softmax(wei, dim=-1))  # (B, T, T)\n",
        "\n",
        "        # Weighted sum of value vectors\n",
        "        return wei @ v  # (B, T, h_s)"
      ]
    },
    {
      "cell_type": "markdown",
      "metadata": {
        "id": "Dw06ihHA4K8Y"
      },
      "source": [
        "### **2. Multi-head Attention (MultiHead)**\n",
        "Combines multiple attention heads in parallel to allow the model to jointly attend to information from different representation subspaces at different position, which enables richer representations than a single head.\n",
        "\n",
        "If we use $h$ heads, each head computes its own attention:\n",
        "<br>\n",
        "\n",
        "$$\n",
        "\\large \\text{head}_i = \\text{Attention}(Q_i, K_i, V_i)\n",
        "$$\n",
        "\n",
        "The outputs are concatenated and projected:\n",
        "<br>\n",
        "\n",
        "$$\n",
        "\\large \\text{MultiHead}(Q, K, V) = \\text{Concat}(\\text{head}_1, \\ldots, \\text{head}_h)W^O\n",
        "$$"
      ]
    },
    {
      "cell_type": "code",
      "execution_count": null,
      "metadata": {
        "id": "EopFvG8I2FbC"
      },
      "outputs": [],
      "source": [
        "class MultiHead(nn.Module):\n",
        "    def __init__(self, n_embd=N_EMBD, n_h=N_HEAD):\n",
        "        super().__init__()\n",
        "        # Create n_h attention heads\n",
        "        self.multi_head = nn.ModuleList([\n",
        "            Head(n_embd, n_embd // n_h) for _ in range(n_h)\n",
        "        ])\n",
        "\n",
        "        # Output projection layer to mix heads\n",
        "        self.proj = nn.Linear(n_embd, n_embd)\n",
        "        self.drop = nn.Dropout(0.2)\n",
        "\n",
        "    def forward(self, x):\n",
        "        # Apply all attention heads and concatenate their outputs\n",
        "        x = torch.cat([head(x) for head in self.multi_head], dim=-1)\n",
        "        return self.drop(self.proj(x))"
      ]
    },
    {
      "cell_type": "markdown",
      "metadata": {
        "id": "9FULwZ0H40kC"
      },
      "source": [
        "### **3. Feedforward**\n",
        "\n",
        "Processes each position independently to apply a non-linear transformation and deepen the model. we can say we this approach tokens will speak together to find out each one carry what kind of information.\n",
        "\n",
        "Each position of the sequence (vector) goes through:\n",
        "<br>\n",
        "\n",
        "$$\n",
        "\\large \\text{FFN}(x) = W_2 \\cdot \\text{GELU}(W_1 x + b_1) + b_2\n",
        "$$\n",
        "\n",
        "> Usually $W_1 \\in \\mathbb{R}^{d_{\\text{model}} \\times 4d_{\\text{model}}}$ <br>\n",
        "This makes the model more expressive."
      ]
    },
    {
      "cell_type": "code",
      "execution_count": null,
      "metadata": {
        "id": "k4fWEdNF2LBm"
      },
      "outputs": [],
      "source": [
        "class FeedForward(nn.Module):\n",
        "    def __init__(self, in_channel):\n",
        "        super().__init__()\n",
        "        self.layer = nn.Sequential(\n",
        "            nn.Linear(in_channel, in_channel * 4),  # Expand\n",
        "            nn.GELU(),\n",
        "            nn.Linear(in_channel * 4, in_channel),  # Reduce\n",
        "            nn.Dropout(0.2)\n",
        "        )\n",
        "\n",
        "    def forward(self, x):\n",
        "        return self.layer(x)"
      ]
    },
    {
      "cell_type": "markdown",
      "metadata": {
        "id": "LsxbBQIX56zh"
      },
      "source": [
        "### **4. Transformer Block**\n",
        "\n",
        "Each block applies:\n",
        "\n",
        "1.\tMulti-head attention with residual:\n",
        "$$\n",
        "\\large x’ = x + \\text{MultiHead}(\\text{LayerNorm}(x))\n",
        "$$\n",
        "2.\tFeedforward with residual:\n",
        "$$\n",
        "\\large x’’ = x’ + \\text{FFN}(\\text{LayerNorm}(x’))\n",
        "$$\n",
        "\n",
        "These residual connections help with gradient flow in deep networks."
      ]
    },
    {
      "cell_type": "code",
      "execution_count": null,
      "metadata": {
        "id": "lVZu2auH2K_B"
      },
      "outputs": [],
      "source": [
        "class TransformerBlock(nn.Module):\n",
        "    def __init__(self, n_embd=N_EMBD, n_h=N_HEAD):\n",
        "        super().__init__()\n",
        "        self.attention_heads = MultiHead(n_embd, n_h)\n",
        "        self.layer_norm1 = nn.LayerNorm(n_embd)\n",
        "        self.feed_forward = FeedForward(n_embd)\n",
        "        self.layer_norm2 = nn.LayerNorm(n_embd)\n",
        "\n",
        "    def forward(self, x):\n",
        "        # Residual + LayerNorm + Attention\n",
        "        x = x + self.attention_heads(self.layer_norm1(x))\n",
        "        # Residual + LayerNorm + FFN\n",
        "        x = x + self.feed_forward(self.layer_norm2(x))\n",
        "        return x"
      ]
    },
    {
      "cell_type": "markdown",
      "metadata": {
        "id": "TKQIqi_Q6wfk"
      },
      "source": [
        "### **5. Bigram Language Model (Full Transformer)**\n",
        "\n",
        "This is the complete causal transformer, trained to predict the next token in a sequence.\n",
        "\n",
        "- Input Representation:\n",
        "\n",
        "$$\n",
        "\\large x = E_{\\text{token}} + E_{\\text{pos}}\n",
        "$$\n",
        "\n",
        "> Token embedding: $E_{\\text{token}}$ <br>\n",
        "Positional embedding: $E_{\\text{pos}}$\n",
        "\n",
        "- Stack of Transformer Blocks: Refines representation\n",
        "- Output Head:\n",
        "\n",
        "$$\n",
        "\\large \\text{logits} = xW^{\\top}_{\\text{vocab}}\n",
        "$$\n",
        "\n",
        "- Loss Function: Uses cross-entropy:\n",
        "\n",
        "$$\n",
        "\\large \\mathcal{L} = -\\sum_{i=1}^{T} \\log p(y_i \\mid x_{<i})\n",
        "$$\n",
        "\n",
        "> Generation: Sample from the output distribution to generate one token at a time."
      ]
    },
    {
      "cell_type": "code",
      "execution_count": null,
      "metadata": {
        "id": "tEteR3e32FY8"
      },
      "outputs": [],
      "source": [
        "class Bigram(nn.Module):\n",
        "    def __init__(self, vocab_size=VOCAB_SIZE, char_length=T, n_embd=N_EMBD,\n",
        "                 n_h=N_HEAD, num_block=8):\n",
        "        super().__init__()\n",
        "        self.device = 'cuda' if torch.cuda.is_available() else 'cpu'\n",
        "        self.char_length = char_length\n",
        "\n",
        "        # Token and positional embeddings\n",
        "        self.token_embedding_table = nn.Embedding(vocab_size, n_embd)\n",
        "        self.pos_embedding_table = nn.Embedding(char_length, n_embd)\n",
        "\n",
        "        # Stack of transformer blocks\n",
        "        self.transformerblock = nn.ModuleList([\n",
        "            TransformerBlock(n_embd, n_h) for _ in range(num_block)\n",
        "        ])\n",
        "\n",
        "        self.norm_layer = nn.LayerNorm(n_embd)\n",
        "        self.lm_head = nn.Linear(n_embd, vocab_size)  # Final classifier\n",
        "        self.to(self.device)\n",
        "\n",
        "    def forward(self, input, target=None):\n",
        "        B, T = input.shape\n",
        "\n",
        "        # Lookup embeddings\n",
        "        token_embd = self.token_embedding_table(input)       # (B, T, N_EMBD)\n",
        "        positional_embd = self.pos_embedding_table(torch.arange(T, device=self.device))  # (T, N_EMBD)\n",
        "\n",
        "        x = token_embd + positional_embd  # (B, T, N_EMBD)\n",
        "\n",
        "        # Apply transformer blocks\n",
        "        for layer in self.transformerblock:\n",
        "            x = layer(x)\n",
        "\n",
        "        # Final normalization + logits\n",
        "        x = self.norm_layer(x)\n",
        "        logits = self.lm_head(x)  # (B, T, VOCAB_SIZE)\n",
        "\n",
        "        # If no target, return logits for inference\n",
        "        if target is None:\n",
        "            return logits, None\n",
        "\n",
        "        # Flatten for loss computation\n",
        "        logits = logits.view(B * T, -1)\n",
        "        target = target.view(-1)\n",
        "        loss = F.cross_entropy(logits, target)\n",
        "\n",
        "        return logits, loss\n",
        "\n",
        "    def generate_token(self, input, max_token):\n",
        "        # Generate max_token number of tokens\n",
        "        for _ in range(max_token):\n",
        "            logits, _ = self.forward(input[:, -self.char_length:])\n",
        "\n",
        "            # Get next token probabilities from the last position\n",
        "            probs = F.softmax(logits[:, -1, :], dim=-1)  # (B, VOCAB_SIZE)\n",
        "\n",
        "            # Sample from the distribution\n",
        "            next_char = torch.multinomial(probs, 1)  # (B, 1)\n",
        "\n",
        "            # Append new token to input\n",
        "            input = torch.cat([input, next_char], dim=1)  # (B, T+1)\n",
        "\n",
        "        return decode(input[0].detach().cpu().tolist())"
      ]
    },
    {
      "cell_type": "code",
      "execution_count": 13,
      "metadata": {
        "id": "nSbgJ1ui0_jm"
      },
      "outputs": [],
      "source": [
        "@torch.no_grad()  # Disables gradient calculation to save memory and improve inference speed (no backprop during evaluation)\n",
        "def calc_loss(data, model, iter_num, device):\n",
        "    # Initialize a tensor to store loss values for each iteration\n",
        "    losses = torch.zeros(iter_num)\n",
        "\n",
        "    # Set the model to evaluation mode (disables dropout, layer norm uses running stats, etc.)\n",
        "    model.eval()\n",
        "\n",
        "    # Run the evaluation loop for the given number of iterations\n",
        "    for i in range(iter_num):\n",
        "        # Sample a batch of input and target sequences\n",
        "        x, y = get_batch(data, device)\n",
        "\n",
        "        # Get the model output and compute the loss (no gradients)\n",
        "        out, loss = model(x, y)\n",
        "\n",
        "        # Store the scalar loss value\n",
        "        losses[i] = loss.item()\n",
        "\n",
        "    # Return the model to training mode (enables dropout, etc.)\n",
        "    model.train()\n",
        "\n",
        "    # Return the mean loss across all iterations as a float\n",
        "    return losses.mean().item()"
      ]
    },
    {
      "cell_type": "code",
      "execution_count": 14,
      "metadata": {
        "id": "G2igtkGc1BOS"
      },
      "outputs": [],
      "source": [
        "def train_mode(model, optim, opt_schedul, epochs, eval_interval,\n",
        "               eval_iter, device, model_path=None):\n",
        "\n",
        "    # === Load from checkpoint if available ===\n",
        "    if model_path:\n",
        "        checkpoint = torch.load(model_path, weights_only=False)\n",
        "        model = checkpoint['model']                  # Load the saved model\n",
        "        optim = checkpoint['optimizer']              # Load the saved optimizer\n",
        "        opt_schedul = checkpoint['lr_sched']         # Load the learning rate scheduler\n",
        "\n",
        "    train_losses = []         # List to store training loss values\n",
        "    boundry = float('inf')    # Initialize best validation loss to infinity\n",
        "\n",
        "    pbar = tqdm(range(epochs))  # Progress bar for training\n",
        "    for epoch in pbar:\n",
        "        # === Get a batch of training data ===\n",
        "        x, y = get_batch(train_data, device)\n",
        "\n",
        "        # === Forward pass ===\n",
        "        out, train_loss = model(x, y)\n",
        "        train_losses.append(train_loss)  # Record the training loss\n",
        "\n",
        "        # === Backward pass and optimization ===\n",
        "        optim.zero_grad(set_to_none=True)  # Clear previous gradients\n",
        "        train_loss.backward()              # Compute gradients via backpropagation\n",
        "        optim.step()                       # Update model weights\n",
        "        opt_schedul.step()                 # Update learning rate via scheduler\n",
        "\n",
        "        # === Periodically evaluate model ===\n",
        "        if (epoch + 1) % eval_interval == 0:\n",
        "            loss = []\n",
        "            for split in [train_data, test_data]:\n",
        "                loss.append(calc_loss(split, model, eval_iter, device))  # Compute average loss\n",
        "\n",
        "            # Show loss and learning rate\n",
        "            pbar.set_description(\n",
        "                f\"Train loss: {loss[0]:.4f} | Val loss: {loss[1]:.4f} |\"\n",
        "                f\" α Neural network: {round(optim.param_groups[0]['lr'], 6)}\"\n",
        "            )\n",
        "\n",
        "            # === Save model checkpoint if validation loss improves ===\n",
        "            if loss[1] < boundry:\n",
        "                boundry = loss[1]\n",
        "                checkpoint = {\n",
        "                    'model': model,\n",
        "                    'optimizer': optim,\n",
        "                    'lr_sched': opt_schedul\n",
        "                }\n",
        "                torch.save(checkpoint, 'checkpoint.pth')  # Save checkpoint\n",
        "\n",
        "    return train_losses  # Return list of training losses"
      ]
    },
    {
      "cell_type": "code",
      "execution_count": 15,
      "metadata": {
        "id": "wD58IHDr1DE9"
      },
      "outputs": [],
      "source": [
        "VOCAB_SIZE = len(chars)\n",
        "T = 256 # length of text sequence\n",
        "BATCH_SIZE = 64\n",
        "LR = 2e-3\n",
        "EPOCHS = 2000\n",
        "EVAL_INTERVAL = 100\n",
        "EVAL_ITER = 5\n",
        "N_EMBD = 192\n",
        "N_HEAD = 8\n",
        "NUM_BLOCK = 16"
      ]
    },
    {
      "cell_type": "code",
      "execution_count": 16,
      "metadata": {
        "id": "DvR_FpvV1IA8"
      },
      "outputs": [],
      "source": [
        "# Instantiate the Transformer-based language model ===\n",
        "model = Bigram(\n",
        "    vocab_size=VOCAB_SIZE,     # Size of vocabulary (number of unique tokens)\n",
        "    char_length=T,             # Maximum context window (sequence length)\n",
        "    n_embd=N_EMBD,             # Embedding dimension (feature size)\n",
        "    n_h=N_HEAD,                # Number of attention heads\n",
        "    num_block=NUM_BLOCK        # Number of transformer blocks (depth)\n",
        ")\n",
        "\n",
        "# Initialize AdamW optimizer ===\n",
        "optimizer = torch.optim.AdamW(model.parameters(), lr=LR)\n",
        "\n",
        "# Learning rate scheduler that decays LR every 100 steps ===\n",
        "opt_schedul = torch.optim.lr_scheduler.StepLR(optimizer, step_size=100, gamma=0.99)"
      ]
    },
    {
      "cell_type": "code",
      "execution_count": 17,
      "metadata": {
        "colab": {
          "base_uri": "https://localhost:8080/",
          "height": 49,
          "referenced_widgets": [
            "5ec0591de3a7485e8a06930c731824f8",
            "eba1b2ebdc4d4b65904421d6a9b6bd1d",
            "8db3deb19fd94b09a91dc467028575f3",
            "fc927f1d60da44e08ba1c8f44aa7342f",
            "49950f80e892462aae364012f0295441",
            "c5814fdfb24949f3a0cc688f7d59a84c",
            "1a0652e4c0404083a64947cd70e3b531",
            "6c040e708d224127a466bd86aece0ae0",
            "c401e60a3f894611aaf652a1b223c62d",
            "805ca494a99e4f2c98bd66a035976232",
            "8e1fd5dd3e824c978c7c8631f42a6956"
          ]
        },
        "id": "KmaXsYoD1KTZ",
        "outputId": "6f86f0d3-475d-4157-810b-e954f17bc1eb"
      },
      "outputs": [
        {
          "data": {
            "application/vnd.jupyter.widget-view+json": {
              "model_id": "5ec0591de3a7485e8a06930c731824f8",
              "version_major": 2,
              "version_minor": 0
            },
            "text/plain": [
              "  0%|          | 0/2000 [00:00<?, ?it/s]"
            ]
          },
          "metadata": {},
          "output_type": "display_data"
        }
      ],
      "source": [
        "train_loss = train_mode(model, optimizer, opt_schedul, EPOCHS, EVAL_INTERVAL,\n",
        "                        EVAL_ITER, device = device)"
      ]
    },
    {
      "cell_type": "code",
      "execution_count": 18,
      "metadata": {
        "colab": {
          "base_uri": "https://localhost:8080/",
          "height": 445
        },
        "id": "gCbOq9Tu1ORm",
        "outputId": "3b6df2e4-16a2-490d-e43d-7f01c9bede1f"
      },
      "outputs": [
        {
          "name": "stdout",
          "output_type": "stream",
          "text": [
            "Val Loss is:  1.4962822198867798\n"
          ]
        },
        {
          "data": {
            "image/png": "[encoded data removed]",
            "text/plain": [
              "<Figure size 640x480 with 1 Axes>"
            ]
          },
          "metadata": {},
          "output_type": "display_data"
        }
      ],
      "source": [
        "print('Val Loss is: ', calc_loss(test_data, model, 5, device))\n",
        "plt.plot(torch.tensor(train_loss).cpu().numpy())\n",
        "plt.show()"
      ]
    },
    {
      "cell_type": "code",
      "execution_count": 19,
      "metadata": {
        "colab": {
          "base_uri": "https://localhost:8080/"
        },
        "id": "Sa2wB23T8zmc",
        "outputId": "0a282faf-42ab-4c4a-9101-c7230a19a9a0"
      },
      "outputs": [
        {
          "name": "stdout",
          "output_type": "stream",
          "text": [
            "\n",
            "\n",
            "Secure, thou hast done with the honour of the goss\n",
            "stren. How! Montague forgive those this\n",
            "forth, I should ask,\n",
            "any let thee weed, and of Rome, and this wing\n",
            "membring thy happy instructs. But, if we have\n",
            "did so offender; and make ease of love time\n",
            "own full days of letters. But, and the news cape,\n",
            "As each of faults of holy vict:\n",
            "The birthless wheels the was a Crosby, it wass for\n",
            "two sented in his heir, and man hateful is\n",
            "that would have?\n",
            "\n",
            "PAULINA:\n",
            "Indeed;\n",
            "Both and and dear days of saying fineess,\n",
            "To make thee larged-head; no liver from and die:\n",
            "It should be the little lives our head;\n",
            "And made me my pleasure of Rome,\n",
            "'Tis blind to us; Is fall in forfeit\n",
            "With one hundred looks the welewise lie!\n",
            "Ha! wondon he censure, who shoes wanders\n",
            "Made for adversared, for his brother had brought:\n",
            "We have some vantage: who cames\n",
            "Mine own of griefect was done to roan?\n",
            "\n",
            "ANTIGONUS:\n",
            "Ay, by her careless of me, gains-wife,\n",
            "And from flowers and Jerkius, to go:\n",
            "Be rply, my liege,\n",
            "Be in the looking of my brain\n"
          ]
        }
      ],
      "source": [
        "print(model.generate_token(torch.zeros((1, 1), dtype=torch.long, device=device), 1000))"
      ]
    },
    {
      "cell_type": "code",
      "execution_count": 20,
      "metadata": {
        "id": "xqhuwysb83Tx"
      },
      "outputs": [],
      "source": [
        "!cp /content/checkpoint.pth /content/drive/MyDrive/LLM"
      ]
    },
    {
      "cell_type": "code",
      "execution_count": null,
      "metadata": {
        "id": "zfVGLkNC9bHB"
      },
      "outputs": [],
      "source": []
    }
  ],
  "metadata": {
    "accelerator": "GPU",
    "colab": {
      "gpuType": "T4",
      "provenance": []
    },
    "kernelspec": {
      "display_name": "Python 3",
      "name": "python3"
    },
    "language_info": {
      "name": "python"
    }
  },
  "nbformat": 4,
  "nbformat_minor": 0
}
