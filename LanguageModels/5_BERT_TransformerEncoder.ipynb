{
  "nbformat": 4,
  "nbformat_minor": 0,
  "metadata": {
    "colab": {
      "provenance": [],
      "gpuType": "T4"
    },
    "kernelspec": {
      "name": "python3",
      "display_name": "Python 3"
    },
    "language_info": {
      "name": "python"
    },
    "accelerator": "GPU"
  },
  "cells": [
    {
      "cell_type": "code",
      "execution_count": null,
      "metadata": {
        "id": "gTYP0zMYA6hI"
      },
      "outputs": [],
      "source": [
        "import numpy as np\n",
        "import pandas as pd\n",
        "import matplotlib.pyplot as plt\n",
        "import copy\n",
        "\n",
        "import torch\n",
        "import torch.nn.functional as F\n",
        "from torch import nn\n",
        "from torch.utils.data import DataLoader, TensorDataset\n",
        "\n",
        "from tqdm.auto import tqdm\n",
        "import random\n",
        "from collections import Counter\n",
        "import re\n",
        "import json"
      ]
    },
    {
      "cell_type": "markdown",
      "source": [
        "##**Dataset**"
      ],
      "metadata": {
        "id": "rZ31che8RRxf"
      }
    },
    {
      "cell_type": "markdown",
      "source": [
        "### **Tinyshakespeare**"
      ],
      "metadata": {
        "id": "ur8ki5YJRWuL"
      }
    },
    {
      "cell_type": "code",
      "source": [
        "!wget \"https://raw.githubusercontent.com/karpathy/char-rnn/master/data/tinyshakespeare/input.txt\""
      ],
      "metadata": {
        "colab": {
          "base_uri": "https://localhost:8080/"
        },
        "id": "6s6--HhBA-fc",
        "outputId": "31718e75-cb0f-4014-e766-4be209421bbf"
      },
      "execution_count": null,
      "outputs": [
        {
          "output_type": "stream",
          "name": "stdout",
          "text": [
            "--2025-05-15 08:06:47--  https://raw.githubusercontent.com/karpathy/char-rnn/master/data/tinyshakespeare/input.txt\n",
            "Resolving raw.githubusercontent.com (raw.githubusercontent.com)... 185.199.108.133, 185.199.109.133, 185.199.110.133, ...\n",
            "Connecting to raw.githubusercontent.com (raw.githubusercontent.com)|185.199.108.133|:443... connected.\n",
            "HTTP request sent, awaiting response... 200 OK\n",
            "Length: 1115394 (1.1M) [text/plain]\n",
            "Saving to: ‘input.txt’\n",
            "\n",
            "input.txt           100%[===================>]   1.06M  --.-KB/s    in 0.04s   \n",
            "\n",
            "2025-05-15 08:06:47 (26.8 MB/s) - ‘input.txt’ saved [1115394/1115394]\n",
            "\n"
          ]
        }
      ]
    },
    {
      "cell_type": "code",
      "source": [
        "with open('/content/input.txt', mode='r', encoding='utf-8') as f:\n",
        "    text = f.read()\n",
        "\n",
        "print('Length of data: ', len(text))\n",
        "print(text[:100])"
      ],
      "metadata": {
        "colab": {
          "base_uri": "https://localhost:8080/"
        },
        "id": "E9nOC2VZA_9w",
        "outputId": "520af18f-90a7-4946-cb7a-7ea63dda540e"
      },
      "execution_count": null,
      "outputs": [
        {
          "output_type": "stream",
          "name": "stdout",
          "text": [
            "Length of data:  1115394\n",
            "First Citizen:\n",
            "Before we proceed any further, hear me speak.\n",
            "\n",
            "All:\n",
            "Speak, speak.\n",
            "\n",
            "First Citizen:\n",
            "You\n"
          ]
        }
      ]
    },
    {
      "cell_type": "markdown",
      "source": [
        "### **Wikipedia**\n",
        "\n",
        "in the article: [WikiDes: A Wikipedia-Based Dataset for Generating Short Descriptions from Paragraphs](https://arxiv.org/abs/2209.13101) by Hoang Thang Ta et al. there is a good wikipedia dataset: [Link](https://github.com/declare-lab/WikiDes?tab=readme-ov-file)\n",
        "\n",
        "<br>\n",
        "\n",
        "> I saved it to my drive and copy the file here\n"
      ],
      "metadata": {
        "id": "R4CIfGnfRgxY"
      }
    },
    {
      "cell_type": "code",
      "source": [
        "!cp /content/drive/MyDrive/LLM/collected_data.zip /content/\n",
        "!unzip /content/collected_data.zip"
      ],
      "metadata": {
        "colab": {
          "base_uri": "https://localhost:8080/"
        },
        "id": "J64TonSbRgoQ",
        "outputId": "de51d7a6-05a1-4642-c145-d58fb0a9f896"
      },
      "execution_count": null,
      "outputs": [
        {
          "output_type": "stream",
          "name": "stdout",
          "text": [
            "Archive:  /content/collected_data.zip\n",
            "  inflating: collected_data.json     \n"
          ]
        }
      ]
    },
    {
      "cell_type": "code",
      "source": [
        "with open('/content/collected_data.json', \"r\") as f:\n",
        "    raw = f.read()\n",
        "\n",
        "listed_text = [item + '}' for item in raw.split('},')]\n",
        "print(len(listed_text))"
      ],
      "metadata": {
        "colab": {
          "base_uri": "https://localhost:8080/"
        },
        "id": "cj85tj8CRgYZ",
        "outputId": "822909b3-e629-4499-b4ad-9e7ceb03b516"
      },
      "execution_count": null,
      "outputs": [
        {
          "output_type": "stream",
          "name": "stdout",
          "text": [
            "91567\n"
          ]
        }
      ]
    },
    {
      "cell_type": "code",
      "source": [
        "def remove_non_latin_words(text):\n",
        "    # Keep only words made of basic English letters\n",
        "    tokens = re.findall(r'[a-zA-Z]+[.,!?:;]*', text)\n",
        "    return ' '.join(tokens)"
      ],
      "metadata": {
        "id": "bYcjIq0ESHQ4"
      },
      "execution_count": null,
      "outputs": []
    },
    {
      "cell_type": "code",
      "source": [
        "data = []\n",
        "for item in listed_text:\n",
        "    try:\n",
        "        item = json.loads(item)['first_paragraph']\n",
        "        data.append(remove_non_latin_words(item))\n",
        "    except:\n",
        "        continue\n",
        "\n",
        "\n",
        "print(len(data))"
      ],
      "metadata": {
        "colab": {
          "base_uri": "https://localhost:8080/"
        },
        "id": "o5OsoihtSHMf",
        "outputId": "4ef98edb-a0fd-44e3-cb1f-ba610fd289c8"
      },
      "execution_count": null,
      "outputs": [
        {
          "output_type": "stream",
          "name": "stdout",
          "text": [
            "91484\n"
          ]
        }
      ]
    },
    {
      "cell_type": "code",
      "source": [
        "# Data is too big, so I used 10000 of them\n",
        "text = '\\n'.join(data[:10000])"
      ],
      "metadata": {
        "id": "e_Xapu7PSTwZ"
      },
      "execution_count": null,
      "outputs": []
    },
    {
      "cell_type": "code",
      "source": [
        "len(text)"
      ],
      "metadata": {
        "colab": {
          "base_uri": "https://localhost:8080/"
        },
        "id": "Pr3DRh3wSoCB",
        "outputId": "8f2a5cb7-63f4-4f25-9015-d3ba3f12e404"
      },
      "execution_count": null,
      "outputs": [
        {
          "output_type": "execute_result",
          "data": {
            "text/plain": [
              "4745946"
            ]
          },
          "metadata": {},
          "execution_count": 7
        }
      ]
    },
    {
      "cell_type": "markdown",
      "source": [
        "## **WordPiece Tokenizer**"
      ],
      "metadata": {
        "id": "w2pkHGOTBEyA"
      }
    },
    {
      "cell_type": "code",
      "source": [
        "class WordPiece():\n",
        "    def __init__(self, text):\n",
        "        self.text = text  # Store input text\n",
        "\n",
        "    def train(self, num_iteration=1000, freq_limit=5, likeli_iteration=30, load_char_lvl=False, save_path=False):\n",
        "        \"\"\"\n",
        "        Train the WordPiece tokenizer using an entropy-based merge strategy.\n",
        "\n",
        "        Parameters:\n",
        "        - num_iteration: number of merge iterations.\n",
        "        - freq_limit: minimum frequency for a character pair to be considered.\n",
        "        - likeli_iteration: number of top pairs to evaluate for entropy reduction.\n",
        "        - load_char_lvl: path to a saved character-level word list to resume from.\n",
        "        - save_path: path to save the intermediate results.\n",
        "        \"\"\"\n",
        "\n",
        "        # Load character-level representation if provided\n",
        "        if load_char_lvl:\n",
        "            character_lvl_words = np.load(load_char_lvl, allow_pickle=True).tolist()\n",
        "        else:\n",
        "            words, _ = self._clean_text(self.text)\n",
        "\n",
        "            # Flatten the list of sentences into a list of words\n",
        "            flatten_words = [word for sentence in words for word in sentence]\n",
        "\n",
        "            # Convert each word into a list of characters\n",
        "            character_lvl_words = [[ch for ch in word] for word in flatten_words]\n",
        "\n",
        "        # Progress bar for the outer merge loop\n",
        "        pbar = tqdm(range(num_iteration), desc=\"Outer loop progress\")\n",
        "\n",
        "        for _ in pbar:\n",
        "            # Count all character bigram frequencies\n",
        "            pairs = {}\n",
        "            for word in character_lvl_words:\n",
        "                for pair in zip(word[:-1], word[1:]):\n",
        "                    pairs[pair] = pairs.get(pair, 0) + 1\n",
        "\n",
        "            best_prob = float('-inf')\n",
        "            best_pair = None\n",
        "            best_merged = None\n",
        "\n",
        "            # Get the top frequent pairs for evaluation\n",
        "            common_pairs = Counter(pairs).most_common(likeli_iteration)\n",
        "\n",
        "            inner_pbar = tqdm(common_pairs, desc=\"Evaluating pairs\", leave=False)\n",
        "\n",
        "            for pair, freq in inner_pbar:\n",
        "                if freq > freq_limit:\n",
        "                    pair_str = ' '.join(pair)\n",
        "\n",
        "                    # Merge candidate pair in all words\n",
        "                    merged = self._merge(character_lvl_words, pair_str)\n",
        "\n",
        "                    # Compute entropy change\n",
        "                    prob_dif = self._log_likelihood_entropy(character_lvl_words, merged)\n",
        "\n",
        "                    # Update best merge based on entropy gain\n",
        "                    if prob_dif > best_prob:\n",
        "                        best_prob = prob_dif\n",
        "                        best_pair = pair\n",
        "                        best_merged = merged\n",
        "\n",
        "                inner_pbar.set_postfix({\"Best pair\": best_pair, \"Δ log-likelihood\": f\"{best_prob:.4f}\"})\n",
        "\n",
        "            if best_pair is None:\n",
        "                break  # Stop if no improvement\n",
        "\n",
        "            character_lvl_words = best_merged\n",
        "\n",
        "            if save_path:\n",
        "                np.save('/content/WordPiececharacter_lvl_words.npy', np.array(character_lvl_words, dtype=object))\n",
        "                # Optionally copy the saved file to another location\n",
        "                # !cp '/content/WordPiececharacter_lvl_words.npy' save_path\n",
        "\n",
        "            pbar.set_description(f\"Best pair: {best_pair}, Δ log-likelihood: {best_prob:.4f}\")\n",
        "\n",
        "        # Apply WordPiece prefixes\n",
        "        tokens = self._add_wordpiece_prefixes(character_lvl_words)\n",
        "        flat_tokens = [tok for word in tokens for tok in word]\n",
        "        self.tokens = sorted(set(flat_tokens))\n",
        "\n",
        "        # Add special tokens for BERT-style models\n",
        "        for special in ['.', '[CLS]', '[SEP]', '[UNK]', '[MASK]', '[PAD]']:\n",
        "            self.tokens.insert(0, special)\n",
        "\n",
        "        # Create lookup dictionaries for token-to-index and index-to-token\n",
        "        self.stoi = {ch: i for i, ch in enumerate(self.tokens)}\n",
        "        self.itos = {i: ch for i, ch in enumerate(self.tokens)}\n",
        "\n",
        "    def preprocess_text(self):\n",
        "        \"\"\"\n",
        "        Clean and structure the text into a suitable format for training or evaluation.\n",
        "        Splits long sentences, handles poetic structure, and tokenizes the result.\n",
        "        \"\"\"\n",
        "        _, cleaned_text = self._clean_text(self.text)\n",
        "\n",
        "        new_text = []\n",
        "        for item in cleaned_text:\n",
        "            item = item.replace('\\n', ' ')\n",
        "            if len(item.split()) > 50:\n",
        "                new_text.append(self._split_poetic_text(item)[0])\n",
        "            else:\n",
        "                new_text.append(item)\n",
        "\n",
        "        max_len = 90\n",
        "        i = 0\n",
        "        pbar = tqdm(total=len(new_text), desc=\"Merging Sentences\")\n",
        "        while i < len(new_text) - 1:\n",
        "            if len(new_text[i].split()) > max_len:\n",
        "                new_text[i] = ' '.join(new_text[i].split()[:max_len])\n",
        "                i += 1\n",
        "                pbar.update(1)\n",
        "                continue\n",
        "\n",
        "            merged = new_text[i] + ' . ' + new_text[i + 1]\n",
        "            if len(merged.split()) > max_len:\n",
        "                i += 1\n",
        "                pbar.update(1)\n",
        "                continue\n",
        "\n",
        "            new_text[i] = merged\n",
        "            del new_text[i + 1]\n",
        "            # No need to increment i here, because we might be able to merge again\n",
        "\n",
        "            pbar.update(1)\n",
        "\n",
        "        pbar.close()\n",
        "\n",
        "        new_text = new_text[:-1]\n",
        "\n",
        "        self.tokenized_text = []\n",
        "        for idx, item in tqdm(enumerate(new_text), total=len(new_text), desc=\"Tokenizing\"):\n",
        "            tokens = [self._tokenize_string(word, self.tokens) for word in item.split()]\n",
        "            self.tokenized_text.append([tok for sublist in tokens for tok in sublist])\n",
        "\n",
        "    def _merge(self, words, pair_str):\n",
        "        \"\"\"\n",
        "        Merge a specified character pair throughout all tokenized words.\n",
        "        \"\"\"\n",
        "        a, b = pair_str.split()\n",
        "        new_words = []\n",
        "\n",
        "        for word in words:\n",
        "            i = 0\n",
        "            new_word = []\n",
        "            while i < len(word):\n",
        "                if i < len(word) - 1 and word[i] == a and word[i + 1] == b:\n",
        "                    new_word.append(a + b)\n",
        "                    i += 2\n",
        "                else:\n",
        "                    new_word.append(word[i])\n",
        "                    i += 1\n",
        "            new_words.append(new_word)\n",
        "\n",
        "        return new_words\n",
        "\n",
        "    def _add_wordpiece_prefixes(self, token_list):\n",
        "        \"\"\"\n",
        "        Add WordPiece continuation prefixes (##) to all subword tokens except the first in each word.\n",
        "        \"\"\"\n",
        "        result = []\n",
        "        for word in token_list:\n",
        "            if not word:\n",
        "                continue\n",
        "            result.append([word[0]] + ['##' + t for t in word[1:]])\n",
        "        return result\n",
        "\n",
        "    def _log_likelihood_entropy(self, before, after):\n",
        "        \"\"\"\n",
        "        Compute change in token entropy (Δ entropy = before - after).\n",
        "        \"\"\"\n",
        "        def entropy(counts):\n",
        "            probs = counts / counts.sum()\n",
        "            return -np.sum(probs * np.log(probs + 1e-12))  # small epsilon for stability\n",
        "\n",
        "        flat_before = [token for word in before for token in word]\n",
        "        flat_after = [token for word in after for token in word]\n",
        "\n",
        "        before_counts = np.array(list(Counter(flat_before).values()), dtype=np.float64)\n",
        "        after_counts = np.array(list(Counter(flat_after).values()), dtype=np.float64)\n",
        "\n",
        "        return entropy(before_counts) - entropy(after_counts)\n",
        "\n",
        "    def _clean_text(self, text):\n",
        "        \"\"\"\n",
        "        Clean the input text:\n",
        "        - Remove metadata (e.g. speaker tags)\n",
        "        - Split into sentences\n",
        "        - Keep only sentences with more than 3 words\n",
        "        \"\"\"\n",
        "        pattern = r'^.*?:.*$\\n?'\n",
        "        cleaned = re.sub(pattern, '', text, flags=re.MULTILINE)\n",
        "\n",
        "        pattern = r'[.?!]\\s*'\n",
        "        sentences = re.split(pattern, cleaned)\n",
        "\n",
        "        words = [s.split() for s in sentences if len(s.split()) > 3]\n",
        "        sentences = [s for s in sentences if len(s.split()) > 3]\n",
        "\n",
        "        return words, sentences\n",
        "\n",
        "    def _tokenize_string(self, word, tokens_list, unk_token='[UNK]'):\n",
        "        \"\"\"\n",
        "        Tokenize a single word using the WordPiece vocabulary.\n",
        "        Uses longest-match-first strategy.\n",
        "        \"\"\"\n",
        "        tokenized = []\n",
        "        start = 0\n",
        "\n",
        "        while start < len(word):\n",
        "            end = len(word)\n",
        "            matched = None\n",
        "\n",
        "            while start < end:\n",
        "                substr = word[start:end]\n",
        "                if start > 0:\n",
        "                    substr = \"##\" + substr\n",
        "                if substr in tokens_list:\n",
        "                    matched = substr\n",
        "                    break\n",
        "                end -= 1\n",
        "\n",
        "            if matched is None:\n",
        "                tokenized.append(unk_token)\n",
        "                break\n",
        "\n",
        "            tokenized.append(matched)\n",
        "            start = end if matched.startswith(\"##\") else len(matched)\n",
        "\n",
        "        return tokenized\n",
        "\n",
        "    def decode_word_piece(self, string, tokens, unk_token='[UNK]'):\n",
        "        \"\"\"\n",
        "        Encode a word to token IDs using WordPiece vocabulary.\n",
        "        \"\"\"\n",
        "        tokenized = self._tokenize_string(string, tokens)\n",
        "        return [self.stoi[item] if item in self.stoi else self.stoi[unk_token] for item in tokenized]\n",
        "\n",
        "    def encode_word_piece(self, ids):\n",
        "        \"\"\"\n",
        "        Convert a list of token IDs back to a string (removing ## prefixes).\n",
        "        \"\"\"\n",
        "        tokens = [self.itos[item] for item in ids]\n",
        "        return ''.join([tok if not tok.startswith('##') else tok[2:] for tok in tokens])\n",
        "\n",
        "    def _split_poetic_text(self, text, max_words=40, min_words=10):\n",
        "        \"\"\"\n",
        "        Split long poetic text by commas and semicolons into shorter segments.\n",
        "        \"\"\"\n",
        "        clauses = re.split(r'(?<=[,;])\\s+', text)\n",
        "\n",
        "        segments = []\n",
        "        current = []\n",
        "\n",
        "        for clause in clauses:\n",
        "            current.append(clause.strip())\n",
        "            word_count = sum(len(part.split()) for part in current)\n",
        "\n",
        "            if word_count >= max_words or (\n",
        "                word_count >= min_words and clause.strip().endswith((',', ';'))\n",
        "            ):\n",
        "                segments.append(' '.join(current).strip())\n",
        "                current = []\n",
        "\n",
        "        if current:\n",
        "            segments.append(' '.join(current).strip())\n",
        "\n",
        "        return segments"
      ],
      "metadata": {
        "id": "yfAqp2jtBBiK"
      },
      "execution_count": null,
      "outputs": []
    },
    {
      "cell_type": "code",
      "source": [
        "tokenizer = WordPiece(text)"
      ],
      "metadata": {
        "id": "sFKImde8C7UY"
      },
      "execution_count": null,
      "outputs": []
    },
    {
      "cell_type": "code",
      "source": [
        "tokenizer.train(\n",
        "    num_iteration=1000-999,\n",
        "    likeli_iteration=30,\n",
        "    load_char_lvl='/content/drive/MyDrive/LLM/WikiWordPiececharacter_lvl_words.npy'\n",
        ")"
      ],
      "metadata": {
        "colab": {
          "base_uri": "https://localhost:8080/",
          "height": 49,
          "referenced_widgets": [
            "7b4f7c22a56a4fbdb6044a50053b0784",
            "7af317ad00084daa9f3488a4a7f76d72",
            "de2123665e7b4dc7ab245a1ba5d5ea0c",
            "6e86cfc297994ab197cacaf1e6418138",
            "623e4204f81c43ee9a0915c1fee4c63b",
            "15bffcc797bc4aa183b8cf4a0114054f",
            "b32cd6d0859f4c71be57893f8784dcb6",
            "9abf5d33d5044bf7967c575729eeff94",
            "795d9c91eab14083a94a396383a14a2e",
            "deb56baebfed48269f43dc5d519765a2",
            "acbd049dda3d43b4935576d90e0ef6d2",
            "b33b1caf306c449fb721eee484eedff8",
            "64cba6db6f12405195c376961f0a41ed",
            "e54fd97164044822a23fdf73f0a44bda",
            "8b2986fb295d41ec8f94d9c739e6bdc7",
            "a743595af3dd4974940125b67c94b4d8",
            "cbcedbef62b74eef929419c3e6901618",
            "bae7c96323924004865119c366ce9393",
            "ed25f14b7a274d718613bf6da15cc3de",
            "5a9f4e5f36954a989fdfd7e7b47d6a1f",
            "2e33a33be1ab47f894bc2552c38a6238",
            "7cd4545b60874083a6a0ee9a7c5ead77"
          ]
        },
        "id": "wE4smqwqC5rI",
        "outputId": "a6bdc6ba-a2e2-4c0b-de38-3f678b325bc9"
      },
      "execution_count": null,
      "outputs": [
        {
          "output_type": "display_data",
          "data": {
            "text/plain": [
              "Outer loop progress:   0%|          | 0/1 [00:00<?, ?it/s]"
            ],
            "application/vnd.jupyter.widget-view+json": {
              "version_major": 2,
              "version_minor": 0,
              "model_id": "7b4f7c22a56a4fbdb6044a50053b0784"
            }
          },
          "metadata": {}
        },
        {
          "output_type": "display_data",
          "data": {
            "text/plain": [
              "Evaluating pairs:   0%|          | 0/30 [00:00<?, ?it/s]"
            ],
            "application/vnd.jupyter.widget-view+json": {
              "version_major": 2,
              "version_minor": 0,
              "model_id": "b33b1caf306c449fb721eee484eedff8"
            }
          },
          "metadata": {}
        }
      ]
    },
    {
      "cell_type": "code",
      "source": [
        "print('Number of tokens: ', len(tokenizer.tokens))\n",
        "print('First 7 tokens: ', tokenizer.tokens[:7])"
      ],
      "metadata": {
        "colab": {
          "base_uri": "https://localhost:8080/"
        },
        "id": "YfPJjg-LFmbP",
        "outputId": "cf55c8b9-c0c8-489d-afa6-9a536c983087"
      },
      "execution_count": null,
      "outputs": [
        {
          "output_type": "stream",
          "name": "stdout",
          "text": [
            "Number of tokens:  2087\n",
            "First 7 tokens:  ['[PAD]', '[MASK]', '[UNK]', '[SEP]', '[CLS]', '.', '##,']\n"
          ]
        }
      ]
    },
    {
      "cell_type": "code",
      "source": [
        "# Let's test the decoder-encoder\n",
        "ids = tokenizer.decode_word_piece('hello!', tokenizer.tokens)\n",
        "print(ids, '-->', [tokenizer.itos[id] for id in ids])\n",
        "\n",
        "tokenizer.encode_word_piece(ids)"
      ],
      "metadata": {
        "colab": {
          "base_uri": "https://localhost:8080/",
          "height": 50
        },
        "id": "lEP5tXJBGzbg",
        "outputId": "72a50642-a2a2-49dc-899c-a0aefbd623bb"
      },
      "execution_count": null,
      "outputs": [
        {
          "output_type": "stream",
          "name": "stdout",
          "text": [
            "[1554, 344, 574, 2] --> ['h', '##el', '##lo', '[UNK]']\n"
          ]
        },
        {
          "output_type": "execute_result",
          "data": {
            "text/plain": [
              "'hello[UNK]'"
            ],
            "application/vnd.google.colaboratory.intrinsic+json": {
              "type": "string"
            }
          },
          "metadata": {},
          "execution_count": 12
        }
      ]
    },
    {
      "cell_type": "code",
      "source": [
        "tokenizer.preprocess_text()"
      ],
      "metadata": {
        "id": "r-FGaUOaHDgR",
        "colab": {
          "base_uri": "https://localhost:8080/",
          "height": 81,
          "referenced_widgets": [
            "72b7f28cdebc416aa0dd19c4028ff865",
            "2d1ace5f2d314af1b2b11b96cb739f98",
            "49a0b818567b43b399e405c792344b80",
            "e759a065c1674d009075129b81eb695e",
            "6bb2f63ca17b4b58b322f4cc36dd8099",
            "bf826492d5e14d7a9607ebf8e6da6652",
            "be7d56e0645849218baca227c30e8477",
            "851893e548064daf87c4a1a9039ca71d",
            "91fed44383db4a49a7bf8c2f71819e29",
            "9a0bdb62ecf842c0a836c67c804375a0",
            "3748dd78dce141499f104f149c7020d8",
            "2f88eff44b19495e80370969a4ed5834",
            "e313049ed1a04c269c9b799254c144fd",
            "1744770f7ba340e398c71a683748a3d7",
            "6cb6889fccab46be80046c2f38f3410e",
            "0a2f68bd657a46d5b410ae6dd5aca304",
            "a7b7bca51fc74ca3958cf953b9e62491",
            "45453088fa2f4f01a56ebcd8c05c9311",
            "7576d253e1264c079db7b974d8a71cdc",
            "11475eb4027f4c3c8ddc0d842cef8c43",
            "66cafb8c28204b6bbdcb119904f789d5",
            "2f313ec8bd324e42b49b4f7c980f66c0"
          ]
        },
        "outputId": "f4baac08-55a8-46ae-e1c9-01f21dd035a0"
      },
      "execution_count": null,
      "outputs": [
        {
          "output_type": "display_data",
          "data": {
            "text/plain": [
              "Merging Sentences:   0%|          | 0/26174 [00:00<?, ?it/s]"
            ],
            "application/vnd.jupyter.widget-view+json": {
              "version_major": 2,
              "version_minor": 0,
              "model_id": "72b7f28cdebc416aa0dd19c4028ff865"
            }
          },
          "metadata": {}
        },
        {
          "output_type": "display_data",
          "data": {
            "text/plain": [
              "Tokenizing:   0%|          | 0/6992 [00:00<?, ?it/s]"
            ],
            "application/vnd.jupyter.widget-view+json": {
              "version_major": 2,
              "version_minor": 0,
              "model_id": "2f88eff44b19495e80370969a4ed5834"
            }
          },
          "metadata": {}
        }
      ]
    },
    {
      "cell_type": "code",
      "source": [
        "tokenizer.tokenized_text[0][:10]"
      ],
      "metadata": {
        "colab": {
          "base_uri": "https://localhost:8080/"
        },
        "id": "eX0G_aZaJN7e",
        "outputId": "251f24d4-2e74-4fbe-f61f-bfc4eeb650ba"
      },
      "execution_count": null,
      "outputs": [
        {
          "output_type": "execute_result",
          "data": {
            "text/plain": [
              "['X', '##y', '##l', '##e', '##bor', '##us', 'i', '##n', '##tru', '##su']"
            ]
          },
          "metadata": {},
          "execution_count": 14
        }
      ]
    },
    {
      "cell_type": "markdown",
      "source": [
        "## **Create dataset**\n",
        "\n",
        "|Term | Role|\n",
        "|-----|-----|\n",
        "|attention_mask | Tells the model which tokens are real (1) and which are padding (0).|\n",
        "|target_ids | Tells the loss function which tokens to compute loss on (-100 ignored).|\n",
        "\n",
        "<br>\n",
        "\n",
        "- Attention mask helps the model focus.\n",
        "- -100 mask helps loss computation focus."
      ],
      "metadata": {
        "id": "jappIpEsJ4u0"
      }
    },
    {
      "cell_type": "code",
      "source": [
        "VOCAB_SIZE = len(tokenizer.stoi)\n",
        "MAX_LEN = len(max(tokenizer.tokenized_text, key=len))\n",
        "BATCH_SIZE = 64\n",
        "LR = 1e-4\n",
        "EPOCHS = 1000\n",
        "EVAL_INTERVAL = 2\n",
        "EVAL_ITER = 5\n",
        "N_EMBD = 256\n",
        "N_HEAD = 8\n",
        "NUM_BLOCK = 12\n",
        "device = 'cuda' if torch.cuda.is_available() else 'cpu'"
      ],
      "metadata": {
        "id": "tmr5uzZ5J1KX"
      },
      "execution_count": null,
      "outputs": []
    },
    {
      "cell_type": "code",
      "source": [
        "len(max(tokenizer.tokenized_text, key=len))"
      ],
      "metadata": {
        "colab": {
          "base_uri": "https://localhost:8080/"
        },
        "id": "jNIpySvaU7iv",
        "outputId": "e11baf1f-0d55-41c8-82ee-eaa8b49f5e21"
      },
      "execution_count": null,
      "outputs": [
        {
          "output_type": "execute_result",
          "data": {
            "text/plain": [
              "323"
            ]
          },
          "metadata": {},
          "execution_count": 16
        }
      ]
    },
    {
      "cell_type": "code",
      "source": [
        "from torch.utils.data import TensorDataset, random_split\n",
        "\n",
        "class BertDataset():\n",
        "    def __init__(self, tokenized_text, stoi, MASK_TOKEN = '[MASK]', PAD_TOKEN = '[PAD]'):\n",
        "\n",
        "        self.tokenized_text = tokenized_text\n",
        "        self.stoi = stoi\n",
        "        self.MASK_ID = self.stoi[MASK_TOKEN]\n",
        "        self.PAD_ID = self.stoi[PAD_TOKEN]\n",
        "        self.input_ids = []\n",
        "        self.attention_masks = []\n",
        "        self.labels = []\n",
        "\n",
        "    def preprocess(self):\n",
        "\n",
        "        for token_list in tqdm(self.tokenized_text):  # tokenized_data is a list of token lists\n",
        "            ids = [self.stoi[token] if token in self.stoi else self.stoi['[UNK]'] for token in token_list]\n",
        "            padded = self._pad_sequence(ids, MAX_LEN)\n",
        "            masked_input, labels = self._apply_mlm_masking(padded.copy())  # copy to preserve original ids\n",
        "            attention_mask = self._create_attention_mask(padded)\n",
        "\n",
        "            self.input_ids.append(masked_input)\n",
        "            self.labels.append(labels)\n",
        "            self.attention_masks.append(attention_mask)\n",
        "\n",
        "        ids, labels, attention_masks = torch.tensor(self.input_ids), torch.tensor(self.labels), torch.tensor(self.attention_masks)\n",
        "\n",
        "        return torch.stack([ids, labels, attention_masks])\n",
        "\n",
        "    def split(self, data, batch_s=BATCH_SIZE):\n",
        "\n",
        "        print('Splitting dataset into Train and Test sets...')\n",
        "        ids, labels, attention_masks = data[0], data[1], data[2]\n",
        "\n",
        "        dataset = TensorDataset(ids, labels, attention_masks)\n",
        "\n",
        "        train_size = int(0.9 * len(dataset))\n",
        "        val_size = int(0.1 * len(dataset))\n",
        "        test_size = len(dataset) - train_size - val_size\n",
        "\n",
        "        train_dataset, val_dataset, test_dataset = random_split(dataset, [train_size, val_size, test_size])\n",
        "        self.train_loader = DataLoader(train_dataset, batch_size=BATCH_SIZE, shuffle=True, collate_fn=self.preprocess)\n",
        "        self.val_loader = DataLoader(val_dataset, batch_size=BATCH_SIZE, collate_fn=self.preprocess)\n",
        "        self.test_loader = DataLoader(test_dataset, batch_size=BATCH_SIZE, collate_fn=self.preprocess)\n",
        "\n",
        "\n",
        "\n",
        "    def get_batch(self, split='train', device=device):\n",
        "\n",
        "        if split == 'train':\n",
        "            return self.train_loader\n",
        "        elif split == 'val':\n",
        "            return self.val_loader\n",
        "        elif split == 'test':\n",
        "            return self.test_loader\n",
        "        else:\n",
        "            raise ValueError(f\"Invalid split: {split}\")\n",
        "\n",
        "    def _pad_sequence(self, token_ids, max_len):\n",
        "        return token_ids + [self.PAD_ID] * (max_len - len(token_ids))\n",
        "\n",
        "    def _create_attention_mask(self, padded_ids):\n",
        "        # Which is necessary for attention score calculation\n",
        "        # By setting score to -∞, softmax gives them ~0 attention.\n",
        "        return [1 if token_id != self.PAD_ID else 0 for token_id in padded_ids]\n",
        "\n",
        "    def _apply_mlm_masking(self, input_ids, vocab_size=VOCAB_SIZE):\n",
        "\n",
        "        ignore_ids={self.PAD_ID, self.stoi['[CLS]'], self.stoi['[SEP]']}\n",
        "        labels = [-100] * len(input_ids)  # -100 to ignore in loss\n",
        "        for i in range(len(input_ids)):\n",
        "            if input_ids[i] in ignore_ids:\n",
        "                continue\n",
        "            if random.random() < 0.15:\n",
        "                labels[i] = input_ids[i]  # Save the true label\n",
        "                prob = random.random()\n",
        "                if prob < 0.8:\n",
        "                    input_ids[i] = self.MASK_ID\n",
        "                elif prob < 0.9:\n",
        "                    input_ids[i] = random.randint(0, vocab_size - 1)\n",
        "                # else: keep original token\n",
        "\n",
        "        return input_ids, labels"
      ],
      "metadata": {
        "id": "oGjH7_Y1J8Ep"
      },
      "execution_count": null,
      "outputs": []
    },
    {
      "cell_type": "code",
      "source": [
        "dataset = BertDataset(\n",
        "    tokenizer.tokenized_text,\n",
        "    tokenizer.stoi\n",
        ")"
      ],
      "metadata": {
        "id": "GxHknreELvRl"
      },
      "execution_count": null,
      "outputs": []
    },
    {
      "cell_type": "code",
      "source": [
        "data = dataset.preprocess()"
      ],
      "metadata": {
        "colab": {
          "base_uri": "https://localhost:8080/",
          "height": 49,
          "referenced_widgets": [
            "4960c489d06f47e596279cbe58a1c874",
            "a74e636041e144689f6923d33b304183",
            "7f6fc043625b4242934ed8e0d1fad361",
            "576f24d6acfc4c49a8f7eacc23258204",
            "d9d29bdc26014786920dcc4cd9f879da",
            "ee4ec579b2694507af190b7ecf52ef2c",
            "88f6d75767f849d192ea098420a7f40d",
            "c5cca4dc6b7b490f8c35d0f05f91f287",
            "2ed74382371140f0bab85ef85206b098",
            "14f1b57651dd493cb86f7e158ccae5f7",
            "722d4d9ed99d45fd93a7b408cb568d66"
          ]
        },
        "id": "vE099dZHNT3J",
        "outputId": "f1e00a3e-29f2-4f27-9a18-ec91d74bc832"
      },
      "execution_count": null,
      "outputs": [
        {
          "output_type": "display_data",
          "data": {
            "text/plain": [
              "  0%|          | 0/6992 [00:00<?, ?it/s]"
            ],
            "application/vnd.jupyter.widget-view+json": {
              "version_major": 2,
              "version_minor": 0,
              "model_id": "4960c489d06f47e596279cbe58a1c874"
            }
          },
          "metadata": {}
        }
      ]
    },
    {
      "cell_type": "code",
      "source": [
        "dataset.split(data)"
      ],
      "metadata": {
        "colab": {
          "base_uri": "https://localhost:8080/"
        },
        "id": "YzqwYJhnNiyX",
        "outputId": "72293e7d-bdb3-43bd-9d9d-aca116eae364"
      },
      "execution_count": null,
      "outputs": [
        {
          "output_type": "stream",
          "name": "stdout",
          "text": [
            "Splitting dataset into Train and Test sets...\n"
          ]
        }
      ]
    },
    {
      "cell_type": "code",
      "source": [
        "class Head(nn.Module):\n",
        "    def __init__(self, n_embd=N_EMBD, h_s=N_HEAD):\n",
        "        super().__init__()\n",
        "        self.device = 'cuda' if torch.cuda.is_available() else 'cpu'\n",
        "\n",
        "        # Linear projections for Q, K, V (no bias for simplicity)\n",
        "        self.query = nn.Linear(n_embd, h_s, bias=False)\n",
        "        self.key = nn.Linear(n_embd, h_s, bias=False)\n",
        "        self.value = nn.Linear(n_embd, h_s, bias=False)\n",
        "\n",
        "        self.drop = nn.Dropout(0.2)\n",
        "\n",
        "    def forward(self, x, attention_mask):\n",
        "        B, T, C = x.shape  # Batch, Length of sequence, Embedding size\n",
        "        q = self.query(x)  # (B, T, h_s)\n",
        "        k = self.key(x)\n",
        "        v = self.value(x)\n",
        "\n",
        "        wei = (q @ k.transpose(-1, -2)) * (C ** -0.5)   # Scaled dot-product attention\n",
        "\n",
        "        mask = attention_mask.unsqueeze(1)  # (B, 1, T)\n",
        "        wei = wei.masked_fill(mask == 0, float('-inf')) # By setting score to -∞ for padding tokens(=0), softmax gives them ~0 attention.\n",
        "        # Apply softmax + dropout\n",
        "        wei = self.drop(F.softmax(wei, dim=-1))  # (B, T, T)\n",
        "\n",
        "        # Weighted sum of value vectors\n",
        "        return wei @ v  # (B, T, h_s)"
      ],
      "metadata": {
        "id": "b9QcVlPxN-Q4"
      },
      "execution_count": null,
      "outputs": []
    },
    {
      "cell_type": "code",
      "source": [
        "class MultiHead(nn.Module):\n",
        "    def __init__(self, n_embd=N_EMBD, n_h=N_HEAD):\n",
        "        super().__init__()\n",
        "        # Create n_h attention heads\n",
        "        self.multi_head = nn.ModuleList([\n",
        "            Head(n_embd, n_embd // n_h) for _ in range(n_h)\n",
        "        ])\n",
        "\n",
        "        # Output projection layer to mix heads\n",
        "        self.proj = nn.Linear(n_embd, n_embd)\n",
        "        self.drop = nn.Dropout(0.2)\n",
        "\n",
        "    def forward(self, x, attention_mask):\n",
        "        # Apply all attention heads and concatenate their outputs\n",
        "        x = torch.cat([head(x, attention_mask) for head in self.multi_head], dim=-1)\n",
        "        return self.drop(self.proj(x))"
      ],
      "metadata": {
        "id": "YxAV37jbOAUf"
      },
      "execution_count": null,
      "outputs": []
    },
    {
      "cell_type": "code",
      "source": [
        "class FeedForward(nn.Module):\n",
        "    def __init__(self, in_channel):\n",
        "        super().__init__()\n",
        "        self.layer = nn.Sequential(\n",
        "            nn.Linear(in_channel, in_channel * 4),  # Expand\n",
        "            nn.GELU(),\n",
        "            nn.Linear(in_channel * 4, in_channel),  # Reduce\n",
        "            nn.Dropout(0.2)\n",
        "        )\n",
        "\n",
        "    def forward(self, x):\n",
        "        return self.layer(x)"
      ],
      "metadata": {
        "id": "a5u0E0UDOB7I"
      },
      "execution_count": null,
      "outputs": []
    },
    {
      "cell_type": "code",
      "source": [
        "class TransformerBlock(nn.Module):\n",
        "    def __init__(self, n_embd=N_EMBD, n_h=N_HEAD):\n",
        "        super().__init__()\n",
        "        self.attention_heads = MultiHead(n_embd, n_h)\n",
        "        self.layer_norm1 = nn.LayerNorm(n_embd)\n",
        "        self.feed_forward = FeedForward(n_embd)\n",
        "        self.layer_norm2 = nn.LayerNorm(n_embd)\n",
        "\n",
        "    def forward(self, x, attention_mask):\n",
        "        # Residual + LayerNorm + Attention\n",
        "        x = x + self.attention_heads(self.layer_norm1(x), attention_mask)\n",
        "        # Residual + LayerNorm + FFN\n",
        "        x = x + self.feed_forward(self.layer_norm2(x))\n",
        "        return x"
      ],
      "metadata": {
        "id": "KKiWmfosODat"
      },
      "execution_count": null,
      "outputs": []
    },
    {
      "cell_type": "code",
      "source": [
        "class BERT(nn.Module):\n",
        "    def __init__(self, loss_fn, vocab_size=VOCAB_SIZE, char_length=MAX_LEN, n_embd=N_EMBD,\n",
        "                 n_h=N_HEAD, num_block=8):\n",
        "        super().__init__()\n",
        "        self.device = 'cuda' if torch.cuda.is_available() else 'cpu'\n",
        "        self.char_length = char_length\n",
        "        self.loss_fn = loss_fn\n",
        "\n",
        "        # Token and positional embeddings\n",
        "        self.token_embedding_table = nn.Embedding(vocab_size, n_embd)\n",
        "        self.pos_embedding_table = nn.Embedding(char_length, n_embd)\n",
        "\n",
        "        # Stack of transformer blocks\n",
        "        self.transformerblock = nn.ModuleList([\n",
        "            TransformerBlock(n_embd, n_h) for _ in range(num_block)\n",
        "        ])\n",
        "\n",
        "        self.norm_layer = nn.LayerNorm(n_embd)\n",
        "        self.lm_head = nn.Linear(n_embd, vocab_size)  # Final classifier\n",
        "        self.to(self.device)\n",
        "\n",
        "    def forward(self, input, att_mask, target=None):\n",
        "        input, att_mask, target = input.to(self.device), att_mask.to(self.device), target.to(self.device)\n",
        "        B, T = input.shape\n",
        "\n",
        "        # Lookup embeddings\n",
        "        token_embd = self.token_embedding_table(input)       # (B, T, N_EMBD)\n",
        "        positional_embd = self.pos_embedding_table(torch.arange(T, device=self.device))  # (T, N_EMBD)\n",
        "\n",
        "        x = token_embd + positional_embd  # (B, T, N_EMBD)\n",
        "\n",
        "        # Apply transformer blocks\n",
        "        for layer in self.transformerblock:\n",
        "            x = layer(x, att_mask)\n",
        "\n",
        "        # Final normalization + logits\n",
        "        x = self.norm_layer(x)\n",
        "        logits = self.lm_head(x)  # (B, T, VOCAB_SIZE)\n",
        "\n",
        "        if target is None:\n",
        "            return logits\n",
        "\n",
        "        # Flatten for loss computation\n",
        "        logits = logits.view(B * T, -1)\n",
        "        target = target.view(-1)\n",
        "        loss = self.loss_fn(logits, target)\n",
        "\n",
        "        return logits, loss"
      ],
      "metadata": {
        "id": "FIVzhPwuOE2V"
      },
      "execution_count": null,
      "outputs": []
    },
    {
      "cell_type": "code",
      "source": [
        "@torch.no_grad()  # Disables gradient calculation to save memory and improve inference speed (no backprop during evaluation)\n",
        "def calc_loss(split, model, iter_num, device):\n",
        "    # Initialize a tensor to store loss values for each iteration\n",
        "    losses = torch.zeros(iter_num)\n",
        "\n",
        "    # Set the model to evaluation mode (disables dropout, layer norm uses running stats, etc.)\n",
        "    model.eval()\n",
        "\n",
        "    # Run the evaluation loop for the given number of iterations\n",
        "    for i, (x, y, att_mask) in zip(range(iter_num), dataset.get_batch(split=split, device=device)):\n",
        "\n",
        "        # Get the model output and compute the loss (no gradients)\n",
        "        out, loss = model(x, att_mask, y)\n",
        "\n",
        "        # Store the scalar loss value\n",
        "        losses[i] = loss.item()\n",
        "\n",
        "    # Return the model to training mode (enables dropout, etc.)\n",
        "    model.train()\n",
        "\n",
        "    # Return the mean loss across all iterations as a float\n",
        "    return losses.mean().item()"
      ],
      "metadata": {
        "id": "UtYxHQPpOGJ_"
      },
      "execution_count": null,
      "outputs": []
    },
    {
      "cell_type": "code",
      "source": [
        "def train_mode(model, optim, opt_schedul, epochs, eval_interval,\n",
        "               eval_iter, device, patience=5, model_path=None):\n",
        "\n",
        "    if model_path:\n",
        "        checkpoint = torch.load(model_path, map_location=device)\n",
        "        model.load_state_dict(checkpoint['model_state_dict'])\n",
        "        optim.load_state_dict(checkpoint['optimizer_state_dict'])\n",
        "        opt_schedul.load_state_dict(checkpoint['lr_sched_state_dict'])\n",
        "\n",
        "    train_losses = []\n",
        "    val_losses = []\n",
        "    best_val_loss = float('inf')\n",
        "    epochs_no_improve = 0\n",
        "\n",
        "    outer_pbar = tqdm(range(epochs), desc=\"Epochs\")\n",
        "\n",
        "    for epoch in outer_pbar:\n",
        "        # === Prepare inner progress bar with batches ===\n",
        "        batch_iter = list(dataset.get_batch(split='train', device=device))\n",
        "        inner_pbar = tqdm(batch_iter, desc=f\"Epoch {epoch+1}\", leave=False)\n",
        "\n",
        "        for x, y, att_mask in inner_pbar:\n",
        "            model.train()\n",
        "            logits, loss = model(x, att_mask, y)\n",
        "            train_loss = loss.item()\n",
        "\n",
        "            optim.zero_grad(set_to_none=True)\n",
        "            loss.backward()\n",
        "            torch.nn.utils.clip_grad_norm_(model.parameters(), 1.0)\n",
        "            optim.step()\n",
        "\n",
        "            inner_pbar.set_postfix(train_loss=f\"{train_loss:.4f}\")\n",
        "\n",
        "        opt_schedul.step()\n",
        "\n",
        "        # === Evaluate ===\n",
        "        if (epoch + 1) % eval_interval == 0:\n",
        "            train_eval = calc_loss('train', model, eval_iter, device)\n",
        "            val_eval = calc_loss('val', model, eval_iter, device)\n",
        "\n",
        "            train_losses.append(train_eval)\n",
        "            val_losses.append(val_eval)\n",
        "\n",
        "            outer_pbar.set_description(\n",
        "                f\"Train: {train_eval:.4f} | Val: {val_eval:.4f} | LR: {optim.param_groups[0]['lr']:.6f}\"\n",
        "            )\n",
        "\n",
        "            if val_eval < best_val_loss:\n",
        "                best_val_loss = val_eval\n",
        "                epochs_no_improve = 0\n",
        "                # Save best model\n",
        "                torch.save({\n",
        "                    'model_state_dict': model.state_dict(),\n",
        "                    'optimizer_state_dict': optim.state_dict(),\n",
        "                    'lr_sched_state_dict': opt_schedul.state_dict()\n",
        "                }, 'checkpoint.pth')\n",
        "            else:\n",
        "                epochs_no_improve += 1\n",
        "\n",
        "                if epochs_no_improve >= patience:\n",
        "                    print(f\"\\n Early stopping at epoch {epoch+1}: val loss stopped improving.\")\n",
        "                    break\n",
        "\n",
        "    return train_losses, val_losses"
      ],
      "metadata": {
        "id": "MzPdsb06OK4y"
      },
      "execution_count": null,
      "outputs": []
    },
    {
      "cell_type": "code",
      "source": [
        "VOCAB_SIZE = len(tokenizer.stoi)\n",
        "MAX_LEN = len(max(tokenizer.tokenized_text, key=len))\n",
        "BATCH_SIZE = 64\n",
        "LR = 1e-3\n",
        "EPOCHS = 40\n",
        "EVAL_INTERVAL = 2\n",
        "EVAL_ITER = 10\n",
        "N_EMBD = 256\n",
        "N_HEAD = 8\n",
        "NUM_BLOCK = 8\n",
        "device = 'cuda' if torch.cuda.is_available() else 'cpu'"
      ],
      "metadata": {
        "id": "iFh4Z0HcQ6Ut"
      },
      "execution_count": null,
      "outputs": []
    },
    {
      "cell_type": "code",
      "source": [
        "loss_fn = nn.CrossEntropyLoss(label_smoothing=0.1, ignore_index=-100)\n",
        "# Instantiate the Transformer-based language model ===\n",
        "model = BERT(\n",
        "    loss_fn = loss_fn,         # Loss function, which ignores -100 in target\n",
        "    vocab_size = VOCAB_SIZE,   # Size of vocabulary (number of unique tokens)\n",
        "    char_length = MAX_LEN,     # Maximum context window (sequence length)\n",
        "    n_embd=N_EMBD,             # Embedding dimension (feature size)\n",
        "    n_h=N_HEAD,                # Number of attention heads\n",
        "    num_block=NUM_BLOCK        # Number of transformer blocks (depth)\n",
        ")\n",
        "\n",
        "# Initialize AdamW optimizer ===\n",
        "optimizer = torch.optim.AdamW(model.parameters(), lr=LR, weight_decay=1e-2)\n",
        "\n",
        "# Learning rate scheduler that decays LR every 100 steps ===\n",
        "opt_schedul = torch.optim.lr_scheduler.StepLR(optimizer, step_size=2, gamma=0.99)"
      ],
      "metadata": {
        "id": "nR-osYsyOQcX"
      },
      "execution_count": null,
      "outputs": []
    },
    {
      "cell_type": "code",
      "source": [],
      "metadata": {
        "id": "Hluj6N4f0trg"
      },
      "execution_count": null,
      "outputs": []
    },
    {
      "cell_type": "code",
      "source": [
        "train_loss, val_loss = train_mode(model, optimizer, opt_schedul,\n",
        "                                  EPOCHS, EVAL_INTERVAL, EVAL_ITER, device = device)"
      ],
      "metadata": {
        "colab": {
          "base_uri": "https://localhost:8080/",
          "height": 82,
          "referenced_widgets": [
            "c9bbc0e190614447ad9df3156817ffbb",
            "6addcf69223e4229a0e9012dedb6f6da",
            "4b3526740e6e454db2638f6ce85898ad",
            "2525d4bd42f4418d92a35f50b095357c",
            "b41925604d3e44c58d1309fdc48727bf",
            "408eae8ddd904b10bdabd36e2d1248b6",
            "c3d16977f8df41a4ac2d233f953c9640",
            "165c97529a7d4c8ebdd4da7fba60cda9",
            "853820b2d83b4b03b1335a01bc7c3766",
            "7cf076a9ac4d4d71b2cc018ccd5a446c",
            "1a137b59a846477cbf42b818f39cb924",
            "de7f3e86c4464bf2a3e83f1c5a7371fa",
            "e9a2cd67931c40ddb84319712ef78528",
            "9fc7d0108231420eb1f52d870c64387e",
            "ab27dc4529504ef8b2dcdf02bc2e2885",
            "d1a9e67dae56408c84ae6830658dd67d",
            "fa1b6b880a1d458eab91bf77583dcd2a",
            "ba098ac37ae44f6fb16fa80d1f501417",
            "ebe704935bd646138ee5f23f3cbbcce8",
            "1c8cbf7ef47845ae9b569984fe1b42a0",
            "69d2a0307f0d4ba5804ceabdd16fef1f",
            "26f3bc5a641f4e329868027ae424448c",
            "ebe0863818514d348daf6dad9b022390",
            "064c41ea180149d9965564583b876a90",
            "553254699aaa481fbbacef86148ab180",
            "bad952d3d41f4223a3dbdbe08a0786c9",
            "22fe122210d8422eb5c06483525994fd",
            "afd0a22962e048f7a03de39091698556",
            "6202d33dda5340daa90a81c731c2f885",
            "830f452a106442deb9dabd71abcce711",
            "dccc3c9693ad4c80b1f08a1ed3f586c6",
            "d976938ce021476f8613252072e7fdc3",
            "2ee17f6726724169af1d85899cdbdc02",
            "b6cc778f822c4860ae44769bc95af2e5",
            "b6cab8adcdc24f0d9d5bb5e55ebe2f84",
            "eecc42dd39914bd0baaffdab1a2383ad",
            "9e7b2e6e4c67469487392e0446a7f26e",
            "0efb33c44fea4d69bad60cb8669726d8",
            "15fb7191e0bf4edd8bfd9c51f34d2e20",
            "0dec078eb1cb4442a92e560272e17d16",
            "f100ffb72ea746379805eb01c1358c3c",
            "5784b8b14fb5451082eb5d05b7137863",
            "69d5291fb1fb4b1390616a56f944ec3a",
            "0f09cf52966c4e8391cdd243c3d976f8",
            "1de33346f5d1457caa6fb82b2fd5bc67",
            "d247ae42579843edb3731fb2cfc6eedc",
            "e1d9b916691f47b0be94c41dca1f15cc",
            "5ac9db0ad11447788a7665daeb4bed27",
            "06b8cb8805464afb953e755c71d5cad1",
            "943330e458864a20b9c5b0539883c64c",
            "498a68831d654cd793d1d587a067b48f",
            "d09ac28eb76c4cae9ae95bbf7d31d0d8",
            "4c84fe4b47ea4599859a4a1a91d121b1",
            "3d9706caa2554b40b6ee5ef091f81e8c",
            "4202cf8e01b34088a3e30bb337a97865",
            "7f204930fc164da6949d7c721667d113",
            "4cd342819a1749b691b7696efcc9c76e",
            "1adb1209f70045e49be1b27ec21a9010",
            "ac57b4bc51d045e7973e52771e4220e9",
            "6dc2c221aa8b42ca854b3e9b70eede20",
            "c205605c57ef46498d194ca7c694d60a",
            "283749d09660431db2481a5e6da1e79a",
            "05b402ac62a348b7a0563ae7913d1206",
            "7403e01b3a25462892541f263b503dfe",
            "05344d08587949e9985bbb7f40b157f7",
            "1ce6e28053494c9b921d68584bab5faa",
            "6fcb04da416b4d5683f7c5d16f1fb4dd",
            "45870115f1264118871a2eb879cc24ad",
            "408f896fc0234fcabb23c1cbcd8cf5f0",
            "561237f3ead647d796d73e880817a83a",
            "d165d6d378304758ab97925845f8b2e1",
            "ddbca9fda81b46f4a5039b83b2a62927",
            "3832253a53764e4d95a8eff0dcc1a5a4",
            "9ac3d064e9f34bda8bedafff00cda3db",
            "1f1b365380b547b88634db97e0b85028",
            "2ed7d7a686cc4014a32f7a36c5c76781",
            "45bd2b4419a74459b9858a3525c2a080",
            "b8545904eb1e45a68063500fb848c24f",
            "78e04395089d41639f15d3fa8347b98c",
            "4d9fc6ebf1b34f599d8a94ea5ee1b779",
            "6a3d7797113e440ebaaf398606886472",
            "31e594b0207f487dade958c6fd6939e0",
            "96a281144c0248fb874d3ca067f30559",
            "926b78544604422b988c0ba1b3becacd",
            "0c051e6a33b74456828c49a2916c5d39",
            "8a7b1101c0bd4b73afff8fde65fcf550",
            "7165afc8b00b4f5cb81828ce0393de89",
            "9fbd15333d2348c8aa5d612c0393c9b3",
            "cdee976b621c493c96778745a23d5371",
            "ba048b7e31f54352bf1049163b6e9366",
            "390b9af7d4814226b542246b124d1df5",
            "43fdb6f25b0e4739a16ab7f14c3b7873",
            "5b54c7a982ff476caef76a0372cbc02a",
            "3af97098a0534bf49b517d3405cefdee",
            "7f36374a8cd1497cabf09b35d4fa83cb",
            "f6d30d90e27e48c7babc10671b54d486",
            "f440abe9f2d8444db7f00ec284e53fae",
            "38ae2733a65c443e9e7b19d8ebd5d000",
            "6abf17db94bc45b296613beaac335e54",
            "1e2230338bad488fae2ab11669724c87",
            "87a35c48fd7d48deab4fa3e78a652469",
            "6682d6e50b1c429481ba10ca6245aaa7",
            "4acdbb26239f406f8b6e19ac4605fc06",
            "403f0ba3e85d4caeac9930de6f0662af",
            "16e32a29c0f44e2182d4bcc9ae627cb1",
            "69bbaccbbcc346d7a13e0ff3f780bb5b",
            "29cc50567aa04256a5441b6fddd73988",
            "8f2bc38d5275457aaa3cc99f6dcd27da",
            "1c3de3b675e44333a2e3199bc963df31",
            "6f0eb68b6f444872bc8f619a4f8a2870",
            "d7569f0065384904ade79b5abfc019ea",
            "a69cdc7a15e74388a573d87b2e9117f2",
            "a24dae54044c4cb78da6c96389fa4226",
            "fd5a92438b884ecb9a5c0dda4255e4d9",
            "6926c151e52b425087f8b7a86b9761cc",
            "732ac8274c9541078269da0e0b5d3500",
            "4620b9a72500441a934f3d2e84e422c9",
            "94f9dacf6f0442919c276dd7b71867b7",
            "01c3a9d300ad47e68cf185a157556dff",
            "9159a8257c0b464da5c09f62d0df87ad",
            "e38ee304b2724473a9150bf9b2a8730f",
            "7c487dbeb529427da3f107e60216afcd",
            "53c8b2ddea114f9facf4dadddb35141e",
            "889b23390bdd4e958990a8633db24615",
            "d6e00326dd5a417fbd43c90ccbd7d491",
            "8c4f051b80694afdb8ad1288801128c0",
            "576e19f102ea456384c6a0f2373478f5",
            "edf6191f0e49429e9a644cf4ada9495d",
            "213e4804bdad4ee48d0370ec67de43ff",
            "889e76b69b5e44d79d17e8fef1b0bdfb",
            "4487b785169f45e5b6e491c8aefb0a66",
            "8f5aaadd2aaf40dfb03e2ab541090e70",
            "26da0568ae7a4f5f8c70d0138bc3e862",
            "ec22d9a15e5f4438ac12bca26ea3b43a",
            "4a3f1b553dcb4ca199c04ddd41e9a8eb",
            "51d71bafd34b441280f761325ec12185",
            "a584a37f6c4944528b8b51202e72f806",
            "d2b6cd40d59e4b9ba403eef8afd61712",
            "95c786f1e63643819cc792f4cb439876",
            "fb54dcb706224125971ee6013d74ef5f",
            "b79c1a69580b4865968781a6bc4e0020",
            "1f86d570a40e4ccaad28965ed4c54657",
            "5638486598174db28ed978b87871d0b6",
            "fbffc3fb4aa147e7ac212b300473bac7",
            "3b096938b2ba4f52ae82c7cff7adf65a",
            "c8a5f922587346d4a897b3641a73b686",
            "1220de2a5c5e4a8f97e219a3f4968ef5",
            "ea0ceb9c57ea4fb89d7435c650e50b8e",
            "9777254ba3c84a86afd5415adb2446ca",
            "b5251b252443432e83fa6becc9e967b4",
            "b33256f816db40afb0955f82c3c62b31",
            "77a6488dc93b416d936e63775bfbcbcb",
            "aba729241d874e91b478cc81d5662bd7",
            "49f735ffb4dd458d9ba10111b8070e1b",
            "74ad2eedd7e247d292fbd348687fb9df",
            "5a0755954988435db5f6425a7acba660",
            "6257b824dd1f4911b1fe22240b69136b",
            "4913bb8feb6943b0b079e7b41d7921da",
            "23b0c00379f24703b82fc7ddd20538c6",
            "add8b001ee0848c8b300cecdce467326",
            "88b8b80278064111bbf372c868fedbbf",
            "eb65f85867e44785bc2cd29027bd4884",
            "875fc197a43746bd91da99d3f0c19908",
            "741b822db0fd41d885b6bee4be3df1e4",
            "eee5dd3a20bb4b99b1a09a0328cca43c",
            "75cf8f8681064e999d6f3c3b89327bac",
            "cdc558d2da474d6dbb6f8b65769e810d",
            "2dfcea88351f4984bf05b008123460f2",
            "c2cc8860f36041109d176160b9909af7",
            "636a065793d241608fcc30e4ffeeb956",
            "8218903d7502499e8ffcf395c4d29ec9",
            "7cbe603438514e7c8fe9621de129669b",
            "864650a7b47a42428e899b5ce74d1ead",
            "db55e3aa674742cf96ae9ed5c35533f5",
            "42b9b8c405024369bd6c3ce486ba134f",
            "35bb397eefeb47369e53c68999af051d",
            "e2aac2b2d6a94795904ddb84381859b4",
            "44bc4079d13143828cf92776b8c80e26",
            "92a3a41e99fa4810bd41e15fb97f7290",
            "275b573c1dd24696ba89fb12ec73f6b9",
            "046e7685b2a441388e595ca1ca2c2056",
            "440abd8e21fe4e9f9d9e9c5f945bb4d9",
            "20f7952ed0a847d6a8b1bac93e7ec70d",
            "7ec32b299b1d41a9b017815a1efcfe72",
            "71d99ac6d7014fa69b144aed81b0f4aa",
            "b8e427f408cf42a49121886c37ed2a74",
            "54092f150dd246288c0e8d84df301797",
            "dbe054901ad14e5a8e83db43aa6f1302",
            "4eda9a17e78343069f36d8f9669fdc44",
            "09bff04be3f04872b80d5de7ee101ffc",
            "6f07bf265d5c4f0295036c41b7abf752",
            "c2e3737599f14a61a990e14a12dbfc2d",
            "16eea5fc12394c6a99bd6c2daeabba53",
            "f034eb36d3c64d0a97d589c5c70a45a0",
            "c75342822409451c947022540e45393c",
            "90080a1332694c62914d4b6bad1804a0",
            "2d707b9ee7c047f4bc4ffa0e51c36577",
            "107649b159d040368c9e39c343f19c8a",
            "e546a9ff08294d64a4735f3afa90d3e8",
            "98a6107663064a4d9ee05946bf2fc30b",
            "205ae7ebbc204b25afccce8d77ca8ade",
            "ad42eb8ef43f4901af9884111b67723c",
            "57b9e314c08b46988f500c7e9d08c058",
            "ae2b723c3ddc4662a323105d3ae21fcd",
            "5ef3efbac9544fb3bf1cf283e54a328a",
            "00e75fb3a2274c69baafed9e7581f6c1",
            "062fc339b2424876ab49e7771abf056c",
            "8a0e63ff339a467da247632cac132c0c",
            "cc9e9570f6d846d18de370ad37085b08",
            "780d9ea0b008423bb725ca542923ea79",
            "bd675480c66949d7af47e800689492ee",
            "7cb14eac3c5f4c11a7136ce5883218d3",
            "116a7c5080f147a48c7adcecb6bb47b4",
            "9bf288e9af2d4d30a99b8130bf2cb1c5",
            "4c461f300ae742bfa4b7f05c0ae6dd7d",
            "e0cb031b08d2491e9cc54c96bd542ecf",
            "3c7f3e04065c4056a8b37f4e1834fd3e",
            "aca2b7737c4545aeba59d9fd77208601",
            "fd7ceafd7ac4445ab549eafe865fd52c",
            "4acd7a9fcec4473685cc41a4a3cbe2ed",
            "84e9eb5a65174e93a0f10fc21f7edf92",
            "13139ada16464002a82eae3ef898f630",
            "e9a70c2fe4f94b6ea6b14174514c05bb",
            "7a8b47185bce45209e590b816318c077",
            "ce60ff8d3e0843b995471a964e2bf274",
            "398befe0d33f4191873acd6c72a55f3a",
            "2216b15beb0a43feb825a6f37edf3b13",
            "a6144ef9c21640c8b5c0b5bd3b152240",
            "73338f6c6ce54af5945cf27e28b57c9a",
            "79c6b8fdd2244e03b12dc5d61f6b5d36",
            "9b35c09e00a747d08bc85ef3fac06472",
            "3fb395c7fd0d4478bc1d241529cbafb3",
            "d7149e046b6d4bc69793391c7ad6fc12",
            "d3831087bd9d436c9c4e8ed7918c85dc",
            "7158fb6ca4f64d83a29c03b57d18968a",
            "e34a630058e94263a1c4baca9b02ea68",
            "3289aec26e3f41d1900dab4e27ce1911",
            "f059dc42ff7c43ba89ea269511de7f59",
            "7033114214204319b58f9729ccf27d4d",
            "991b20c63f1e4179bb484f9fdb22d62a",
            "59202792d7884845ab45afb28e525128",
            "1ca10715bd41412998159a90aa837475",
            "8c563076b7e141619b454d225ae46596",
            "1fb30ebd80b844c7a9329d2ab0f4212e",
            "255bb700d8e24268b21e23aab6288620",
            "43debb8fb530456689203dfc5a099cf4",
            "737e48dc36a34f40a3809fe6c00609eb",
            "344b9ab31af84a849776570d56dc1b67",
            "99ad59ba32a24d71822b592c669d7e28",
            "342c2fccf5214d8bab76dbc2d82d9aa6",
            "d1dd751e4baa4ad398e204ea0e61c581",
            "b7ffdf31366a432ab168ca76496b0a6c",
            "30f467f072d74039b9d487de3297a6b9"
          ]
        },
        "id": "FpFN8btvd2xj",
        "outputId": "29f1025c-2388-4a5c-8803-23c0055d85c3"
      },
      "execution_count": null,
      "outputs": [
        {
          "output_type": "display_data",
          "data": {
            "text/plain": [
              "Epochs:   0%|          | 0/40 [00:00<?, ?it/s]"
            ],
            "application/vnd.jupyter.widget-view+json": {
              "version_major": 2,
              "version_minor": 0,
              "model_id": "c9bbc0e190614447ad9df3156817ffbb"
            }
          },
          "metadata": {}
        },
        {
          "output_type": "display_data",
          "data": {
            "text/plain": [
              "Epoch 1:   0%|          | 0/99 [00:00<?, ?it/s]"
            ],
            "application/vnd.jupyter.widget-view+json": {
              "version_major": 2,
              "version_minor": 0,
              "model_id": "de7f3e86c4464bf2a3e83f1c5a7371fa"
            }
          },
          "metadata": {}
        },
        {
          "output_type": "display_data",
          "data": {
            "text/plain": [
              "Epoch 2:   0%|          | 0/99 [00:00<?, ?it/s]"
            ],
            "application/vnd.jupyter.widget-view+json": {
              "version_major": 2,
              "version_minor": 0,
              "model_id": "ebe0863818514d348daf6dad9b022390"
            }
          },
          "metadata": {}
        },
        {
          "output_type": "display_data",
          "data": {
            "text/plain": [
              "Epoch 3:   0%|          | 0/99 [00:00<?, ?it/s]"
            ],
            "application/vnd.jupyter.widget-view+json": {
              "version_major": 2,
              "version_minor": 0,
              "model_id": "b6cc778f822c4860ae44769bc95af2e5"
            }
          },
          "metadata": {}
        },
        {
          "output_type": "display_data",
          "data": {
            "text/plain": [
              "Epoch 4:   0%|          | 0/99 [00:00<?, ?it/s]"
            ],
            "application/vnd.jupyter.widget-view+json": {
              "version_major": 2,
              "version_minor": 0,
              "model_id": "1de33346f5d1457caa6fb82b2fd5bc67"
            }
          },
          "metadata": {}
        },
        {
          "output_type": "display_data",
          "data": {
            "text/plain": [
              "Epoch 5:   0%|          | 0/99 [00:00<?, ?it/s]"
            ],
            "application/vnd.jupyter.widget-view+json": {
              "version_major": 2,
              "version_minor": 0,
              "model_id": "7f204930fc164da6949d7c721667d113"
            }
          },
          "metadata": {}
        },
        {
          "output_type": "display_data",
          "data": {
            "text/plain": [
              "Epoch 6:   0%|          | 0/99 [00:00<?, ?it/s]"
            ],
            "application/vnd.jupyter.widget-view+json": {
              "version_major": 2,
              "version_minor": 0,
              "model_id": "6fcb04da416b4d5683f7c5d16f1fb4dd"
            }
          },
          "metadata": {}
        },
        {
          "output_type": "display_data",
          "data": {
            "text/plain": [
              "Epoch 7:   0%|          | 0/99 [00:00<?, ?it/s]"
            ],
            "application/vnd.jupyter.widget-view+json": {
              "version_major": 2,
              "version_minor": 0,
              "model_id": "b8545904eb1e45a68063500fb848c24f"
            }
          },
          "metadata": {}
        },
        {
          "output_type": "display_data",
          "data": {
            "text/plain": [
              "Epoch 8:   0%|          | 0/99 [00:00<?, ?it/s]"
            ],
            "application/vnd.jupyter.widget-view+json": {
              "version_major": 2,
              "version_minor": 0,
              "model_id": "cdee976b621c493c96778745a23d5371"
            }
          },
          "metadata": {}
        },
        {
          "output_type": "display_data",
          "data": {
            "text/plain": [
              "Epoch 9:   0%|          | 0/99 [00:00<?, ?it/s]"
            ],
            "application/vnd.jupyter.widget-view+json": {
              "version_major": 2,
              "version_minor": 0,
              "model_id": "1e2230338bad488fae2ab11669724c87"
            }
          },
          "metadata": {}
        },
        {
          "output_type": "display_data",
          "data": {
            "text/plain": [
              "Epoch 10:   0%|          | 0/99 [00:00<?, ?it/s]"
            ],
            "application/vnd.jupyter.widget-view+json": {
              "version_major": 2,
              "version_minor": 0,
              "model_id": "d7569f0065384904ade79b5abfc019ea"
            }
          },
          "metadata": {}
        },
        {
          "output_type": "display_data",
          "data": {
            "text/plain": [
              "Epoch 11:   0%|          | 0/99 [00:00<?, ?it/s]"
            ],
            "application/vnd.jupyter.widget-view+json": {
              "version_major": 2,
              "version_minor": 0,
              "model_id": "7c487dbeb529427da3f107e60216afcd"
            }
          },
          "metadata": {}
        },
        {
          "output_type": "display_data",
          "data": {
            "text/plain": [
              "Epoch 12:   0%|          | 0/99 [00:00<?, ?it/s]"
            ],
            "application/vnd.jupyter.widget-view+json": {
              "version_major": 2,
              "version_minor": 0,
              "model_id": "26da0568ae7a4f5f8c70d0138bc3e862"
            }
          },
          "metadata": {}
        },
        {
          "output_type": "display_data",
          "data": {
            "text/plain": [
              "Epoch 13:   0%|          | 0/99 [00:00<?, ?it/s]"
            ],
            "application/vnd.jupyter.widget-view+json": {
              "version_major": 2,
              "version_minor": 0,
              "model_id": "fbffc3fb4aa147e7ac212b300473bac7"
            }
          },
          "metadata": {}
        },
        {
          "output_type": "display_data",
          "data": {
            "text/plain": [
              "Epoch 14:   0%|          | 0/99 [00:00<?, ?it/s]"
            ],
            "application/vnd.jupyter.widget-view+json": {
              "version_major": 2,
              "version_minor": 0,
              "model_id": "74ad2eedd7e247d292fbd348687fb9df"
            }
          },
          "metadata": {}
        },
        {
          "output_type": "display_data",
          "data": {
            "text/plain": [
              "Epoch 15:   0%|          | 0/99 [00:00<?, ?it/s]"
            ],
            "application/vnd.jupyter.widget-view+json": {
              "version_major": 2,
              "version_minor": 0,
              "model_id": "75cf8f8681064e999d6f3c3b89327bac"
            }
          },
          "metadata": {}
        },
        {
          "output_type": "display_data",
          "data": {
            "text/plain": [
              "Epoch 16:   0%|          | 0/99 [00:00<?, ?it/s]"
            ],
            "application/vnd.jupyter.widget-view+json": {
              "version_major": 2,
              "version_minor": 0,
              "model_id": "e2aac2b2d6a94795904ddb84381859b4"
            }
          },
          "metadata": {}
        },
        {
          "output_type": "display_data",
          "data": {
            "text/plain": [
              "Epoch 17:   0%|          | 0/99 [00:00<?, ?it/s]"
            ],
            "application/vnd.jupyter.widget-view+json": {
              "version_major": 2,
              "version_minor": 0,
              "model_id": "dbe054901ad14e5a8e83db43aa6f1302"
            }
          },
          "metadata": {}
        },
        {
          "output_type": "display_data",
          "data": {
            "text/plain": [
              "Epoch 18:   0%|          | 0/99 [00:00<?, ?it/s]"
            ],
            "application/vnd.jupyter.widget-view+json": {
              "version_major": 2,
              "version_minor": 0,
              "model_id": "e546a9ff08294d64a4735f3afa90d3e8"
            }
          },
          "metadata": {}
        },
        {
          "output_type": "display_data",
          "data": {
            "text/plain": [
              "Epoch 19:   0%|          | 0/99 [00:00<?, ?it/s]"
            ],
            "application/vnd.jupyter.widget-view+json": {
              "version_major": 2,
              "version_minor": 0,
              "model_id": "780d9ea0b008423bb725ca542923ea79"
            }
          },
          "metadata": {}
        },
        {
          "output_type": "display_data",
          "data": {
            "text/plain": [
              "Epoch 20:   0%|          | 0/99 [00:00<?, ?it/s]"
            ],
            "application/vnd.jupyter.widget-view+json": {
              "version_major": 2,
              "version_minor": 0,
              "model_id": "84e9eb5a65174e93a0f10fc21f7edf92"
            }
          },
          "metadata": {}
        },
        {
          "output_type": "display_data",
          "data": {
            "text/plain": [
              "Epoch 21:   0%|          | 0/99 [00:00<?, ?it/s]"
            ],
            "application/vnd.jupyter.widget-view+json": {
              "version_major": 2,
              "version_minor": 0,
              "model_id": "3fb395c7fd0d4478bc1d241529cbafb3"
            }
          },
          "metadata": {}
        },
        {
          "output_type": "display_data",
          "data": {
            "text/plain": [
              "Epoch 22:   0%|          | 0/99 [00:00<?, ?it/s]"
            ],
            "application/vnd.jupyter.widget-view+json": {
              "version_major": 2,
              "version_minor": 0,
              "model_id": "8c563076b7e141619b454d225ae46596"
            }
          },
          "metadata": {}
        },
        {
          "output_type": "stream",
          "name": "stdout",
          "text": [
            "\n",
            " Early stopping at epoch 22: val loss stopped improving.\n"
          ]
        }
      ]
    },
    {
      "cell_type": "markdown",
      "source": [
        "## **Over fitting Problem**\n",
        "\n",
        "Since we used a small dataset (10_000 small pragraph) it overfits, we need a dataset with about 1M data"
      ],
      "metadata": {
        "id": "yLZ_6j-C_Eds"
      }
    },
    {
      "cell_type": "code",
      "source": [
        "epochs = list(range(1, len(train_loss) + 1))\n",
        "plt.figure(figsize=(8, 5))\n",
        "plt.plot(epochs, train_loss, label='Train Loss', marker='o')\n",
        "plt.plot(epochs,val_loss, label='Validation Loss', marker='x')\n",
        "\n",
        "labels = range(0, len(train_loss)*2, 2)\n",
        "plt.xlabel('Epoch')\n",
        "plt.xticks(epochs, labels)\n",
        "plt.ylabel('Loss')\n",
        "plt.title('Training and Validation Loss Over Epochs')\n",
        "plt.legend()\n",
        "plt.grid(True)\n",
        "plt.tight_layout()\n",
        "plt.show()"
      ],
      "metadata": {
        "colab": {
          "base_uri": "https://localhost:8080/",
          "height": 507
        },
        "id": "0WcFK5UM2kaF",
        "outputId": "15c7cf34-fc80-4fd5-a0d8-f5d631a5849b"
      },
      "execution_count": null,
      "outputs": [
        {
          "output_type": "display_data",
          "data": {
            "text/plain": [
              "<Figure size 800x500 with 1 Axes>"
            ],
            "image/png": "[encoded data removed]"
          },
          "metadata": {}
        }
      ]
    },
    {
      "cell_type": "code",
      "source": [],
      "metadata": {
        "id": "PyeQcBXaiWie"
      },
      "execution_count": null,
      "outputs": []
    }
  ]
}