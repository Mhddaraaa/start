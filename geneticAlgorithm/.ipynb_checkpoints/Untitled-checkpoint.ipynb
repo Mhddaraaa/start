{
 "cells": [
  {
   "cell_type": "code",
   "execution_count": 1,
   "id": "1af71308",
   "metadata": {},
   "outputs": [],
   "source": [
    "import random"
   ]
  },
  {
   "cell_type": "code",
   "execution_count": 2,
   "id": "c9a63779",
   "metadata": {},
   "outputs": [],
   "source": [
    "product = ['Refrigerator A', 'Cell phone', 'TV 55', 'TV 50', 'TV 42', 'Notebook A', 'Ventilator', 'Mictowave A',\n",
    "          'Microwave B', 'Microvwave C', 'Refrigerator B', 'Refrigerator C', 'Notebook B', 'Notebook C']\n",
    "\n",
    "price = [999.90, 2199.12, 4346.99, 3999.90, 2999.90, 2499.90, 199.90, 308.66, 429.90, 299.29, 849.00,\n",
    "        1199.89, 1999.90, 3999.00]\n",
    "\n",
    "size = [0.751, 0.0000899, 0.400, 0.290, 0.200, 0.0035, 0.496, 0.0424, 0.0544, 0.0319, 0.635, 0.870, 0.498,\n",
    "       0.527]"
   ]
  },
  {
   "cell_type": "code",
   "execution_count": 3,
   "id": "f0398259",
   "metadata": {},
   "outputs": [
    {
     "data": {
      "text/plain": [
       "(14, 14, 14)"
      ]
     },
     "execution_count": 3,
     "metadata": {},
     "output_type": "execute_result"
    }
   ],
   "source": [
    "len(product), len(price), len(size)"
   ]
  },
  {
   "cell_type": "code",
   "execution_count": 4,
   "id": "f9171490",
   "metadata": {},
   "outputs": [],
   "source": [
    "class Product():\n",
    "    def __init__(self, name, price, size):\n",
    "        self.name = name\n",
    "        self.price = price\n",
    "        self.size = size\n",
    "    \n",
    "    def __repr__(self):\n",
    "        return f'{self.name} -Price: {self.price} -Size: {self.size}'"
   ]
  },
  {
   "cell_type": "code",
   "execution_count": 5,
   "id": "7c80487c",
   "metadata": {},
   "outputs": [
    {
     "data": {
      "text/plain": [
       "[Refrigerator A -Price: 999.9 -Size: 0.751,\n",
       " Cell phone -Price: 2199.12 -Size: 8.99e-05,\n",
       " TV 55 -Price: 4346.99 -Size: 0.4,\n",
       " TV 50 -Price: 3999.9 -Size: 0.29,\n",
       " TV 42 -Price: 2999.9 -Size: 0.2,\n",
       " Notebook A -Price: 2499.9 -Size: 0.0035,\n",
       " Ventilator -Price: 199.9 -Size: 0.496,\n",
       " Mictowave A -Price: 308.66 -Size: 0.0424,\n",
       " Microwave B -Price: 429.9 -Size: 0.0544,\n",
       " Microvwave C -Price: 299.29 -Size: 0.0319,\n",
       " Refrigerator B -Price: 849.0 -Size: 0.635,\n",
       " Refrigerator C -Price: 1199.89 -Size: 0.87,\n",
       " Notebook B -Price: 1999.9 -Size: 0.498,\n",
       " Notebook C -Price: 3999.0 -Size: 0.527]"
      ]
     },
     "execution_count": 5,
     "metadata": {},
     "output_type": "execute_result"
    }
   ],
   "source": [
    "product_list = []\n",
    "for i in range(len(product)):\n",
    "    product_list.append(Product(product[i], price[i], size[i]))\n",
    "\n",
    "product_list"
   ]
  },
  {
   "cell_type": "code",
   "execution_count": 24,
   "id": "edfd836d",
   "metadata": {},
   "outputs": [],
   "source": [
    "class Individual():\n",
    "    def __init__(self, products, prices, spaces, space_limit, generation=0):\n",
    "        self.products = products\n",
    "        self.prices = prices\n",
    "        self.spaces = spaces\n",
    "        self.space_limit = space_limit\n",
    "        self.generation = generation\n",
    "        self.total_price = 0\n",
    "        self.total_space = 0\n",
    "        self.chromosome = []\n",
    "        for i in range(len(self.prices)):\n",
    "            if random.random() > 0.5:\n",
    "                self.chromosome.append('1')\n",
    "            else:\n",
    "                self.chromosome.append('0')\n",
    "        \n",
    "    def fitness(self):\n",
    "        price = 0\n",
    "        space = 0\n",
    "        for i in range(len(self.chromosome)):\n",
    "            if self.chromosome[i] == '1':\n",
    "                price += self.prices[i]\n",
    "                space += self.spaces[i]\n",
    "        \n",
    "        self.total_price = price\n",
    "        self.total_space = space\n",
    "                \n",
    "        if self.total_space > self.space_limit:\n",
    "            self.total_price = 1\n",
    "        \n",
    "        return self.total_price\n",
    "                \n",
    "    def crossover(self, other):\n",
    "        idx = random.randint(0, len(self.prices))\n",
    "        children = [Individual(self.products, self.prices, self.spaces, self.space_limit, self.generation + 1),\n",
    "                    Individual(self.products, self.prices, self.spaces, self.space_limit, self.generation + 1)]\n",
    "        \n",
    "        children[0].chromosome = self.chromosome[:idx] + other.chromosome[idx:]\n",
    "        children[1].chromosome = other.chromosome[:idx] + self.chromosome[idx:]\n",
    "        \n",
    "        return children[0], children[1]\n",
    "\n",
    "    def mutation(self, rate=0.02):\n",
    "        for i, item in enumerate(self.chromosome):\n",
    "            if random.random() < rate:\n",
    "                self.chromosome[i] = str(abs(1 - int(item)))\n",
    "                \n",
    "    def __repr__(self):\n",
    "        items = []\n",
    "        self.fitness()\n",
    "        for i, item in enumerate(self.chromosome):\n",
    "            if item == '1':\n",
    "                product = Product(self.products[i], self.prices[i], self.spaces[i])\n",
    "                items.append(product.name)\n",
    "                \n",
    "        return f\"{items},\\n*** Total Price and Space: {self.total_price} - {self.total_space}\""
   ]
  },
  {
   "cell_type": "code",
   "execution_count": 185,
   "id": "1c7c0334",
   "metadata": {},
   "outputs": [],
   "source": [
    "class GeneticAlgorithm():\n",
    "    def __init__(self, population_size):\n",
    "        self.population_size = population_size\n",
    "        self.population = []\n",
    "        self.generation = 0\n",
    "        self.best_solution = None\n",
    "        self.list_of_best_solution = []\n",
    "        \n",
    "    def _initialize_population(self, products, prices, spaces, space_limit):\n",
    "        for i in range(self.population_size):\n",
    "            self.population.append(Individual(products, prices, spaces, space_limit, generation=0))\n",
    "         \n",
    "    def _best_of_spring(self):\n",
    "        self.population = sorted(self.population, key=lambda x: x.fitness(), reverse=True)\n",
    "        if not self.best_solution:\n",
    "            self.best_solution = self.population[0]\n",
    "        elif self.best_solution.total_price < self.population[0].total_price:\n",
    "            self.best_solution = self.population[0]\n",
    "            \n",
    "        self.list_of_best_solution.append(self.population[0])\n",
    "        \n",
    "    def _select_parents(self):\n",
    "        sum_of_all_product = sum([x.total_price for x in self.population])\n",
    "        limit_price = random.random() * sum_of_all_product\n",
    "        sum_prices = 0\n",
    "        parent = -1\n",
    "        while parent < self.population_size and sum_prices < limit_price:\n",
    "            sum_prices += self.population[parent+1].total_price\n",
    "            parent += 1\n",
    "        return self.population[parent]\n",
    "    \n",
    "    def solve_problem(self,products, prices, spaces, space_limit, number_of_generation=10):\n",
    "        self._initialize_population(products, prices, spaces, space_limit)\n",
    "        \n",
    "        for i in range(number_of_generation):\n",
    "            self._best_of_spring()\n",
    "            new_population = []\n",
    "            print(self.best_solution.total_price)\n",
    "            for i in range(0, self.population_size, 2):\n",
    "                parent1 = self._select_parents()\n",
    "                parent2 = self._select_parents()\n",
    "                child1, child2 = parent1.crossover(parent2)\n",
    "                child1.mutation()\n",
    "                child2.mutation()\n",
    "                new_population.append(child1)\n",
    "                new_population.append(child2)\n",
    "               \n",
    "            self.population = new_population"
   ]
  },
  {
   "cell_type": "code",
   "execution_count": 127,
   "id": "ffbb61bf",
   "metadata": {},
   "outputs": [
    {
     "name": "stdout",
     "output_type": "stream",
     "text": [
      "['1', '1', '1', '1', '0', '1', '1', '0', '0', '0', '1', '1', '0', '1']\n"
     ]
    },
    {
     "data": {
      "text/plain": [
       "['Refrigerator A', 'Cell phone', 'TV 55', 'TV 50', 'Notebook A', 'Ventilator', 'Refrigerator B', 'Refrigerator C', 'Notebook C'],\n",
       "*** Total Price and Space: 1 - 3.9725899000000005"
      ]
     },
     "execution_count": 127,
     "metadata": {},
     "output_type": "execute_result"
    }
   ],
   "source": [
    "individual1 = Individual(product, price, size, 3)\n",
    "print(individual1.chromosome)\n",
    "individual1.fitness()\n",
    "individual1"
   ]
  },
  {
   "cell_type": "code",
   "execution_count": 128,
   "id": "15ff4e9d",
   "metadata": {},
   "outputs": [
    {
     "name": "stdout",
     "output_type": "stream",
     "text": [
      "['1', '0', '1', '0', '0', '1', '0', '0', '0', '1', '0', '1', '1', '0']\n"
     ]
    },
    {
     "data": {
      "text/plain": [
       "(11345.869999999999, 3.9725899000000005)"
      ]
     },
     "execution_count": 128,
     "metadata": {},
     "output_type": "execute_result"
    }
   ],
   "source": [
    "individual2 = Individual(product, price, size, 3)\n",
    "print(individual2.chromosome)\n",
    "individual2.fitness()\n",
    "individual2.total_price, individual1.total_space"
   ]
  },
  {
   "cell_type": "code",
   "execution_count": 129,
   "id": "7b396662",
   "metadata": {},
   "outputs": [
    {
     "data": {
      "text/plain": [
       "['1', '0', '1', '0', '0', '1', '0', '0', '0', '1', '0', '1', '1', '1']"
      ]
     },
     "execution_count": 129,
     "metadata": {},
     "output_type": "execute_result"
    }
   ],
   "source": [
    "individual2.mutation(0.09)\n",
    "individual2.chromosome"
   ]
  },
  {
   "cell_type": "code",
   "execution_count": 130,
   "id": "21956b76",
   "metadata": {},
   "outputs": [],
   "source": [
    "a, b = individual1.crossover(individual2)"
   ]
  },
  {
   "cell_type": "code",
   "execution_count": 131,
   "id": "a804a8cb",
   "metadata": {},
   "outputs": [
    {
     "data": {
      "text/plain": [
       "__main__.Individual"
      ]
     },
     "execution_count": 131,
     "metadata": {},
     "output_type": "execute_result"
    }
   ],
   "source": [
    "type(a)"
   ]
  },
  {
   "cell_type": "code",
   "execution_count": 167,
   "id": "38e33261",
   "metadata": {},
   "outputs": [
    {
     "name": "stdout",
     "output_type": "stream",
     "text": [
      "18744.8 2.2870899000000002\n",
      "16654.35 2.2104\n",
      "16353.65 2.5853899\n",
      "16094.699999999999 2.9495899000000003\n",
      "15393.91 2.5130899\n",
      "14586.26 2.2468\n",
      "13932.76 1.3672898999999998\n",
      "13202.76 2.6463899\n",
      "11784.349999999999 1.5232999999999999\n",
      "11445.699999999999 2.5205899\n",
      "11402.749999999998 2.9733899\n",
      "11046.2 2.0674899\n",
      "10933.529999999999 2.7882000000000002\n",
      "10498.79 2.2668999999999997\n",
      "9975.91 0.6544899\n",
      "9047.82 2.0840899\n",
      "8854.55 1.4654\n",
      "2237.74 0.9986999999999999\n",
      "1 3.7690899\n",
      "1 3.2363\n"
     ]
    }
   ],
   "source": [
    "anscestor = GeneticAlgorithm(20)\n",
    "anscestor._initialize_population(product, price, size, 3)\n",
    "anscestor._best_of_spring()\n",
    "for i in range(len(anscestor.population)):\n",
    "    print(anscestor.population[i].total_price, anscestor.population[i].total_space)"
   ]
  },
  {
   "cell_type": "code",
   "execution_count": 134,
   "id": "1922279e",
   "metadata": {},
   "outputs": [
    {
     "data": {
      "text/plain": [
       "['Cell phone', 'Notebook A', 'Ventilator', 'Refrigerator C', 'Notebook B'],\n",
       "*** Total Price and Space: 8098.710000000001 - 1.8675899"
      ]
     },
     "execution_count": 134,
     "metadata": {},
     "output_type": "execute_result"
    }
   ],
   "source": [
    "ga = GeneticAlgorithm(20)\n",
    "ga._initialize_population(product, price, size, 3)\n",
    "ga._select_parents()"
   ]
  },
  {
   "cell_type": "code",
   "execution_count": 186,
   "id": "e19cfef3",
   "metadata": {},
   "outputs": [
    {
     "name": "stdout",
     "output_type": "stream",
     "text": [
      "19984.16\n",
      "20783.37\n",
      "20783.37\n",
      "20783.37\n",
      "20783.37\n",
      "20783.37\n",
      "20783.37\n",
      "20783.37\n",
      "20783.37\n",
      "20783.37\n",
      "20783.37\n",
      "20783.37\n",
      "21852.649999999998\n",
      "21852.649999999998\n",
      "21852.649999999998\n",
      "21852.649999999998\n",
      "21852.649999999998\n",
      "21852.649999999998\n",
      "21852.649999999998\n",
      "21852.649999999998\n",
      "21973.89\n",
      "21973.89\n",
      "23543.890000000003\n",
      "23622.9\n",
      "23674.5\n",
      "23674.5\n",
      "23674.5\n",
      "23674.5\n",
      "23852.55\n",
      "23973.79\n",
      "23973.79\n",
      "24282.45\n",
      "24282.45\n",
      "24282.45\n",
      "24282.45\n",
      "24282.45\n",
      "24282.45\n",
      "24282.45\n",
      "24282.45\n",
      "24282.45\n",
      "24282.45\n",
      "24282.45\n",
      "24282.45\n",
      "24282.45\n",
      "24282.45\n",
      "24282.45\n",
      "24282.45\n",
      "24282.45\n",
      "24282.45\n",
      "24282.45\n"
     ]
    }
   ],
   "source": [
    "ga = GeneticAlgorithm(20)\n",
    "ga.solve_problem(product, price, size, space_limit=3, number_of_generation=50)"
   ]
  },
  {
   "cell_type": "code",
   "execution_count": 136,
   "id": "c4542b0f",
   "metadata": {},
   "outputs": [
    {
     "data": {
      "text/plain": [
       "['Cell phone', 'TV 55', 'TV 50', 'TV 42', 'Notebook A', 'Mictowave A', 'Microwave B', 'Microvwave C', 'Refrigerator C', 'Notebook B', 'Notebook C'],\n",
       "*** Total Price and Space: 24282.45 - 2.9172899"
      ]
     },
     "execution_count": 136,
     "metadata": {},
     "output_type": "execute_result"
    }
   ],
   "source": [
    "ga.best_solution"
   ]
  },
  {
   "cell_type": "code",
   "execution_count": 187,
   "id": "63524e49",
   "metadata": {},
   "outputs": [
    {
     "name": "stdout",
     "output_type": "stream",
     "text": [
      "19984.16\n",
      "20783.37\n",
      "19984.16\n",
      "20323.71\n",
      "17524.6\n",
      "18283.55\n",
      "19393.09\n",
      "19544.890000000003\n",
      "20283.45\n",
      "20283.45\n",
      "19853.55\n",
      "20283.45\n",
      "21852.649999999998\n",
      "19853.55\n",
      "19583.43\n",
      "21782.55\n",
      "18852.75\n",
      "19974.79\n",
      "19705.46\n",
      "21282.55\n",
      "21973.89\n",
      "21973.89\n",
      "23543.890000000003\n",
      "23622.9\n",
      "23674.5\n",
      "23674.5\n",
      "23543.890000000003\n",
      "23674.5\n",
      "23852.55\n",
      "23973.79\n",
      "23973.79\n",
      "24282.45\n",
      "23973.79\n",
      "24282.45\n",
      "24282.45\n",
      "24282.45\n",
      "24282.45\n",
      "24282.45\n",
      "23543.890000000003\n",
      "23543.890000000003\n",
      "23244.600000000002\n",
      "23973.79\n",
      "23244.600000000002\n",
      "23543.890000000003\n",
      "24282.45\n",
      "23973.79\n",
      "23983.16\n",
      "24282.45\n",
      "23983.16\n",
      "23973.79\n"
     ]
    }
   ],
   "source": [
    "for item in ga.list_of_best_solution:\n",
    "    print(item.total_price)"
   ]
  },
  {
   "cell_type": "code",
   "execution_count": 138,
   "id": "d4635981",
   "metadata": {},
   "outputs": [
    {
     "data": {
      "text/plain": [
       "[['Refrigerator A', 'TV 55', 'TV 50', 'TV 42', 'Notebook A', 'Ventilator', 'Microvwave C', 'Notebook C'],\n",
       " *** Total Price and Space: 19344.78 - 2.6994000000000002,\n",
       " ['Refrigerator A', 'TV 55', 'TV 50', 'TV 42', 'Notebook A', 'Ventilator', 'Microvwave C', 'Notebook C'],\n",
       " *** Total Price and Space: 19344.78 - 2.6994000000000002,\n",
       " ['Refrigerator A', 'TV 55', 'TV 50', 'TV 42', 'Notebook A', 'Ventilator', 'Microvwave C', 'Notebook C'],\n",
       " *** Total Price and Space: 19344.78 - 2.6994000000000002,\n",
       " ['Refrigerator A', 'TV 55', 'TV 50', 'TV 42', 'Notebook A', 'Ventilator', 'Microvwave C', 'Notebook C'],\n",
       " *** Total Price and Space: 19344.78 - 2.6994000000000002,\n",
       " ['Refrigerator A', 'TV 55', 'TV 50', 'TV 42', 'Notebook A', 'Ventilator', 'Microvwave C', 'Notebook C'],\n",
       " *** Total Price and Space: 19344.78 - 2.6994000000000002,\n",
       " ['Refrigerator A', 'TV 55', 'TV 50', 'TV 42', 'Notebook A', 'Ventilator', 'Microvwave C', 'Notebook C'],\n",
       " *** Total Price and Space: 19344.78 - 2.6994000000000002,\n",
       " ['Refrigerator A', 'TV 55', 'TV 50', 'TV 42', 'Notebook A', 'Ventilator', 'Microvwave C', 'Notebook C'],\n",
       " *** Total Price and Space: 19344.78 - 2.6994000000000002,\n",
       " ['Cell phone', 'TV 55', 'TV 50', 'TV 42', 'Notebook A', 'Mictowave A', 'Microwave B', 'Microvwave C', 'Refrigerator C', 'Notebook B', 'Notebook C'],\n",
       " *** Total Price and Space: 24282.45 - 2.9172899,\n",
       " ['Cell phone', 'TV 55', 'TV 50', 'TV 42', 'Notebook A', 'Mictowave A', 'Microwave B', 'Microvwave C', 'Refrigerator C', 'Notebook B', 'Notebook C'],\n",
       " *** Total Price and Space: 24282.45 - 2.9172899,\n",
       " ['Cell phone', 'TV 55', 'TV 50', 'TV 42', 'Notebook A', 'Mictowave A', 'Microwave B', 'Microvwave C', 'Refrigerator C', 'Notebook B', 'Notebook C'],\n",
       " *** Total Price and Space: 24282.45 - 2.9172899,\n",
       " ['Cell phone', 'TV 55', 'TV 50', 'TV 42', 'Notebook A', 'Mictowave A', 'Microwave B', 'Microvwave C', 'Refrigerator C', 'Notebook B', 'Notebook C'],\n",
       " *** Total Price and Space: 24282.45 - 2.9172899,\n",
       " ['Cell phone', 'TV 55', 'TV 50', 'TV 42', 'Notebook A', 'Mictowave A', 'Microwave B', 'Microvwave C', 'Refrigerator C', 'Notebook B', 'Notebook C'],\n",
       " *** Total Price and Space: 24282.45 - 2.9172899,\n",
       " ['Cell phone', 'TV 55', 'TV 50', 'TV 42', 'Notebook A', 'Mictowave A', 'Microwave B', 'Microvwave C', 'Refrigerator C', 'Notebook B', 'Notebook C'],\n",
       " *** Total Price and Space: 24282.45 - 2.9172899,\n",
       " ['Cell phone', 'TV 55', 'TV 50', 'TV 42', 'Notebook A', 'Mictowave A', 'Microwave B', 'Microvwave C', 'Refrigerator C', 'Notebook B', 'Notebook C'],\n",
       " *** Total Price and Space: 24282.45 - 2.9172899,\n",
       " ['Cell phone', 'TV 55', 'TV 50', 'TV 42', 'Notebook A', 'Mictowave A', 'Microwave B', 'Microvwave C', 'Refrigerator C', 'Notebook B', 'Notebook C'],\n",
       " *** Total Price and Space: 24282.45 - 2.9172899,\n",
       " ['Cell phone', 'TV 55', 'TV 50', 'TV 42', 'Notebook A', 'Mictowave A', 'Microwave B', 'Microvwave C', 'Refrigerator C', 'Notebook B', 'Notebook C'],\n",
       " *** Total Price and Space: 24282.45 - 2.9172899,\n",
       " ['Cell phone', 'TV 55', 'TV 50', 'TV 42', 'Notebook A', 'Mictowave A', 'Microwave B', 'Microvwave C', 'Refrigerator C', 'Notebook B', 'Notebook C'],\n",
       " *** Total Price and Space: 24282.45 - 2.9172899,\n",
       " ['Cell phone', 'TV 55', 'TV 50', 'TV 42', 'Notebook A', 'Mictowave A', 'Microwave B', 'Microvwave C', 'Refrigerator C', 'Notebook B', 'Notebook C'],\n",
       " *** Total Price and Space: 24282.45 - 2.9172899,\n",
       " ['Cell phone', 'TV 55', 'TV 50', 'TV 42', 'Notebook A', 'Mictowave A', 'Microwave B', 'Microvwave C', 'Refrigerator C', 'Notebook B', 'Notebook C'],\n",
       " *** Total Price and Space: 24282.45 - 2.9172899,\n",
       " ['Cell phone', 'TV 55', 'TV 50', 'TV 42', 'Notebook A', 'Mictowave A', 'Microwave B', 'Microvwave C', 'Refrigerator C', 'Notebook B', 'Notebook C'],\n",
       " *** Total Price and Space: 24282.45 - 2.9172899,\n",
       " ['Cell phone', 'TV 55', 'TV 50', 'TV 42', 'Notebook A', 'Mictowave A', 'Microwave B', 'Microvwave C', 'Refrigerator C', 'Notebook B', 'Notebook C'],\n",
       " *** Total Price and Space: 24282.45 - 2.9172899,\n",
       " ['Cell phone', 'TV 55', 'TV 50', 'TV 42', 'Notebook A', 'Mictowave A', 'Microwave B', 'Microvwave C', 'Refrigerator C', 'Notebook B', 'Notebook C'],\n",
       " *** Total Price and Space: 24282.45 - 2.9172899,\n",
       " ['Cell phone', 'TV 55', 'TV 50', 'TV 42', 'Notebook A', 'Mictowave A', 'Microwave B', 'Microvwave C', 'Refrigerator C', 'Notebook B', 'Notebook C'],\n",
       " *** Total Price and Space: 24282.45 - 2.9172899,\n",
       " ['Cell phone', 'TV 55', 'TV 50', 'TV 42', 'Notebook A', 'Mictowave A', 'Microwave B', 'Microvwave C', 'Refrigerator C', 'Notebook B', 'Notebook C'],\n",
       " *** Total Price and Space: 24282.45 - 2.9172899,\n",
       " ['Cell phone', 'TV 55', 'TV 50', 'TV 42', 'Notebook A', 'Mictowave A', 'Microwave B', 'Microvwave C', 'Refrigerator C', 'Notebook B', 'Notebook C'],\n",
       " *** Total Price and Space: 24282.45 - 2.9172899,\n",
       " ['Cell phone', 'TV 55', 'TV 50', 'TV 42', 'Notebook A', 'Mictowave A', 'Microwave B', 'Microvwave C', 'Refrigerator C', 'Notebook B', 'Notebook C'],\n",
       " *** Total Price and Space: 24282.45 - 2.9172899,\n",
       " ['Cell phone', 'TV 55', 'TV 50', 'TV 42', 'Notebook A', 'Mictowave A', 'Microwave B', 'Microvwave C', 'Refrigerator C', 'Notebook B', 'Notebook C'],\n",
       " *** Total Price and Space: 24282.45 - 2.9172899,\n",
       " ['Cell phone', 'TV 55', 'TV 50', 'TV 42', 'Notebook A', 'Mictowave A', 'Microwave B', 'Microvwave C', 'Refrigerator C', 'Notebook B', 'Notebook C'],\n",
       " *** Total Price and Space: 24282.45 - 2.9172899,\n",
       " ['Cell phone', 'TV 55', 'TV 50', 'TV 42', 'Notebook A', 'Mictowave A', 'Microwave B', 'Microvwave C', 'Refrigerator C', 'Notebook B', 'Notebook C'],\n",
       " *** Total Price and Space: 24282.45 - 2.9172899,\n",
       " ['Cell phone', 'TV 55', 'TV 50', 'TV 42', 'Notebook A', 'Mictowave A', 'Microwave B', 'Microvwave C', 'Refrigerator C', 'Notebook B', 'Notebook C'],\n",
       " *** Total Price and Space: 24282.45 - 2.9172899,\n",
       " ['Cell phone', 'TV 55', 'TV 50', 'TV 42', 'Notebook A', 'Mictowave A', 'Microwave B', 'Microvwave C', 'Refrigerator C', 'Notebook B', 'Notebook C'],\n",
       " *** Total Price and Space: 24282.45 - 2.9172899,\n",
       " ['Cell phone', 'TV 55', 'TV 50', 'TV 42', 'Notebook A', 'Mictowave A', 'Microwave B', 'Microvwave C', 'Refrigerator C', 'Notebook B', 'Notebook C'],\n",
       " *** Total Price and Space: 24282.45 - 2.9172899,\n",
       " ['Cell phone', 'TV 55', 'TV 50', 'TV 42', 'Notebook A', 'Mictowave A', 'Microwave B', 'Microvwave C', 'Refrigerator C', 'Notebook B', 'Notebook C'],\n",
       " *** Total Price and Space: 24282.45 - 2.9172899,\n",
       " ['Cell phone', 'TV 55', 'TV 50', 'TV 42', 'Notebook A', 'Mictowave A', 'Microwave B', 'Microvwave C', 'Refrigerator C', 'Notebook B', 'Notebook C'],\n",
       " *** Total Price and Space: 24282.45 - 2.9172899,\n",
       " ['Cell phone', 'TV 55', 'TV 50', 'TV 42', 'Notebook A', 'Mictowave A', 'Microwave B', 'Microvwave C', 'Refrigerator C', 'Notebook B', 'Notebook C'],\n",
       " *** Total Price and Space: 24282.45 - 2.9172899,\n",
       " ['Cell phone', 'TV 55', 'TV 50', 'TV 42', 'Notebook A', 'Mictowave A', 'Microwave B', 'Microvwave C', 'Refrigerator C', 'Notebook B', 'Notebook C'],\n",
       " *** Total Price and Space: 24282.45 - 2.9172899,\n",
       " ['Cell phone', 'TV 55', 'TV 50', 'TV 42', 'Notebook A', 'Mictowave A', 'Microwave B', 'Microvwave C', 'Refrigerator C', 'Notebook B', 'Notebook C'],\n",
       " *** Total Price and Space: 24282.45 - 2.9172899,\n",
       " ['Cell phone', 'TV 55', 'TV 50', 'TV 42', 'Notebook A', 'Mictowave A', 'Microwave B', 'Microvwave C', 'Refrigerator C', 'Notebook B', 'Notebook C'],\n",
       " *** Total Price and Space: 24282.45 - 2.9172899,\n",
       " ['Cell phone', 'TV 55', 'TV 50', 'TV 42', 'Notebook A', 'Mictowave A', 'Microwave B', 'Microvwave C', 'Refrigerator C', 'Notebook B', 'Notebook C'],\n",
       " *** Total Price and Space: 24282.45 - 2.9172899,\n",
       " ['Cell phone', 'TV 55', 'TV 50', 'TV 42', 'Notebook A', 'Mictowave A', 'Microwave B', 'Microvwave C', 'Refrigerator C', 'Notebook B', 'Notebook C'],\n",
       " *** Total Price and Space: 24282.45 - 2.9172899,\n",
       " ['Cell phone', 'TV 55', 'TV 50', 'TV 42', 'Notebook A', 'Mictowave A', 'Microwave B', 'Microvwave C', 'Refrigerator C', 'Notebook B', 'Notebook C'],\n",
       " *** Total Price and Space: 24282.45 - 2.9172899,\n",
       " ['Cell phone', 'TV 55', 'TV 50', 'TV 42', 'Notebook A', 'Mictowave A', 'Microwave B', 'Microvwave C', 'Refrigerator C', 'Notebook B', 'Notebook C'],\n",
       " *** Total Price and Space: 24282.45 - 2.9172899,\n",
       " ['Cell phone', 'TV 55', 'TV 50', 'TV 42', 'Notebook A', 'Mictowave A', 'Microwave B', 'Microvwave C', 'Refrigerator C', 'Notebook B', 'Notebook C'],\n",
       " *** Total Price and Space: 24282.45 - 2.9172899,\n",
       " ['Cell phone', 'TV 55', 'TV 50', 'TV 42', 'Notebook A', 'Mictowave A', 'Microwave B', 'Microvwave C', 'Refrigerator C', 'Notebook B', 'Notebook C'],\n",
       " *** Total Price and Space: 24282.45 - 2.9172899,\n",
       " ['Cell phone', 'TV 55', 'TV 50', 'TV 42', 'Notebook A', 'Mictowave A', 'Microwave B', 'Microvwave C', 'Refrigerator C', 'Notebook B', 'Notebook C'],\n",
       " *** Total Price and Space: 24282.45 - 2.9172899,\n",
       " ['Cell phone', 'TV 55', 'TV 50', 'TV 42', 'Notebook A', 'Mictowave A', 'Microwave B', 'Microvwave C', 'Refrigerator C', 'Notebook B', 'Notebook C'],\n",
       " *** Total Price and Space: 24282.45 - 2.9172899,\n",
       " ['Cell phone', 'TV 55', 'TV 50', 'TV 42', 'Notebook A', 'Mictowave A', 'Microwave B', 'Microvwave C', 'Refrigerator C', 'Notebook B', 'Notebook C'],\n",
       " *** Total Price and Space: 24282.45 - 2.9172899,\n",
       " ['Cell phone', 'TV 55', 'TV 50', 'TV 42', 'Notebook A', 'Mictowave A', 'Microwave B', 'Microvwave C', 'Refrigerator C', 'Notebook B', 'Notebook C'],\n",
       " *** Total Price and Space: 24282.45 - 2.9172899,\n",
       " ['Cell phone', 'TV 55', 'TV 50', 'TV 42', 'Notebook A', 'Mictowave A', 'Microwave B', 'Microvwave C', 'Refrigerator C', 'Notebook B', 'Notebook C'],\n",
       " *** Total Price and Space: 24282.45 - 2.9172899,\n",
       " ['Cell phone', 'TV 55', 'TV 50', 'TV 42', 'Notebook A', 'Mictowave A', 'Microwave B', 'Microvwave C', 'Refrigerator C', 'Notebook B', 'Notebook C'],\n",
       " *** Total Price and Space: 24282.45 - 2.9172899,\n",
       " ['Cell phone', 'TV 55', 'TV 50', 'TV 42', 'Notebook A', 'Mictowave A', 'Microwave B', 'Microvwave C', 'Refrigerator C', 'Notebook B', 'Notebook C'],\n",
       " *** Total Price and Space: 24282.45 - 2.9172899,\n",
       " ['Cell phone', 'TV 55', 'TV 50', 'TV 42', 'Notebook A', 'Mictowave A', 'Microwave B', 'Microvwave C', 'Refrigerator C', 'Notebook B', 'Notebook C'],\n",
       " *** Total Price and Space: 24282.45 - 2.9172899,\n",
       " ['Cell phone', 'TV 55', 'TV 50', 'TV 42', 'Notebook A', 'Mictowave A', 'Microwave B', 'Microvwave C', 'Refrigerator C', 'Notebook B', 'Notebook C'],\n",
       " *** Total Price and Space: 24282.45 - 2.9172899,\n",
       " ['Cell phone', 'TV 55', 'TV 50', 'TV 42', 'Notebook A', 'Mictowave A', 'Microwave B', 'Microvwave C', 'Refrigerator C', 'Notebook B', 'Notebook C'],\n",
       " *** Total Price and Space: 24282.45 - 2.9172899,\n",
       " ['Cell phone', 'TV 55', 'TV 50', 'TV 42', 'Notebook A', 'Mictowave A', 'Microwave B', 'Microvwave C', 'Refrigerator C', 'Notebook B', 'Notebook C'],\n",
       " *** Total Price and Space: 24282.45 - 2.9172899,\n",
       " ['Cell phone', 'TV 55', 'TV 50', 'TV 42', 'Notebook A', 'Mictowave A', 'Microwave B', 'Microvwave C', 'Refrigerator C', 'Notebook B', 'Notebook C'],\n",
       " *** Total Price and Space: 24282.45 - 2.9172899,\n",
       " ['Cell phone', 'TV 55', 'TV 50', 'TV 42', 'Notebook A', 'Mictowave A', 'Microwave B', 'Microvwave C', 'Refrigerator C', 'Notebook B', 'Notebook C'],\n",
       " *** Total Price and Space: 24282.45 - 2.9172899,\n",
       " ['Cell phone', 'TV 55', 'TV 50', 'TV 42', 'Notebook A', 'Mictowave A', 'Microwave B', 'Microvwave C', 'Refrigerator C', 'Notebook B', 'Notebook C'],\n",
       " *** Total Price and Space: 24282.45 - 2.9172899,\n",
       " ['Cell phone', 'TV 55', 'TV 50', 'TV 42', 'Notebook A', 'Mictowave A', 'Microwave B', 'Microvwave C', 'Refrigerator C', 'Notebook B', 'Notebook C'],\n",
       " *** Total Price and Space: 24282.45 - 2.9172899,\n",
       " ['Cell phone', 'TV 55', 'TV 50', 'TV 42', 'Notebook A', 'Mictowave A', 'Microwave B', 'Microvwave C', 'Refrigerator C', 'Notebook B', 'Notebook C'],\n",
       " *** Total Price and Space: 24282.45 - 2.9172899,\n",
       " ['Cell phone', 'TV 55', 'TV 50', 'TV 42', 'Notebook A', 'Mictowave A', 'Microwave B', 'Microvwave C', 'Refrigerator C', 'Notebook B', 'Notebook C'],\n",
       " *** Total Price and Space: 24282.45 - 2.9172899,\n",
       " ['Cell phone', 'TV 55', 'TV 50', 'TV 42', 'Notebook A', 'Mictowave A', 'Microwave B', 'Microvwave C', 'Refrigerator C', 'Notebook B', 'Notebook C'],\n",
       " *** Total Price and Space: 24282.45 - 2.9172899,\n",
       " ['Cell phone', 'TV 55', 'TV 50', 'TV 42', 'Notebook A', 'Mictowave A', 'Microwave B', 'Microvwave C', 'Refrigerator C', 'Notebook B', 'Notebook C'],\n",
       " *** Total Price and Space: 24282.45 - 2.9172899,\n",
       " ['Cell phone', 'TV 55', 'TV 50', 'TV 42', 'Notebook A', 'Mictowave A', 'Microwave B', 'Microvwave C', 'Refrigerator C', 'Notebook B', 'Notebook C'],\n",
       " *** Total Price and Space: 24282.45 - 2.9172899,\n",
       " ['Cell phone', 'TV 55', 'TV 50', 'TV 42', 'Notebook A', 'Mictowave A', 'Microwave B', 'Microvwave C', 'Refrigerator C', 'Notebook B', 'Notebook C'],\n",
       " *** Total Price and Space: 24282.45 - 2.9172899,\n",
       " ['Cell phone', 'TV 55', 'TV 50', 'TV 42', 'Notebook A', 'Mictowave A', 'Microwave B', 'Microvwave C', 'Refrigerator C', 'Notebook B', 'Notebook C'],\n",
       " *** Total Price and Space: 24282.45 - 2.9172899,\n",
       " ['Cell phone', 'TV 55', 'TV 50', 'TV 42', 'Notebook A', 'Mictowave A', 'Microwave B', 'Microvwave C', 'Refrigerator C', 'Notebook B', 'Notebook C'],\n",
       " *** Total Price and Space: 24282.45 - 2.9172899,\n",
       " ['Cell phone', 'TV 55', 'TV 50', 'TV 42', 'Notebook A', 'Mictowave A', 'Microwave B', 'Microvwave C', 'Refrigerator C', 'Notebook B', 'Notebook C'],\n",
       " *** Total Price and Space: 24282.45 - 2.9172899,\n",
       " ['Cell phone', 'TV 55', 'TV 50', 'TV 42', 'Notebook A', 'Mictowave A', 'Microwave B', 'Microvwave C', 'Refrigerator C', 'Notebook B', 'Notebook C'],\n",
       " *** Total Price and Space: 24282.45 - 2.9172899,\n",
       " ['Cell phone', 'TV 55', 'TV 50', 'TV 42', 'Notebook A', 'Mictowave A', 'Microwave B', 'Microvwave C', 'Refrigerator C', 'Notebook B', 'Notebook C'],\n",
       " *** Total Price and Space: 24282.45 - 2.9172899,\n",
       " ['Cell phone', 'TV 55', 'TV 50', 'TV 42', 'Notebook A', 'Mictowave A', 'Microwave B', 'Microvwave C', 'Refrigerator C', 'Notebook B', 'Notebook C'],\n",
       " *** Total Price and Space: 24282.45 - 2.9172899,\n",
       " ['Cell phone', 'TV 55', 'TV 50', 'TV 42', 'Notebook A', 'Mictowave A', 'Microwave B', 'Microvwave C', 'Refrigerator C', 'Notebook B', 'Notebook C'],\n",
       " *** Total Price and Space: 24282.45 - 2.9172899,\n",
       " ['Cell phone', 'TV 55', 'TV 50', 'TV 42', 'Notebook A', 'Mictowave A', 'Microwave B', 'Microvwave C', 'Refrigerator C', 'Notebook B', 'Notebook C'],\n",
       " *** Total Price and Space: 24282.45 - 2.9172899,\n",
       " ['Cell phone', 'TV 55', 'TV 50', 'TV 42', 'Notebook A', 'Mictowave A', 'Microwave B', 'Microvwave C', 'Refrigerator C', 'Notebook B', 'Notebook C'],\n",
       " *** Total Price and Space: 24282.45 - 2.9172899,\n",
       " ['Cell phone', 'TV 55', 'TV 50', 'TV 42', 'Notebook A', 'Mictowave A', 'Microwave B', 'Microvwave C', 'Refrigerator C', 'Notebook B', 'Notebook C'],\n",
       " *** Total Price and Space: 24282.45 - 2.9172899,\n",
       " ['Cell phone', 'TV 55', 'TV 50', 'TV 42', 'Notebook A', 'Mictowave A', 'Microwave B', 'Microvwave C', 'Refrigerator C', 'Notebook B', 'Notebook C'],\n",
       " *** Total Price and Space: 24282.45 - 2.9172899,\n",
       " ['Cell phone', 'TV 55', 'TV 50', 'TV 42', 'Notebook A', 'Mictowave A', 'Microwave B', 'Microvwave C', 'Refrigerator C', 'Notebook B', 'Notebook C'],\n",
       " *** Total Price and Space: 24282.45 - 2.9172899,\n",
       " ['Cell phone', 'TV 55', 'TV 50', 'TV 42', 'Notebook A', 'Mictowave A', 'Microwave B', 'Microvwave C', 'Refrigerator C', 'Notebook B', 'Notebook C'],\n",
       " *** Total Price and Space: 24282.45 - 2.9172899,\n",
       " ['Cell phone', 'TV 55', 'TV 50', 'TV 42', 'Notebook A', 'Mictowave A', 'Microwave B', 'Microvwave C', 'Refrigerator C', 'Notebook B', 'Notebook C'],\n",
       " *** Total Price and Space: 24282.45 - 2.9172899,\n",
       " ['Cell phone', 'TV 55', 'TV 50', 'TV 42', 'Notebook A', 'Mictowave A', 'Microwave B', 'Microvwave C', 'Refrigerator C', 'Notebook B', 'Notebook C'],\n",
       " *** Total Price and Space: 24282.45 - 2.9172899,\n",
       " ['Cell phone', 'TV 55', 'TV 50', 'TV 42', 'Notebook A', 'Mictowave A', 'Microwave B', 'Microvwave C', 'Refrigerator C', 'Notebook B', 'Notebook C'],\n",
       " *** Total Price and Space: 24282.45 - 2.9172899,\n",
       " ['Cell phone', 'TV 55', 'TV 50', 'TV 42', 'Notebook A', 'Mictowave A', 'Microwave B', 'Microvwave C', 'Refrigerator C', 'Notebook B', 'Notebook C'],\n",
       " *** Total Price and Space: 24282.45 - 2.9172899,\n",
       " ['Cell phone', 'TV 55', 'TV 50', 'TV 42', 'Notebook A', 'Mictowave A', 'Microwave B', 'Microvwave C', 'Refrigerator C', 'Notebook B', 'Notebook C'],\n",
       " *** Total Price and Space: 24282.45 - 2.9172899,\n",
       " ['Cell phone', 'TV 55', 'TV 50', 'TV 42', 'Notebook A', 'Mictowave A', 'Microwave B', 'Microvwave C', 'Refrigerator C', 'Notebook B', 'Notebook C'],\n",
       " *** Total Price and Space: 24282.45 - 2.9172899,\n",
       " ['Cell phone', 'TV 55', 'TV 50', 'TV 42', 'Notebook A', 'Mictowave A', 'Microwave B', 'Microvwave C', 'Refrigerator C', 'Notebook B', 'Notebook C'],\n",
       " *** Total Price and Space: 24282.45 - 2.9172899,\n",
       " ['Cell phone', 'TV 55', 'TV 50', 'TV 42', 'Notebook A', 'Mictowave A', 'Microwave B', 'Microvwave C', 'Refrigerator C', 'Notebook B', 'Notebook C'],\n",
       " *** Total Price and Space: 24282.45 - 2.9172899,\n",
       " ['Cell phone', 'TV 55', 'TV 50', 'TV 42', 'Notebook A', 'Mictowave A', 'Microwave B', 'Microvwave C', 'Refrigerator C', 'Notebook B', 'Notebook C'],\n",
       " *** Total Price and Space: 24282.45 - 2.9172899,\n",
       " ['Cell phone', 'TV 55', 'TV 50', 'TV 42', 'Notebook A', 'Mictowave A', 'Microwave B', 'Microvwave C', 'Refrigerator C', 'Notebook B', 'Notebook C'],\n",
       " *** Total Price and Space: 24282.45 - 2.9172899,\n",
       " ['Cell phone', 'TV 55', 'TV 50', 'TV 42', 'Notebook A', 'Mictowave A', 'Microwave B', 'Microvwave C', 'Refrigerator C', 'Notebook B', 'Notebook C'],\n",
       " *** Total Price and Space: 24282.45 - 2.9172899,\n",
       " ['Cell phone', 'TV 55', 'TV 50', 'TV 42', 'Notebook A', 'Mictowave A', 'Microwave B', 'Microvwave C', 'Refrigerator C', 'Notebook B', 'Notebook C'],\n",
       " *** Total Price and Space: 24282.45 - 2.9172899,\n",
       " ['Cell phone', 'TV 55', 'TV 50', 'TV 42', 'Notebook A', 'Mictowave A', 'Microwave B', 'Microvwave C', 'Refrigerator C', 'Notebook B', 'Notebook C'],\n",
       " *** Total Price and Space: 24282.45 - 2.9172899,\n",
       " ['Cell phone', 'TV 55', 'TV 50', 'TV 42', 'Notebook A', 'Mictowave A', 'Microwave B', 'Microvwave C', 'Refrigerator C', 'Notebook B', 'Notebook C'],\n",
       " *** Total Price and Space: 24282.45 - 2.9172899,\n",
       " ['Cell phone', 'TV 55', 'TV 50', 'TV 42', 'Notebook A', 'Mictowave A', 'Microwave B', 'Microvwave C', 'Refrigerator C', 'Notebook B', 'Notebook C'],\n",
       " *** Total Price and Space: 24282.45 - 2.9172899,\n",
       " ['Cell phone', 'TV 55', 'TV 50', 'TV 42', 'Notebook A', 'Mictowave A', 'Microwave B', 'Microvwave C', 'Refrigerator C', 'Notebook B', 'Notebook C'],\n",
       " *** Total Price and Space: 24282.45 - 2.9172899,\n",
       " ['Cell phone', 'TV 55', 'TV 50', 'TV 42', 'Notebook A', 'Mictowave A', 'Microwave B', 'Microvwave C', 'Refrigerator C', 'Notebook B', 'Notebook C'],\n",
       " *** Total Price and Space: 24282.45 - 2.9172899,\n",
       " ['Cell phone', 'TV 55', 'TV 50', 'TV 42', 'Notebook A', 'Mictowave A', 'Microwave B', 'Microvwave C', 'Refrigerator C', 'Notebook B', 'Notebook C'],\n",
       " *** Total Price and Space: 24282.45 - 2.9172899,\n",
       " ['Cell phone', 'TV 55', 'TV 50', 'TV 42', 'Notebook A', 'Mictowave A', 'Microwave B', 'Microvwave C', 'Refrigerator C', 'Notebook B', 'Notebook C'],\n",
       " *** Total Price and Space: 24282.45 - 2.9172899,\n",
       " ['Cell phone', 'TV 55', 'TV 50', 'TV 42', 'Notebook A', 'Mictowave A', 'Microwave B', 'Microvwave C', 'Refrigerator C', 'Notebook B', 'Notebook C'],\n",
       " *** Total Price and Space: 24282.45 - 2.9172899,\n",
       " ['Cell phone', 'TV 55', 'TV 50', 'TV 42', 'Notebook A', 'Mictowave A', 'Microwave B', 'Microvwave C', 'Refrigerator C', 'Notebook B', 'Notebook C'],\n",
       " *** Total Price and Space: 24282.45 - 2.9172899,\n",
       " ['Cell phone', 'TV 55', 'TV 50', 'TV 42', 'Notebook A', 'Mictowave A', 'Microwave B', 'Microvwave C', 'Refrigerator C', 'Notebook B', 'Notebook C'],\n",
       " *** Total Price and Space: 24282.45 - 2.9172899]"
      ]
     },
     "execution_count": 138,
     "metadata": {},
     "output_type": "execute_result"
    }
   ],
   "source": [
    "ga.list_of_best_solution"
   ]
  },
  {
   "cell_type": "code",
   "execution_count": null,
   "id": "d50bc5c4",
   "metadata": {},
   "outputs": [],
   "source": []
  }
 ],
 "metadata": {
  "kernelspec": {
   "display_name": "Python 3 (ipykernel)",
   "language": "python",
   "name": "python3"
  },
  "language_info": {
   "codemirror_mode": {
    "name": "ipython",
    "version": 3
   },
   "file_extension": ".py",
   "mimetype": "text/x-python",
   "name": "python",
   "nbconvert_exporter": "python",
   "pygments_lexer": "ipython3",
   "version": "3.9.7"
  }
 },
 "nbformat": 4,
 "nbformat_minor": 5
}
