{
 "cells": [
  {
   "cell_type": "code",
   "execution_count": 1,
   "id": "1af71308",
   "metadata": {},
   "outputs": [],
   "source": [
    "import random"
   ]
  },
  {
   "cell_type": "code",
   "execution_count": 2,
   "id": "0b4b672b",
   "metadata": {},
   "outputs": [],
   "source": [
    "# create time decorator to calculate different function run time\n",
    "\n",
    "from time import time\n",
    "def time_decorator(func):\n",
    "    def wrapper(*arge, **kwarge):\n",
    "        tic = time()\n",
    "        res = func(*arge, **kwarge)\n",
    "        print(f\"{func.__name__} took {time() - tic:.4f} sec\")\n",
    "        return res\n",
    "    return wrapper"
   ]
  },
  {
   "cell_type": "code",
   "execution_count": 3,
   "id": "c9a63779",
   "metadata": {},
   "outputs": [],
   "source": [
    "# create some random product with their price and volume\n",
    "\n",
    "product = ['Refrigerator A', 'Cell phone', 'TV 55', 'TV 50', 'TV 42', 'Notebook A', 'Ventilator', 'Mictowave A',\n",
    "          'Microwave B', 'Microvwave C', 'Refrigerator B', 'Refrigerator C', 'Notebook B', 'Notebook C']\n",
    "\n",
    "price = [999.90, 2199.12, 4346.99, 3999.90, 2999.90, 2499.90, 199.90, 308.66, 429.90, 299.29, 849.00,\n",
    "        1199.89, 1999.90, 3999.00]\n",
    "\n",
    "size = [0.751, 0.0000899, 0.400, 0.290, 0.200, 0.0035, 0.496, 0.0424, 0.0544, 0.0319, 0.635, 0.870, 0.498,\n",
    "       0.527]"
   ]
  },
  {
   "cell_type": "code",
   "execution_count": 4,
   "id": "8c2237c5",
   "metadata": {},
   "outputs": [],
   "source": [
    "product = ['Refrigerator A', 'Cell phone A', 'TV 55', 'TV 50', 'TV 42', 'Notebook A', 'Ventilator', 'Mictowave A',\n",
    "          'Microwave B', 'Microvwave C', 'Refrigerator B', 'Refrigerator C', 'Notebook B', 'Notebook C',\n",
    "          'Cell phone B', 'Cell phone c', 'Apple TV', 'Refrigerator C', 'Refrigerator D', 'Notebook C']\n",
    "\n",
    "price = [999.90, 2199.12, 4346.99, 3999.90, 2999.90, 2499.90, 199.90, 308.66, 429.90, 299.29, 849.00,\n",
    "        1199.89, 1999.90, 3999.00, 2100.12, 2000.99, 399.99, 1999.99, 1250.90, 3999.90]\n",
    "\n",
    "size = [0.751, 0.0000899, 0.400, 0.290, 0.200, 0.0035, 0.496, 0.0424, 0.0544, 0.0319, 0.635, 0.870, 0.498,\n",
    "       0.527, 0.00009, 0.0001009, 0.0003009, 0.851, 0.951, 0.0075]"
   ]
  },
  {
   "cell_type": "code",
   "execution_count": 4,
   "id": "f0398259",
   "metadata": {},
   "outputs": [
    {
     "data": {
      "text/plain": [
       "(20, 20, 20)"
      ]
     },
     "execution_count": 4,
     "metadata": {},
     "output_type": "execute_result"
    }
   ],
   "source": [
    "len(product), len(price), len(size)"
   ]
  },
  {
   "cell_type": "code",
   "execution_count": 9,
   "id": "f9171490",
   "metadata": {},
   "outputs": [],
   "source": [
    "class Product():\n",
    "    def __init__(self, name, price, size):\n",
    "        self.name = name\n",
    "        self.price = price\n",
    "        self.size = size\n",
    "    \n",
    "    def __repr__(self):\n",
    "        return f'{self.name} -Price: {self.price} -Size: {self.size}'"
   ]
  },
  {
   "cell_type": "code",
   "execution_count": 10,
   "id": "7c80487c",
   "metadata": {},
   "outputs": [
    {
     "data": {
      "text/plain": [
       "[Refrigerator A -Price: 999.9 -Size: 0.751,\n",
       " Cell phone A -Price: 2199.12 -Size: 8.99e-05,\n",
       " TV 55 -Price: 4346.99 -Size: 0.4,\n",
       " TV 50 -Price: 3999.9 -Size: 0.29,\n",
       " TV 42 -Price: 2999.9 -Size: 0.2,\n",
       " Notebook A -Price: 2499.9 -Size: 0.0035,\n",
       " Ventilator -Price: 199.9 -Size: 0.496,\n",
       " Mictowave A -Price: 308.66 -Size: 0.0424,\n",
       " Microwave B -Price: 429.9 -Size: 0.0544,\n",
       " Microvwave C -Price: 299.29 -Size: 0.0319,\n",
       " Refrigerator B -Price: 849.0 -Size: 0.635,\n",
       " Refrigerator C -Price: 1199.89 -Size: 0.87,\n",
       " Notebook B -Price: 1999.9 -Size: 0.498,\n",
       " Notebook C -Price: 3999.0 -Size: 0.527,\n",
       " Cell phone B -Price: 2100.12 -Size: 9e-05,\n",
       " Cell phone c -Price: 2000.99 -Size: 0.0001009,\n",
       " Apple TV -Price: 399.99 -Size: 0.0003009,\n",
       " Refrigerator C -Price: 1999.99 -Size: 0.851,\n",
       " Refrigerator D -Price: 1250.9 -Size: 0.951,\n",
       " Notebook C -Price: 3999.9 -Size: 0.0075]"
      ]
     },
     "execution_count": 10,
     "metadata": {},
     "output_type": "execute_result"
    }
   ],
   "source": [
    "product_list = []\n",
    "for i in range(len(product)):\n",
    "    product_list.append(Product(product[i], price[i], size[i]))\n",
    "\n",
    "product_list"
   ]
  },
  {
   "cell_type": "markdown",
   "id": "57a4bfe0",
   "metadata": {},
   "source": [
    "<img src=\"https://www.researchgate.net/publication/268525551/figure/fig5/AS:295386582405135@1447437057836/Illustration-of-examples-of-one-point-two-points-and-uniform-crossover-methods-Adapted.png\" width=\"400\"/>\n",
    "<img src=\"https://editor.analyticsvidhya.com/uploads/550041623128158975.png\" width=\"400\"/>"
   ]
  },
  {
   "cell_type": "code",
   "execution_count": 11,
   "id": "edfd836d",
   "metadata": {},
   "outputs": [],
   "source": [
    "\"\"\"individual --> base on our input product create random chromosome contain 0 or 1 as inculde or not include product\n",
    "fitness function --> calculate each individual overal price and volume\n",
    "crossover --> choose 2 parents and trade their chromosome to create new individual as new generation\n",
    "mutatoin --> flip 0 or 1 in chromosome \n",
    "\"\"\"\n",
    "\n",
    "class Individual():\n",
    "    def __init__(self, products, prices, spaces, space_limit, generation=0):\n",
    "        self.products = products\n",
    "        self.prices = prices\n",
    "        self.spaces = spaces\n",
    "        self.space_limit = space_limit\n",
    "        self.generation = generation\n",
    "        self.total_price = 0\n",
    "        self.total_space = 0\n",
    "        self.chromosome = []\n",
    "        for i in range(len(self.prices)):\n",
    "            if random.random() > 0.5:\n",
    "                self.chromosome.append('1')\n",
    "            else:\n",
    "                self.chromosome.append('0')\n",
    "        \n",
    "    def fitness(self):\n",
    "        price = 0\n",
    "        space = 0\n",
    "        for i in range(len(self.chromosome)):\n",
    "            if self.chromosome[i] == '1':\n",
    "                price += self.prices[i]\n",
    "                space += self.spaces[i]\n",
    "        \n",
    "        self.total_price = price\n",
    "        self.total_space = space\n",
    "                \n",
    "        if self.total_space > self.space_limit:\n",
    "            self.total_price = 1\n",
    "        \n",
    "        return self.total_price\n",
    "                \n",
    "    def crossover(self, other):\n",
    "        idx = random.randint(0, len(self.prices))\n",
    "        children = [Individual(self.products, self.prices, self.spaces, self.space_limit, self.generation + 1),\n",
    "                    Individual(self.products, self.prices, self.spaces, self.space_limit, self.generation + 1)]\n",
    "        \n",
    "        children[0].chromosome = self.chromosome[:idx] + other.chromosome[idx:]\n",
    "        children[1].chromosome = other.chromosome[:idx] + self.chromosome[idx:]\n",
    "        \n",
    "        return children[0], children[1]\n",
    "\n",
    "    def mutation(self, rate=0.02):\n",
    "        for i, item in enumerate(self.chromosome):\n",
    "            if random.random() < rate:\n",
    "                self.chromosome[i] = str(abs(1 - int(item)))\n",
    "                \n",
    "    def __repr__(self):\n",
    "        items = []\n",
    "        self.fitness()\n",
    "        for i, item in enumerate(self.chromosome):\n",
    "            if item == '1':\n",
    "                product = Product(self.products[i], self.prices[i], self.spaces[i])\n",
    "                items.append(product.name)\n",
    "                \n",
    "        return f\"{items},\\n*** Total Price and Space: {self.total_price} - {self.total_space}\""
   ]
  },
  {
   "cell_type": "code",
   "execution_count": 31,
   "id": "1c7c0334",
   "metadata": {},
   "outputs": [],
   "source": [
    "class GeneticAlgorithm():\n",
    "    def __init__(self, population_size):\n",
    "        self.population_size = population_size\n",
    "        self.population = []\n",
    "#         self.generation = 0\n",
    "        self.best_solution = None\n",
    "        self.list_of_best_solution = []\n",
    "        \n",
    "    def _initialize_population(self, products, prices, spaces, space_limit):\n",
    "        for i in range(self.population_size):\n",
    "            self.population.append(Individual(products, prices, spaces, space_limit, generation=0))\n",
    "         \n",
    "    def _best_of_spring(self):\n",
    "        self.population = sorted(self.population, key=lambda x: x.fitness(), reverse=True)\n",
    "        if not self.best_solution:\n",
    "            self.best_solution = self.population[0]\n",
    "        elif self.best_solution.total_price < self.population[0].total_price:\n",
    "            self.best_solution = self.population[0]\n",
    "            \n",
    "        self.list_of_best_solution.append(self.population[0])\n",
    "        \n",
    "    def _select_parents(self):\n",
    "        sum_of_all_product = sum([x.total_price for x in self.population])\n",
    "        limit_price = random.random() * sum_of_all_product\n",
    "        sum_prices = 0\n",
    "        parent = -1\n",
    "        while parent < self.population_size and sum_prices < limit_price:\n",
    "            sum_prices += self.population[parent+1].total_price\n",
    "            parent += 1\n",
    "        return self.population[parent]\n",
    "    \n",
    "    def visualize(self):\n",
    "        print(f\"Generation: {self.population[0].generation}th, Best of Generation: {self.population[0].total_price}\")\n",
    "    \n",
    "    @time_decorator\n",
    "    def solve_problem(self, products, prices, spaces, space_limit, number_of_generation, visualize=False):\n",
    "        self._initialize_population(products, prices, spaces, space_limit)\n",
    "        \n",
    "        for i in range(number_of_generation):\n",
    "            self._best_of_spring()\n",
    "            new_population = []\n",
    "            if visualize:\n",
    "                self.visualize()\n",
    "                \n",
    "            for i in range(0, self.population_size, 2):\n",
    "                parent1 = self._select_parents()\n",
    "                parent2 = self._select_parents()\n",
    "                child1, child2 = parent1.crossover(parent2)\n",
    "                child1.mutation()\n",
    "                child2.mutation()\n",
    "                new_population.append(child1)\n",
    "                new_population.append(child2)\n",
    "        \n",
    "            self.population = new_population\n",
    "            \n",
    "        print(f'***The best: {self.best_solution.generation}th Generation With: {self.best_solution.total_price} price')"
   ]
  },
  {
   "cell_type": "code",
   "execution_count": 87,
   "id": "ffbb61bf",
   "metadata": {},
   "outputs": [
    {
     "name": "stdout",
     "output_type": "stream",
     "text": [
      "['0', '1', '0', '0', '0', '0', '0', '0', '1', '1', '0', '0', '0', '0', '1', '1', '1', '1', '1', '0']\n"
     ]
    },
    {
     "data": {
      "text/plain": [
       "['Cell phone A', 'Microwave B', 'Microvwave C', 'Cell phone B', 'Cell phone c', 'Apple TV', 'Refrigerator C', 'Refrigerator D'],\n",
       "*** Total Price and Space: 10680.3 - 1.8888816999999998"
      ]
     },
     "execution_count": 87,
     "metadata": {},
     "output_type": "execute_result"
    }
   ],
   "source": [
    "individual1 = Individual(product, price, size, 3)\n",
    "print(individual1.chromosome)\n",
    "individual1.fitness()\n",
    "individual1"
   ]
  },
  {
   "cell_type": "code",
   "execution_count": 57,
   "id": "15ff4e9d",
   "metadata": {},
   "outputs": [
    {
     "name": "stdout",
     "output_type": "stream",
     "text": [
      "['1', '1', '0', '1', '1', '1', '1', '1', '0', '0', '1', '0', '1', '1', '1', '0', '0', '1', '1', '1']\n"
     ]
    },
    {
     "data": {
      "text/plain": [
       "(1, 4.7238)"
      ]
     },
     "execution_count": 57,
     "metadata": {},
     "output_type": "execute_result"
    }
   ],
   "source": [
    "individual2 = Individual(product, price, size, 3)\n",
    "print(individual2.chromosome)\n",
    "individual2.fitness()\n",
    "individual2.total_price, individual1.total_space"
   ]
  },
  {
   "cell_type": "code",
   "execution_count": 79,
   "id": "7b396662",
   "metadata": {},
   "outputs": [
    {
     "data": {
      "text/plain": [
       "['1',\n",
       " '0',\n",
       " '1',\n",
       " '1',\n",
       " '0',\n",
       " '0',\n",
       " '0',\n",
       " '1',\n",
       " '0',\n",
       " '0',\n",
       " '0',\n",
       " '0',\n",
       " '0',\n",
       " '1',\n",
       " '1',\n",
       " '1',\n",
       " '1',\n",
       " '1',\n",
       " '0',\n",
       " '0']"
      ]
     },
     "execution_count": 79,
     "metadata": {},
     "output_type": "execute_result"
    }
   ],
   "source": [
    "individual2.mutation(0.09)\n",
    "individual2.chromosome"
   ]
  },
  {
   "cell_type": "code",
   "execution_count": 80,
   "id": "21956b76",
   "metadata": {},
   "outputs": [],
   "source": [
    "a, b = individual1.crossover(individual2)"
   ]
  },
  {
   "cell_type": "code",
   "execution_count": 81,
   "id": "a804a8cb",
   "metadata": {},
   "outputs": [
    {
     "data": {
      "text/plain": [
       "__main__.Individual"
      ]
     },
     "execution_count": 81,
     "metadata": {},
     "output_type": "execute_result"
    }
   ],
   "source": [
    "type(a)"
   ]
  },
  {
   "cell_type": "code",
   "execution_count": 82,
   "id": "38e33261",
   "metadata": {},
   "outputs": [
    {
     "name": "stdout",
     "output_type": "stream",
     "text": [
      "19036.67 2.1508798999999996\n",
      "18689.06 2.9136908999999998\n",
      "16898.68 1.6793009\n",
      "15687.439999999999 2.5950009\n",
      "15674.09 1.9646908\n",
      "14503.729999999998 2.1359009\n",
      "14397.97 1.6765008999999997\n",
      "14386.259999999998 2.6506908\n",
      "13447.909999999998 2.51459\n",
      "12984.359999999999 1.8683899\n",
      "9209.45 1.6088918\n",
      "1 3.5123018000000004\n",
      "1 3.7869808000000003\n",
      "1 3.8045799000000002\n",
      "1 3.4911909000000003\n",
      "1 4.8872909\n",
      "1 4.8289\n",
      "1 4.5814909\n",
      "1 4.186881700000001\n",
      "1 3.8118\n"
     ]
    }
   ],
   "source": [
    "anscestor = GeneticAlgorithm(20)\n",
    "anscestor._initialize_population(product, price, size, 3)\n",
    "anscestor._best_of_spring()\n",
    "for i in range(len(anscestor.population)):\n",
    "    print(anscestor.population[i].total_price, anscestor.population[i].total_space)"
   ]
  },
  {
   "cell_type": "code",
   "execution_count": 83,
   "id": "1922279e",
   "metadata": {},
   "outputs": [
    {
     "data": {
      "text/plain": [
       "['Refrigerator A', 'TV 50', 'TV 42', 'Refrigerator B', 'Notebook B', 'Notebook C', 'Cell phone c', 'Refrigerator C', 'Notebook C'],\n",
       "*** Total Price and Space: 1 - 3.7596008999999997"
      ]
     },
     "execution_count": 83,
     "metadata": {},
     "output_type": "execute_result"
    }
   ],
   "source": [
    "ga = GeneticAlgorithm(20)\n",
    "ga._initialize_population(product, price, size, 3)\n",
    "ga._select_parents()"
   ]
  },
  {
   "cell_type": "code",
   "execution_count": 33,
   "id": "e19cfef3",
   "metadata": {},
   "outputs": [
    {
     "name": "stdout",
     "output_type": "stream",
     "text": [
      "***The best: 225th Generation With: 34783.44 price\n",
      "solve_problem took 0.3933 sec\n"
     ]
    }
   ],
   "source": [
    "ga = GeneticAlgorithm(20)\n",
    "ga.solve_problem(product, price, size, space_limit=4, number_of_generation=1000, visualize=False)"
   ]
  },
  {
   "cell_type": "code",
   "execution_count": 32,
   "id": "c4542b0f",
   "metadata": {},
   "outputs": [
    {
     "data": {
      "text/plain": [
       "['Cell phone A', 'TV 55', 'TV 50', 'TV 42', 'Notebook A', 'Mictowave A', 'Microwave B', 'Microvwave C', 'Notebook B', 'Notebook C', 'Cell phone B', 'Cell phone c', 'Apple TV', 'Refrigerator C', 'Refrigerator D', 'Notebook C'],\n",
       "*** Total Price and Space: 34834.450000000004 - 3.8572817"
      ]
     },
     "execution_count": 32,
     "metadata": {},
     "output_type": "execute_result"
    }
   ],
   "source": [
    "ga.best_solution"
   ]
  },
  {
   "cell_type": "code",
   "execution_count": 49,
   "id": "d50bc5c4",
   "metadata": {},
   "outputs": [
    {
     "data": {
      "text/plain": [
       "[['TV 50', 'TV 42', 'Ventilator', 'Mictowave A', 'Microvwave C', 'Refrigerator B', 'Notebook B', 'Notebook C', 'Cell phone B', 'Cell phone c', 'Apple TV', 'Notebook C'],\n",
       " *** Total Price and Space: 23156.550000000003 - 2.7282918,\n",
       " ['TV 50', 'TV 42', 'Ventilator', 'Mictowave A', 'Microvwave C', 'Refrigerator B', 'Notebook B', 'Notebook C', 'Cell phone B', 'Cell phone c', 'Apple TV', 'Notebook C'],\n",
       " *** Total Price and Space: 23156.550000000003 - 2.7282918,\n",
       " ['Refrigerator A', 'Cell phone A', 'TV 55', 'TV 42', 'Notebook A', 'Mictowave A', 'Microwave B', 'Microvwave C', 'Refrigerator B', 'Notebook C', 'Cell phone B', 'Apple TV', 'Notebook C'],\n",
       " *** Total Price and Space: 25431.670000000002 - 2.6531808000000003,\n",
       " ['Refrigerator A', 'Cell phone A', 'TV 55', 'TV 42', 'Notebook A', 'Mictowave A', 'Microwave B', 'Microvwave C', 'Notebook B', 'Notebook C', 'Cell phone B', 'Cell phone c', 'Apple TV', 'Notebook C'],\n",
       " *** Total Price and Space: 28583.56 - 2.5162817000000004,\n",
       " ['Refrigerator A', 'Cell phone A', 'TV 55', 'TV 42', 'Notebook A', 'Mictowave A', 'Microwave B', 'Microvwave C', 'Notebook B', 'Notebook C', 'Cell phone B', 'Cell phone c', 'Apple TV', 'Notebook C'],\n",
       " *** Total Price and Space: 28583.56 - 2.5162817000000004,\n",
       " ['Refrigerator A', 'Cell phone A', 'TV 42', 'Notebook A', 'Notebook B', 'Notebook C', 'Cell phone B', 'Cell phone c', 'Apple TV', 'Refrigerator D', 'Notebook C'],\n",
       " *** Total Price and Space: 24449.620000000006 - 2.9385817,\n",
       " ['Refrigerator A', 'TV 55', 'TV 50', 'TV 42', 'Mictowave A', 'Microvwave C', 'Notebook B', 'Notebook C', 'Cell phone B', 'Cell phone c', 'Apple TV', 'Notebook C'],\n",
       " *** Total Price and Space: 27454.540000000005 - 2.7482918000000005,\n",
       " ['Refrigerator A', 'TV 55', 'TV 50', 'TV 42', 'Mictowave A', 'Microvwave C', 'Notebook B', 'Notebook C', 'Cell phone B', 'Cell phone c', 'Apple TV', 'Notebook C'],\n",
       " *** Total Price and Space: 27454.540000000005 - 2.7482918000000005,\n",
       " ['Refrigerator A', 'TV 55', 'TV 50', 'TV 42', 'Notebook A', 'Mictowave A', 'Microwave B', 'Microvwave C', 'Notebook B', 'Notebook C', 'Cell phone c', 'Apple TV'],\n",
       " *** Total Price and Space: 24284.320000000003 - 2.7986018000000006,\n",
       " ['Refrigerator A', 'TV 55', 'TV 50', 'TV 42', 'Microwave B', 'Microvwave C', 'Notebook B', 'Notebook C', 'Cell phone B', 'Cell phone c', 'Apple TV', 'Notebook C'],\n",
       " *** Total Price and Space: 27575.780000000002 - 2.7602918,\n",
       " ['Refrigerator A', 'TV 55', 'TV 50', 'TV 42', 'Microwave B', 'Microvwave C', 'Notebook B', 'Notebook C', 'Cell phone B', 'Cell phone c', 'Apple TV', 'Notebook C'],\n",
       " *** Total Price and Space: 27575.780000000002 - 2.7602918,\n",
       " ['Refrigerator A', 'TV 55', 'TV 50', 'TV 42', 'Microwave B', 'Microvwave C', 'Notebook B', 'Notebook C', 'Cell phone B', 'Cell phone c', 'Apple TV', 'Notebook C'],\n",
       " *** Total Price and Space: 27575.780000000002 - 2.7602918,\n",
       " ['Refrigerator A', 'TV 55', 'TV 50', 'TV 42', 'Microwave B', 'Microvwave C', 'Notebook B', 'Notebook C', 'Cell phone B', 'Cell phone c', 'Apple TV', 'Notebook C'],\n",
       " *** Total Price and Space: 27575.780000000002 - 2.7602918,\n",
       " ['Refrigerator A', 'TV 55', 'TV 50', 'TV 42', 'Microwave B', 'Microvwave C', 'Notebook B', 'Notebook C', 'Cell phone B', 'Cell phone c', 'Apple TV', 'Notebook C'],\n",
       " *** Total Price and Space: 27575.780000000002 - 2.7602918,\n",
       " ['Refrigerator A', 'TV 55', 'TV 50', 'TV 42', 'Microwave B', 'Microvwave C', 'Notebook B', 'Notebook C', 'Cell phone B', 'Cell phone c', 'Apple TV', 'Notebook C'],\n",
       " *** Total Price and Space: 27575.780000000002 - 2.7602918,\n",
       " ['Refrigerator A', 'TV 55', 'TV 50', 'TV 42', 'Mictowave A', 'Microwave B', 'Microvwave C', 'Notebook B', 'Notebook C', 'Cell phone c', 'Apple TV', 'Notebook C'],\n",
       " *** Total Price and Space: 25784.320000000003 - 2.8026018,\n",
       " ['Refrigerator A', 'TV 55', 'TV 50', 'TV 42', 'Microvwave C', 'Notebook B', 'Notebook C', 'Cell phone B', 'Apple TV', 'Notebook C'],\n",
       " *** Total Price and Space: 25144.89 - 2.7057909,\n",
       " ['Refrigerator A', 'Cell phone A', 'TV 55', 'TV 50', 'TV 42', 'Microvwave C', 'Notebook B', 'Notebook C', 'Cell phone B', 'Cell phone c', 'Apple TV', 'Notebook C'],\n",
       " *** Total Price and Space: 29345.000000000004 - 2.7059817000000006,\n",
       " ['Refrigerator A', 'TV 55', 'TV 50', 'TV 42', 'Microwave B', 'Microvwave C', 'Notebook B', 'Notebook C', 'Cell phone c', 'Apple TV', 'Notebook C'],\n",
       " *** Total Price and Space: 25475.660000000003 - 2.7602018,\n",
       " ['Refrigerator A', 'TV 55', 'TV 50', 'TV 42', 'Microwave B', 'Microvwave C', 'Notebook B', 'Notebook C', 'Cell phone B', 'Cell phone c', 'Apple TV', 'Notebook C'],\n",
       " *** Total Price and Space: 27575.780000000002 - 2.7602918,\n",
       " ['Refrigerator A', 'TV 55', 'TV 50', 'TV 42', 'Microwave B', 'Microvwave C', 'Notebook B', 'Notebook C', 'Cell phone B', 'Apple TV', 'Notebook C'],\n",
       " *** Total Price and Space: 25574.79 - 2.7601909,\n",
       " ['Refrigerator A', 'TV 55', 'TV 50', 'TV 42', 'Microwave B', 'Microvwave C', 'Notebook B', 'Notebook C', 'Cell phone c', 'Apple TV', 'Notebook C'],\n",
       " *** Total Price and Space: 25475.660000000003 - 2.7602018,\n",
       " ['Refrigerator A', 'TV 50', 'TV 42', 'Notebook A', 'Mictowave A', 'Microvwave C', 'Refrigerator B', 'Notebook B', 'Notebook C', 'Cell phone B', 'Cell phone c', 'Apple TV', 'Notebook C'],\n",
       " *** Total Price and Space: 26456.450000000004 - 2.9867918,\n",
       " ['Refrigerator A', 'TV 50', 'TV 42', 'Microwave B', 'Microvwave C', 'Refrigerator B', 'Notebook B', 'Notebook C', 'Cell phone B', 'Cell phone c', 'Apple TV', 'Notebook C'],\n",
       " *** Total Price and Space: 24077.790000000005 - 2.9952918000000004,\n",
       " ['Refrigerator A', 'TV 50', 'TV 42', 'Notebook A', 'Microwave B', 'Microvwave C', 'Refrigerator B', 'Notebook B', 'Notebook C', 'Cell phone B', 'Cell phone c', 'Apple TV', 'Notebook C'],\n",
       " *** Total Price and Space: 26577.690000000006 - 2.9987918000000002,\n",
       " ['Refrigerator A', 'TV 50', 'TV 42', 'Notebook A', 'Microwave B', 'Microvwave C', 'Refrigerator B', 'Notebook B', 'Notebook C', 'Cell phone B', 'Cell phone c', 'Apple TV', 'Notebook C'],\n",
       " *** Total Price and Space: 26577.690000000006 - 2.9987918000000002,\n",
       " ['Refrigerator A', 'TV 55', 'TV 50', 'TV 42', 'Microvwave C', 'Notebook B', 'Notebook C', 'Cell phone B', 'Cell phone c', 'Apple TV', 'Notebook C'],\n",
       " *** Total Price and Space: 27145.88 - 2.7058918000000003,\n",
       " ['Refrigerator A', 'TV 50', 'TV 42', 'Notebook A', 'Microwave B', 'Microvwave C', 'Refrigerator B', 'Notebook B', 'Notebook C', 'Cell phone B', 'Cell phone c', 'Apple TV', 'Notebook C'],\n",
       " *** Total Price and Space: 26577.690000000006 - 2.9987918000000002,\n",
       " ['Refrigerator A', 'TV 50', 'TV 42', 'Notebook A', 'Microwave B', 'Microvwave C', 'Refrigerator B', 'Notebook B', 'Notebook C', 'Cell phone B', 'Cell phone c', 'Apple TV', 'Notebook C'],\n",
       " *** Total Price and Space: 26577.690000000006 - 2.9987918000000002,\n",
       " ['Refrigerator A', 'TV 50', 'TV 42', 'Notebook A', 'Microwave B', 'Microvwave C', 'Notebook B', 'Notebook C', 'Cell phone B', 'Cell phone c', 'Apple TV', 'Notebook C'],\n",
       " *** Total Price and Space: 25728.690000000006 - 2.3637918,\n",
       " ['Refrigerator A', 'TV 50', 'TV 42', 'Notebook A', 'Microwave B', 'Microvwave C', 'Notebook B', 'Notebook C', 'Cell phone B', 'Cell phone c', 'Apple TV', 'Notebook C'],\n",
       " *** Total Price and Space: 25728.690000000006 - 2.3637918,\n",
       " ['Refrigerator A', 'TV 50', 'TV 42', 'Notebook A', 'Microwave B', 'Microvwave C', 'Notebook B', 'Notebook C', 'Cell phone B', 'Cell phone c', 'Apple TV', 'Notebook C'],\n",
       " *** Total Price and Space: 25728.690000000006 - 2.3637918,\n",
       " ['Refrigerator A', 'TV 50', 'TV 42', 'Notebook A', 'Microwave B', 'Microvwave C', 'Notebook B', 'Notebook C', 'Cell phone B', 'Cell phone c', 'Apple TV', 'Notebook C'],\n",
       " *** Total Price and Space: 25728.690000000006 - 2.3637918,\n",
       " ['Refrigerator A', 'TV 50', 'TV 42', 'Notebook A', 'Microwave B', 'Microvwave C', 'Notebook B', 'Notebook C', 'Cell phone B', 'Cell phone c', 'Apple TV', 'Notebook C'],\n",
       " *** Total Price and Space: 25728.690000000006 - 2.3637918,\n",
       " ['Refrigerator A', 'TV 55', 'TV 50', 'TV 42', 'Notebook A', 'Microwave B', 'Microvwave C', 'Notebook B', 'Notebook C', 'Cell phone B', 'Cell phone c', 'Apple TV', 'Notebook C'],\n",
       " *** Total Price and Space: 30075.680000000004 - 2.7637918000000004,\n",
       " ['Refrigerator A', 'TV 55', 'TV 50', 'TV 42', 'Notebook A', 'Microwave B', 'Microvwave C', 'Notebook B', 'Notebook C', 'Cell phone B', 'Cell phone c', 'Notebook C'],\n",
       " *** Total Price and Space: 29675.690000000002 - 2.7634909000000003,\n",
       " ['Refrigerator A', 'TV 55', 'TV 50', 'TV 42', 'Notebook A', 'Microwave B', 'Microvwave C', 'Notebook B', 'Notebook C', 'Cell phone B', 'Cell phone c', 'Notebook C'],\n",
       " *** Total Price and Space: 29675.690000000002 - 2.7634909000000003,\n",
       " ['Refrigerator A', 'TV 55', 'TV 50', 'TV 42', 'Notebook A', 'Microwave B', 'Microvwave C', 'Notebook B', 'Notebook C', 'Cell phone B', 'Cell phone c', 'Apple TV', 'Notebook C'],\n",
       " *** Total Price and Space: 30075.680000000004 - 2.7637918000000004,\n",
       " ['Refrigerator A', 'TV 55', 'TV 50', 'TV 42', 'Notebook A', 'Microwave B', 'Microvwave C', 'Notebook B', 'Notebook C', 'Cell phone B', 'Cell phone c', 'Apple TV', 'Notebook C'],\n",
       " *** Total Price and Space: 30075.680000000004 - 2.7637918000000004,\n",
       " ['Refrigerator A', 'Cell phone A', 'TV 55', 'TV 50', 'TV 42', 'Notebook A', 'Microwave B', 'Microvwave C', 'Notebook B', 'Notebook C', 'Cell phone B', 'Cell phone c', 'Apple TV', 'Notebook C'],\n",
       " *** Total Price and Space: 32274.800000000007 - 2.7638817000000007,\n",
       " ['Refrigerator A', 'Cell phone A', 'TV 55', 'TV 50', 'TV 42', 'Notebook A', 'Microwave B', 'Microvwave C', 'Notebook B', 'Notebook C', 'Cell phone B', 'Apple TV', 'Notebook C'],\n",
       " *** Total Price and Space: 30273.810000000005 - 2.7637808000000006,\n",
       " ['Refrigerator A', 'Cell phone A', 'TV 55', 'TV 50', 'TV 42', 'Notebook A', 'Microwave B', 'Microvwave C', 'Notebook B', 'Notebook C', 'Cell phone B', 'Apple TV', 'Notebook C'],\n",
       " *** Total Price and Space: 30273.810000000005 - 2.7637808000000006,\n",
       " ['Refrigerator A', 'Cell phone A', 'TV 55', 'TV 50', 'TV 42', 'Notebook A', 'Microwave B', 'Microvwave C', 'Notebook B', 'Notebook C', 'Cell phone B', 'Cell phone c', 'Apple TV', 'Notebook C'],\n",
       " *** Total Price and Space: 32274.800000000007 - 2.7638817000000007,\n",
       " ['Refrigerator A', 'Cell phone A', 'TV 55', 'TV 50', 'TV 42', 'Notebook A', 'Microvwave C', 'Notebook B', 'Notebook C', 'Cell phone B', 'Cell phone c', 'Apple TV', 'Notebook C'],\n",
       " *** Total Price and Space: 31844.900000000005 - 2.7094817000000004,\n",
       " ['Refrigerator A', 'Cell phone A', 'TV 55', 'TV 50', 'TV 42', 'Notebook A', 'Microvwave C', 'Notebook B', 'Notebook C', 'Cell phone B', 'Cell phone c', 'Apple TV', 'Notebook C'],\n",
       " *** Total Price and Space: 31844.900000000005 - 2.7094817000000004,\n",
       " ['Refrigerator A', 'Cell phone A', 'TV 55', 'TV 50', 'TV 42', 'Notebook A', 'Mictowave A', 'Microwave B', 'Microvwave C', 'Notebook B', 'Notebook C', 'Cell phone B', 'Cell phone c', 'Apple TV', 'Notebook C'],\n",
       " *** Total Price and Space: 32583.460000000006 - 2.8062817000000004,\n",
       " ['Cell phone A', 'TV 55', 'TV 50', 'TV 42', 'Notebook A', 'Mictowave A', 'Microwave B', 'Microvwave C', 'Refrigerator B', 'Notebook B', 'Notebook C', 'Cell phone B', 'Cell phone c', 'Apple TV', 'Notebook C'],\n",
       " *** Total Price and Space: 32432.560000000005 - 2.6902817,\n",
       " ['Cell phone A', 'TV 55', 'TV 50', 'TV 42', 'Notebook A', 'Mictowave A', 'Microwave B', 'Microvwave C', 'Notebook C', 'Cell phone B', 'Cell phone c', 'Apple TV', 'Notebook C'],\n",
       " *** Total Price and Space: 29583.660000000003 - 1.5572816999999999,\n",
       " ['Cell phone A', 'TV 55', 'TV 50', 'TV 42', 'Notebook A', 'Microvwave C', 'Notebook C', 'Cell phone B', 'Cell phone c', 'Apple TV', 'Notebook C'],\n",
       " *** Total Price and Space: 28845.100000000002 - 1.4604817,\n",
       " ['Refrigerator A', 'Cell phone A', 'TV 55', 'TV 50', 'TV 42', 'Notebook A', 'Mictowave A', 'Microwave B', 'Microvwave C', 'Notebook C', 'Cell phone B', 'Cell phone c', 'Apple TV', 'Notebook C'],\n",
       " *** Total Price and Space: 30583.560000000005 - 2.3082817]"
      ]
     },
     "execution_count": 49,
     "metadata": {},
     "output_type": "execute_result"
    }
   ],
   "source": [
    "ga.list_of_best_solution"
   ]
  },
  {
   "cell_type": "code",
   "execution_count": null,
   "id": "aee348cc",
   "metadata": {},
   "outputs": [],
   "source": []
  }
 ],
 "metadata": {
  "kernelspec": {
   "display_name": "Python 3 (ipykernel)",
   "language": "python",
   "name": "python3"
  },
  "language_info": {
   "codemirror_mode": {
    "name": "ipython",
    "version": 3
   },
   "file_extension": ".py",
   "mimetype": "text/x-python",
   "name": "python",
   "nbconvert_exporter": "python",
   "pygments_lexer": "ipython3",
   "version": "3.9.7"
  }
 },
 "nbformat": 4,
 "nbformat_minor": 5
}
