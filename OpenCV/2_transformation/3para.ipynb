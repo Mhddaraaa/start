{
 "cells": [
  {
   "cell_type": "code",
   "execution_count": 1,
   "id": "9928675c",
   "metadata": {},
   "outputs": [],
   "source": [
    "import numpy as np\n",
    "import cv2 as cv\n",
    "import matplotlib.pyplot as plt"
   ]
  },
  {
   "cell_type": "code",
   "execution_count": 2,
   "id": "d68210d4",
   "metadata": {},
   "outputs": [],
   "source": [
    "def bilinearInterpolation(img, row, col):\n",
    "    up_idx = int(row)\n",
    "    down_idx = up_idx + 1\n",
    "    left_idx = int(col)\n",
    "    right_idx = left_idx + 1\n",
    "\n",
    "    up_wight = abs(row - down_idx)\n",
    "    down_weight = 1 - up_wight\n",
    "    right_wight = abs(col - left_idx)\n",
    "    left_wight = 1 - right_wight\n",
    "    if (up_idx >= 0 and down_idx < img.shape[0]) and (left_idx >= 0 and right_idx < img.shape[1]):\n",
    "        img_pix = {\n",
    "            'upleft' : img[up_idx, left_idx],\n",
    "            'upright' : img[up_idx, right_idx],\n",
    "            'downleft' : img[down_idx, left_idx],\n",
    "            'downright' : img[down_idx, right_idx]\n",
    "        }\n",
    "        \n",
    "        up_point = (left_wight * img_pix['upleft']) + (right_wight * img_pix['upright'])\n",
    "        down_point =(left_wight * img_pix['downleft']) + (right_wight * img_pix['downright'])\n",
    "        point = (down_weight * down_point) + (up_wight * up_point)\n",
    "        \n",
    "        return np.uint16(point)\n",
    "        \n",
    "    else:\n",
    "        return 0"
   ]
  },
  {
   "cell_type": "code",
   "execution_count": 3,
   "id": "2f57a45a",
   "metadata": {},
   "outputs": [],
   "source": [
    "def boundryAffine(img, s):\n",
    "    row, col = img.shape[0], img.shape[1]\n",
    "    cords = np.array([[0, 0, 1], [0, col-1, 1], [row-1, 0, 1], [row-1, col-1, 1]])\n",
    "    cords_prim = np.dot(s, cords.T)\n",
    "    minR, minC, _ = np.min(cords_prim, axis=1).astype(np.int64)\n",
    "    maxR, maxC, _ = (np.ceil(np.max(cords_prim, axis=1))).astype(np.int64)\n",
    "    H = maxR - minR + 1\n",
    "    W = maxC - minC + 1\n",
    "    \n",
    "    return minR, minC, maxR, maxC, H, W\n",
    "\n",
    "def transformAffine(img, s):\n",
    "    minR, minC, maxR, maxC, H, W = boundryAffine(img, s)\n",
    "    img2 = np.zeros((H, W), dtype=np.uint16)\n",
    "    s_inv = np.linalg.inv(s)\n",
    "    for i in range (minR, maxR):\n",
    "        for j in range(minC, maxC):\n",
    "            p_prim = np.array([i, j, 1])\n",
    "            new_i, new_j, _ = np.dot(s_inv, p_prim)\n",
    "            img2[i - minR, j - minC] = bilinearInterpolation(img, new_i, new_j)\n",
    "    \n",
    "    return img2"
   ]
  },
  {
   "cell_type": "code",
   "execution_count": 4,
   "id": "abe9e753",
   "metadata": {},
   "outputs": [],
   "source": [
    "def boundryProjective(img, s):\n",
    "    row, col = img.shape[0], img.shape[1]\n",
    "    cords = np.array([[0, 0, 1], [0, col-1, 1], [row-1, 0, 1], [row-1, col-1, 1]])\n",
    "    cords_prim = np.dot(s, cords.T)\n",
    "    cords_prim /= cords_prim[2, :]\n",
    "    minR, minC, _ = np.min(cords_prim, axis=1).astype(np.int64)\n",
    "    maxR, maxC, _ = (np.ceil(np.max(cords_prim, axis=1))).astype(np.int64)\n",
    "    H = maxR - minR + 1\n",
    "    W = maxC - minC + 1\n",
    "    \n",
    "    return minR, minC, maxR, maxC, H, W\n",
    "\n",
    "def transformProjective(img, s):\n",
    "    minR, minC, maxR, maxC, H, W = boundryProjective(img, s)\n",
    "    img2 = np.zeros((H, W), dtype=np.uint16)\n",
    "    s_inv = np.linalg.inv(s)\n",
    "    for i in range (minR, maxR):\n",
    "        for j in range(minC, maxC):\n",
    "            p_prim = np.array([i, j, 1])\n",
    "            point = np.dot(s_inv, p_prim)\n",
    "            new_i, new_j, _ = point / point[2]\n",
    "            img2[i - minR, j - minC] = bilinearInterpolation(img, new_i, new_j)\n",
    "    \n",
    "    return img2"
   ]
  },
  {
   "cell_type": "code",
   "execution_count": 5,
   "id": "b5fbb2c7",
   "metadata": {},
   "outputs": [],
   "source": [
    "def get_point(image, numPts):\n",
    "    %matplotlib\n",
    "    fig, ax = plt.subplots(1, figsize=(15, 30))\n",
    "    plt.imshow(image, cmap='gray')\n",
    "    pts = np.round(np.array(plt.ginput(n=numPts)))\n",
    "    # list of tuple -> array first col: X, second col: Y\n",
    "    pts = pts[:, [1,0]].T  # first row: X, second row: Y\n",
    "    plt.close()\n",
    "    \n",
    "    return pts"
   ]
  },
  {
   "cell_type": "code",
   "execution_count": 6,
   "id": "050bc929",
   "metadata": {},
   "outputs": [],
   "source": [
    "img_gray = cv.imread('einstein.jpg', cv.IMREAD_GRAYSCALE)\n",
    "img_gray_affine = cv.imread('einstein_Affine.jpg', cv.IMREAD_GRAYSCALE)\n",
    "img_gray_projective = cv.imread('einstein_Projective.jpg', cv.IMREAD_GRAYSCALE)"
   ]
  },
  {
   "cell_type": "code",
   "execution_count": 7,
   "id": "e238498a",
   "metadata": {},
   "outputs": [],
   "source": [
    "# points = get_point(img_gray, 3)"
   ]
  },
  {
   "cell_type": "markdown",
   "id": "cca3dd51",
   "metadata": {},
   "source": [
    "### when we have 3 point \n",
    "np.vstack([1, 1, 1]) at last row then multyply p_prim(form destination) with invers P\n",
    "### when we have more than 3 point \n",
    "first multypy p and p_prime with p.T then we have 3x3 matrices then resume the same as befor"
   ]
  },
  {
   "cell_type": "code",
   "execution_count": 14,
   "id": "e5bf5dde",
   "metadata": {},
   "outputs": [],
   "source": [
    "p = np.array([[402, 400, 479], [320, 499, 443]])\n",
    "p_prime = np.array([[487, 471, 569],[389, 530, 515]])\n",
    "one = np.ones((1, 3))\n",
    "\n",
    "p = np.vstack((p, one))\n",
    "p_prime = np.vstack((p_prime, one))"
   ]
  },
  {
   "cell_type": "code",
   "execution_count": 17,
   "id": "e8717b4c",
   "metadata": {},
   "outputs": [
    {
     "data": {
      "text/plain": [
       "-14029.000000000016"
      ]
     },
     "execution_count": 17,
     "metadata": {},
     "output_type": "execute_result"
    }
   ],
   "source": [
    "np.linalg.det(p)"
   ]
  },
  {
   "cell_type": "code",
   "execution_count": 19,
   "id": "d538c278",
   "metadata": {},
   "outputs": [
    {
     "data": {
      "text/plain": [
       "array([[ 1.18654216e+00, -7.61280205e-02,  3.43710172e+01],\n",
       "       [ 3.71444864e-01,  7.91859719e-01, -1.37159455e+01],\n",
       "       [ 0.00000000e+00,  3.52365706e-19,  1.00000000e+00]])"
      ]
     },
     "execution_count": 19,
     "metadata": {},
     "output_type": "execute_result"
    }
   ],
   "source": [
    "s = p_prime.dot(np.linalg.inv(p))\n",
    "s"
   ]
  },
  {
   "cell_type": "code",
   "execution_count": 27,
   "id": "b04e2597",
   "metadata": {},
   "outputs": [],
   "source": [
    "p = np.array([[402, 400, 479, 123, 564], [320, 499, 443, 234, 543]])\n",
    "p_prime = np.array([[487, 471, 569, 234, 512],[389, 530, 515, 234, 342]])\n",
    "one = np.ones((1, p.shape[1]))\n",
    "\n",
    "p = np.vstack((p, one))\n",
    "p_prime = np.vstack((p_prime, one))"
   ]
  },
  {
   "cell_type": "code",
   "execution_count": 29,
   "id": "4b3b9c2f",
   "metadata": {},
   "outputs": [],
   "source": [
    "p_new = np.dot(p, p.T)\n",
    "p_prime_new = np.dot(p_prime, p.T)"
   ]
  },
  {
   "cell_type": "code",
   "execution_count": 30,
   "id": "4a1d8273",
   "metadata": {},
   "outputs": [
    {
     "data": {
      "text/plain": [
       "array([[ 8.86484990e-01, -2.41280978e-01,  2.04073891e+02],\n",
       "       [ 1.24595771e-01,  4.37917130e-01,  1.74376499e+02],\n",
       "       [-3.46944695e-18, -6.93889390e-18,  1.00000000e+00]])"
      ]
     },
     "execution_count": 30,
     "metadata": {},
     "output_type": "execute_result"
    }
   ],
   "source": [
    "s = p_prime_new.dot(np.linalg.inv(p_new))\n",
    "s"
   ]
  },
  {
   "cell_type": "code",
   "execution_count": null,
   "id": "fd6131df",
   "metadata": {},
   "outputs": [],
   "source": []
  }
 ],
 "metadata": {
  "kernelspec": {
   "display_name": "Python 3 (ipykernel)",
   "language": "python",
   "name": "python3"
  },
  "language_info": {
   "codemirror_mode": {
    "name": "ipython",
    "version": 3
   },
   "file_extension": ".py",
   "mimetype": "text/x-python",
   "name": "python",
   "nbconvert_exporter": "python",
   "pygments_lexer": "ipython3",
   "version": "3.9.7"
  }
 },
 "nbformat": 4,
 "nbformat_minor": 5
}
