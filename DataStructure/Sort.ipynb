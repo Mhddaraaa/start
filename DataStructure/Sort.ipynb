{
 "cells": [
  {
   "cell_type": "code",
   "execution_count": 1,
   "id": "dce87526",
   "metadata": {},
   "outputs": [],
   "source": [
    "import numpy as np\n",
    "from time import time"
   ]
  },
  {
   "cell_type": "code",
   "execution_count": 2,
   "id": "f99cf04c",
   "metadata": {},
   "outputs": [],
   "source": [
    "data = [1001, 231, 1, 4, 5, 45, 72, 12, 91, 64, 14, 3]"
   ]
  },
  {
   "cell_type": "code",
   "execution_count": 121,
   "id": "2b956b14",
   "metadata": {},
   "outputs": [],
   "source": [
    "\"\"\"Creat an unsorted array with 10000 unique element between 1-100000000\n",
    "\"\"\"\n",
    "np.random.seed(42)\n",
    "new = np.unique(np.random.randint(1, 100000000, size=(10000,)))\n",
    "np.random.shuffle(new)"
   ]
  },
  {
   "cell_type": "code",
   "execution_count": 4,
   "id": "c0bdbe35",
   "metadata": {},
   "outputs": [],
   "source": [
    "def time_it(func):\n",
    "    def wrapper(*arge, **kwarge):\n",
    "        start = time()\n",
    "        result = func(*arge, **kwarge)\n",
    "        end = time()\n",
    "        print(func.__name__ + ' took ' + str(((end-start)*1000)) + ' mil sec.')\n",
    "#         print(f\"{func.__name__} took {(end-start):.5f} sec.\")\n",
    "        return result\n",
    "    return wrapper"
   ]
  },
  {
   "cell_type": "markdown",
   "id": "743675e8",
   "metadata": {},
   "source": [
    "# Bubble sort\n",
    "### compare each index and swap if i+1 with ith index"
   ]
  },
  {
   "cell_type": "code",
   "execution_count": 316,
   "id": "361943ab",
   "metadata": {},
   "outputs": [],
   "source": [
    "# @time_it\n",
    "def bubble_sort_recur(data):\n",
    "    n = 0\n",
    "    m = 0\n",
    "    while len(data) > (n+1):\n",
    "        if data[n] > data [n+1]:\n",
    "            m += 1\n",
    "            data[n], data[n+1] = data[n+1], data[n]\n",
    "            \n",
    "        n += 1\n",
    "    if m == 0:\n",
    "        return data\n",
    "    else:\n",
    "        return bubble_sort(data)\n",
    "\n",
    "    \n",
    "@time_it\n",
    "def bubble_sort(data):\n",
    "    for i in range(len(data)):\n",
    "        swapping = False\n",
    "        for j in range(len(data)-1-i):\n",
    "            if data[j] > data[j+1]:\n",
    "                data[j], data[j+1] = data[j+1], data[j]\n",
    "                swapping = True\n",
    "        if not swapping:\n",
    "            break\n",
    "            \n",
    "    return data"
   ]
  },
  {
   "cell_type": "code",
   "execution_count": 317,
   "id": "588c1a89",
   "metadata": {},
   "outputs": [
    {
     "name": "stdout",
     "output_type": "stream",
     "text": [
      "bubble_sort took 0.00004 sec.\n"
     ]
    },
    {
     "data": {
      "text/plain": [
       "[1, 3, 4, 5, 12, 14, 45, 64, 72, 91, 231, 1001]"
      ]
     },
     "execution_count": 317,
     "metadata": {},
     "output_type": "execute_result"
    }
   ],
   "source": [
    "data = [1001, 231, 1, 4, 5, 45, 72, 12, 91, 64, 14, 3]\n",
    "bubble_sort(data)"
   ]
  },
  {
   "cell_type": "markdown",
   "id": "c5b27c06",
   "metadata": {},
   "source": [
    "# Selection sort\n",
    "### move smallest element in list to first position and next iteration do the same process for rest of the list,In each iteration we first we find out samllet element and swap it with iteration positoin in remaining list"
   ]
  },
  {
   "cell_type": "code",
   "execution_count": 120,
   "id": "afc1e9b7",
   "metadata": {},
   "outputs": [],
   "source": [
    "def selection_sort_recur(data, idx=0):\n",
    "    minimum = data[idx]\n",
    "    swapping = False\n",
    "    for i, item in enumerate(data[idx:]):\n",
    "        if item < minimum:\n",
    "            min_idx = i + idx\n",
    "            swapping = True\n",
    "            minimum = item\n",
    "    if swapping:\n",
    "        data[idx], data[min_idx] = data[min_idx], data[idx]\n",
    "    \n",
    "    if swapping:\n",
    "        idx += 1\n",
    "        return selection_sort(data, idx)\n",
    "    else:\n",
    "        return data\n",
    "    \n",
    "    \n",
    "    \n",
    "@time_it\n",
    "def selection_sort(data):\n",
    "    for i in range(len(data)):\n",
    "        swapping = False\n",
    "        minimum = data[i]\n",
    "        for j in range(i+1, len(data)):\n",
    "            if data[j] < minimum:\n",
    "                swapping = True\n",
    "                min_idx = j\n",
    "                minimum = data[j]\n",
    "        \n",
    "        if swapping:\n",
    "            data[i], data[min_idx] = data[min_idx], data[i]\n",
    "        else:\n",
    "            break\n",
    "    \n",
    "    return data"
   ]
  },
  {
   "cell_type": "code",
   "execution_count": 319,
   "id": "79555807",
   "metadata": {},
   "outputs": [
    {
     "data": {
      "text/plain": [
       "array([ 8737724, 92526140, 46992089, ...,  9392610, 99759772,  4096921])"
      ]
     },
     "execution_count": 319,
     "metadata": {},
     "output_type": "execute_result"
    }
   ],
   "source": [
    "new"
   ]
  },
  {
   "cell_type": "code",
   "execution_count": 320,
   "id": "c28ea6ae",
   "metadata": {},
   "outputs": [
    {
     "name": "stdout",
     "output_type": "stream",
     "text": [
      "bubble_sort took 26.62633 sec.\n"
     ]
    }
   ],
   "source": [
    "neww = bubble_sort(new)"
   ]
  },
  {
   "cell_type": "code",
   "execution_count": 322,
   "id": "224eef04",
   "metadata": {},
   "outputs": [
    {
     "data": {
      "text/plain": [
       "array([   19157,    19676,    21651, ..., 99989206, 99993057, 99993265])"
      ]
     },
     "execution_count": 322,
     "metadata": {},
     "output_type": "execute_result"
    }
   ],
   "source": [
    "neww"
   ]
  },
  {
   "cell_type": "code",
   "execution_count": 323,
   "id": "53791c07",
   "metadata": {},
   "outputs": [
    {
     "data": {
      "text/plain": [
       "array([ 8737724, 92526140, 46992089, ...,  9392610, 99759772,  4096921])"
      ]
     },
     "execution_count": 323,
     "metadata": {},
     "output_type": "execute_result"
    }
   ],
   "source": [
    "new"
   ]
  },
  {
   "cell_type": "code",
   "execution_count": 324,
   "id": "30492f0b",
   "metadata": {},
   "outputs": [
    {
     "name": "stdout",
     "output_type": "stream",
     "text": [
      "selection_sort took 7.13361 sec.\n"
     ]
    },
    {
     "data": {
      "text/plain": [
       "array([   19157,    19676,    21651, ..., 69913667, 99759772, 84711897])"
      ]
     },
     "execution_count": 324,
     "metadata": {},
     "output_type": "execute_result"
    }
   ],
   "source": [
    "selection_sort(new)"
   ]
  },
  {
   "cell_type": "code",
   "execution_count": 325,
   "id": "01970cc7",
   "metadata": {},
   "outputs": [
    {
     "data": {
      "text/plain": [
       "array([   19157,    19676,    21651, ..., 99989206, 99993057, 99993265])"
      ]
     },
     "execution_count": 325,
     "metadata": {},
     "output_type": "execute_result"
    }
   ],
   "source": [
    "neww"
   ]
  },
  {
   "cell_type": "markdown",
   "id": "51f6ae82",
   "metadata": {},
   "source": [
    "# Insertion sort\n",
    "### use index at position 0 as new list and start from element at index position 1 and compare it backward if it's less than previous element we must swap them, we start next iteration from next index (2) and repeat the concept above, When elements don't swap we must stop walk backward and go for next iteration"
   ]
  },
  {
   "cell_type": "code",
   "execution_count": 35,
   "id": "b95cf1bf",
   "metadata": {},
   "outputs": [],
   "source": [
    "@time_it\n",
    "def insertion_sort(data):\n",
    "    for i in range(1, len(data)):\n",
    "        element = data[i]\n",
    "        j = i - 1\n",
    "        \n",
    "        while (j >= 0) & (element < data[j]):\n",
    "            data[j], data[j+1] = element, data[j]\n",
    "            j -= 1\n",
    "    return data"
   ]
  },
  {
   "cell_type": "code",
   "execution_count": 36,
   "id": "53120c30",
   "metadata": {},
   "outputs": [
    {
     "name": "stdout",
     "output_type": "stream",
     "text": [
      "insertion_sort took 0.026941299438476562 mil sec.\n"
     ]
    },
    {
     "data": {
      "text/plain": [
       "[1, 3, 4, 5, 12, 14, 45, 64, 72, 91, 231, 1001]"
      ]
     },
     "execution_count": 36,
     "metadata": {},
     "output_type": "execute_result"
    }
   ],
   "source": [
    "data = [1001, 231, 1, 4, 5, 45, 72, 12, 91, 64, 14, 3]\n",
    "insertion_sort(data)"
   ]
  },
  {
   "cell_type": "code",
   "execution_count": 22,
   "id": "fb75b5be",
   "metadata": {},
   "outputs": [
    {
     "name": "stdout",
     "output_type": "stream",
     "text": [
      "insertion_sort took 53.63462 sec.\n"
     ]
    },
    {
     "data": {
      "text/plain": [
       "array([   19157,    19676,    21651, ..., 99989206, 99993057, 99993265])"
      ]
     },
     "execution_count": 22,
     "metadata": {},
     "output_type": "execute_result"
    }
   ],
   "source": [
    "insertion_sort(new)"
   ]
  },
  {
   "cell_type": "markdown",
   "id": "5f9627c8",
   "metadata": {},
   "source": [
    "# shell sort\n",
    "#### isertion sort modification, We start with gap (best perrormance at n/2)"
   ]
  },
  {
   "cell_type": "code",
   "execution_count": 59,
   "id": "aee8404a",
   "metadata": {},
   "outputs": [],
   "source": [
    "@time_it\n",
    "def shell_sort(data):\n",
    "    size = len(data)\n",
    "    gap = size // 2\n",
    "    \n",
    "    while gap > 0:\n",
    "        for i in range(gap, size):\n",
    "            element = data[i]\n",
    "            j = i - gap\n",
    "\n",
    "            while (j >= 0) & (element < data[j]):\n",
    "                data[j], data[j+gap] = element, data[j]\n",
    "                j -= gap\n",
    "                \n",
    "        gap //= 2\n",
    "        \n",
    "    return data\n",
    "        "
   ]
  },
  {
   "cell_type": "code",
   "execution_count": 60,
   "id": "5943aba2",
   "metadata": {},
   "outputs": [
    {
     "name": "stdout",
     "output_type": "stream",
     "text": [
      "shell_sort took 0.028848648071289062 mil sec.\n"
     ]
    },
    {
     "data": {
      "text/plain": [
       "[1, 3, 4, 5, 12, 14, 45, 64, 72, 91, 231, 1001]"
      ]
     },
     "execution_count": 60,
     "metadata": {},
     "output_type": "execute_result"
    }
   ],
   "source": [
    "data = [1001, 231, 1, 4, 5, 45, 72, 12, 91, 64, 14, 3]\n",
    "shell_sort(data)"
   ]
  },
  {
   "cell_type": "code",
   "execution_count": 61,
   "id": "753639eb",
   "metadata": {},
   "outputs": [
    {
     "data": {
      "text/plain": [
       "array([ 8737724, 92526140, 46992089, ...,  9392610, 99759772,  4096921])"
      ]
     },
     "execution_count": 61,
     "metadata": {},
     "output_type": "execute_result"
    }
   ],
   "source": [
    "new"
   ]
  },
  {
   "cell_type": "code",
   "execution_count": 62,
   "id": "167c9bf1",
   "metadata": {},
   "outputs": [
    {
     "name": "stdout",
     "output_type": "stream",
     "text": [
      "shell_sort took 559.2408180236816 mil sec.\n"
     ]
    },
    {
     "data": {
      "text/plain": [
       "array([   19157,    19676,    21651, ..., 99989206, 99993057, 99993265])"
      ]
     },
     "execution_count": 62,
     "metadata": {},
     "output_type": "execute_result"
    }
   ],
   "source": [
    "shell_sort(new)"
   ]
  },
  {
   "cell_type": "code",
   "execution_count": null,
   "id": "37c98db7",
   "metadata": {},
   "outputs": [],
   "source": []
  },
  {
   "cell_type": "markdown",
   "id": "8558a868",
   "metadata": {},
   "source": [
    "# Quick sort\n",
    "### select element at position index 0 as pivot, Then assign left pointer to element at index 1 and right pointer to last element at index -1,If left pointer element is greater than right pointer element we swap element after that  move the left pointer index to right and right pointer index to left, Reapeat process until left pointer index is greater than right pointer index, Now we swap pivot with right pointer or left pointer element"
   ]
  },
  {
   "cell_type": "code",
   "execution_count": 137,
   "id": "815b24bf",
   "metadata": {},
   "outputs": [],
   "source": [
    "def partition(data, first_idx, last_idx):\n",
    "    if last_idx == 0:\n",
    "        last_idx= len(data) - 1\n",
    "        \n",
    "    if last_idx <= first_idx:\n",
    "        return \n",
    "    \n",
    "    pivot = data[first_idx]\n",
    "    left_pointer = first_idx + 1\n",
    "    right_pointer = last_idx\n",
    "    while True:\n",
    "        while (data[left_pointer] < pivot) and (left_pointer < last_idx):\n",
    "            left_pointer += 1\n",
    "            \n",
    "        while (data[right_pointer] > pivot) and (right_pointer > first_idx):\n",
    "            right_pointer -= 1\n",
    "            \n",
    "        if left_pointer > right_pointer:\n",
    "            break\n",
    "        \n",
    "        if data[left_pointer] > data[right_pointer]:\n",
    "            data[left_pointer], data[right_pointer] = data[right_pointer], data[left_pointer]          \n",
    "        else:\n",
    "            break\n",
    "            \n",
    "    if pivot > data[right_pointer]:\n",
    "        data[first_idx], data[right_pointer] = data[right_pointer], data[first_idx]\n",
    "    return right_pointer\n",
    "\n",
    "def quick_sort(data, first_idx, last_idx):        \n",
    "    if first_idx >= last_idx:\n",
    "        return []\n",
    "    \n",
    "    else:\n",
    "        mid = partition(data, first_idx, last_idx)\n",
    "        quick_sort(data, first_idx, mid-1)\n",
    "        quick_sort(data, mid+1, last_idx)\n",
    "    \n",
    "    return data"
   ]
  },
  {
   "cell_type": "code",
   "execution_count": 138,
   "id": "fe16a205",
   "metadata": {},
   "outputs": [
    {
     "name": "stdout",
     "output_type": "stream",
     "text": [
      "[1, 1001, 14, 4, 55, 45, 72, 12, 9, 64, 231, 3]\n",
      "[1, 3, 4, 9, 12, 14, 45, 55, 64, 72, 231, 1001]\n",
      "[]\n",
      "[]\n",
      "[3, 112, 345, 1, 23, 93, 78, 11, 12]\n",
      "[1, 3, 11, 12, 23, 78, 93, 112, 345]\n",
      "[1, 2, 3, 4, 5]\n",
      "[1, 2, 3, 4, 5]\n",
      "[124, 10101, 125, 23, 98, 73, 4, 234, 1]\n",
      "[1, 4, 23, 73, 98, 124, 125, 234, 10101]\n"
     ]
    }
   ],
   "source": [
    "data = [[1, 1001, 14, 4, 55, 45, 72, 12, 9, 64, 231, 3],\n",
    "        [],\n",
    "        [3, 112, 345, 1, 23, 93, 78, 11, 12],\n",
    "        [1, 2, 3, 4, 5],\n",
    "        [124, 10101, 125, 23, 98, 73, 4, 234, 1]]\n",
    "\n",
    "for item in data:\n",
    "    print(item)\n",
    "    x = quick_sort(item, 0, len(item)-1)\n",
    "    print(x)\n",
    "# data = [1, 1001, 14, 4, 55, 45, 72, 12, 9, 64, 231, 3]\n",
    "# quick_sort(data, 0, len(data)-1)"
   ]
  },
  {
   "cell_type": "code",
   "execution_count": 27,
   "id": "0aefbb01",
   "metadata": {},
   "outputs": [
    {
     "data": {
      "text/plain": [
       "0.0004658699035644531"
      ]
     },
     "execution_count": 27,
     "metadata": {},
     "output_type": "execute_result"
    }
   ],
   "source": [
    "start = time()\n",
    "data = [1001, 231, 1, 4, 5, 45, 72, 12, 91, 64, 14, 3]\n",
    "quick_sort(data, 0, len(data)-1)\n",
    "end = time()\n",
    "\n",
    "end - start"
   ]
  },
  {
   "cell_type": "code",
   "execution_count": 140,
   "id": "fa7a53a6",
   "metadata": {},
   "outputs": [
    {
     "data": {
      "text/plain": [
       "array([ 8737724, 92526140, 46992089, ...,  9392610, 99759772,  4096921])"
      ]
     },
     "execution_count": 140,
     "metadata": {},
     "output_type": "execute_result"
    }
   ],
   "source": [
    "new"
   ]
  },
  {
   "cell_type": "code",
   "execution_count": 141,
   "id": "2052bc70",
   "metadata": {},
   "outputs": [
    {
     "data": {
      "text/plain": [
       "0.09261226654052734"
      ]
     },
     "execution_count": 141,
     "metadata": {},
     "output_type": "execute_result"
    }
   ],
   "source": [
    "start = time()\n",
    "neww = quick_sort(new, 0, len(new)-1)\n",
    "end = time()\n",
    "\n",
    "end - start"
   ]
  },
  {
   "cell_type": "code",
   "execution_count": 142,
   "id": "8cbfc819",
   "metadata": {},
   "outputs": [
    {
     "data": {
      "text/plain": [
       "array([   19157,    19676,    21651, ..., 99989206, 99993057, 99993265])"
      ]
     },
     "execution_count": 142,
     "metadata": {},
     "output_type": "execute_result"
    }
   ],
   "source": [
    "neww"
   ]
  },
  {
   "cell_type": "markdown",
   "id": "94fdef06",
   "metadata": {},
   "source": [
    "# Merge sort\n",
    "### devide and conquer algorithm"
   ]
  },
  {
   "cell_type": "code",
   "execution_count": 51,
   "id": "5766dc9d",
   "metadata": {},
   "outputs": [],
   "source": [
    "def merg_sorted_list(data1, data2):\n",
    "    data = []\n",
    "    i = j = 0\n",
    "    len_data1 = len(data1)\n",
    "    len_data2 = len(data2)\n",
    "    while (i < len_data1) & (j < len_data2):\n",
    "        if data1[i] <= data2[j]:\n",
    "            data.append(data1[i])\n",
    "            i += 1\n",
    "        else:\n",
    "            data.append(data2[j])\n",
    "            j += 1\n",
    "    \n",
    "    while i < len_data1:\n",
    "        data.append(data1[i])\n",
    "        i += 1\n",
    "        \n",
    "    while j < len_data2:\n",
    "        data.append(data2[j])\n",
    "        j +=1\n",
    "            \n",
    "    return data"
   ]
  },
  {
   "cell_type": "code",
   "execution_count": 52,
   "id": "f9608886",
   "metadata": {},
   "outputs": [
    {
     "data": {
      "text/plain": [
       "[1, 2, 3, 4, 5, 7, 8, 10, 113, 227, 226, 1120]"
      ]
     },
     "execution_count": 52,
     "metadata": {},
     "output_type": "execute_result"
    }
   ],
   "source": [
    "a = [1, 3, 5, 7, 113, 227, 226, 1120]\n",
    "b = [2, 4, 8, 10]\n",
    "\n",
    "merg_sorted_list(a, b)"
   ]
  },
  {
   "cell_type": "code",
   "execution_count": 53,
   "id": "a3cff62b",
   "metadata": {},
   "outputs": [],
   "source": [
    "def merge_sort(data):\n",
    "    if len(data) <= 1:\n",
    "        return data\n",
    "    \n",
    "    mid = len(data) // 2\n",
    "    left = data[:mid]\n",
    "    right = data[mid:]\n",
    "    \n",
    "    left = merge_sort(left)\n",
    "    right = merge_sort(right)\n",
    "    \n",
    "    return merg_sorted_list(left, right)"
   ]
  },
  {
   "cell_type": "code",
   "execution_count": 54,
   "id": "bc7b29f0",
   "metadata": {},
   "outputs": [
    {
     "data": {
      "text/plain": [
       "[1, 3, 4, 9, 12, 14, 45, 55, 64, 72, 231, 1001]"
      ]
     },
     "execution_count": 54,
     "metadata": {},
     "output_type": "execute_result"
    }
   ],
   "source": [
    "data = [1, 1001, 14, 4, 55, 45, 72, 12, 9, 64, 231, 3]\n",
    "merge_sort(data)"
   ]
  },
  {
   "cell_type": "code",
   "execution_count": 55,
   "id": "c4e8d13b",
   "metadata": {},
   "outputs": [
    {
     "data": {
      "text/plain": [
       "array([ 8737724, 92526140, 46992089, ...,  9392610, 99759772,  4096921])"
      ]
     },
     "execution_count": 55,
     "metadata": {},
     "output_type": "execute_result"
    }
   ],
   "source": [
    "new"
   ]
  },
  {
   "cell_type": "code",
   "execution_count": 56,
   "id": "d1d35b36",
   "metadata": {},
   "outputs": [
    {
     "data": {
      "text/plain": [
       "0.0686640739440918"
      ]
     },
     "execution_count": 56,
     "metadata": {},
     "output_type": "execute_result"
    }
   ],
   "source": [
    "start = time()\n",
    "new_sorted = merge_sort(new)\n",
    "end = time()\n",
    "\n",
    "end - start"
   ]
  },
  {
   "cell_type": "code",
   "execution_count": 128,
   "id": "0bbb6692",
   "metadata": {},
   "outputs": [],
   "source": [
    "# new_sorted"
   ]
  },
  {
   "cell_type": "code",
   "execution_count": 326,
   "id": "ecb75e47",
   "metadata": {},
   "outputs": [],
   "source": [
    "# def merg_sorted_list(data1, data2, data=[]):\n",
    "#     i = j = k = 0\n",
    "#     len_data1 = len(data1)\n",
    "#     len_data2 = len(data2)\n",
    "    \n",
    "#     while (i < len_data1) & (j < len_data2):\n",
    "#         if data1[i] <= data2[j]:\n",
    "#             data[k] = data1[i]\n",
    "#             i += 1\n",
    "#             k += 1\n",
    "#         else:\n",
    "#             data[k] = data2[j]\n",
    "#             j += 1\n",
    "#             k += 1\n",
    "    \n",
    "#     while i < len_data1:\n",
    "#         data[k] = data1[i]\n",
    "#         i += 1\n",
    "#         k += 1\n",
    "        \n",
    "#     while j < len_data2:\n",
    "#         data[k] = data2[j]\n",
    "#         j +=1\n",
    "#         k += 1\n",
    "        \n",
    "#     return data   \n",
    "\n",
    "\n",
    "# def merge_sort(data):\n",
    "#     if len(data) <= 1:\n",
    "#         return data\n",
    "    \n",
    "#     mid = len(data) // 2\n",
    "#     left = data[:mid]        #reduce space complexity\n",
    "#     right = data[mid:]\n",
    "    \n",
    "#     merge_sort(left)\n",
    "#     merge_sort(right)\n",
    "    \n",
    "#     merg_sorted_list(left, right, data)"
   ]
  },
  {
   "cell_type": "markdown",
   "id": "fec73f0b",
   "metadata": {},
   "source": [
    "# Timsort\n",
    "### algorithm based on merg-sort and isertion sort\n",
    "#### python use this algorithm for sorting list"
   ]
  },
  {
   "cell_type": "code",
   "execution_count": 82,
   "id": "ae90e69c",
   "metadata": {},
   "outputs": [],
   "source": [
    "def insertion_sort(data):\n",
    "    for i in range(1, len(data)):\n",
    "        element = data[i]\n",
    "        j = i - 1\n",
    "        \n",
    "        while (j >= 0) & (element < data[j]):\n",
    "            data[j], data[j+1] = element, data[j]\n",
    "            j -= 1\n",
    "            \n",
    "    return data\n",
    "\n",
    "def merg_sorted_list(data1, data2):\n",
    "    data = []\n",
    "    i = j = 0\n",
    "    len_data1 = len(data1)\n",
    "    len_data2 = len(data2)\n",
    "    while (i < len_data1) & (j < len_data2):\n",
    "        if data1[i] <= data2[j]:\n",
    "            data.append(data1[i])\n",
    "            i += 1\n",
    "        else:\n",
    "            data.append(data2[j])\n",
    "            j += 1\n",
    "    \n",
    "    while i < len_data1:\n",
    "        data.append(data1[i])\n",
    "        i += 1\n",
    "        \n",
    "    while j < len_data2:\n",
    "        data.append(data2[j])\n",
    "        j +=1\n",
    "            \n",
    "    return data\n",
    "\n",
    "@time_it\n",
    "def tim_sort(data, run=32):\n",
    "    for i in range(0, len(data), run):\n",
    "        data[i: i+run] = insertion_sort(data[i: i+run])\n",
    "        \n",
    "    runsize = run\n",
    "    while runsize < len(data):\n",
    "        for i in range(0, len(data), 2*runsize):\n",
    "            data[i: i + 2*runsize] = merg_sorted_list(data[i: i+runsize], data[i+runsize: i + 2*runsize])\n",
    "        runsize *= 2\n",
    "            \n",
    "    return data"
   ]
  },
  {
   "cell_type": "code",
   "execution_count": 83,
   "id": "452f1484",
   "metadata": {},
   "outputs": [
    {
     "name": "stdout",
     "output_type": "stream",
     "text": [
      "tim_sort took 0.03814697265625 mil sec.\n"
     ]
    },
    {
     "data": {
      "text/plain": [
       "[1, 3, 4, 9, 12, 14, 45, 55, 64, 72, 231, 1001]"
      ]
     },
     "execution_count": 83,
     "metadata": {},
     "output_type": "execute_result"
    }
   ],
   "source": [
    "data = [1, 1001, 14, 4, 55, 45, 72, 12, 9, 64, 231, 3]\n",
    "tim_sort(data, 6)"
   ]
  },
  {
   "cell_type": "code",
   "execution_count": 84,
   "id": "180cdedf",
   "metadata": {},
   "outputs": [
    {
     "data": {
      "text/plain": [
       "array([12669891,  5834440, 16635016, ..., 47966009,  3451680, 18573471])"
      ]
     },
     "execution_count": 84,
     "metadata": {},
     "output_type": "execute_result"
    }
   ],
   "source": [
    "new"
   ]
  },
  {
   "cell_type": "code",
   "execution_count": 85,
   "id": "d43f5b66",
   "metadata": {},
   "outputs": [
    {
     "name": "stdout",
     "output_type": "stream",
     "text": [
      "tim_sort took 4068.988800048828 mil sec.\n"
     ]
    },
    {
     "data": {
      "text/plain": [
       "array([     581,      618,     3213, ..., 99997997, 99998153, 99998295])"
      ]
     },
     "execution_count": 85,
     "metadata": {},
     "output_type": "execute_result"
    }
   ],
   "source": [
    "tim_sort(new, 64)"
   ]
  },
  {
   "cell_type": "code",
   "execution_count": 114,
   "id": "4666b53a",
   "metadata": {},
   "outputs": [],
   "source": [
    "def shell_sort(data):\n",
    "    size = len(data)\n",
    "    gap = size // 2\n",
    "    \n",
    "    while gap > 0:\n",
    "        for i in range(gap, size):\n",
    "            element = data[i]\n",
    "            j = i - gap\n",
    "\n",
    "            while (j >= 0) & (element < data[j]):\n",
    "                data[j], data[j+gap] = element, data[j]\n",
    "                j -= gap\n",
    "                \n",
    "        gap //= 2\n",
    "        \n",
    "    return data\n",
    "\n",
    "def merg_sorted_list(data1, data2):\n",
    "    data = []\n",
    "    i = j = 0\n",
    "    len_data1 = len(data1)\n",
    "    len_data2 = len(data2)\n",
    "    while (i < len_data1) & (j < len_data2):\n",
    "        if data1[i] <= data2[j]:\n",
    "            data.append(data1[i])\n",
    "            i += 1\n",
    "        else:\n",
    "            data.append(data2[j])\n",
    "            j += 1\n",
    "    \n",
    "    while i < len_data1:\n",
    "        data.append(data1[i])\n",
    "        i += 1\n",
    "        \n",
    "    while j < len_data2:\n",
    "        data.append(data2[j])\n",
    "        j +=1\n",
    "            \n",
    "    return data\n",
    "\n",
    "@time_it\n",
    "def tim_sort(data, run=32):\n",
    "    for i in range(0, len(data), run):\n",
    "        data[i: i+run] = shell_sort(data[i: i+run])\n",
    "        \n",
    "    runsize = run\n",
    "    while runsize < len(data):\n",
    "        for i in range(0, len(data), 2*runsize):\n",
    "            data[i: i + 2*runsize] = merg_sorted_list(data[i: i+runsize], data[i+runsize: i + 2*runsize])\n",
    "        runsize *= 2\n",
    "            \n",
    "    return data"
   ]
  },
  {
   "cell_type": "code",
   "execution_count": 115,
   "id": "66ef36f2",
   "metadata": {},
   "outputs": [
    {
     "name": "stdout",
     "output_type": "stream",
     "text": [
      "tim_sort took 0.04506111145019531 mil sec.\n"
     ]
    },
    {
     "data": {
      "text/plain": [
       "[1, 3, 4, 9, 12, 14, 45, 55, 64, 72, 231, 1001]"
      ]
     },
     "execution_count": 115,
     "metadata": {},
     "output_type": "execute_result"
    }
   ],
   "source": [
    "data = [1, 1001, 14, 4, 55, 45, 72, 12, 9, 64, 231, 3]\n",
    "tim_sort(data, 6)"
   ]
  },
  {
   "cell_type": "code",
   "execution_count": 116,
   "id": "5d52649c",
   "metadata": {},
   "outputs": [
    {
     "data": {
      "text/plain": [
       "array([12669891,  5834440, 16635016, ..., 47966009,  3451680, 18573471])"
      ]
     },
     "execution_count": 116,
     "metadata": {},
     "output_type": "execute_result"
    }
   ],
   "source": [
    "new"
   ]
  },
  {
   "cell_type": "code",
   "execution_count": 119,
   "id": "d55a07ff",
   "metadata": {},
   "outputs": [
    {
     "name": "stdout",
     "output_type": "stream",
     "text": [
      "tim_sort took 1960.4017734527588 mil sec.\n"
     ]
    },
    {
     "data": {
      "text/plain": [
       "array([     581,      618,     3213, ..., 99997997, 99998153, 99998295])"
      ]
     },
     "execution_count": 119,
     "metadata": {},
     "output_type": "execute_result"
    }
   ],
   "source": [
    "tim_sort(new)"
   ]
  },
  {
   "cell_type": "code",
   "execution_count": 110,
   "id": "4379b3bc",
   "metadata": {},
   "outputs": [
    {
     "data": {
      "text/plain": [
       "2048"
      ]
     },
     "execution_count": 110,
     "metadata": {},
     "output_type": "execute_result"
    }
   ],
   "source": [
    "2**11"
   ]
  },
  {
   "cell_type": "code",
   "execution_count": null,
   "id": "4878fa56",
   "metadata": {},
   "outputs": [],
   "source": []
  }
 ],
 "metadata": {
  "kernelspec": {
   "display_name": "Python 3 (ipykernel)",
   "language": "python",
   "name": "python3"
  },
  "language_info": {
   "codemirror_mode": {
    "name": "ipython",
    "version": 3
   },
   "file_extension": ".py",
   "mimetype": "text/x-python",
   "name": "python",
   "nbconvert_exporter": "python",
   "pygments_lexer": "ipython3",
   "version": "3.9.7"
  }
 },
 "nbformat": 4,
 "nbformat_minor": 5
}
