{
 "cells": [
  {
   "cell_type": "code",
   "execution_count": null,
   "id": "d59a94ee",
   "metadata": {},
   "outputs": [],
   "source": [
    "class BinaryTree():\n",
    "    def __init__(self, data=None):\n",
    "        self.data = data\n",
    "        self.right = None\n",
    "        self.left = None\n",
    "        \n",
    "    def add_node(self, node):\n",
    "        if self.data is None:\n",
    "            self.data =  node\n",
    "        if node == self.data:\n",
    "            return\n",
    "        if node > self.data:\n",
    "            if self.right:\n",
    "                self.right.add_node(node)\n",
    "            else:\n",
    "                self.right = BinaryTree(node)\n",
    "                \n",
    "        else:  \n",
    "            if self.left:\n",
    "                self.left.add_node(node)\n",
    "            else:\n",
    "                self.left = BinaryTree(node)\n",
    "                \n",
    "            \n",
    "    def in_order_search(self):\n",
    "        nodes = []\n",
    "        if self.left:\n",
    "            nodes += self.left.in_order_search()\n",
    "            \n",
    "        nodes.append(self.data)\n",
    "        if self.right:\n",
    "            nodes += self.right.in_order_search()\n",
    "        \n",
    "        return nodes\n",
    "    \n",
    "    \n",
    "    def pre_order_search(self):\n",
    "        nodes = []\n",
    "        nodes.append(self.data)\n",
    "        if self.left:\n",
    "            nodes += self.left.pre_order_search()\n",
    "            \n",
    "        if self.right:\n",
    "            nodes += self.right.pre_order_search()\n",
    "            \n",
    "        return nodes\n",
    "            \n",
    "    def post_order_search(self):\n",
    "        nodes = []\n",
    "        if self.left:\n",
    "            nodes += self.left.post_order_search()\n",
    "            \n",
    "        if self.right:\n",
    "            nodes += self.right.post_order_search()\n",
    "        \n",
    "        nodes.append(self.data)\n",
    "        return nodes"
   ]
  },
  {
   "cell_type": "code",
   "execution_count": null,
   "id": "01016ce9",
   "metadata": {},
   "outputs": [],
   "source": [
    "root = BinaryTree(23)\n",
    "root.add_node(12)\n",
    "root.add_node(34)\n",
    "root.add_node(23)\n",
    "\n",
    "a = [23, 43, 235, 12, 344, 26, 92]\n",
    "for item in a:\n",
    "    root.add_node(item)"
   ]
  },
  {
   "cell_type": "code",
   "execution_count": null,
   "id": "12f5839c",
   "metadata": {},
   "outputs": [],
   "source": [
    "root.in_order_search()"
   ]
  },
  {
   "cell_type": "code",
   "execution_count": null,
   "id": "a151c177",
   "metadata": {},
   "outputs": [],
   "source": [
    "\n",
    "    \n",
    "new.in_order_search()"
   ]
  },
  {
   "cell_type": "code",
   "execution_count": null,
   "id": "5a285c16",
   "metadata": {},
   "outputs": [],
   "source": [
    "new.pre_order_search()"
   ]
  },
  {
   "cell_type": "code",
   "execution_count": null,
   "id": "631e61d8",
   "metadata": {},
   "outputs": [],
   "source": [
    "new.post_order_search()"
   ]
  },
  {
   "cell_type": "code",
   "execution_count": null,
   "id": "c63df11b",
   "metadata": {},
   "outputs": [],
   "source": []
  },
  {
   "cell_type": "code",
   "execution_count": null,
   "id": "77ae84ed",
   "metadata": {},
   "outputs": [],
   "source": []
  },
  {
   "cell_type": "code",
   "execution_count": null,
   "id": "434a28db",
   "metadata": {},
   "outputs": [],
   "source": []
  },
  {
   "cell_type": "code",
   "execution_count": null,
   "id": "2f5970b2",
   "metadata": {},
   "outputs": [],
   "source": []
  },
  {
   "cell_type": "code",
   "execution_count": 27,
   "id": "affbe62b",
   "metadata": {},
   "outputs": [],
   "source": [
    "from collections import deque\n",
    "\n",
    "class BinaryTree2():\n",
    "    def __init__(self, data=None):\n",
    "        self.data = data\n",
    "        self.left = None\n",
    "        self.right = None\n",
    "        \n",
    "    def add_node(self, node):\n",
    "        if self.data == None:\n",
    "            self.data = node\n",
    "        \n",
    "        if node == self.data:\n",
    "            return\n",
    "        \n",
    "        if node < self.data:\n",
    "            if self.left:\n",
    "                self.left.add_node(node)\n",
    "            else:\n",
    "                self.left = BinaryTree2(node)\n",
    "            \n",
    "        else:\n",
    "            if self.right:\n",
    "                self.right.add_node(node)\n",
    "            else:\n",
    "                self.right = BinaryTree2(node)\n",
    "        \n",
    "    def in_order_traversal(self):\n",
    "        nodes = []\n",
    "        if not self.data:\n",
    "            return\n",
    "        \n",
    "        if self.left:\n",
    "            nodes += self.left.in_order_traversal()\n",
    "        \n",
    "#         print(self.data)\n",
    "        nodes.append(self.data)\n",
    "        \n",
    "        if self.right:\n",
    "            nodes += self.right.in_order_traversal()\n",
    "            \n",
    "        return nodes\n",
    "            \n",
    "    def pre_order_traversal(self):\n",
    "        print(self.data)\n",
    "        if not self.data:\n",
    "            return\n",
    "        \n",
    "        if self.left:\n",
    "            self.left.pre_order_traversal()\n",
    "        \n",
    "        \n",
    "        if self.right:\n",
    "            self.right.pre_order_traversal()\n",
    "            \n",
    "    def post_order_traversal(self):\n",
    "        if not self.data:\n",
    "            return\n",
    "        \n",
    "        if self.left:\n",
    "            self.left.post_order_traversal()\n",
    "        \n",
    "        \n",
    "        if self.right:\n",
    "            self.right.post_order_traversal()\n",
    "            \n",
    "        print(self.data)\n",
    "    \n",
    "    \n",
    "    def level_order_traversal(self):\n",
    "        nodes = []\n",
    "        node_traversal = deque([self])\n",
    "        if not self.data:\n",
    "            return\n",
    "        \n",
    "        while len(node_traversal) > 0:\n",
    "            \n",
    "            node = node_traversal.popleft()\n",
    "            nodes.append(node.data)\n",
    "            \n",
    "            if node.left:\n",
    "                node_traversal.append(node.left)\n",
    "                \n",
    "            if node.right:\n",
    "                node_traversal.append(node.right)\n",
    "            \n",
    "        return nodes\n",
    "    \n",
    "    def find_min(self):\n",
    "        if not self.data:\n",
    "            return f'Tree is empty'\n",
    "            \n",
    "        if self.left:\n",
    "            return self.left.find_min()\n",
    "        if not self.left:\n",
    "            return self.data\n",
    "            \n",
    "        return f'Min has been founded'\n",
    "    \n",
    "    def find_max(self):\n",
    "        if not self.data:\n",
    "            return 'Tree is empty'\n",
    "            \n",
    "        if self.right:\n",
    "            return self.right.find_max()\n",
    "        if not self.right:\n",
    "            return self.data\n",
    "            \n",
    "    \n",
    "    def remove_node(self, val):\n",
    "        if val < self.data:\n",
    "            if self.left:\n",
    "                self.left = self.left.remove_node(val)\n",
    "            else:\n",
    "                return None\n",
    "            \n",
    "        elif  val > self.data:\n",
    "            if self.right:\n",
    "                self.right = self.right.remove_node(val)\n",
    "            else:\n",
    "                return None\n",
    "            \n",
    "        if val == self.data:\n",
    "            if self.left is None and self.right is None:\n",
    "                return None\n",
    "            if self.left is None:\n",
    "                return self.right\n",
    "            if self.right is None:\n",
    "                return self.left\n",
    "            else:\n",
    "                min_val = self.right.find_min()\n",
    "                self.data = min_val\n",
    "                self.right = self.right.remove_node(min_val)\n",
    "\n",
    "        return self\n",
    "\n",
    "            \n",
    "            \n",
    "                \n",
    "                \n",
    "        "
   ]
  },
  {
   "cell_type": "code",
   "execution_count": 35,
   "id": "42f81285",
   "metadata": {},
   "outputs": [
    {
     "data": {
      "text/plain": [
       "[7, 12, 14, 15, 20, 23, 27, 88]"
      ]
     },
     "execution_count": 35,
     "metadata": {},
     "output_type": "execute_result"
    }
   ],
   "source": [
    "tree = BinaryTree2()\n",
    "num = [15, 12, 7, 14, 27, 20, 88, 23]\n",
    "for item in num:\n",
    "    tree.add_node(item)\n",
    "tree.in_order_traversal()"
   ]
  },
  {
   "cell_type": "code",
   "execution_count": 29,
   "id": "aa40f963",
   "metadata": {},
   "outputs": [
    {
     "name": "stdout",
     "output_type": "stream",
     "text": [
      "15\n",
      "12\n",
      "7\n",
      "14\n",
      "27\n",
      "20\n",
      "23\n",
      "88\n"
     ]
    }
   ],
   "source": [
    "tree.pre_order_traversal()"
   ]
  },
  {
   "cell_type": "code",
   "execution_count": 30,
   "id": "681a1439",
   "metadata": {},
   "outputs": [
    {
     "data": {
      "text/plain": [
       "[15, 12, 27, 7, 14, 20, 88, 23]"
      ]
     },
     "execution_count": 30,
     "metadata": {},
     "output_type": "execute_result"
    }
   ],
   "source": [
    "tree.level_order_traversal()"
   ]
  },
  {
   "cell_type": "code",
   "execution_count": 31,
   "id": "f3e2cf1f",
   "metadata": {},
   "outputs": [
    {
     "data": {
      "text/plain": [
       "(7, 88)"
      ]
     },
     "execution_count": 31,
     "metadata": {},
     "output_type": "execute_result"
    }
   ],
   "source": [
    "tree.find_min(), tree.find_max()"
   ]
  },
  {
   "cell_type": "code",
   "execution_count": 32,
   "id": "9bde56c6",
   "metadata": {},
   "outputs": [
    {
     "data": {
      "text/plain": [
       "'Tree is empty'"
      ]
     },
     "execution_count": 32,
     "metadata": {},
     "output_type": "execute_result"
    }
   ],
   "source": [
    "new = BinaryTree2()\n",
    "new.find_max()"
   ]
  },
  {
   "cell_type": "code",
   "execution_count": 36,
   "id": "998f6a32",
   "metadata": {},
   "outputs": [
    {
     "data": {
      "text/plain": [
       "<__main__.BinaryTree2 at 0x7f81b22faf10>"
      ]
     },
     "execution_count": 36,
     "metadata": {},
     "output_type": "execute_result"
    }
   ],
   "source": [
    "tree.remove_node(14)"
   ]
  },
  {
   "cell_type": "code",
   "execution_count": 37,
   "id": "8027b2be",
   "metadata": {},
   "outputs": [
    {
     "data": {
      "text/plain": [
       "[7, 12, 15, 20, 23, 27, 88]"
      ]
     },
     "execution_count": 37,
     "metadata": {},
     "output_type": "execute_result"
    }
   ],
   "source": [
    "tree.in_order_traversal()"
   ]
  },
  {
   "cell_type": "code",
   "execution_count": null,
   "id": "670779ba",
   "metadata": {},
   "outputs": [],
   "source": []
  },
  {
   "cell_type": "code",
   "execution_count": null,
   "id": "04c1f557",
   "metadata": {},
   "outputs": [],
   "source": []
  },
  {
   "cell_type": "code",
   "execution_count": null,
   "id": "6613c80d",
   "metadata": {},
   "outputs": [],
   "source": []
  }
 ],
 "metadata": {
  "kernelspec": {
   "display_name": "Python 3 (ipykernel)",
   "language": "python",
   "name": "python3"
  },
  "language_info": {
   "codemirror_mode": {
    "name": "ipython",
    "version": 3
   },
   "file_extension": ".py",
   "mimetype": "text/x-python",
   "name": "python",
   "nbconvert_exporter": "python",
   "pygments_lexer": "ipython3",
   "version": "3.9.7"
  }
 },
 "nbformat": 4,
 "nbformat_minor": 5
}
