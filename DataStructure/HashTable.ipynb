{
 "cells": [
  {
   "cell_type": "code",
   "execution_count": 174,
   "id": "f8309103",
   "metadata": {},
   "outputs": [],
   "source": [
    "class HashTable():\n",
    "    \n",
    "    def __init__(self, key=None, value=None):\n",
    "        self.key = key\n",
    "        self.value = value\n",
    "        self.size = 256\n",
    "        self.slot = [None for i in range(self.size)]\n",
    "        self.weight = 0.7\n",
    "        if key is None:\n",
    "            pass\n",
    "        else:\n",
    "            self.slot[self._hash_function(self.key)] = (self.key, self.value)\n",
    "            \n",
    "        \n",
    "    def _hash_function(self, sentence):\n",
    "        n = 1\n",
    "        sum = 0\n",
    "        for char in str(sentence):\n",
    "            sum += n * ord(char)\n",
    "            n += 1\n",
    "            \n",
    "        return sum % self.size\n",
    "    \n",
    "    def _growing(self):\n",
    "        item_in_slot = sum(1 for i in self.slot if i is not None)\n",
    "        fullines = item_in_slot / self.size\n",
    "        \n",
    "        return fullines\n",
    "    \n",
    "    def _linear_hashing(self, data):\n",
    "        idx = self._hash_function(data)\n",
    "        while True:\n",
    "            if self.slot[idx] is None:\n",
    "                return idx\n",
    "                break\n",
    "            else:\n",
    "                idx = (idx + 1) % self.size\n",
    "    \n",
    "    def _quadratic_hashing(self, data):\n",
    "        idx = self._hash_function(data)\n",
    "        n = 1\n",
    "        while True:\n",
    "            if self.slot[idx] is None:\n",
    "                return idx\n",
    "                break\n",
    "            else:\n",
    "                idx = (idx + n*n) % self.size\n",
    "                n += 1\n",
    "        \n",
    "        \n",
    "    def append_item(self, newKey, newValue):\n",
    "        idx = self._linear_hashing(newKey)\n",
    "#         idx = self._quadratic_hashing(newKey)\n",
    "        self.slot[idx] = (newKey, newValue)\n",
    "        \n",
    "            \n",
    "        if self._growing() > self.weight:\n",
    "            self.slot += ([None for i in range(self.size)])\n",
    "            self.size *= 2\n",
    "\n",
    "    def get_item(self, data):\n",
    "        idx = self._hash_function(data)\n",
    "        n = 1\n",
    "        while True:\n",
    "            if self.slot[idx][0] == data:\n",
    "                print(self.slot[idx][1])\n",
    "                break\n",
    "            else:\n",
    "                idx = (idx + 1) % self.size\n",
    "#                 idx = (idx + n*n) % self.size\n",
    "#                 n += 1\n",
    "                \n",
    "    \n",
    "    # Implemented as dictionary get and put item            \n",
    "    def __setitem__(self, key, value):\n",
    "        self.append_item(key, value)\n",
    "        \n",
    "    def __getitem__(self, key):\n",
    "        self.get_item(key)"
   ]
  },
  {
   "cell_type": "code",
   "execution_count": 175,
   "id": "5945e871",
   "metadata": {},
   "outputs": [],
   "source": [
    "x = HashTable()\n",
    "for k,v in enumerate(range(100)):\n",
    "    x.append_item(k, v)"
   ]
  },
  {
   "cell_type": "code",
   "execution_count": 176,
   "id": "1579c744",
   "metadata": {},
   "outputs": [
    {
     "name": "stdout",
     "output_type": "stream",
     "text": [
      "12\n"
     ]
    }
   ],
   "source": [
    "x.get_item(12)"
   ]
  },
  {
   "cell_type": "code",
   "execution_count": 177,
   "id": "209f21ad",
   "metadata": {
    "scrolled": true
   },
   "outputs": [
    {
     "name": "stdout",
     "output_type": "stream",
     "text": [
      "[(96, 96), (87, 87), (97, 97), None, None, None, None, None, None, None, None, None, None, None, None, None, None, None, None, None, None, None, None, None, None, None, None, None, None, None, None, None, None, None, None, None, None, None, None, None, None, None, None, None, None, None, None, None, (0, 0), (1, 1), (2, 2), (3, 3), (4, 4), (5, 5), (6, 6), (7, 7), (8, 8), (9, 9), None, None, None, None, None, None, None, None, None, None, None, None, None, None, None, None, None, None, None, None, None, None, None, None, None, None, None, None, None, None, None, None, None, None, None, None, None, None, None, None, None, None, None, None, None, None, None, None, None, None, None, None, None, None, None, None, None, None, None, None, None, None, None, None, None, None, None, None, None, None, None, None, None, None, None, None, None, None, None, None, None, None, None, None, None, None, None, (10, 10), (20, 20), (11, 11), (21, 21), (12, 12), (22, 22), (13, 13), (23, 23), (14, 14), (24, 24), (15, 15), (25, 25), (16, 16), (26, 26), (17, 17), (27, 27), (18, 18), (28, 28), (19, 19), (29, 29), (32, 32), (37, 37), (33, 33), (38, 38), (34, 34), (39, 39), (35, 35), (45, 45), (36, 36), (46, 46), (56, 56), (47, 47), (30, 30), (40, 40), (31, 31), (41, 41), (51, 51), (42, 42), (52, 52), (43, 43), (53, 53), (44, 44), (54, 54), (64, 64), (55, 55), (65, 65), (75, 75), (66, 66), (57, 57), (48, 48), (58, 58), (49, 49), (59, 59), (69, 69), (79, 79), (89, 89), (99, 99), None, None, (50, 50), (60, 60), (70, 70), (61, 61), (71, 71), (62, 62), (72, 72), (63, 63), (73, 73), (83, 83), (74, 74), (84, 84), (94, 94), (85, 85), (76, 76), (67, 67), (77, 77), (68, 68), (78, 78), (88, 88), (98, 98), None, None, None, None, None, None, None, None, None, None, None, None, None, None, None, None, None, None, (80, 80), (90, 90), (81, 81), (91, 91), (82, 82), (92, 92), None, (93, 93), None, None, None, (95, 95), (86, 86)]\n"
     ]
    }
   ],
   "source": [
    "print(x.slot)"
   ]
  },
  {
   "cell_type": "code",
   "execution_count": 178,
   "id": "b73744fe",
   "metadata": {},
   "outputs": [
    {
     "data": {
      "text/plain": [
       "100"
      ]
     },
     "execution_count": 178,
     "metadata": {},
     "output_type": "execute_result"
    }
   ],
   "source": [
    "sum(1 for i in x.slot if i is not None)"
   ]
  },
  {
   "cell_type": "code",
   "execution_count": 179,
   "id": "09689c99",
   "metadata": {},
   "outputs": [
    {
     "data": {
      "text/plain": [
       "(0.390625, 256, 0.7)"
      ]
     },
     "execution_count": 179,
     "metadata": {},
     "output_type": "execute_result"
    }
   ],
   "source": [
    "x._growing(), x.size, x.weight"
   ]
  },
  {
   "cell_type": "code",
   "execution_count": 180,
   "id": "1d2bb0b3",
   "metadata": {},
   "outputs": [
    {
     "data": {
      "text/plain": [
       "156"
      ]
     },
     "execution_count": 180,
     "metadata": {},
     "output_type": "execute_result"
    }
   ],
   "source": [
    "sum(1 for i in x.slot if i is None)"
   ]
  },
  {
   "cell_type": "code",
   "execution_count": 181,
   "id": "e0a9b510",
   "metadata": {},
   "outputs": [],
   "source": [
    "y = HashTable()\n",
    "for k,v in enumerate(range(500)):\n",
    "    y.append_item(k, v)\n",
    "\n",
    "    \n",
    "y['hello'] = 'gozo'\n",
    "y['die'] = 'mord'\n",
    "y['bye'] = 'byebye'"
   ]
  },
  {
   "cell_type": "code",
   "execution_count": 182,
   "id": "91af41d3",
   "metadata": {},
   "outputs": [
    {
     "data": {
      "text/plain": [
       "(503, 521)"
      ]
     },
     "execution_count": 182,
     "metadata": {},
     "output_type": "execute_result"
    }
   ],
   "source": [
    "sum(1 for i in y.slot if i is not None), sum(1 for i in y.slot if i is None)"
   ]
  },
  {
   "cell_type": "code",
   "execution_count": 183,
   "id": "c3b7fdc3",
   "metadata": {},
   "outputs": [
    {
     "name": "stdout",
     "output_type": "stream",
     "text": [
      "342\n"
     ]
    }
   ],
   "source": [
    "y.get_item(342)"
   ]
  },
  {
   "cell_type": "code",
   "execution_count": 184,
   "id": "fc7ff216",
   "metadata": {},
   "outputs": [
    {
     "data": {
      "text/plain": [
       "1024"
      ]
     },
     "execution_count": 184,
     "metadata": {},
     "output_type": "execute_result"
    }
   ],
   "source": [
    "y.size"
   ]
  },
  {
   "cell_type": "code",
   "execution_count": 185,
   "id": "99af20ff",
   "metadata": {},
   "outputs": [
    {
     "name": "stdout",
     "output_type": "stream",
     "text": [
      "gozo\n",
      "mord\n",
      "byebye\n"
     ]
    },
    {
     "data": {
      "text/plain": [
       "(None, None, None)"
      ]
     },
     "execution_count": 185,
     "metadata": {},
     "output_type": "execute_result"
    }
   ],
   "source": [
    "y['hello'], y['die'], y['bye']"
   ]
  },
  {
   "cell_type": "code",
   "execution_count": 186,
   "id": "9b1f2f01",
   "metadata": {},
   "outputs": [
    {
     "name": "stdout",
     "output_type": "stream",
     "text": [
      "[(96, 96), (87, 87), (97, 97), (344, 344), (335, 335), None, (345, 345), (336, 336), None, (346, 346), (337, 337), None, (343, 343), (334, 334), None, None, None, None, None, None, None, None, None, None, None, None, None, None, None, None, None, None, None, (100, 100), None, (110, 110), (101, 101), (120, 120), (111, 111), (102, 102), (121, 121), (112, 112), (103, 103), (122, 122), (113, 113), (104, 104), (123, 123), (114, 114), (0, 0), (1, 1), (2, 2), (3, 3), (4, 4), (5, 5), (6, 6), (7, 7), (8, 8), (9, 9), (108, 108), (107, 107), (109, 109), (117, 117), (105, 105), (119, 119), (115, 115), (106, 106), (125, 125), (116, 116), (135, 135), (126, 126), (145, 145), (136, 136), (127, 127), (118, 118), (137, 137), (128, 128), (147, 147), (138, 138), (129, 129), (124, 124), (139, 139), (134, 134), (149, 149), (144, 144), (159, 159), (154, 154), (169, 169), (164, 164), (155, 155), (146, 146), (165, 165), (156, 156), (175, 175), (166, 166), (130, 130), (148, 148), (140, 140), (131, 131), (150, 150), (141, 141), (132, 132), (151, 151), (142, 142), (133, 133), (152, 152), (143, 143), (162, 162), (153, 153), (172, 172), (163, 163), None, (173, 173), None, None, (174, 174), (347, 347), None, None, None, (157, 157), (176, 176), (167, 167), (158, 158), (177, 177), (168, 168), None, (178, 178), None, None, (179, 179), None, None, None, None, None, None, (160, 160), None, (170, 170), (161, 161), None, (171, 171), None, None, None, (10, 10), (20, 20), (11, 11), (21, 21), (12, 12), (22, 22), (13, 13), (23, 23), (14, 14), (24, 24), (15, 15), (25, 25), (16, 16), (26, 26), (17, 17), (27, 27), (18, 18), (28, 28), (19, 19), (29, 29), (32, 32), (37, 37), (33, 33), (38, 38), (34, 34), (39, 39), (35, 35), (45, 45), (36, 36), (46, 46), (56, 56), (47, 47), (30, 30), (40, 40), (31, 31), (41, 41), (51, 51), (42, 42), (52, 52), (43, 43), (53, 53), (44, 44), (54, 54), (64, 64), (55, 55), (65, 65), (75, 75), (66, 66), (57, 57), (48, 48), (58, 58), (49, 49), (59, 59), (69, 69), (79, 79), (89, 89), (99, 99), None, None, (50, 50), (60, 60), (70, 70), (61, 61), (71, 71), (62, 62), (72, 72), (63, 63), (73, 73), (83, 83), (74, 74), (84, 84), (94, 94), (85, 85), (76, 76), (67, 67), (77, 77), (68, 68), (78, 78), (88, 88), (98, 98), None, None, None, None, None, None, None, None, None, None, None, None, None, None, None, None, None, None, (80, 80), (90, 90), (81, 81), (91, 91), (82, 82), (92, 92), None, (93, 93), None, None, None, (95, 95), (86, 86), None, None, None, None, None, None, None, None, None, None, None, None, None, None, None, None, None, None, None, None, None, None, None, None, None, None, None, None, None, None, None, None, None, None, (200, 200), (300, 300), (210, 210), (201, 201), (220, 220), (211, 211), (202, 202), (221, 221), (212, 212), (203, 203), (222, 222), (213, 213), (204, 204), (223, 223), (214, 214), (180, 180), (205, 205), (190, 190), (181, 181), (206, 206), (191, 191), (182, 182), (207, 207), (192, 192), (183, 183), (208, 208), (193, 193), (184, 184), (209, 209), (194, 194), (185, 185), (215, 215), (195, 195), (186, 186), (216, 216), (196, 196), (187, 187), (217, 217), (197, 197), (188, 188), (218, 218), (198, 198), (189, 189), (219, 219), (199, 199), (229, 229), (224, 224), (239, 239), (234, 234), (225, 225), (244, 244), (235, 235), (226, 226), (245, 245), (236, 236), (227, 227), (246, 246), (237, 237), (228, 228), (247, 247), (238, 238), (230, 230), (248, 248), (240, 240), (231, 231), (249, 249), (241, 241), (232, 232), (251, 251), (242, 242), (233, 233), (252, 252), (243, 243), (262, 262), (253, 253), (272, 272), (263, 263), (254, 254), (273, 273), (264, 264), (255, 255), (274, 274), (265, 265), (256, 256), (275, 275), (266, 266), (257, 257), (276, 276), (267, 267), (258, 258), (277, 277), (268, 268), (259, 259), (278, 278), (269, 269), (288, 288), (279, 279), (298, 298), (289, 289), (321, 321), (299, 299), (250, 250), (322, 322), (260, 260), (304, 304), (270, 270), (261, 261), (280, 280), (271, 271), (290, 290), (281, 281), (325, 325), (291, 291), (282, 282), (326, 326), (292, 292), (283, 283), (327, 327), (293, 293), (284, 284), (328, 328), (294, 294), (285, 285), (329, 329), (295, 295), (286, 286), (358, 358), (296, 296), (287, 287), (359, 359), (297, 297), (369, 369), (388, 388), (379, 379), (398, 398), (389, 389), (489, 489), (399, 399), (499, 499), None, None, None, (400, 400), (310, 310), (301, 301), (320, 320), (311, 311), (302, 302), (402, 402), (312, 312), (303, 303), (350, 350), (313, 313), (332, 332), (323, 323), (314, 314), (305, 305), (324, 324), (315, 315), (306, 306), (353, 353), (316, 316), (307, 307), (354, 354), (317, 317), (308, 308), (355, 355), (318, 318), (309, 309), (356, 356), (319, 319), (338, 338), (357, 357), (348, 348), (339, 339), (386, 386), (349, 349), (368, 368), (387, 387), (378, 378), (397, 397), (469, 469), (488, 488), (479, 479), (498, 498), None, None, None, None, None, None, None, None, None, None, None, None, None, None, None, None, None, None, None, None, None, None, None, (410, 410), (401, 401), (420, 420), (330, 330), (430, 430), (340, 340), (331, 331), (403, 403), (341, 341), (360, 360), (351, 351), (342, 342), (333, 333), (352, 352), (371, 371), (362, 362), (381, 381), (372, 372), (363, 363), (382, 382), (373, 373), (364, 364), (383, 383), (374, 374), (365, 365), (384, 384), (375, 375), (366, 366), (385, 385), (376, 376), (367, 367), (439, 439), (377, 377), (396, 396), (468, 468), (459, 459), (478, 478), (497, 497), None, None, None, None, None, None, None, None, None, None, None, None, None, None, None, None, None, None, None, None, None, None, None, None, None, None, None, None, None, None, None, None, None, None, None, None, None, None, None, None, None, None, None, None, None, None, (411, 411), None, (421, 421), (412, 412), (431, 431), (422, 422), (413, 413), (404, 404), (370, 370), (361, 361), (380, 380), (424, 424), (390, 390), (406, 406), (425, 425), (391, 391), (407, 407), (426, 426), (392, 392), (408, 408), (427, 427), (393, 393), (409, 409), (428, 428), (394, 394), (438, 438), (429, 429), (395, 395), (467, 467), (458, 458), (449, 449), (496, 496), (487, 487), None, None, None, ('die', 'mord'), None, None, None, None, ('hello', 'gozo'), None, None, None, None, None, None, None, None, None, None, None, None, None, None, None, None, None, None, None, ('bye', 'byebye'), None, None, None, None, None, None, None, None, None, None, None, None, None, None, None, None, None, None, None, None, None, None, None, None, None, None, None, None, None, None, None, None, None, None, None, None, None, None, None, None, None, (440, 440), None, (450, 450), (441, 441), (432, 432), (423, 423), (414, 414), (405, 405), (452, 452), (415, 415), (434, 434), (453, 453), (416, 416), (435, 435), (454, 454), (417, 417), (436, 436), (455, 455), (418, 418), (437, 437), (456, 456), (419, 419), (466, 466), (457, 457), (448, 448), (495, 495), (486, 486), (477, 477), None, None, None, None, None, None, None, None, None, None, None, None, None, None, None, None, None, None, None, None, None, None, None, None, None, None, None, None, None, None, None, None, None, None, None, None, None, None, None, None, None, None, None, None, None, None, None, None, None, None, None, None, None, None, None, None, None, None, None, None, None, None, None, None, None, None, None, None, None, None, None, None, None, None, None, None, None, None, None, None, None, None, None, None, None, None, None, None, None, None, None, None, None, None, None, None, None, (460, 460), (451, 451), (442, 442), (433, 433), (480, 480), (443, 443), (462, 462), (481, 481), (444, 444), (463, 463), (482, 482), (445, 445), (464, 464), (483, 483), (446, 446), (465, 465), (484, 484), (447, 447), (494, 494), (485, 485), (476, 476), None, None, None, None, None, None, None, None, None, None, None, None, None, None, None, None, None, None, None, None, None, None, None, None, None, None, None, None, None, None, None, None, None, None, None, None, None, None, None, None, None, None, None, None, None, None, None, None, None, None, None, None, None, None, None, None, None, None, None, None, None, None, None, None, None, None, None, None, None, None, None, None, None, None, None, None, None, None, None, None, None, None, None, None, None, None, None, None, None, None, None, None, None, None, None, None, None, None, None, None, None, None, None, None, None, None, None, None, None, None, None, None, None, None, None, None, None, None, None, None, None, None, None, None, None, (470, 470), (461, 461), None, (471, 471), (490, 490), None, (472, 472), (491, 491), None, (473, 473), (492, 492), None, (474, 474), (493, 493), None, (475, 475), None, None, None, None, None, None, None, None, None, None, None, None, None, None, None, None, None, None, None, None, None, None, None, None, None, None, None, None, None, None, None, None, None, None, None, None, None, None, None, None, None, None, None, None, None, None, None, None, None, None, None, None]\n"
     ]
    }
   ],
   "source": [
    "print(y.slot)"
   ]
  },
  {
   "cell_type": "code",
   "execution_count": null,
   "id": "49db924a",
   "metadata": {},
   "outputs": [],
   "source": []
  }
 ],
 "metadata": {
  "kernelspec": {
   "display_name": "Python 3 (ipykernel)",
   "language": "python",
   "name": "python3"
  },
  "language_info": {
   "codemirror_mode": {
    "name": "ipython",
    "version": 3
   },
   "file_extension": ".py",
   "mimetype": "text/x-python",
   "name": "python",
   "nbconvert_exporter": "python",
   "pygments_lexer": "ipython3",
   "version": "3.9.7"
  }
 },
 "nbformat": 4,
 "nbformat_minor": 5
}
