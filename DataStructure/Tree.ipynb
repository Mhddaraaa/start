{
 "cells": [
  {
   "cell_type": "code",
   "execution_count": 314,
   "id": "5980b8a5",
   "metadata": {},
   "outputs": [],
   "source": [
    "class Tree():\n",
    "    def __init__(self, root, parent=None):\n",
    "        self.root = root\n",
    "        self.children = []\n",
    "        self.parent = parent\n",
    "        if self.parent:\n",
    "            self.parent = Tree(self.parent)\n",
    "            self._add_parent(self.parent)\n",
    "            \n",
    "    def _add_parent(self, par):\n",
    "        print('hi')\n",
    "        for child in par.children:\n",
    "            print(child)\n",
    "        if not par.children:\n",
    "            print('ridi')\n",
    "        par.children.append(self.root)\n",
    "#         par.add_child(Tree(self.root))\n",
    "        \n",
    "    def add_child(self, child):\n",
    "        child.parent = self\n",
    "        self.children.append(child)\n",
    "        \n",
    "    def get_lvl(self):\n",
    "        lvl = 0\n",
    "        p = self.parent\n",
    "        while p:\n",
    "            lvl += 1\n",
    "            p = p.parent\n",
    "            \n",
    "        return lvl\n",
    "    \n",
    "    def get_child(self):\n",
    "        for child in self.children:\n",
    "            child.print_tree()\n",
    "            \n",
    "    def get_parent(self):\n",
    "        if self.parent:\n",
    "#             ancestor = self.parent\n",
    "            print(self.parent.root)\n",
    "        else:\n",
    "            print(f\"{self.root} is a root Node!\")\n",
    "    \n",
    "    def print_tree(self):\n",
    "        space = ' ' * self.get_lvl() * 2\n",
    "        prefix  = space + '|-> ' if self.get_lvl() != 0 else ''\n",
    "        print(prefix + self.root)\n",
    "        if self.children:\n",
    "            for child in self.children:\n",
    "                child.print_tree()"
   ]
  },
  {
   "cell_type": "code",
   "execution_count": 316,
   "id": "90eb4e8e",
   "metadata": {},
   "outputs": [
    {
     "name": "stdout",
     "output_type": "stream",
     "text": [
      "hi\n",
      "ridi\n"
     ]
    }
   ],
   "source": [
    "asia = Tree('Asia')\n",
    "\n",
    "iran = Tree('Iran')\n",
    "iran.add_child(Tree('Shiraz'))\n",
    "iran.add_child(Tree('Tehran'))\n",
    "iran.add_child(Tree('Karaj'))\n",
    "iran.add_child(Tree('Ahvaz'))\n",
    "\n",
    "china = Tree('China')\n",
    "china.add_child(Tree('Pekan'))\n",
    "china.add_child(Tree('Shanghai'))\n",
    "\n",
    "\n",
    "india = Tree('India')\n",
    "india.add_child(Tree('Bambaie'))\n",
    "\n",
    "asia.add_child(iran)\n",
    "asia.add_child(china)\n",
    "asia.add_child(india)\n",
    "\n",
    "hamedan = Tree('Hamedan', 'Iran')\n",
    "iran = Tree('Iran')"
   ]
  },
  {
   "cell_type": "code",
   "execution_count": 317,
   "id": "3a27c7ba",
   "metadata": {},
   "outputs": [
    {
     "name": "stdout",
     "output_type": "stream",
     "text": [
      "Asia\n",
      "  |-> Iran\n",
      "    |-> Shiraz\n",
      "    |-> Tehran\n",
      "    |-> Karaj\n",
      "    |-> Ahvaz\n",
      "  |-> China\n",
      "    |-> Pekan\n",
      "    |-> Shanghai\n",
      "  |-> India\n",
      "    |-> Bambaie\n"
     ]
    }
   ],
   "source": [
    "asia.print_tree()"
   ]
  },
  {
   "cell_type": "code",
   "execution_count": 318,
   "id": "796b69fa",
   "metadata": {},
   "outputs": [],
   "source": [
    "iran.get_child()"
   ]
  },
  {
   "cell_type": "code",
   "execution_count": 319,
   "id": "a4956bbf",
   "metadata": {},
   "outputs": [
    {
     "name": "stdout",
     "output_type": "stream",
     "text": [
      "Iran is a root Node!\n"
     ]
    }
   ],
   "source": [
    "iran.get_parent()"
   ]
  },
  {
   "cell_type": "code",
   "execution_count": 310,
   "id": "f6b063ba",
   "metadata": {},
   "outputs": [
    {
     "data": {
      "text/plain": [
       "0"
      ]
     },
     "execution_count": 310,
     "metadata": {},
     "output_type": "execute_result"
    }
   ],
   "source": [
    "asia.get_lvl()"
   ]
  },
  {
   "cell_type": "code",
   "execution_count": 311,
   "id": "68ac1ef7",
   "metadata": {},
   "outputs": [
    {
     "name": "stdout",
     "output_type": "stream",
     "text": [
      "Iran\n"
     ]
    }
   ],
   "source": [
    "hamedan.get_parent()"
   ]
  },
  {
   "cell_type": "code",
   "execution_count": null,
   "id": "70262690",
   "metadata": {},
   "outputs": [],
   "source": []
  },
  {
   "cell_type": "code",
   "execution_count": null,
   "id": "e8be9466",
   "metadata": {},
   "outputs": [],
   "source": []
  }
 ],
 "metadata": {
  "kernelspec": {
   "display_name": "Python 3 (ipykernel)",
   "language": "python",
   "name": "python3"
  },
  "language_info": {
   "codemirror_mode": {
    "name": "ipython",
    "version": 3
   },
   "file_extension": ".py",
   "mimetype": "text/x-python",
   "name": "python",
   "nbconvert_exporter": "python",
   "pygments_lexer": "ipython3",
   "version": "3.9.7"
  }
 },
 "nbformat": 4,
 "nbformat_minor": 5
}
