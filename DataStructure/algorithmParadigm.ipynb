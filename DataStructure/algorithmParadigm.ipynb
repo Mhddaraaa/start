{
 "cells": [
  {
   "cell_type": "markdown",
   "id": "e57d6f36",
   "metadata": {},
   "source": [
    "# Recurcian algorithm paradigm"
   ]
  },
  {
   "cell_type": "code",
   "execution_count": 1,
   "id": "2e60bc03",
   "metadata": {},
   "outputs": [],
   "source": [
    "def factoriel(n):\n",
    "    if (n == 1) | (n == 0):\n",
    "        return 1\n",
    "    else:\n",
    "        return n * factoriel(n-1)"
   ]
  },
  {
   "cell_type": "code",
   "execution_count": 2,
   "id": "8dba6140",
   "metadata": {},
   "outputs": [
    {
     "data": {
      "text/plain": [
       "120"
      ]
     },
     "execution_count": 2,
     "metadata": {},
     "output_type": "execute_result"
    }
   ],
   "source": [
    "factoriel(5)"
   ]
  },
  {
   "cell_type": "code",
   "execution_count": 3,
   "id": "2c3a7e42",
   "metadata": {},
   "outputs": [
    {
     "data": {
      "text/plain": [
       "[1, 2, 6, 24, 120, 720, 5040, 40320, 362880]"
      ]
     },
     "execution_count": 3,
     "metadata": {},
     "output_type": "execute_result"
    }
   ],
   "source": [
    "x = [factoriel(i) for i in range(1, 10)]\n",
    "x"
   ]
  },
  {
   "cell_type": "code",
   "execution_count": 4,
   "id": "8ddfeb48",
   "metadata": {},
   "outputs": [],
   "source": [
    "def fibb(m):\n",
    "    if (m == 1):\n",
    "        return 1\n",
    "    if (m == 0):\n",
    "        return 0\n",
    "    else:\n",
    "        return fibb(m - 2) + fibb(m - 1)"
   ]
  },
  {
   "cell_type": "code",
   "execution_count": 5,
   "id": "d5dd49bb",
   "metadata": {},
   "outputs": [
    {
     "data": {
      "text/plain": [
       "{'1 num': 1,\n",
       " '2 num': 1,\n",
       " '3 num': 2,\n",
       " '4 num': 3,\n",
       " '5 num': 5,\n",
       " '6 num': 8,\n",
       " '7 num': 13,\n",
       " '8 num': 21,\n",
       " '9 num': 34,\n",
       " '10 num': 55,\n",
       " '11 num': 89,\n",
       " '12 num': 144,\n",
       " '13 num': 233,\n",
       " '14 num': 377,\n",
       " '15 num': 610}"
      ]
     },
     "execution_count": 5,
     "metadata": {},
     "output_type": "execute_result"
    }
   ],
   "source": [
    "x = {f'{i} num':fibb(i) for i in range(1, 16)}\n",
    "x"
   ]
  },
  {
   "cell_type": "markdown",
   "id": "09df517d",
   "metadata": {},
   "source": [
    "# Divided and conquer\n",
    "## Divided problem to subproblems\n",
    "\n",
    "### Binary search, Merge sort, Quick sort, Algorithm for last multiplication, Strassen's matrix multiplication, Closest pair option"
   ]
  },
  {
   "cell_type": "markdown",
   "id": "3ca32ffb",
   "metadata": {},
   "source": [
    "# Merge sort"
   ]
  },
  {
   "cell_type": "code",
   "execution_count": 6,
   "id": "3da353e6",
   "metadata": {},
   "outputs": [],
   "source": [
    "def merge_sort(data: list()):\n",
    "    \n",
    "    if len(data) == 1 :\n",
    "        return data\n",
    "    \n",
    "    if not data:\n",
    "        return f'You entered empty list'\n",
    "    \n",
    "    mid = int(len(data)/2)\n",
    "    first_subList = data[:mid]\n",
    "    second_subList = data[mid:]\n",
    "    \n",
    "    first_splited = merge_sort(first_subList)\n",
    "    second_splited = merge_sort(second_subList)\n",
    "    \n",
    "    return merge(first_splited, second_splited)\n",
    "\n",
    "def merge(first, second):\n",
    "    i = j = 0\n",
    "    res = []\n",
    "    \n",
    "    while (i < len(first)) & (j < len(second)):\n",
    "        if first[i] < second[j]:\n",
    "            res.append(first[i])\n",
    "            i += 1\n",
    "        else:\n",
    "            res.append(second[j])\n",
    "            j += 1\n",
    "    \n",
    "    while i < len(first):\n",
    "        res.append(first[i])\n",
    "        i += 1\n",
    "    \n",
    "    while j < len(second):\n",
    "        res.append(second[j])\n",
    "        j += 1\n",
    "    \n",
    "    return res"
   ]
  },
  {
   "cell_type": "code",
   "execution_count": 8,
   "id": "36b450df",
   "metadata": {},
   "outputs": [
    {
     "data": {
      "text/plain": [
       "[1, 2, 5, 12, 13, 14, 58, 119]"
      ]
     },
     "execution_count": 8,
     "metadata": {},
     "output_type": "execute_result"
    }
   ],
   "source": [
    "x = merge_sort([2, 12, 5, 1, 14 , 58 ,13 , 119])\n",
    "x"
   ]
  },
  {
   "cell_type": "markdown",
   "id": "577f35fc",
   "metadata": {},
   "source": [
    "# Binary search\n",
    "## sorted list"
   ]
  },
  {
   "cell_type": "code",
   "execution_count": 9,
   "id": "96f5e9c2",
   "metadata": {},
   "outputs": [],
   "source": [
    "def binary_search(data: list(), item):\n",
    "    start = 0\n",
    "    end = int(len(data))\n",
    "    \n",
    "    while start <= end:\n",
    "        mid = start + (end - start) // 2\n",
    "        if item == data[mid]:\n",
    "            return mid\n",
    "\n",
    "        if item < data[mid]:\n",
    "            end = mid \n",
    "\n",
    "        if item > data[mid]:\n",
    "            start = mid + 1\n",
    "            \n",
    "    return -1\n",
    "    \n",
    "    "
   ]
  },
  {
   "cell_type": "code",
   "execution_count": 10,
   "id": "081df505",
   "metadata": {},
   "outputs": [
    {
     "data": {
      "text/plain": [
       "11"
      ]
     },
     "execution_count": 10,
     "metadata": {},
     "output_type": "execute_result"
    }
   ],
   "source": [
    "x = binary_search([1, 2, 3, 4, 5, 7, 10, 13, 19, 21, 34, 39, 56], 39)\n",
    "x"
   ]
  },
  {
   "cell_type": "markdown",
   "id": "bf257a1b",
   "metadata": {},
   "source": [
    "# Dynamic programing \n",
    "\n",
    "## divided problem to subproblem but save previous calculatet item to avoid repeat the calculation and optimize time consuming"
   ]
  },
  {
   "cell_type": "code",
   "execution_count": 34,
   "id": "1fc07f0b",
   "metadata": {},
   "outputs": [],
   "source": [
    "def fibb(m):\n",
    "    if (m == 1):\n",
    "        return 1\n",
    "    \n",
    "    if (m == 0):\n",
    "        return 0\n",
    "    \n",
    "    if lookUp[m] is not None:\n",
    "        return lookUp[m]\n",
    "    \n",
    "    lookUp[m] = fibb(m - 2) + fibb(m - 1)\n",
    "    return lookUp[m]"
   ]
  },
  {
   "cell_type": "code",
   "execution_count": 35,
   "id": "8fb8323c",
   "metadata": {},
   "outputs": [
    {
     "name": "stdout",
     "output_type": "stream",
     "text": [
      "0\n",
      "1\n",
      "1\n",
      "2\n",
      "3\n",
      "5\n",
      "8\n",
      "13\n",
      "21\n",
      "34\n"
     ]
    }
   ],
   "source": [
    "\n",
    "for i in range(10):\n",
    "    print(fibb(i))"
   ]
  },
  {
   "cell_type": "markdown",
   "id": "3ed2aba8",
   "metadata": {},
   "source": [
    "# Gready algorithm "
   ]
  },
  {
   "cell_type": "code",
   "execution_count": null,
   "id": "28465eab",
   "metadata": {},
   "outputs": [],
   "source": []
  }
 ],
 "metadata": {
  "kernelspec": {
   "display_name": "Python 3 (ipykernel)",
   "language": "python",
   "name": "python3"
  },
  "language_info": {
   "codemirror_mode": {
    "name": "ipython",
    "version": 3
   },
   "file_extension": ".py",
   "mimetype": "text/x-python",
   "name": "python",
   "nbconvert_exporter": "python",
   "pygments_lexer": "ipython3",
   "version": "3.9.7"
  }
 },
 "nbformat": 4,
 "nbformat_minor": 5
}
