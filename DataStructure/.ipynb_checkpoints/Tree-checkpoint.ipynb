{
 "cells": [
  {
   "cell_type": "code",
   "execution_count": 163,
   "id": "5980b8a5",
   "metadata": {},
   "outputs": [],
   "source": [
    "class Tree():\n",
    "    def __init__(self, root):\n",
    "        self.root = root\n",
    "        self.children = []\n",
    "        self.parent = None\n",
    "        \n",
    "    def add_child(self, child):\n",
    "        child.parent = self\n",
    "        self.children.append(child)\n",
    "        \n",
    "    def get_lvl(self):\n",
    "        lvl = 0\n",
    "        p = self.parent\n",
    "        while p:\n",
    "            lvl += 1\n",
    "            p = p.parent\n",
    "            \n",
    "        return lvl\n",
    "    \n",
    "    def get_child(self):\n",
    "        for child in self.children:\n",
    "            child.print_tree()\n",
    "            \n",
    "    def get_parent(self):\n",
    "        if self.parent:\n",
    "#             ancestor = self.parent\n",
    "            print(self.parent.root)\n",
    "        else:\n",
    "            print(f\"{self.root} is a root Node!\")\n",
    "    \n",
    "    def print_tree(self):\n",
    "        space = ' ' * self.get_lvl() * 2\n",
    "        prefix  = space + '|-> ' if self.get_lvl() != 0 else ''\n",
    "        print(prefix + self.root)\n",
    "        if self.children:\n",
    "            for child in self.children:\n",
    "                child.print_tree()"
   ]
  },
  {
   "cell_type": "code",
   "execution_count": 164,
   "id": "90eb4e8e",
   "metadata": {},
   "outputs": [],
   "source": [
    "asia = Tree('Asia')\n",
    "\n",
    "iran = Tree('Iran')\n",
    "iran.add_child(Tree('Shiraz'))\n",
    "iran.add_child(Tree('Tehran'))\n",
    "iran.add_child(Tree('Karaj'))\n",
    "iran.add_child(Tree('Ahvaz'))\n",
    "\n",
    "china = Tree('China')\n",
    "china.add_child(Tree('Pekan'))\n",
    "china.add_child(Tree('Shanghai'))\n",
    "\n",
    "\n",
    "india = Tree('India')\n",
    "india.add_child(Tree('Bambaie'))\n",
    "\n",
    "asia.add_child(iran)\n",
    "asia.add_child(china)\n",
    "asia.add_child(india)\n",
    "\n"
   ]
  },
  {
   "cell_type": "code",
   "execution_count": 165,
   "id": "3a27c7ba",
   "metadata": {},
   "outputs": [
    {
     "name": "stdout",
     "output_type": "stream",
     "text": [
      "Asia\n",
      "  |-> Iran\n",
      "    |-> Shiraz\n",
      "    |-> Tehran\n",
      "    |-> Karaj\n",
      "    |-> Ahvaz\n",
      "  |-> China\n",
      "    |-> Pekan\n",
      "    |-> Shanghai\n",
      "  |-> India\n",
      "    |-> Bambaie\n"
     ]
    }
   ],
   "source": [
    "asia.print_tree()"
   ]
  },
  {
   "cell_type": "code",
   "execution_count": 144,
   "id": "796b69fa",
   "metadata": {},
   "outputs": [
    {
     "name": "stdout",
     "output_type": "stream",
     "text": [
      "Shiraz\n",
      "Tehran\n",
      "Karaj\n",
      "Ahvaz\n"
     ]
    }
   ],
   "source": [
    "iran.get_child()"
   ]
  },
  {
   "cell_type": "code",
   "execution_count": 145,
   "id": "a4956bbf",
   "metadata": {},
   "outputs": [
    {
     "name": "stdout",
     "output_type": "stream",
     "text": [
      "Asia is a root Node!\n"
     ]
    }
   ],
   "source": [
    "asia.get_parent()"
   ]
  },
  {
   "cell_type": "code",
   "execution_count": 147,
   "id": "f6b063ba",
   "metadata": {},
   "outputs": [
    {
     "data": {
      "text/plain": [
       "0"
      ]
     },
     "execution_count": 147,
     "metadata": {},
     "output_type": "execute_result"
    }
   ],
   "source": [
    "asia.get_lvl()"
   ]
  },
  {
   "cell_type": "code",
   "execution_count": null,
   "id": "68ac1ef7",
   "metadata": {},
   "outputs": [],
   "source": []
  }
 ],
 "metadata": {
  "kernelspec": {
   "display_name": "Python 3 (ipykernel)",
   "language": "python",
   "name": "python3"
  },
  "language_info": {
   "codemirror_mode": {
    "name": "ipython",
    "version": 3
   },
   "file_extension": ".py",
   "mimetype": "text/x-python",
   "name": "python",
   "nbconvert_exporter": "python",
   "pygments_lexer": "ipython3",
   "version": "3.9.7"
  }
 },
 "nbformat": 4,
 "nbformat_minor": 5
}
