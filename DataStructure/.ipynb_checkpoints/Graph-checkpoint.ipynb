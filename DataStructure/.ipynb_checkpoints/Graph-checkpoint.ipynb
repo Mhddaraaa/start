{
 "cells": [
  {
   "cell_type": "code",
   "execution_count": 75,
   "id": "b31b9513",
   "metadata": {},
   "outputs": [
    {
     "data": {
      "text/plain": [
       "{'A': ['B', 'D', 'G'],\n",
       " 'B': ['A', 'E', 'F'],\n",
       " 'C': ['F', 'H'],\n",
       " 'D': ['A', 'F'],\n",
       " 'E': ['B', 'G'],\n",
       " 'F': ['B', 'C'],\n",
       " 'G': ['A', 'E'],\n",
       " 'H': ['C']}"
      ]
     },
     "execution_count": 75,
     "metadata": {},
     "output_type": "execute_result"
    }
   ],
   "source": [
    "graph = {}\n",
    "graph['A'] = ['B', 'D', 'G']\n",
    "graph['B'] = ['A', 'E', 'F']\n",
    "graph['C'] = ['F', 'H']\n",
    "graph['D'] = ['A', 'F']\n",
    "graph['E'] = ['B', 'G']\n",
    "graph['F'] = ['B', 'C']\n",
    "graph['G'] = ['A', 'E']\n",
    "graph['H'] = ['C']\n",
    "graph"
   ]
  },
  {
   "cell_type": "code",
   "execution_count": 76,
   "id": "f50a425a",
   "metadata": {},
   "outputs": [
    {
     "data": {
      "text/plain": [
       "[[0, 1, 0, 1, 0, 0, 1, 0],\n",
       " [1, 0, 0, 0, 1, 1, 0, 0],\n",
       " [0, 0, 0, 0, 0, 1, 0, 1],\n",
       " [1, 0, 0, 0, 0, 1, 0, 0],\n",
       " [0, 1, 0, 0, 0, 0, 1, 0],\n",
       " [0, 1, 1, 0, 0, 0, 0, 0],\n",
       " [1, 0, 0, 0, 1, 0, 0, 0],\n",
       " [0, 0, 1, 0, 0, 0, 0, 0]]"
      ]
     },
     "execution_count": 76,
     "metadata": {},
     "output_type": "execute_result"
    }
   ],
   "source": [
    "def element_matrix(graph):\n",
    "    graph_element = sorted(graph.keys())\n",
    "    rows = cols = len(graph_element)\n",
    "    element_matrix = [[0 for _ in range(rows)] for _ in range(cols)]\n",
    "    edges = []\n",
    "    for key in graph_element:\n",
    "        for value in graph[key]:\n",
    "            edges.append((key, value))\n",
    "    \n",
    "    for item in edges:\n",
    "        first_idx = graph_element.index(item[0])\n",
    "        second_idx = graph_element.index(item[1])\n",
    "        \n",
    "        element_matrix[first_idx][second_idx] += 1\n",
    "        \n",
    "    return element_matrix\n",
    "\n",
    "element_matrix(graph)"
   ]
  },
  {
   "cell_type": "markdown",
   "id": "494c2ab1",
   "metadata": {},
   "source": [
    "# Breadth-first traversal \n",
    "### Work similarly to how level order traversal algorithm work is tree data structure"
   ]
  },
  {
   "cell_type": "code",
   "execution_count": 77,
   "id": "453868dd",
   "metadata": {},
   "outputs": [
    {
     "data": {
      "text/plain": [
       "['A', 'B', 'D', 'G', 'E', 'F', 'C', 'H']"
      ]
     },
     "execution_count": 77,
     "metadata": {},
     "output_type": "execute_result"
    }
   ],
   "source": [
    "from collections import deque\n",
    "\n",
    "def breath_first_traversal(graph, start_node):\n",
    "    visited_node = [start_node]\n",
    "    graph_queue = deque([start_node])\n",
    "    \n",
    "    while len(graph_queue) > 0:\n",
    "        node = graph_queue.popleft()\n",
    "        adjacent = graph[node]\n",
    "        \n",
    "        remaining_element = set(adjacent).difference(set(visited_node))\n",
    "#         remaining_element = set(adjacent) - set(visited_node)\n",
    "\n",
    "        \n",
    "        if len(remaining_element) > 0:\n",
    "            for item in sorted(remaining_element):\n",
    "                visited_node.append(item)\n",
    "                graph_queue.append(item)\n",
    "                \n",
    "    return visited_node\n",
    "            \n",
    "            \n",
    "        \n",
    "breath_first_traversal(graph, 'A')     "
   ]
  },
  {
   "cell_type": "code",
   "execution_count": 81,
   "id": "1ce650ae",
   "metadata": {},
   "outputs": [
    {
     "ename": "RecursionError",
     "evalue": "maximum recursion depth exceeded while calling a Python object",
     "output_type": "error",
     "traceback": [
      "\u001b[0;31m---------------------------------------------------------------------------\u001b[0m",
      "\u001b[0;31mRecursionError\u001b[0m                            Traceback (most recent call last)",
      "Input \u001b[0;32mIn [81]\u001b[0m, in \u001b[0;36m<cell line: 17>\u001b[0;34m()\u001b[0m\n\u001b[1;32m     12\u001b[0m             breath_first_traversal(graph, item, visited)\n\u001b[1;32m     14\u001b[0m     \u001b[38;5;28;01mreturn\u001b[39;00m visited\n\u001b[0;32m---> 17\u001b[0m \u001b[43mbreath_first_traversal\u001b[49m\u001b[43m(\u001b[49m\u001b[43mgraph\u001b[49m\u001b[43m,\u001b[49m\u001b[43m \u001b[49m\u001b[38;5;124;43m'\u001b[39;49m\u001b[38;5;124;43mA\u001b[39;49m\u001b[38;5;124;43m'\u001b[39;49m\u001b[43m)\u001b[49m\n",
      "Input \u001b[0;32mIn [81]\u001b[0m, in \u001b[0;36mbreath_first_traversal\u001b[0;34m(graph, start_node, visited)\u001b[0m\n\u001b[1;32m      7\u001b[0m     \u001b[38;5;28;01mfor\u001b[39;00m item \u001b[38;5;129;01min\u001b[39;00m \u001b[38;5;28msorted\u001b[39m(adjacent):\n\u001b[1;32m      8\u001b[0m         \u001b[38;5;28;01mif\u001b[39;00m item \u001b[38;5;129;01mnot\u001b[39;00m \u001b[38;5;129;01min\u001b[39;00m visited:\n\u001b[1;32m      9\u001b[0m             \n\u001b[1;32m     10\u001b[0m \u001b[38;5;66;03m#             visited.append(start_node)\u001b[39;00m\n\u001b[0;32m---> 12\u001b[0m             \u001b[43mbreath_first_traversal\u001b[49m\u001b[43m(\u001b[49m\u001b[43mgraph\u001b[49m\u001b[43m,\u001b[49m\u001b[43m \u001b[49m\u001b[43mitem\u001b[49m\u001b[43m,\u001b[49m\u001b[43m \u001b[49m\u001b[43mvisited\u001b[49m\u001b[43m)\u001b[49m\n\u001b[1;32m     14\u001b[0m     \u001b[38;5;28;01mreturn\u001b[39;00m visited\n",
      "Input \u001b[0;32mIn [81]\u001b[0m, in \u001b[0;36mbreath_first_traversal\u001b[0;34m(graph, start_node, visited)\u001b[0m\n\u001b[1;32m      7\u001b[0m     \u001b[38;5;28;01mfor\u001b[39;00m item \u001b[38;5;129;01min\u001b[39;00m \u001b[38;5;28msorted\u001b[39m(adjacent):\n\u001b[1;32m      8\u001b[0m         \u001b[38;5;28;01mif\u001b[39;00m item \u001b[38;5;129;01mnot\u001b[39;00m \u001b[38;5;129;01min\u001b[39;00m visited:\n\u001b[1;32m      9\u001b[0m             \n\u001b[1;32m     10\u001b[0m \u001b[38;5;66;03m#             visited.append(start_node)\u001b[39;00m\n\u001b[0;32m---> 12\u001b[0m             \u001b[43mbreath_first_traversal\u001b[49m\u001b[43m(\u001b[49m\u001b[43mgraph\u001b[49m\u001b[43m,\u001b[49m\u001b[43m \u001b[49m\u001b[43mitem\u001b[49m\u001b[43m,\u001b[49m\u001b[43m \u001b[49m\u001b[43mvisited\u001b[49m\u001b[43m)\u001b[49m\n\u001b[1;32m     14\u001b[0m     \u001b[38;5;28;01mreturn\u001b[39;00m visited\n",
      "    \u001b[0;31m[... skipping similar frames: breath_first_traversal at line 12 (2968 times)]\u001b[0m\n",
      "Input \u001b[0;32mIn [81]\u001b[0m, in \u001b[0;36mbreath_first_traversal\u001b[0;34m(graph, start_node, visited)\u001b[0m\n\u001b[1;32m      7\u001b[0m     \u001b[38;5;28;01mfor\u001b[39;00m item \u001b[38;5;129;01min\u001b[39;00m \u001b[38;5;28msorted\u001b[39m(adjacent):\n\u001b[1;32m      8\u001b[0m         \u001b[38;5;28;01mif\u001b[39;00m item \u001b[38;5;129;01mnot\u001b[39;00m \u001b[38;5;129;01min\u001b[39;00m visited:\n\u001b[1;32m      9\u001b[0m             \n\u001b[1;32m     10\u001b[0m \u001b[38;5;66;03m#             visited.append(start_node)\u001b[39;00m\n\u001b[0;32m---> 12\u001b[0m             \u001b[43mbreath_first_traversal\u001b[49m\u001b[43m(\u001b[49m\u001b[43mgraph\u001b[49m\u001b[43m,\u001b[49m\u001b[43m \u001b[49m\u001b[43mitem\u001b[49m\u001b[43m,\u001b[49m\u001b[43m \u001b[49m\u001b[43mvisited\u001b[49m\u001b[43m)\u001b[49m\n\u001b[1;32m     14\u001b[0m     \u001b[38;5;28;01mreturn\u001b[39;00m visited\n",
      "Input \u001b[0;32mIn [81]\u001b[0m, in \u001b[0;36mbreath_first_traversal\u001b[0;34m(graph, start_node, visited)\u001b[0m\n\u001b[1;32m      2\u001b[0m     adjacent \u001b[38;5;241m=\u001b[39m \u001b[38;5;28mset\u001b[39m(graph[start_node]) \u001b[38;5;241m-\u001b[39m \u001b[38;5;28mset\u001b[39m(visited)\n\u001b[1;32m      4\u001b[0m \u001b[38;5;66;03m#     if not adjacent:\u001b[39;00m\n\u001b[1;32m      5\u001b[0m \u001b[38;5;66;03m#         visited.append(start_node)\u001b[39;00m\n\u001b[0;32m----> 7\u001b[0m     \u001b[38;5;28;01mfor\u001b[39;00m item \u001b[38;5;129;01min\u001b[39;00m \u001b[38;5;28;43msorted\u001b[39;49m\u001b[43m(\u001b[49m\u001b[43madjacent\u001b[49m\u001b[43m)\u001b[49m:\n\u001b[1;32m      8\u001b[0m         \u001b[38;5;28;01mif\u001b[39;00m item \u001b[38;5;129;01mnot\u001b[39;00m \u001b[38;5;129;01min\u001b[39;00m visited:\n\u001b[1;32m      9\u001b[0m             \n\u001b[1;32m     10\u001b[0m \u001b[38;5;66;03m#             visited.append(start_node)\u001b[39;00m\n\u001b[1;32m     12\u001b[0m             breath_first_traversal(graph, item, visited)\n",
      "\u001b[0;31mRecursionError\u001b[0m: maximum recursion depth exceeded while calling a Python object"
     ]
    }
   ],
   "source": [
    "def breath_first_traversal(graph, start_node, visited=[]):\n",
    "    adjacent = set(graph[start_node]) - set(visited)\n",
    "    \n",
    "#     if not adjacent:\n",
    "#         visited.append(start_node)\n",
    "    \n",
    "    for item in sorted(adjacent):\n",
    "        if item not in visited:\n",
    "            \n",
    "#             visited.append(start_node)\n",
    "            \n",
    "            breath_first_traversal(graph, item, visited)\n",
    "            \n",
    "    return visited\n",
    "        \n",
    "\n",
    "breath_first_traversal(graph, 'A')"
   ]
  },
  {
   "cell_type": "markdown",
   "id": "207885e9",
   "metadata": {},
   "source": [
    "# Depth-first search (DFS)\n",
    "### like pre-order traversal in binary tree search"
   ]
  },
  {
   "cell_type": "code",
   "execution_count": 40,
   "id": "3c6074b0",
   "metadata": {},
   "outputs": [
    {
     "data": {
      "text/plain": [
       "{'A': ['B', 'S'],\n",
       " 'B': ['A'],\n",
       " 'C': ['D', 'E', 'F', 'S'],\n",
       " 'D': ['C'],\n",
       " 'E': ['C', 'H'],\n",
       " 'F': ['C', 'G'],\n",
       " 'G': ['F', 'S'],\n",
       " 'H': ['G', 'E'],\n",
       " 'S': ['A', 'C', 'G']}"
      ]
     },
     "execution_count": 40,
     "metadata": {},
     "output_type": "execute_result"
    }
   ],
   "source": [
    "graph = {}\n",
    "graph['A'] = ['B', 'S']\n",
    "graph['B'] = ['A']\n",
    "graph['C'] = ['D', 'E', 'F', 'S']\n",
    "graph['D'] = ['C']\n",
    "graph['E'] = ['C', 'H']\n",
    "graph['F'] = ['C', 'G']\n",
    "graph['G'] = ['F', 'S']\n",
    "graph['H'] = ['G', 'E']\n",
    "graph['S'] = ['A', 'C', 'G']\n",
    "graph"
   ]
  },
  {
   "cell_type": "code",
   "execution_count": 41,
   "id": "7b16131c",
   "metadata": {},
   "outputs": [
    {
     "data": {
      "text/plain": [
       "['A', 'B', 'S', 'B', 'C', 'G', 'D', 'E', 'F', 'G', 'D', 'H', 'F', 'H']"
      ]
     },
     "execution_count": 41,
     "metadata": {},
     "output_type": "execute_result"
    }
   ],
   "source": [
    "def depth_first_search(graph, start_node):\n",
    "    visited_verices = [start_node]\n",
    "    graph_list = [start_node]\n",
    "    \n",
    "    while len(graph_queue) > 0:\n",
    "        node = graph_queue.popleft()\n",
    "        adjacent = graph[node]\n",
    "        \n",
    "        condition = set(adjacent).issubset(visited_verices)\n",
    "        remain_vertices = set(adjacent) - set(visited_verices)\n",
    "        \n",
    "        if condition:\n",
    "            visited_verices.append(node)\n",
    "        \n",
    "        if not condition:\n",
    "            for item in sorted(remain_vertices):\n",
    "                graph_queue.append(item)\n",
    "                visited_verices.append(item)\n",
    "        \n",
    "    return visited_verices\n",
    "\n",
    "\n",
    "                \n",
    "depth_first_search(graph, 'A')                "
   ]
  },
  {
   "cell_type": "code",
   "execution_count": 73,
   "id": "5d14e306",
   "metadata": {},
   "outputs": [
    {
     "data": {
      "text/plain": [
       "['A', 'B', 'S', 'C', 'D', 'E', 'H', 'G', 'F']"
      ]
     },
     "execution_count": 73,
     "metadata": {},
     "output_type": "execute_result"
    }
   ],
   "source": [
    "def depth_first_search(graph, start_node, visited=[]):\n",
    "#     print(start_node)\n",
    "    adjacent = set(graph[start_node]) - set(visited)\n",
    "    \n",
    "    if not adjacent:\n",
    "        visited.append(start_node)\n",
    "    \n",
    "    for item in sorted(adjacent):\n",
    "        if item not in visited:\n",
    "            if start_node not in visited:\n",
    "                visited.append(start_node)\n",
    "                \n",
    "            depth_first_search(graph, item, visited)\n",
    "            \n",
    "    return visited\n",
    "\n",
    "depth_first_search(graph, 'A')                "
   ]
  },
  {
   "cell_type": "code",
   "execution_count": null,
   "id": "b55c5718",
   "metadata": {},
   "outputs": [],
   "source": []
  },
  {
   "cell_type": "code",
   "execution_count": null,
   "id": "751eccfa",
   "metadata": {},
   "outputs": [],
   "source": []
  },
  {
   "cell_type": "code",
   "execution_count": null,
   "id": "e80be494",
   "metadata": {},
   "outputs": [],
   "source": []
  },
  {
   "cell_type": "code",
   "execution_count": null,
   "id": "d6d9307e",
   "metadata": {},
   "outputs": [],
   "source": []
  }
 ],
 "metadata": {
  "kernelspec": {
   "display_name": "Python 3 (ipykernel)",
   "language": "python",
   "name": "python3"
  },
  "language_info": {
   "codemirror_mode": {
    "name": "ipython",
    "version": 3
   },
   "file_extension": ".py",
   "mimetype": "text/x-python",
   "name": "python",
   "nbconvert_exporter": "python",
   "pygments_lexer": "ipython3",
   "version": "3.9.7"
  }
 },
 "nbformat": 4,
 "nbformat_minor": 5
}
