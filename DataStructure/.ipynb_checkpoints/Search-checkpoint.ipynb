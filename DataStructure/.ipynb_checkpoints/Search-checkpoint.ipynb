{
 "cells": [
  {
   "cell_type": "code",
   "execution_count": 32,
   "id": "99795f87",
   "metadata": {},
   "outputs": [],
   "source": [
    "from time import time"
   ]
  },
  {
   "cell_type": "code",
   "execution_count": 33,
   "id": "b8741927",
   "metadata": {},
   "outputs": [],
   "source": [
    "def time_it(func):\n",
    "    def wrapper(*arge, **kwarge):\n",
    "        start = time()\n",
    "        result = func(*arge, **kwarge)\n",
    "        end = time()\n",
    "        print(func.__name__ + \" took \" + str((end-start)*1000) + \" mil sec \")\n",
    "        return result\n",
    "    return wrapper\n",
    "        "
   ]
  },
  {
   "cell_type": "code",
   "execution_count": 55,
   "id": "0d89abc3",
   "metadata": {},
   "outputs": [],
   "source": [
    "data = [i for i in range(100000)]\n",
    "ele = 90003"
   ]
  },
  {
   "cell_type": "code",
   "execution_count": 56,
   "id": "5c469bba",
   "metadata": {},
   "outputs": [],
   "source": [
    "@time_it\n",
    "def linear_search(data, element):\n",
    "    for i, item in enumerate(data):\n",
    "        if item == element:\n",
    "            return f'{element} is in {i}th index'\n",
    "    return f'desir data doesnt found in data collection'\n",
    "\n",
    "\n",
    "@time_it\n",
    "def binary_search(data, element):\n",
    "    start = 0\n",
    "    end = len(data)\n",
    "    \n",
    "    while end >= start:\n",
    "        mid = start + (end - start) // 2\n",
    "        if data[mid] == element:\n",
    "            return f'{element} is in {mid}th index'\n",
    "        if data[mid] > element:\n",
    "            end = mid - 1\n",
    "        if data[mid] < element:\n",
    "            start = mid + 1\n",
    "        if end < start:\n",
    "            return f'desir data doesnt found in data collection'\n",
    "    \n",
    "\n",
    "\n",
    "# @time_it\n",
    "def binary_recur_search(data, element, start, end):\n",
    "    while end >= start:\n",
    "        mid = start + (end - start) // 2\n",
    "        if (end < start):\n",
    "            return f'desir data doesnt found in data collection'\n",
    "        \n",
    "        if data[mid] == element:\n",
    "            return f'{element} is in {mid}th index'\n",
    "        if data[mid] > element:\n",
    "            end = mid - 1\n",
    "            return binary_recur_search(data, element, start, end)\n",
    "        if data[mid] < element:\n",
    "            start = mid + 1\n",
    "            return binary_recur_search(data, element, start, end)\n",
    "        \n",
    "\n",
    "\n",
    "\n",
    "# Fastest way to find out a desiere item in in large data collection\n",
    "@time_it\n",
    "def exp_search(data, element):\n",
    "    if data[0] == element:\n",
    "        return f'{element} is in {0}th index'\n",
    "    \n",
    "    n = 0\n",
    "    while data[2**n] <= element:\n",
    "        start = 2 ** n\n",
    "        end = 2 ** (n + 1)\n",
    "        if end > len(data):\n",
    "            end = len(data)\n",
    "            break\n",
    "        n += 1\n",
    "    return binary_recur_search(data, element, start, len(data))"
   ]
  },
  {
   "cell_type": "code",
   "execution_count": 57,
   "id": "77856b36",
   "metadata": {},
   "outputs": [
    {
     "name": "stdout",
     "output_type": "stream",
     "text": [
      "linear_search took 19.533157348632812 mil sec \n"
     ]
    },
    {
     "data": {
      "text/plain": [
       "'90003 is in 90003th index'"
      ]
     },
     "execution_count": 57,
     "metadata": {},
     "output_type": "execute_result"
    }
   ],
   "source": [
    "linear_search(data, ele)"
   ]
  },
  {
   "cell_type": "code",
   "execution_count": 58,
   "id": "12ba43b0",
   "metadata": {},
   "outputs": [
    {
     "name": "stdout",
     "output_type": "stream",
     "text": [
      "binary_search took 0.05507469177246094 mil sec \n"
     ]
    },
    {
     "data": {
      "text/plain": [
       "'90003 is in 90003th index'"
      ]
     },
     "execution_count": 58,
     "metadata": {},
     "output_type": "execute_result"
    }
   ],
   "source": [
    "binary_search(data, ele)"
   ]
  },
  {
   "cell_type": "code",
   "execution_count": 59,
   "id": "da10c20a",
   "metadata": {},
   "outputs": [
    {
     "data": {
      "text/plain": [
       "('90003 is in 90003th index', 0.19216537475585938)"
      ]
     },
     "execution_count": 59,
     "metadata": {},
     "output_type": "execute_result"
    }
   ],
   "source": [
    "start = time()\n",
    "z = binary_recur_search(data, ele, 0, len(data))\n",
    "end = time()\n",
    "\n",
    "z, (end - start) * 1000"
   ]
  },
  {
   "cell_type": "code",
   "execution_count": 60,
   "id": "2536bbaa",
   "metadata": {},
   "outputs": [
    {
     "name": "stdout",
     "output_type": "stream",
     "text": [
      "exp_search took 0.07987022399902344 mil sec \n"
     ]
    },
    {
     "data": {
      "text/plain": [
       "'90003 is in 90003th index'"
      ]
     },
     "execution_count": 60,
     "metadata": {},
     "output_type": "execute_result"
    }
   ],
   "source": [
    "exp_search(data, ele)"
   ]
  },
  {
   "cell_type": "code",
   "execution_count": null,
   "id": "6c9826c3",
   "metadata": {},
   "outputs": [],
   "source": []
  },
  {
   "cell_type": "code",
   "execution_count": null,
   "id": "c0ec5442",
   "metadata": {},
   "outputs": [],
   "source": []
  },
  {
   "cell_type": "code",
   "execution_count": null,
   "id": "6a6a211e",
   "metadata": {},
   "outputs": [],
   "source": []
  }
 ],
 "metadata": {
  "kernelspec": {
   "display_name": "Python 3 (ipykernel)",
   "language": "python",
   "name": "python3"
  },
  "language_info": {
   "codemirror_mode": {
    "name": "ipython",
    "version": 3
   },
   "file_extension": ".py",
   "mimetype": "text/x-python",
   "name": "python",
   "nbconvert_exporter": "python",
   "pygments_lexer": "ipython3",
   "version": "3.9.7"
  }
 },
 "nbformat": 4,
 "nbformat_minor": 5
}
