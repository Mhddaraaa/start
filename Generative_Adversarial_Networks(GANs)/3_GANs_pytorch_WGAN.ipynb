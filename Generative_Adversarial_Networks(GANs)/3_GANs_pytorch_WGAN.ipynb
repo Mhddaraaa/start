{
  "nbformat": 4,
  "nbformat_minor": 0,
  "metadata": {
    "colab": {
      "provenance": [],
      "gpuType": "T4"
    },
    "kernelspec": {
      "name": "python3",
      "display_name": "Python 3"
    },
    "language_info": {
      "name": "python"
    },
    "accelerator": "GPU"
  },
  "cells": [
    {
      "cell_type": "markdown",
      "source": [
        "# **Generative Adversarial Networks(GANs)**\n",
        "<img align='right' width='1000' src=\"https://cdn-images-1.medium.com/v2/resize:fit:851/0*pPEL7ryJR51VpnDO.jpg\">"
      ],
      "metadata": {
        "id": "gGUOTRoeH6M8"
      }
    },
    {
      "cell_type": "markdown",
      "source": [
        "## **Problems in GANs**\n",
        "\n",
        "- **Mode collapse**:\n",
        "<img align='right' width='300' src=\"https://ai2-s2-public.s3.amazonaws.com/figures/2017-08-08/49d4ae5770a264446b799e58b05b77ef842ebb76/1-Figure1-1.png\">\n",
        "\n",
        " During the training, the generator may collapse to a setting where it always produces same outputs.\n",
        "\n",
        " - **two causes of mode collapse in GANs**:\n",
        "\n",
        "    1. **catastrophic forgetting:**\n",
        "        Catastrophic forgetting refers to the phenomenon in which a model trained on a specific task forgets the knowledge it has gained while learning a new task.\n",
        "\n",
        "    2. **discriminator overfitting**\n",
        "<br>\n",
        "<br>\n",
        "\n",
        "- **Vanishing gradient**\n",
        "\n",
        "<img align='right' width='300' src='https://production-media.paperswithcode.com/methods/Screen_Shot_2020-05-25_at_2.53.08_PM.png'>\n",
        "\n",
        "When the Generated images and Real images distribution are like each other or far from each other the gradient will be close to zero\n"
      ],
      "metadata": {
        "id": "HmnyScZ5oz-P"
      }
    },
    {
      "cell_type": "markdown",
      "source": [
        "## **Solution**\n",
        "\n",
        "**Earth Mover’s distance**:\n",
        "<img align='right' width='300' src='https://www.researchgate.net/publication/234129934/figure/fig1/AS:643915959005186@1530532936719/d-measures-the-distance-between-two-normal-distributions-of-equal-variance.png'>\n",
        "Distance between two probability distributions. It can be interpreted as the minimum energy cost of moving and transforming a pile of dirt in the shape of one probability distribution to the shape of the other distribution.\n"
      ],
      "metadata": {
        "id": "pAlZuNkEx17x"
      }
    },
    {
      "cell_type": "code",
      "execution_count": null,
      "metadata": {
        "id": "4WGqYtKjHzJH"
      },
      "outputs": [],
      "source": [
        "import numpy as np\n",
        "import matplotlib.pyplot as plt\n",
        "from tqdm.auto import tqdm\n",
        "\n",
        "import torch\n",
        "from torch import nn\n",
        "import torchvision\n",
        "from torch.utils.data import DataLoader\n",
        "from torchvision.utils import make_grid\n",
        "from torchvision.datasets import MNIST\n",
        "from torchvision import transforms"
      ]
    },
    {
      "cell_type": "code",
      "source": [
        "# Hyperparameters\n",
        "EPOCH = 20\n",
        "Z_DIM = 100\n",
        "LR = 2e-4\n",
        "BS = 64\n",
        "C, H, W = 1, 32, 32\n",
        "\n",
        "loss_func = nn.BCELoss()\n",
        "device = 'cuda' if torch.cuda.is_available() else 'cpu'\n",
        "print(\"Availabe device is: \", device)"
      ],
      "metadata": {
        "colab": {
          "base_uri": "https://localhost:8080/"
        },
        "id": "l9YglE9KIBcT",
        "outputId": "5b219c0c-781d-4680-ece7-9bfd2c204f43"
      },
      "execution_count": null,
      "outputs": [
        {
          "output_type": "stream",
          "name": "stdout",
          "text": [
            "Availabe device is:  cuda\n"
          ]
        }
      ]
    },
    {
      "cell_type": "code",
      "source": [
        "# Visioalize the data\n",
        "def show(tensor, ch=C, size=(H, W), num_to_display=16):\n",
        "    \"\"\"\n",
        "    Inputs would be tensor with (batch_size, channel, height, weight) dimention\n",
        "    First we detach() tensor so because it's not require grade any more,\n",
        "    Then send it to cpu() to make sure the tensor doesn't on different device\n",
        "    Matplotlib show images in (height, width, channel) dimention so the images permute to match the criteria\n",
        "    \"\"\"\n",
        "    images = tensor.detach().cpu().view(-1, ch, *size)\n",
        "    grid = make_grid(images[:num_to_display], nrow=4).permute(1, 2, 0)\n",
        "    plt.axis(False)\n",
        "    plt.imshow(grid)\n",
        "    plt.show()"
      ],
      "metadata": {
        "id": "8IxK5VOEIJ92"
      },
      "execution_count": null,
      "outputs": []
    },
    {
      "cell_type": "markdown",
      "source": [
        "## **work with kaggle**\n",
        "- First you have to go to your profile and creat API token which will download kaggle.json to your pc\n",
        "- Now drag and drop json file to your colab files tab\n",
        "- Run the codes below\n",
        "    - ```\n",
        "    !mkdir /root/.kaggle\n",
        "    !mv kaggle.json /root/.kaggle/kaggle.json\n",
        "    !chmod 600 /root/.kaggle/kaggle.json\n",
        "    !kaggle datasets list\n",
        "    ```\n",
        "- To download the datasts to your colab open the desire competition(datasets) and click on `three dot` on the upper-right then `copy API command`\n",
        "\n",
        "-  for more information [click here](https://www.kaggle.com/discussions/general/74235)"
      ],
      "metadata": {
        "id": "wQ0qxJySJXxu"
      }
    },
    {
      "cell_type": "code",
      "source": [
        "!mkdir /root/.kaggle\n",
        "!mv kaggle.json /root/.kaggle/kaggle.json\n",
        "!chmod 600 /root/.kaggle/kaggle.json"
      ],
      "metadata": {
        "id": "DEEQxi4uJXa9"
      },
      "execution_count": null,
      "outputs": []
    },
    {
      "cell_type": "code",
      "source": [
        "!kaggle datasets list"
      ],
      "metadata": {
        "id": "lOdIntBXJXOr"
      },
      "execution_count": null,
      "outputs": []
    },
    {
      "cell_type": "code",
      "source": [
        "!kaggle datasets download -d \"link\""
      ],
      "metadata": {
        "id": "FZ4lGj9IJXME"
      },
      "execution_count": null,
      "outputs": []
    },
    {
      "cell_type": "code",
      "source": [
        "!unzip 'Path to downloaded file'"
      ],
      "metadata": {
        "id": "0DuNnpJeJXJC"
      },
      "execution_count": null,
      "outputs": []
    },
    {
      "cell_type": "code",
      "source": [
        "def get_data(data=MNIST, bs=128):\n",
        "    \"\"\"\n",
        "    From torchvision.datasets we can get different dataset\n",
        "    for training GANs we don't need test datasets just trian sets will be enough\n",
        "    \"\"\"\n",
        "    transform = torchvision.transforms.Compose([\n",
        "        torchvision.transforms.Resize(H),\n",
        "        torchvision.transforms.ToTensor(),\n",
        "        torchvision.transforms.Normalize(\n",
        "            [0.5 for _ in range(C)], [0.5 for _ in range(C)]\n",
        "        )\n",
        "    ])\n",
        "    train_set = MNIST('.',\n",
        "                      train=True,\n",
        "                      transform=transform,\n",
        "                      download=True)\n",
        "\n",
        "    # group the data in different batch size\n",
        "    data_loader = DataLoader(train_set, bs, shuffle=True)\n",
        "\n",
        "    return data_loader"
      ],
      "metadata": {
        "id": "YS3fRFkpTdtX"
      },
      "execution_count": null,
      "outputs": []
    },
    {
      "cell_type": "code",
      "source": [
        "data = get_data(MNIST, BS)\n",
        "C, H, W = next(iter(data))[0][0].shape"
      ],
      "metadata": {
        "id": "ZTuQ-hP_JjzI"
      },
      "execution_count": null,
      "outputs": []
    },
    {
      "cell_type": "markdown",
      "source": [
        "## **Discriminator and Generator Networkrs**\n",
        "**DCGAN** stands for Deep Convolutional Generative\n",
        "Adversarial Network. It is a type of GAN that uses convolutional layers in both the generative and discriminative models.## **Discriminator and Generator Networkrs**"
      ],
      "metadata": {
        "id": "svnjmPjXjkf_"
      }
    },
    {
      "cell_type": "code",
      "source": [
        "#Generator\n",
        "class Generator(nn.Module):\n",
        "    def __init__(self, z_dim=Z_DIM, hidden_ch=8, out_ch=C):\n",
        "        super().__init__()\n",
        "        self.z_dim = z_dim\n",
        "        self.gen = nn.Sequential(\n",
        "            self._gen_block(z_dim, hidden_ch*8, 4, 1, 0),\n",
        "            self._gen_block(hidden_ch*8, hidden_ch*4, 4 , 2 , 1),\n",
        "            self._gen_block(hidden_ch*4, hidden_ch*2, 4, 2, 1),\n",
        "            nn.ConvTranspose2d(hidden_ch*2, out_ch, 4, 2, 1),\n",
        "            nn.Tanh()\n",
        "        )\n",
        "\n",
        "    def forward(self, noise):\n",
        "        noise = noise.view(len(noise), self.z_dim, 1, 1)\n",
        "        return self.gen(noise)\n",
        "\n",
        "    def _gen_block(self, in_ch, out_ch, kernel, stride, padding):\n",
        "        return nn.Sequential(\n",
        "            nn.ConvTranspose2d(\n",
        "                in_ch, out_ch, kernel, stride, padding, bias=False\n",
        "            ),\n",
        "            nn.BatchNorm2d(out_ch),\n",
        "            nn.ReLU(inplace=True)\n",
        "        )\n",
        "\n",
        "#Discriminator\n",
        "class Critic(nn.Module):\n",
        "    def __init__(self, img_ch=1, hidden_ch=8, out_dim=1):\n",
        "        super().__init__()\n",
        "        self.disc = nn.Sequential(\n",
        "            nn.Conv2d(img_ch, hidden_ch, 4, 2, 1),\n",
        "            nn.LeakyReLU(0.2, inplace=True),\n",
        "            self._disc_block(hidden_ch, hidden_ch*2, 4, 2, 1),\n",
        "            self._disc_block(hidden_ch*2, hidden_ch*4, 4, 2, 1),\n",
        "            self._disc_block(hidden_ch*4, hidden_ch*8, 4, 2, 1),\n",
        "            nn.Flatten(),\n",
        "            nn.Linear(hidden_ch * 8 * 2 * 2, out_dim),\n",
        "            nn.Sigmoid()\n",
        "        )\n",
        "\n",
        "    def forward(self, x):\n",
        "        return self.disc(x).view(-1, 1)\n",
        "\n",
        "    def _disc_block(self,in_ch, out_ch, kernel, stride, padding):\n",
        "        return nn.Sequential(\n",
        "            nn.Conv2d(\n",
        "                in_ch, out_ch, kernel, stride, padding, bias=False\n",
        "            ),\n",
        "            nn.BatchNorm2d(out_ch),\n",
        "            nn.LeakyReLU(0.2, inplace=True)\n",
        "        )\n",
        "\n",
        "def weights_init(m):\n",
        "    classname = m.__class__.__name__\n",
        "    if classname.find('Conv') != -1:\n",
        "        nn.init.normal_(m.weight.data, 0.0, 0.02)\n",
        "    elif classname.find('BatchNorm') != -1:\n",
        "        nn.init.normal_(m.weight.data, 1.0, 0.02)\n",
        "        nn.init.constant_(m.bias.data, 0)\n",
        "\n",
        "gen_noise = lambda number, z_dim: torch.randn(number, z_dim).to(device)"
      ],
      "metadata": {
        "id": "ZuX2N0ezJ04o"
      },
      "execution_count": null,
      "outputs": []
    },
    {
      "cell_type": "code",
      "source": [
        "gen = Generator().to(device)\n",
        "gen.apply(weights_init)\n",
        "gen_opt = torch.optim.Adam(gen.parameters(), lr=LR, betas=(0.5, 0.999))\n",
        "# I we need to change learning rate during training we can use lr_scheduler function in torch.optim\n",
        "gen_exp_lr_scheduler = torch.optim.lr_scheduler.StepLR(gen_opt, step_size=2, gamma=0.8)\n",
        "\n",
        "critic = Critic().to(device)\n",
        "critic.apply(weights_init)\n",
        "critic_opt = torch.optim.Adam(critic.parameters(), lr=LR, betas=(0.5, 0.999))\n",
        "critic_exp_lr_scheduler = torch.optim.lr_scheduler.StepLR(critic_opt, step_size=2, gamma=0.8)"
      ],
      "metadata": {
        "id": "2OUY4kuNJ34T"
      },
      "execution_count": null,
      "outputs": []
    },
    {
      "cell_type": "code",
      "source": [
        "#Check the data\n",
        "x, y = next(iter(data))\n",
        "print(\"Shape of dataset images: \", x.shape)\n",
        "print(\"label of images\", y[:16])\n",
        "\n",
        "noise = gen_noise(BS, Z_DIM)\n",
        "fake = gen(noise)\n",
        "show(x, ch=C, size=(H, W))\n",
        "show(fake, ch=C, size=(H, W))"
      ],
      "metadata": {
        "id": "ET2zE1YzJ5ej"
      },
      "execution_count": null,
      "outputs": []
    },
    {
      "cell_type": "markdown",
      "source": [
        "## **WLOSS**\n",
        "\n",
        "**BCELoss**\n",
        "$$\n",
        "    \\large -\\frac{1}{n}\\sum_{i=1}^{n}{-[y_i\\log(𝚢^{̂}_i) + (1-y_i)\\log(1-y^{̂}_i)]}\n",
        "$$\n",
        "\n",
        "<br>\n",
        "\n",
        "$$\n",
        "\\large \\text{But in here we will use the mean of the outputs} \\\\\n",
        "\\large \\text{so the gradient of any point won't be zero}\n",
        "$$\n",
        "\n",
        "<br>\n",
        "\n",
        "**Wasserstein Loss**\n",
        "$$\n",
        "    \\large -\\frac{1}{n}\\sum_{i=1}^{n}{y_i * 𝚢^{̂}_i}\n",
        "$$\n",
        "\n",
        "where the $y^̂$ is the output of the Critic:\n",
        "\n",
        "**Generator Loss**\\\n",
        "<br>\n",
        "\n",
        "$$\n",
        "    \\underset{g}{\\mathrm{min}} - [\\mathbb{E}(C(G(z)))]\n",
        "$$\n",
        "\n",
        "\n",
        "$$\n",
        "   \\large 𝒁 ⟶ Generator \\xrightarrow[\\text{}]{\\text{G(z)}} Critic \\xrightarrow[\\text{}]{\\text{C(G(z))}} \\overline{C(G(z))}\n",
        "$$\n",
        "\n",
        "**Critic Loss**\n",
        "<br>\n",
        "**one** matrix to calculate the loss for **real** input and **zeors** matrix to calculate the loss for **fake** input which is the output of generator so the **BCE** formular will be:\n",
        "\n",
        "<br>\n",
        "\n",
        "$$\n",
        "   \\large 𝒁 ⟶ Generator \\xrightarrow[\\text{}]{\\text{G(z)}} Criritc \\xrightarrow[\\text{}]{\\text{C(G(z))}} \\overline{C(G(z))} \\\\\n",
        "   \\large 𝐗 ⟶ Criritc \\xrightarrow[\\text{}]{\\text{C(G(z))}} \\overline{C(𝐗)} \\\\\n",
        "    \\underset{d}{\\mathrm{min}} - [\\mathbb{E}(C(𝐗))) - \\mathbb{E}(C(G(z)))]\n",
        "$$\n",
        "\n",
        "<br>\n",
        "\n",
        "**Discriminator** output is between 0 and 1\n",
        "\n",
        "**Critic** output not restricted to be between 0 and 1\n",
        "\n",
        "- **MinimaMax game:**\n",
        "\n",
        "    Critic tries to maximize the the differences, While Generetor tries to minimize the difference"
      ],
      "metadata": {
        "id": "2xvDsa7O2mvA"
      }
    },
    {
      "cell_type": "markdown",
      "source": [
        "## **Lipschitz continuity**\n",
        "<img aligh='center' width='300' src=\"https://upload.wikimedia.org/wikipedia/commons/thumb/5/58/Lipschitz_Visualisierung.gif/640px-Lipschitz_Visualisierung.gif\">\n",
        "\n",
        "The differential of the function need to satisfy $| f^{'} | \\leq K$ in every point, meaning it should be K-Lipschitz continuous.\n",
        "\n",
        "Here $K$ is known as a $K$ Lipschitz constant for function $f(...)$. Functions that are everywhere continuously differentiable is Lipschitz continuous, because the derivative, estimated as $\\frac{\\lvert f(x_1) - f(x_2) \\rvert}{\\lvert x_1 - x_2 \\rvert}$, has bounds. However, a Lipschitz continuous function may not be everywhere differentiable, such as $f(x) = \\lvert x \\rvert$.\n",
        "\n",
        "<br>\n",
        "\n",
        "**Force the function to be 1-Lipschitz**\n",
        "\n",
        "$\\displaystyle \\|W\\| $\n",
        "\n",
        "- **Weight clipping**\n",
        "\n",
        "    by clipping all entries of W (output of each layer) to within some interval ${\\displaystyle [-c,c]}$, we have can bound $ \\displaystyle ||W|| $.\n",
        "    where $\\displaystyle ||.||_s $  is the operator norm\n",
        "\n",
        "- **Gradient penalty**\n",
        "\n",
        "<br>\n",
        "\n",
        "$$\n",
        "   \\large LOSS =  - \\left( \\overline{C(𝐗))} - \\overline{C(G(z))} \\right) + 𝜆*GP\n",
        "$$\n",
        "\n",
        "<br>\n",
        "\n",
        "$$\n",
        "    GP = \\left( \\displaystyle \\|∇C(𝐗) \\| - 1 \\right)^2 \\\\\n",
        "    𝐗 = α * 𝐗 + (1 - α) * G(z)\n",
        "$$"
      ],
      "metadata": {
        "id": "wo-AwOIf97Di"
      }
    },
    {
      "cell_type": "code",
      "source": [
        "def gradient_penalty_func(real, fake, critic_net, gamma=10):\n",
        "    alpha = torch.rand((len(real), 1, 1, 1), requires_grad=True).to(device)\n",
        "    mix_img = real * alpha + fake * (1 - alpha) # (batch_size, C, H, W)\n",
        "    score = critic(mix_img) # (batch_size, 1)\n",
        "\n",
        "    gradient = torch.autograd.grad(\n",
        "        outputs = score,\n",
        "        inputs = mix_img,\n",
        "        grad_outputs=torch.ones_like(score),\n",
        "        retain_graph=True,\n",
        "        create_graph=True\n",
        "    )[0] # -> (batch_size, C, H, W)\n",
        "\n",
        "    gradient = gradient.view(len(gradient), -1) # (batch_size, -1)\n",
        "    gradient_norm = gradient.norm(2, dim=1) # get L2 norm on all the output elements\n",
        "    return gamma * ((gradient_norm - 1) ** 2).mean()"
      ],
      "metadata": {
        "id": "-VbFP_j4fdUo"
      },
      "execution_count": null,
      "outputs": []
    },
    {
      "cell_type": "code",
      "source": [
        "#This the the most important part of the training\n",
        "def gen_loss_func(gen_net, critic_net, batch_size, z_dim):\n",
        "    noise = gen_noise(batch_size, z_dim)\n",
        "    fake = gen_net(noise)\n",
        "    pred = critic_net(fake)\n",
        "    return - pred.mean()\n",
        "\n",
        "\n",
        "def critic_loss_func(gen_net, critic_net, image, batch_size, z_dim):\n",
        "    noise = gen_noise(batch_size, z_dim)\n",
        "    fake = gen_net(noise)\n",
        "    fake_pred = critic_net(fake.detach())  # detach() the generator output so it won't participate in gen_net learning\n",
        "    real_pred = critic_net(image)\n",
        "\n",
        "    gradient_penalty = gradient_penalty_func(image, fake.detach(), critic_net)\n",
        "\n",
        "    return - (real_pred.mean() - fake_pred.mean()) + gradient_penalty"
      ],
      "metadata": {
        "id": "hRnHfxD1J8FT"
      },
      "execution_count": null,
      "outputs": []
    },
    {
      "cell_type": "code",
      "source": [
        "from torch.utils.tensorboard import SummaryWriter\n",
        "!rm -r /content/runs\n",
        "writer = SummaryWriter(\"/content/runs\")\n",
        "writer_fake = SummaryWriter(\"/content/runs/fake\")\n",
        "writer_real = SummaryWriter(\"/content/runs/real\")"
      ],
      "metadata": {
        "id": "mTThxIlOJ9_q"
      },
      "execution_count": null,
      "outputs": []
    },
    {
      "cell_type": "code",
      "source": [
        "# !kill 5081\n",
        "%load_ext tensorboard\n",
        "%tensorboard --logdir=runs\n",
        "# %reload_ext tensorboard"
      ],
      "metadata": {
        "id": "NvVQ3mhqJ_bV"
      },
      "execution_count": null,
      "outputs": []
    },
    {
      "cell_type": "code",
      "source": [
        "!rm -r $PATH\n",
        "PATH = \"/content/model/\"\n",
        "!mkdir $PATH"
      ],
      "metadata": {
        "id": "vXNG_nnjTv5K"
      },
      "execution_count": null,
      "outputs": []
    },
    {
      "cell_type": "code",
      "source": [
        "gen = Generator().to(device)\n",
        "gen.load_state_dict(torch.load('/content/Gen_20'))\n",
        "gen_opt = torch.optim.Adam(gen.parameters(), lr=5e-5, betas=(0.5, 0.999))\n",
        "gen_exp_lr_scheduler = torch.optim.lr_scheduler.StepLR(gen_opt, step_size=2, gamma=0.8)\n",
        "\n",
        "critic = Critic().to(device)\n",
        "critic.load_state_dict(torch.load('/content/Critic_20'))\n",
        "critic_opt = torch.optim.Adam(critic.parameters(), lr=5e-5, betas=(0.5, 0.999))\n",
        "critic_exp_lr_scheduler = torch.optim.lr_scheduler.StepLR(critic_opt, step_size=2, gamma=0.8)"
      ],
      "metadata": {
        "id": "QFr6q-f_h8WU"
      },
      "execution_count": null,
      "outputs": []
    },
    {
      "cell_type": "code",
      "source": [
        "step = 0\n",
        "for epoch in range(EPOCH):\n",
        "    criticLoss, genLoss = 0, 0\n",
        "    print(f\"\\nEpoch: {epoch + 1}\")\n",
        "\n",
        "    for batch,  (real, _) in enumerate(tqdm(data)):\n",
        "        real = real.to(device)\n",
        "        critic_loss = critic_loss_func(gen, critic, real, len(real), Z_DIM)\n",
        "        critic_opt.zero_grad()\n",
        "        critic_loss.backward(retain_graph=True) # If False, the graph used to compute the grad will be freed, Actually It isnt necessary\n",
        "        critic_opt.step()\n",
        "\n",
        "        gen_loss = gen_loss_func(gen, critic, len(real), Z_DIM)\n",
        "        gen_opt.zero_grad()\n",
        "        gen_loss.backward()\n",
        "        gen_opt.step()\n",
        "\n",
        "        criticLoss += critic_loss /len(data)\n",
        "        genLoss += gen_loss /len(data)\n",
        "        if batch % 150 == 0 and batch != 0:\n",
        "            # print(f'  batch: {batch} -- {batch*32} of {len(data.dataset)} sample')\n",
        "            with torch.no_grad():\n",
        "                step += 1\n",
        "                fake = gen(gen_noise(BS, Z_DIM)).view(-1, C, H, W)\n",
        "                image = real.view(-1, C, H, W)\n",
        "                real_grid = make_grid(image[:32], normalize=True)\n",
        "                fake_grid = make_grid(fake[:32], normalize=True)\n",
        "\n",
        "                writer_fake.add_image(\n",
        "                    \"MNIST fake image\", fake_grid, global_step=step\n",
        "                )\n",
        "                writer_real.add_image(\n",
        "                    \"MNIST real image\", real_grid, global_step=step\n",
        "                )\n",
        "\n",
        "        #Tensorboard\n",
        "        # writer.add_scalar(\"Loss/Critic\", criticLoss, (epoch+1)*batch))\n",
        "        # writer.add_scalar(\"Loss/Gen\", genLoss, (epoch+1)*batch))\n",
        "        writer.add_scalars(\"Loss\", {\n",
        "                    \"Critic\": critic_loss,\n",
        "                    \"Generator\": gen_loss\n",
        "                }, (epoch+1)*batch)\n",
        "\n",
        "    print(f'  Critic Loss: {criticLoss:.4f} -- Generator Loss: {genLoss:.4f}')\n",
        "    gen_exp_lr_scheduler.step()\n",
        "    critic_exp_lr_scheduler.step()\n",
        "\n",
        "    #Save model\n",
        "    torch.save(gen.state_dict(), f\"{PATH}Gen_{epoch+1}\")\n",
        "    torch.save(critic.state_dict(), f\"{PATH}Critic_{epoch+1}\")\n",
        "\n",
        "\n",
        "    if (epoch + 1) % 2 == 0 and epoch > 0:\n",
        "        print(f\"  >>> Critic Learning Rate: {critic_opt.param_groups[0]['lr']}\")\n",
        "        print(f\"  >>> Generator Learning Rate: {gen_opt.param_groups[0]['lr']}\")"
      ],
      "metadata": {
        "id": "9FrnTs8IhoVn"
      },
      "execution_count": null,
      "outputs": []
    },
    {
      "cell_type": "code",
      "source": [
        "generated = gen(gen_noise(BS, Z_DIM)).view(-1, C, H, W)\n",
        "show(generated)"
      ],
      "metadata": {
        "colab": {
          "base_uri": "https://localhost:8080/",
          "height": 422
        },
        "id": "GZNCsBUSwG7D",
        "outputId": "aa111539-20e7-4cb1-afab-48735c4fa354"
      },
      "execution_count": null,
      "outputs": [
        {
          "output_type": "stream",
          "name": "stderr",
          "text": [
            "WARNING:matplotlib.image:Clipping input data to the valid range for imshow with RGB data ([0..1] for floats or [0..255] for integers).\n"
          ]
        },
        {
          "output_type": "display_data",
          "data": {
            "text/plain": [
              "<Figure size 640x480 with 1 Axes>"
            ],
            "image/png": "[encoded data removed]"
          },
          "metadata": {}
        }
      ]
    },
    {
      "cell_type": "code",
      "source": [
        "plt.imshow(generated[1].detach().cpu().permute(1, 2, 0), cmap='gray_r')\n",
        "plt.axis(False)\n",
        "plt.show()"
      ],
      "metadata": {
        "colab": {
          "base_uri": "https://localhost:8080/",
          "height": 405
        },
        "id": "oIKH5DHsnhhT",
        "outputId": "69049aa1-c605-4fd7-da1a-6cb50837fde4"
      },
      "execution_count": null,
      "outputs": [
        {
          "output_type": "display_data",
          "data": {
            "text/plain": [
              "<Figure size 640x480 with 1 Axes>"
            ],
            "image/png": "[encoded data removed]"
          },
          "metadata": {}
        }
      ]
    },
    {
      "cell_type": "code",
      "source": [],
      "metadata": {
        "id": "bfWrOU4nsPfo"
      },
      "execution_count": null,
      "outputs": []
    }
  ]
}