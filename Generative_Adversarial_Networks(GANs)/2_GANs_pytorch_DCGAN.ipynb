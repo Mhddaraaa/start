{
  "cells": [
    {
      "cell_type": "markdown",
      "metadata": {
        "id": "hwkXZNWBnlgU"
      },
      "source": [
        "# **Generative Adversarial Networks(GANs)**\n",
        "<img align='right' width='800' src=\"https://cdn-images-1.medium.com/v2/resize:fit:851/0*pPEL7ryJR51VpnDO.jpg\">"
      ]
    },
    {
      "cell_type": "code",
      "execution_count": null,
      "metadata": {
        "id": "bS4WCgitYCFQ"
      },
      "outputs": [],
      "source": [
        "import numpy as np\n",
        "import matplotlib.pyplot as plt\n",
        "from tqdm.auto import tqdm\n",
        "\n",
        "import torch\n",
        "from torch import nn\n",
        "import torchvision\n",
        "from torch.utils.data import DataLoader\n",
        "from torchvision.utils import make_grid\n",
        "from torchvision.datasets import MNIST\n",
        "from torchvision.transforms import ToTensor, Normalize"
      ]
    },
    {
      "cell_type": "code",
      "execution_count": null,
      "metadata": {
        "colab": {
          "base_uri": "https://localhost:8080/"
        },
        "id": "IZYBnBDhMHbU",
        "outputId": "f3cdfcf5-903a-41c0-e9c6-bbfb4c04b537"
      },
      "outputs": [
        {
          "name": "stdout",
          "output_type": "stream",
          "text": [
            "Availabe device is:  cuda\n"
          ]
        }
      ],
      "source": [
        "# Hyperparameters\n",
        "EPOCH = 15\n",
        "Z_DIM = 100\n",
        "LR = 2e-4\n",
        "BS = 128\n",
        "C, H, W =1, 32, 32\n",
        "\n",
        "loss_func = nn.BCELoss()\n",
        "device = 'cuda' if torch.cuda.is_available() else 'cpu'\n",
        "print(\"Availabe device is: \", device)"
      ]
    },
    {
      "cell_type": "code",
      "execution_count": null,
      "metadata": {
        "id": "-2eJzqwGYGHv"
      },
      "outputs": [],
      "source": [
        "# Visioalize the data\n",
        "def show(tensor, ch=1, size=(28, 28), num_to_display=16):\n",
        "    \"\"\"\n",
        "    Inputs would be tensors with (batch_size, channel, height, weight) dimensions.\n",
        "    First, we detach() the tensor, so it doesn't require grade any more.\n",
        "    Then send it to cpu() to make sure the tensor isn't on a different device.\n",
        "    Matplotlib shows images in (height, width, channel) dimention, so the images permute to match the criteria.\n",
        "    \"\"\"\n",
        "    images = tensor.detach().cpu().view(-1, ch, *size)\n",
        "    grid = make_grid(images[:num_to_display], nrow=4).permute(1, 2, 0)\n",
        "    plt.axis(False)\n",
        "    plt.imshow(grid)\n",
        "    plt.show()"
      ]
    },
    {
      "cell_type": "code",
      "execution_count": null,
      "metadata": {
        "id": "RwPgf1zroWTg"
      },
      "outputs": [],
      "source": [
        "def get_data(data=MNIST, bs=128):\n",
        "    \"\"\"\n",
        "    From torchvision.datasets we can get different datasets.\n",
        "    For training GANs, we don't need test datasets; just train sets will be enough.\n",
        "    \"\"\"\n",
        "    transform = torchvision.transforms.Compose([\n",
        "        torchvision.transforms.Resize(H),\n",
        "        torchvision.transforms.ToTensor(),\n",
        "        torchvision.transforms.Normalize(\n",
        "            [0.5 for _ in range(C)], [0.5 for _ in range(C)]\n",
        "        )\n",
        "    ])\n",
        "    train_set = MNIST('.',\n",
        "                      train=True,\n",
        "                      transform=transform,\n",
        "                      download=True)\n",
        "\n",
        "    # group the data in different batch size\n",
        "    data_loader = DataLoader(train_set, bs, shuffle=True)\n",
        "\n",
        "    return data_loader"
      ]
    },
    {
      "cell_type": "code",
      "execution_count": null,
      "metadata": {
        "id": "UpigIPmuJ0mb"
      },
      "outputs": [],
      "source": [
        "data = get_data(MNIST, BS)\n",
        "C, H, W = next(iter(data))[0][0].shape"
      ]
    },
    {
      "cell_type": "markdown",
      "metadata": {
        "id": "2k9ml0dhouob"
      },
      "source": [
        "## **Discriminator and Generator Networkrs**\n",
        "**DCGAN** stands for Deep Convolutional Generative\n",
        "Adversarial Network. It is a type of GAN that uses convolutional layers in both the generative and discriminative models.## **Discriminator and Generator Networkrs**"
      ]
    },
    {
      "cell_type": "code",
      "execution_count": null,
      "metadata": {
        "id": "DL6Xbvkuoa-m"
      },
      "outputs": [],
      "source": [
        "# Generator Module\n",
        "class Generator(nn.Module):\n",
        "    \"\"\"\n",
        "    Generator module for a Generative Adversarial Network (GAN).\n",
        "\n",
        "    Parameters:\n",
        "        z_dim (int): Dimensionality of the input noise vector.\n",
        "        hidden_ch (int): Number of channels in the hidden layers.\n",
        "        out_ch (int): Number of channels in the output image.\n",
        "\n",
        "    \"\"\"\n",
        "    def __init__(self, z_dim=100, hidden_ch=8, out_ch=C):\n",
        "        super().__init__()\n",
        "        self.gen = nn.Sequential(\n",
        "            self._gen_block(z_dim, hidden_ch*8, 4, 1, 0),\n",
        "            self._gen_block(hidden_ch*8, hidden_ch*4, 4 , 2 , 1),\n",
        "            self._gen_block(hidden_ch*4, hidden_ch*2, 4, 2, 1),\n",
        "            nn.ConvTranspose2d(hidden_ch*2, out_ch, 4, 2, 1),\n",
        "            nn.Tanh()\n",
        "        )\n",
        "\n",
        "    def forward(self, noise):\n",
        "        \"\"\"\n",
        "        Forward pass of the generator.\n",
        "\n",
        "        Parameters:\n",
        "            noise (torch.Tensor): Input noise tensor.\n",
        "\n",
        "        Returns:\n",
        "            torch.Tensor: Output generated image tensor.\n",
        "\n",
        "        \"\"\"\n",
        "        noise = noise.view(BS, Z_DIM, 1, 1)\n",
        "        return self.gen(noise)\n",
        "\n",
        "    def _gen_block(self, in_ch, out_ch, kernel, stride, padding):\n",
        "        \"\"\"\n",
        "        Helper function to define a generator block.\n",
        "\n",
        "        Parameters:\n",
        "            in_ch (int): Number of input channels.\n",
        "            out_ch (int): Number of output channels.\n",
        "            kernel (int): Size of the convolutional kernel.\n",
        "            stride (int): Stride of the convolutional operation.\n",
        "            padding (int): Padding size.\n",
        "\n",
        "        Returns:\n",
        "            nn.Sequential: Generator block.\n",
        "\n",
        "        \"\"\"\n",
        "        return nn.Sequential(\n",
        "            nn.ConvTranspose2d(\n",
        "                in_ch, out_ch, kernel, stride, padding, bias=False\n",
        "            ),\n",
        "            nn.BatchNorm2d(out_ch),\n",
        "            nn.ReLU(inplace=True)\n",
        "        )\n",
        "\n",
        "# Discriminator Module\n",
        "class Discriminator(nn.Module):\n",
        "    \"\"\"\n",
        "    Discriminator module for a Generative Adversarial Network (GAN).\n",
        "\n",
        "    Parameters:\n",
        "        img_ch (int): Number of channels in the input image.\n",
        "        hidden_ch (int): Number of channels in the hidden layers.\n",
        "        out_dim (int): Dimensionality of the discriminator's output.\n",
        "\n",
        "    \"\"\"\n",
        "    def __init__(self, img_ch=1, hidden_ch=8, out_dim=1):\n",
        "        super().__init__()\n",
        "        self.disc = nn.Sequential(\n",
        "            nn.Conv2d(img_ch, hidden_ch, 4, 2, 1),\n",
        "            nn.LeakyReLU(0.2, inplace=True),\n",
        "            self._disc_block(hidden_ch, hidden_ch*2, 4, 2, 1),\n",
        "            self._disc_block(hidden_ch*2, hidden_ch*4, 4, 2, 1),\n",
        "            self._disc_block(hidden_ch*4, hidden_ch*8, 4, 2, 1),\n",
        "            nn.Flatten(),\n",
        "            nn.Linear(hidden_ch * 8 * 2 * 2, out_dim),\n",
        "            nn.Sigmoid()\n",
        "        )\n",
        "\n",
        "    def forward(self, x):\n",
        "        \"\"\"\n",
        "        Forward pass of the discriminator.\n",
        "\n",
        "        Parameters:\n",
        "            x (torch.Tensor): Input image tensor.\n",
        "\n",
        "        Returns:\n",
        "            torch.Tensor: Output probability tensor.\n",
        "\n",
        "        \"\"\"\n",
        "        return self.disc(x).view(-1, 1)\n",
        "\n",
        "    def _disc_block(self, in_ch, out_ch, kernel, stride, padding):\n",
        "        \"\"\"\n",
        "        Helper function to define a discriminator block.\n",
        "\n",
        "        Parameters:\n",
        "            in_ch (int): Number of input channels.\n",
        "            out_ch (int): Number of output channels.\n",
        "            kernel (int): Size of the convolutional kernel.\n",
        "            stride (int): Stride of the convolutional operation.\n",
        "            padding (int): Padding size.\n",
        "\n",
        "        Returns:\n",
        "            nn.Sequential: Discriminator block.\n",
        "\n",
        "        \"\"\"\n",
        "        return nn.Sequential(\n",
        "            nn.Conv2d(\n",
        "                in_ch, out_ch, kernel, stride, padding, bias=False\n",
        "            ),\n",
        "            nn.BatchNorm2d(out_ch),\n",
        "            nn.LeakyReLU(0.2, inplace=True)\n",
        "        )\n",
        "\n",
        "def weights_init(m):\n",
        "    \"\"\"\n",
        "    Initialize the weights of the neural network modules.\n",
        "\n",
        "    Parameters:\n",
        "        m (nn.Module): Neural network module.\n",
        "\n",
        "    \"\"\"\n",
        "    classname = m.__class__.__name__\n",
        "    if classname.find('Conv') != -1:\n",
        "        nn.init.normal_(m.weight.data, 0.0, 0.02)\n",
        "    elif classname.find('BatchNorm') != -1:\n",
        "        nn.init.normal_(m.weight.data, 1.0, 0.02)\n",
        "        nn.init.constant_(m.bias.data, 0)\n",
        "\n",
        "# Function to generate noise\n",
        "gen_noise = lambda number, z_dim: torch.randn(number, z_dim).to(device)\n"
      ]
    },
    {
      "cell_type": "code",
      "execution_count": null,
      "metadata": {
        "id": "rambuZpBKcom"
      },
      "outputs": [],
      "source": [
        "# img, _ = next(iter(data))\n",
        "# pred = disc(img.to(device))\n",
        "# pred.shape"
      ]
    },
    {
      "cell_type": "code",
      "execution_count": null,
      "metadata": {
        "id": "mTqCxpgvod9z"
      },
      "outputs": [],
      "source": [
        "gen = Generator().to(device)\n",
        "gen.apply(weights_init)\n",
        "gen_opt = torch.optim.Adam(gen.parameters(), lr=LR, betas=(0.5, 0.999))\n",
        "# I we need to change learning rate during training we can use lr_scheduler function in torch.optim\n",
        "gen_exp_lr_scheduler = torch.optim.lr_scheduler.StepLR(gen_opt, step_size=2, gamma=0.9)\n",
        "\n",
        "disc = Discriminator().to(device)\n",
        "disc.apply(weights_init)\n",
        "disc_opt = torch.optim.Adam(disc.parameters(), lr=LR, betas=(0.5, 0.999))\n",
        "disc_exp_lr_scheduler = torch.optim.lr_scheduler.StepLR(disc_opt, step_size=2, gamma=0.9)"
      ]
    },
    {
      "cell_type": "code",
      "execution_count": null,
      "metadata": {
        "id": "239dzlMXoeaY"
      },
      "outputs": [],
      "source": [
        "#Check the data\n",
        "x, y = next(iter(data))\n",
        "print(\"Shape of dataset images: \", x.shape)\n",
        "print(\"label of images\", y[:16])\n",
        "\n",
        "noise = gen_noise(BS, Z_DIM)\n",
        "fake = gen(noise)\n",
        "show(x, ch=C, size=(H, W))\n",
        "show(fake, ch=C, size=(H, W))"
      ]
    },
    {
      "cell_type": "code",
      "execution_count": null,
      "metadata": {
        "id": "BBz2uMseojP6"
      },
      "outputs": [],
      "source": [
        "def gen_loss_func(gen_net, disc_net, loss_func, num, z_dim):\n",
        "    \"\"\"\n",
        "    Calculate the generator loss.\n",
        "\n",
        "    Parameters:\n",
        "        gen_net (nn.Module): Generator network.\n",
        "        disc_net (nn.Module): Discriminator network.\n",
        "        loss_func: Loss function to compute the loss.\n",
        "        num (int): Number of samples to generate.\n",
        "        z_dim (int): Dimension of the noise vector.\n",
        "\n",
        "    Returns:\n",
        "        torch.Tensor: Generator loss.\n",
        "\n",
        "    \"\"\"\n",
        "    noise = gen_noise(num, z_dim)\n",
        "    fake = gen_net(noise)\n",
        "    pred = disc_net(fake)\n",
        "    return loss_func(pred, torch.ones_like(pred))\n",
        "\n",
        "\n",
        "def disc_loss_func(gen_net, disc_net, loss_func, image, num, z_dim):\n",
        "    \"\"\"\n",
        "    Calculate the discriminator loss.\n",
        "\n",
        "    Parameters:\n",
        "        gen_net (nn.Module): Generator network.\n",
        "        disc_net (nn.Module): Discriminator network.\n",
        "        loss_func: Loss function to compute the loss.\n",
        "        image (torch.Tensor): Real image tensor.\n",
        "        num (int): Number of samples to generate.\n",
        "        z_dim (int): Dimension of the noise vector.\n",
        "\n",
        "    Returns:\n",
        "        torch.Tensor: Discriminator loss.\n",
        "\n",
        "    \"\"\"\n",
        "    noise = gen_noise(num, z_dim)\n",
        "    fake = gen_net(noise)\n",
        "    fake_pred = disc_net(fake.detach())  # detach() the generator output so it won't participate in gen_net learning\n",
        "    real_pred = disc_net(image)\n",
        "\n",
        "    loss_real = loss_func(real_pred, torch.ones_like(real_pred))\n",
        "    loss_fake = loss_func(fake_pred, torch.zeros_like(fake_pred))\n",
        "\n",
        "    return (loss_real + loss_fake) / 2\n"
      ]
    },
    {
      "cell_type": "code",
      "execution_count": null,
      "metadata": {
        "id": "8Cz-MdF2LLYe"
      },
      "outputs": [],
      "source": [
        "from torch.utils.tensorboard import SummaryWriter\n",
        "!rm -r /content/runs\n",
        "writer = SummaryWriter(\"/content/runs\")\n",
        "writer_fake = SummaryWriter(\"/content/runs/fake\")\n",
        "writer_real = SummaryWriter(\"/content/runs/real\")"
      ]
    },
    {
      "cell_type": "code",
      "execution_count": null,
      "metadata": {
        "id": "Uc4rzwuaojkU"
      },
      "outputs": [],
      "source": [
        "%load_ext tensorboard\n",
        "%tensorboard --logdir=runs"
      ]
    },
    {
      "cell_type": "code",
      "execution_count": null,
      "metadata": {
        "id": "nmj25OAaNEFS"
      },
      "outputs": [],
      "source": [
        "!rm -r $PATH\n",
        "PATH = \"/content/model/\"\n",
        "!mkdir $PATH"
      ]
    },
    {
      "cell_type": "code",
      "execution_count": null,
      "metadata": {
        "id": "uZDriRqdN3QS"
      },
      "outputs": [],
      "source": [
        "step = 0\n",
        "for epoch in range(EPOCH):\n",
        "    discLoss, genLoss = 0, 0\n",
        "    print(f\"\\nEpoch: {epoch + 1}\")\n",
        "\n",
        "    for batch, (real, _) in enumerate(tqdm(data)):\n",
        "        real = real.to(device)\n",
        "        disc_loss = disc_loss_func(gen, disc, loss_func, real, BS, Z_DIM)\n",
        "        disc_opt.zero_grad()\n",
        "        disc_loss.backward(retain_graph=True) # If False, the graph used to compute the grad will be freed, Actually It isnt necessary\n",
        "        disc_opt.step()\n",
        "\n",
        "        gen_loss = gen_loss_func(gen, disc, loss_func, BS, Z_DIM)\n",
        "        gen_opt.zero_grad()\n",
        "        gen_loss.backward(retain_graph=True)\n",
        "        gen_opt.step()\n",
        "\n",
        "        discLoss += disc_loss /len(data)\n",
        "        genLoss += gen_loss /len(data)\n",
        "        if batch % 150 == 0 and batch != 0:\n",
        "            # print(f'  batch: {batch} -- {batch*32} of {len(data.dataset)} sample')\n",
        "            with torch.no_grad():\n",
        "                step += 1\n",
        "                fake = gen(gen_noise(BS, Z_DIM)).view(-1, C, H, W)\n",
        "                image = real.view(-1, C, H, W)\n",
        "                real_grid = make_grid(image[:32], normalize=True)\n",
        "                fake_grid = make_grid(fake[:32], normalize=True)\n",
        "\n",
        "                writer_fake.add_image(\n",
        "                    \"MNIST fake image\", fake_grid, global_step=step\n",
        "                )\n",
        "                writer_real.add_image(\n",
        "                    \"MNIST real image\", real_grid, global_step=step\n",
        "                )\n",
        "\n",
        "\n",
        "    print(f'  Discriminator Loss: {discLoss:.4f} -- Generator Loss: {genLoss:.4f}')\n",
        "    gen_exp_lr_scheduler.step()\n",
        "    disc_exp_lr_scheduler.step()\n",
        "    #Save model\n",
        "    torch.save(gen.state_dict(), f\"{PATH}Gen_{epoch+1}\")\n",
        "    torch.save(disc.state_dict(), f\"{PATH}Disc_{epoch+1}\")\n",
        "    #Tensorboard\n",
        "    writer.add_scalar(\"Loss/Disc\", discLoss, epoch)\n",
        "    writer.add_scalar(\"Loss/Gen\", genLoss, epoch)\n",
        "\n",
        "    writer.add_scalar(\"Loss/Disc\", discLoss, epoch)\n",
        "    writer.add_scalar(\"Loss/Gen\", genLoss, epoch)\n",
        "    if (epoch + 1) % 2 == 0 and epoch > 0:\n",
        "        print(f\"  >>> Discriminator Learning Rate: {disc_opt.param_groups[0]['lr']}\")\n",
        "        print(f\"  >>> Generator Learning Rate: {gen_opt.param_groups[0]['lr']}\")"
      ]
    },
    {
      "cell_type": "code",
      "execution_count": null,
      "metadata": {
        "id": "s1aMjXNSQ_gd"
      },
      "outputs": [],
      "source": [
        "generated = gen(gen_noise(BS, Z_DIM)).view(-1, C, H, W)\n",
        "show(generated)"
      ]
    },
    {
      "cell_type": "code",
      "execution_count": null,
      "metadata": {
        "id": "VDoXUs7xRaPm"
      },
      "outputs": [],
      "source": []
    }
  ],
  "metadata": {
    "accelerator": "GPU",
    "colab": {
      "gpuType": "T4",
      "provenance": []
    },
    "kernelspec": {
      "display_name": "Python 3",
      "name": "python3"
    },
    "language_info": {
      "name": "python"
    }
  },
  "nbformat": 4,
  "nbformat_minor": 0
}
