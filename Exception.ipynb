{
 "cells": [
  {
   "cell_type": "code",
   "execution_count": 1,
   "id": "265b3158",
   "metadata": {},
   "outputs": [
    {
     "name": "stdout",
     "output_type": "stream",
     "text": [
      "age: s\n",
      "You didn't enter a valid age.\n",
      "invalid literal for int() with base 10: 's'\n",
      "<class 'ValueError'>\n"
     ]
    }
   ],
   "source": [
    "try:\n",
    "    age = int(input('age: '))\n",
    "except ValueError as ex:\n",
    "    print(\"You didn't enter a valid age.\")\n",
    "    print(ex)\n",
    "    print(type(ex))\n",
    "else:\n",
    "    print(\"No Exception were thrown\")"
   ]
  },
  {
   "cell_type": "code",
   "execution_count": 2,
   "id": "f14ac271",
   "metadata": {},
   "outputs": [
    {
     "name": "stdout",
     "output_type": "stream",
     "text": [
      "age: 0\n",
      "Age can not be zero\n"
     ]
    }
   ],
   "source": [
    "try:\n",
    "    age = int(input('age: '))\n",
    "    x = 10 / age\n",
    "except ValueError as ex:\n",
    "    print(\"You didn't enter a valid age.\")\n",
    "except ZeroDivisionError:\n",
    "    print(\"Age can not be zero\")\n",
    "else:\n",
    "    print(\"No Exception were thrown\")"
   ]
  },
  {
   "cell_type": "code",
   "execution_count": 3,
   "id": "d1b5f9eb",
   "metadata": {},
   "outputs": [
    {
     "name": "stdout",
     "output_type": "stream",
     "text": [
      "age: 0\n",
      "You didn't enter a valid age.\n"
     ]
    }
   ],
   "source": [
    "'''\n",
    "if there is a multiple except clauses if one of them thrown any except clauses after that one will be ignored\n",
    "'''\n",
    "try:\n",
    "    age = int(input('age: '))\n",
    "    x = 10 / age\n",
    "except (ValueError, ZeroDivisionError):\n",
    "    print(\"You didn't enter a valid age.\")\n",
    "else:\n",
    "    print(\"No Exception were thrown\")"
   ]
  },
  {
   "cell_type": "code",
   "execution_count": 4,
   "id": "267dcb78",
   "metadata": {},
   "outputs": [
    {
     "name": "stdout",
     "output_type": "stream",
     "text": [
      "age: s\n",
      "You didn't enter a valid age.\n",
      "This claus always excecuted\n"
     ]
    }
   ],
   "source": [
    "try:\n",
    "    age = int(input('age: '))\n",
    "    x = 10 / age\n",
    "except (ValueError, ZeroDivisionError):\n",
    "    print(\"You didn't enter a valid age.\")\n",
    "else:\n",
    "    print(\"No Exception were thrown\")\n",
    "finally:\n",
    "    print(\"This claus always excecuted\")"
   ]
  },
  {
   "cell_type": "code",
   "execution_count": 5,
   "id": "09d76ba3",
   "metadata": {},
   "outputs": [
    {
     "name": "stdout",
     "output_type": "stream",
     "text": [
      "File opened.\n",
      "age: s\n",
      "You didn't enter a valid age.\n"
     ]
    }
   ],
   "source": [
    "try:\n",
    "    with open(\"Exception.ipynb\") as file:\n",
    "        print('File opened.')\n",
    "        \n",
    "    age = int(input('age: '))\n",
    "    x = 10 / age\n",
    "except (ValueError, ZeroDivisionError):\n",
    "    print(\"You didn't enter a valid age.\")\n",
    "else:\n",
    "    print(\"No Exception were thrown\")"
   ]
  },
  {
   "cell_type": "markdown",
   "id": "349c0c85",
   "metadata": {},
   "source": [
    "# pythone built in raise Exception:\n",
    "\n",
    "https://docs.python.org/3/library/exceptions.html"
   ]
  },
  {
   "cell_type": "code",
   "execution_count": 6,
   "id": "7e53267a",
   "metadata": {},
   "outputs": [
    {
     "ename": "IndentationError",
     "evalue": "unexpected indent (1677871010.py, line 2)",
     "output_type": "error",
     "traceback": [
      "\u001b[0;36m  Input \u001b[0;32mIn [6]\u001b[0;36m\u001b[0m\n\u001b[0;31m    ├── BaseExceptionGroup\u001b[0m\n\u001b[0m    ^\u001b[0m\n\u001b[0;31mIndentationError\u001b[0m\u001b[0;31m:\u001b[0m unexpected indent\n"
     ]
    }
   ],
   "source": [
    "# BaseException\n",
    " ├── BaseExceptionGroup\n",
    " ├── GeneratorExit\n",
    " ├── KeyboardInterrupt\n",
    " ├── SystemExit\n",
    " └── Exception\n",
    "      ├── ArithmeticError\n",
    "      │    ├── FloatingPointError\n",
    "      │    ├── OverflowError\n",
    "      │    └── ZeroDivisionError\n",
    "      ├── AssertionError\n",
    "      ├── AttributeError\n",
    "      ├── BufferError\n",
    "      ├── EOFError\n",
    "      ├── ExceptionGroup [BaseExceptionGroup]\n",
    "      ├── ImportError\n",
    "      │    └── ModuleNotFoundError\n",
    "      ├── LookupError\n",
    "      │    ├── IndexError\n",
    "      │    └── KeyError\n",
    "      ├── MemoryError\n",
    "      ├── NameError\n",
    "      │    └── UnboundLocalError\n",
    "      ├── OSError\n",
    "      │    ├── BlockingIOError\n",
    "      │    ├── ChildProcessError\n",
    "      │    ├── ConnectionError\n",
    "      │    │    ├── BrokenPipeError\n",
    "      │    │    ├── ConnectionAbortedError\n",
    "      │    │    ├── ConnectionRefusedError\n",
    "      │    │    └── ConnectionResetError\n",
    "      │    ├── FileExistsError\n",
    "      │    ├── FileNotFoundError\n",
    "      │    ├── InterruptedError\n",
    "      │    ├── IsADirectoryError\n",
    "      │    ├── NotADirectoryError\n",
    "      │    ├── PermissionError\n",
    "      │    ├── ProcessLookupError\n",
    "      │    └── TimeoutError\n",
    "      ├── ReferenceError\n",
    "      ├── RuntimeError\n",
    "      │    ├── NotImplementedError\n",
    "      │    └── RecursionError\n",
    "      ├── StopAsyncIteration\n",
    "      ├── StopIteration\n",
    "      ├── SyntaxError\n",
    "      │    └── IndentationError\n",
    "      │         └── TabError\n",
    "      ├── SystemError\n",
    "      ├── TypeError\n",
    "      ├── ValueError\n",
    "      │    └── UnicodeError\n",
    "      │         ├── UnicodeDecodeError\n",
    "      │         ├── UnicodeEncodeError\n",
    "      │         └── UnicodeTranslateError\n",
    "      └── Warning\n",
    "           ├── BytesWarning\n",
    "           ├── DeprecationWarning\n",
    "           ├── EncodingWarning\n",
    "           ├── FutureWarning\n",
    "           ├── ImportWarning\n",
    "           ├── PendingDeprecationWarning\n",
    "           ├── ResourceWarning\n",
    "           ├── RuntimeWarning\n",
    "           ├── SyntaxWarning\n",
    "           ├── UnicodeWarning\n",
    "           └── UserWarning"
   ]
  },
  {
   "cell_type": "code",
   "execution_count": 7,
   "id": "099e7142",
   "metadata": {},
   "outputs": [
    {
     "ename": "ValueError",
     "evalue": "Age cannot be 0 or less",
     "output_type": "error",
     "traceback": [
      "\u001b[0;31m---------------------------------------------------------------------------\u001b[0m",
      "\u001b[0;31mValueError\u001b[0m                                Traceback (most recent call last)",
      "Input \u001b[0;32mIn [7]\u001b[0m, in \u001b[0;36m<cell line: 5>\u001b[0;34m()\u001b[0m\n\u001b[1;32m      3\u001b[0m         \u001b[38;5;28;01mraise\u001b[39;00m \u001b[38;5;167;01mValueError\u001b[39;00m(\u001b[38;5;124m\"\u001b[39m\u001b[38;5;124mAge cannot be 0 or less\u001b[39m\u001b[38;5;124m\"\u001b[39m)\n\u001b[1;32m      4\u001b[0m     \u001b[38;5;28;01mreturn\u001b[39;00m \u001b[38;5;241m10\u001b[39m \u001b[38;5;241m/\u001b[39m age\n\u001b[0;32m----> 5\u001b[0m \u001b[43mageXfactor\u001b[49m\u001b[43m(\u001b[49m\u001b[38;5;241;43m-\u001b[39;49m\u001b[38;5;241;43m1\u001b[39;49m\u001b[43m)\u001b[49m\n",
      "Input \u001b[0;32mIn [7]\u001b[0m, in \u001b[0;36mageXfactor\u001b[0;34m(age)\u001b[0m\n\u001b[1;32m      1\u001b[0m \u001b[38;5;28;01mdef\u001b[39;00m \u001b[38;5;21mageXfactor\u001b[39m(age):\n\u001b[1;32m      2\u001b[0m     \u001b[38;5;28;01mif\u001b[39;00m age \u001b[38;5;241m<\u001b[39m\u001b[38;5;241m=\u001b[39m \u001b[38;5;241m0\u001b[39m:\n\u001b[0;32m----> 3\u001b[0m         \u001b[38;5;28;01mraise\u001b[39;00m \u001b[38;5;167;01mValueError\u001b[39;00m(\u001b[38;5;124m\"\u001b[39m\u001b[38;5;124mAge cannot be 0 or less\u001b[39m\u001b[38;5;124m\"\u001b[39m)\n\u001b[1;32m      4\u001b[0m     \u001b[38;5;28;01mreturn\u001b[39;00m \u001b[38;5;241m10\u001b[39m \u001b[38;5;241m/\u001b[39m age\n",
      "\u001b[0;31mValueError\u001b[0m: Age cannot be 0 or less"
     ]
    }
   ],
   "source": [
    "def ageXfactor(age):\n",
    "    if age <= 0:\n",
    "        raise ValueError(\"Age cannot be 0 or less\")\n",
    "    return 10 / age\n",
    "ageXfactor(-1)"
   ]
  },
  {
   "cell_type": "code",
   "execution_count": null,
   "id": "3f2db7cd",
   "metadata": {},
   "outputs": [],
   "source": [
    "def ageXfactor(age):\n",
    "    if age <= 0:\n",
    "        raise ValueError(\"Age cannot be 0 or less\")\n",
    "    return 10 / age\n",
    "try:\n",
    "    ageXfactor(-1)\n",
    "except ValueError as error:\n",
    "    print(error)"
   ]
  },
  {
   "cell_type": "markdown",
   "id": "d3cd42e8",
   "metadata": {},
   "source": [
    "# Don't use raise in your function because it's costly "
   ]
  },
  {
   "cell_type": "code",
   "execution_count": 12,
   "id": "5c36500b",
   "metadata": {},
   "outputs": [
    {
     "name": "stdout",
     "output_type": "stream",
     "text": [
      "First code 0.01314529199999015\n",
      "Second code 0.007457041999998637\n"
     ]
    }
   ],
   "source": [
    "from timeit import timeit\n",
    "\n",
    "code1 = '''\n",
    "def ageXfactor(age):\n",
    "    if age <= 0:\n",
    "        raise ValueError(\"Age cannot be 0 or less\")\n",
    "    return 10 / age\n",
    "try:\n",
    "    ageXfactor(-1)\n",
    "except ValueError as error:\n",
    "    pass\n",
    "'''\n",
    "\n",
    "code2 = '''\n",
    "def ageXfactor(age):\n",
    "    if age <= 0:\n",
    "        return None\n",
    "    return 10 / age\n",
    "    \n",
    "x = ageXfactor(-1)\n",
    "if x == None:\n",
    "    pass\n",
    "\n",
    "'''\n",
    "\n",
    "print(\"First code\", timeit(code1, number=10000))\n",
    "print(\"Second code\", timeit(code1, number=10000))"
   ]
  },
  {
   "cell_type": "code",
   "execution_count": null,
   "id": "c78f99a2",
   "metadata": {},
   "outputs": [],
   "source": []
  },
  {
   "cell_type": "code",
   "execution_count": null,
   "id": "db60e157",
   "metadata": {},
   "outputs": [],
   "source": []
  }
 ],
 "metadata": {
  "kernelspec": {
   "display_name": "Python 3 (ipykernel)",
   "language": "python",
   "name": "python3"
  },
  "language_info": {
   "codemirror_mode": {
    "name": "ipython",
    "version": 3
   },
   "file_extension": ".py",
   "mimetype": "text/x-python",
   "name": "python",
   "nbconvert_exporter": "python",
   "pygments_lexer": "ipython3",
   "version": "3.9.7"
  }
 },
 "nbformat": 4,
 "nbformat_minor": 5
}
