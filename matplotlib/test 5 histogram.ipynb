{
 "cells": [
  {
   "cell_type": "code",
   "execution_count": 34,
   "id": "8a7fee90",
   "metadata": {},
   "outputs": [],
   "source": [
    "from matplotlib import pyplot as plt\n",
    "import pandas as pd\n",
    "import sys"
   ]
  },
  {
   "cell_type": "markdown",
   "id": "40e87e77",
   "metadata": {},
   "source": [
    "# check for item thas is number"
   ]
  },
  {
   "cell_type": "code",
   "execution_count": 16,
   "id": "cc7f98e8",
   "metadata": {},
   "outputs": [],
   "source": [
    "pd.set_option('max_columns', 85)\n",
    "df = pd.read_csv('survey_results_public.csv')"
   ]
  },
  {
   "cell_type": "code",
   "execution_count": 64,
   "id": "2d45fef6",
   "metadata": {},
   "outputs": [],
   "source": [
    "ages=[]\n",
    "\n",
    "for item in df['YearsCode']:\n",
    "    if type(item) is str:\n",
    "        if item.isnumeric():\n",
    "            ages.append(int(item))"
   ]
  },
  {
   "cell_type": "code",
   "execution_count": 37,
   "id": "0b327801",
   "metadata": {},
   "outputs": [
    {
     "data": {
      "image/png": "[encoded data removed]",
      "text/plain": [
       "<Figure size 432x288 with 1 Axes>"
      ]
     },
     "metadata": {},
     "output_type": "display_data"
    }
   ],
   "source": [
    "from matplotlib import pyplot as plt\n",
    "import pandas as pd\n",
    "\n",
    "plt.style.use('fivethirtyeight')\n",
    "\n",
    "df = pd.read_csv('/Users/mhd/Desktop/matplotlib/survey_results_public.csv')\n",
    "\n",
    "# ages = [18, 19, 21, 25, 26, 26, 30, 32, 38, 48, 66]\n",
    "ages=[]\n",
    "\n",
    "for item in df['YearsCode']:\n",
    "    if type(item) is str:\n",
    "        if item.isnumeric():\n",
    "            ages.append(int(item))\n",
    "\n",
    "            \n",
    "# export ages as list or generator but in shorter code\n",
    "# ages = (item for item in df['YearsCode'] if type(item) is str if item.isnumeric())\n",
    "            \n",
    "age_serie = pd.Series(ages)\n",
    "median_age = age_serie.median()\n",
    "\n",
    "bins = [0, 10, 20, 30, 40, 50, 60, 70, 80 ,90]\n",
    "\n",
    "\n",
    "\n",
    "plt.hist(ages, bins=bins,color='green', edgecolor='black', log=True)  # use log to see older better\n",
    "\n",
    "\n",
    "plt.axvline(median_age, color='red', linewidth=2, alpha=0.5)\n",
    "plt.ylabel('population')\n",
    "plt.xlabel('Ages')\n",
    "plt.xticks(rotation=-45)\n",
    "plt.title('Dev population by age')\n",
    "\n",
    "# plt.legend()\n",
    "\n",
    "plt.tight_layout()\n",
    "# # # plt.grid()\n",
    "\n",
    "\n",
    "\n",
    "# # plt.savefig('myPlot.png')\n",
    "plt.show()\n",
    "\n",
    "# # colors:\n",
    "# # blue = #008fd5\n",
    "# # red = #fc4f30\n",
    "# # yellow = #e5ae37\n",
    "# # green = #6d904f\n"
   ]
  },
  {
   "cell_type": "code",
   "execution_count": 14,
   "id": "e69e7f15",
   "metadata": {},
   "outputs": [
    {
     "data": {
      "text/plain": [
       "['5', '23', '256', '132']"
      ]
     },
     "execution_count": 14,
     "metadata": {},
     "output_type": "execute_result"
    }
   ],
   "source": [
    "x = [6, 6.2, '5', 'ali', 'hasan', '23', 12, '256', '132', '8.1', 8.2]\n",
    "y = [i for i in x if type(i) is str if i.isnumeric()]\n"
   ]
  },
  {
   "cell_type": "code",
   "execution_count": 26,
   "id": "2eabe208",
   "metadata": {},
   "outputs": [
    {
     "data": {
      "text/plain": [
       "711960"
      ]
     },
     "execution_count": 26,
     "metadata": {},
     "output_type": "execute_result"
    }
   ],
   "source": [
    "ages=[]\n",
    "\n",
    "for item in df['YearsCode']:\n",
    "    if type(item) is str:\n",
    "        if item.isnumeric():\n",
    "            ages.append(int(item))\n",
    "sys.getsizeof(ages)"
   ]
  },
  {
   "cell_type": "code",
   "execution_count": 31,
   "id": "cdfd8566",
   "metadata": {},
   "outputs": [
    {
     "data": {
      "text/plain": [
       "711960"
      ]
     },
     "execution_count": 31,
     "metadata": {},
     "output_type": "execute_result"
    }
   ],
   "source": [
    "x = [int(item) for item in df['YearsCode'] if type(item) is str if item.isnumeric()]\n",
    "sys.getsizeof(x)"
   ]
  },
  {
   "cell_type": "code",
   "execution_count": 32,
   "id": "8d711a3e",
   "metadata": {},
   "outputs": [
    {
     "data": {
      "text/plain": [
       "[7, 17, 3, 4, 6, 7, 16, 12, 15, 10, 40, 7, 6, 9, 40, 12, 7, 9, 26, 12]"
      ]
     },
     "execution_count": 32,
     "metadata": {},
     "output_type": "execute_result"
    }
   ],
   "source": [
    "ages[:20]"
   ]
  },
  {
   "cell_type": "code",
   "execution_count": 33,
   "id": "c7d224d2",
   "metadata": {},
   "outputs": [
    {
     "data": {
      "text/plain": [
       "[7, 17, 3, 4, 6, 7, 16, 12, 15, 10, 40, 7, 6, 9, 40, 12, 7, 9, 26, 12]"
      ]
     },
     "execution_count": 33,
     "metadata": {},
     "output_type": "execute_result"
    }
   ],
   "source": [
    "x[:20]"
   ]
  },
  {
   "cell_type": "code",
   "execution_count": null,
   "id": "14307612",
   "metadata": {},
   "outputs": [],
   "source": []
  }
 ],
 "metadata": {
  "kernelspec": {
   "display_name": "Python 3 (ipykernel)",
   "language": "python",
   "name": "python3"
  },
  "language_info": {
   "codemirror_mode": {
    "name": "ipython",
    "version": 3
   },
   "file_extension": ".py",
   "mimetype": "text/x-python",
   "name": "python",
   "nbconvert_exporter": "python",
   "pygments_lexer": "ipython3",
   "version": "3.9.7"
  }
 },
 "nbformat": 4,
 "nbformat_minor": 5
}
