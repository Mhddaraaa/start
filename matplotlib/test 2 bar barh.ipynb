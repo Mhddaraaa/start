{
 "cells": [
  {
   "cell_type": "code",
   "execution_count": 1,
   "id": "07d518d8",
   "metadata": {},
   "outputs": [],
   "source": [
    "import pandas as pd\n",
    "from matplotlib import pyplot as plt"
   ]
  },
  {
   "cell_type": "code",
   "execution_count": 5,
   "id": "ef219e7f",
   "metadata": {},
   "outputs": [
    {
     "data": {
      "text/html": [
       "<div>\n",
       "<style scoped>\n",
       "    .dataframe tbody tr th:only-of-type {\n",
       "        vertical-align: middle;\n",
       "    }\n",
       "\n",
       "    .dataframe tbody tr th {\n",
       "        vertical-align: top;\n",
       "    }\n",
       "\n",
       "    .dataframe thead th {\n",
       "        text-align: right;\n",
       "    }\n",
       "</style>\n",
       "<table border=\"1\" class=\"dataframe\">\n",
       "  <thead>\n",
       "    <tr style=\"text-align: right;\">\n",
       "      <th></th>\n",
       "      <th>ResponseId</th>\n",
       "      <th>LanguageHaveWorkedWith</th>\n",
       "    </tr>\n",
       "  </thead>\n",
       "  <tbody>\n",
       "    <tr>\n",
       "      <th>0</th>\n",
       "      <td>1</td>\n",
       "      <td>C++;HTML/CSS;JavaScript;Objective-C;PHP;Swift</td>\n",
       "    </tr>\n",
       "    <tr>\n",
       "      <th>1</th>\n",
       "      <td>2</td>\n",
       "      <td>JavaScript;Python</td>\n",
       "    </tr>\n",
       "    <tr>\n",
       "      <th>2</th>\n",
       "      <td>3</td>\n",
       "      <td>Assembly;C;Python;R;Rust</td>\n",
       "    </tr>\n",
       "  </tbody>\n",
       "</table>\n",
       "</div>"
      ],
      "text/plain": [
       "   ResponseId                         LanguageHaveWorkedWith\n",
       "0           1  C++;HTML/CSS;JavaScript;Objective-C;PHP;Swift\n",
       "1           2                              JavaScript;Python\n",
       "2           3                       Assembly;C;Python;R;Rust"
      ]
     },
     "execution_count": 5,
     "metadata": {},
     "output_type": "execute_result"
    }
   ],
   "source": [
    "df = pd.read_csv('LanguageHaveWorkedWith.csv', index_col=0)\n",
    "df.head(3)"
   ]
  },
  {
   "cell_type": "code",
   "execution_count": 4,
   "id": "ce90591e",
   "metadata": {},
   "outputs": [
    {
     "data": {
      "text/html": [
       "<div>\n",
       "<style scoped>\n",
       "    .dataframe tbody tr th:only-of-type {\n",
       "        vertical-align: middle;\n",
       "    }\n",
       "\n",
       "    .dataframe tbody tr th {\n",
       "        vertical-align: top;\n",
       "    }\n",
       "\n",
       "    .dataframe thead th {\n",
       "        text-align: right;\n",
       "    }\n",
       "</style>\n",
       "<table border=\"1\" class=\"dataframe\">\n",
       "  <thead>\n",
       "    <tr style=\"text-align: right;\">\n",
       "      <th></th>\n",
       "      <th>LanguageHaveWorkedWith</th>\n",
       "    </tr>\n",
       "    <tr>\n",
       "      <th>ResponseId</th>\n",
       "      <th></th>\n",
       "    </tr>\n",
       "  </thead>\n",
       "  <tbody>\n",
       "    <tr>\n",
       "      <th>1</th>\n",
       "      <td>C++;HTML/CSS;JavaScript;Objective-C;PHP;Swift</td>\n",
       "    </tr>\n",
       "    <tr>\n",
       "      <th>2</th>\n",
       "      <td>JavaScript;Python</td>\n",
       "    </tr>\n",
       "    <tr>\n",
       "      <th>3</th>\n",
       "      <td>Assembly;C;Python;R;Rust</td>\n",
       "    </tr>\n",
       "    <tr>\n",
       "      <th>4</th>\n",
       "      <td>JavaScript;TypeScript</td>\n",
       "    </tr>\n",
       "    <tr>\n",
       "      <th>5</th>\n",
       "      <td>Bash/Shell;HTML/CSS;Python;SQL</td>\n",
       "    </tr>\n",
       "    <tr>\n",
       "      <th>...</th>\n",
       "      <td>...</td>\n",
       "    </tr>\n",
       "    <tr>\n",
       "      <th>83435</th>\n",
       "      <td>Clojure;Kotlin;SQL</td>\n",
       "    </tr>\n",
       "    <tr>\n",
       "      <th>83436</th>\n",
       "      <td>NaN</td>\n",
       "    </tr>\n",
       "    <tr>\n",
       "      <th>83437</th>\n",
       "      <td>Groovy;Java;Python</td>\n",
       "    </tr>\n",
       "    <tr>\n",
       "      <th>83438</th>\n",
       "      <td>Bash/Shell;JavaScript;Node.js;Python</td>\n",
       "    </tr>\n",
       "    <tr>\n",
       "      <th>83439</th>\n",
       "      <td>Delphi;Elixir;HTML/CSS;Java;JavaScript</td>\n",
       "    </tr>\n",
       "  </tbody>\n",
       "</table>\n",
       "<p>83439 rows × 1 columns</p>\n",
       "</div>"
      ],
      "text/plain": [
       "                                   LanguageHaveWorkedWith\n",
       "ResponseId                                               \n",
       "1           C++;HTML/CSS;JavaScript;Objective-C;PHP;Swift\n",
       "2                                       JavaScript;Python\n",
       "3                                Assembly;C;Python;R;Rust\n",
       "4                                   JavaScript;TypeScript\n",
       "5                          Bash/Shell;HTML/CSS;Python;SQL\n",
       "...                                                   ...\n",
       "83435                                  Clojure;Kotlin;SQL\n",
       "83436                                                 NaN\n",
       "83437                                  Groovy;Java;Python\n",
       "83438                Bash/Shell;JavaScript;Node.js;Python\n",
       "83439              Delphi;Elixir;HTML/CSS;Java;JavaScript\n",
       "\n",
       "[83439 rows x 1 columns]"
      ]
     },
     "execution_count": 4,
     "metadata": {},
     "output_type": "execute_result"
    }
   ],
   "source": [
    "# df.set_index('ResponseId')"
   ]
  },
  {
   "cell_type": "code",
   "execution_count": 7,
   "id": "ef316944",
   "metadata": {},
   "outputs": [
    {
     "data": {
      "image/png": "[encoded data removed]",
      "text/plain": [
       "<Figure size 432x288 with 1 Axes>"
      ]
     },
     "metadata": {},
     "output_type": "display_data"
    }
   ],
   "source": [
    "from matplotlib import pyplot as plt\n",
    "import numpy as np\n",
    "\n",
    "\n",
    "plt.style.use('fivethirtyeight')\n",
    "\n",
    "dev_x = [25, 26, 27, 28, 29, 30, 31, 32, 33, 34, 35]\n",
    "x_index = np.arange(len(dev_x))\n",
    "width = 0.25\n",
    "\n",
    "\n",
    "dev_y = [38496, 42000, 46752, 49320, 53200, 56000, 62316, 64928, 67317, 68748, 73752]\n",
    "py_dev_y= [45372, 46379, 53295, 67355, 63245, 65382, 70234, 70000, 71000, 75932, 83245]\n",
    "js_dev_y =[39000, 32000, 45000, 50000, 53294, 57037, 63928, 64983, 68943, 70345, 75987]\n",
    "\n",
    "plt.bar(x_index - width, py_dev_y, width=width, label='Python dev')  # remove option for style\n",
    "# plt.plot(dev_x, py_dev_y, color='k', marker='H', linestyle='-.', label='Python dev')\n",
    "\n",
    "plt.bar(x_index, js_dev_y, width=width, label='JS Dev')\n",
    "# plt.plot(dev_x, js_dev_y,color='c', linestyle='dashdot', marker='1', linewidth=3, label='JS Dev')\n",
    "\n",
    "plt.bar(x_index + width, dev_y, width=width, color='m', label='All Dev')\n",
    "\n",
    "\n",
    "plt.title('Median Salary USD')\n",
    "\n",
    "plt.xticks(ticks=x_index, labels=dev_x)\n",
    "# plt.tight_layout()\n",
    "# plt.grid()\n",
    "plt.xlabel('Ages')\n",
    "plt.legend()  #show plot label\n",
    "\n",
    "# plt.savefig('myPlot.png')\n",
    "plt.show()\n",
    "\n"
   ]
  },
  {
   "cell_type": "code",
   "execution_count": 6,
   "id": "1f736ec8",
   "metadata": {},
   "outputs": [
    {
     "data": {
      "image/png": "[encoded data removed]",
      "text/plain": [
       "<Figure size 432x288 with 1 Axes>"
      ]
     },
     "metadata": {},
     "output_type": "display_data"
    }
   ],
   "source": [
    "from matplotlib import pyplot as plt\n",
    "import numpy as np\n",
    "import csv\n",
    "from collections import Counter\n",
    "import pandas as pd\n",
    "\n",
    "plt.style.use('fivethirtyeight')\n",
    "\n",
    "df = pd.read_csv('/Users/mhd/Desktop/matplotlib/LanguageHaveWorkedWith.csv')\n",
    "\n",
    "ids = df['ResponseId']\n",
    "lang_responses = df['LanguageHaveWorkedWith']\n",
    "\n",
    "lang_count = Counter()\n",
    "\n",
    "for item in lang_responses:\n",
    "        lang_count.update(str(item).split(';'))\n",
    "\n",
    "# with open('/Users/mhd/Desktop/matplotlib/LanguageHaveWorkedWith.csv') as csv_file:\n",
    "#     csv_reader = csv.DictReader(csv_file)\n",
    "#     lang_count = Counter()\n",
    "#\n",
    "#     for row in csv_reader:\n",
    "#         lang_count.update(row['LanguageHaveWorkedWith'].split(';'))\n",
    "\n",
    "languages = []\n",
    "popularity = []\n",
    "\n",
    "for item in lang_count.most_common(15):\n",
    "    languages.append(item[0])\n",
    "    popularity.append(item[1])\n",
    "\n",
    "# print(languages)\n",
    "# print(popularity)\n",
    "languages.reverse()\n",
    "popularity.reverse()\n",
    "\n",
    "plt.barh(languages, popularity)\n",
    "\n",
    "\n",
    "\n",
    "\n",
    "plt.title('Most Popular Languages')\n",
    "\n",
    "\n",
    "plt.tight_layout()\n",
    "# plt.grid()\n",
    "# plt.ylabel('Programming Languages')\n",
    "plt.xlabel('Number of people who use')\n",
    "# plt.legend()  #show plot label\n",
    "\n",
    "# plt.savefig('myPlot.png')\n",
    "plt.show()\n",
    "\n"
   ]
  },
  {
   "cell_type": "code",
   "execution_count": 25,
   "id": "4f796a87",
   "metadata": {},
   "outputs": [
    {
     "data": {
      "text/plain": [
       "[('JavaScript', 53587),\n",
       " ('HTML/CSS', 46259),\n",
       " ('Python', 39792),\n",
       " ('SQL', 38835),\n",
       " ('Java', 29162)]"
      ]
     },
     "execution_count": 25,
     "metadata": {},
     "output_type": "execute_result"
    }
   ],
   "source": [
    "x = Counter()\n",
    "for item in df['LanguageHaveWorkedWith']:\n",
    "    x.update(str(item).split(';'))\n",
    "x.most_common(5)"
   ]
  },
  {
   "cell_type": "code",
   "execution_count": null,
   "id": "16f2d59a",
   "metadata": {},
   "outputs": [],
   "source": []
  }
 ],
 "metadata": {
  "kernelspec": {
   "display_name": "Python 3 (ipykernel)",
   "language": "python",
   "name": "python3"
  },
  "language_info": {
   "codemirror_mode": {
    "name": "ipython",
    "version": 3
   },
   "file_extension": ".py",
   "mimetype": "text/x-python",
   "name": "python",
   "nbconvert_exporter": "python",
   "pygments_lexer": "ipython3",
   "version": "3.9.7"
  }
 },
 "nbformat": 4,
 "nbformat_minor": 5
}
