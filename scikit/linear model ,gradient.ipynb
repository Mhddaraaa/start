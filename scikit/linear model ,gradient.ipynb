{
 "cells": [
  {
   "cell_type": "code",
   "execution_count": 1,
   "id": "328e4fe1",
   "metadata": {},
   "outputs": [],
   "source": [
    "import matplotlib.pyplot as plt\n",
    "import numpy as np"
   ]
  },
  {
   "cell_type": "code",
   "execution_count": 2,
   "id": "97f3f605",
   "metadata": {},
   "outputs": [
    {
     "data": {
      "text/plain": [
       "(100, 2)"
      ]
     },
     "execution_count": 2,
     "metadata": {},
     "output_type": "execute_result"
    }
   ],
   "source": [
    "#  y = 1.447x + 0,089, + gaussian distribution\n",
    "\n",
    "data = []\n",
    "\n",
    "for i in range(100):\n",
    "    x = np.random.normal(-10., 10.)\n",
    "    eps = np.random.normal(0, 0.01)\n",
    "    y = 1.447 * x + 0.089 + eps\n",
    "    data.append([x, y])\n",
    "\n",
    "data = np.array(data)\n",
    "data.shape"
   ]
  },
  {
   "cell_type": "code",
   "execution_count": 3,
   "id": "0bc6e37a",
   "metadata": {},
   "outputs": [
    {
     "data": {
      "text/plain": [
       "<matplotlib.collections.PathCollection at 0x7f8550af1d30>"
      ]
     },
     "execution_count": 3,
     "metadata": {},
     "output_type": "execute_result"
    },
    {
     "data": {
      "image/png": "[encoded data removed]",
      "text/plain": [
       "<Figure size 432x288 with 1 Axes>"
      ]
     },
     "metadata": {
      "needs_background": "light"
     },
     "output_type": "display_data"
    }
   ],
   "source": [
    "plt.scatter(data[:, 0], data[:, 1])"
   ]
  },
  {
   "cell_type": "code",
   "execution_count": 4,
   "id": "ff6bf770",
   "metadata": {},
   "outputs": [
    {
     "data": {
      "text/plain": [
       "452.0470563801415"
      ]
     },
     "execution_count": 4,
     "metadata": {},
     "output_type": "execute_result"
    }
   ],
   "source": [
    "# MSE\n",
    "\n",
    "def mse(w, b, points):\n",
    "    error = 0\n",
    "    for i in range(len(points)):\n",
    "        x = data[1, 0]\n",
    "        y = data[i, 1]\n",
    "        error += (y - (w * x + b)) ** 2\n",
    "    return error / len(points)\n",
    "\n",
    "MSE = mse(1.447, 0.089, data)\n",
    "MSE"
   ]
  },
  {
   "cell_type": "markdown",
   "id": "4ea308c4",
   "metadata": {},
   "source": [
    "# calculate Gradient  \n",
    "## dl/dw = 2/n * (sum(y-(wx+b)))*x , dl/db = 2/n*(sum(y-(wx+b)))\n",
    "## w = w - eta * dl/dw , \n",
    "## b = b - eta * dl/db        \n",
    "## where eta is learning rate\n",
    "# L is aor error like MSE o MAE for mse: L = 1/n(sum((y-(wb+x))**2))\n",
    "\n",
    "# x = x - eta * dy/dx"
   ]
  },
  {
   "cell_type": "code",
   "execution_count": 5,
   "id": "17815e55",
   "metadata": {},
   "outputs": [],
   "source": [
    "def step_gradient(points, w_current, b_current, eta=0.001):\n",
    "    # calculate gradient and update w and b\n",
    "    w_gradient = 0\n",
    "    b_gradient = 0\n",
    "    \n",
    "    n = len(points)\n",
    "    for i in range(n):\n",
    "        x = points[i, 0]\n",
    "        y = points[i, 1]\n",
    "        \n",
    "        w_gradient += 2/n * ((w_current * x + b_current) - y) * x\n",
    "        b_gradient += 2/n * ((w_current * x + b_current) - y)\n",
    "    \n",
    "    w_new = w_current - eta * w_gradient \n",
    "    b_new = b_current - eta * b_gradient\n",
    "        \n",
    "    return (w_new, b_new)\n",
    "\n",
    "def gradien_decending(points, w_starting, b_starting, iteration, eta=0.01):\n",
    "    w = w_starting\n",
    "    b = b_starting\n",
    "    \n",
    "    for step in range(iteration):\n",
    "        w, b = step_gradient(np.array(points), w, b)\n",
    "        loss = mse(w, b, points)\n",
    "        if step % 50 == 0:\n",
    "            print(f'iteration: {step}, loss: {loss}')\n",
    "    return [w, b]"
   ]
  },
  {
   "cell_type": "code",
   "execution_count": 13,
   "id": "12383ce5",
   "metadata": {},
   "outputs": [
    {
     "name": "stdout",
     "output_type": "stream",
     "text": [
      "iteration: 0, loss: 179.09713128944506\n",
      "iteration: 50, loss: 450.7981903251004\n",
      "iteration: 100, loss: 450.8452349466055\n",
      "iteration: 150, loss: 450.8904566574423\n",
      "iteration: 200, loss: 450.933925953272\n",
      "iteration: 250, loss: 450.9757106132272\n",
      "iteration: 300, loss: 451.0158758048143\n",
      "iteration: 350, loss: 451.05448418378415\n",
      "iteration: 400, loss: 451.09159599024474\n",
      "iteration: 450, loss: 451.1272691411482\n",
      "iteration: 500, loss: 451.1615593192866\n",
      "iteration: 550, loss: 451.194520058925\n",
      "iteration: 600, loss: 451.22620282819344\n",
      "iteration: 650, loss: 451.2566571083568\n",
      "iteration: 700, loss: 451.2859304700858\n",
      "iteration: 750, loss: 451.31406864682276\n",
      "iteration: 800, loss: 451.34111560537326\n",
      "iteration: 850, loss: 451.3671136138027\n",
      "iteration: 900, loss: 451.3921033067564\n",
      "iteration: 950, loss: 451.41612374829106\n"
     ]
    },
    {
     "data": {
      "text/plain": [
       "(1.4429073341468028, 0.014122498494522486)"
      ]
     },
     "execution_count": 13,
     "metadata": {},
     "output_type": "execute_result"
    }
   ],
   "source": [
    "# creat function which make 100 points and calc above item\n",
    "\n",
    "def main(points):\n",
    "    \n",
    "    initial_b = 0\n",
    "    initial_w = 0\n",
    "    iterations_num = 1000\n",
    "    # train 1000 item and return x, b\n",
    "    w, b = gradien_decending(points, initial_w, initial_b, iterations_num)\n",
    "    \n",
    "    loss = mse(w, b, data)\n",
    "    return w, b\n",
    "\n",
    "main(data)"
   ]
  },
  {
   "cell_type": "code",
   "execution_count": 21,
   "id": "1f7e5746",
   "metadata": {},
   "outputs": [
    {
     "name": "stdout",
     "output_type": "stream",
     "text": [
      "iteration: 0, loss: 179.09713128944506\n",
      "iteration: 50, loss: 450.7981903251004\n",
      "iteration: 100, loss: 450.8452349466055\n",
      "iteration: 150, loss: 450.8904566574423\n",
      "iteration: 200, loss: 450.933925953272\n",
      "iteration: 250, loss: 450.9757106132272\n",
      "iteration: 300, loss: 451.0158758048143\n",
      "iteration: 350, loss: 451.05448418378415\n",
      "iteration: 400, loss: 451.09159599024474\n",
      "iteration: 450, loss: 451.1272691411482\n",
      "iteration: 500, loss: 451.1615593192866\n",
      "iteration: 550, loss: 451.194520058925\n",
      "iteration: 600, loss: 451.22620282819344\n",
      "iteration: 650, loss: 451.2566571083568\n",
      "iteration: 700, loss: 451.2859304700858\n",
      "iteration: 750, loss: 451.31406864682276\n",
      "iteration: 800, loss: 451.34111560537326\n",
      "iteration: 850, loss: 451.3671136138027\n",
      "iteration: 900, loss: 451.3921033067564\n",
      "iteration: 950, loss: 451.41612374829106\n"
     ]
    },
    {
     "data": {
      "text/plain": [
       "<matplotlib.collections.PathCollection at 0x7f8551e0d850>"
      ]
     },
     "execution_count": 21,
     "metadata": {},
     "output_type": "execute_result"
    },
    {
     "data": {
      "image/png": "[encoded data removed]",
      "text/plain": [
       "<Figure size 432x288 with 1 Axes>"
      ]
     },
     "metadata": {
      "needs_background": "light"
     },
     "output_type": "display_data"
    }
   ],
   "source": [
    "\n",
    "w, b = main(data)\n",
    "x = range(-50, 10, 1)\n",
    "y = w * x + b\n",
    "plt.plot(x, y, linewidth=4)\n",
    "plt.scatter(data[:,0], data[:,1], c='r')"
   ]
  },
  {
   "cell_type": "code",
   "execution_count": 1,
   "id": "c3c59d37",
   "metadata": {},
   "outputs": [],
   "source": []
  },
  {
   "cell_type": "code",
   "execution_count": null,
   "id": "49e6b072",
   "metadata": {},
   "outputs": [],
   "source": []
  }
 ],
 "metadata": {
  "kernelspec": {
   "display_name": "Python 3 (ipykernel)",
   "language": "python",
   "name": "python3"
  },
  "language_info": {
   "codemirror_mode": {
    "name": "ipython",
    "version": 3
   },
   "file_extension": ".py",
   "mimetype": "text/x-python",
   "name": "python",
   "nbconvert_exporter": "python",
   "pygments_lexer": "ipython3",
   "version": "3.9.7"
  }
 },
 "nbformat": 4,
 "nbformat_minor": 5
}
