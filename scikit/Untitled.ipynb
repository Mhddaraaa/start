{
 "cells": [
  {
   "cell_type": "code",
   "execution_count": 9,
   "id": "98c17eda",
   "metadata": {},
   "outputs": [],
   "source": [
    "from sklearn import datasets\n",
    "import pandas as pd"
   ]
  },
  {
   "cell_type": "code",
   "execution_count": 34,
   "id": "e8b55d8a",
   "metadata": {},
   "outputs": [
    {
     "data": {
      "text/plain": [
       "['age', 'sex', 'bmi', 'bp', 's1', 's2', 's3', 's4', 's5', 's6']"
      ]
     },
     "execution_count": 34,
     "metadata": {},
     "output_type": "execute_result"
    }
   ],
   "source": [
    "dia = datasets.load_diabetes()\n",
    "dia.feature_names"
   ]
  },
  {
   "cell_type": "code",
   "execution_count": 39,
   "id": "859dda38",
   "metadata": {},
   "outputs": [
    {
     "data": {
      "text/plain": [
       "((442, 10), (442,))"
      ]
     },
     "execution_count": 39,
     "metadata": {},
     "output_type": "execute_result"
    }
   ],
   "source": [
    "X = dia.data\n",
    "y = dia.target\n",
    "X.shape, y.shape"
   ]
  },
  {
   "cell_type": "code",
   "execution_count": 50,
   "id": "a6abf792",
   "metadata": {},
   "outputs": [],
   "source": [
    "from sklearn import linear_model\n",
    "from sklearn.model_selection import train_test_split"
   ]
  },
  {
   "cell_type": "code",
   "execution_count": 51,
   "id": "eef84397",
   "metadata": {},
   "outputs": [
    {
     "data": {
      "text/plain": [
       "LinearRegression()"
      ]
     },
     "execution_count": 51,
     "metadata": {},
     "output_type": "execute_result"
    }
   ],
   "source": [
    "X_train, X_test, y_train, y_test = train_test_split(X, y, test_size=0.2)\n",
    "line_reg = linear_model.LinearRegression()\n",
    "line_reg.fit(X_train, y_train)"
   ]
  },
  {
   "cell_type": "code",
   "execution_count": 53,
   "id": "ff5e3a20",
   "metadata": {},
   "outputs": [],
   "source": [
    "y_pred = line_reg.predict(X_test)"
   ]
  },
  {
   "cell_type": "code",
   "execution_count": 54,
   "id": "822b37fd",
   "metadata": {},
   "outputs": [],
   "source": [
    "from sklearn import metrics"
   ]
  },
  {
   "cell_type": "code",
   "execution_count": 57,
   "id": "84d4e4f5",
   "metadata": {},
   "outputs": [
    {
     "data": {
      "text/plain": [
       "44.686462430831924"
      ]
     },
     "execution_count": 57,
     "metadata": {},
     "output_type": "execute_result"
    }
   ],
   "source": [
    "metrics.mean_absolute_error(y_test, y_pred)"
   ]
  },
  {
   "cell_type": "code",
   "execution_count": 60,
   "id": "10d77405",
   "metadata": {},
   "outputs": [
    {
     "data": {
      "text/plain": [
       "KNeighborsRegressor()"
      ]
     },
     "execution_count": 60,
     "metadata": {},
     "output_type": "execute_result"
    }
   ],
   "source": [
    "from sklearn.neighbors import KNeighborsRegressor\n",
    "\n",
    "knn = KNeighborsRegressor()\n",
    "knn.fit(X_train, y_train)"
   ]
  },
  {
   "cell_type": "code",
   "execution_count": 61,
   "id": "98373229",
   "metadata": {},
   "outputs": [],
   "source": [
    "y_pred2 = knn.predict(X_test)"
   ]
  },
  {
   "cell_type": "code",
   "execution_count": 64,
   "id": "9668fdd7",
   "metadata": {},
   "outputs": [
    {
     "data": {
      "text/plain": [
       "46.530337078651684"
      ]
     },
     "execution_count": 64,
     "metadata": {},
     "output_type": "execute_result"
    }
   ],
   "source": [
    "metrics.mean_absolute_error(y_test, y_pred2)"
   ]
  },
  {
   "cell_type": "code",
   "execution_count": 66,
   "id": "ef04e2ec",
   "metadata": {},
   "outputs": [
    {
     "data": {
      "text/plain": [
       "[56.449438202247194,\n",
       " 51.03932584269663,\n",
       " 46.367041198501866,\n",
       " 45.91573033707865,\n",
       " 46.530337078651684,\n",
       " 46.556179775280896,\n",
       " 46.495987158908505,\n",
       " 45.247191011235955,\n",
       " 45.734082397003746,\n",
       " 45.130337078651685,\n",
       " 44.765066394279884,\n",
       " 44.808052434456926,\n",
       " 45.09075194468453,\n",
       " 44.26886035313001,\n",
       " 44.74606741573034,\n",
       " 44.7247191011236,\n",
       " 44.969596827495046,\n",
       " 44.83333333333333,\n",
       " 44.64163217031343,\n",
       " 44.656741573033706,\n",
       " 44.3900481540931,\n",
       " 44.73953013278856,\n",
       " 44.83585735222277,\n",
       " 44.9564606741573,\n",
       " 45.1352808988764,\n",
       " 45.13656006914434,\n",
       " 45.464419475655426,\n",
       " 45.438202247191015,\n",
       " 45.96319256102286,\n",
       " 45.79775280898876]"
      ]
     },
     "execution_count": 66,
     "metadata": {},
     "output_type": "execute_result"
    }
   ],
   "source": [
    "mae = []\n",
    "\n",
    "for i in range(1,31):\n",
    "    knn = KNeighborsRegressor(n_neighbors=i)\n",
    "    knn.fit(X_train, y_train)\n",
    "    pred = knn.predict(X_test)\n",
    "    mae.append(metrics.mean_absolute_error(y_test, pred))\n",
    "mae"
   ]
  },
  {
   "cell_type": "code",
   "execution_count": 67,
   "id": "2eeb2a9c",
   "metadata": {},
   "outputs": [],
   "source": [
    "import matplotlib.pyplot as plt"
   ]
  },
  {
   "cell_type": "code",
   "execution_count": 68,
   "id": "41f265ba",
   "metadata": {},
   "outputs": [
    {
     "data": {
      "text/plain": [
       "[<matplotlib.lines.Line2D at 0x7fc4c82af820>]"
      ]
     },
     "execution_count": 68,
     "metadata": {},
     "output_type": "execute_result"
    },
    {
     "data": {
      "image/png": "[encoded data removed]",
      "text/plain": [
       "<Figure size 432x288 with 1 Axes>"
      ]
     },
     "metadata": {
      "needs_background": "light"
     },
     "output_type": "display_data"
    }
   ],
   "source": [
    "plt.plot(range(1,31), mae)"
   ]
  },
  {
   "cell_type": "code",
   "execution_count": 70,
   "id": "00e3b6d3",
   "metadata": {},
   "outputs": [],
   "source": [
    "from sklearn import ensemble"
   ]
  },
  {
   "cell_type": "code",
   "execution_count": 73,
   "id": "37e828eb",
   "metadata": {},
   "outputs": [
    {
     "data": {
      "text/plain": [
       "46.54662921348314"
      ]
     },
     "execution_count": 73,
     "metadata": {},
     "output_type": "execute_result"
    }
   ],
   "source": [
    "es = ensemble.RandomForestRegressor()\n",
    "es.fit(X_train, y_train)\n",
    "yy = es.predict(X_test)\n",
    "metrics.mean_absolute_error(y_test, yy)"
   ]
  },
  {
   "cell_type": "code",
   "execution_count": 75,
   "id": "22ea0d06",
   "metadata": {},
   "outputs": [],
   "source": [
    "X1, y1 = datasets.load_iris(return_X_y=True)"
   ]
  },
  {
   "cell_type": "code",
   "execution_count": 76,
   "id": "3bcb2c1c",
   "metadata": {},
   "outputs": [
    {
     "data": {
      "text/plain": [
       "0.09099999999999998"
      ]
     },
     "execution_count": 76,
     "metadata": {},
     "output_type": "execute_result"
    }
   ],
   "source": [
    "X1_train, X1_test, y1_train, y1_test = train_test_split(X1, y1, test_size=0.2)\n",
    "es.fit(X1_train, y1_train)\n",
    "yy1 = es.predict(X1_test)\n",
    "metrics.mean_absolute_error(y1_test, yy1)"
   ]
  },
  {
   "cell_type": "code",
   "execution_count": 78,
   "id": "871fef54",
   "metadata": {},
   "outputs": [],
   "source": [
    "from sklearn.tree import DecisionTreeRegressor"
   ]
  },
  {
   "cell_type": "code",
   "execution_count": 79,
   "id": "e9ed189e",
   "metadata": {},
   "outputs": [
    {
     "data": {
      "text/plain": [
       "67.34831460674157"
      ]
     },
     "execution_count": 79,
     "metadata": {},
     "output_type": "execute_result"
    }
   ],
   "source": [
    "dt = DecisionTreeRegressor()\n",
    "dt.fit(X_train, y_train)\n",
    "yy = dt.predict(X_test)\n",
    "metrics.mean_absolute_error(y_test, yy)"
   ]
  },
  {
   "cell_type": "code",
   "execution_count": 80,
   "id": "52634b44",
   "metadata": {},
   "outputs": [],
   "source": [
    "from sklearn import svm"
   ]
  },
  {
   "cell_type": "code",
   "execution_count": 81,
   "id": "cbdfb376",
   "metadata": {},
   "outputs": [
    {
     "data": {
      "text/plain": [
       "54.60958837293894"
      ]
     },
     "execution_count": 81,
     "metadata": {},
     "output_type": "execute_result"
    }
   ],
   "source": [
    "sv = svm.SVR()\n",
    "sv.fit(X_train, y_train)\n",
    "yy = sv.predict(X_test)\n",
    "metrics.mean_absolute_error(y_test, yy)"
   ]
  },
  {
   "cell_type": "code",
   "execution_count": null,
   "id": "7bc01644",
   "metadata": {},
   "outputs": [],
   "source": []
  }
 ],
 "metadata": {
  "kernelspec": {
   "display_name": "Python 3 (ipykernel)",
   "language": "python",
   "name": "python3"
  },
  "language_info": {
   "codemirror_mode": {
    "name": "ipython",
    "version": 3
   },
   "file_extension": ".py",
   "mimetype": "text/x-python",
   "name": "python",
   "nbconvert_exporter": "python",
   "pygments_lexer": "ipython3",
   "version": "3.9.7"
  }
 },
 "nbformat": 4,
 "nbformat_minor": 5
}
