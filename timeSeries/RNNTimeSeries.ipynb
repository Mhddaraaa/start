{
  "nbformat": 4,
  "nbformat_minor": 0,
  "metadata": {
    "colab": {
      "provenance": []
    },
    "kernelspec": {
      "name": "python3",
      "display_name": "Python 3"
    },
    "language_info": {
      "name": "python"
    }
  },
  "cells": [
    {
      "cell_type": "code",
      "execution_count": 58,
      "metadata": {
        "id": "9l8JV8X3WB1P"
      },
      "outputs": [],
      "source": [
        "import tensorflow as tf\n",
        "from sklearn.preprocessing import MinMaxScaler\n",
        "from sklearn.metrics import mean_squared_error\n",
        "import pandas as pd\n",
        "import numpy as np\n",
        "import matplotlib.pyplot as plt"
      ]
    },
    {
      "cell_type": "code",
      "source": [
        "path = \"/content/XAUUSD.csv\"\n",
        "df = pd.read_csv(path)\n",
        "df.columns = df.iloc[0]\n",
        "df = df.drop(index=0)\n",
        "df['Date'] = pd.to_datetime(df['Date'], format='%m/%d/%Y %H:%M')\n",
        "df[\"Close\"] = pd.to_numeric(df[\"Close\"])\n",
        "df = df[::-1].reset_index()\n",
        "df.info()"
      ],
      "metadata": {
        "colab": {
          "base_uri": "https://localhost:8080/"
        },
        "id": "kRWvzkwZWQ_0",
        "outputId": "48eabcd4-3f06-44cd-cb11-c3641554aa86"
      },
      "execution_count": 59,
      "outputs": [
        {
          "output_type": "stream",
          "name": "stdout",
          "text": [
            "<class 'pandas.core.frame.DataFrame'>\n",
            "RangeIndex: 622 entries, 0 to 621\n",
            "Data columns (total 8 columns):\n",
            " #   Column        Non-Null Count  Dtype         \n",
            "---  ------        --------------  -----         \n",
            " 0   index         622 non-null    int64         \n",
            " 1   Date          622 non-null    datetime64[ns]\n",
            " 2   Open          622 non-null    object        \n",
            " 3   High          622 non-null    object        \n",
            " 4   Low           622 non-null    object        \n",
            " 5   Close         622 non-null    float64       \n",
            " 6   Change(Pips)  622 non-null    object        \n",
            " 7   Change(%)     622 non-null    object        \n",
            "dtypes: datetime64[ns](1), float64(1), int64(1), object(5)\n",
            "memory usage: 39.0+ KB\n"
          ]
        }
      ]
    },
    {
      "cell_type": "code",
      "source": [
        "data = df[[\"Close\"]]\n",
        "# data.set_index(\"Date\", inplace=True)\n",
        "data.head(5)"
      ],
      "metadata": {
        "colab": {
          "base_uri": "https://localhost:8080/",
          "height": 204
        },
        "id": "Vw_wKnYeW1Cp",
        "outputId": "b0f85f8a-4774-4181-9b0d-9bbd38841419"
      },
      "execution_count": 60,
      "outputs": [
        {
          "output_type": "execute_result",
          "data": {
            "text/plain": [
              "0    Close\n",
              "0  1786.39\n",
              "1  1791.15\n",
              "2  1795.68\n",
              "3  1803.22\n",
              "4  1803.75"
            ],
            "text/html": [
              "\n",
              "\n",
              "  <div id=\"df-91988324-53aa-47ba-a158-0b412db6419d\">\n",
              "    <div class=\"colab-df-container\">\n",
              "      <div>\n",
              "<style scoped>\n",
              "    .dataframe tbody tr th:only-of-type {\n",
              "        vertical-align: middle;\n",
              "    }\n",
              "\n",
              "    .dataframe tbody tr th {\n",
              "        vertical-align: top;\n",
              "    }\n",
              "\n",
              "    .dataframe thead th {\n",
              "        text-align: right;\n",
              "    }\n",
              "</style>\n",
              "<table border=\"1\" class=\"dataframe\">\n",
              "  <thead>\n",
              "    <tr style=\"text-align: right;\">\n",
              "      <th></th>\n",
              "      <th>Close</th>\n",
              "    </tr>\n",
              "  </thead>\n",
              "  <tbody>\n",
              "    <tr>\n",
              "      <th>0</th>\n",
              "      <td>1786.39</td>\n",
              "    </tr>\n",
              "    <tr>\n",
              "      <th>1</th>\n",
              "      <td>1791.15</td>\n",
              "    </tr>\n",
              "    <tr>\n",
              "      <th>2</th>\n",
              "      <td>1795.68</td>\n",
              "    </tr>\n",
              "    <tr>\n",
              "      <th>3</th>\n",
              "      <td>1803.22</td>\n",
              "    </tr>\n",
              "    <tr>\n",
              "      <th>4</th>\n",
              "      <td>1803.75</td>\n",
              "    </tr>\n",
              "  </tbody>\n",
              "</table>\n",
              "</div>\n",
              "      <button class=\"colab-df-convert\" onclick=\"convertToInteractive('df-91988324-53aa-47ba-a158-0b412db6419d')\"\n",
              "              title=\"Convert this dataframe to an interactive table.\"\n",
              "              style=\"display:none;\">\n",
              "\n",
              "  <svg xmlns=\"http://www.w3.org/2000/svg\" height=\"24px\"viewBox=\"0 0 24 24\"\n",
              "       width=\"24px\">\n",
              "    <path d=\"M0 0h24v24H0V0z\" fill=\"none\"/>\n",
              "    <path d=\"M18.56 5.44l.94 2.06.94-2.06 2.06-.94-2.06-.94-.94-2.06-.94 2.06-2.06.94zm-11 1L8.5 8.5l.94-2.06 2.06-.94-2.06-.94L8.5 2.5l-.94 2.06-2.06.94zm10 10l.94 2.06.94-2.06 2.06-.94-2.06-.94-.94-2.06-.94 2.06-2.06.94z\"/><path d=\"M17.41 7.96l-1.37-1.37c-.4-.4-.92-.59-1.43-.59-.52 0-1.04.2-1.43.59L10.3 9.45l-7.72 7.72c-.78.78-.78 2.05 0 2.83L4 21.41c.39.39.9.59 1.41.59.51 0 1.02-.2 1.41-.59l7.78-7.78 2.81-2.81c.8-.78.8-2.07 0-2.86zM5.41 20L4 18.59l7.72-7.72 1.47 1.35L5.41 20z\"/>\n",
              "  </svg>\n",
              "      </button>\n",
              "\n",
              "\n",
              "\n",
              "    <div id=\"df-e999b768-c003-47c9-a5bb-36bc9e133df5\">\n",
              "      <button class=\"colab-df-quickchart\" onclick=\"quickchart('df-e999b768-c003-47c9-a5bb-36bc9e133df5')\"\n",
              "              title=\"Suggest charts.\"\n",
              "              style=\"display:none;\">\n",
              "\n",
              "<svg xmlns=\"http://www.w3.org/2000/svg\" height=\"24px\"viewBox=\"0 0 24 24\"\n",
              "     width=\"24px\">\n",
              "    <g>\n",
              "        <path d=\"M19 3H5c-1.1 0-2 .9-2 2v14c0 1.1.9 2 2 2h14c1.1 0 2-.9 2-2V5c0-1.1-.9-2-2-2zM9 17H7v-7h2v7zm4 0h-2V7h2v10zm4 0h-2v-4h2v4z\"/>\n",
              "    </g>\n",
              "</svg>\n",
              "      </button>\n",
              "    </div>\n",
              "\n",
              "<style>\n",
              "  .colab-df-quickchart {\n",
              "    background-color: #E8F0FE;\n",
              "    border: none;\n",
              "    border-radius: 50%;\n",
              "    cursor: pointer;\n",
              "    display: none;\n",
              "    fill: #1967D2;\n",
              "    height: 32px;\n",
              "    padding: 0 0 0 0;\n",
              "    width: 32px;\n",
              "  }\n",
              "\n",
              "  .colab-df-quickchart:hover {\n",
              "    background-color: #E2EBFA;\n",
              "    box-shadow: 0px 1px 2px rgba(60, 64, 67, 0.3), 0px 1px 3px 1px rgba(60, 64, 67, 0.15);\n",
              "    fill: #174EA6;\n",
              "  }\n",
              "\n",
              "  [theme=dark] .colab-df-quickchart {\n",
              "    background-color: #3B4455;\n",
              "    fill: #D2E3FC;\n",
              "  }\n",
              "\n",
              "  [theme=dark] .colab-df-quickchart:hover {\n",
              "    background-color: #434B5C;\n",
              "    box-shadow: 0px 1px 3px 1px rgba(0, 0, 0, 0.15);\n",
              "    filter: drop-shadow(0px 1px 2px rgba(0, 0, 0, 0.3));\n",
              "    fill: #FFFFFF;\n",
              "  }\n",
              "</style>\n",
              "\n",
              "    <script>\n",
              "      async function quickchart(key) {\n",
              "        const containerElement = document.querySelector('#' + key);\n",
              "        const charts = await google.colab.kernel.invokeFunction(\n",
              "            'suggestCharts', [key], {});\n",
              "      }\n",
              "    </script>\n",
              "\n",
              "      <script>\n",
              "\n",
              "function displayQuickchartButton(domScope) {\n",
              "  let quickchartButtonEl =\n",
              "    domScope.querySelector('#df-e999b768-c003-47c9-a5bb-36bc9e133df5 button.colab-df-quickchart');\n",
              "  quickchartButtonEl.style.display =\n",
              "    google.colab.kernel.accessAllowed ? 'block' : 'none';\n",
              "}\n",
              "\n",
              "        displayQuickchartButton(document);\n",
              "      </script>\n",
              "      <style>\n",
              "    .colab-df-container {\n",
              "      display:flex;\n",
              "      flex-wrap:wrap;\n",
              "      gap: 12px;\n",
              "    }\n",
              "\n",
              "    .colab-df-convert {\n",
              "      background-color: #E8F0FE;\n",
              "      border: none;\n",
              "      border-radius: 50%;\n",
              "      cursor: pointer;\n",
              "      display: none;\n",
              "      fill: #1967D2;\n",
              "      height: 32px;\n",
              "      padding: 0 0 0 0;\n",
              "      width: 32px;\n",
              "    }\n",
              "\n",
              "    .colab-df-convert:hover {\n",
              "      background-color: #E2EBFA;\n",
              "      box-shadow: 0px 1px 2px rgba(60, 64, 67, 0.3), 0px 1px 3px 1px rgba(60, 64, 67, 0.15);\n",
              "      fill: #174EA6;\n",
              "    }\n",
              "\n",
              "    [theme=dark] .colab-df-convert {\n",
              "      background-color: #3B4455;\n",
              "      fill: #D2E3FC;\n",
              "    }\n",
              "\n",
              "    [theme=dark] .colab-df-convert:hover {\n",
              "      background-color: #434B5C;\n",
              "      box-shadow: 0px 1px 3px 1px rgba(0, 0, 0, 0.15);\n",
              "      filter: drop-shadow(0px 1px 2px rgba(0, 0, 0, 0.3));\n",
              "      fill: #FFFFFF;\n",
              "    }\n",
              "  </style>\n",
              "\n",
              "      <script>\n",
              "        const buttonEl =\n",
              "          document.querySelector('#df-91988324-53aa-47ba-a158-0b412db6419d button.colab-df-convert');\n",
              "        buttonEl.style.display =\n",
              "          google.colab.kernel.accessAllowed ? 'block' : 'none';\n",
              "\n",
              "        async function convertToInteractive(key) {\n",
              "          const element = document.querySelector('#df-91988324-53aa-47ba-a158-0b412db6419d');\n",
              "          const dataTable =\n",
              "            await google.colab.kernel.invokeFunction('convertToInteractive',\n",
              "                                                     [key], {});\n",
              "          if (!dataTable) return;\n",
              "\n",
              "          const docLinkHtml = 'Like what you see? Visit the ' +\n",
              "            '<a target=\"_blank\" href=https://colab.research.google.com/notebooks/data_table.ipynb>data table notebook</a>'\n",
              "            + ' to learn more about interactive tables.';\n",
              "          element.innerHTML = '';\n",
              "          dataTable['output_type'] = 'display_data';\n",
              "          await google.colab.output.renderOutput(dataTable, element);\n",
              "          const docLink = document.createElement('div');\n",
              "          docLink.innerHTML = docLinkHtml;\n",
              "          element.appendChild(docLink);\n",
              "        }\n",
              "      </script>\n",
              "    </div>\n",
              "  </div>\n"
            ]
          },
          "metadata": {},
          "execution_count": 60
        }
      ]
    },
    {
      "cell_type": "code",
      "source": [
        "dataset = data.values"
      ],
      "metadata": {
        "id": "7Juv5owNW3Vn"
      },
      "execution_count": 61,
      "outputs": []
    },
    {
      "cell_type": "code",
      "source": [
        "scaler = MinMaxScaler(feature_range=(0, 1))\n",
        "dataset = scaler.fit_transform(dataset)"
      ],
      "metadata": {
        "id": "zR0ef7XDXnIz"
      },
      "execution_count": 62,
      "outputs": []
    },
    {
      "cell_type": "code",
      "source": [
        "train_size = int(len(dataset) * 0.7)\n",
        "train, test = dataset[:train_size, 0], dataset[train_size:len(dataset), 0]"
      ],
      "metadata": {
        "id": "Rj--tKbDYHyC"
      },
      "execution_count": 63,
      "outputs": []
    },
    {
      "cell_type": "code",
      "source": [
        "len(dataset), len(train), len(test)"
      ],
      "metadata": {
        "colab": {
          "base_uri": "https://localhost:8080/"
        },
        "id": "AeUE23LpYIVs",
        "outputId": "31007374-c4c1-42ef-b6c8-3a8e58cee8cc"
      },
      "execution_count": 64,
      "outputs": [
        {
          "output_type": "execute_result",
          "data": {
            "text/plain": [
              "(622, 435, 187)"
            ]
          },
          "metadata": {},
          "execution_count": 64
        }
      ]
    },
    {
      "cell_type": "code",
      "source": [
        "def to_seq(data, seq_size=5):\n",
        "    x, y= [], []\n",
        "\n",
        "    for i in range(len(df) - seq_size - 1):\n",
        "        if (i + seq_size) >= len(data):\n",
        "            break\n",
        "\n",
        "        window = data[i: (i + seq_size)]\n",
        "        x.append(window)\n",
        "        y.append(data[i + seq_size])\n",
        "\n",
        "    return np.array(x), np.array(y)"
      ],
      "metadata": {
        "id": "pIv2lUDJYvWf"
      },
      "execution_count": 65,
      "outputs": []
    },
    {
      "cell_type": "code",
      "source": [
        "seq_size = 5\n",
        "X_train, y_train = to_seq(train, seq_size)\n",
        "X_test, y_test = to_seq(test, seq_size)"
      ],
      "metadata": {
        "id": "PgwHPmE4ZxZc"
      },
      "execution_count": 66,
      "outputs": []
    },
    {
      "cell_type": "code",
      "source": [
        "len(X_train), len(y_train), len(X_test), len(y_test)"
      ],
      "metadata": {
        "colab": {
          "base_uri": "https://localhost:8080/"
        },
        "id": "eBRHeLbbZ05I",
        "outputId": "e363ae94-015f-4d72-9328-72c46870cfe4"
      },
      "execution_count": 67,
      "outputs": [
        {
          "output_type": "execute_result",
          "data": {
            "text/plain": [
              "(430, 430, 182, 182)"
            ]
          },
          "metadata": {},
          "execution_count": 67
        }
      ]
    },
    {
      "cell_type": "code",
      "source": [
        "X_train = np.reshape(X_train, (X_train.shape[0], 1, X_train.shape[1]))\n",
        "X_test = np.reshape(X_test, (X_test.shape[0], 1, X_test.shape[1]))"
      ],
      "metadata": {
        "id": "WK0Mc0USa5wm"
      },
      "execution_count": 68,
      "outputs": []
    },
    {
      "cell_type": "code",
      "source": [
        "# X_train = tf.convert_to_tensor(X_train)\n",
        "# y_train = tf.convert_to_tensor(y_train)"
      ],
      "metadata": {
        "id": "Qd1JbzdggT9X"
      },
      "execution_count": 69,
      "outputs": []
    },
    {
      "cell_type": "code",
      "source": [
        "model = tf.keras.Sequential([\n",
        "    tf.keras.layers.LSTM(64, input_shape=(None, 5)),\n",
        "    tf.keras.layers.Dense(32),\n",
        "    tf.keras.layers.Dense(1)\n",
        "])\n",
        "\n",
        "model.compile(optimizer=tf.keras.optimizers.Adam(),\n",
        "              loss=tf.keras.losses.MSE)\n",
        "\n",
        "model.summary()"
      ],
      "metadata": {
        "colab": {
          "base_uri": "https://localhost:8080/"
        },
        "id": "p4c5-A5Kc1qX",
        "outputId": "b8233455-470c-4e3e-8b47-658499217847"
      },
      "execution_count": 70,
      "outputs": [
        {
          "output_type": "stream",
          "name": "stdout",
          "text": [
            "Model: \"sequential_6\"\n",
            "_________________________________________________________________\n",
            " Layer (type)                Output Shape              Param #   \n",
            "=================================================================\n",
            " lstm_11 (LSTM)              (None, 64)                17920     \n",
            "                                                                 \n",
            " dense_12 (Dense)            (None, 32)                2080      \n",
            "                                                                 \n",
            " dense_13 (Dense)            (None, 1)                 33        \n",
            "                                                                 \n",
            "=================================================================\n",
            "Total params: 20,033\n",
            "Trainable params: 20,033\n",
            "Non-trainable params: 0\n",
            "_________________________________________________________________\n"
          ]
        }
      ]
    },
    {
      "cell_type": "code",
      "source": [
        "history = model.fit(X_train,\n",
        "                    y_train,\n",
        "                    validation_data=(X_test, y_test),\n",
        "                    verbose=2,\n",
        "                    epochs=50)"
      ],
      "metadata": {
        "colab": {
          "base_uri": "https://localhost:8080/"
        },
        "id": "03JAkwpIeEBF",
        "outputId": "dca70305-6931-4846-d836-4a3ebacfdd91"
      },
      "execution_count": 71,
      "outputs": [
        {
          "output_type": "stream",
          "name": "stdout",
          "text": [
            "Epoch 1/50\n",
            "14/14 - 3s - loss: 0.1424 - val_loss: 0.1247 - 3s/epoch - 220ms/step\n",
            "Epoch 2/50\n",
            "14/14 - 0s - loss: 0.0141 - val_loss: 0.0048 - 81ms/epoch - 6ms/step\n",
            "Epoch 3/50\n",
            "14/14 - 0s - loss: 0.0119 - val_loss: 0.0100 - 90ms/epoch - 6ms/step\n",
            "Epoch 4/50\n",
            "14/14 - 0s - loss: 0.0073 - val_loss: 0.0182 - 92ms/epoch - 7ms/step\n",
            "Epoch 5/50\n",
            "14/14 - 0s - loss: 0.0062 - val_loss: 0.0073 - 95ms/epoch - 7ms/step\n",
            "Epoch 6/50\n",
            "14/14 - 0s - loss: 0.0049 - val_loss: 0.0059 - 99ms/epoch - 7ms/step\n",
            "Epoch 7/50\n",
            "14/14 - 0s - loss: 0.0040 - val_loss: 0.0046 - 98ms/epoch - 7ms/step\n",
            "Epoch 8/50\n",
            "14/14 - 0s - loss: 0.0033 - val_loss: 0.0033 - 82ms/epoch - 6ms/step\n",
            "Epoch 9/50\n",
            "14/14 - 0s - loss: 0.0028 - val_loss: 0.0030 - 94ms/epoch - 7ms/step\n",
            "Epoch 10/50\n",
            "14/14 - 0s - loss: 0.0025 - val_loss: 0.0023 - 91ms/epoch - 6ms/step\n",
            "Epoch 11/50\n",
            "14/14 - 0s - loss: 0.0024 - val_loss: 0.0024 - 105ms/epoch - 7ms/step\n",
            "Epoch 12/50\n",
            "14/14 - 0s - loss: 0.0023 - val_loss: 0.0022 - 77ms/epoch - 5ms/step\n",
            "Epoch 13/50\n",
            "14/14 - 0s - loss: 0.0022 - val_loss: 0.0023 - 88ms/epoch - 6ms/step\n",
            "Epoch 14/50\n",
            "14/14 - 0s - loss: 0.0022 - val_loss: 0.0022 - 96ms/epoch - 7ms/step\n",
            "Epoch 15/50\n",
            "14/14 - 0s - loss: 0.0022 - val_loss: 0.0022 - 95ms/epoch - 7ms/step\n",
            "Epoch 16/50\n",
            "14/14 - 0s - loss: 0.0021 - val_loss: 0.0022 - 104ms/epoch - 7ms/step\n",
            "Epoch 17/50\n",
            "14/14 - 0s - loss: 0.0021 - val_loss: 0.0022 - 101ms/epoch - 7ms/step\n",
            "Epoch 18/50\n",
            "14/14 - 0s - loss: 0.0021 - val_loss: 0.0021 - 96ms/epoch - 7ms/step\n",
            "Epoch 19/50\n",
            "14/14 - 0s - loss: 0.0020 - val_loss: 0.0022 - 142ms/epoch - 10ms/step\n",
            "Epoch 20/50\n",
            "14/14 - 0s - loss: 0.0020 - val_loss: 0.0020 - 96ms/epoch - 7ms/step\n",
            "Epoch 21/50\n",
            "14/14 - 0s - loss: 0.0020 - val_loss: 0.0020 - 107ms/epoch - 8ms/step\n",
            "Epoch 22/50\n",
            "14/14 - 0s - loss: 0.0020 - val_loss: 0.0020 - 96ms/epoch - 7ms/step\n",
            "Epoch 23/50\n",
            "14/14 - 0s - loss: 0.0019 - val_loss: 0.0020 - 95ms/epoch - 7ms/step\n",
            "Epoch 24/50\n",
            "14/14 - 0s - loss: 0.0019 - val_loss: 0.0020 - 84ms/epoch - 6ms/step\n",
            "Epoch 25/50\n",
            "14/14 - 0s - loss: 0.0018 - val_loss: 0.0020 - 82ms/epoch - 6ms/step\n",
            "Epoch 26/50\n",
            "14/14 - 0s - loss: 0.0018 - val_loss: 0.0019 - 78ms/epoch - 6ms/step\n",
            "Epoch 27/50\n",
            "14/14 - 0s - loss: 0.0018 - val_loss: 0.0021 - 74ms/epoch - 5ms/step\n",
            "Epoch 28/50\n",
            "14/14 - 0s - loss: 0.0018 - val_loss: 0.0018 - 88ms/epoch - 6ms/step\n",
            "Epoch 29/50\n",
            "14/14 - 0s - loss: 0.0018 - val_loss: 0.0025 - 89ms/epoch - 6ms/step\n",
            "Epoch 30/50\n",
            "14/14 - 0s - loss: 0.0018 - val_loss: 0.0018 - 90ms/epoch - 6ms/step\n",
            "Epoch 31/50\n",
            "14/14 - 0s - loss: 0.0016 - val_loss: 0.0018 - 92ms/epoch - 7ms/step\n",
            "Epoch 32/50\n",
            "14/14 - 0s - loss: 0.0016 - val_loss: 0.0019 - 89ms/epoch - 6ms/step\n",
            "Epoch 33/50\n",
            "14/14 - 0s - loss: 0.0016 - val_loss: 0.0019 - 96ms/epoch - 7ms/step\n",
            "Epoch 34/50\n",
            "14/14 - 0s - loss: 0.0016 - val_loss: 0.0017 - 98ms/epoch - 7ms/step\n",
            "Epoch 35/50\n",
            "14/14 - 0s - loss: 0.0015 - val_loss: 0.0017 - 104ms/epoch - 7ms/step\n",
            "Epoch 36/50\n",
            "14/14 - 0s - loss: 0.0015 - val_loss: 0.0017 - 107ms/epoch - 8ms/step\n",
            "Epoch 37/50\n",
            "14/14 - 0s - loss: 0.0015 - val_loss: 0.0017 - 128ms/epoch - 9ms/step\n",
            "Epoch 38/50\n",
            "14/14 - 0s - loss: 0.0015 - val_loss: 0.0016 - 125ms/epoch - 9ms/step\n",
            "Epoch 39/50\n",
            "14/14 - 0s - loss: 0.0015 - val_loss: 0.0017 - 140ms/epoch - 10ms/step\n",
            "Epoch 40/50\n",
            "14/14 - 0s - loss: 0.0015 - val_loss: 0.0017 - 146ms/epoch - 10ms/step\n",
            "Epoch 41/50\n",
            "14/14 - 0s - loss: 0.0015 - val_loss: 0.0016 - 132ms/epoch - 9ms/step\n",
            "Epoch 42/50\n",
            "14/14 - 0s - loss: 0.0014 - val_loss: 0.0016 - 137ms/epoch - 10ms/step\n",
            "Epoch 43/50\n",
            "14/14 - 0s - loss: 0.0014 - val_loss: 0.0016 - 171ms/epoch - 12ms/step\n",
            "Epoch 44/50\n",
            "14/14 - 0s - loss: 0.0014 - val_loss: 0.0019 - 129ms/epoch - 9ms/step\n",
            "Epoch 45/50\n",
            "14/14 - 0s - loss: 0.0014 - val_loss: 0.0017 - 119ms/epoch - 8ms/step\n",
            "Epoch 46/50\n",
            "14/14 - 0s - loss: 0.0014 - val_loss: 0.0016 - 147ms/epoch - 11ms/step\n",
            "Epoch 47/50\n",
            "14/14 - 0s - loss: 0.0013 - val_loss: 0.0016 - 130ms/epoch - 9ms/step\n",
            "Epoch 48/50\n",
            "14/14 - 0s - loss: 0.0014 - val_loss: 0.0016 - 148ms/epoch - 11ms/step\n",
            "Epoch 49/50\n",
            "14/14 - 0s - loss: 0.0013 - val_loss: 0.0016 - 125ms/epoch - 9ms/step\n",
            "Epoch 50/50\n",
            "14/14 - 0s - loss: 0.0014 - val_loss: 0.0016 - 151ms/epoch - 11ms/step\n"
          ]
        }
      ]
    },
    {
      "cell_type": "code",
      "source": [
        "y1 = model.predict(X_train)\n",
        "y_hat = model.predict(X_test)"
      ],
      "metadata": {
        "colab": {
          "base_uri": "https://localhost:8080/"
        },
        "id": "pL8aKF12fRTy",
        "outputId": "ff33e9d9-0025-44bf-831b-7c059677c579"
      },
      "execution_count": 72,
      "outputs": [
        {
          "output_type": "stream",
          "name": "stdout",
          "text": [
            "14/14 [==============================] - 1s 2ms/step\n",
            "6/6 [==============================] - 0s 3ms/step\n"
          ]
        }
      ]
    },
    {
      "cell_type": "code",
      "source": [
        "y = np.concatenate((y_train, y_test))\n",
        "y = scaler.inverse_transform(np.reshape(y, (-1, 1)))\n",
        "y1 = scaler.inverse_transform(y1)\n",
        "y_hat_scale = scaler.inverse_transform(y_hat)"
      ],
      "metadata": {
        "id": "aO7VT3z0iBdj"
      },
      "execution_count": 73,
      "outputs": []
    },
    {
      "cell_type": "code",
      "source": [
        "data = data[10:]\n",
        "data[\"prediction\"] = np.concatenate((y1.reshape((-1)), y_hat_scale.reshape((-1))))\n",
        "data"
      ],
      "metadata": {
        "colab": {
          "base_uri": "https://localhost:8080/",
          "height": 521
        },
        "id": "jOmqUvR2nQ25",
        "outputId": "5288742f-c86b-4692-ef69-cbda8374ab11"
      },
      "execution_count": 74,
      "outputs": [
        {
          "output_type": "stream",
          "name": "stderr",
          "text": [
            "<ipython-input-74-37dc546a1a78>:2: SettingWithCopyWarning: \n",
            "A value is trying to be set on a copy of a slice from a DataFrame.\n",
            "Try using .loc[row_indexer,col_indexer] = value instead\n",
            "\n",
            "See the caveats in the documentation: https://pandas.pydata.org/pandas-docs/stable/user_guide/indexing.html#returning-a-view-versus-a-copy\n",
            "  data[\"prediction\"] = np.concatenate((y1.reshape((-1)), y_hat_scale.reshape((-1))))\n"
          ]
        },
        {
          "output_type": "execute_result",
          "data": {
            "text/plain": [
              "0      Close   prediction\n",
              "10   1829.43  1801.458130\n",
              "11   1811.64  1804.531250\n",
              "12   1815.67  1804.968018\n",
              "13   1811.17  1804.185547\n",
              "14   1809.56  1803.946533\n",
              "..       ...          ...\n",
              "617  1908.76  1908.613159\n",
              "618  1919.20  1904.911621\n",
              "619  1917.70  1911.413330\n",
              "620  1921.17  1914.240845\n",
              "621  1929.65  1917.315186\n",
              "\n",
              "[612 rows x 2 columns]"
            ],
            "text/html": [
              "\n",
              "\n",
              "  <div id=\"df-d4c0ca9a-9a27-497d-a728-a4e76da780ff\">\n",
              "    <div class=\"colab-df-container\">\n",
              "      <div>\n",
              "<style scoped>\n",
              "    .dataframe tbody tr th:only-of-type {\n",
              "        vertical-align: middle;\n",
              "    }\n",
              "\n",
              "    .dataframe tbody tr th {\n",
              "        vertical-align: top;\n",
              "    }\n",
              "\n",
              "    .dataframe thead th {\n",
              "        text-align: right;\n",
              "    }\n",
              "</style>\n",
              "<table border=\"1\" class=\"dataframe\">\n",
              "  <thead>\n",
              "    <tr style=\"text-align: right;\">\n",
              "      <th></th>\n",
              "      <th>Close</th>\n",
              "      <th>prediction</th>\n",
              "    </tr>\n",
              "  </thead>\n",
              "  <tbody>\n",
              "    <tr>\n",
              "      <th>10</th>\n",
              "      <td>1829.43</td>\n",
              "      <td>1801.458130</td>\n",
              "    </tr>\n",
              "    <tr>\n",
              "      <th>11</th>\n",
              "      <td>1811.64</td>\n",
              "      <td>1804.531250</td>\n",
              "    </tr>\n",
              "    <tr>\n",
              "      <th>12</th>\n",
              "      <td>1815.67</td>\n",
              "      <td>1804.968018</td>\n",
              "    </tr>\n",
              "    <tr>\n",
              "      <th>13</th>\n",
              "      <td>1811.17</td>\n",
              "      <td>1804.185547</td>\n",
              "    </tr>\n",
              "    <tr>\n",
              "      <th>14</th>\n",
              "      <td>1809.56</td>\n",
              "      <td>1803.946533</td>\n",
              "    </tr>\n",
              "    <tr>\n",
              "      <th>...</th>\n",
              "      <td>...</td>\n",
              "      <td>...</td>\n",
              "    </tr>\n",
              "    <tr>\n",
              "      <th>617</th>\n",
              "      <td>1908.76</td>\n",
              "      <td>1908.613159</td>\n",
              "    </tr>\n",
              "    <tr>\n",
              "      <th>618</th>\n",
              "      <td>1919.20</td>\n",
              "      <td>1904.911621</td>\n",
              "    </tr>\n",
              "    <tr>\n",
              "      <th>619</th>\n",
              "      <td>1917.70</td>\n",
              "      <td>1911.413330</td>\n",
              "    </tr>\n",
              "    <tr>\n",
              "      <th>620</th>\n",
              "      <td>1921.17</td>\n",
              "      <td>1914.240845</td>\n",
              "    </tr>\n",
              "    <tr>\n",
              "      <th>621</th>\n",
              "      <td>1929.65</td>\n",
              "      <td>1917.315186</td>\n",
              "    </tr>\n",
              "  </tbody>\n",
              "</table>\n",
              "<p>612 rows × 2 columns</p>\n",
              "</div>\n",
              "      <button class=\"colab-df-convert\" onclick=\"convertToInteractive('df-d4c0ca9a-9a27-497d-a728-a4e76da780ff')\"\n",
              "              title=\"Convert this dataframe to an interactive table.\"\n",
              "              style=\"display:none;\">\n",
              "\n",
              "  <svg xmlns=\"http://www.w3.org/2000/svg\" height=\"24px\"viewBox=\"0 0 24 24\"\n",
              "       width=\"24px\">\n",
              "    <path d=\"M0 0h24v24H0V0z\" fill=\"none\"/>\n",
              "    <path d=\"M18.56 5.44l.94 2.06.94-2.06 2.06-.94-2.06-.94-.94-2.06-.94 2.06-2.06.94zm-11 1L8.5 8.5l.94-2.06 2.06-.94-2.06-.94L8.5 2.5l-.94 2.06-2.06.94zm10 10l.94 2.06.94-2.06 2.06-.94-2.06-.94-.94-2.06-.94 2.06-2.06.94z\"/><path d=\"M17.41 7.96l-1.37-1.37c-.4-.4-.92-.59-1.43-.59-.52 0-1.04.2-1.43.59L10.3 9.45l-7.72 7.72c-.78.78-.78 2.05 0 2.83L4 21.41c.39.39.9.59 1.41.59.51 0 1.02-.2 1.41-.59l7.78-7.78 2.81-2.81c.8-.78.8-2.07 0-2.86zM5.41 20L4 18.59l7.72-7.72 1.47 1.35L5.41 20z\"/>\n",
              "  </svg>\n",
              "      </button>\n",
              "\n",
              "\n",
              "\n",
              "    <div id=\"df-ecb0c1bc-5585-41bd-ba5a-df0dac9badc6\">\n",
              "      <button class=\"colab-df-quickchart\" onclick=\"quickchart('df-ecb0c1bc-5585-41bd-ba5a-df0dac9badc6')\"\n",
              "              title=\"Suggest charts.\"\n",
              "              style=\"display:none;\">\n",
              "\n",
              "<svg xmlns=\"http://www.w3.org/2000/svg\" height=\"24px\"viewBox=\"0 0 24 24\"\n",
              "     width=\"24px\">\n",
              "    <g>\n",
              "        <path d=\"M19 3H5c-1.1 0-2 .9-2 2v14c0 1.1.9 2 2 2h14c1.1 0 2-.9 2-2V5c0-1.1-.9-2-2-2zM9 17H7v-7h2v7zm4 0h-2V7h2v10zm4 0h-2v-4h2v4z\"/>\n",
              "    </g>\n",
              "</svg>\n",
              "      </button>\n",
              "    </div>\n",
              "\n",
              "<style>\n",
              "  .colab-df-quickchart {\n",
              "    background-color: #E8F0FE;\n",
              "    border: none;\n",
              "    border-radius: 50%;\n",
              "    cursor: pointer;\n",
              "    display: none;\n",
              "    fill: #1967D2;\n",
              "    height: 32px;\n",
              "    padding: 0 0 0 0;\n",
              "    width: 32px;\n",
              "  }\n",
              "\n",
              "  .colab-df-quickchart:hover {\n",
              "    background-color: #E2EBFA;\n",
              "    box-shadow: 0px 1px 2px rgba(60, 64, 67, 0.3), 0px 1px 3px 1px rgba(60, 64, 67, 0.15);\n",
              "    fill: #174EA6;\n",
              "  }\n",
              "\n",
              "  [theme=dark] .colab-df-quickchart {\n",
              "    background-color: #3B4455;\n",
              "    fill: #D2E3FC;\n",
              "  }\n",
              "\n",
              "  [theme=dark] .colab-df-quickchart:hover {\n",
              "    background-color: #434B5C;\n",
              "    box-shadow: 0px 1px 3px 1px rgba(0, 0, 0, 0.15);\n",
              "    filter: drop-shadow(0px 1px 2px rgba(0, 0, 0, 0.3));\n",
              "    fill: #FFFFFF;\n",
              "  }\n",
              "</style>\n",
              "\n",
              "    <script>\n",
              "      async function quickchart(key) {\n",
              "        const containerElement = document.querySelector('#' + key);\n",
              "        const charts = await google.colab.kernel.invokeFunction(\n",
              "            'suggestCharts', [key], {});\n",
              "      }\n",
              "    </script>\n",
              "\n",
              "      <script>\n",
              "\n",
              "function displayQuickchartButton(domScope) {\n",
              "  let quickchartButtonEl =\n",
              "    domScope.querySelector('#df-ecb0c1bc-5585-41bd-ba5a-df0dac9badc6 button.colab-df-quickchart');\n",
              "  quickchartButtonEl.style.display =\n",
              "    google.colab.kernel.accessAllowed ? 'block' : 'none';\n",
              "}\n",
              "\n",
              "        displayQuickchartButton(document);\n",
              "      </script>\n",
              "      <style>\n",
              "    .colab-df-container {\n",
              "      display:flex;\n",
              "      flex-wrap:wrap;\n",
              "      gap: 12px;\n",
              "    }\n",
              "\n",
              "    .colab-df-convert {\n",
              "      background-color: #E8F0FE;\n",
              "      border: none;\n",
              "      border-radius: 50%;\n",
              "      cursor: pointer;\n",
              "      display: none;\n",
              "      fill: #1967D2;\n",
              "      height: 32px;\n",
              "      padding: 0 0 0 0;\n",
              "      width: 32px;\n",
              "    }\n",
              "\n",
              "    .colab-df-convert:hover {\n",
              "      background-color: #E2EBFA;\n",
              "      box-shadow: 0px 1px 2px rgba(60, 64, 67, 0.3), 0px 1px 3px 1px rgba(60, 64, 67, 0.15);\n",
              "      fill: #174EA6;\n",
              "    }\n",
              "\n",
              "    [theme=dark] .colab-df-convert {\n",
              "      background-color: #3B4455;\n",
              "      fill: #D2E3FC;\n",
              "    }\n",
              "\n",
              "    [theme=dark] .colab-df-convert:hover {\n",
              "      background-color: #434B5C;\n",
              "      box-shadow: 0px 1px 3px 1px rgba(0, 0, 0, 0.15);\n",
              "      filter: drop-shadow(0px 1px 2px rgba(0, 0, 0, 0.3));\n",
              "      fill: #FFFFFF;\n",
              "    }\n",
              "  </style>\n",
              "\n",
              "      <script>\n",
              "        const buttonEl =\n",
              "          document.querySelector('#df-d4c0ca9a-9a27-497d-a728-a4e76da780ff button.colab-df-convert');\n",
              "        buttonEl.style.display =\n",
              "          google.colab.kernel.accessAllowed ? 'block' : 'none';\n",
              "\n",
              "        async function convertToInteractive(key) {\n",
              "          const element = document.querySelector('#df-d4c0ca9a-9a27-497d-a728-a4e76da780ff');\n",
              "          const dataTable =\n",
              "            await google.colab.kernel.invokeFunction('convertToInteractive',\n",
              "                                                     [key], {});\n",
              "          if (!dataTable) return;\n",
              "\n",
              "          const docLinkHtml = 'Like what you see? Visit the ' +\n",
              "            '<a target=\"_blank\" href=https://colab.research.google.com/notebooks/data_table.ipynb>data table notebook</a>'\n",
              "            + ' to learn more about interactive tables.';\n",
              "          element.innerHTML = '';\n",
              "          dataTable['output_type'] = 'display_data';\n",
              "          await google.colab.output.renderOutput(dataTable, element);\n",
              "          const docLink = document.createElement('div');\n",
              "          docLink.innerHTML = docLinkHtml;\n",
              "          element.appendChild(docLink);\n",
              "        }\n",
              "      </script>\n",
              "    </div>\n",
              "  </div>\n"
            ]
          },
          "metadata": {},
          "execution_count": 74
        }
      ]
    },
    {
      "cell_type": "code",
      "source": [
        "plt.plot(data[\"Close\"], label=\"Original\", color=\"blue\")\n",
        "plt.plot(data[\"prediction\"][train_size:], label=\"perediction\", color=\"red\")\n",
        "plt.legend()\n",
        "plt.show()"
      ],
      "metadata": {
        "colab": {
          "base_uri": "https://localhost:8080/",
          "height": 430
        },
        "id": "Cvvw3F52hKhE",
        "outputId": "50d4f996-bd52-49fe-d9b6-7d0b3f7dd37f"
      },
      "execution_count": 75,
      "outputs": [
        {
          "output_type": "display_data",
          "data": {
            "text/plain": [
              "<Figure size 640x480 with 1 Axes>"
            ],
            "image/png": "[encoded data removed]"
          },
          "metadata": {}
        }
      ]
    },
    {
      "cell_type": "code",
      "source": [
        "model = tf.keras.Sequential([\n",
        "    tf.keras.layers.LSTM(64, return_sequences=True, input_shape=(None, 5), activation='relu'),\n",
        "    tf.keras.layers.LSTM(128, activation='relu'),\n",
        "    tf.keras.layers.Dense(32),\n",
        "    tf.keras.layers.Dense(1)\n",
        "])\n",
        "\n",
        "model.compile(optimizer=tf.keras.optimizers.Adam(),\n",
        "              loss=tf.keras.losses.MSE)\n",
        "\n",
        "history = model.fit(X_train,\n",
        "                    y_train,\n",
        "                    validation_data=(X_test, y_test),\n",
        "                    verbose=0,\n",
        "                    epochs=50)\n",
        "\n",
        "y1 = model.predict(X_train)\n",
        "y_hat = model.predict(X_test)\n",
        "y = np.concatenate((y_train, y_test))\n",
        "y = scaler.inverse_transform(np.reshape(y, (-1, 1)))\n",
        "y1 = scaler.inverse_transform(y1)\n",
        "y_hat_scale = scaler.inverse_transform(y_hat)\n",
        "\n",
        "data[\"prediction2\"] = np.concatenate((y1.reshape((-1)), y_hat_scale.reshape((-1))))\n",
        "\n",
        "plt.plot(data[\"Close\"], label=\"Original\", color=\"blue\")\n",
        "plt.plot(data[\"prediction2\"][train_size:], label=\"perediction\", color=\"red\")\n",
        "plt.legend()\n",
        "plt.show()"
      ],
      "metadata": {
        "colab": {
          "base_uri": "https://localhost:8080/",
          "height": 464
        },
        "id": "ami53T4hnpqz",
        "outputId": "cd080829-f9b9-44f8-afe8-e0e900788e79"
      },
      "execution_count": 76,
      "outputs": [
        {
          "output_type": "stream",
          "name": "stdout",
          "text": [
            "14/14 [==============================] - 0s 3ms/step\n",
            "6/6 [==============================] - 0s 3ms/step\n"
          ]
        },
        {
          "output_type": "display_data",
          "data": {
            "text/plain": [
              "<Figure size 640x480 with 1 Axes>"
            ],
            "image/png": "[encoded data removed]"
          },
          "metadata": {}
        }
      ]
    },
    {
      "cell_type": "code",
      "source": [
        "plt.plot(data[\"Close\"][train_size:], label=\"Original\", color=\"blue\")\n",
        "plt.plot(data[\"prediction2\"][train_size:], label=\"perediction\", color=\"red\")\n",
        "plt.legend(loc=\"upper left\")\n",
        "plt.show()"
      ],
      "metadata": {
        "colab": {
          "base_uri": "https://localhost:8080/",
          "height": 430
        },
        "id": "WpsBmrBMqJzO",
        "outputId": "be0c7503-51da-40fa-ca7d-f085b2170e49"
      },
      "execution_count": 80,
      "outputs": [
        {
          "output_type": "display_data",
          "data": {
            "text/plain": [
              "<Figure size 640x480 with 1 Axes>"
            ],
            "image/png": "[encoded data removed]"
          },
          "metadata": {}
        }
      ]
    },
    {
      "cell_type": "code",
      "source": [],
      "metadata": {
        "id": "4p8hpJPTrKNV"
      },
      "execution_count": null,
      "outputs": []
    }
  ]
}