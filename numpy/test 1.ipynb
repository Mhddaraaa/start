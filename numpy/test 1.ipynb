{
 "cells": [
  {
   "cell_type": "code",
   "execution_count": 1,
   "id": "68cb976b",
   "metadata": {},
   "outputs": [],
   "source": [
    "import numpy as np"
   ]
  },
  {
   "cell_type": "code",
   "execution_count": 2,
   "id": "82b4d85b",
   "metadata": {},
   "outputs": [
    {
     "data": {
      "text/plain": [
       "array([ 1,  2,  3,  4,  5,  6,  7,  8,  9, 10, 11, 12, 13, 14, 15])"
      ]
     },
     "execution_count": 2,
     "metadata": {},
     "output_type": "execute_result"
    }
   ],
   "source": [
    "a = np.arange(1,16)\n",
    "a"
   ]
  },
  {
   "cell_type": "code",
   "execution_count": 3,
   "id": "3fab7730",
   "metadata": {},
   "outputs": [
    {
     "data": {
      "text/plain": [
       "array([[ 1,  2,  3,  4],\n",
       "       [ 5,  6,  7,  8],\n",
       "       [ 9, 10, 11, 12],\n",
       "       [13, 14, 15, 16],\n",
       "       [17, 18, 19, 20]])"
      ]
     },
     "execution_count": 3,
     "metadata": {},
     "output_type": "execute_result"
    }
   ],
   "source": [
    "b = np.arange(1, 21)\n",
    "b.shape = (5, 4)\n",
    "b"
   ]
  },
  {
   "cell_type": "code",
   "execution_count": 4,
   "id": "446d7c75",
   "metadata": {},
   "outputs": [
    {
     "data": {
      "text/plain": [
       "3"
      ]
     },
     "execution_count": 4,
     "metadata": {},
     "output_type": "execute_result"
    }
   ],
   "source": [
    "b[0][2]"
   ]
  },
  {
   "cell_type": "code",
   "execution_count": 5,
   "id": "dbc07ff0",
   "metadata": {},
   "outputs": [
    {
     "data": {
      "text/plain": [
       "3"
      ]
     },
     "execution_count": 5,
     "metadata": {},
     "output_type": "execute_result"
    }
   ],
   "source": [
    "b[0, 2]"
   ]
  },
  {
   "cell_type": "code",
   "execution_count": 6,
   "id": "013d42ea",
   "metadata": {},
   "outputs": [
    {
     "data": {
      "text/plain": [
       "array([[ 1,  2],\n",
       "       [ 5,  6],\n",
       "       [ 9, 10],\n",
       "       [13, 14],\n",
       "       [17, 18]])"
      ]
     },
     "execution_count": 6,
     "metadata": {},
     "output_type": "execute_result"
    }
   ],
   "source": [
    "b[:,:2]"
   ]
  },
  {
   "cell_type": "code",
   "execution_count": 7,
   "id": "442d3e9a",
   "metadata": {},
   "outputs": [
    {
     "data": {
      "text/plain": [
       "array([[[2, 7, 1, 1],\n",
       "        [7, 3, 2, 7],\n",
       "        [7, 8, 5, 8]],\n",
       "\n",
       "       [[7, 4, 2, 6],\n",
       "        [2, 3, 4, 8],\n",
       "        [5, 1, 6, 8]]])"
      ]
     },
     "execution_count": 7,
     "metadata": {},
     "output_type": "execute_result"
    }
   ],
   "source": [
    "e = np.random.randint(1, 9, size=(2, 3, 4))\n",
    "e"
   ]
  },
  {
   "cell_type": "code",
   "execution_count": 8,
   "id": "1af238b0",
   "metadata": {},
   "outputs": [
    {
     "data": {
      "text/plain": [
       "array([[2, 7, 1, 1],\n",
       "       [7, 3, 2, 7],\n",
       "       [7, 8, 5, 8]])"
      ]
     },
     "execution_count": 8,
     "metadata": {},
     "output_type": "execute_result"
    }
   ],
   "source": [
    "e[0]"
   ]
  },
  {
   "cell_type": "code",
   "execution_count": 9,
   "id": "ed78df2e",
   "metadata": {},
   "outputs": [
    {
     "data": {
      "text/plain": [
       "array([7, 3, 2, 7])"
      ]
     },
     "execution_count": 9,
     "metadata": {},
     "output_type": "execute_result"
    }
   ],
   "source": [
    "e[0, 1]"
   ]
  },
  {
   "cell_type": "code",
   "execution_count": 10,
   "id": "8884029e",
   "metadata": {},
   "outputs": [
    {
     "data": {
      "text/plain": [
       "7"
      ]
     },
     "execution_count": 10,
     "metadata": {},
     "output_type": "execute_result"
    }
   ],
   "source": [
    "e[0, 1, -1]"
   ]
  },
  {
   "cell_type": "code",
   "execution_count": 11,
   "id": "73671381",
   "metadata": {},
   "outputs": [
    {
     "data": {
      "text/plain": [
       "2"
      ]
     },
     "execution_count": 11,
     "metadata": {},
     "output_type": "execute_result"
    }
   ],
   "source": [
    "e[1, 1, 0]"
   ]
  },
  {
   "cell_type": "code",
   "execution_count": 12,
   "id": "2847cd3b",
   "metadata": {},
   "outputs": [
    {
     "data": {
      "text/plain": [
       "array([[[1, 1],\n",
       "        [2, 7],\n",
       "        [5, 8]],\n",
       "\n",
       "       [[2, 6],\n",
       "        [4, 8],\n",
       "        [6, 8]]])"
      ]
     },
     "execution_count": 12,
     "metadata": {},
     "output_type": "execute_result"
    }
   ],
   "source": [
    "e[:,:,-2:]"
   ]
  },
  {
   "cell_type": "code",
   "execution_count": 13,
   "id": "6a72880c",
   "metadata": {},
   "outputs": [
    {
     "data": {
      "text/plain": [
       "array([[[[5, 8, 9, 5, 0],\n",
       "         [0, 1, 7, 6, 9],\n",
       "         [2, 4, 5, 2, 4]],\n",
       "\n",
       "        [[2, 4, 7, 7, 9],\n",
       "         [1, 7, 0, 6, 9],\n",
       "         [9, 7, 6, 9, 1]]],\n",
       "\n",
       "\n",
       "       [[[0, 1, 8, 8, 3],\n",
       "         [9, 8, 7, 3, 6],\n",
       "         [5, 1, 9, 3, 4]],\n",
       "\n",
       "        [[8, 1, 4, 0, 3],\n",
       "         [9, 2, 0, 4, 9],\n",
       "         [2, 7, 7, 9, 8]]]])"
      ]
     },
     "execution_count": 13,
     "metadata": {},
     "output_type": "execute_result"
    }
   ],
   "source": [
    "np.random.seed(1)\n",
    "d = np.random.randint(0, 10, size=(2, 2, 3, 5))\n",
    "d"
   ]
  },
  {
   "cell_type": "code",
   "execution_count": null,
   "id": "81aab9af",
   "metadata": {},
   "outputs": [],
   "source": []
  },
  {
   "cell_type": "code",
   "execution_count": 14,
   "id": "bb269a9e",
   "metadata": {},
   "outputs": [
    {
     "data": {
      "text/plain": [
       "7"
      ]
     },
     "execution_count": 14,
     "metadata": {},
     "output_type": "execute_result"
    }
   ],
   "source": [
    "d[0, 1, 2, 1]"
   ]
  },
  {
   "cell_type": "code",
   "execution_count": 15,
   "id": "0b44b0e7",
   "metadata": {},
   "outputs": [
    {
     "data": {
      "text/plain": [
       "array([[[[5, 8, 9, 5, 0],\n",
       "         [0, 1, 7, 6, 9],\n",
       "         [2, 4, 5, 2, 4]],\n",
       "\n",
       "        [[2, 4, 7, 7, 9],\n",
       "         [1, 7, 0, 6, 9],\n",
       "         [9, 7, 6, 9, 1]]],\n",
       "\n",
       "\n",
       "       [[[0, 1, 8, 8, 3],\n",
       "         [9, 8, 7, 3, 6],\n",
       "         [5, 1, 9, 3, 4]],\n",
       "\n",
       "        [[8, 1, 4, 0, 3],\n",
       "         [9, 2, 0, 4, 9],\n",
       "         [2, 7, 7, 9, 8]]]])"
      ]
     },
     "execution_count": 15,
     "metadata": {},
     "output_type": "execute_result"
    }
   ],
   "source": [
    "d"
   ]
  }
 ],
 "metadata": {
  "kernelspec": {
   "display_name": "Python 3 (ipykernel)",
   "language": "python",
   "name": "python3"
  },
  "language_info": {
   "codemirror_mode": {
    "name": "ipython",
    "version": 3
   },
   "file_extension": ".py",
   "mimetype": "text/x-python",
   "name": "python",
   "nbconvert_exporter": "python",
   "pygments_lexer": "ipython3",
   "version": "3.9.7"
  }
 },
 "nbformat": 4,
 "nbformat_minor": 5
}
