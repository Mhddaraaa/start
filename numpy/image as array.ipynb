{
 "cells": [
  {
   "cell_type": "code",
   "execution_count": 1,
   "id": "871b1ced",
   "metadata": {},
   "outputs": [],
   "source": [
    "from matplotlib.image import imread "
   ]
  },
  {
   "cell_type": "markdown",
   "id": "9a69e261",
   "metadata": {},
   "source": [
    "<img src='a.png' width =150 height=100/>"
   ]
  },
  {
   "cell_type": "code",
   "execution_count": 3,
   "id": "6590ca9b",
   "metadata": {},
   "outputs": [],
   "source": [
    "###  <img src='a.png' with =250 height=100/>  code for above pic as markdown not a code"
   ]
  },
  {
   "cell_type": "code",
   "execution_count": 7,
   "id": "1e56fc6c",
   "metadata": {},
   "outputs": [
    {
     "data": {
      "text/plain": [
       "numpy.ndarray"
      ]
     },
     "execution_count": 7,
     "metadata": {},
     "output_type": "execute_result"
    }
   ],
   "source": [
    "my_pic1 = imread('a.png')\n",
    "type(my_pic1)    # export as RGB"
   ]
  },
  {
   "cell_type": "code",
   "execution_count": 8,
   "id": "a44a25dd",
   "metadata": {},
   "outputs": [
    {
     "data": {
      "text/plain": [
       "(262144, (256, 256, 4), 3)"
      ]
     },
     "execution_count": 8,
     "metadata": {},
     "output_type": "execute_result"
    }
   ],
   "source": [
    "my_pic1.size, my_pic1.shape, my_pic1.ndim"
   ]
  },
  {
   "cell_type": "markdown",
   "id": "23a53a80",
   "metadata": {},
   "source": [
    "<img src='a2.png' with =250 height=100/>"
   ]
  },
  {
   "cell_type": "code",
   "execution_count": 10,
   "id": "f3f6dd71",
   "metadata": {},
   "outputs": [
    {
     "data": {
      "text/plain": [
       "numpy.ndarray"
      ]
     },
     "execution_count": 10,
     "metadata": {},
     "output_type": "execute_result"
    }
   ],
   "source": [
    "my_pic2 = imread('a2.png')\n",
    "type(my_pic2)"
   ]
  },
  {
   "cell_type": "code",
   "execution_count": 11,
   "id": "261673a4",
   "metadata": {},
   "outputs": [
    {
     "data": {
      "text/plain": [
       "(202500, (225, 225, 4), 3)"
      ]
     },
     "execution_count": 11,
     "metadata": {},
     "output_type": "execute_result"
    }
   ],
   "source": [
    "my_pic2.size, my_pic2.shape, my_pic2.ndim"
   ]
  },
  {
   "cell_type": "code",
   "execution_count": null,
   "id": "96d73ede",
   "metadata": {},
   "outputs": [],
   "source": []
  }
 ],
 "metadata": {
  "kernelspec": {
   "display_name": "Python 3 (ipykernel)",
   "language": "python",
   "name": "python3"
  },
  "language_info": {
   "codemirror_mode": {
    "name": "ipython",
    "version": 3
   },
   "file_extension": ".py",
   "mimetype": "text/x-python",
   "name": "python",
   "nbconvert_exporter": "python",
   "pygments_lexer": "ipython3",
   "version": "3.9.7"
  }
 },
 "nbformat": 4,
 "nbformat_minor": 5
}
