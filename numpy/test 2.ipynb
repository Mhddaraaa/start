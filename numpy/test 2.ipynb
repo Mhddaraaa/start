{
 "cells": [
  {
   "cell_type": "code",
   "execution_count": 3,
   "id": "f51438bf",
   "metadata": {},
   "outputs": [],
   "source": [
    "import numpy as np"
   ]
  },
  {
   "cell_type": "code",
   "execution_count": 4,
   "id": "aa705186",
   "metadata": {},
   "outputs": [
    {
     "data": {
      "text/plain": [
       "array([83, 78, 91, 70,  6,  7, 77, 92,  7, 18, 98, 96, 65, 43, 86, 49, 41,\n",
       "       42, 48, 46, 30, 84, 19, 94, 54,  5, 41, 92, 52, 19, 23, 23, 91, 43,\n",
       "       48,  7, 20, 85, 28, 91, 85,  8,  1, 77,  9, 51,  7, 47, 15,  5, 33,\n",
       "       42, 40, 84, 40,  8, 45, 14, 22,  3])"
      ]
     },
     "execution_count": 4,
     "metadata": {},
     "output_type": "execute_result"
    }
   ],
   "source": [
    "a = np.random.randint(1, 100, size = 60)\n",
    "a"
   ]
  },
  {
   "cell_type": "code",
   "execution_count": 6,
   "id": "403e9f35",
   "metadata": {},
   "outputs": [
    {
     "data": {
      "text/plain": [
       "(60,)"
      ]
     },
     "execution_count": 6,
     "metadata": {},
     "output_type": "execute_result"
    }
   ],
   "source": [
    "a.shape"
   ]
  },
  {
   "cell_type": "code",
   "execution_count": 7,
   "id": "0521e9d4",
   "metadata": {},
   "outputs": [
    {
     "data": {
      "text/plain": [
       "(1, 60)"
      ]
     },
     "execution_count": 7,
     "metadata": {},
     "output_type": "execute_result"
    }
   ],
   "source": [
    "a = a.reshape(1, 60)\n",
    "a.shape"
   ]
  },
  {
   "cell_type": "code",
   "execution_count": 9,
   "id": "adb164a9",
   "metadata": {},
   "outputs": [
    {
     "data": {
      "text/plain": [
       "array([[[83, 78, 91, 70,  6,  7],\n",
       "        [77, 92,  7, 18, 98, 96],\n",
       "        [65, 43, 86, 49, 41, 42],\n",
       "        [48, 46, 30, 84, 19, 94],\n",
       "        [54,  5, 41, 92, 52, 19]],\n",
       "\n",
       "       [[23, 23, 91, 43, 48,  7],\n",
       "        [20, 85, 28, 91, 85,  8],\n",
       "        [ 1, 77,  9, 51,  7, 47],\n",
       "        [15,  5, 33, 42, 40, 84],\n",
       "        [40,  8, 45, 14, 22,  3]]])"
      ]
     },
     "execution_count": 9,
     "metadata": {},
     "output_type": "execute_result"
    }
   ],
   "source": [
    "a = a.reshape((2, 5, 6))\n",
    "a"
   ]
  },
  {
   "cell_type": "code",
   "execution_count": 10,
   "id": "cb00931d",
   "metadata": {},
   "outputs": [
    {
     "data": {
      "text/plain": [
       "array([ 1,  3,  5,  6,  7,  8,  9, 14, 15, 18, 19, 20, 22, 23, 28, 30, 33,\n",
       "       40, 41, 42, 43, 45, 46, 47, 48, 49, 51, 52, 54, 65, 70, 77, 78, 83,\n",
       "       84, 85, 86, 91, 92, 94, 96, 98])"
      ]
     },
     "execution_count": 10,
     "metadata": {},
     "output_type": "execute_result"
    }
   ],
   "source": [
    "unique_array = np.unique(a)\n",
    "unique_array"
   ]
  },
  {
   "cell_type": "code",
   "execution_count": 11,
   "id": "826c959a",
   "metadata": {},
   "outputs": [
    {
     "data": {
      "text/plain": [
       "array([[ 6,  7],\n",
       "       [98, 96],\n",
       "       [41, 42],\n",
       "       [19, 94],\n",
       "       [52, 19]])"
      ]
     },
     "execution_count": 11,
     "metadata": {},
     "output_type": "execute_result"
    }
   ],
   "source": [
    "a[0, :, -2:]"
   ]
  },
  {
   "cell_type": "code",
   "execution_count": 7,
   "id": "1f2d54eb",
   "metadata": {},
   "outputs": [
    {
     "data": {
      "text/plain": [
       "array([87, 45, 82, 31, 90, 40, 31, 75, 98, 53, 60, 89, 44, 83, 99, 92, 36,\n",
       "       78, 90, 95, 38, 74, 57, 32, 35, 80, 68, 71, 51, 86, 58, 67, 65, 57,\n",
       "       51, 81, 62, 63, 90, 87, 35, 38, 51, 58, 45, 89, 86])"
      ]
     },
     "execution_count": 7,
     "metadata": {},
     "output_type": "execute_result"
    }
   ],
   "source": [
    "a[a>30]"
   ]
  },
  {
   "cell_type": "code",
   "execution_count": 8,
   "id": "d622c394",
   "metadata": {},
   "outputs": [
    {
     "data": {
      "text/plain": [
       "array([[[ True,  True,  True,  True,  True,  True],\n",
       "        [ True,  True, False,  True,  True,  True],\n",
       "        [ True, False,  True,  True,  True,  True],\n",
       "        [ True, False,  True, False,  True,  True],\n",
       "        [ True,  True,  True, False, False, False]],\n",
       "\n",
       "       [[False, False,  True,  True, False, False],\n",
       "        [ True,  True,  True,  True, False,  True],\n",
       "        [ True,  True,  True,  True,  True,  True],\n",
       "        [ True,  True,  True,  True,  True,  True],\n",
       "        [ True,  True, False,  True,  True,  True]]])"
      ]
     },
     "execution_count": 8,
     "metadata": {},
     "output_type": "execute_result"
    }
   ],
   "source": [
    "greater_than_30 = a >30\n",
    "greater_than_30"
   ]
  },
  {
   "cell_type": "code",
   "execution_count": 9,
   "id": "b534a29e",
   "metadata": {},
   "outputs": [
    {
     "data": {
      "text/plain": [
       "array([[[ True,  True,  True,  True,  True,  True],\n",
       "        [ True,  True, False,  True,  True,  True],\n",
       "        [ True, False,  True,  True,  True,  True],\n",
       "        [ True, False,  True, False,  True,  True],\n",
       "        [ True,  True,  True, False, False, False]],\n",
       "\n",
       "       [[False, False,  True,  True, False, False],\n",
       "        [ True,  True,  True,  True, False,  True],\n",
       "        [ True,  True,  True,  True,  True,  True],\n",
       "        [ True,  True,  True,  True,  True,  True],\n",
       "        [ True,  True, False,  True,  True,  True]]])"
      ]
     },
     "execution_count": 9,
     "metadata": {},
     "output_type": "execute_result"
    }
   ],
   "source": [
    "a|a>30"
   ]
  },
  {
   "cell_type": "code",
   "execution_count": 10,
   "id": "40a2ce94",
   "metadata": {},
   "outputs": [
    {
     "data": {
      "text/plain": [
       "array([87, 45, 82, 31, 90, 40, 31, 75, 98, 53, 60, 89, 44, 83, 99, 92, 36,\n",
       "       78, 90, 95, 38, 74, 57, 32, 35, 80, 68, 71, 51, 86, 58, 67, 65, 57,\n",
       "       51, 81, 62, 63, 90, 87, 35, 38, 51, 58, 45, 89, 86])"
      ]
     },
     "execution_count": 10,
     "metadata": {},
     "output_type": "execute_result"
    }
   ],
   "source": [
    "a[greater_than_30]"
   ]
  },
  {
   "cell_type": "code",
   "execution_count": 11,
   "id": "6dc4ee10",
   "metadata": {},
   "outputs": [
    {
     "data": {
      "text/plain": [
       "array([[[False, False,  True, False,  True,  True],\n",
       "        [False, False,  True,  True, False,  True],\n",
       "        [False, False,  True, False, False,  True],\n",
       "        [ True, False,  True,  True,  True, False],\n",
       "        [ True,  True, False,  True,  True,  True]],\n",
       "\n",
       "       [[ True, False,  True, False,  True, False],\n",
       "        [ True,  True, False, False,  True,  True],\n",
       "        [ True, False, False, False, False, False],\n",
       "        [ True, False,  True, False, False,  True],\n",
       "        [False,  True, False, False, False,  True]]])"
      ]
     },
     "execution_count": 11,
     "metadata": {},
     "output_type": "execute_result"
    }
   ],
   "source": [
    "even_in_a = a % 2 == 0\n",
    "even_in_a"
   ]
  },
  {
   "cell_type": "code",
   "execution_count": 12,
   "id": "e5b8d30a",
   "metadata": {},
   "outputs": [
    {
     "data": {
      "text/plain": [
       "array([82, 90, 40,  8, 98, 60, 44, 92, 36, 78, 26, 90, 38, 74, 16, 10, 28,\n",
       "       20, 32, 14, 80, 68, 14, 86, 58, 62, 90, 38, 58, 86])"
      ]
     },
     "execution_count": 12,
     "metadata": {},
     "output_type": "execute_result"
    }
   ],
   "source": [
    "a[even_in_a]"
   ]
  },
  {
   "cell_type": "code",
   "execution_count": 13,
   "id": "ed1bfd2f",
   "metadata": {},
   "outputs": [
    {
     "data": {
      "text/plain": [
       "array([82, 90, 40, 98, 60, 44, 92, 36, 78, 90, 38, 74, 32, 80, 68, 86, 58,\n",
       "       62, 90, 38, 58, 86])"
      ]
     },
     "execution_count": 13,
     "metadata": {},
     "output_type": "execute_result"
    }
   ],
   "source": [
    "final_mask = np.logical_and(greater_than_30, even_in_a)\n",
    "a[final_mask]"
   ]
  },
  {
   "cell_type": "code",
   "execution_count": 14,
   "id": "5a1f22de",
   "metadata": {},
   "outputs": [
    {
     "data": {
      "text/plain": [
       "array([87, 45, 82, 31, 90, 40, 31, 75,  8, 98, 53, 60, 89,  7, 44, 83, 99,\n",
       "       92, 36, 78, 90, 95, 38, 74, 57, 16, 10, 32, 35, 14, 13, 80, 68, 71,\n",
       "       51, 14, 86, 58, 67, 65, 57, 51, 81, 62, 63, 90, 87, 35, 38, 51, 58,\n",
       "       19, 45, 89, 86])"
      ]
     },
     "execution_count": 14,
     "metadata": {},
     "output_type": "execute_result"
    }
   ],
   "source": [
    "less_than_20 = a<20\n",
    "result = np.logical_or(greater_than_30, less_than_20)\n",
    "a[result]"
   ]
  },
  {
   "cell_type": "code",
   "execution_count": 29,
   "id": "b2ce6d35",
   "metadata": {},
   "outputs": [
    {
     "data": {
      "text/plain": [
       "array([[[False, False, False, False, False, False],\n",
       "        [False, False, False, False, False, False],\n",
       "        [False, False, False, False, False, False],\n",
       "        [False, False, False, False, False, False],\n",
       "        [False, False, False, False, False, False]],\n",
       "\n",
       "       [[False, False, False, False, False, False],\n",
       "        [False, False, False, False, False, False],\n",
       "        [False, False, False, False, False, False],\n",
       "        [False, False, False, False, False, False],\n",
       "        [False, False, False, False, False, False]]])"
      ]
     },
     "execution_count": 29,
     "metadata": {},
     "output_type": "execute_result"
    }
   ],
   "source": [
    "a | a % 2 == 0"
   ]
  },
  {
   "cell_type": "code",
   "execution_count": 18,
   "id": "1d0185dd",
   "metadata": {},
   "outputs": [
    {
     "data": {
      "text/plain": [
       "1"
      ]
     },
     "execution_count": 18,
     "metadata": {},
     "output_type": "execute_result"
    }
   ],
   "source": [
    "10 % 3"
   ]
  },
  {
   "cell_type": "code",
   "execution_count": null,
   "id": "1b1ad22d",
   "metadata": {},
   "outputs": [],
   "source": []
  }
 ],
 "metadata": {
  "kernelspec": {
   "display_name": "Python 3 (ipykernel)",
   "language": "python",
   "name": "python3"
  },
  "language_info": {
   "codemirror_mode": {
    "name": "ipython",
    "version": 3
   },
   "file_extension": ".py",
   "mimetype": "text/x-python",
   "name": "python",
   "nbconvert_exporter": "python",
   "pygments_lexer": "ipython3",
   "version": "3.9.7"
  }
 },
 "nbformat": 4,
 "nbformat_minor": 5
}
