{
 "cells": [
  {
   "cell_type": "code",
   "execution_count": null,
   "id": "05b0341a",
   "metadata": {},
   "outputs": [],
   "source": [
    "import numpy as np"
   ]
  },
  {
   "cell_type": "code",
   "execution_count": 2,
   "id": "5973abc4",
   "metadata": {},
   "outputs": [],
   "source": [
    "name = ['mohammad', 'ali', 'ali', 'hasan']\n",
    "age = [24, 31, 20, 17]\n",
    "cities = ['tehran', 'shiraz', 'karaj', 'zahedan']"
   ]
  },
  {
   "cell_type": "code",
   "execution_count": 3,
   "id": "4a7f3128",
   "metadata": {},
   "outputs": [
    {
     "data": {
      "text/plain": [
       "array([('', 0, ''), ('', 0, ''), ('', 0, ''), ('', 0, '')],\n",
       "      dtype=[('name', '<U30'), ('age', '<i4'), ('cities', '<U30')])"
      ]
     },
     "execution_count": 3,
     "metadata": {},
     "output_type": "execute_result"
    }
   ],
   "source": [
    "pattern = [('name', 'U30'), ('age', 'i4'), ('cities', 'U30')]\n",
    "my_array = np.zeros(4, dtype = pattern)\n",
    "my_array"
   ]
  },
  {
   "cell_type": "code",
   "execution_count": 7,
   "id": "92557e7e",
   "metadata": {},
   "outputs": [
    {
     "data": {
      "text/plain": [
       "array([('mohammad', 24, 'tehran'), ('ali', 31, 'shiraz'),\n",
       "       ('ali', 20, 'karaj'), ('hasan', 17, 'zahedan')],\n",
       "      dtype=[('name', '<U30'), ('age', '<i4'), ('cities', '<U30')])"
      ]
     },
     "execution_count": 7,
     "metadata": {},
     "output_type": "execute_result"
    }
   ],
   "source": [
    "my_array[0] = (name[0], 24, cities[0])\n",
    "my_array[1] = (name[1], 31, cities[1])\n",
    "my_array[2] = (name[2], 20, cities[2])\n",
    "my_array[3] = (name[3], 17, cities[3])\n",
    "my_array"
   ]
  },
  {
   "cell_type": "code",
   "execution_count": 8,
   "id": "9b859cd1",
   "metadata": {},
   "outputs": [
    {
     "data": {
      "text/plain": [
       "array([24, 31, 20, 17], dtype=int32)"
      ]
     },
     "execution_count": 8,
     "metadata": {},
     "output_type": "execute_result"
    }
   ],
   "source": [
    "my_array['age']"
   ]
  },
  {
   "cell_type": "code",
   "execution_count": 15,
   "id": "139344f1",
   "metadata": {},
   "outputs": [
    {
     "data": {
      "text/plain": [
       "array([[[('', 0, ''), ('', 0, ''), ('', 0, ''), ('', 0, '')],\n",
       "        [('', 0, ''), ('', 0, ''), ('', 0, ''), ('', 0, '')],\n",
       "        [('', 0, ''), ('', 0, ''), ('', 0, ''), ('', 0, '')]],\n",
       "\n",
       "       [[('', 0, ''), ('', 0, ''), ('', 0, ''), ('', 0, '')],\n",
       "        [('', 0, ''), ('', 0, ''), ('', 0, ''), ('', 0, '')],\n",
       "        [('', 0, ''), ('', 0, ''), ('', 0, ''), ('', 0, '')]]],\n",
       "      dtype=[('name', '<U30'), ('age', '<i4'), ('cities', '<U30')])"
      ]
     },
     "execution_count": 15,
     "metadata": {},
     "output_type": "execute_result"
    }
   ],
   "source": [
    "my_3D_array = np.zeros((2, 3, 4), dtype = pattern)\n",
    "my_3D_array"
   ]
  },
  {
   "cell_type": "code",
   "execution_count": 16,
   "id": "1d01f533",
   "metadata": {},
   "outputs": [
    {
     "data": {
      "text/plain": [
       "array([[[('',  0, ''), ('',  0, ''), ('',  0, ''), ('',  0, '')],\n",
       "        [('',  0, ''), ('',  0, ''), ('',  0, ''), ('',  0, '')],\n",
       "        [('',  0, ''), ('',  0, ''), ('',  0, ''), ('',  0, '')]],\n",
       "\n",
       "       [[('',  0, ''), ('',  0, ''), ('',  0, ''), ('',  0, '')],\n",
       "        [('',  0, ''), ('',  0, ''), ('',  0, ''), ('ali', 25, 'yazd')],\n",
       "        [('',  0, ''), ('',  0, ''), ('',  0, ''), ('',  0, '')]]],\n",
       "      dtype=[('name', '<U30'), ('age', '<i4'), ('cities', '<U30')])"
      ]
     },
     "execution_count": 16,
     "metadata": {},
     "output_type": "execute_result"
    }
   ],
   "source": [
    "my_3D_array[1, 1, -1] = ('ali', 25, 'yazd')  #structur array\n",
    "my_3D_array"
   ]
  },
  {
   "cell_type": "code",
   "execution_count": 22,
   "id": "7974a8e2",
   "metadata": {},
   "outputs": [
    {
     "data": {
      "text/plain": [
       "rec.array([('ali', 25, 'yazd'), ('mamali', 32, 'rasht')],\n",
       "          dtype=[('name', '<U30'), ('age', '<i4'), ('cities', '<U30')])"
      ]
     },
     "execution_count": 22,
     "metadata": {},
     "output_type": "execute_result"
    }
   ],
   "source": [
    "my_record_array = np.rec.array([('ali', 25, 'yazd'), ('mamali', 32, 'rasht')], dtype = pattern)    #record array\n",
    "my_record_array"
   ]
  },
  {
   "cell_type": "code",
   "execution_count": 23,
   "id": "480248b7",
   "metadata": {},
   "outputs": [
    {
     "data": {
      "text/plain": [
       "array(['ali', 'mamali'], dtype='<U30')"
      ]
     },
     "execution_count": 23,
     "metadata": {},
     "output_type": "execute_result"
    }
   ],
   "source": [
    "my_record_array.name"
   ]
  },
  {
   "cell_type": "code",
   "execution_count": null,
   "id": "12b54e28",
   "metadata": {},
   "outputs": [],
   "source": []
  }
 ],
 "metadata": {
  "kernelspec": {
   "display_name": "Python 3 (ipykernel)",
   "language": "python",
   "name": "python3"
  },
  "language_info": {
   "codemirror_mode": {
    "name": "ipython",
    "version": 3
   },
   "file_extension": ".py",
   "mimetype": "text/x-python",
   "name": "python",
   "nbconvert_exporter": "python",
   "pygments_lexer": "ipython3",
   "version": "3.9.7"
  }
 },
 "nbformat": 4,
 "nbformat_minor": 5
}
