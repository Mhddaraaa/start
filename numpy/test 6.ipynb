{
 "cells": [
  {
   "cell_type": "code",
   "execution_count": 1,
   "id": "ea23b8de",
   "metadata": {},
   "outputs": [],
   "source": [
    "import numpy as np"
   ]
  },
  {
   "cell_type": "code",
   "execution_count": 2,
   "id": "a5bb1146",
   "metadata": {},
   "outputs": [
    {
     "data": {
      "text/plain": [
       "array([0, 1, 2, 3, 4, 5, 6, 7, 8, 9])"
      ]
     },
     "execution_count": 2,
     "metadata": {},
     "output_type": "execute_result"
    }
   ],
   "source": [
    "a = np.arange(10)\n",
    "a"
   ]
  },
  {
   "cell_type": "code",
   "execution_count": 3,
   "id": "e8feebd9",
   "metadata": {},
   "outputs": [
    {
     "data": {
      "text/plain": [
       "array([ 0,  1,  2,  3,  4,  5,  6,  7,  8,  9, 10, 12])"
      ]
     },
     "execution_count": 3,
     "metadata": {},
     "output_type": "execute_result"
    }
   ],
   "source": [
    "b = np.append(a, [10, 12])\n",
    "b"
   ]
  },
  {
   "cell_type": "code",
   "execution_count": 4,
   "id": "a92fcb91",
   "metadata": {},
   "outputs": [
    {
     "data": {
      "text/plain": [
       "array([[[40, 94, 26, 43],\n",
       "        [30, 97, 97, 87],\n",
       "        [74, 42,  2, 63]],\n",
       "\n",
       "       [[61, 65, 21,  2],\n",
       "        [89, 32,  8, 42],\n",
       "        [12, 10, 82, 80]]])"
      ]
     },
     "execution_count": 4,
     "metadata": {},
     "output_type": "execute_result"
    }
   ],
   "source": [
    "c = np.random.randint(0, 99, size =24).reshape(2, 3, 4)\n",
    "c"
   ]
  },
  {
   "cell_type": "code",
   "execution_count": 5,
   "id": "d0bc3ee8",
   "metadata": {},
   "outputs": [
    {
     "data": {
      "text/plain": [
       "array([[[40, 94, 26, 43],\n",
       "        [30, 97, 97, 87],\n",
       "        [74, 42,  2, 63]],\n",
       "\n",
       "       [[61, 65, 21,  2],\n",
       "        [89, 32,  8, 42],\n",
       "        [12, 10, 82, 80]],\n",
       "\n",
       "       [[71,  5, 20, 11],\n",
       "        [26, 48, 44, 72],\n",
       "        [15, 90, 53, 34]],\n",
       "\n",
       "       [[ 4, 71, 50, 30],\n",
       "        [86,  5, 92, 88],\n",
       "        [57, 87, 76, 32]]])"
      ]
     },
     "execution_count": 5,
     "metadata": {},
     "output_type": "execute_result"
    }
   ],
   "source": [
    "g = np.random.randint(0, 99, size =24).reshape(2, 3, 4)\n",
    "d = np.append(c , g, axis = 0)\n",
    "d"
   ]
  },
  {
   "cell_type": "code",
   "execution_count": 29,
   "id": "787c7eb1",
   "metadata": {},
   "outputs": [
    {
     "data": {
      "text/plain": [
       "array([[[40, 94, 26, 43, 71,  5, 20, 11],\n",
       "        [30, 97, 97, 87, 26, 48, 44, 72],\n",
       "        [74, 42,  2, 63, 15, 90, 53, 34]],\n",
       "\n",
       "       [[61, 65, 21,  2,  4, 71, 50, 30],\n",
       "        [89, 32,  8, 42, 86,  5, 92, 88],\n",
       "        [12, 10, 82, 80, 57, 87, 76, 32]]])"
      ]
     },
     "execution_count": 29,
     "metadata": {},
     "output_type": "execute_result"
    }
   ],
   "source": [
    "f = np.append(c , g, axis = 2)\n",
    "f"
   ]
  },
  {
   "cell_type": "code",
   "execution_count": 7,
   "id": "230852ba",
   "metadata": {},
   "outputs": [
    {
     "data": {
      "text/plain": [
       "((4, 3, 4), (2, 3, 8))"
      ]
     },
     "execution_count": 7,
     "metadata": {},
     "output_type": "execute_result"
    }
   ],
   "source": [
    "d.shape , f.shape"
   ]
  },
  {
   "cell_type": "code",
   "execution_count": 31,
   "id": "4c341e15",
   "metadata": {},
   "outputs": [
    {
     "data": {
      "text/plain": [
       "array([[[40, 94, 26, 43],\n",
       "        [30, 97, 97, 87],\n",
       "        [ 1,  2,  3,  4],\n",
       "        [74, 42,  2, 63]],\n",
       "\n",
       "       [[61, 65, 21,  2],\n",
       "        [89, 32,  8, 42],\n",
       "        [ 1,  2,  3,  4],\n",
       "        [12, 10, 82, 80]]])"
      ]
     },
     "execution_count": 31,
     "metadata": {},
     "output_type": "execute_result"
    }
   ],
   "source": [
    "h = np.insert(c, 2, [1, 2, 3, 4], axis = 1)\n",
    "h"
   ]
  },
  {
   "cell_type": "code",
   "execution_count": 9,
   "id": "8f84a2ce",
   "metadata": {},
   "outputs": [
    {
     "data": {
      "text/plain": [
       "array([[[40,  1, 94, 26, 43],\n",
       "        [30,  2, 97, 97, 87],\n",
       "        [74,  3, 42,  2, 63]],\n",
       "\n",
       "       [[61,  1, 65, 21,  2],\n",
       "        [89,  2, 32,  8, 42],\n",
       "        [12,  3, 10, 82, 80]]])"
      ]
     },
     "execution_count": 9,
     "metadata": {},
     "output_type": "execute_result"
    }
   ],
   "source": [
    "e = np.insert(c, 1,[1, 2, 3], axis= 2)\n",
    "e"
   ]
  },
  {
   "cell_type": "code",
   "execution_count": 10,
   "id": "9023034e",
   "metadata": {},
   "outputs": [
    {
     "data": {
      "text/plain": [
       "array([[[                  0, 7002943971834923003, 3702350794153222510,\n",
       "         8392862729398479919],\n",
       "        [8011685132709556072,          2037395059,                   0,\n",
       "                           0],\n",
       "        [                  0,                   0,                   0,\n",
       "                           0]],\n",
       "\n",
       "       [[                  0,                   0,                   0,\n",
       "                           0],\n",
       "        [                  0,                   0,                   0,\n",
       "                           0],\n",
       "        [                  0,                   0,                   0,\n",
       "                           0]]])"
      ]
     },
     "execution_count": 10,
     "metadata": {},
     "output_type": "execute_result"
    }
   ],
   "source": [
    "v = np.empty((2, 3, 4), dtype = int)   # its not initaling, faster than zeros or one\n",
    "v"
   ]
  },
  {
   "cell_type": "code",
   "execution_count": 11,
   "id": "d0894ecf",
   "metadata": {},
   "outputs": [
    {
     "data": {
      "text/plain": [
       "array([[[40, 94, 26, 43],\n",
       "        [30, 97, 97, 87],\n",
       "        [74, 42,  2, 63]],\n",
       "\n",
       "       [[61, 65, 21,  2],\n",
       "        [89, 32,  8, 42],\n",
       "        [12, 10, 82, 80]]])"
      ]
     },
     "execution_count": 11,
     "metadata": {},
     "output_type": "execute_result"
    }
   ],
   "source": [
    "np.copyto(v, c)   #copy c to v\n",
    "v"
   ]
  },
  {
   "cell_type": "code",
   "execution_count": 2,
   "id": "8a2b6626",
   "metadata": {},
   "outputs": [
    {
     "ename": "NameError",
     "evalue": "name 'c' is not defined",
     "output_type": "error",
     "traceback": [
      "\u001b[0;31m---------------------------------------------------------------------------\u001b[0m",
      "\u001b[0;31mNameError\u001b[0m                                 Traceback (most recent call last)",
      "\u001b[0;32m/var/folders/t4/zdyms2z53151dg_6ktts7gv80000gn/T/ipykernel_751/3235490055.py\u001b[0m in \u001b[0;36m<module>\u001b[0;34m\u001b[0m\n\u001b[0;32m----> 1\u001b[0;31m \u001b[0mc\u001b[0m\u001b[0;34m\u001b[0m\u001b[0;34m\u001b[0m\u001b[0m\n\u001b[0m",
      "\u001b[0;31mNameError\u001b[0m: name 'c' is not defined"
     ]
    }
   ],
   "source": [
    "c"
   ]
  },
  {
   "cell_type": "code",
   "execution_count": 12,
   "id": "1e6e680c",
   "metadata": {},
   "outputs": [
    {
     "data": {
      "text/plain": [
       "array([[[61, 65, 21,  2],\n",
       "        [89, 32,  8, 42],\n",
       "        [12, 10, 82, 80]]])"
      ]
     },
     "execution_count": 12,
     "metadata": {},
     "output_type": "execute_result"
    }
   ],
   "source": [
    "m = np.delete(c, 0 , axis=0)\n",
    "m"
   ]
  },
  {
   "cell_type": "code",
   "execution_count": 13,
   "id": "2fabf533",
   "metadata": {},
   "outputs": [
    {
     "data": {
      "text/plain": [
       "array([[[30, 97, 97, 87],\n",
       "        [74, 42,  2, 63]],\n",
       "\n",
       "       [[89, 32,  8, 42],\n",
       "        [12, 10, 82, 80]]])"
      ]
     },
     "execution_count": 13,
     "metadata": {},
     "output_type": "execute_result"
    }
   ],
   "source": [
    "n = np.delete(c, 0 , axis=1)\n",
    "n"
   ]
  },
  {
   "cell_type": "code",
   "execution_count": 14,
   "id": "b982f8d0",
   "metadata": {},
   "outputs": [
    {
     "data": {
      "text/plain": [
       "array([[[40, 26, 43],\n",
       "        [30, 97, 87],\n",
       "        [74,  2, 63]],\n",
       "\n",
       "       [[61, 21,  2],\n",
       "        [89,  8, 42],\n",
       "        [12, 82, 80]]])"
      ]
     },
     "execution_count": 14,
     "metadata": {},
     "output_type": "execute_result"
    }
   ],
   "source": [
    "x = np.delete(c, 1 , axis=2)\n",
    "x"
   ]
  },
  {
   "cell_type": "code",
   "execution_count": 15,
   "id": "e250c22f",
   "metadata": {},
   "outputs": [
    {
     "data": {
      "text/plain": [
       "array([[ 0,  1,  2,  3],\n",
       "       [ 4,  5,  6,  7],\n",
       "       [ 8,  9, 10, 11]])"
      ]
     },
     "execution_count": 15,
     "metadata": {},
     "output_type": "execute_result"
    }
   ],
   "source": [
    "aa = np.arange(12).reshape(3, 4)\n",
    "bb = np.arange(13, 25).reshape(3, 4)\n",
    "aa"
   ]
  },
  {
   "cell_type": "code",
   "execution_count": 16,
   "id": "2d2d752e",
   "metadata": {},
   "outputs": [
    {
     "data": {
      "text/plain": [
       "array([[13, 14, 15, 16],\n",
       "       [17, 18, 19, 20],\n",
       "       [21, 22, 23, 24]])"
      ]
     },
     "execution_count": 16,
     "metadata": {},
     "output_type": "execute_result"
    }
   ],
   "source": [
    "bb"
   ]
  },
  {
   "cell_type": "code",
   "execution_count": 17,
   "id": "10c166d9",
   "metadata": {},
   "outputs": [
    {
     "data": {
      "text/plain": [
       "array([[ 0,  1,  2,  3],\n",
       "       [ 4,  5,  6,  7],\n",
       "       [ 8,  9, 10, 11],\n",
       "       [13, 14, 15, 16],\n",
       "       [17, 18, 19, 20],\n",
       "       [21, 22, 23, 24]])"
      ]
     },
     "execution_count": 17,
     "metadata": {},
     "output_type": "execute_result"
    }
   ],
   "source": [
    "cc = np.concatenate((aa, bb), axis = 0)\n",
    "cc"
   ]
  },
  {
   "cell_type": "code",
   "execution_count": 18,
   "id": "948b8a8d",
   "metadata": {},
   "outputs": [
    {
     "data": {
      "text/plain": [
       "array([[[ 0,  1,  2,  3],\n",
       "        [ 4,  5,  6,  7],\n",
       "        [ 8,  9, 10, 11]],\n",
       "\n",
       "       [[13, 14, 15, 16],\n",
       "        [17, 18, 19, 20],\n",
       "        [21, 22, 23, 24]]])"
      ]
     },
     "execution_count": 18,
     "metadata": {},
     "output_type": "execute_result"
    }
   ],
   "source": [
    "stack0 = np.stack((aa, bb), axis = 0)\n",
    "stack1 = np.stack((aa, bb), axis = 1)\n",
    "stack2 = np.stack((aa, bb), axis = 2)\n",
    "stack0"
   ]
  },
  {
   "cell_type": "code",
   "execution_count": 19,
   "id": "ee704632",
   "metadata": {},
   "outputs": [
    {
     "data": {
      "text/plain": [
       "array([[[ 0,  1,  2,  3],\n",
       "        [13, 14, 15, 16]],\n",
       "\n",
       "       [[ 4,  5,  6,  7],\n",
       "        [17, 18, 19, 20]],\n",
       "\n",
       "       [[ 8,  9, 10, 11],\n",
       "        [21, 22, 23, 24]]])"
      ]
     },
     "execution_count": 19,
     "metadata": {},
     "output_type": "execute_result"
    }
   ],
   "source": [
    "stack1"
   ]
  },
  {
   "cell_type": "code",
   "execution_count": 20,
   "id": "405f0ca5",
   "metadata": {},
   "outputs": [
    {
     "data": {
      "text/plain": [
       "array([[[ 0, 13],\n",
       "        [ 1, 14],\n",
       "        [ 2, 15],\n",
       "        [ 3, 16]],\n",
       "\n",
       "       [[ 4, 17],\n",
       "        [ 5, 18],\n",
       "        [ 6, 19],\n",
       "        [ 7, 20]],\n",
       "\n",
       "       [[ 8, 21],\n",
       "        [ 9, 22],\n",
       "        [10, 23],\n",
       "        [11, 24]]])"
      ]
     },
     "execution_count": 20,
     "metadata": {},
     "output_type": "execute_result"
    }
   ],
   "source": [
    "stack2"
   ]
  },
  {
   "cell_type": "code",
   "execution_count": 21,
   "id": "1b34c9f5",
   "metadata": {},
   "outputs": [
    {
     "data": {
      "text/plain": [
       "array([[[37, 24,  2, 35, 52],\n",
       "        [96, 14, 77, 86, 19]],\n",
       "\n",
       "       [[79, 69, 83, 89, 35],\n",
       "        [11, 73, 98, 90,  6]],\n",
       "\n",
       "       [[74, 33, 23, 74,  9],\n",
       "        [98, 52, 32, 48, 97]],\n",
       "\n",
       "       [[88, 21, 52,  3, 65],\n",
       "        [59, 49, 32, 27, 22]]])"
      ]
     },
     "execution_count": 21,
     "metadata": {},
     "output_type": "execute_result"
    }
   ],
   "source": [
    "ee = np.random.randint(1, 99, size = 40).reshape(4, 2, 5)\n",
    "ee"
   ]
  },
  {
   "cell_type": "code",
   "execution_count": 22,
   "id": "c7bb0a41",
   "metadata": {
    "scrolled": true
   },
   "outputs": [
    {
     "data": {
      "text/plain": [
       "[array([[[37, 24,  2, 35, 52],\n",
       "         [96, 14, 77, 86, 19]],\n",
       " \n",
       "        [[79, 69, 83, 89, 35],\n",
       "         [11, 73, 98, 90,  6]],\n",
       " \n",
       "        [[74, 33, 23, 74,  9],\n",
       "         [98, 52, 32, 48, 97]],\n",
       " \n",
       "        [[88, 21, 52,  3, 65],\n",
       "         [59, 49, 32, 27, 22]]])]"
      ]
     },
     "execution_count": 22,
     "metadata": {},
     "output_type": "execute_result"
    }
   ],
   "source": [
    "split0 = np.split(ee, 1, axis = 0)\n",
    "split00 = np.split(ee, 4, axis = 0)\n",
    "split1 = np.split(ee, 2, axis = 1)\n",
    "split2 = np.split(ee, 5, axis = 2)\n",
    "split0"
   ]
  },
  {
   "cell_type": "code",
   "execution_count": 23,
   "id": "7d734199",
   "metadata": {},
   "outputs": [
    {
     "data": {
      "text/plain": [
       "[array([[[37, 24,  2, 35, 52],\n",
       "         [96, 14, 77, 86, 19]]]),\n",
       " array([[[79, 69, 83, 89, 35],\n",
       "         [11, 73, 98, 90,  6]]]),\n",
       " array([[[74, 33, 23, 74,  9],\n",
       "         [98, 52, 32, 48, 97]]]),\n",
       " array([[[88, 21, 52,  3, 65],\n",
       "         [59, 49, 32, 27, 22]]])]"
      ]
     },
     "execution_count": 23,
     "metadata": {},
     "output_type": "execute_result"
    }
   ],
   "source": [
    "split00"
   ]
  },
  {
   "cell_type": "code",
   "execution_count": 24,
   "id": "e79b9e13",
   "metadata": {},
   "outputs": [
    {
     "data": {
      "text/plain": [
       "(4, 1, 2, 5)"
      ]
     },
     "execution_count": 24,
     "metadata": {},
     "output_type": "execute_result"
    }
   ],
   "source": [
    "ccc = np.array(split00)\n",
    "ccc.shape"
   ]
  },
  {
   "cell_type": "code",
   "execution_count": 25,
   "id": "71f085ab",
   "metadata": {},
   "outputs": [
    {
     "data": {
      "text/plain": [
       "[array([[[37, 24,  2, 35, 52]],\n",
       " \n",
       "        [[79, 69, 83, 89, 35]],\n",
       " \n",
       "        [[74, 33, 23, 74,  9]],\n",
       " \n",
       "        [[88, 21, 52,  3, 65]]]),\n",
       " array([[[96, 14, 77, 86, 19]],\n",
       " \n",
       "        [[11, 73, 98, 90,  6]],\n",
       " \n",
       "        [[98, 52, 32, 48, 97]],\n",
       " \n",
       "        [[59, 49, 32, 27, 22]]])]"
      ]
     },
     "execution_count": 25,
     "metadata": {},
     "output_type": "execute_result"
    }
   ],
   "source": [
    "split1"
   ]
  },
  {
   "cell_type": "code",
   "execution_count": 26,
   "id": "648cd2b2",
   "metadata": {},
   "outputs": [
    {
     "data": {
      "text/plain": [
       "[array([[[37],\n",
       "         [96]],\n",
       " \n",
       "        [[79],\n",
       "         [11]],\n",
       " \n",
       "        [[74],\n",
       "         [98]],\n",
       " \n",
       "        [[88],\n",
       "         [59]]]),\n",
       " array([[[24],\n",
       "         [14]],\n",
       " \n",
       "        [[69],\n",
       "         [73]],\n",
       " \n",
       "        [[33],\n",
       "         [52]],\n",
       " \n",
       "        [[21],\n",
       "         [49]]]),\n",
       " array([[[ 2],\n",
       "         [77]],\n",
       " \n",
       "        [[83],\n",
       "         [98]],\n",
       " \n",
       "        [[23],\n",
       "         [32]],\n",
       " \n",
       "        [[52],\n",
       "         [32]]]),\n",
       " array([[[35],\n",
       "         [86]],\n",
       " \n",
       "        [[89],\n",
       "         [90]],\n",
       " \n",
       "        [[74],\n",
       "         [48]],\n",
       " \n",
       "        [[ 3],\n",
       "         [27]]]),\n",
       " array([[[52],\n",
       "         [19]],\n",
       " \n",
       "        [[35],\n",
       "         [ 6]],\n",
       " \n",
       "        [[ 9],\n",
       "         [97]],\n",
       " \n",
       "        [[65],\n",
       "         [22]]])]"
      ]
     },
     "execution_count": 26,
     "metadata": {},
     "output_type": "execute_result"
    }
   ],
   "source": [
    "split2"
   ]
  },
  {
   "cell_type": "code",
   "execution_count": 27,
   "id": "4d97f7a5",
   "metadata": {},
   "outputs": [
    {
     "data": {
      "text/plain": [
       "(5, 4, 2, 1)"
      ]
     },
     "execution_count": 27,
     "metadata": {},
     "output_type": "execute_result"
    }
   ],
   "source": [
    "np.array(split2).shape"
   ]
  },
  {
   "cell_type": "code",
   "execution_count": null,
   "id": "531aee9f",
   "metadata": {},
   "outputs": [],
   "source": []
  }
 ],
 "metadata": {
  "kernelspec": {
   "display_name": "Python 3 (ipykernel)",
   "language": "python",
   "name": "python3"
  },
  "language_info": {
   "codemirror_mode": {
    "name": "ipython",
    "version": 3
   },
   "file_extension": ".py",
   "mimetype": "text/x-python",
   "name": "python",
   "nbconvert_exporter": "python",
   "pygments_lexer": "ipython3",
   "version": "3.9.7"
  }
 },
 "nbformat": 4,
 "nbformat_minor": 5
}
