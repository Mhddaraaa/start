{
 "cells": [
  {
   "cell_type": "code",
   "execution_count": 1,
   "id": "0fcb1882",
   "metadata": {},
   "outputs": [],
   "source": [
    "import numpy as np"
   ]
  },
  {
   "cell_type": "code",
   "execution_count": 2,
   "id": "af349342",
   "metadata": {},
   "outputs": [
    {
     "data": {
      "text/plain": [
       "array([0, 1, 2, 3, 4])"
      ]
     },
     "execution_count": 2,
     "metadata": {},
     "output_type": "execute_result"
    }
   ],
   "source": [
    "a = np.arange(5)\n",
    "a"
   ]
  },
  {
   "cell_type": "code",
   "execution_count": 3,
   "id": "de636ecf",
   "metadata": {},
   "outputs": [
    {
     "data": {
      "text/plain": [
       "array([4, 5, 6, 7, 8])"
      ]
     },
     "execution_count": 3,
     "metadata": {},
     "output_type": "execute_result"
    }
   ],
   "source": [
    "a + 4"
   ]
  },
  {
   "cell_type": "code",
   "execution_count": 4,
   "id": "15c8f196",
   "metadata": {},
   "outputs": [
    {
     "data": {
      "text/plain": [
       "array([[4, 6, 2, 4, 8]])"
      ]
     },
     "execution_count": 4,
     "metadata": {},
     "output_type": "execute_result"
    }
   ],
   "source": [
    "b = np.random.randint(1, 9, size = 5).reshape(1, 5)\n",
    "b"
   ]
  },
  {
   "cell_type": "code",
   "execution_count": 5,
   "id": "f9f6f5ad",
   "metadata": {},
   "outputs": [
    {
     "data": {
      "text/plain": [
       "array([[ 4,  6,  9, 10,  6]])"
      ]
     },
     "execution_count": 5,
     "metadata": {},
     "output_type": "execute_result"
    }
   ],
   "source": [
    "a + b"
   ]
  },
  {
   "cell_type": "code",
   "execution_count": 6,
   "id": "f61bdeb0",
   "metadata": {},
   "outputs": [
    {
     "data": {
      "text/plain": [
       "array([[ 0,  5, 14, 21,  8]])"
      ]
     },
     "execution_count": 6,
     "metadata": {},
     "output_type": "execute_result"
    }
   ],
   "source": [
    "a * b"
   ]
  },
  {
   "cell_type": "code",
   "execution_count": 7,
   "id": "12c726f0",
   "metadata": {},
   "outputs": [
    {
     "data": {
      "text/plain": [
       "array([[0, 1, 2, 3, 0]])"
      ]
     },
     "execution_count": 7,
     "metadata": {},
     "output_type": "execute_result"
    }
   ],
   "source": [
    "a % b"
   ]
  },
  {
   "cell_type": "code",
   "execution_count": 8,
   "id": "50ac861a",
   "metadata": {},
   "outputs": [
    {
     "data": {
      "text/plain": [
       "array([[0, 0, 0, 0, 2]])"
      ]
     },
     "execution_count": 8,
     "metadata": {},
     "output_type": "execute_result"
    }
   ],
   "source": [
    "a // b"
   ]
  },
  {
   "cell_type": "code",
   "execution_count": 9,
   "id": "54933571",
   "metadata": {},
   "outputs": [
    {
     "data": {
      "text/plain": [
       "array([[0.        , 0.2       , 0.28571429, 0.42857143, 2.        ]])"
      ]
     },
     "execution_count": 9,
     "metadata": {},
     "output_type": "execute_result"
    }
   ],
   "source": [
    "a / b"
   ]
  },
  {
   "cell_type": "code",
   "execution_count": 13,
   "id": "818b7972",
   "metadata": {},
   "outputs": [
    {
     "data": {
      "text/plain": [
       "array([[78, 91, 34, 42, 59],\n",
       "       [ 2, 27, 24, 49, 32],\n",
       "       [73, 85, 48, 68, 30],\n",
       "       [58,  5, 26, 94, 98],\n",
       "       [25, 11, 29, 35, 11],\n",
       "       [37, 19, 89, 31, 73],\n",
       "       [71, 93, 64,  6, 66],\n",
       "       [25, 58, 53, 81, 76],\n",
       "       [57, 28, 27, 30,  9],\n",
       "       [91, 41,  7,  3, 97]])"
      ]
     },
     "execution_count": 13,
     "metadata": {},
     "output_type": "execute_result"
    }
   ],
   "source": [
    "c = np.random.randint(1, 99, size = 50).reshape(10, 5)\n",
    "c"
   ]
  },
  {
   "cell_type": "code",
   "execution_count": 14,
   "id": "8531c404",
   "metadata": {},
   "outputs": [
    {
     "data": {
      "text/plain": [
       "((1, 5), (10, 5))"
      ]
     },
     "execution_count": 14,
     "metadata": {},
     "output_type": "execute_result"
    }
   ],
   "source": [
    "b.shape , c.shape"
   ]
  },
  {
   "cell_type": "code",
   "execution_count": 15,
   "id": "6e92799e",
   "metadata": {},
   "outputs": [
    {
     "data": {
      "text/plain": [
       "array([[ 82,  96,  41,  49,  61],\n",
       "       [  6,  32,  31,  56,  34],\n",
       "       [ 77,  90,  55,  75,  32],\n",
       "       [ 62,  10,  33, 101, 100],\n",
       "       [ 29,  16,  36,  42,  13],\n",
       "       [ 41,  24,  96,  38,  75],\n",
       "       [ 75,  98,  71,  13,  68],\n",
       "       [ 29,  63,  60,  88,  78],\n",
       "       [ 61,  33,  34,  37,  11],\n",
       "       [ 95,  46,  14,  10,  99]])"
      ]
     },
     "execution_count": 15,
     "metadata": {},
     "output_type": "execute_result"
    }
   ],
   "source": [
    "b + c"
   ]
  },
  {
   "cell_type": "code",
   "execution_count": 16,
   "id": "efccce45",
   "metadata": {},
   "outputs": [
    {
     "data": {
      "text/plain": [
       "array([[4, 5, 7, 7, 2]])"
      ]
     },
     "execution_count": 16,
     "metadata": {},
     "output_type": "execute_result"
    }
   ],
   "source": [
    "b"
   ]
  },
  {
   "cell_type": "code",
   "execution_count": 19,
   "id": "e2985a74",
   "metadata": {},
   "outputs": [
    {
     "data": {
      "text/plain": [
       "array([[0],\n",
       "       [1],\n",
       "       [2],\n",
       "       [3],\n",
       "       [4]])"
      ]
     },
     "execution_count": 19,
     "metadata": {},
     "output_type": "execute_result"
    }
   ],
   "source": [
    "d = np.arange(5).reshape(5, 1)\n",
    "d"
   ]
  },
  {
   "cell_type": "code",
   "execution_count": 20,
   "id": "2d2adb2f",
   "metadata": {},
   "outputs": [
    {
     "data": {
      "text/plain": [
       "((1, 5), (5, 1))"
      ]
     },
     "execution_count": 20,
     "metadata": {},
     "output_type": "execute_result"
    }
   ],
   "source": [
    "b.shape, d.shape  # if we have roe or column == each other or ... they can expand"
   ]
  },
  {
   "cell_type": "code",
   "execution_count": 21,
   "id": "4f231614",
   "metadata": {},
   "outputs": [
    {
     "data": {
      "text/plain": [
       "array([[ 4,  5,  7,  7,  2],\n",
       "       [ 5,  6,  8,  8,  3],\n",
       "       [ 6,  7,  9,  9,  4],\n",
       "       [ 7,  8, 10, 10,  5],\n",
       "       [ 8,  9, 11, 11,  6]])"
      ]
     },
     "execution_count": 21,
     "metadata": {},
     "output_type": "execute_result"
    }
   ],
   "source": [
    "b + d"
   ]
  },
  {
   "cell_type": "code",
   "execution_count": 9,
   "id": "8faeb2c8",
   "metadata": {},
   "outputs": [
    {
     "data": {
      "text/plain": [
       "array([[[88, 19, 35, 84],\n",
       "        [54, 15, 74, 93],\n",
       "        [12, 67, 92, 79],\n",
       "        [19, 39, 41, 54],\n",
       "        [26, 74, 95, 97]],\n",
       "\n",
       "       [[86, 17, 62, 39],\n",
       "        [36,  9, 20, 49],\n",
       "        [69, 13, 23, 31],\n",
       "        [11, 28,  4, 23],\n",
       "        [63, 59, 58, 91]]])"
      ]
     },
     "execution_count": 9,
     "metadata": {},
     "output_type": "execute_result"
    }
   ],
   "source": [
    "e = np.random.randint(1, 99, size = 40).reshape(2, 5, 4)\n",
    "e"
   ]
  },
  {
   "cell_type": "code",
   "execution_count": 10,
   "id": "bf7a5423",
   "metadata": {},
   "outputs": [
    {
     "data": {
      "text/plain": [
       "array([[ 0,  1,  2,  3],\n",
       "       [ 4,  5,  6,  7],\n",
       "       [ 8,  9, 10, 11],\n",
       "       [12, 13, 14, 15],\n",
       "       [16, 17, 18, 19]])"
      ]
     },
     "execution_count": 10,
     "metadata": {},
     "output_type": "execute_result"
    }
   ],
   "source": [
    "array = np.arange(20).reshape(5 ,4)\n",
    "array\n"
   ]
  },
  {
   "cell_type": "code",
   "execution_count": 11,
   "id": "34809dbe",
   "metadata": {},
   "outputs": [
    {
     "data": {
      "text/plain": [
       "array([[[ 88,  20,  37,  87],\n",
       "        [ 58,  20,  80, 100],\n",
       "        [ 20,  76, 102,  90],\n",
       "        [ 31,  52,  55,  69],\n",
       "        [ 42,  91, 113, 116]],\n",
       "\n",
       "       [[ 86,  18,  64,  42],\n",
       "        [ 40,  14,  26,  56],\n",
       "        [ 77,  22,  33,  42],\n",
       "        [ 23,  41,  18,  38],\n",
       "        [ 79,  76,  76, 110]]])"
      ]
     },
     "execution_count": 11,
     "metadata": {},
     "output_type": "execute_result"
    }
   ],
   "source": [
    "array + e"
   ]
  },
  {
   "cell_type": "code",
   "execution_count": 12,
   "id": "10f98d9e",
   "metadata": {},
   "outputs": [
    {
     "data": {
      "text/plain": [
       "array([[[88, 19, 35, 84],\n",
       "        [54, 15, 74, 93],\n",
       "        [12, 67, 92, 79],\n",
       "        [19, 39, 41, 54],\n",
       "        [26, 74, 95, 97]],\n",
       "\n",
       "       [[86, 17, 62, 39],\n",
       "        [36,  9, 20, 49],\n",
       "        [69, 13, 23, 31],\n",
       "        [11, 28,  4, 23],\n",
       "        [63, 59, 58, 91]]])"
      ]
     },
     "execution_count": 12,
     "metadata": {},
     "output_type": "execute_result"
    }
   ],
   "source": [
    "e"
   ]
  },
  {
   "cell_type": "code",
   "execution_count": 13,
   "id": "d3366cff",
   "metadata": {},
   "outputs": [
    {
     "data": {
      "text/plain": [
       "48.7"
      ]
     },
     "execution_count": 13,
     "metadata": {},
     "output_type": "execute_result"
    }
   ],
   "source": [
    "np.mean(e)     #miangin"
   ]
  },
  {
   "cell_type": "code",
   "execution_count": 15,
   "id": "646e373c",
   "metadata": {},
   "outputs": [
    {
     "data": {
      "text/plain": [
       "45.0"
      ]
     },
     "execution_count": 15,
     "metadata": {},
     "output_type": "execute_result"
    }
   ],
   "source": [
    "np.median(e)  #miane"
   ]
  },
  {
   "cell_type": "code",
   "execution_count": 16,
   "id": "7132ac4e",
   "metadata": {},
   "outputs": [
    {
     "data": {
      "text/plain": [
       "(97, 4, 834.5099999999999)"
      ]
     },
     "execution_count": 16,
     "metadata": {},
     "output_type": "execute_result"
    }
   ],
   "source": [
    "np.max(e), np.min(e), np.var(e)  # max min var"
   ]
  },
  {
   "cell_type": "code",
   "execution_count": 17,
   "id": "a6109e0a",
   "metadata": {},
   "outputs": [
    {
     "data": {
      "text/plain": [
       "28.88788673475441"
      ]
     },
     "execution_count": 17,
     "metadata": {},
     "output_type": "execute_result"
    }
   ],
   "source": [
    "np.std(e)    #enheraf meyar == jazr var"
   ]
  },
  {
   "cell_type": "code",
   "execution_count": 14,
   "id": "1d808d89",
   "metadata": {},
   "outputs": [
    {
     "data": {
      "text/plain": [
       "48.7"
      ]
     },
     "execution_count": 14,
     "metadata": {},
     "output_type": "execute_result"
    }
   ],
   "source": [
    "np.sum(e)/ e.size"
   ]
  },
  {
   "cell_type": "code",
   "execution_count": 20,
   "id": "828ed1b4",
   "metadata": {},
   "outputs": [
    {
     "data": {
      "text/plain": [
       "855.9076923076922"
      ]
     },
     "execution_count": 20,
     "metadata": {},
     "output_type": "execute_result"
    }
   ],
   "source": [
    "np.sum([((x - np.mean(e)) ** 2) for x in e]) / (e.size - 1)"
   ]
  },
  {
   "cell_type": "code",
   "execution_count": 43,
   "id": "cdebd0dd",
   "metadata": {},
   "outputs": [
    {
     "data": {
      "text/plain": [
       "790.01"
      ]
     },
     "execution_count": 43,
     "metadata": {},
     "output_type": "execute_result"
    }
   ],
   "source": [
    "np.var(e)"
   ]
  },
  {
   "cell_type": "code",
   "execution_count": null,
   "id": "3f110048",
   "metadata": {},
   "outputs": [],
   "source": []
  }
 ],
 "metadata": {
  "kernelspec": {
   "display_name": "Python 3 (ipykernel)",
   "language": "python",
   "name": "python3"
  },
  "language_info": {
   "codemirror_mode": {
    "name": "ipython",
    "version": 3
   },
   "file_extension": ".py",
   "mimetype": "text/x-python",
   "name": "python",
   "nbconvert_exporter": "python",
   "pygments_lexer": "ipython3",
   "version": "3.9.7"
  }
 },
 "nbformat": 4,
 "nbformat_minor": 5
}
