{
  "cells": [
    {
      "cell_type": "markdown",
      "metadata": {
        "id": "vAnq_cwoXrog"
      },
      "source": [
        "# **Reinforcement Learning**\n",
        "<img align=\"right\" src=\"https://vitalflux.com/wp-content/uploads/2020/12/Reinforcement-learning-real-world-example.png\">\n",
        "\n",
        "- In reinforcement learning, your system learns how to interact intuitively with the environment by basically doing stuff and watching what happens.\n",
        "\n",
        "if you need the last version of gym use block of code below:\n",
        "\n",
        "```sh\n",
        "!pip uninstall gym -y\n",
        "!pip install gym\n",
        "```\n",
        "<br>\n",
        "\n",
        "And here is gymnasium version:\n",
        "\n",
        "```python\n",
        "gymnasium.__version__\n",
        "```\n",
        "1.2.0"
      ]
    },
    {
      "cell_type": "code",
      "execution_count": null,
      "metadata": {
        "id": "yvCgJG3NVrpc"
      },
      "outputs": [],
      "source": [
        "# !pip install -U gym==0.25.2\n",
        "!pip install swig\n",
        "!pip install gymnasium[atari]\n",
        "!pip install gymnasium[box2d]\n",
        "!pip install gymnasium[accept-rom-license]\n",
        "# !pip install autorom[accept-rom-license]"
      ]
    },
    {
      "cell_type": "code",
      "execution_count": 2,
      "metadata": {
        "id": "VMlaMXLBXw3E"
      },
      "outputs": [],
      "source": [
        "import numpy as np\n",
        "import matplotlib.pyplot as plt\n",
        "import gymnasium as gym\n",
        "from IPython.core.display import HTML\n",
        "from base64 import b64encode\n",
        "from gym.wrappers import record_video, record_episode_statistics\n",
        "from gym.wrappers import RecordVideo, RecordEpisodeStatistics\n",
        "import torch\n",
        "import os\n",
        "from tqdm.auto import tqdm\n",
        "\n",
        "import warnings\n",
        "warnings.filterwarnings('ignore')"
      ]
    },
    {
      "cell_type": "code",
      "execution_count": 3,
      "metadata": {
        "id": "PQf9eBoPXw1N"
      },
      "outputs": [],
      "source": [
        "def display_video(episode=0, video_width=600):\n",
        "    \"\"\"\n",
        "    Displays a video from a specified episode with customizable width.\n",
        "\n",
        "    Args:\n",
        "        episode (int): The episode number to load the video for. Defaults to 0.\n",
        "        video_width (int): The width of the video player in pixels. Defaults to 600.\n",
        "\n",
        "    Returns:\n",
        "        IPython.display.HTML: An HTML video element that can be rendered in Jupyter notebooks.\n",
        "\n",
        "    Note:\n",
        "        - The function expects video files to be in './video/' directory with naming format 'rl-video-episode-{N}.mp4'\n",
        "        - Videos are base64 encoded and embedded directly in the HTML for display\n",
        "    \"\"\"\n",
        "    # Construct the path to the video file based on episode number\n",
        "    video_path = f\"./video/rl-video-episode-{episode}.mp4\"\n",
        "\n",
        "    # Read the video file as binary data\n",
        "    video_file = open(video_path, \"rb\").read()\n",
        "\n",
        "    # Encode the binary video data as base64 string\n",
        "    decoded = b64encode(video_file).decode()\n",
        "\n",
        "    # Create a data URL for the video\n",
        "    video_url = f\"data:video/mp4;base64,{decoded}\"\n",
        "\n",
        "    # Return an HTML video element with the embedded video\n",
        "    return HTML(f\"\"\"<video width=\"{video_width}\"\" controls><source src=\"{video_url}\"></video>\"\"\")\n",
        "\n",
        "def create_env(name, render_mode=\"rgb_array\", record=False, eps_record=50, video_folder='./video'):\n",
        "    \"\"\"\n",
        "    Creates and configures a Gym environment with optional video recording and statistics tracking.\n",
        "\n",
        "    Args:\n",
        "        name (str): Name of the Gym environment to create (e.g., 'CartPole-v1')\n",
        "        render_mode (str): Rendering mode - \"human\", \"rgb_array\", or \"ansi\". Defaults to \"rgb_array\"\n",
        "        record (bool): Whether to record videos of the environment. Defaults to False\n",
        "        eps_record (int): Record a video every N episodes (when record=True). Defaults to 50\n",
        "        video_folder (str): Directory to save recorded videos. Defaults to './video'\n",
        "\n",
        "    Returns:\n",
        "        gym.Env: Configured Gym environment wrapped with recording and statistics tracking\n",
        "\n",
        "    Note:\n",
        "        - When record=True, videos will be saved in the specified folder with automatic naming\n",
        "        - The environment is always wrapped with episode statistics tracking\n",
        "    \"\"\"\n",
        "    # Create base Gym environment with specified render mode\n",
        "    env = gym.make(name, render_mode=render_mode)\n",
        "\n",
        "    # Optionally wrap environment with video recorder\n",
        "    if record:\n",
        "        # Record video every eps_record episodes (trigger function)\n",
        "        env = RecordVideo(env, video_folder=video_folder,\n",
        "                         episode_trigger=lambda x: x % eps_record == 0)\n",
        "\n",
        "    # Always wrap environment with episode statistics tracker\n",
        "    env = RecordEpisodeStatistics(env)\n",
        "\n",
        "    return env\n",
        "\n",
        "def show_reward(total_rewards):\n",
        "    \"\"\"\n",
        "    Plots the progression of rewards across episodes using matplotlib.\n",
        "\n",
        "    Args:\n",
        "        total_rewards (list or array-like): A sequence of reward values obtained per episode.\n",
        "\n",
        "    Displays:\n",
        "        A line plot showing the reward trend over episodes with:\n",
        "        - X-axis: Episode number\n",
        "        - Y-axis: Reward value\n",
        "\n",
        "    Note:\n",
        "        - This function immediately displays the plot using plt.show()\n",
        "        - The plot uses default matplotlib styling\n",
        "        - Useful for visualizing training progress in reinforcement learning\n",
        "    \"\"\"\n",
        "    # Create line plot of reward values\n",
        "    plt.plot(total_rewards)\n",
        "\n",
        "    # Label the x-axis as 'Episode'\n",
        "    plt.xlabel('Episode')\n",
        "\n",
        "    # Label the y-axis as 'Reward'\n",
        "    plt.ylabel('Reward')\n",
        "\n",
        "    # Display the plot\n",
        "    plt.show()"
      ]
    },
    {
      "cell_type": "markdown",
      "metadata": {
        "id": "T_d9-Sz8X4_4"
      },
      "source": [
        "## **Dynamic programming**\n",
        "In the [previous notebook](https://colab.research.google.com/github/Mhddaraaa/start/blob/main/ReinforcementLearning/4_RL_MarkoveDecisionProcess.ipynb) we have just developed an MDP and computed the value function of the optimal policy using matrix inversion.\n",
        "\n",
        "**Dynamic programming** is an optimization technique that was developed by Richard Bellman in 1950s.\n",
        "\n",
        "**policy evaluation** is a iterative algorithm. It starts with arbitrary policy values and then iteratively update the values base on **Bellman expectation equation** until they converge. In each iteration value of a policy $\\pi$, for state $S$ is updated as follow:\n",
        "\n",
        "<br>\n",
        "\n",
        "The Bellman expectation equations:\n",
        "---\n",
        "\n",
        "---\n",
        "<br>\n",
        "\n",
        "- **For $V_\\pi(s)$:**\n",
        "\n",
        "$$\n",
        "    V_\\pi(s) = \\sum_{a} \\pi(a|s) \\Biggl( \\sum_{s{'}} P(s{'}| s, a) \\left[ R(s, a, s{'}) + \\gamma V_\\pi(s{'}) \\right] \\Biggr)\n",
        "$$\n",
        "\n",
        "> **Outer Sum** (over $a$): This sums over all possible actions $a$ in state $s$, weighted by the policy probability $\\pi(a|s)$.<br>\n",
        "**Inner Sum** (over $s^\\prime$): For each action $a$, this sums over all possible next states $s^\\prime$, weighted by the transition probability $P(s{'}| s, a)$.\n",
        "\n",
        "Expectation form:\n",
        "\n",
        "$$\n",
        "V_\\pi(s) = \\mathbb{E}_{a \\sim \\pi(\\cdot|s), s' \\sim P(\\cdot|s,a)} \\left[ R(s, a, s') + \\gamma V_\\pi(s') \\right]\n",
        "$$\n",
        "\n",
        "> $a \\sim \\pi(\\cdot|s)$: The action $a$ is sampled from the policy $\\pi$ given state $s$.<br>\n",
        "$s' \\sim P(\\cdot|s,a)$: The next state $s′$ is sampled from the transition dynamics $P$ given state $s$ and action $a$.<br>\n",
        "$R(s, a, s') + \\gamma V_\\pi(s')$: The immediate reward plus the discounted value of the next state.\n",
        "\n",
        "<br>\n",
        "\n",
        "- **For $Q_{\\pi}(s, a)$**\n",
        "\n",
        "$$\n",
        "\\begin{split}\n",
        "    Q_\\pi(s, a) & = \\sum_{s{'}} P(s{'}| s, a) \\left[ R(s, a, s{'}) + \\gamma \\sum_{a{'}} \\pi(a{'} | s{'}) Q_\\pi(s{'}, a{'}) \\right] \\\\\n",
        "    \\text{as we know: } v_{\\pi}(s) & = \\sum_{a} \\pi(a| s) Q_\\pi(s, a) \\text{ So: }\\\\\n",
        "    Q_\\pi(s, a) & = \\sum_{s{'}} P(s{'}| s, a) \\left[ R(s, a, s{'}) + \\gamma v_{\\pi}(s^{'}) \\right] \\\\\n",
        "\\end{split}\n",
        "$$\n",
        "\n",
        "Expectation form:\n",
        "\n",
        "$$\n",
        "Q_\\pi(s, a) = \\mathbb{E}_{s' \\sim P(\\cdot|s,a), \\, a' \\sim \\pi(\\cdot|s')} \\left[ R(s, a, s') + \\gamma Q_\\pi(s', a') \\right]\n",
        "$$\n",
        "\n",
        "<br>\n",
        "\n",
        "The Bellman Optimality equations:\n",
        "---\n",
        "\n",
        "---\n",
        "<br>\n",
        "\n",
        "- **For $V(s)$:**\n",
        "\n",
        "$$\n",
        "V_*(s) = \\max_a \\sum_{s{'}} P(s{'} | s, a) \\left[ R(s, a, s{'}) + \\gamma V^(s{'}) \\right]\n",
        "$$\n",
        "\n",
        "\n",
        "- **For $Q_{\\pi}(s, a)$**\n",
        "\n",
        "$$\n",
        "Q_*(s, a) = \\sum_{s{'}} P(s{'} | s, a) \\left[ R(s, a, s{'}) + \\gamma \\max_{a{'}} Q_*(s{'}, a{'}) \\right]\n",
        "$$\n",
        "\n",
        "---\n",
        "<br>\n",
        "\n",
        "1. **Policy evaluation or prediction**: first we use *expectation* equations to evaluate a policy\n",
        "2. **policy improvement**: then we use *optimality* equations to find an optimal policy that maximizes the state values and state-action values.\n",
        "\n",
        "\n",
        "\n",
        "> **Note**: In order to use this method the problem should have finite states and actions."
      ]
    },
    {
      "cell_type": "markdown",
      "metadata": {
        "id": "yKoPuSi2SukI"
      },
      "source": [
        "## **Performing Policy evalulation**\n",
        "\n",
        "$$\n",
        "\\begin{split}\n",
        "    \\large (1) \\hspace{5mm} V_{n+1}(s) & \\leftarrow \\sum_{a} \\pi(a|s) \\sum_{s{'}} P(s{'}| s, a) \\left[ R(s, a, s{'}) + \\gamma V_n(s{'}) \\right] \\\\\n",
        "    \\text{Or} \\\\\n",
        "    \\large (2) \\hspace{5mm} V_{n+1}(s) & \\leftarrow \\sum_{a}{\\pi(s, a)\\left[R(s,a) +\n",
        "    \\gamma\\sum_{s^{'}}{T(s,a,s^{'})V_n(s{'})}\\right]}\n",
        "\\end{split}\n",
        "$$\n",
        "\n",
        "\n",
        ">Since we want to iterate over and over again, $V(s)$ subscript changed from $\\pi$ to $n$ and $n+1$. We initialize the value function $V$ to zeros for all states at the beginning.\n",
        "\n",
        "If $n \\rightarrow \\infty$ then $V_n(s)$ will converge to $V_{\\pi}(s)$\n",
        "\n",
        "> **Note**: Here is the implementation of the second one.\n",
        "\n",
        "> This is just for illustration purposes, the full implementation of policy evaluation will be later"
      ]
    },
    {
      "cell_type": "code",
      "execution_count": null,
      "metadata": {
        "id": "0ciDfQZdXwzH"
      },
      "outputs": [],
      "source": [
        "def policy_evaluation(policy, trans_matrix, rewards, gamma, threshold):\n",
        "    \"\"\"\n",
        "    Evaluates the value function for a given policy using the Bellman expectation equation.\n",
        "\n",
        "    Parameters:\n",
        "        policy (torch.Tensor): A matrix of shape (n_state, n_action), where each entry represents the probability\n",
        "                               of taking an action in a given state under the policy.\n",
        "        trans_matrix (torch.Tensor): A matrix of shape (n_state, n_action, n_state), representing the transition\n",
        "                                     probabilities. Entry trans_matrix[s, a, s'] is the probability of transitioning\n",
        "                                     from state s to state s' by taking action a.\n",
        "        rewards (torch.Tensor): A vector of shape (n_state,) containing the immediate rewards for each state.\n",
        "        gamma (float): The discount factor, which determines the importance of future rewards (0 <= gamma < 1).\n",
        "        threshold (float): A small positive number to determine the stopping condition for convergence.\n",
        "\n",
        "    Returns:\n",
        "        V (torch.Tensor): The estimated state-value function for the given policy.\n",
        "        v_history (list): A list containing the history of state-value functions over iterations.\n",
        "    \"\"\"\n",
        "    # Number of states\n",
        "    n_state = policy.shape[0]\n",
        "\n",
        "    # Initialize the value function V to zeros for all states\n",
        "    V = torch.zeros(n_state)\n",
        "\n",
        "    # Keep track of the history of V for analysis\n",
        "    v_history = [V]\n",
        "\n",
        "    # Start the policy evaluation loop\n",
        "    while True:\n",
        "        # Temporary value function to compute updated values\n",
        "        v_temp = torch.zeros(n_state)\n",
        "\n",
        "        # Iterate over each state\n",
        "        for state, actions in enumerate(policy):\n",
        "            # Iterate over each action in the given state\n",
        "            for action, action_prob in enumerate(actions):\n",
        "                # Compute the expected value of transitioning to all possible next states\n",
        "                sigma = torch.dot(trans_matrix[state, action], V)  # Sum T(s, a, s') * V(s')\n",
        "                # Update the temporary value function with the expected reward and discounted value\n",
        "                # V(s) = Σ_a 𝜋(𝑠,𝑎)[𝑅(𝑠,𝑎) + γ * ∑_𝑠′𝑇(𝑠,𝑎,𝑠′)𝑉(𝑠′)]\n",
        "                v_temp[state] += action_prob * (rewards[state] + gamma * sigma)\n",
        "\n",
        "        # Compute the maximum change (delta) between the old and updated value functions\n",
        "        delta = torch.max(torch.abs(V - v_temp))\n",
        "\n",
        "        # Update the value function with the newly computed values\n",
        "        V = v_temp.clone()\n",
        "\n",
        "        # Append the current value function to the history for analysis\n",
        "        v_history.append(V)\n",
        "\n",
        "        # Check if the change (delta) is below the convergence threshold\n",
        "        if delta <= threshold:\n",
        "            break\n",
        "\n",
        "    # Return the final value function and the history of updates\n",
        "    return V, v_history"
      ]
    },
    {
      "cell_type": "code",
      "execution_count": 5,
      "metadata": {
        "colab": {
          "base_uri": "https://localhost:8080/"
        },
        "id": "mUkbb8kJXwxT",
        "outputId": "18a4b06a-330d-47a2-d426-238517f4d096"
      },
      "outputs": [
        {
          "name": "stdout",
          "output_type": "stream",
          "text": [
            "The value function under the optimal policy is: \n",
            "[ 1.6785905   0.6259589  -0.48207426]\n"
          ]
        }
      ],
      "source": [
        "# Define the transition probability matrix (T)\n",
        "T = torch.tensor(\n",
        "    [[[0.8, 0.1, 0.1],  # From state 0, action 0 leads to state 0 with 80% probability, state 1 with 10%, state 2 with 10%.\n",
        "      [0.1, 0.6, 0.3]],  # From state 0, action 1 leads to state 0 with 10%, state 1 with 60%, state 2 with 30%.\n",
        "     [[0.7, 0.2, 0.1],  # From state 1, action 0 leads to state 0 with 70%, state 1 with 20%, state 2 with 10%.\n",
        "      [0.1, 0.8, 0.1]],  # From state 1, action 1 leads to state 0 with 10%, state 1 with 80%, state 2 with 10%.\n",
        "     [[0.6, 0.2, 0.2],  # From state 2, action 0 leads to state 0 with 60%, state 1 with 20%, state 2 with 20%.\n",
        "      [0.1, 0.4, 0.5]]]  # From state 2, action 1 leads to state 0 with 10%, state 1 with 40%, state 2 with 50%.\n",
        ")\n",
        "\n",
        "R = torch.tensor([1., 0., -1.])  # State 0 gives a reward of 1, state 1 gives 0, and state 2 gives -1.\n",
        "\n",
        "gamma = 0.5  # Future rewards are discounted by a factor of 0.5.\n",
        "\n",
        "policy_optimal = torch.tensor(\n",
        "    [[1., 0.],  # In state 0, the policy always chooses action 0 (probability 1.0 for action 0, 0.0 for action 1).\n",
        "     [1., 0.],  # In state 1, the policy always chooses action 0.\n",
        "     [1., 0.]]  # In state 2, the policy always chooses action 0.\n",
        ")\n",
        "\n",
        "threshhold = 0.0001  # Stop iterating when the maximum change in value estimates is below this threshold.\n",
        "\n",
        "# Perform policy evaluation to compute the value function under the optimal policy\n",
        "V, _ = policy_evaluation(policy_optimal, T, R, gamma, threshhold)\n",
        "\n",
        "print(f\"The value function under the optimal policy is: \\n{V.numpy()}\")"
      ]
    },
    {
      "cell_type": "code",
      "execution_count": 6,
      "metadata": {
        "colab": {
          "base_uri": "https://localhost:8080/"
        },
        "id": "fPoP3pBfXwvN",
        "outputId": "ee9a1490-83b2-4686-c18e-37c93b07fa12"
      },
      "outputs": [
        {
          "name": "stdout",
          "output_type": "stream",
          "text": [
            "the value function under the optimal policy is: \n",
            "[ 1.2347662   0.26914817 -0.90129805]\n"
          ]
        }
      ],
      "source": [
        "policy_optimal = torch.tensor(\n",
        "    [[.5, .5],\n",
        "     [.5, .5],\n",
        "     [.5, .5]]\n",
        ")\n",
        "\n",
        "V, v_history = policy_evaluation(policy_optimal, T, R, gamma, threshhold)\n",
        "print(f\"the value function under the optimal policy is: \\n{V.numpy()}\")"
      ]
    },
    {
      "cell_type": "code",
      "execution_count": 7,
      "metadata": {
        "colab": {
          "base_uri": "https://localhost:8080/",
          "height": 471
        },
        "id": "Fm_SE4csXwtp",
        "outputId": "dbb3303e-8c73-4945-e3d5-8f07d5f77c77"
      },
      "outputs": [
        {
          "data": {
            "image/png": "[encoded data removed]",
            "text/plain": [
              "<Figure size 640x480 with 1 Axes>"
            ]
          },
          "metadata": {},
          "output_type": "display_data"
        }
      ],
      "source": [
        "# Plot the value function for each state over iterations\n",
        "s0, = plt.plot([v[0] for v in v_history])  # Extract and plot the value of state s0 over all iterations\n",
        "s1, = plt.plot([v[1] for v in v_history])  # Extract and plot the value of state s1 over all iterations\n",
        "s2, = plt.plot([v[2] for v in v_history])  # Extract and plot the value of state s2 over all iterations\n",
        "\n",
        "plt.title(f\"Optimal policy with gamma = {gamma}\")\n",
        "plt.xlabel(\"Iteration\")\n",
        "plt.ylabel(\"Policy values\")\n",
        "plt.legend([s0, s1, s2], [\"State s0\", \"State s1\", \"State s2\"], loc=\"upper left\")\n",
        "plt.show()"
      ]
    },
    {
      "cell_type": "markdown",
      "metadata": {
        "id": "MLWvrUjHZPWX"
      },
      "source": [
        "## **Value iteration algorithm**\n",
        "\n",
        "An MDP is considered solved if it's optinal policy is found. we will figure out the optimal policy for the Frozen Lake environment using **value iteration**\n",
        "\n",
        "The behind this algorithm is quite similar to that of policy evaluation, It is also an iterative algorithm. It starts with arbitrary policy value and the iteratively updates the values base on **Bellman optimality equation**. So in each iteration instead of taking the expectation(average) of values across all actions, it pick the action that achieve the maximal policy values:\n",
        "\n",
        "<br>\n",
        "\n",
        "---\n",
        "\n",
        "$$\n",
        "\\large\\textit{Bellman optimality equations:}\\\\\n",
        "$$\n",
        "\n",
        "$$\n",
        "\\begin{split}\n",
        "    V_{*}(s) & = \\underset{a}{max} \\left[R(s,a) + \\gamma\\sum_{s^{'}}{T(s,a,s^{'})V_{*}(s^{'})}\\right] \\\\\n",
        "    \\text{or} \\\\\n",
        "    \\\\\n",
        "    V_{*}(s) & = \\underset{a}{max} \\sum_{s^{'}}{T(s,a,s^{'})} \\left[R(s,a, s^{'}) + \\gamma V_{*}(s^{'})\\right]\n",
        "\\end{split}\n",
        "$$\n",
        "\n",
        "---\n",
        "\n",
        "<br>\n",
        "\n",
        "Once the optimal values are computed, we can easily obtain the obtimal policy acccordingly:\n",
        "\n",
        "$$\n",
        "\\pi_{*}(s) := \\underset{a}{argmax} \\sum_{s^{'}}{T(s,a,s^{'})}\n",
        "\\left[R(s,a, s^{'}) + \\gamma V_{*}(s^{'})\\right]\n",
        "$$\n",
        "\n",
        "<br>\n",
        "\n",
        "- **Gym Environment**\n",
        "\n",
        "```python\n",
        "env.env.P[s][a] --> Transition_matrix_Prob, next_state, reward, info\n",
        "# If the environment is wrapped with TimeLimit (which FrozenLake often is by default)\n",
        "# To access the P attribute, unwrap the environment:\n",
        "unwrapped_env = env.unwrapped\n",
        "unwrapped_env.P[s][a] --> Transition_matrix_Prob, next_state, reward, info\n",
        "```\n",
        "we going to use above function for value iteration algorithm"
      ]
    },
    {
      "cell_type": "markdown",
      "metadata": {
        "id": "7pkpF6GRbs_u"
      },
      "source": [
        "## **Key Difference Between Policy Evaluation and Value Iteration**\n",
        "\n",
        "1. **Policy Evaluation:**\n",
        "- **Goal**: Compute the value function $V_\\pi(s)$ for a fixed policy $\\pi$, which specifies the probability of taking each action in every state.\n",
        "- **Update Rule**:\n",
        "\n",
        "$$\n",
        "    V_\\pi(s) = \\sum_{a} \\pi(a|s) \\sum_{s{'}} P(s{'}|s, a) \\left[ R(s, a, s{'}) + \\gamma V_\\pi(s{'}) \\right]\n",
        "$$\n",
        "> *Input*: A fixed policy $\\pi$. <br> *Output*: The value function $V_\\pi(s)$ for that policy.\n",
        "\n",
        "<br>\n",
        "\n",
        "2. **Value Iteration:**\n",
        "- **Goal**: Find the optimal value function $V(s)$ and derive the optimal policy $\\pi$.\n",
        "\n",
        "- **Update Rule**:  It iteratively computes the optimal value function by taking the maximum over all possible actions.\n",
        "\n",
        "$$\n",
        "V_*(s) = \\max_a \\sum_{s{'}} P(s{'}|s, a) \\left[ R(s, a, s{'}) + \\gamma V(s{'}) \\right]\n",
        "$$\n",
        "\n",
        "> *Input*: The environment’s dynamics (transition probabilities and rewards). <br> *Output*: The optimal value function $V_*(s)$.\n",
        "\n",
        "\n",
        "Function |  What It Does | When to Use It\n",
        "---------|---------------|---------------\n",
        "value_iteration | Directly computes the optimal value function $V_*$ | When you want to skip policy iteration and go straight to optimal values\n",
        "policy_evaluation | Evaluates how good a specific policy $\\pi$ is (computes $V_π$)| Used within policy iteration, between policy improvement steps"
      ]
    },
    {
      "cell_type": "code",
      "execution_count": 14,
      "metadata": {
        "id": "vZbtAqqaZNJ7"
      },
      "outputs": [],
      "source": [
        "def value_iteration(env, gamma, threshold):\n",
        "    \"\"\"\n",
        "    Performs value iteration to compute the optimal value function.\n",
        "\n",
        "    Parameters:\n",
        "        env: The environment object (assumed to follow OpenAI Gym's structure).\n",
        "        gamma: The discount factor (0 <= gamma < 1).\n",
        "        threshold: The convergence threshold for stopping the algorithm.\n",
        "\n",
        "    Returns:\n",
        "        V: The optimal value function for the environment.\n",
        "    \"\"\"\n",
        "    n_state = env.observation_space.n # Number of states in the environment\n",
        "    n_action = env.action_space.n # Number of actions in the environment\n",
        "\n",
        "    # Initialize the value function to zero for all states\n",
        "    V = torch.zeros(n_state)\n",
        "    # If the environment is wrapped with TimeLimit (which FrozenLake often is by default)\n",
        "    # To access the P attribute, unwrap the environment:\n",
        "    unwrapped_env = env.unwrapped\n",
        "\n",
        "    # Start the value iteration loop\n",
        "    while True:\n",
        "        # Temporary value function to store updated values\n",
        "        v_temp = torch.empty(n_state)\n",
        "\n",
        "        # Iterate over each state in the environment\n",
        "        for state in range(n_state):\n",
        "            # Compute the value for each action in the current state\n",
        "            v_action = torch.zeros(n_action)\n",
        "            for action in range(n_action):\n",
        "                # Iterate over all possible transitions for the (state, action) pair\n",
        "                for T_prob, s_prime, R, _ in unwrapped_env.P[state][action]:\n",
        "                    # Add the contribution of each transition to the action value\n",
        "                    v_action[action] += T_prob * (R + gamma * V[s_prime].item())\n",
        "\n",
        "            # Take the maximum action value as the new value for the current state\n",
        "            v_temp[state] = torch.max(v_action)\n",
        "\n",
        "        # Compute the maximum change in value across all states (convergence check)\n",
        "        delta = torch.max(torch.abs(V - v_temp))\n",
        "\n",
        "        # Update the value function\n",
        "        V = v_temp.clone()\n",
        "\n",
        "        # Stop iterating if the maximum change is below the threshold\n",
        "        if delta <= threshold:\n",
        "            break\n",
        "\n",
        "    # Return the optimal value function\n",
        "    return V"
      ]
    },
    {
      "cell_type": "markdown",
      "metadata": {
        "id": "nOqgk-JCElo0"
      },
      "source": [
        "## **Policy imporovement**\n",
        "\n",
        "In the previous sections (value iteration and policy evaluation), after starting with a random policy, we getting $V(s)$ for a given policy. Instead of followinga random policy $\\pi(a|s)$, now we look at the value of taking $|A|$ number of actions individually. These are the action value ($q(s,a )$) of each action we can take in our environment:\n",
        "\n",
        "$$\n",
        "    \\large q(s, a) = \\sum_{s^{'}, a}p(s^{'},r|s, a) \\left[ r + \\gamma v_{\\pi}(s^{'}) \\right]\n",
        "$$\n",
        "\n",
        "If any of the $q(s, a)$ is greater than the current state value $v_π(s)$, it means that current policy $π(a| s)$ is not taking the optimal action. So Taking the q-value with max action (**Greedy step**) vlaue and defining this to be the policy in state $S$ will give a higher state value compared to the current policy $π(a| s)$:\n",
        "\n",
        "$$\n",
        "    \\large \\pi^{'}(a|s) = \\underset{a}{\\textit{argmax}} \\ q(s, a)\n",
        "$$"
      ]
    },
    {
      "cell_type": "code",
      "execution_count": 15,
      "metadata": {
        "id": "7GxXGI36EmQa"
      },
      "outputs": [],
      "source": [
        "def policy_improvment(env, optimal_value, gamma):\n",
        "    \"\"\"\n",
        "    Performs policy improvement based on a given optimal value function.\n",
        "\n",
        "    Parameters:\n",
        "        env: The environment object (assumed to follow OpenAI Gym's structure).\n",
        "        optimal_value (torch.Tensor): The optimal value function computed previously.\n",
        "        gamma (float): The discount factor (0 <= gamma < 1).\n",
        "\n",
        "    Returns:\n",
        "        policy (torch.Tensor): The improved policy, where each entry represents the optimal action for a given state.\n",
        "    \"\"\"\n",
        "    n_state = env.observation_space.n # Number of states in the environment\n",
        "    n_action = env.action_space.n # Number of actions in the environment\n",
        "\n",
        "    # If the environment is wrapped with TimeLimit (which FrozenLake often is by default)\n",
        "    # To access the P attribute, unwrap the environment:\n",
        "    unwrapped_env = env.unwrapped\n",
        "\n",
        "    # Initialize the policy as a tensor of zeros (one action per state)\n",
        "    policy = torch.zeros(n_state)\n",
        "\n",
        "    # Iterate over each state in the environment\n",
        "    for state in range(n_state):\n",
        "        # Initialize a tensor to store the value of each action in the current state\n",
        "        v_action = torch.zeros(n_action)\n",
        "\n",
        "        # Iterate over all possible actions for the current state\n",
        "        for action in range(n_action):\n",
        "            # Iterate over all possible transitions for the (state, action) pair\n",
        "            for T_prob, s_prime, R, _ in unwrapped_env.P[state][action]:\n",
        "                # Compute the action value using the Bellman optimality equation:\n",
        "                # Q(s, a) = Σ_s' P(s'|s, a) * [R(s, a, s') + γ * V(s')]\n",
        "                v_action[action] += T_prob * (R + gamma * optimal_value[s_prime].item())\n",
        "\n",
        "        # Choose the action with the highest value (greedy policy)\n",
        "        policy[state] = torch.argmax(v_action)\n",
        "\n",
        "    # Return the improved policy\n",
        "    return policy"
      ]
    },
    {
      "cell_type": "code",
      "execution_count": 17,
      "metadata": {
        "id": "Oj3CZKkeZND8"
      },
      "outputs": [],
      "source": [
        "def run_episode(env, policy):\n",
        "    \"\"\"\n",
        "    Executes a single episode in the environment using a given policy.\n",
        "\n",
        "    Args:\n",
        "        env (gym.Env): The environment to run the episode in.\n",
        "        policy (dict or array): A mapping from states to actions (or action probabilities).\n",
        "                              If policy[state] is a tensor, .item() is used to extract the scalar value.\n",
        "\n",
        "    Returns:\n",
        "        float: The total reward accumulated during the episode.\n",
        "\n",
        "    Operation:\n",
        "        1. Resets the environment to start a new episode.\n",
        "        2. Interacts with the environment until the episode terminates.\n",
        "        3. Follows the policy's action selection at each state.\n",
        "        4. Accumulates rewards received during the episode.\n",
        "    \"\"\"\n",
        "    # Initialize the environment and get the starting state\n",
        "    state, _ = env.reset()\n",
        "\n",
        "    # Initialize total reward counter\n",
        "    total_reward = 0\n",
        "\n",
        "    # Initialize termination flag\n",
        "    done = False\n",
        "\n",
        "    # Run the episode until termination\n",
        "    while not done:\n",
        "        # Select action according to the policy for the current state\n",
        "        # .item() converts a tensor to a Python scalar if needed\n",
        "        action = policy[state].item()\n",
        "\n",
        "        # Execute the action in the environment\n",
        "        # Returns: next_state, reward, done_flag, additional_info\n",
        "        state, reward, done, _ = env.step(action)\n",
        "\n",
        "        # Accumulate the reward\n",
        "        total_reward += reward\n",
        "\n",
        "    # Return the total reward obtained in this episode\n",
        "    return total_reward"
      ]
    },
    {
      "cell_type": "code",
      "execution_count": null,
      "metadata": {
        "id": "xfh2mC8XZNAU"
      },
      "outputs": [],
      "source": [
        "# import os\n",
        "# os.environ[\"SDL_VIDEODRIVER\"] = \"dummy\""
      ]
    },
    {
      "cell_type": "markdown",
      "metadata": {
        "id": "vw219mY6l5ZP"
      },
      "source": [
        "## **Frozen Lake Environment**\n",
        "<center><img align=\"right\" width=\"200\" src=\"https://www.gymlibrary.dev/_images/frozen_lake.gif\">\n",
        "\n",
        "<br>\n",
        "\n",
        "|                   |            |\n",
        "|-------------------|--------------|\n",
        "| action Space      | Discrete(4) |\n",
        "| Observation Space | Discrete(16) |\n",
        "| Import            | `gym.make(\"FrozenLake-v1\")` |\n"
      ]
    },
    {
      "cell_type": "code",
      "execution_count": 33,
      "metadata": {
        "id": "MkGiNGdd5URC"
      },
      "outputs": [],
      "source": [
        "env = create_env(\"FrozenLake-v1\")\n",
        "gamma = 0.99\n",
        "threshhold = 0.0001\n",
        "v_optimal = value_iteration(env, gamma, threshhold)\n",
        "optimal_policy = policy_improvment(env, v_optimal, gamma).long()"
      ]
    },
    {
      "cell_type": "code",
      "execution_count": 30,
      "metadata": {
        "colab": {
          "base_uri": "https://localhost:8080/",
          "height": 49,
          "referenced_widgets": [
            "95ca53cafcad4e5f821a22cc44919f27",
            "1feaa169394647e997d49782480d29f3",
            "b3be0815f689464591aa4af42365513a",
            "985e82ed59d446e7873908dc3c97a99b",
            "9134ee3c9a8840a4af3abb17728bb86b",
            "fb410603cadc417bbb1db9ccf2c10595",
            "e2cb4a825bb249b6acb6ce33d253f7ee",
            "af77ffd2fc5d4398bc85fc3e14ced652",
            "1c7d2d5a155742cf8b5208ae81692a72",
            "90d710563e5d49688ea9c3ef802a49e6",
            "d8ef75a03bc3488892a922c68f227cc8"
          ]
        },
        "id": "DSiqldHBuvTj",
        "outputId": "a47a5ea1-cbe0-4c19-a9c2-8c7ca0629b88"
      },
      "outputs": [
        {
          "data": {
            "application/vnd.jupyter.widget-view+json": {
              "model_id": "95ca53cafcad4e5f821a22cc44919f27",
              "version_major": 2,
              "version_minor": 0
            },
            "text/plain": [
              "Episode:   0%|          | 0/500 [00:00<?, ?it/s]"
            ]
          },
          "metadata": {},
          "output_type": "display_data"
        }
      ],
      "source": [
        "env = create_env(\"FrozenLake-v1\", record = True, eps_record=50)\n",
        "n_episode = 500\n",
        "total_rewards = []\n",
        "\n",
        "pbar = tqdm(range(n_episode), desc=\"Episode\")\n",
        "for episode in pbar:\n",
        "    R = run_episode(env, optimal_policy)\n",
        "    total_rewards.append(R)\n",
        "\n",
        "    # Compute and print the average total reward over past 50 completed episodes\n",
        "    start = episode - 50 if episode > 50 else 0\n",
        "    avg_tot_reward = np.array(total_rewards[start:]).mean()\n",
        "    pbar.set_description(f\"Average reward over past 50 episodes: {avg_tot_reward:.2f}\")\n"
      ]
    },
    {
      "cell_type": "code",
      "execution_count": 20,
      "metadata": {
        "colab": {
          "base_uri": "https://localhost:8080/",
          "height": 620
        },
        "id": "SHy6sFKWXwrn",
        "outputId": "5670474e-d73f-419f-b6f8-99e5a8915aca"
      },
      "outputs": [
        {
          "data": {
            "text/html": [
              "<video width=\"600\"\" controls><source src=\"data:video/mp4;base64,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\"></video>"
            ],
            "text/plain": [
              "<IPython.core.display.HTML object>"
            ]
          },
          "execution_count": 20,
          "metadata": {},
          "output_type": "execute_result"
        }
      ],
      "source": [
        "display_video(450)"
      ]
    },
    {
      "cell_type": "markdown",
      "metadata": {
        "id": "gSBaeZHoZeEj"
      },
      "source": [
        "## **Policy iteration algorithm**\n",
        "this algorithm can be divided into two components:\n",
        "1. policy evaluation\n",
        "2. policy improvment\n",
        "\n",
        "It starts with an arbitrary policy, And each iteration, It first computes the policy values given the latest policy, Based on the $\\normalsize\\textit{Bellman expectation equation}$; It then extract an improved policy out the resulting policy values, Based on the $\\normalsize\\textit{Bellman optimality equation}$. It iteratively evaluates the policy and generates an improved version until the policy doesn't change any more.\n",
        "\n",
        "<br>\n",
        "\n",
        "$$\n",
        "\\large \\textit{Bellman expectation equation:}\\\\\n",
        "V(s) = \\sum_{a}{\\pi(s, a)\\left[R(s,a) +\n",
        "\\gamma\\sum_{s^{'}}{T(s,a,s^{'})V(s^{'})}\\right]}\n",
        "$$\n",
        "\n",
        "<br>\n",
        "\n",
        "$$\n",
        "\\large\\textit{Bellman optimality equation}\\\\\n",
        "\\pi_{*}(s) := argmax_{a}\\sum_{s^{'}}{T(s,a,s^{'})}\n",
        "\\left[R(s,a, s^{'}) + \\gamma V_{*}(s^{'})\\right]\n",
        "$$\n",
        "\n",
        "<br>\n",
        "<br>\n",
        "\n",
        "now we implement Policy evaluation and Policy imporovement multiple time:\n",
        "\n",
        "<br>\n",
        "\n",
        "$$\n",
        "    \\large \\pi_0 \\xrightarrow{evaluation} v_{\\pi_0} \\xrightarrow{improve} \\pi_1 \\xrightarrow{evaluation} v_{\\pi_1} \\xrightarrow{improve} \\pi_2 ...  \\pi_* \\xrightarrow{evaluation} v_{*}\n",
        "$$"
      ]
    },
    {
      "cell_type": "code",
      "execution_count": 25,
      "metadata": {
        "id": "RMQBzpEcxiZm"
      },
      "outputs": [],
      "source": [
        "def policy_evaluation(env, policy, gamma, threshold):\n",
        "    \"\"\"\n",
        "    Evaluates a policy by estimating its state-value function V^π using iterative policy evaluation.\n",
        "\n",
        "    Args:\n",
        "        env (gym.Env): The environment with known dynamics (env.P)\n",
        "        policy (torch.Tensor): Current policy mapping states to actions\n",
        "        gamma (float): Discount factor (0 ≤ γ ≤ 1)\n",
        "        threshold (float): Convergence threshold for value function estimation\n",
        "\n",
        "    Returns:\n",
        "        torch.Tensor: Estimated state-value function V^π for the given policy\n",
        "\n",
        "    Process:\n",
        "        1. Initializes value function V(s) arbitrarily (zeros)\n",
        "        2. Iteratively updates V(s) using Bellman expectation equation:\n",
        "           V(s) = Σ P(s'|s,π(s)) * [R + γV(s')]\n",
        "        3. Stops when maximum value change between iterations < threshold\n",
        "    \"\"\"\n",
        "    n_state = env.observation_space.n\n",
        "    V = torch.zeros(n_state)  # Initialize value function\n",
        "\n",
        "    # If the environment is wrapped with TimeLimit (which FrozenLake often is by default)\n",
        "    # To access the P attribute, unwrap the environment:\n",
        "    unwrapped_env = env.unwrapped\n",
        "\n",
        "    while True:\n",
        "        v_temp = torch.zeros(n_state)  # Temporary storage for new values\n",
        "\n",
        "        # Update each state's value\n",
        "        for state in range(n_state):\n",
        "            action = policy[state].item()  # Action prescribed by policy\n",
        "\n",
        "            # Sum over possible transitions (s' = next state)\n",
        "            for trans_prob, next_state, reward, _ in unwrapped_env.P[state][action]:\n",
        "                v_temp[state] += trans_prob * (reward + gamma * V[next_state].item())\n",
        "\n",
        "        # Check convergence\n",
        "        delta = torch.max(torch.abs(V - v_temp))\n",
        "        V = v_temp.clone()\n",
        "        if delta <= threshold:\n",
        "            break\n",
        "\n",
        "    return V"
      ]
    },
    {
      "cell_type": "code",
      "execution_count": 26,
      "metadata": {
        "id": "MsLeyUTNvret"
      },
      "outputs": [],
      "source": [
        "def policy_improvment(env, optimal_value, gamma):\n",
        "    \"\"\"\n",
        "    Performs policy improvement based on a given optimal value function.\n",
        "\n",
        "    Parameters:\n",
        "        env: The environment object (assumed to follow OpenAI Gym's structure).\n",
        "        optimal_value (torch.Tensor): The optimal value function computed previously.\n",
        "        gamma (float): The discount factor (0 <= gamma < 1).\n",
        "\n",
        "    Returns:\n",
        "        policy (torch.Tensor): The improved policy, where each entry represents the optimal action for a given state.\n",
        "    \"\"\"\n",
        "    n_state = env.observation_space.n # Number of states in the environment\n",
        "    n_action = env.action_space.n # Number of actions in the environment\n",
        "\n",
        "    # If the environment is wrapped with TimeLimit (which FrozenLake often is by default)\n",
        "    # To access the P attribute, unwrap the environment:\n",
        "    unwrapped_env = env.unwrapped\n",
        "\n",
        "    # Initialize the policy as a tensor of zeros (one action per state)\n",
        "    policy = torch.zeros(n_state)\n",
        "\n",
        "    # Iterate over each state in the environment\n",
        "    for state in range(n_state):\n",
        "        # Initialize a tensor to store the value of each action in the current state\n",
        "        v_action = torch.zeros(n_action)\n",
        "\n",
        "        # Iterate over all possible actions for the current state\n",
        "        for action in range(n_action):\n",
        "            # Iterate over all possible transitions for the (state, action) pair\n",
        "            for T_prob, s_prime, R, _ in unwrapped_env.P[state][action]:\n",
        "                # Compute the action value using the Bellman optimality equation:\n",
        "                # Q(s, a) = Σ_s' P(s'|s, a) * [R(s, a, s') + γ * V(s')]\n",
        "                v_action[action] += T_prob * (R + gamma * optimal_value[s_prime].item())\n",
        "\n",
        "        # Choose the action with the highest value (greedy policy)\n",
        "        policy[state] = torch.argmax(v_action)\n",
        "\n",
        "    # Return the improved policy\n",
        "    return policy"
      ]
    },
    {
      "cell_type": "code",
      "execution_count": 27,
      "metadata": {
        "id": "1STWR8mBJ6qZ"
      },
      "outputs": [],
      "source": [
        "def policy_iteration(env, gamma, threshhold):\n",
        "    \"\"\"\n",
        "    Performs policy iteration to compute the optimal policy and value function.\n",
        "\n",
        "    Parameters:\n",
        "        env: The environment object (assumed to follow OpenAI Gym's structure).\n",
        "        gamma (float): The discount factor (0 <= gamma < 1).\n",
        "        threshhold (float): The convergence threshold for stopping the policy evaluation step.\n",
        "\n",
        "    Returns:\n",
        "        V (torch.Tensor): The optimal value function for the environment.\n",
        "        improved_policy (torch.Tensor): The optimal policy derived through policy iteration.\n",
        "    \"\"\"\n",
        "    n_state = env.observation_space.n # Number of states in the environment\n",
        "    n_action = env.action_space.n # Number of actions in the environment\n",
        "\n",
        "    # Initialize a random policy with shape (n_state,)\n",
        "    # Each state is assigned a random action initially\n",
        "    policy = torch.randint(high=n_action, size=(n_state,)).float()\n",
        "\n",
        "    # Start the policy iteration loop\n",
        "    while True:\n",
        "        # Evaluate the current policy to compute the value function\n",
        "        V = policy_evaluation(env, policy, gamma, threshhold)\n",
        "\n",
        "        # Improve the policy based on the computed value function\n",
        "        improved_policy = policy_improvment(env, V, gamma)\n",
        "\n",
        "        # Check if the policy has converged (no changes in policy)\n",
        "        if torch.equal(improved_policy, policy):\n",
        "            # Return the optimal value function and policy\n",
        "            return V, improved_policy\n",
        "\n",
        "        # Update the policy for the next iteration\n",
        "        policy = improved_policy"
      ]
    },
    {
      "cell_type": "markdown",
      "metadata": {
        "id": "_OOEuwEEoKsN"
      },
      "source": [
        "**Algorithm** | **Bellman Equation** | **Type of Problem**\n",
        "-------------|----------------------|--------------------\n",
        "Iterative policy evaluation | expectation equations | prediction\n",
        "Policy iteration | expectation equations and greedy improvement | Control\n",
        "Value iteraion | optimality equationn | Control"
      ]
    },
    {
      "cell_type": "code",
      "execution_count": 28,
      "metadata": {
        "colab": {
          "base_uri": "https://localhost:8080/"
        },
        "id": "3ENGDHfdZd5W",
        "outputId": "b0611645-4813-43cd-8aae-55d69b93cec8"
      },
      "outputs": [
        {
          "name": "stdout",
          "output_type": "stream",
          "text": [
            "Optimal value: \n",
            "tensor([0.5404, 0.4966, 0.4681, 0.4541, 0.5569, 0.0000, 0.3572, 0.0000, 0.5905,\n",
            "        0.6421, 0.6144, 0.0000, 0.0000, 0.7410, 0.8625, 0.0000])\n",
            "\n",
            "optimal policy: \n",
            "tensor([0., 3., 3., 3., 0., 0., 0., 0., 3., 1., 0., 0., 0., 2., 1., 0.])\n",
            "\n"
          ]
        }
      ],
      "source": [
        "env = create_env(\"FrozenLake-v1\")\n",
        "gamma = 0.99\n",
        "threshhold = 0.0001\n",
        "v_optimal, policy_improved = policy_iteration(env, gamma, threshhold)\n",
        "\n",
        "print(f\"Optimal value: \\n{v_optimal}\\n\")\n",
        "print(f\"optimal policy: \\n{policy_improved}\\n\")"
      ]
    },
    {
      "cell_type": "code",
      "execution_count": 31,
      "metadata": {
        "colab": {
          "base_uri": "https://localhost:8080/",
          "height": 49,
          "referenced_widgets": [
            "a2e771d3e0864331b9501a76fc31db3e",
            "e7d90c449e1e4d7c8b940e2973868b40",
            "5a219e04016f480d9db087bc932bfa2a",
            "114abfc399a1457f82d42001776bf615",
            "6c0b2abc4fe544dab5d242e3910c38bf",
            "7c6c4cf7675f43568dcc2a0c849e96bc",
            "aac6fb5f50844617aa55ff3d23722cc9",
            "6790845ebbe54130a62ed9c366c7c281",
            "09a1b6ec895344849a3f90fc6444a2af",
            "1bb2126521534738b988f4bd508154eb",
            "79e32a50410646878cbf7caf1429b9d9"
          ]
        },
        "id": "85bQnEeBZd3R",
        "outputId": "783756fb-2333-4529-8e10-1a5fd3cd9646"
      },
      "outputs": [
        {
          "data": {
            "application/vnd.jupyter.widget-view+json": {
              "model_id": "a2e771d3e0864331b9501a76fc31db3e",
              "version_major": 2,
              "version_minor": 0
            },
            "text/plain": [
              "  0%|          | 0/500 [00:00<?, ?it/s]"
            ]
          },
          "metadata": {},
          "output_type": "display_data"
        }
      ],
      "source": [
        "n_episode = 500\n",
        "total_rewards = []\n",
        "pbar = tqdm(range(n_episode))\n",
        "for episode in pbar:\n",
        "    R = run_episode(env, policy_improved.long())\n",
        "    total_rewards.append(R)\n",
        "\n",
        "    # Compute and print the average total reward over past 50 completed episodes\n",
        "    start = episode - 50 if episode > 50 else 0\n",
        "    avg_tot_reward = np.array(total_rewards[start:]).mean()\n",
        "    pbar.set_description(f\"Average reward over past 50 episodes: {avg_tot_reward:.2f}\")"
      ]
    },
    {
      "cell_type": "code",
      "execution_count": 32,
      "metadata": {
        "colab": {
          "base_uri": "https://localhost:8080/",
          "height": 620
        },
        "id": "EWuv-VYaZdy4",
        "outputId": "e34f9f50-9a6a-4545-b852-75789bac15e3"
      },
      "outputs": [
        {
          "data": {
            "text/html": [
              "<video width=\"600\"\" controls><source src=\"data:video/mp4;base64,AAAAIGZ0eXBpc29tAAACAGlzb21pc28yYXZjMW1wNDEAAAAIZnJlZQAAcSJtZGF0AAACrQYF//+p3EXpvebZSLeWLNgg2SPu73gyNjQgLSBjb3JlIDE2MyByMzA2MCA1ZGI2YWE2IC0gSC4yNjQvTVBFRy00IEFWQyBjb2RlYyAtIENvcHlsZWZ0IDIwMDMtMjAyMSAtIGh0dHA6Ly93d3cudmlkZW9sYW4ub3JnL3gyNjQuaHRtbCAtIG9wdGlvbnM6IGNhYmFjPTEgcmVmPTMgZGVibG9jaz0xOjA6MCBhbmFseXNlPTB4MzoweDExMyBtZT1oZXggc3VibWU9NyBwc3k9MSBwc3lfcmQ9MS4wMDowLjAwIG1peGVkX3JlZj0xIG1lX3JhbmdlPTE2IGNocm9tYV9tZT0xIHRyZWxsaXM9MSA4eDhkY3Q9MSBjcW09MCBkZWFkem9uZT0yMSwxMSBmYXN0X3Bza2lwPTEgY2hyb21hX3FwX29mZnNldD0tMiB0aHJlYWRzPTMgbG9va2FoZWFkX3RocmVhZHM9MSBzbGljZWRfdGhyZWFkcz0wIG5yPTAgZGVjaW1hdGU9MSBpbnRlcmxhY2VkPTAgYmx1cmF5X2NvbXBhdD0wIGNvbnN0cmFpbmVkX2ludHJhPTAgYmZyYW1lcz0zIGJfcHlyYW1pZD0yIGJfYWRhcHQ9MSBiX2JpYXM9MCBkaXJlY3Q9MSB3ZWlnaHRiPTEgb3Blbl9nb3A9MCB3ZWlnaHRwPTIga2V5aW50PTI1MCBrZXlpbnRfbWluPTQgc2NlbmVjdXQ9NDAgaW50cmFfcmVmcmVzaD0wIHJjX2xvb2thaGVhZD00MCByYz1jcmYgbWJ0cmVlPTEgY3JmPTIzLjAgcWNvbXA9MC42MCBxcG1pbj0wIHFwbWF4PTY5IHFwc3RlcD00IGlwX3JhdGlvPTEuNDAgYXE9MToxLjAwAIAAAFneZYiEACP/l4/cP/npeKso/TLn1c9E3te6BD2g6RkeycUtxlzy1vdr+JrkPv8pGUgzmD7KQeVc2Xdg0mr1JgR2H0yHUKFZgU57/emjD2eJZVMfqUNNlWyNDUl+ZfkaiIkIyNZvzzNPx3Tmz3wlcJOnFzTYbA7in6puSCzt1NjQN31nN6qw2ykVApsKELLOblcwUcLDm5Yt5Pa0saPS49jddyHroWe4r99NY+PEj2x/wO4e7WZG/sF6yLnQFNsAnBIzVDi/ZPGJkEJS1OatTsrvMaZ/Wt5n0fDRK5bHT4U8hPY0nZ4XYjflsKJZifgssHmY1OnV40os3Z5/OSk2RyMv2oKuYA8lY7brVftb52jvBTboNwXta6rEbZ+QfFQ97K4TMJVqTEaadcPpP1w/yw75hv+dQ2efpkNiv14P4lBeKE18y73RBlbsANrE+XUaZleTjGPAyndyXZ9vMMaPg1zN1YMF2pK2o591cOuvpxPWKI/hGy3wQwekOsMghIUREekDpOfzVJmyfC5sIathct1IZxIn8OVUqgUCuBIMokiOR35M8myHRR+CmZEC8jntSXcoAzEnTfK3mCJDgQyW040BqYJEsNBadV76PncSVmF9cBooNhxfcwsQWk6yX2nUNPNStzFYQQtOeneKpFQ/IdEp2dYtjPCk+fjnsv/NnqkMvCmftoqEGq70eSY/SpzQq/4IsrVOwJA13X9dqWf41/egL50j1w7ZPCzOWH8PSEO5MvjMGDJvkf21Q2t+MvFGueuciYj8CH7U+wPGgS+7hujmAvlcL6cd8TQEVwR6XiB9hft/eLeSEV4/gE0ICXVS+8nReJUdSvPccqxus2Mj6E6mtzadkZwD4BVcxv9jyazB+eFKG3C3RbXqFK6TlySoSCy0d7180z5GtTm0t/vgyUTyxg6Y5z/NkTlMYGBCP99ybqalkKjM/tsV5xIaBJne2uuAmnCEwCIlsnaxZmSo/bbqL9sSkwxkCDCQTxsMTAgozWx3qJSKAKohDhu4HZ1c4ROKYMISGegGpq+DkqqGkpOpDrhqeDwmCVwcBJ0FnUCDxNUh6Lq6opxuqXJXem2j+O2Q4juaW6PPYu0TSebzazpK/54yHQAZSPLiY12Jk+uvTnGvkdGL1tUCLg3F3bAYD8j/ewCXTLNycNWZwIABTwc7rltdnidsqBMNiWzA+cLeaZuEI2U9KuYK3Jo482xHW9uPo+TKBw/BpjzXqscBM6liRFoeB0laaTVdNC2MQR5QqsbraEHQsaziaHE1tXKrzD6y2fRPBTTfbTNEgb7pscYYh8HdvdjnTdyMZY//V8DzhLKW/PrMJ/abILLYpwlp9rle5mUnFCKNLV6k94w1QNVvM9OJE/hwdWPt8L/Hi816ZtDM17QVCP3gdYDVuh+DwZQr/zBQ03zCi/y/wpwwA1UKobHsAcl9Yd+Ltb4ynk3HDOEbx4+2PXUp39J1kvtOoYhrthR3NRDJuLJIOEljIhJJkD7m548Fp61GrFxXXjmTbJeeLDpeThMxcbxflCTSGI8tUMWJeQk7r+u1LMHm8LoC+dI9V91wetf9gnG02INNTsZa8BTP1ejKbhwdVvjW1zAFK1x8lAw4alutiPXcFZ3TG4w39l4AIV7ouPLLVyedoFj5Tp/GND/YHrf8DxYbSs4imx8pQkhnmbj6eRxM4P1gzbyGdICF/3CLnIQuEsicy26HaWmH8AFCiKm9hz8EnPCUzsjficHwMyR3yTuJ+WGI2/kn/zsYX3HckeFYaEOFz14ArqgpG7Fuo+sdDwxOLPLVSUcLzkUnPSs4jbZJtRIzQ1FIKL10NKkwYzzaf+CpHljtPfpAMD2Vfm/byjqdDUbHBPVpKvkmEbs6pAZpSLDiAfPY4ZleINXhcHhPHK+nOggqpyBPe8H1NoWP3bTOVVWvpg+kqX0DIhNPrHUB6f3B6YbYFA7f0/V5pO4XgU8vzQ/dcirLu5oZTIm8oj2ZcjQdgmUB5PRtLEm8jsLCBqUpgywKsRqnNMlEwRwE5MvMfpxmhGWiS4RGCR/dALI4jravIA2J1C8mLWqthsIFY91o5ZEKLZeIG4PE8vw8fV77le355BOFOJRjLctomOKSid/RCQlJeQ4YHIVupr4h+MCib7TjugmgDll/Nxyf7YhZ7zLpbspDJS052qxY5VnkykpqaG9qKoEZpXMcEjo6am2GHj+BjKCSjOX2dxAFtwUH2DXD/d1/butQ8IZpjOXhlQ2siNyXG/axWBni0jMBKqorCQU0ReePyFgCU/t9b+38xIlyLkkxmBMiQxYrWYTslOKT0XAnB9B/HgxYheP/I3JayL1RCASM7nIUXtIOT0Ma3Y58buZfCBA0HO3k3+NXBjPsVUEM7qE+xN3GI+Ug3RMcPZVBXcJyitqBfugNH9xjor/2j9MDMJsfxDLIq56ADwqescGW92qg9hWzpYduHAwWAeC9Rzdr2zP3pFNLP2NbeZjzhjJU+V4BV6KZXXNdECk9aEeDgX+CDiik04G8l95Zx1Xs/HE+OEwRBndrIM0Zvks6NyJlGa2uIdMvBDilm0WYIhQFQ8EiABUmV0yDC+slS3JXd+IWJIdwe6NJr7hzxM91oCzaIIjEYxE+rUkjBehsYR7LrpcHYzfOr1KXgZybEobxSkRgf5T8eBU63ZKq9GHGczvHNXIDyZGB8rFUWz3jyR7PeVwJbMFv6mxvvdYOfGSjPon1PwutH1RhnpGW1DwQzWRdopmOkTELBAAoLIV8yDeKiowbW6LSZ8R89RKJE/P8EOU11pBQnBD+n9kcXCejABVveVAFASdJY5csqy/YF51FK9uQFHTuZcPYKCl6fWbss8zmnUCx0rby/bVs21YkETlHYW3wdbCxD5F/NS2nK1Xdh4wXj0R1AuPpGP5mP0k9kzabIYAOd3RdG9rYLK5FAYRBhefOUFbEYOwaLirjXL338Or37fy2fuw/xvCjLlz/JXVC2IcKX/rtrRbyngad7UW2fEFtyxcBiCbRZgyAIrfKtwwFSZXTE0OaudZIRoPkfrZwW+RCaTXz+nxND9l8hwb8l9BpMQMchCDuInqrliG13F1homYUcXFmF5JRHyCz+xx8yrLTZk8yiIuygKOb16wQkbx6hIYafFayNM+l3yBXNIvJpu8JlGjXoQ1Zmb8CmE0BYG++//EDnPCVw/967CHW+5lowjzQPwxmADpE7X1j9j2jbyNxSfAryzqtb/OMzigdgshjgw+yteRcaMJeZEnpH20i2KLYhy+TRBU9x0p1Rirqm71pf8jwqGqgnApQbTUBiEbQZPGSXKnMCuex6KrlQ9j7L9k8RDXY/NONIavPoCq7sWjNdrhKS0CFE2+LLszhPwMHi4L2a4ndtqFy0ab0z0tkPNdbC3BNULc1Nvh1aJAzwL8XwBfx/m6XUtdZdyyzCmvBkNHcq714jGi93Sbre8meqMdmHboPeEX7Fd8EnNKIpEzM02TCDI3RjootFR2hXztQnLTqZi1gHQ8Wscckhlel5ffBtjnMT5T61uFopv06xzA/zgqvz9rlXgXLbcZkqWFBc+kiJHJxmyW++wBW7iaDIOJtZVQNt6AjmvRlW1UefbCxhk0SE4/9+eXEUuZpOzDfQPj0tpRs88WCuoTfAx7RpuGS2IRfc1YCU+MIxbu44Fm09BH4qUYikRCzy8OnrJA4OWOfvn9sAZgykirrjHAQgJMbEpcxbMLWNPSeUO+MtaaaVj1f/EDs5KV3sNLaAun+bllvdIniVSYerYhKTh2vqhve26gFjVe+PxDaJdqS7qleWE+z0e7Gr37N0sH+5ppZrRYW4bZz2XDPokAjKOLz3QCl/V2nvbWxSNEdzqBzCfG9P5xCxTDNT098vdifsagwfgNhKuckGa0+7knWdT+5HzW3EETexQNUs23gU8DWa7CHquVJGun7zgffS7vRbfVbx1ShCPMz95OT6bm3KYcxIQXgnTpZwgKp6dMy1G5o5YN38hgkPjiZAe25vU/VtBEWH0A1D3x/6DSpItSxNcia0g3yAPkmNV9MzNoCj3xwuB1akR1cRcNQem1psp8DJMav865iEtk6Pbn3h5PMHItw+CS2aLkNpaw2p+132AdrUPMa04REuYKf3dHMu7fv2/O3GdYd2Eflx4y9IjDPCqEiXf9oAWaJlqK00oZnWW37dAPSsNXyBUYekV86OOS6kckR4YrxGTzjv8zXpr9Q4fDE08WmInqMcTKfP4tZcoppq5ypTOtxV9wiQ5XypsH9wDYYnNuJkoFIp2C5ngNfphgLA6corm+0GOqeSYw0ktjr1Sqr+ygsGNSS0noxw7xgmXMr/LGvbP2GxPxbl3LIKkS7nPc+VAEiMXB2q8HXngszcMLu0Aw1BLuUGiGDUjwOyWmnTwDSEa0oyp4Ma+mjFa1aNing5PIzYo+jcXYeUGMvcb8OYDW0QBycNcqZrIIOxSIsUC7YVDJxX2TGPPy2q9VwosQVnS41i2Ugkt2SgHKPcm/+A7GTJsW3yQoVmrIgxxk/60r0V56XdGW3GS7cJwQ00UlklHu7PhXTVRYsRayKxOIwkVKvvPf91lpr9wLyCvoi2Smvnnmp2hxEopmF5WAL0owg9GYVktQrd677/MR5puJjVO19v5GYV7iZkNYXxudLjLaz0H2+BK6dnHJr5qxapxHgCxJBlBrHhuUK+j0e3ADF8Gv4QThlV1x0el+CKTLLFbT2IV8Px5XAfZM4L1yKYD/kbbOeydosrs/fJn6/xq+HvbHO9ZCQbC92QAeUKQ9wb5Qz67LJKY8RdU2h95crL7zWtiquu0VpgyhktF3qVAYDznKBjMsmgjmFDYJQGp/zYTQmq4/HN0896aIVkaOTDtkAfavvoga3ZolBBDMOZ5KYKq5TTPfpNPCSLVXfBYd0pRNRBEGVlJW/kGNI4uccXzkgnRMBKXudpnaZSXdABHuDq0OyP45onyykrA28Xk2MlVCmmxlhJdYaU6VtWFpeZ37EDyFhyqlBt9DUODw0R9Kw0VCnn4e+6A7rnDoyDNtwAn/PteGGQf9BmwCtlBwh0S/8r0ZFaJ07n6dr/D2jPIEBjnbBj9uOwYwbXwl8rFhlieZa04VJceKgLCBHZZkr4kaXudhJ6SiWptipmviOwjkMW0UamHGM3HFzOy0Mx+YSCOFShjVKza7FP6O6BPrar60364HSCg0KcAYhFKe7U0hDSXEcTBT5om44Mpant/Vc6l/nZcxn3PqBZwotr0PedxDwOqBbggbFri8utWuTwi2qDF50Y/ZK94I+fTqmpPPNEmEvDNcUny7Jf0yiK1jByiWtPoZAR8DI96v16TCDjV3EUJWue0QLa4iXH4SbPvXUF/6eaZ1xjKLTLWaSaEZebzJDn4mu4EuNQ+2K3OswpN8drEz3e5rbmcWDgeDe9jAt53gLNyN+JrVuyS7laGTDYbjrVXkJQYsNOeg3FiGJxVT7drNrNJUkumSBCHz+TL9hhbd6YYtwTh9cS1aoe3hfH9zKmQE76X4vWELdyL2nm8xXVGrx9+UJUEnZopKHUJFgk165//8lyCVih8mwDuOYJGE7ZBn++bYT6oJdHXc3m/TMphyvqSnonSpZuH4OE7MHJcY2P2IPBIhVpiMV4CVG/wbDksk/+2DP44L69i9gOQeXX9KqgFW5AkWcbpv3o3gEbw2/Caa0/HOyArSid+SOhIQ9rAZ4yjM8CU5mAXZrh0d7lSh0u1dSdwBt7/F77cBrTqrOzLJzI4OrxotLV/i8e5JpcBSd0D0lH4hNuqiUDlnpzFL3E3t1SW/SYnQkDxTqRClThndVyhR6nC1AVvRBh/X+JBrfzX/HmwfTbAq120AzyQF3fs4hvqv9o3VCfSY8jQ9fyLLqATtVvfhopidKAw1C1oQyIg/OGu0GchQqf/If7ePb+TaqNIA/TXq+acoUG2AgcYqpUbv29EAYkvVQf+FAiGPXIQ3VJTEpQ2qm+CTDLaaL6B4NhGwr5PT76Jb6gLuGDscyO2M8VwjMJEMGAW2/+xOpxAFdA7teMYa4ZxY1gU1PMcZYv3mFJ5FdVn0e3ZPZWXlcLqWwR4b9ug4aD3fjxX0/RftnzrdmvcdudOi2JeL2sdMMJiYEFWak7ICtZ9YMXg66FFQmDAv78dbUoUT8JIvgsxIPZmDpIIWmXcazW0o+6+voTr+2bMHtivyCL3pCWHqOq2dj6KPSiUa6vpKNQwL5eXgwN2X5F0lv0mAc7B46ZCCQSxjig7on5uLR81dG7lMmBxm7tmp5G0UqFpDfuBJH97KbtErMYNNlcBY/I4uFxYhq7ok/ILgjyOglilLlAay2UsxpFU8ugH13X5aqpEqMbdv5O25VKGEXpCZUyTo6AbBDXP+jdA4GfBcjF3rB6KscbIm4rSR3+WdyiP5jdDwITZTfoHgyNyIJUaQQnwRprXsAJwgaSXFRI5vCaUeoRp/mgKu6J0Jd1xGTcQmtaa6LxzG83eMswsVERqvACE7FKviP4Q0KZam1vlBTJUrjcv3hIrARqp/qT/OKQ5N6GlAl+P2uFn1J2QFeb6wYYxo0tXjHDJfFQ8WpQ/7guUJkZiQfSbjDbmPkhEXkNMV+3D6Q1z9lQJPXGJaNL0R5XIiBV93MWt1NUQvwTs53z/vb0mogyzExiLpLfpLzXBEli3y7gnf690C1qK8WofNaSF4EvwHTIhH2ceimSKpRaVDAVNUAgPcwAtg02e9sD0mjgBW1TBIE9aiKCGSTYIK8DBXvS/XHjcy8WOIfEyntjr/INCJyzYOKrcfztshTDNUz1MkWLMgmQgjZpoITfRnH5odDgXa7SCXrTmwFRiIL+dK5OfHgl/vTCDEVMqv7vlyxK1G9ErE2ghkl2J3hbTuhCgbFt2oHqUivOMbepN2iTu8moL4sqb0G3Nqea0J+E/zDKtgBaB5nTf0/hwUudyZMmGRGP+/yIl777Zb6KWAPzzuXrPhNvcFSOis9aAPgpZ5HArpMPpbWjt3KYfAmVNawynSA/QlZOO0OUd5GMmfvxveAdc9qFbbugU7wkQiZf0OhEd2ullskD08depjTnNJjo0WUGG0DNBnXf6ekMoz4xKuSw6Nu1rl3zwpeJwY9p7CWqr7b2UFgiGiUZA2JzEC1pX2IOmTInwAT/kKSFb77/4q279Cc0o8sqrFRx0yus3/SQF2/DQqJGj3OpOpI9zMDdAHkD/xmOjYYzkKOUkq3mYLQl2ZrRgLTHyAX3CEYv56ll5n684q4xMulJSA51v6lCUKXIGq2kJ6Eeb3Lpx3Y6scC0sytXBm27bfV/j3UcOFiLNAUOE9lEfQZuT3LcRYAABV8ZRqEXgYYk+YpVAHa0FXWmjhZYsntenpQDYdjapnXEZgLRr2facB/Kdm0Cp173lBgtHUodc2kj9k+SE7E9JdhIev8LkNf3xBBHPlMD6/Tt28tYS3TYqcYqp3WlAWso2CNPqQPObY9JKIVURa8UvJJ+oUsyDvJmz1jhMu50MHcQU+DEFbA/6Kt/tHvmVGFBzhl2kAmd4M9nv+DrZ+NU7/b8oPhSLZOuSo4gwHyMIBCbW7elQRRBGPx3DIkBdIbx1IwxSysowLK2NMU4ItVVPIv02wud5MhYrY/08rzaYLd7qnApqpRvIjAoZASGWibJfwV7eLUEt4wcoCweAAznWHRz4mKsIJ8BpMVbQc1AXQqfjXyapGYltobBfAnyGLN3KQnlwBIwW4Setv9Bp4Sd7mnHCw1B9Ovm7lbppgwvgYi4aumZc6yJ0dX6D4MRYfCFVVOuLOvdRotJVMtge/QYehUxew6of7TuZ5DL27SyuoVV/MW66+Z7yjg2bU8+NU6NRnCU01L5rUdiiXZhC5RdaNc/pUp3jnwjqvknXlAmLG2CAV84LRI1BHHZfxHO/JxKbgy0YlfezHgYYdxZc9G7zpDDPgHiKL5EPoqg62h93ZshkefzECHpY9q62v2XCrXY0Mu/cQZ+nDCN8GAABMzq7t0RHSxAqK2WjSs7VADYb57fHRcHQhQettcQi78v+0tWLtpHE5ZYHAVQ94EYnsU/8XXo+92xiEz60YR19ex7JUl1k+3QBN1ROLYqP6dZzhQWScaNzJnZ4uQPUE2ZdfFyZAZZ4QZxMiA8JHxxpYcUVPAkGMo8GCWsYdVlzVjZDWu2B4Ic0CAfyq+LKuMRIs5ZNS+CNU5FrkmOMvjk9pBHObr8CoiMISFFZ9pXeOx/09ZQkhKyckwpZSlP0KLgn8gCmfYe4Ci+ngYGRQK3NgQWnr+Q5jul+VNw4fSUchRGdbf12l1yjXewqUU2dEhsZ33ifTuURUrz6DE4EyORg2aOeKnsQrbRxJHQ0/BddjJuiHdl1jBpzrMG44MQuRtBUIELLKLF3NP8rlx3/hoLKuntCbDE440m8sNUSAW8DEGDyqGJW4TJ0buLzCBhnBEJX6HLAD+WNcCGh5uq/hjHt7eFV7R726HkVrPm9E+V4jjZx6pLXQIuoW7OEUykbJLrAeOzQhjx241jrJwrrL5A9OJFh9SFtur2+UdDpTYufwQudkj22MEKCvTy/y8ppDhGLfLNrp+IVVnFeT+ZIjNCNY4v8nX3pkDSfHbwIyzyRN1x59/bai/gWkFVb9tOpyqTfxvKdc8OPBqGpBN6Iwf88YgM9UAgeLON62NX6epdAVwzc+YweQ/0eSGLYOzKMnDozqN9iA28ouvj51lxYTOk2YrgTJan3Z39bXoSkZTcS8plh6+nMQihE4FdTnKyOIurKbOWwBBb359blZQMb/9AIlPfeVniSaKuzo/gCOD2H7S0IjPmNxe7wrf7bSYam5xFw5UPCoO1fTiLzztnunHkmUBZ2a4++DN4iyv4XfgfAeEfa+tczBymjrF/ghOE/Hds83o5QfWsOav2rDQp8w+RM76L8/OUJudzK3akwCqqiAQnUlYdyBPOskuljzLHDidJ0AfnfXqNgjNQ6jJlpE30XENs0uXPdzvX1mv2RHEW77Q/Gze4xgqRPyhESv3Gwa3Ecn9JCxceYXx04CnNSECidxjOpHW/TOe3WnwCkdwncafRuHMfFsiE8G4Z1s/tgy/nA8L7UHUXhJfl2nUgyh6PCnBAMsxjb3/c98j+WkhI4SLnHZuyJ/P5Sa0hdTfIvHBmDldk6spjMTxnEXHTXMnQQ8kkhxEVThk9siRVhwmjM34hSpYlSLRl4vKmZVaNjLjZLQRoPOw6W5Ro0kryvFMaTbSXOSsgM9V8gkRs7Pxr0Rj39urYLSdxKBqWHf8V37G/7EWEPwZFHUAI/0CellDzRnci/c2Pmak995kQYDUSy9gJE1SuqHsjyIcTazOJpP0ioff4gj/m7JoqOWdGhFTwBWN9tmGtPVm1mzAF6PDOcbhJM2sbRJaCbzeSuo21Vx9iw+OjPDeBpfrmV9P4gb03o47sFXYJIKED2/aEEs3igfNy92GEx1cDfx7QA5UH0i+2JgWOSc0MA8T4F/+N9CtRnqp8EzTXCAEZq/4Gmtx1hgXeiceLiotq5zKuhAhkZMN1clAFJkfgK0AtXM+8j8mftI8trOwNUwqZJcCiT0cZ1VJg525PbXXhNBEiwhJJuB+ymeKy918u5HevsUejvSN2wu1FAiolsKcaiGOdwpNgbt1cK/608WmD552js6+sawHkzqPYF/2isYXpAFt9wNYek7r5mlZKrNYuG4SG4UVuwDGdUmuW92IV5mjDEvtNotA2DZqWyxDsuwOCXxHJikL3y5x7f47yVNxBIAtd9R5LMxmBJjV64nHqSlsBW11MDS978p9Mx+jMN6PzYNCEqEyBiuTjZ767z7RVid1sfAuMRo2/4JjZkPcUWs3x1/SvVe+J4OR1zPnGQ9aEkxkEd4bHrJM55mLZPkRGZ4zo9TvvsBtrwvVfjzh0MtJvwxiMzVfgfk7Zyl8r5kTML0iGRcDEuRpeXYLvzfb/7BUx2iEF+KciCRod0NPr8Jryp3GOu2MxAD7rwXLIxrR3FVkYg98QCfUQI9uYqEigiaEvpiHxL+6hT9DVsfHkObuaCwYV9T4tg3j4uhM9KzZxyo0IQblNHSvgNDRiPmYTQ6EUq7M7naJU3Up1iJ99UT4cPOCbFK3nIBgNVM/X8qCbFfNX2dsEcEnAIikX86DqyS0L2Vc3A2NGm5M402KWSERoOkZpo9neRruFuUfwIq1AYO2UHTevGsM8eB1IZQFQ4dPWYfz2Y+Re97HmqQwblJmC9O4bzx52Yg9bVm1SW1lK9bjATTcVqZWB4J0nvZ/zLpECNpLXsQOXauGxm81APi/Yp8fAb7liA4Eb1FnMn0PCmLJpzaOPdGR81t4Eu68k5UrJBN+GHE9ASs0sV+my1yUcjLW2EvUCN82aUEJ+Nxr7uGhp8BcZJ9rbNuLnxJW26Ix7+3VsFpO4lA18Mez5LRr28oBQSnWSiyz7JX8vSyh599uRgCUyaP/M0ubIPNEA7pGdfyGX+QfkeRDut6zQ76OszUYS5yVemGdHclcJx32w9ywIYWXd8cLpkF3iiFkvbqCoKvxTXcJ28Guw6g3nodKbFjGj5l6YaLpM9QTD3pvRqBj2l1INUKLkwalEfJqg8F4rAUgLkyL49n9EHk6JAOtsIH4vp+yBsSFbU0hSFQkW4b1BE/3gitpSw8Egr1p7uNIXlMHrHjC/armQQfbxB7//WUqXvJ/NCjDnY6MVbI0SKKp3EV9omSXIe9ddbyB69XOQNGuwT6R6M1mORESf9bapOEer4t8QnQlG56Q7kyZTsfeD7pusRWoZyaTFTitQFsEBiyl2KRfS106WShvYlq963d/cmbU6kC6vQ/yAjENAoIVjEk1G4bhIeiZ67Kah8v4Tj3lWmiCpDSrsBaAXM5Ib/7A3ZI0YAmTi73r5qnspUVkT8zvCIAilUidw8S+otaLCQ5XE+zjO+FHNTE0FCQLIuCvfAyHrOJ2ugB1tBLQ9QyYzXtomqEOpphTMSpH0GuqsAne7yUcS4nxko9AuY9Ky8Mj/NJd3eHmbCFezIYtsO1Ys7aonLAed7dbJE+kJECHB6ubkIPaaVcxSVsAUezFK/V7zE2ZzLuuxGsJY014Bs320UK0cTTyKlWRRJcS+0BKVtZgOm2D/9NGjkCu7PJ2cf6MnYpmjY2Y3R/dBxznMYAO2juZIh5nS8AxabvUGp7JSxx5zfV2//LRLOqsbNPqDmKH72PUQXuIyiTZ6oZI2JC0lF477ylRQm25jteL9+k/FAlovQ3vdS7CX93hZiho5Xucu8OcV2Vd95B17Tfjb/52DD1c7nMbftxzBti9yt/rQFxycr73O/osBYXFOS1dKcIDW705HHPIBKbRAgxZPieRXQ3gOnybP1ahqSp/jHL7V69KZTcw2wFlYuxpBBFbQ1hJ46aTY8D+n8tVaNOxQ5KsYkCtkPpdZDnP071fqCTKROQhF5jgJ2DrZZHuKGNJT80oekUl/diWwcfU0XeDU7z6eVXW0uxPZCgcWxSCZvhSj275uQeUYdCNl94BOaYgQHo+GrlzuaI9UiMnrnM3FBY7WUoG9iqV4LtV5V0Vg3ghT34Y/ayCjUjt1ETNAi+0dcZs89zQFvqDsUARaJySbdk52Cdw4P6CS1tr51TKkBiifJiUMYESBVTWQimnMCkOxY2NKV1S3RKh3MQq1tqgSMT2vwwelgL2lhuK3s30/2AZtcK++XrCF1QtB7iPYKpDFzJ5xW3ru6Y4Cu+UQFoKleHtcp8Zc9ANkZtqZfyeIJdJVGBtiUp5aTVaOcGEM3jrajNgk3K2weV7x3AJ7vGreJuf1HpVyxhlEFcFGJk7kvDzLMr4Mcy+4H8GjbAvBcLVObNickz+VtyFlr6qOe0oMrYGPiv4pYYr1gxb+VSCjMLhWuTXXabIUKDuWiXwnNT/G16jLodBhJXDsCYYziwYi7iIEWHCMVfqYAx/py9FBA/z/yWZR7nqrgv9EsWEajHHfGtRhUi+vMRoT1nGQ/5Bfg63bDEdF5T3KNSqTZtwkBQIhsjlwZAKpygHCwJDa/fiLRcz+MoD53QZyeWqECUSe/76jSTrE45NEmReXQncrA6J9Bntecqyw6A0/1A31q9LnN8DN3zhNv1dh/M2l0f2IgV7AyPWNZg0GPs+rmk3d8X2v/5+/nVi6armnNdxw/+CFWNMNMgrXCozydaAbICkU4m4rprGW97dkzuaXTOV48pfAYbtla7Eho6rY//o8kokleQ0Dpdi0pCEL9QGUdxIzNAbNmmy2LixD+cvICys7TqintEPW3rMBruG1BBP797G77Kg4qUuMfc5ieUnvnLNbtItySZWMLV+J6zHrRE9aIL4bNAc07DBWjkNvxQ6+xCfEzBUEv7Eq9wZ4rtJC0obzgsHylilH7fjRgGZPcVMc042wnyt2Z8bmZKu51X86ZEZiitYBw2/rxeNqzAvb0DDSwhHLW1dmOWMx3oTO6U+FpUQluw+tM/bOeBI/7shHEGieUhXZlLUcvSAYNYNwOU8gQbP/KfvmOkZoVlhgPS/jWkx9ra52RSTxaH++HS8ruH5AyrcSjrU0wr6ciKVyh3MUNzGIaznffGwnyp6+ZbRpLt5avDE0xUaCeXfpX4dUDO9oZqoG96edUeSl1PrndETfrQT7Xhxbdv+t76u7xaQiSXse4IrbfCnGxKNRRvwglVNZCLZcwKRlu4aQfUvO8Zr6rIqteOdei4gTIKKU3vX6IOrP3N8yFgDWSX9Bo45JcX1w3P9R1DNZeFSrnsx3GOAlL0lx4yMB4iGVh1tZ5nxbUYMky0SC4WMyWsc6PmoVHa7nAG+XIo5QBIz3K2wCtwfhAJtL7ZC5WMf0Sm6vkyh/OCjPKuAZjzLMr3Pp6/b+IzRtgTkuFqm1mxOSU/K25Co19U3/KMxZlMNJ7Dhbnf75MoEYq9NM7QE1jgo1B5o7sT4/bplNmSgwKlanbkQYLG0f3MZpLPdxEOSWbVfizxD3ZVot8GmzwZPO3GgTx/Db4H3mz0ridLD5UqUyGkxBWghXvyDtFRjhkpKsLs8RXLzITf2LI9BVnWpQblxEe+mpcYCJJsCAYS9hlSHqIEX3Mai6krrt3LQRvJMd01LcPwj72ALAMmH0C8/Cro3R2vn2WJTALOsE5LgHKEq0e4JyYHz/BDeQfGqs47Pc2guxfWuZSy91vxZ7ymbhY4XKBPTAplyPBRFq6ULtxFt6Q5L749dq1blDhe6rgeutKiX965Jn4X96rZPIlAX3Mbwmhh0oXL7SePJ7inzr0lxRF6//l83CmvJIRmCnx5oHxoGJzE7TS4O139Yp9Vk+xjp4graBnPiuwJHgEjJi6sHjq326Uut4bOQ2uZJqOLoxc+zPUz0zo3wppPQPEUNmBweLV7Dvnn+XGlB9RuCAy+xMufG7QvfebF5n3COB0BY06e3YdE13isixfvB/U1kLgAs3M55epAeSvRsXCt9RDLzZ7Tjq6izsfcT/ufFtSx/9dtDDMhmyQos/JZZJB+SpVKKAyHYmobU7rhl+aqYSTffS1PFLwuF1j0M6CHCuX+035aiph9BpiAcnopwsvWx47OFfi8TV7SKWhL7W6MPdoVnoGSBEWkJX+ymbtmgtqWq2DP4mYI1NFb+/SUnLJ8Ow0tHRpEnRs+U7k8d+AqDbot9bj4JEWRnTbKB5sa1AtfJQQXJXtCaVHpm2CnrhDlMrlU01+R4ZmEwZCDuE5k6eNxQ6rf7maA/FrZBOBdBtkAZgCmwRXRfkMWUmQVJu6NjGsyOIUyy8Y1sTnV3NSUeczZcA/+Ha2AIoGcgjJfpSXYh9BtMqG6Jyzt1kfmuNylmP6f6kPfmMMFZzmvA40ARfzovR0GlTz1c1bgi9+xS7E/3j46FvXtcmAtyUyTF8ro/lK3k8KdVq+wgrkXSVLo2Knd3lZaZga0WH76m461tnUCXwvddgY3YivOVMDHLNhMxt19+kHMpke8qkPCYfUtdNTPr1Fj/KiJSiZCMc8KAbP6P8wgleuINSoUSjAk1mbopbQfcC45riTIwfdCIiOIoKpqb+5Ac5IAbiOPn9mkMcWhZsQPt4TJbkWguqsR7pTK+lbU9Oz8m6MH/vZiBeWcJAm9iHcTXVz/30o1JawPTOF28Lt4eAZ2ZuAd1XWCwps829PKEF9eyosn7ryDMJ9MZUZX5Ms5mmd5rw5pKA1YR74Mb5BYhsqOa+paq/LDoi0MoUdM6LNTa0O8TefqFDosEiRiQBBIQJu8s547Zx0FcXJm4sBfWSih7m6BQ6dEPnTkuPOqQ6SVsHjdf3w/m6wvtEwZcf9sOg0TetMZUDM0mpFTD6We00eNnvvtF9LGJO7cnZ5txIe/FNL0Y3PfGOSeVJNn8smw6U3+sQiaiF/BwpTGGC2MLK9QD1F7T6RFGp1IrEhx9+hggAXBU+bkpDdUlv0jzrTDyac274nn6+JNefm4tVb25C2PtwOWK8fWv/ZsSzrl2Dj8+z3aYf4ySZrI5GDCzcGY/egsAAiFpomhoGk9PI+lcbWQIyaab80J3xL1Xm5jgZaukSEn2WRCQC1g31e1IMfVdvYbDLdP0egt83G5pjoh/h7jQ+gh8CE9WecGQ2oX9UARcvLsUXiBQTD7G9hA9/osWNIOyhc+bSAp9oZz3UStMkgZB/D0nr1/GNxILvhe97AQTGOqcFnvZqSamIy9crIKIXdM/IG5xhyR7s0x2RcMZxCZf2M0T61BvLu2Nu528hgFyxkurEE7PcKrghn9MgKQ6+d2fS7fME2/p55PqOTdNYTb+SerALWN/fsESBoNBPM8WIwiNcAUZjuSYuEj71SGvhvkKcFaeNxQtT//M2ZpUaIA4FrG4W1WALVw9hF+QxSP1hUm7kxpFacPHbWTWVKZsAe9MIKTLXfdod8SKpAtFisc1LeQpWqtEb87QUeiNDK7+z+pqCdzGEIClUF+/NB2oW4aXEOAt+bvwQf+b1Vy7cWJXZNvekD6IAsuKLBgY068+f+krkhdYAeQCLQBCYHNaC/Nfc7FDBtEQ9hqwdnw0V6ajCrZFRvln4AJMV9AH61THmSW6R7LbkEmUyVbzZV8wrUFfT2U5/8hCXNZAbhfOKt6XP4zv8l+ZMRVWCx8q+CgYr/5S8rFmROzF/HV7ae+A19LQcptD1RN5YR3EcfWFOIfKCU8duMCdeAg9Oe9VYj3Sm/tdUtmo1cnrFl51OCfiD+T93A7+JBDtI32w7hU7y8oiCKFc5bNGbTRqvXNvw3B4nOa5yYl2ZdGNomJqq6l+TIYz/1lONhaY7CgrcDKVwq1t4jA6D325ni6r4A8VBgFJeWpN6i82FVbcRWFtIimyNDRQ0/KKlUghriRydGfTI0FQjZeVF5YHfQzOpxdkGlVDdUH4ZzvVPH2hyTwGMTUek6J4ZatqcjvJVnrQB77V9RkTYnlr3skn7ZApKQajtSoOtTnSOP63gNCbyn59lcSPzF/GHc/nqPZBwo/GJOe6TbVLlZ0+FGcl8p+o/UQHk8OTrzPNtVrqqqvmnMDydFF+xMMJ4YM9QJ1kJmfU7ePVB8U40OkMqsRQDIDc1yvfNLpLIhQCbLZP8Qc2kU26gmHz0kFNhvQCvWTAYs5caF59Xm20n2POylLHj5ioJdwCDvxnnwVRD6zS3vcVdpH86XZQWm0/yI8RT8qHcyfJ9URPVmVKk3O6R2HhQwzxFBWC+juDQtkFpfTpwXTsw2mTSXeyZW+sr6Bww254IU7fNWETD8NQWojRIDNSJJClPt+ZA7jUxT05yXUhT8zneTRgvaD3cHVSkZU3nO4OpOmunPzcZpus2wFLaNlWCTpzX31Y/SgY47LZ11eBif9U7EbnuXJ92IxCSLIaPKz6KLT5p1YTWG8nOV+H/8oyNTq32snHrxfcUTudEZoEUOmBn/4w/04YRvy11FNeocpeSJjDtdW3mg9fpI8jHnrN6xMTtAvOQNQnhBBE1x5jGlVTOlzR9iemfhg5TJtffh8zYNYwicp9sNun0JECnHWbbqpI2ZbIkwIOfw9Dckm6yR68HiPr8PSxuHiZZMFz5I/+7Wi52hhIbqe4QwX2DN7nM2cB2i+QEVivacWD1HbK/BLlRGMBi+Fk+NFn5ViPV86VzqcMKG9YbpVMhX//Q+cCpV6i77QnNqjTVJ8ZZ8fEJkPhwpq8ddAV4uH9KbwF36JGwT0uSSjJyBVWtmAbyo6wYQVMhjtwBaS178tJYsFR638LSBRhAo8pTiQg9bcpFWTBKFy8IVo08wEEiRSB9v77IRNCcVQE/h8sB4Cwjr80uYyQggJQYaBoThhh8mqGR71adrCsdlXpATkh9OGEb6+pdKvPVqDm5vJfWaD6mTS1zxlbBgl1WnMuUZxZbj7mNQF2SEqVUPDc4mTvr3b36xD2bcP/1Mx270WSFrhWyCRR8dNJ0r1L5LvomT6Ok4KbdpsL4GPE30PXAHwjHk9vY5aEVvyPdi1jeWDlwedKbqlueP0gpWheaduxbvvuVprQ6fCaAOXCqySOMQwl/Bs299VbQzeIJN3y/by/UcCDcYlVb+nmHZnLlhWOm1zBmq/AU0izxOMWscpcXLBCiCkngAESPp5F0xa4WmMeUhfVZv7hHrEW6pMjifobZhZvSu2uLlSPyap3duGLliI41/4MLvZtjhQ6BtnmqV4oyX9ylwuOrUnnoReknHz69U4m6Fm52YBQA/eTOacfMIA0EoIukCV9fRdI4Ob7GHSkicXHNaZpclsTKquQgJVtgJl+SGKK/2rThT8gURqoK23B/rZX6BSjPvxGBBd9tUX8DxNfic5KjwDHpxqh/dfjpG6UEGKK/DLp3YBajMJZeAmCMK6Q92i0WZhJ6cRJTsLjs1lDKIlbe3MJ2XO27TAjifO14La2IuwS/WOBWuazSskH7r2pziFmXiXt6BxBi/xORC5cFpQkcC95XZUmUHq1QOFKdq037p2XAmzuWaIDegbAcCQTQ2ir4rQnE+qwgBewXmnNowx1WbEzhfSrPg2FttTLga2o27K4E+I8qdek4OnTT2Ai/qWA28L1A8b4aB+JsKRZnj1LcO4g2oYzujKc8tc4gy3MOugduZgU6hd2wUSvW/npUYCJApyoXz5ievCz9T66yB2QePDrTcjTOULPCVme4psmRWsf0GFOA8PnbD6WzN7ias1lJvG8escmc9rDztnunHkXABkOu96ijjd0d2ETwh4Dur8e4SuNFneuSf2ojNHFw8cMvtHcj+lHD+tsGKgnZ3gTGu3AlF8T/herXYt6Olbopu0mdxiuf3my7u+W1WPtkuO5i5M/qYxMPeIQBSjei2aXATMMbR6JRSOG8dwQ4OxedxLZ3QHWxlH9rewNyJLr6ka2Y6tX69iL3L5s4HZP3kYsx4DPHT7x1iE/BJKqlDno81YBznzEsLL3+nQCFlrl/51lXC8Q61g0YprydLb/0soXZHaA/nyibrwp6R32As2iP4oWx9tTwNiDOllLJY6PR/seb8WwhzcZz4QH+bhuBJj4Yd7n+chZCmkqmD4QiMumaEDqyyiVH+xzqhqslB5f+oN22b7UehX67TVrU0hBG/cUACOUpyGUJuyM80MNr9K1phUFYdIM4VCwnxx37XJKhhByQIQl2Iv4h7dp7XMcB/eOgmFmuaJLwEfEKslU6iXFqfXZuwhtAFolwNXGUBI5UkUCzvq3p2rLcWpmtE1msFgBvjim7/XzXrTI3Yg/j8GT3cr7DM10qWg9WFJrcGEJwbbXCe3vceHgZl5LYcUdbPksoxfH1R+DJOqjWPm2FR5IaK8zbL5nz7aV99W0XjjlDq+HxPvKNDtXfd7SpxJnPe7VVY6uTcQhmdQtL8gSCJr0t2ewoG0Inq1X1x5hi0rMYKS4LT2VJyRR4mTqQgJK6ygTU5wVD2DfSxyVpdwPNhIqRo0Id+uVz83E+FgZQntMprI0w8mQnEeqwExrnYaeddybVyJhXqATJjAI3r9qLxUgEsR1znOU4v1QZVsqlSqM+hU/kc54xj64W93FXKUG25wkHlEJYvaPQ9F6JtTGAJ505yYmpwVEGB5ng8Tz0R8JJfOMzigeAk25pcIBfntRpDHTE5xoHbZwu/aMbtgiu9zUKpmNU5hCMtsNg495tFi6CccpMsNpXK8lONvPrRDWy2pCvkUzknDdgWiMqGX3BDBVpppguUeETqAnKgG+IR3ARW597+bE1EAepF5IjJULf5u7672EXbSySMwEi+htJMLijBiAA1jwGJ+tUjqdLwiswjlBWmDQ+OnbRPMieCjDADvz+xwab3Yo9Xfs4tOPrd+os46iPSEqOLOjMrf/FR9NMrOplYDLvU+SCHkS4XKwkuE3dtdpsZZVlVG/EaoiOrINGyK1hK9r4dEu+g6kxWHZiB26YwnH3gRFM+kw3LAESewCj1CcELJfDMkZZCg1vlZ01OkfLONvmz4PtRuV6QZ8erOyQFXZmuVX7N5lxXfncocKf15noolAuf/C99Bag1YfNAbBI0q1Sld1sD3bxIBw7PDonYzMxj7ope/USfgiEiapXX7ILu88lxJmkIB2RViKZsPGLM2gFD1tTYaHGttVAsHV8mtbQhAr0I2Wrmh95/gGOKAOcZbrk+2Mb1Oa35mnsqP++qLn2hZxBfpvRpxWQnm3VnUXG9M7AsbtmVLDlo4s061vpVwEtMEmEnbExAtDmEtGghIF/+OJCtRnsqsxRtiV3MEYYY+re1qtPduFAT7ZmMdMD3bZalqjPruBTxSFTPpi+o9VVBKR/wzeBMkR6WSklaUkbHToyFsvyv9a9ucxrnVBuTeQcK1DqfG0l+bl+LfEJ0JRuecG7CA1PArFlGB3NVqGLqGRU4rUCjXkF/SloKRAoef5f/mzYeWSxAX+Xy5OaL8VMwVLGDly/SDfTxZNdxY9k2il66xfeNDkCXkz8mHUY/jgsZGqAXTZwm0JDlwhcBL4jk17ZbQs7kcESQITX6QAXPsj71WDyBgIWTZcJmbGk+WRxoe6y7qCyaMxOVpx7jPcMO66eglorkJCZr2ydAsQ5+mFL5KkfQapyU6Ceu0pq0xuMyhQdUgpaKYGKMFCzV7Ta/JO8evkFrXbEueMj3eMHTMzjo8S1Gt8J7KK2f8fWHFC6OiflpeW7s45z5XSP59CmEnXvrzXV9QSx6sGZqcPhpd28zT6sqhUB+NXVOSIPhZzCnPZ0Df/wNyv5OWcTABj08LZcVZCc9CMPeJYDk6p3ejRfyrAVLwUs7XdkcgfxYllvzI9Kwa7KFI0oAnhy/PvXu4+6uw0viA515ywz2QxJUiecOP9fbBmSEz/Uw9UaKuTKVPb9RVVO2ASe5BWlkzEK/cSfhzaCQv1roOFamk0sXyfqsNg4fbQ5XqEMjakWghWHA/oouf5g0P+7E4ekTKN1xMnFY7pBZf5d0rD0JMBFal2sqQpepihwLe5T6cwzr+dTgwu3LBY69v1KVURLK4Tv/mZvJPzLG2fFTU9I4ERKLvDl4Tl6YkDI5BO4Qvok4qEJ83fnNYGxe4rRUmXi64C08cT1di0XoKebEPkUXlYMoxforXDH/QJK9E9y7TLOydGnnFjCArQiiuL6b++bw/XW/4b7/GkoSPEWoYdLTZ+k7BZ7ENLUTBNG/FrFERza9MtNXz8kfNldsmNTLvdzEog3uderup0l7/zEj7nsHtU1AmxXPL8vDPQvMH1I/EZtiUnqaWGVzmJltnvmOlxsGJ3/xuMck7japCAMD1/tAEzwTPUdpc/fJbLh7XMFp2G5q4K/vWvH0iuPU/y3aWTRoDlcNu+iH6+apLaVnryW9Q+wusAFWyTYxFhPgbZp3ZPw4yE1yeN32DMbPalFT/Xbu0QmhSLGL23Zy4DSIp0+omhgp12TMG09drfr4xv8gB7YS1I1ID+Sjp2a9SkN5JTrgNnIE7lCfYywXWEUZ06fx4qc8VBx7X1mlRjjJdOPECSw2GJGODmR8T3mazyq8tF9M3oX/qYUcqkestGVtmuhZxMIW7x5UngdualePfB+qq370hOd0rfDDLmmUPdmzxxE0wzWPnVyrcma9b+tmFec7LuoaqidT5U6WLtssfst8zTgmGA2bNMy/NB1TO74+p1Ul/sYJMCWqWWJoeWZMaz+fLoQrOU8nCVbRG5TUy7PEA9+vK+8T5+EQbvb978ZWTbbJXOjFlzoSXNOjeEOvy3yT4B4ugWbreukl/vDfP7ZjGSsv0wlrhTC14aMA0urV3hQ8ysJ8rdmQ35l17zj5d3HxytbVrKl8NzCZuFn4ymtXtoRBDECZrlzVkpNQlpGtlA2CSdeyKgsgqF6uckSqZ6WwbrnInpZC5Ue693G80oekUfkBCtB4twOVXn+lKimcVlsSFSYqMRL9xk70G/6EiXV/jPaVz+x9unzMOiqSbNGj1ZDL5jS3v3r3A8UxQUNPXCaTVI6FdyG8M86nmsEtkizWIPmJAycpgY8tiYrz2aFGc1iBVCDUITho7jkBzE9XPmmtNYZUEyC6bGEKfEsBdDz5FqItMmT/0/2U5XSQwU9Ytx8qlFxCVdn09qTkmlCYZ0jCvyUZLTkqrw11/Rh4gGVP1fq6cs0FtSbGbfA2qjd/i+7w3yYSxDorFj7w9srB0AE/JFtQ2o/cBGCXYuZHHq2/W3gHa7nIxUHL6SUASM9ytryLN78ads2Y1brPz+Sr9DVS2UP5wUSzAgKI8yzK9TLMvt1KZo2vn0gqWC4ZsTkh42jmYlyNB4v5SFELhCPjQv84aZTjD7+j3piim8hAYCzXh4Jh/0dj9BqNJGLGFEN9TpnSrVmxvGjYPQ2j675SeCMVfngrxtatqMtcUD/w49AsPbNMjoCFfPv9182wXK6xcCEY1noJUxPpVUHlP3o12U540JvqJfZfJApfeh7pAl2VRlMnAFTmbWsFFgTxam361yBomAUXTcfT2KZ9i3Op9NS3D6N/FYAlQTwwmjFhbDqkKJQdVl1HvLO3zQrK1B4jaxBWtxauPo3RaTRph42d7mvr6OItLweciS4h6pZ1zcC117AplyPBRIK6T8d4JQKJGdbsPtZY7ch6qNDEHkxq3XKcAQn6n6Wc5hw4Nmr8t7eH1U/qTNechDXr3ML0UdGnejXLsLCcXeCW5B25EQEGH2qDTsqbm7+sU7p9qc++1b3tBguCmBfiVOFkEOE5MYTP7KXFks3X5hM01HD0fy8VERGainaesrSgKMUtu0AELaT0iAGn+w+FYyk0nI5IblKJSbes8mILBBylkV8VW7t9HaeA1MJLERpB41WSKe52krCw3EeWDVGQUCIDn3wRGrQQOXnJMSo+BQ3Np73/uPjNNpEUdQXtTQbbx5xcf9omr2tg27UvvOiD1LzgVqN9ddhW0qyXNRqKg3xQWdCSf82S6Lnb5M5hBx890mdH5NGyuvHt816DkUXtZ5HG6zJVPv9br8/KCqB9dZyn8dYwvj+dLm9ILhwwnot43u2MC8GZpNSKs1fAHoEjaU19m4hc7xOFA8jeJeaEESQbXOzukaEyIFQVzUf3aO3ONp7R7+cz0XG0eTWFoiyBGrtt550R7XARJYhG/8fXttoW6EYJoARN9JX4eE7tnRu4KRSdTmSK+i5Df5eMZP3JGA9yc0TCMq/G46a40qCyW7BDDPkB7nMyYt/K4EWe2RO9zA2HC3FEAasvxS69m1EXdKD5d5XErukmTzNVMaCP8qaa9pfBK0o3E31JdFEu+uVXrOpiEqNiHZOV9F4pxGYCf5tRpeOYXr9G9bIyNMURj5sYx/CIdMBIAfUim1sk3gKSzzNJdjIduOlaXDibYYs+h/N1jn/N/igs6MaqgBhOBiGK3NBGTL3qIvZZeT1553l3GLfbWTcshbCVfAic/zxRThG+6OzZCT+rtQtc+GQHh3t/Ht9YZIRK68bk4xeDM0mpFayiwcTuYpiX0eudDmabKhDB5TAY9R2gEvZvi3b01CQiKaakHw925LupP50nIG+MKR6wc5w93teL36SUVwzNRPvd37b+e6XFmXyES57qkt+kwXEoeTUDHfFIpOq2sF8q5F55WZZeBKP2y57FY0iDhk9lyLGCc+4vj7x2Zp63ocxd+vxOuyl8r0Ask0mznE+FIeBMFZuSposFBbNjO8eOHoSApH8pD6T7LIqx6HyV4ZhzyN1EpvW+JyLShJ6Q2iB7i4H5D3M9XrpQYC550HcPc47NPaNxS37qSrCVe9CspYtD0UG0mPamhLVWOnYYivoR1X41RYyodM38IUJqB1uJoGDZu3SXtJTKsgyb0nTxBaiRHZwrHfS8kDiHUbXy1F1deSpVUOdRLgRkQuX8mN9/1YqKSyI4v0W5AyjsY9GAdtXQYE9vM0qrAmT6lm+P+iKqLpDTdCxljS1JvNoAiDYImBmHKDO+jJDwCSR3fsDo5cKJp+bmkDSQmcDAzKlTBR/vm4oeSeeZszSnsDUcC6DaFe5gCmwMv0fkMWUmQVJu4sehjew+IENKRbE51dzUlHnM2W/ttMBJoarNXWwvkQYkHCs1hHRG7KUYpDA5aro6RF+lEO3rT8ENqMTlMrB7406tQ0OUAN6TSjfwJyQyuQsT/oiCQ/eva5MBawLPJF8ro/f6JLXdFWsTt1PBGaC/NfcXgyDaIeN/oUpTGFsctM4Di6t29eCsakEgfulN5C+EJnIKX0pN6pkoKoDV5hLn3FNTRsdFkEroJSoxCMezJL0T8v+Lr1cgSnjqKL6WAvry9ZGWUJrfKlhJwFW4iHeD9HL9Tf3HbCNADcRx8/dXcG+lgPV7ku/TL3T+aKNBPdKZSOQzJ6dn5OQmwog8dSCzzhzsNkdQBS7OLsm0nJwWrFVPYS6q5Vc+TQ6hYv2TjsAs8lzL9sIYbMoy/eI9gzge1Ru6SF1MAPhEU5irXVrnz8dmpXmCtS5vIoqMyntYC68rjPBuz42yFZDu3YwRyK75ArJscAf3GZVBvdnC0xjykRhrONH8NEDSF5ZXS4xJrhK7SKxf3sMPivikNv2lqKC9tOdkDnLltnlp/73uX3ZnvgoN0BQLQFAYRtyyD9sQRLzaZFclEmZyV+TzadVtoLeHKnGbD5IKJDTD1Ctg/sNM8SBHg5JQaLfcB+I7dyL98CnqVlNIreg0c67D1Plxh7CalG0wzCq8kMEcWw5htQaU6WWmljoQcGURKG95F+MxPWpUYJZu7lZ2smgiDONaN7s0Tc5kd4vCVGFrVupvZY9UsRe+xZEJJIoDZwQy7DMlKU8tBBbclf4mROscQwnLU8H5qjB/R+KTnazC6ggUOXTjl94iBTLwSnWDUQbM+1XUEwmKiOTuZEHC4eT5h+sAT/hUmk57cBwTmz6FiRLYfD0g1Ok/wkBIg2QFr87Fw2uc4s/sZ1UI4aHJwwAjcm4Y+RLRfKwdLm9UxSMnqQLuF9nmDy5jY5cNFGh+VQZRxwqtEK0d+RWUrO6+b8PeNR9iXL0KtZTx5NL/kZx0UzV8wYHveYlA9q9Sq6yOsEh194DywUFhvwjdRNBwF1kbedgFdQ1UX/Qn1Z6Olj4yOYzqzYVtwqfvUdbG50vE+DyNAsbB7xD4u8urFJYIzt8JKa7yWH6QFRzQuzjLR7zrkgkylxvg7gfVWFTt38B2IlpUoGT6ezX4panYC9ecxUZh1fGGyK6hhSzze0ymC5StDdqMikH+Kp7fjZljA2tcis1kIAQc/vHIyVSgjRluh107ayxK1urXwUgaKsrux1uIhyRZ7ejso7dZq0qzYGe9udPm0Jefkhq6nWHmjq+xkgS4IqvKjwjzzQDAUC4NXAheAJ9Bj4WjMszXXstlb9qbYZYt5uzg8IsrMr8thegga6CcnDPtgqRl/QItuZTnxvpLPFX26Ka+FCWVvtvaaoKm1Ff6HFjYbZkXrQOSzroOjUOYvVdFjASybq4eGydj74hFMl0sVGGG2ZhhmCfy/1pqZJBVdv9H4FoHAfqHCaQ9i4n68+FuVk5DZwf3xEv43E+InCx1vVqDFgHitKtq+2pukLFFxCzHG5gcyn3DjIxI2JxY0DhH3bSQLkoI4fmGeoBu8E6/RNGk1sMCb4X9xpx1EYpc7DvUqv9mC0IXMe/vHnztn2ssCuqioYoIBj4QXkzDXBIKaj6OE82PoAD5B+AlkwhHk6hvSxuHiVNy4If1HdlCGCZahRA0R1YznS126QCiBpyDZwYtOhoXSUem8trnCM3PE4h0CrZoai/eWG4yrXez0jTEjqSpe75Z6EOehEmM2/srldOlGLIiy/FYeAcqnXE1t1dljPg0Lm2mvLQsxH7OgRQ9nWfaO4PDrUdoBnUb1QmYez7ao31kDTTU76khvRpNMiE8qx0ZkCvBDyLfJGbDYfhkaSfFjBhV3HEoO0MzjUwGBwjvGNHLO5GbZBNPZJ7runP0ZK9YCJlKTwukDQpIBOvEgdPYRevXiEHUGof/jJxNugxFZn8kTNv+43t6NMd4mZEM1/hR0G29wqNwNc4KoYX4MSOcveWnozyptr9pJkulqhW7KTEYNU8I/xeg9e6AG+sFSVsUBBxNGLqHhBTVm8fmAX1Tj4zoMne90VwMby5unmyMp8G7caSqqBFvQzCH1Up86SvZG1wceiuvD4B70V3ybt7DqswthVh4U7P4+y1dxgrVQTeReZdqaWyVM3yQHrD0GCsufpTj4TBrPatbaSSP+OPGkffYvpvBoxglAMrtRt8JtilJsxSycB5gefrBzW1+FRdNgHquChx146Mkgi0mrvVmHcOjLOz2RMnwjzMJn80nDqawVQjik+CXGZHZbz8kia6yfeLB3BIcZPsY7kURc6wT62pbwX4/+rEw9/jXNIa2AJVDzK9Ur3VohjM/80bFnfh3xMbg0WuRiMd9cYVuIgl5OW5073lcQ9OH1VJlwHT86jkXTMjiacIeYXIKrXV5hrtGql0uBAjKLloW9auGV06lHIM4uoqFtkNCzs3fXK+tz0mlZPXm1RVp5umKBHxTh6iRpBsZljoPDgF2qX28/YvNcQOFyV3sfjEHHdtBohmRw5hxGxAE6vF9z0yK1Ewbrd5LuwLxYBfUwaKQf/QGYEzhR0BqTHqnTxBYjLqdaRTwUIA8Zm6Duc/WAByGTe+bLE8hgHWKRL9tdbfjXsBqPfBiFX7bdgPd6/c92jxEh9CF16FaGPMZWI2hu1XgtGQSYvDXyg/+oGLKXDnc+rRZ0ilDew/dZSAv8wcQqIUAvMefGNQIaAR93jZzuNxY9k3lABa3AyQXSCoPJie1R9qeLa6f4dEIe9f/3WF4ioYvU2LU0+ryDYiSyPKVXBzIADbBlXg3uPwJLrbhsAHbPeFMgX1A+JR5ku9GGWcXEA3VQhDMC4LszgBMj2dznvTf9pmo0Hnj08VQBaeooPZmVmt72u75kUQSPKSTPAq/UrN9+rZQYahuUTITynPUsuypuBDL8Tof4xLdUKl7d1oTC6PprHPp3vu8E9gszrqKJfv1OU6MYeRlBSJciB4tT8XOeTJ3Dhbe1lVAS9Myl2Lj11Pf5j2vScqDrNk5O4bNhE/3k4U5cz8kHpx38QImVYBnUklw4F6RD3NBeUJEKEwzLze+2EW1EvNGpbVei7yPOnFdyW2HtQQJJKj9VvcDvbaadyKz8N6LXUJR3XqssgUa94BdnmnGp8bm7IAOA6H7AXb/Mic++X9l7FH3CVvU/X4i7cLcwU/rsvPH0vqXrIu/drlrFexYOZhfz6EUCxXcW4+WRfFfK+V2xqsIeoRQTiLIeZpazbXF97YtYBa+hnmFnu7AQUtl35SlK1x4fuwu18TcHSvZ2RbKadyWdKHcUrujWV2nrIEtxw9ResDuBCm8CFnSWhX08nzNWS/mYvkX4X7PkkOTTBv7LoQkBUNsrBwW6fJ+RxdUkB7plZb3vOPF1VUe4NW+uTAwPUhd3FNQ+Wc1gJKt2Nat+uIqbkmK4NR7KyIEMyyhKsX5JQeLhE/jFNwLQPaAtpI5Kipg3dwKlNB74gE+PQTLc0yMlBqYuN7kbN9MjoIHD8yGtm7uArwIsr6lProN4rC0m/zDc5kXh+kBBCZ254t++0h6v0/rD7oyr9homXibZ8MaObVTF+ePLd04CrsM99/j99k2Wu81yDVshd+zdTlWBzJ9tDQAYdl/OchG2wOciMlhWd/Gw9jWazfh+teUGLvKS+F7QNsTYeU0NBkjpOOlahjJekdno1Xcfx2CsgyMQmoMPpqQkxNGcSemlh0Ekss/en8tM9xcBEeTtFkr3FNe7hsLx879VhT/jtP1Q+GoWB21a+9PA7nKiZlDvo7M0AYOl5iHfF/QDWJtTcOzbajk0eNP5gkc2f8VclNoF4U+KfM9BgS46H8dZKET4Ib9qC80GGEyYVSWHiu2GDg4UCbcd3ZMM9YmtitbIqAUcgi2A1IxtzLRthz23tfY1FrsdoiXntkC+6Bjf4YOp1gpTfojGYDurmDWPkK5C8uVngr+qWSoNE/Cyqiqk5vE3eS3SgG30ujtcIOKv36P6wdhzOshGWiBjgDobHvOOldcZVEt/HQmTDsEwhhwmz0naVE+k9hRK+y4U326IAsdZTFbgQIA8cidJeCDj7rOShfMG21HtQzX380aqeyNIsnY4132odzYBRpS5aQB+GHy4oS8NXlUHNdCuVjiCtzggGT4WiJmUwFWOYV7KPqBrtpT1quyiKWeDEh2xSsaQxov36CJsvM5x+Od5x3kVuMxkn+0W1RGBdgp0e0zWgam3vaLsMhXHKYu0gRb7d/C6oKQZc9EICN1RtDZuhEsRsVXvOtUTB0VWO8yiHmrz5RmLYYW4RvlGXaRKzCoYOa7K/abEDQVYWEYZA7RU/TmqGdzOBrTm7RF5lRt21krz0yQjiZji4iVZDl3yNoKbMrpVyFGguAjiMfrhIhnvliWVhTHfvsvt+1RpA+F2YsQQrodo6FqZ/4LoeQUz0kTdLsFu7uVzftxlogN9HUC1/6NPQGGfRLbWLHHQi5IFNlcLZaxTn7hDQRZp6gGjXQxSVF32d1B5t7bWNslaqdg9dgZlVNdte7DE++Rg2cLeO4766kMiwD7mwtT6hHLouuux11M1Oi3jlZPgQjvU9KTquwT9II9p7citt5WoYAiUj9WlsKWHfvNX8CjK9sev4w0CMvf64xV7sTtoxipZATB7/NWpYSQ4H5vVeV/MW9KedPVjIRSirtjOBwzOBl7WM/x7ubuF9moEBi4EPD2uU3MQKQuyM5CeL6Yo1hO7QpDYlg9vhPF3gOmt9SyMoDOIs+v3+8pja4+q5at9Gt/IZ9Q2PLJaGwZnRh3ZaezsiSRCtAe0eyTYsJQLmQku9+IWT77RzLXfX13E9pLUZ2E8fbkLSlp35mHUbnVGYXCtcmxbc56irmD803lU2aOEtqNUKmEMgsN7gVqZ6rxeRuZNzimYq/VEUx02/iHxVuKKSaYzNpdNIz+OqbRTsGTWuozggm5mI1v49X/8WCrZz0OR61Y283a317IWXxzFRRDZHMN0kYsMoBz0x0HIDLT45DT9zdLEVVs3+is3VYQpc7lv9QyH8s+C6PXIwhRwUtEyjKQjgjt3vDifAiHz8AH3jTi+kitFTX73kDGgLW4AJy9SEE11E6b5O3+L1pqItntEqAOmvriWKNMDHMglHa4JcMT3XfMZ77PcQ9R3YpeZlECn5yFyBHufFSAdlqNOmWt7Zd/aIJ07WfTfaAxTti1Qjs/tG1BWpdTINd19lq+1Zp1HPLm7PUIqjPVDKj+pXyx2QZU+t4IHVIrZ4Aq9lDQBu0rlhoL4tqbkznzYgU06jyEmSLMWk65wCX91i/vxvWTMAVpUdRbh0/RkpiMpvlPZkHapf6gujEUQ1MFypHvNLZqqYmEIV/R5JK0DuUgt0PjUZuVsJ5EJXD9SIxp1cazo8FaIf6F+goUhr97ynGOY0dLgRcCRLgomBAAWI2XHd6DmIfpTjTiuQQagH+CqFhw93DZoT6JkTc6EqF9QpgGJXDooplet41UTZBC8TxgxVCFk+KwbLa4R/rmb+GQ5a3F9VrIF+nm6hmLMdyJtU+hsyx8hnOwpBfX724tiNt/1a+DyGk5Jh4XpE9sdYFFMuKmiFyT5ujcu+k2RwT+E3LV1cgVIOUUjDgQUjp0MVy+9F3HrbpRqyOI2Vpz3c7CGdHlOxoiYCePBCTHL8k+Mu5S9/98lnqtkEyh0VkcYJ90tAeW1cRvD5hvAgR3zR3qdVuejSNCUVE67WHC6Lu1vJFaRvDvf4VXj7auLb7gTaEfHG0kV8XLFLJKk24GrCM7XOj5QCbGiFcwi5udnwxmiw6x+JQZPItu9I6AETfFx7J+a94LF/Wsr844Iz5TBWYucZlZq0/tphf9ntWmblfexWH7pnmxZb9GLR/yfbvYt5yPylH5x82jun9MxsP+wk6my3v5786PQ1OeblCEF3HZbMsZWEOSGaXG6WUoxIIxWR7PC666ggXcYhgOh7+tC8oAS/o+HS8Up3MUjDkl9HnWsVs55ukE3EcsPxqkQMW3qsQ+s5wniCl8DLn+ISEpHcPpnIcdgnPcu7CvO7jN0nzCmD8ZDG1sWQaQRT/BphO/uDsvxXHPjmng3OzdRlF80ljnixV4qeytPDiSJOR73UEAgAlUhLskh+RsP7g8P+8RCF8GI7cWRo7fGG4H1f2X9QfQejbxHxJ8kZiHSZB2lxpD3174kfH/nT0skJVWvAy0cawaPmGsfWRU3hFDY1vLeFXV1dcgIzh8HOTBfKlQp81/AiXA69mCtRuUtRqMcna+Jcx9ehHVBIaWeBHWPUsxCsZUT6zgDaghG3XX18e/DxxkQRyXRe/tsJ4y1hRkR6e82xsyGsJ+1/SZkNYGDksQjzVBDdRWrDPP6nJnk7xEV9VFhTSxT6HOhzOpUNyEsthJqYgBUZytmNQNTFvuH2l95axDvxvzUEt3e9yzlSz2EndE5DeYPkLgsUt6dC/Cct1QKqUAdu8AdfFgrWTaiCGJuByqJRSmSzzRxWMlG2o+IDLx7Bdj9rFbd/IOJ0GZGTu+YLn6IX1IdjxwXUD15VWkIGBYbcvo82OlPK9dHxekpkmsTDHP5Z8ZQwjn/u5Remxco46DLNEN6oEcTNIq74dp3onf+fssT7NE/RTILqz0vv//hZrJOZSzVFHwTPFplpsE1aDrf7KTIKnquWeJRVDf5r2i4ma2X/u5qShV4bLdI6ECeHN4Stf+TyFWpycZqLjGkEh10snHCpt+rEb7ABHanqoFQRCTL+TfiUGRNF0hFU3yehL7w7JcoW9NfnAQZnxSQHlEor4UvrVdX2cZ2Xz3vEpQh3Hg+BXRsSedPMCnCjzr1CzOfhMUsfNV0MkH57sYlmNtSbyF6xCgfMwtSTkTchW2t3wOXDHwVLNno3E1CRNRLgkIxn0fpLDf/WLDdwPXId/hebVbbST9Y+HU07H8IQbtObxEMxUxEv1N/cVGQjQbiMyti9S3xpOpa1aX7alAty0i7NzBkYyEj+SmuHgNeC9gmq0Xz0NL92n1IHB8krJ+dhHVw7eVZlP7fuy29AHRO2rOMHf7GqeeS/Id3379stYQN/CxPVwPqc9fKXM9HUlHT8hdPUmLGyTyc5YNE5te3qVa/yjFDdKkfQy+7IxXja0O8cf19UFRYuhRQKsYLGY6NAc/uQdAC/SX4BRY5xrKhr7sWAY9z/dwK4m7XBIKFjifbmGcsr1P/D4NtqsgbVC1T5WFioGZpNSKkJkSJq64vJCR4uz3w8yBQyUqZCQtWT1OUkXPIm9MWHF2+hRFSUU3+sg7XrJJWeLfWQN5CaB+2y4xlghMa/Z5z0PMfy9ynk+BY9wnm6pLfpGyuuDk0asJBNzE6f4ivm4tszvItlIQhb1iIoZr/3tMs65gRloAeieYDfeuriEAJov3xZh6eM0XSvXuykSvgxFuhmN/WBRS0Q1wkgl6SAMLjZxYqSLpY+L+ENy9+xmVK93roINLfrIRfRrGtnBXShrA6NHzi2U+LaHkSs6dCZRSjva43izZLQnrL+kYmeOAtjAlXeK61d2yOEVqb3Xg3FeHOlOcJvHc2K2ypbuwDBNrQ7xNlYej5nfwtAYqgFe9uJIEfFRjPzcibimOpz7OpyzvFN2Jiz97MeFBX+dAUmxshQO3WlEugpJJcJoH9y8jqgZmk1Zh3jOY6Ef1fWtktqEVr7m3InN8jwXWARnHuxKvRTSYZ+jYhp7wCi03yJVYsFt6zXO/naC70cOG1InLgipzsKfr5GB2TgFzyxL5b1T/yE091SW/R/4mFiVNMrA3IdheIJMVEWiESeXhqOpWGlQQZJ7t5bsLp7xGxALP3AiZXV4GLLV8G3ZisChUebOQF7y2iUW8N1b+ircJr8vUmqAVaNStDzi1C2ho/ilo6edjFjcESPCEknYr8niBYX4OaMn0hxxTVsbM/LgB8UYqRYFBV4rFlLyyWXldXpJ25QAkSc964Ua6bd4RaqRur6hNx+wKtyJHIMVwfsak+4ewvuqzubm2yo43KLCkicwxA7/3NbtxnQyCpVVaI8kOIiO72xf5tEoTy6cjkq+sVyvZHGP/i/F/lXNq4M2eR3oMIs/BcHL5by4evc/sokVT5nsYCEjpMJyK6FiDEQ3X+SsiWkyBDgbf2l3sJhP/Qji9ediu06CIn+zrI4IfHLl/eWCJeJ3lS2uilZHi3fo4YQQwZjIpL9a7sCzv7yD6XnnFHTKKH0KtozU9ovdzkWnDKTmG3R7MBXTIrWCAgKcw0JxFCOJZzRU3ygfKHxW/u1BeF7c/RSJdkWt1+vUqYqdMvU8Dgols+RjssLdA6aO8eh6MLVP/8AAATIQZokbEf/zy1t7nZP2rlY0Zz/lXoDD58r+QSm/7J/4fuowuy1tEYLWGhTTFrYes6UTOhGaxrHKT1C2RPDosgXNKs8N9a+v3Zz1jRpiUwHa6zQ06gf+IexeuPDUzJmDmuKCYS2XCgp6zaSzID/qYmUCLXSMg7HDgl6El/Eb0YykIlfShFxEc3oPX/caRpKfcqYvA+kUs3jXszn9JEnJXlD34E2l2TsQFdss+fofzVc0/FtpOAn68IsMY3rx8TQKgNr7gCDfYy3xCKCjL0FMC5YEct8A7aJ62KKU0Kgkw1kw2y12AUMkXPJ9KkrXQRMl+3pbb48RAmi9pAhXeqRcfY7SAj5s+MnvJA5rlLu2Umbvi3cP34r1W7nyUmFplUrZIBBHS5SZh1Vv2yM0C6VxPfrHUgtV25uWILFKynKb8ZHH+/44UhCyGvYwepLlrj3y2W7Ph4hIjVPS+1MGoXNXvEncTd5JkyXauAnHZqsVd4SBYSyZ+G5RZlhUlLtdsPHs2ctA4HnX/vYYFLrnnG+XRp/0yHNnpQ8yH3AjmfSsoIkqVj5EdGoC2SnUlKnVsdxgvGaEA8RYHbY4n9Z8MPSOg9XtbqYZ8aLME+/A4z3OsO8sxLXDkplWrVBNbxdznktC+vvxPLKV5WCVdoTz8KQfS94smHt4B6NdUFRtw9rRvn2D1BMJYdOdE2R5K7N1tRhAl0sqbGu0C4shwhfQc6GtEWgOS5p0ui6c8mmPqthrh6VKW/PAbF8QZswWHcZZOUfKD8/FYLyVVsz47iU3QpQN/zVqIgMtgWtUXSTRZ0VagSLsl2LoXIAWv0Kln7l0EIv55eiOximgP4zInb8VmfH+KQ6mS767gSzj3deU+pT5KTMyXXlMPAWGdwxnmMyabvy+sTeih0HBUIIGUBXaTroZ08ZqW2We5k9RX6Z16Qkhre7lqOUffbAvYqA/S9mMYDTZERNBZT2X2SLYIXHSgkXowCyFryV2YtKk+Gwmsd6ScLbSoA5gAAITqGLrJsWk1S1miIHnDWjNbIinXeArk3jxfXqUYGb+tSBkB5Ug0W5fcL8FoORVhVutWy09N2Rv0T7uYJgXG2P0dcVD6vdKCWWAmNeVZXPKe0pLc2xo561SywVIZVB0JaD+zND5eLkUe54VUo5KcYV6AuR/PAs+iaE+5xxt4EPXF5mim5EB+YajB8QhX/Oe3dgPEnP5+wrQrpbVBHse6S2GG02rs+uWVnIRd0zHi5PbtJkzMsljn3p/4+pvAUhrD+AAmDS2fs6WfpzYngpzv3n5QC/e6Nns7azXG7urLTEr/oJN04/usDiZoyWFAiOCvcUTWsbBMh2+UsOVKHk/lKVhPOdV6pVJBs/3CGdLGRKT7W8MlhqvkDOjI07iw5spcPQT5dK+JSHTF2zcPUgMNKhERx/ZaRGwpv9Zp9upU8ckgtBJWDFHFQULRjfZmdpogMbux+YgdgxMKI0jhW0nLgPrDV8WJTQRF3iihNu5uOk845iKBUia8cNEMiDeCknrKIeFD+Pyd1Hs+V7ZfyM2ct8/pDVZkEy2kItgsiJYgeWfI0j1f3/aag7PO6NsfKbTK+g7THIDkUfXFpSqZKJafoZ3mNHNy6QRpICs+9hcYkqMGg3iVisAAABvEGeQni/yfJcjx6SNJrMjqELZbkU95eD7mwgZU/9YAZiAM+MPUc1UcqybopZTP34pJAY76qwkfcE3JIip+HMaoA1R6M0QsJUcowke+47nTqM+DqvdFJflIQFxq98U2kI/TAJPWa/oPrPyuWSnO0tqs+pGdqpcnU+ljgWfisqanKJwseJjCS39gJtmB33VRM9prL7nFIA3AfjF4wVaVw17/uN2ZefDihEY14fioHdmpZB6EdAJL01V1FegManek2/wWFhGUR9AmbQWr5LI8G8LNFTct1EcME6lTchrONnO3iBpUcQtb8MZ0MOVpgMK2w2ijQQZ479mkNKkyYUbYbBP5bsiQGgDfHnuyqFK9qiwskRI1zzJRfeZk0VNbqS7SGEXmQCrpn8mheWpZ8WzZVkaM4S404zIudCN3d0YX1VaYG+gWRLW5XDSjF29UaQLosGieLI9ANhI+ENadlP9uzkqaYF15QghEA1NQBL/qjgfCx+KrcydirwDoXS++bDyd3rTHIa1ovIebti1jzaxtXJGsMkprCB8TkDSciKH01SRS9KENRR/VS9BOEY7PcIVlb+r1zkJ/m0xhiLDGZkoQAAAV4BnmF0V8tbKmv688V/tDZo1AGvvxTenfVosc5byPUs6reQMCeupvJKzJLLNW960Js/mQHjFpgtDzlMG/o0Fuko/16hlAbnd/w+4CeSHeWJtSjN4L6E5uhPTg3WhqmTcQj1/kiNnkFVAlvAC+cjmkNN98VegEkT/411HgxbS19bpbnTQ/IxdQfBShc0Nme2e3nV0Jg67GnA4KyJ2jIqQ6uhYTZ0cfdDdO8YNTwASfQKEsSXBGJt0650E6xQrl9HIsaOVGNA4QtolvpQgoRdeaHeSl+txu31XWl/FAnKhWJdugHP3ut0LCsV2ogwvkPpfty0ZRYrFS6wF5XFxftTaUxWiPMlm3Vz4WIfGwF7BAwZZjrPiuBdkmcCQPZnH2x6kqy1BhytPWJy1OOq48keuDex6Ir6RwPImwP+AdszX+wHolfKiLbhwHAE4srpICOFnFDgfmVUTEpLB8Sfb+y/uAAAABABnmNqV9B0o64C/uFCOXPDAAAAG0GaaEmoQWiZTAjf+lgAGyF0UGMf4yf/Xf3x6QAAAApBnoZFES3/AA+ZAAAACAGepXRXABbRAAAACAGep2pXABbQAAADOEGarEmoQWyZTAi/xp45kgtZgOVh0M4ir4WU4ft17TQXR20AGHMBpEnxNkhkVMgXyvYoWitl5wM6fEyVlpJNS7WY0T/EdZn15O+PeqW48OfH5oFs6v/hdNSrUVMnQ5GIXUcghMmhI07VQgrCI6WWfrT1FOL2RaZ5jTJ8rbRCOpd0W1+lIuz6U1R0Fw7ZP+JpZy/9WRA7qI188+EeERSmD4rE2PAq+p8JZMJAeRm4TUG41LdnQkoaM7MIm2zgZ95YniRFOQPND8ZsGAFaTs38gPHAkOijEH6BMxc2VBWmKVcWrjpuecSYa80snRzd6FrSZDNgQBfeXJzSHh0ifEEuKPnFUHWBOFD5QXG63iltpPNAN+uOlq/1zrwtBT/L5hBWNtV6sNrDAPq/3YC5QrBYWbcGfGhqzcXB45sP8og4E4fkkalf+o4itYi5x9+Tl/049lXb2jdVzQ/ud0xspTCFBFpaphntBIes8dv5zkpxtv1xUqFdFz9nLRzIObdH9exMPET1HEU4Zn3HNuGnIHYDovHiT4fvSNdcKsikzG5gdGwKu47rni+Lll3orlRQfy9ZLCatl2AY+ZhfmCrJiKojvqhKYg1C/OErI3RP0AG+Bck/l+eIm+JEZ3jZNQ9aMjcbIP5LyQplTvWdnGc/dveGP7G1xMwnH5RAy01w8mOgEUcma3l7RBHNFCfjI4ydP0x3/ZI4B1igMypekzyGNcS2yaGbIrTTYd4GiCw6Tmt17V06ihDd1sA848BbQ54/emIakp13KYqNugyJJktS9qMy/AhwrKP9gaMvHYm3AF1rk2tjiaMXn1wE6n9K39th6S639swhhD+LY1FX6e8uPWgc0N8Wwp8SnEgkPDSPA0YOmlo/FMl3psCLTzz/hv3vP1Yo5tEsqhGjOH4e871mhN/4rs3tQijZQ7KzZ6c8F2VAKBGChFbTF/cxz99joeONihFUUEe8R2WsB2gx/3yY8D/PUXvqZAh03vEezd0zOQW7EzuQWnmJUYHpKQrG9cA/asce/aQKkuhEgfj2hpugtrD7tT95HuqLJhdKttVrhUdJr0ahpowcDtloZ+MFKPBz1e6CdzV1GEdUOv6YAAAAEUGeykUVLf/I9Il6TfmqxPaZAAAACAGe6XRXABbQAAAADwGe62pX0HSjrgL+pASLgAAAAclBmvBJqEFsmUwJ/+RAEsPufPYiU4oJdw1QLaoVLQtf3Jw3pqkl/WNEXiXpGS1XzMEuSg6LvUvF7fKFZn0CsxRsIYeF0pOfAjZm6+yhw43sot6s41FM/QNVIs8eeKpQk/+fxQeIZJFbR816PLqflq+mYo3LNtmLkoucBnKMapPO5MInFG/psEqHU4o/synaxjKkFIvXPaxIIb3bm4zd6wfnX14TXgGiaZhX8E3X/DL/e4ODI7vMg4XNOsooJdfSCyRxcIAdu6dRM3vT6OxiwtJ1BTef+jQ0kKbzJyT8O1hRHakk0lgavHEDGRjJhmaEfQSwHJOD3Wa3Mc9GYhtJY3YpLjH6UdD7XGPyPvAq2a96HoNRCZshrN9bUP3GmL4ByzH/r53b1hncrjRs8gr3MmGEPkIGf2ecORz84HyteDua9XFZMRgom4MeRcoI8Fs/xMg0uqDF2MeTs6YbvsqqTBUd15v98DV8aTHTEFnLoqFXCbfuOEVRxy5CHxgyENJ2oayGx9hWiSBNaFuVWLwaPAL+dKR8AcuASjD0MvCLMuCPnmIX0m6H7mGSo/OBWHGZCVWrCQAt99/h42uS7c94PMT3trJxeEmC9sPxAAAAHEGfDkUVLf8IGIgrtlRI/MNNS4KBE3fGoZozZcEAAAAKAZ8tdFcHgKcVQQAAAZYBny9qVwvCNgPB/GpyL6IM8GKw4duj1ip1c4/tAO3yqfWieYA495Bbw+g3Z2a9ZWEHWnfZTRJjcpy7Kom1a8+j3LOHfFAukDUPeQynPMOYI7GqEtGuYcTdv7VC2gF84BAWciCijQjJkFZTeCMVTZvqQQVDI0OSQXNe5W5fQC/KKp9F6sx0lSIU6jUcu2R+y7HJ8BRA8/KiEwcW8tndBHT+cq7HWR5r3IAeuSmQvnIS19earGyxlWv/A050vetTR9DnOAqTtXHPh0V2M8jUpLdHmuUqM4DWiYOaFRkgVCjYltYkhE14jGKUavITukFwz1aUMAuB3+wZk/nQEx7ZrE1kTLD4eYxmBRDVD+IadlPESK/a7s05hgOuXZWfDu5g/z2PnqaLmhqGhrYoQQuLqtQbzxU0/Bz8pmHmfATHkWT8uFLfVhrM7cBg58BDC6xtcZVW60WMBoCpOKFUo0bFGNlflVyaHB74femaRStHn8WWN3YHG1sE/7KsihNhLltBigOAr2m0KGbZhCw5kivjSurVscfkebMQAAAB3EGbM0moQWyZTAr/AAC4p2iVS5g/RH5AsfiYJBli/5ZZ31EYx/MaGzyXNucjW1dyS291Pav075JEvIf/XYzdnYe2j6DtH4MdUoTDv4cObIOC931SuWowai5v7cflS8AYp/GH84Iws6dC4tk8C+JnenruTcQsSQWJBBQUfWMIh2JieMkgV4/bC5brYLMXxEEIYEClixhAIZVx2Ds/hkVR093ZkDSlnR6TKcxHtWDFR9L3MtPhMuLOPa0NdbU1FuabiAp14YixrICwqJwsIIZKBWzGtci/Tg+imNEes4uEoJQ8GPsKfx2JGg6nCDZ/HEy3sTw6LyXouTUo6SAcqmzZRYFauOgnZtpkr0f/vAGOn3P/jsAiQ0z7fFb/PAm5N6Wbv9xudkWW7eil+JRj4zhN2+4ywWwF/Y9tgStywsMBzGLRUFcv5RMDz42W5PeP6D4pEV5DGjv9AqogUlbQh6zRX8jIjA6eRJDKRvjkeEE+1ocyAkUiMb2sOelhlmAdXynpOvNEjLp1/WnqAk4JUg5DckQwnfAAvAnnc8pqKJG7HwRoTR/ttBSmeVbXccXRckFpTtEDwJsajXRCWny65TGsBKR1LRitzx3+ZgWw3NsrNKXTqWLGJL6MdLBYs0qOAAABtkGfUUUVLf8BchAwLS++JNZkSL+4/CeyVcKGAk2zJejbEYmtFRp9NdD55Eaq3RVJNLbeqoyEuF1loAHOQCmdnw0NwPF82Xsju96aM3QEuXz+J3/sPQ2FxfCyTMDHAAr8APHipLkGXBiMd+8YJ0YguhJB8AeAMCUl6Cl0G8eQaSqBLEs3WGzAsxSKuyTyorL8jgsqNZStBQBQB43hVJS63V6pndnvRowlm1FfIdmzjrvKH0SPZfxG3isyEDjwLwk80LcfxyjatV1Hzaih7rYYwpO7CP/d+jW6bMONQ1I0UoStFYKX3KVS/W7vdeOuAuQC4tUlEsiTP31gO5czbdZAspJAbayPTHntvB0fowFhpY+gEEV1Fcb1yWmpUhBE/qfSseQTaUTm5Lu0RAK0uoVgcr640ru+g6A5aa/7lcbVhm2cTwX5pOqItwkU/PlkFCCQL/18CwWIc3owIKag4EYICuXiFY6WSqX5L5pZvC98G7yJ5UYDcBJVG/4WloKefshi1gqvaTSP5EiLtQFULsTgif6v5oyQT/pkTeJBWsICAJPlmmJQC/NCq2PYb1fXVFS3+5Pd07C2YQAAAZ0Bn3JqVwIUmoAD3f0cuRfDE3iJnlALiogzwYrDh26PT6eM5x/aAdvlU+tE8wBx7yC3h9Buzs16ysINneTo0zfuU5bfZgetefR7lnDvigXSBqHvIZTnmHMEdjVCWjXMOJu39qhbQC+cAgLORBRRoRkyCspvBGB/QEXL0rnbaXxul5A53vDhlnp9p62D2jHxrEiBKNRzeOpXb0ze08gRI+mzSUby2d0EdP5yrsdZHmvcgB65KZC+chLX15qsbLGVa/8DTnS961NH0Oc4CpO1sySlRiynoilbNl1Nmnwpno3FjHqyP3/BzWp6mJIRNevMYpRq8hO6QXDPVpQwC4Hf7BmT+dATHtmsTWRMsPh5jGYFENUP4hp2U8RIr9ruzTmGA65eeKAvU7Mfq5qrjKGsvVSc4K3HXS/Rr1qJSLTeRktEuO/L6Zx0LJ+XClvqw1mduAwc+AhhdY2uMqrdaLGA0BUnFCqUaNijGyvyq5NDg2TYglYrARhVAOLMurK/P1QdD/UqTDkt/odep9bhJ4Y+TPkn8dE5UL2aSDCAaZHw4AAABBJtb292AAAAbG12aGQAAAAAAAAAAAAAAAAAAAPoAAATiAABAAABAAAAAAAAAAAAAAAAAQAAAAAAAAAAAAAAAAAAAAEAAAAAAAAAAAAAAAAAAEAAAAAAAAAAAAAAAAAAAAAAAAAAAAAAAAAAAAAAAAACAAADPHRyYWsAAABcdGtoZAAAAAMAAAAAAAAAAAAAAAEAAAAAAAATiAAAAAAAAAAAAAAAAAAAAAAAAQAAAAAAAAAAAAAAAAAAAAEAAAAAAAAAAAAAAAAAAEAAAAABAAAAAQAAAAAAACRlZHRzAAAAHGVsc3QAAAAAAAAAAQAAE4gAACAAAAEAAAAAArRtZGlhAAAAIG1kaGQAAAAAAAAAAAAAAAAAAEAAAAFAAFXEAAAAAAAtaGRscgAAAAAAAAAAdmlkZQAAAAAAAAAAAAAAAFZpZGVvSGFuZGxlcgAAAAJfbWluZgAAABR2bWhkAAAAAQAAAAAAAAAAAAAAJGRpbmYAAAAcZHJlZgAAAAAAAAABAAAADHVybCAAAAABAAACH3N0YmwAAACvc3RzZAAAAAAAAAABAAAAn2F2YzEAAAAAAAAAAQAAAAAAAAAAAAAAAAAAAAABAAEAAEgAAABIAAAAAAAAAAEAAAAAAAAAAAAAAAAAAAAAAAAAAAAAAAAAAAAAAAAAAAAY//8AAAA1YXZjQwFkAAz/4QAYZ2QADKzZQQCGhAAAAwAEAAADACA8UKZYAQAGaOvjyyLA/fj4AAAAABRidHJ0AAAAAAAAtPYAALT2AAAAGHN0dHMAAAAAAAAAAQAAABQAABAAAAAAFHN0c3MAAAAAAAAAAQAAAAEAAACoY3R0cwAAAAAAAAATAAAAAQAAIAAAAAABAABQAAAAAAEAACAAAAAAAQAAAAAAAAABAAAQAAAAAAEAAFAAAAAAAQAAIAAAAAABAAAAAAAAAAEAABAAAAAAAQAAUAAAAAABAAAgAAAAAAEAAAAAAAAAAQAAEAAAAAABAABQAAAAAAEAACAAAAAAAQAAAAAAAAABAAAQAAAAAAEAAEAAAAAAAgAAEAAAAAAcc3RzYwAAAAAAAAABAAAAAQAAABQAAAABAAAAZHN0c3oAAAAAAAAAAAAAABQAAFyTAAAEzAAAAcAAAAFiAAAAFAAAAB8AAAAOAAAADAAAAAwAAAM8AAAAFQAAAAwAAAATAAABzQAAACAAAAAOAAABmgAAAeAAAAG6AAABoQAAABRzdGNvAAAAAAAAAAEAAAAwAAAAYnVkdGEAAABabWV0YQAAAAAAAAAhaGRscgAAAAAAAAAAbWRpcmFwcGwAAAAAAAAAAAAAAAAtaWxzdAAAACWpdG9vAAAAHWRhdGEAAAABAAAAAExhdmY1OC43Ni4xMDA=\"></video>"
            ],
            "text/plain": [
              "<IPython.core.display.HTML object>"
            ]
          },
          "execution_count": 32,
          "metadata": {},
          "output_type": "execute_result"
        }
      ],
      "source": [
        "display_video(450)"
      ]
    },
    {
      "cell_type": "code",
      "execution_count": null,
      "metadata": {
        "id": "w3TCweqhMh1g"
      },
      "outputs": [],
      "source": []
    }
  ],
  "metadata": {
    "colab": {
      "provenance": []
    },
    "kernelspec": {
      "display_name": "Python 3",
      "name": "python3"
    },
    "language_info": {
      "name": "python"
    }
  },
  "nbformat": 4,
  "nbformat_minor": 0
}
