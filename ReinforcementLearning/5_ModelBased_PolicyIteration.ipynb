{
  "nbformat": 4,
  "nbformat_minor": 0,
  "metadata": {
    "colab": {
      "provenance": []
    },
    "kernelspec": {
      "name": "python3",
      "display_name": "Python 3"
    },
    "language_info": {
      "name": "python"
    }
  },
  "cells": [
    {
      "cell_type": "markdown",
      "source": [
        "# **Reinforcement Learning**\n",
        "<img align=\"right\" src=\"https://vitalflux.com/wp-content/uploads/2020/12/Reinforcement-learning-real-world-example.png\">\n",
        "\n",
        "- In reinforcement learning, your system learns how to interact intuitively with the environment by basically doing stuff and watching what happens.\n",
        "\n",
        "if you need the last version of gym use block of code below:\n",
        "```\n",
        "!pip uninstall gym -y\n",
        "!pip install gym\n",
        "```"
      ],
      "metadata": {
        "id": "vAnq_cwoXrog"
      }
    },
    {
      "cell_type": "code",
      "execution_count": null,
      "metadata": {
        "id": "yvCgJG3NVrpc"
      },
      "outputs": [],
      "source": [
        "# !pip install -U gym==0.25.2\n",
        "!pip install gym[atari]\n",
        "!pip install autorom[accept-rom-license]\n",
        "!pip install swig\n",
        "!pip install gym[box2d]"
      ]
    },
    {
      "cell_type": "code",
      "source": [
        "import numpy as np\n",
        "import matplotlib.pyplot as plt\n",
        "import gym\n",
        "from IPython.core.display import HTML\n",
        "from base64 import b64encode\n",
        "from gym.wrappers import record_video, record_episode_statistics\n",
        "from gym.wrappers import RecordVideo, RecordEpisodeStatistics\n",
        "import torch\n",
        "import os\n",
        "\n",
        "import warnings\n",
        "warnings.filterwarnings('ignore')"
      ],
      "metadata": {
        "id": "VMlaMXLBXw3E"
      },
      "execution_count": 3,
      "outputs": []
    },
    {
      "cell_type": "code",
      "source": [
        "def display_video(episode=0, video_width=600, video_dir= \"/content/video\"):\n",
        "\n",
        "    video_path = os.path.join(video_dir, f\"rl-video-episode-{episode}.mp4\")\n",
        "    video_file = open(video_path, \"rb\").read()\n",
        "    decoded = b64encode(video_file).decode()\n",
        "    video_url = f\"data:video/mp4;base64,{decoded}\"\n",
        "    return HTML(f\"\"\"<video width=\"{video_width}\"\" controls><source src=\"{video_url}\"></video>\"\"\")\n",
        "\n",
        "def create_env(name, render_mode=None, video_folder='/content/video'):\n",
        "    # render mode: \"human\", \"rgb_array\", \"ansi\")\n",
        "    env = gym.make(name, new_step_api=True, render_mode=render_mode)\n",
        "    env = RecordVideo(env, video_folder=video_folder, episode_trigger=lambda x: x % 50 == 0)\n",
        "    env = RecordEpisodeStatistics(env)\n",
        "    return env\n",
        "\n",
        "def show_reward(total_rewards):\n",
        "    plt.plot(total_rewards)\n",
        "    plt.xlabel('Episode')\n",
        "    plt.ylabel('Reward')\n",
        "    plt.show()"
      ],
      "metadata": {
        "id": "PQf9eBoPXw1N"
      },
      "execution_count": 4,
      "outputs": []
    },
    {
      "cell_type": "markdown",
      "source": [
        "## **Dynamic programming**\n",
        "we have just developed an MDP and computed the value function of the optimal policy using matrix inversion.\n",
        "\n",
        "Dynamic programming is an optimization technique that was developed by Richard Bellman in 1950s.\n",
        "\n",
        "policy evaluation is a iterative algorithm. It starts with arbitrary policy values and then iteratively update the values base on **Bellman expectation equation** until they converge. In each iteration value of a policy $\\pi$, for state $S$ is updated as follow:\n",
        "\n",
        "<br>\n",
        "\n",
        "The Bellman expectation equations:\n",
        "---\n",
        "\n",
        "---\n",
        "<br>\n",
        "\n",
        "- **For $V_\\pi(s)$:**\n",
        "\n",
        "$$\n",
        "    V_\\pi(s) = \\sum_{a} \\pi(a|s) \\sum_{s{'}} P(s{'}| s, a) \\left[ R(s, a, s{'}) + \\gamma V_\\pi(s{'}) \\right]\n",
        "$$\n",
        "\n",
        "- **For $Q_{\\pi}(s, a)$**\n",
        "\n",
        "$$\n",
        "\\begin{split}\n",
        "    Q_\\pi(s, a) & = \\sum_{s{'}} P(s{'}| s, a) \\left[ R(s, a, s{'}) + \\gamma \\sum_{a{'}} \\pi(a{'} | s{'}) Q_\\pi(s{'}, a{'}) \\right] \\\\\n",
        "    \\text{as we know: } v_{\\pi}(s) & = \\sum_{a} \\pi(a| s) Q_\\pi(s, a) \\text{ So: }\\\\\n",
        "    Q_\\pi(s, a) & = \\sum_{s{'}} P(s{'}| s, a) \\left[ R(s, a, s{'}) + \\gamma v_{\\pi}(s^{'}) \\right] \\\\\n",
        "\\end{split}\n",
        "$$\n",
        "\n",
        "<br>\n",
        "\n",
        "The Bellman Optimality equations:\n",
        "---\n",
        "\n",
        "---\n",
        "<br>\n",
        "\n",
        "- **For $V(s)$:**\n",
        "\n",
        "$$\n",
        "V_*(s) = \\max_a \\sum_{s{'}} P(s{'} | s, a) \\left[ R(s, a, s{'}) + \\gamma V^(s{'}) \\right]\n",
        "$$\n",
        "\n",
        "\n",
        "- **For $Q_{\\pi}(s, a)$**\n",
        "\n",
        "$$\n",
        "Q_*(s, a) = \\sum_{s{'}} P(s{'} | s, a) \\left[ R(s, a, s{'}) + \\gamma \\max_{a{'}} Q_*(s{'}, a{'}) \\right]\n",
        "$$\n",
        "\n",
        "---\n",
        "<br>\n",
        "\n",
        "1. **Policy evaluation or prediction**: first we use *expectation* equations to evaluate a policy\n",
        "2. **policy improvement**: then we use *optimality* equations to find an optimal policy that maximizes the state values and state-action values.\n",
        "\n",
        "\n",
        "\n",
        "**Note**: In order to use this method the problem should have finite states and actions."
      ],
      "metadata": {
        "id": "T_d9-Sz8X4_4"
      }
    },
    {
      "cell_type": "markdown",
      "source": [
        "## **Performing Policy evalulation**\n",
        "\n",
        "$$\n",
        "\\begin{split}\n",
        "    \\large (1) \\hspace{5mm} V_{n+1}(s) & \\leftarrow \\sum_{a} \\pi(a|s) \\sum_{s{'}} P(s{'}| s, a) \\left[ R(s, a, s{'}) + \\gamma V_n(s{'}) \\right] \\\\\n",
        "    \\text{Or} \\\\\n",
        "    \\large (2) \\hspace{5mm} V_{n+1}(s) & \\leftarrow \\sum_{a}{\\pi(s, a)\\left[R(s,a) +\n",
        "    \\gamma\\sum_{s^{'}}{T(s,a,s^{'})V_n(s{'})}\\right]}\n",
        "\\end{split}\n",
        "$$\n",
        "\n",
        "\n",
        ">Since we want to iterate over and over again, $V(s)$ subscript changed from $\\pi$ to $n$ and $n+1$. We initialize the value function $V$ to zeros for all states at the beginning.\n",
        "\n",
        "If $n \\rightarrow \\infty$ then $V_n(s)$ will converge to $V_{\\pi}(s)$\n",
        "\n",
        "**Note**: Here is the implementation of the second one."
      ],
      "metadata": {
        "id": "yKoPuSi2SukI"
      }
    },
    {
      "cell_type": "code",
      "source": [
        "def policy_evaluation(policy, trans_matrix, rewards, gamma, threshold):\n",
        "    \"\"\"\n",
        "    Evaluates the value function for a given policy using the Bellman expectation equation.\n",
        "\n",
        "    Parameters:\n",
        "        policy (torch.Tensor): A matrix of shape (n_state, n_action), where each entry represents the probability\n",
        "                               of taking an action in a given state under the policy.\n",
        "        trans_matrix (torch.Tensor): A matrix of shape (n_state, n_action, n_state), representing the transition\n",
        "                                     probabilities. Entry trans_matrix[s, a, s'] is the probability of transitioning\n",
        "                                     from state s to state s' by taking action a.\n",
        "        rewards (torch.Tensor): A vector of shape (n_state,) containing the immediate rewards for each state.\n",
        "        gamma (float): The discount factor, which determines the importance of future rewards (0 <= gamma < 1).\n",
        "        threshold (float): A small positive number to determine the stopping condition for convergence.\n",
        "\n",
        "    Returns:\n",
        "        V (torch.Tensor): The estimated state-value function for the given policy.\n",
        "        v_history (list): A list containing the history of state-value functions over iterations.\n",
        "    \"\"\"\n",
        "    # Number of states\n",
        "    n_state = policy.shape[0]\n",
        "\n",
        "    # Initialize the value function V to zeros for all states\n",
        "    V = torch.zeros(n_state)\n",
        "\n",
        "    # Keep track of the history of V for analysis\n",
        "    v_history = [V]\n",
        "\n",
        "    # Start the policy evaluation loop\n",
        "    while True:\n",
        "        # Temporary value function to compute updated values\n",
        "        v_temp = torch.zeros(n_state)\n",
        "\n",
        "        # Iterate over each state\n",
        "        for state, actions in enumerate(policy):\n",
        "            # Iterate over each action in the given state\n",
        "            for action, action_prob in enumerate(actions):\n",
        "                # Compute the expected value of transitioning to all possible next states\n",
        "                sigma = torch.dot(trans_matrix[state, action], V)  # Sum P(s' | s, a) * V(s')\n",
        "                # Update the temporary value function with the expected reward and discounted value\n",
        "                # V(s) = Σ_a 𝜋(𝑠,𝑎)[𝑅(𝑠,𝑎) + γ * ∑_𝑠′𝑇(𝑠,𝑎,𝑠′)𝑉(𝑠′)]\n",
        "                v_temp[state] += action_prob * (rewards[state] + gamma * sigma)\n",
        "\n",
        "        # Compute the maximum change (delta) between the old and updated value functions\n",
        "        delta = torch.max(torch.abs(V - v_temp))\n",
        "\n",
        "        # Update the value function with the newly computed values\n",
        "        V = v_temp.clone()\n",
        "\n",
        "        # Append the current value function to the history for analysis\n",
        "        v_history.append(V)\n",
        "\n",
        "        # Check if the change (delta) is below the convergence threshold\n",
        "        if delta <= threshold:\n",
        "            break\n",
        "\n",
        "    # Return the final value function and the history of updates\n",
        "    return V, v_history"
      ],
      "metadata": {
        "id": "0ciDfQZdXwzH"
      },
      "execution_count": 22,
      "outputs": []
    },
    {
      "cell_type": "code",
      "source": [
        "# Define the transition probability matrix (T)\n",
        "T = torch.tensor(\n",
        "    [[[0.8, 0.1, 0.1],  # From state 0, action 0 leads to state 0 with 80% probability, state 1 with 10%, state 2 with 10%.\n",
        "      [0.1, 0.6, 0.3]],  # From state 0, action 1 leads to state 0 with 10%, state 1 with 60%, state 2 with 30%.\n",
        "     [[0.7, 0.2, 0.1],  # From state 1, action 0 leads to state 0 with 70%, state 1 with 20%, state 2 with 10%.\n",
        "      [0.1, 0.8, 0.1]],  # From state 1, action 1 leads to state 0 with 10%, state 1 with 80%, state 2 with 10%.\n",
        "     [[0.6, 0.2, 0.2],  # From state 2, action 0 leads to state 0 with 60%, state 1 with 20%, state 2 with 20%.\n",
        "      [0.1, 0.4, 0.5]]]  # From state 2, action 1 leads to state 0 with 10%, state 1 with 40%, state 2 with 50%.\n",
        ")\n",
        "\n",
        "R = torch.tensor([1., 0., -1.])  # State 0 gives a reward of 1, state 1 gives 0, and state 2 gives -1.\n",
        "\n",
        "gamma = 0.5  # Future rewards are discounted by a factor of 0.5.\n",
        "\n",
        "policy_optimal = torch.tensor(\n",
        "    [[1., 0.],  # In state 0, the policy always chooses action 0 (probability 1.0 for action 0, 0.0 for action 1).\n",
        "     [1., 0.],  # In state 1, the policy always chooses action 0.\n",
        "     [1., 0.]]  # In state 2, the policy always chooses action 0.\n",
        ")\n",
        "\n",
        "threshhold = 0.0001  # Stop iterating when the maximum change in value estimates is below this threshold.\n",
        "\n",
        "# Perform policy evaluation to compute the value function under the optimal policy\n",
        "V, _ = policy_evaluation(policy_optimal, T, R, gamma, threshhold)\n",
        "\n",
        "print(f\"The value function under the optimal policy is: \\n{V.numpy()}\")"
      ],
      "metadata": {
        "id": "mUkbb8kJXwxT",
        "colab": {
          "base_uri": "https://localhost:8080/"
        },
        "outputId": "e316a31e-84e1-4ff7-d0d5-9ee79bad8a99"
      },
      "execution_count": 23,
      "outputs": [
        {
          "output_type": "stream",
          "name": "stdout",
          "text": [
            "The value function under the optimal policy is: \n",
            "[ 1.6785905   0.6259589  -0.48207426]\n"
          ]
        }
      ]
    },
    {
      "cell_type": "code",
      "source": [
        "policy_optimal = torch.tensor(\n",
        "    [[.5, .5],\n",
        "     [.5, .5],\n",
        "     [.5, .5]]\n",
        ")\n",
        "\n",
        "V, v_history = policy_evaluation(policy_optimal, T, R, gamma, threshhold)\n",
        "print(f\"the value function under the optimal policy is: \\n{V.numpy()}\")"
      ],
      "metadata": {
        "id": "fPoP3pBfXwvN",
        "colab": {
          "base_uri": "https://localhost:8080/"
        },
        "outputId": "921f8a55-79e4-47b4-f326-cd438644bdbc"
      },
      "execution_count": 7,
      "outputs": [
        {
          "output_type": "stream",
          "name": "stdout",
          "text": [
            "the value function under the optimal policy is: \n",
            "[ 1.2347662   0.26914817 -0.90129805]\n"
          ]
        }
      ]
    },
    {
      "cell_type": "code",
      "source": [
        "# Plot the value function for each state over iterations\n",
        "s0, = plt.plot([v[0] for v in v_history])  # Extract and plot the value of state s0 over all iterations\n",
        "s1, = plt.plot([v[1] for v in v_history])  # Extract and plot the value of state s1 over all iterations\n",
        "s2, = plt.plot([v[2] for v in v_history])  # Extract and plot the value of state s2 over all iterations\n",
        "\n",
        "plt.title(f\"Optimal policy with gamma = {gamma}\")\n",
        "plt.xlabel(\"Iteration\")\n",
        "plt.ylabel(\"Policy values\")\n",
        "plt.legend([s0, s1, s2], [\"State s0\", \"State s1\", \"State s2\"], loc=\"upper left\")\n",
        "plt.show()"
      ],
      "metadata": {
        "id": "Fm_SE4csXwtp",
        "colab": {
          "base_uri": "https://localhost:8080/",
          "height": 471
        },
        "outputId": "60abab25-eb12-4af9-8d55-04d534eee072"
      },
      "execution_count": 25,
      "outputs": [
        {
          "output_type": "display_data",
          "data": {
            "text/plain": [
              "<Figure size 640x480 with 1 Axes>"
            ],
            "image/png": "[encoded data removed]"
          },
          "metadata": {}
        }
      ]
    },
    {
      "cell_type": "markdown",
      "source": [
        "## **Value iteration algorithm**\n",
        "\n",
        "An MDP is considered solved if it's optinal policy is found. we will figure out the optimal policy for the Frozen Lake environment using **value iteration**\n",
        "\n",
        "The behind this algorithm is quite similar to that of policy evaluation, It is also an iterative algorithm. It starts with arbitrary policy value and the iteratively updates the values base on **Bellman optimality equation**. So in each iteration instead of taking the expectation(average) of values across all actions, it pick the action that achieve the maximal policy values:\n",
        "\n",
        "<br>\n",
        "\n",
        "---\n",
        "\n",
        "$$\n",
        "\\large\\textit{Bellman optimality equations:}\\\\\n",
        "$$\n",
        "\n",
        "$$\n",
        "\\begin{split}\n",
        "    V_{*}(s) & = max_{a}\\left[R(s,a) + \\gamma\\sum_{s^{'}}{T(s,a,s^{'})V_{*}(s^{'})}\\right] \\\\\n",
        "    \\text{or} \\\\\n",
        "    \\\\\n",
        "    V_{*}(s) & = max_{a}\\sum_{s^{'}}{T(s,a,s^{'})} \\left[R(s,a, s^{'}) + \\gamma V_{*}(s^{'})\\right]\n",
        "\\end{split}\n",
        "$$\n",
        "\n",
        "---\n",
        "\n",
        "<br>\n",
        "\n",
        "Once the optimal values are computed, we can easily obtain the obtimal policy acccordingly:\n",
        "\n",
        "$$\n",
        "\\pi_{*}(s) := argmax_{a}\\sum_{s^{'}}{T(s,a,s^{'})}\n",
        "\\left[R(s,a, s^{'}) + \\gamma V_{*}(s^{'})\\right]\n",
        "$$\n",
        "\n",
        "<br>\n",
        "\n",
        "- **Gym Environment**\n",
        "\n",
        "```\n",
        "env.env.P[s][a] --> Transition_matrix_Prob, next_state, reward, info\n",
        "```\n",
        "we going to use above function for value iteration algorithm"
      ],
      "metadata": {
        "id": "MLWvrUjHZPWX"
      }
    },
    {
      "cell_type": "markdown",
      "source": [
        "## **Key Difference Between Policy Evaluation and Value Iteration**\n",
        "\n",
        "1. **Policy Evaluation:**\n",
        "- **Goal**: Compute the value function $V_\\pi(s)$ for a fixed policy $\\pi$, which specifies the probability of taking each action in every state.\n",
        "- **Update Rule**:\n",
        "\n",
        "$$\n",
        "    V_\\pi(s) = \\sum_{a} \\pi(a|s) \\sum_{s{'}} P(s{'}|s, a) \\left[ R(s, a, s{'}) + \\gamma V_\\pi(s{'}) \\right]\n",
        "$$\n",
        "> *Input*: A fixed policy $\\pi$. <br> *Output*: The value function $V_\\pi(s)$ for that policy.\n",
        "\n",
        "<br>\n",
        "\n",
        "2. **Value Iteration:**\n",
        "- **Goal**: Find the optimal value function $V(s)$ and derive the optimal policy $\\pi$.\n",
        "\n",
        "- **Update Rule**:  It iteratively computes the optimal value function by taking the maximum over all possible actions.\n",
        "\n",
        "$$\n",
        "V_*(s) = \\max_a \\sum_{s{'}} P(s{'}|s, a) \\left[ R(s, a, s{'}) + \\gamma V(s{'}) \\right]\n",
        "$$\n",
        "\n",
        "> *Input*: The environment’s dynamics (transition probabilities and rewards). <br> *Output*: The optimal value function $V_*(s)$."
      ],
      "metadata": {
        "id": "7pkpF6GRbs_u"
      }
    },
    {
      "cell_type": "code",
      "source": [
        "def value_iteration(env, gamma, threshold):\n",
        "    \"\"\"\n",
        "    Performs value iteration to compute the optimal value function.\n",
        "\n",
        "    Parameters:\n",
        "        env: The environment object (assumed to follow OpenAI Gym's structure).\n",
        "        gamma: The discount factor (0 <= gamma < 1).\n",
        "        threshold: The convergence threshold for stopping the algorithm.\n",
        "\n",
        "    Returns:\n",
        "        V: The optimal value function for the environment.\n",
        "    \"\"\"\n",
        "    n_state = env.observation_space.n # Number of states in the environment\n",
        "    n_action = env.action_space.n # Number of actions in the environment\n",
        "\n",
        "    # Initialize the value function to zero for all states\n",
        "    V = torch.zeros(n_state)\n",
        "\n",
        "    # Start the value iteration loop\n",
        "    while True:\n",
        "        # Temporary value function to store updated values\n",
        "        v_temp = torch.empty(n_state)\n",
        "\n",
        "        # Iterate over each state in the environment\n",
        "        for state in range(n_state):\n",
        "            # Compute the value for each action in the current state\n",
        "            v_action = torch.zeros(n_action)\n",
        "            for action in range(n_action):\n",
        "                # Iterate over all possible transitions for the (state, action) pair\n",
        "                for T_prob, s_prime, R, _ in env.env.P[state][action]:\n",
        "                    # Add the contribution of each transition to the action value\n",
        "                    v_action[action] += T_prob * (R + gamma * V[s_prime].item())\n",
        "\n",
        "            # Take the maximum action value as the new value for the current state\n",
        "            v_temp[state] = torch.max(v_action)\n",
        "\n",
        "        # Compute the maximum change in value across all states (convergence check)\n",
        "        delta = torch.max(torch.abs(V - v_temp))\n",
        "\n",
        "        # Update the value function\n",
        "        V = v_temp.clone()\n",
        "\n",
        "        # Stop iterating if the maximum change is below the threshold\n",
        "        if delta <= threshold:\n",
        "            break\n",
        "\n",
        "    # Return the optimal value function\n",
        "    return V"
      ],
      "metadata": {
        "id": "vZbtAqqaZNJ7"
      },
      "execution_count": 26,
      "outputs": []
    },
    {
      "cell_type": "markdown",
      "source": [
        "## **Policy imporovement**\n",
        "\n",
        "In the previous section, after starting with a random policy, we getting $V(s)$ for a given policy. Instead of followinga random policy $\\pi(a|s)$, now we look at the value of taking $|A|$ number of actions individually. These are the action value ($q(s,a )$) of each action we can take in our environment:\n",
        "\n",
        "$$\n",
        "    \\large q(s, a) = \\sum_{s^{'}, a}p(s^{'},r|s, a) \\left[ r + \\gamma v_{\\pi}(s^{'}) \\right]\n",
        "$$\n",
        "\n",
        "If any of the $q(s, a)$ is greater than the current state value $v_π(s)$, it means that current policy $π(a| s)$ is not taking the optimal action. So Taking the q-value with max action (**Greedy step**) vlaue and defining this to be the policy in state $S$ will give a higher state value compared to the current policy $π(a| s)$:\n",
        "\n",
        "$$\n",
        "    \\large \\pi^{'}(a|s) = \\underset{a}{\\textit{argmax}} \\ q(s, a)\n",
        "$$"
      ],
      "metadata": {
        "id": "nOqgk-JCElo0"
      }
    },
    {
      "cell_type": "code",
      "source": [
        "def policy_improvment(env, optimal_value, gamma):\n",
        "    \"\"\"\n",
        "    Performs policy improvement based on a given optimal value function.\n",
        "\n",
        "    Parameters:\n",
        "        env: The environment object (assumed to follow OpenAI Gym's structure).\n",
        "        optimal_value (torch.Tensor): The optimal value function computed previously.\n",
        "        gamma (float): The discount factor (0 <= gamma < 1).\n",
        "\n",
        "    Returns:\n",
        "        policy (torch.Tensor): The improved policy, where each entry represents the optimal action for a given state.\n",
        "    \"\"\"\n",
        "    n_state = env.observation_space.n # Number of states in the environment\n",
        "    n_action = env.action_space.n # Number of actions in the environment\n",
        "\n",
        "    # Initialize the policy as a tensor of zeros (one action per state)\n",
        "    policy = torch.zeros(n_state)\n",
        "\n",
        "    # Iterate over each state in the environment\n",
        "    for state in range(n_state):\n",
        "        # Initialize a tensor to store the value of each action in the current state\n",
        "        v_action = torch.zeros(n_action)\n",
        "\n",
        "        # Iterate over all possible actions for the current state\n",
        "        for action in range(n_action):\n",
        "            # Iterate over all possible transitions for the (state, action) pair\n",
        "            for T_prob, s_prime, R, _ in env.env.P[state][action]:\n",
        "                # Compute the action value using the Bellman optimality equation:\n",
        "                # Q(s, a) = Σ_s' P(s'|s, a) * [R(s, a, s') + γ * V(s')]\n",
        "                v_action[action] += T_prob * (R + gamma * optimal_value[s_prime].item())\n",
        "\n",
        "        # Choose the action with the highest value (greedy policy)\n",
        "        policy[state] = torch.argmax(v_action)\n",
        "\n",
        "    # Return the improved policy\n",
        "    return policy"
      ],
      "metadata": {
        "id": "7GxXGI36EmQa"
      },
      "execution_count": null,
      "outputs": []
    },
    {
      "cell_type": "code",
      "source": [
        "gamma = 0.99\n",
        "threshhold = 0.0001\n",
        "v_optimal = value_iteration(env, gamma, threshhold)\n",
        "optimal_policy = policy_improvment(env, v_optimal, gamma).long()"
      ],
      "metadata": {
        "id": "joBw-XHVZNH2"
      },
      "execution_count": 27,
      "outputs": []
    },
    {
      "cell_type": "code",
      "source": [
        "def run_episode(env, policy):\n",
        "    state = env.reset()\n",
        "    total_reward = 0\n",
        "    done = False\n",
        "    while not done:\n",
        "        action = policy[state].item()\n",
        "        state, reward, done, _ =  env.step(action)\n",
        "        total_reward += reward\n",
        "\n",
        "    return total_reward"
      ],
      "metadata": {
        "id": "Oj3CZKkeZND8"
      },
      "execution_count": 28,
      "outputs": []
    },
    {
      "cell_type": "code",
      "source": [
        "import os\n",
        "os.environ[\"SDL_VIDEODRIVER\"] = \"dummy\""
      ],
      "metadata": {
        "id": "xfh2mC8XZNAU"
      },
      "execution_count": 29,
      "outputs": []
    },
    {
      "cell_type": "markdown",
      "source": [
        "## **Frozen Lake Environment**\n",
        "<center><img align=\"right\" width=\"200\" src=\"https://www.gymlibrary.dev/_images/frozen_lake.gif\">\n",
        "\n",
        "<br>\n",
        "\n",
        "|                   |            |\n",
        "|-------------------|--------------|\n",
        "| action Space      | Discrete(4) |\n",
        "| Observation Space | Discrete(16) |\n",
        "| Import            | `gym.make(\"FrozenLake-v1\")` |\n"
      ],
      "metadata": {
        "id": "vw219mY6l5ZP"
      }
    },
    {
      "cell_type": "code",
      "source": [
        "env = create_env(\"FrozenLake-v1\")\n",
        "n_episode = 500\n",
        "total_rewards = []\n",
        "for episode in range(n_episode):\n",
        "    R = run_episode(env, optimal_policy)\n",
        "    total_rewards.append(R)\n",
        "\n",
        "    if episode % 50 == 0 and episode > 0:\n",
        "        avg_tot_reward = sum(total_rewards) / episode\n",
        "        print(f\"Average total reward over {episode} episodes: {avg_tot_reward:.2f}\")\n"
      ],
      "metadata": {
        "id": "qtrYpwU_ZM8L",
        "colab": {
          "base_uri": "https://localhost:8080/"
        },
        "outputId": "4ce2817b-4071-4626-b0da-296b0310a42a"
      },
      "execution_count": 30,
      "outputs": [
        {
          "output_type": "stream",
          "name": "stdout",
          "text": [
            "Average total reward over 50 episodes: 0.76\n",
            "Average total reward over 100 episodes: 0.74\n",
            "Average total reward over 150 episodes: 0.73\n",
            "Average total reward over 200 episodes: 0.72\n",
            "Average total reward over 250 episodes: 0.75\n",
            "Average total reward over 300 episodes: 0.77\n",
            "Average total reward over 350 episodes: 0.76\n",
            "Average total reward over 400 episodes: 0.76\n",
            "Average total reward over 450 episodes: 0.76\n"
          ]
        }
      ]
    },
    {
      "cell_type": "code",
      "source": [
        "display_video(450)"
      ],
      "metadata": {
        "id": "SHy6sFKWXwrn",
        "colab": {
          "base_uri": "https://localhost:8080/",
          "height": 620
        },
        "outputId": "d84055f7-ab84-4701-fac2-8265daf5c1b8"
      },
      "execution_count": 17,
      "outputs": [
        {
          "output_type": "execute_result",
          "data": {
            "text/plain": [
              "<IPython.core.display.HTML object>"
            ],
            "text/html": [
              "<video width=\"600\"\" controls><source src=\"data:video/mp4;base64,AAAAIGZ0eXBpc29tAAACAGlzb21pc28yYXZjMW1wNDEAAAAIZnJlZQAAlAdtZGF0AAACrQYF//+p3EXpvebZSLeWLNgg2SPu73gyNjQgLSBjb3JlIDE2MyByMzA2MCA1ZGI2YWE2IC0gSC4yNjQvTVBFRy00IEFWQyBjb2RlYyAtIENvcHlsZWZ0IDIwMDMtMjAyMSAtIGh0dHA6Ly93d3cudmlkZW9sYW4ub3JnL3gyNjQuaHRtbCAtIG9wdGlvbnM6IGNhYmFjPTEgcmVmPTMgZGVibG9jaz0xOjA6MCBhbmFseXNlPTB4MzoweDExMyBtZT1oZXggc3VibWU9NyBwc3k9MSBwc3lfcmQ9MS4wMDowLjAwIG1peGVkX3JlZj0xIG1lX3JhbmdlPTE2IGNocm9tYV9tZT0xIHRyZWxsaXM9MSA4eDhkY3Q9MSBjcW09MCBkZWFkem9uZT0yMSwxMSBmYXN0X3Bza2lwPTEgY2hyb21hX3FwX29mZnNldD0tMiB0aHJlYWRzPTMgbG9va2FoZWFkX3RocmVhZHM9MSBzbGljZWRfdGhyZWFkcz0wIG5yPTAgZGVjaW1hdGU9MSBpbnRlcmxhY2VkPTAgYmx1cmF5X2NvbXBhdD0wIGNvbnN0cmFpbmVkX2ludHJhPTAgYmZyYW1lcz0zIGJfcHlyYW1pZD0yIGJfYWRhcHQ9MSBiX2JpYXM9MCBkaXJlY3Q9MSB3ZWlnaHRiPTEgb3Blbl9nb3A9MCB3ZWlnaHRwPTIga2V5aW50PTI1MCBrZXlpbnRfbWluPTQgc2NlbmVjdXQ9NDAgaW50cmFfcmVmcmVzaD0wIHJjX2xvb2thaGVhZD00MCByYz1jcmYgbWJ0cmVlPTEgY3JmPTIzLjAgcWNvbXA9MC42MCBxcG1pbj0wIHFwbWF4PTY5IHFwc3RlcD00IGlwX3JhdGlvPTEuNDAgYXE9MToxLjAwAIAAAGGJZYiEACv/o3eRH+cnGm0ukb7wOpO8UWuobvuowGbW091P7nElDroD9k/A0A9XgABJfE5dTBubFaF7tFHB+568bx5qSYDgt2f12JtvJmcuWATYlWFG/RFmrnk5K8eOmiPEWXJ0tUmUczvINlJL5NPeOSalSGDENyUkB4vgU9/TEZeUPT6YdeUizfRJEDpmSstUy+nWSxnM56Hev30yjV29bUHb6eSNftxmam3nGSrV7RMiaRx/UemVvUi06dG5GVx6bVDDcmMebYHqdM5MPAy9pun5L5z5pVPRdjYjNpWQ9R3OQBkRZb0xV+ZDfl1WwHuEfULWDTlqmgRfEusBU8K4omGSzhA4B/KEThSV+Hr84PWoQboDuFmLNPUUfe2XdDtWOm/0VR4C9Zb5rPdHpgfz54osQ4LwG6Lwx4oS/o/lsaxrQ+67YNgTfjDS9iKmmAfd4YzqNCzzWnVDixNl1WGZoqsP3+xB9XtkhLOdY+pd/lTCbsnX418a+JK0iE2zhq1pwBdYjbnyDPtarY8N/nYxbOd1n2s6ZgzRP4Awf+EQP1NLNS2mO5Wm0uJXhvgEIberh0tju5fsOaZQlpZgGDCtmXm4cyzIhNw2MiRTe7sBcQRRWTCwiVghnN2fuvkUuYWVJuheCxRKWJ2eNx21nb1/F9sBRZagK8BfHJMK79OD+/Jvlox1NYsDRCJ0ahFTXS3yuCgXnbApQIOiiHqZxQfdh0W2RVlraPqdWEKxgCA/JaV2+eqi5xRdaJWTYw55j83Qzvd64kfBCg2UlHnASTWSDmzmJrWwJ4Xj0TkexkJqVBFskHgWIBhexqp16gynUEM7QK2FCgve9tRtYNBOt0hBprTvOzQsS5QN1B5pT5QvxZXI+Qmc3iqF1EAR8hvtZz3V8Dadw8B03DfDxBkNW5hgzd8Qi2dMM0s+u29PL+rN3HV+HtWebhYI81CmRQ8ygYtculeNI6EBOvzdXUV/0FSNTDZRN/gFzqpc3CL14IFhbbNfwIwH3WBO6sx+RLMtq3Hdee3SVm+ICx+F2DMXT0mbJ0b0xcD6C2RFRa/By1reow2yAsp66aEFoKMUK96RrBoVI2DJGpFK/dgZIFN7zIh8MizJEMA0f5onUuzKV/uMsSGctoGAlvEI7b3PXIMYkg6XOwATt0zNNyWtuhwesKTYZ51KiY+N/tISq0Rs20QRYXCIuW3NPZlbijwGoQ52L1F2CbxXPkpzTJ8iYPqbZKVlRDVpuZnJk7YoHtJvDSU+78B4i5meMI+Dy8Qk5EOxzFKJVo+U+HV79czROGjzv4VaBSNvdRvUCNBJQmanvlOcKMdi8Mti/iaFDFlEonZ+NbU35VtJWPgdveCQhfsYB+RJtB3jRDSZBPKtpFVhGhjh6menW/jLgNMto407EhLPTcd5p4kWxqnX59TiLcz1HUZRj4yXUxCXqxdWoA7K00+d9I2L2oe6LfPHOgLmB/r8q3DXn3P3uKY7lbVgJdsl6GV9e1kU/IBSAZKdgpaWYDRkN/czsdybIu7UeJyUY46cCkD95DBWgOxHtR0ZoJTRcvnxxtoLyOOOw9YpdUz0r7vlqqWUX6nRvI0mPV8MglusBVzX68bRKJj1y/aLio+e9pPhn8CF05wb8V9giRbDoueB4pZyE/QilZj5z2jyzHLW7nH/u2cQsPz4rQvCg4/MnXROtplr3JEaYinLsZsxPtX2v7k/dYOvyEzhfdGmkK5saUsU7d9X5UUFDNbJzBhW1X/Y2yWTMYQp4Ra9aIXvkzoFlrjf4WMeLtf/Z55YsX/nYMJRnUnASNaa0NNvY8azlBEmSecC1eCZsuValdAKBDQd2/jiorYhVm50vhlvfgHTFousT4QzHJkY4IsdyWKKHC7wx/Dex/eI9q07FbbDCklH+AN99gDjocBAiY821/2r1DL05fXxVR0FhREuiWb4KPA9qWumMR5tBgGQbuhQ7PSmnq8KKsZyxN85EfNqCY3jrlX1c4frI+TIforCgqJaXvv9NCSb1RZoj8PdSufSWMpy4mKgSY8VD5XLRloT0mWYPafWJiTnHBxNmL+YO+eypBVichnG9IPYnIOkgRs2MmP9kHxELhYLohxY2o0XQxdozXspZXFbBpu+Vz6R4BR8uV/ymvHfiV5haJ1At/zjEQPqIWKoIaTHOk80AFsYsYNzsqPZ4l3M2ny93q6n/yCAmAEgwG5vJ0tM33vai1d5rkpNTgE5qLpT7V+3xniRp92zCpjT7XZMOuWZLCDQgiFOSGuJul9xumg73XHwYTmR9ZyLd5LSDgVyYSgafR9eZryrMVBpUe3XcNgkv1kFyxPfT+aMe5T02LX6kVmAlNnRAulsax0O14RnxvzcBxSF4M303BmznThjTEqQs8FGji1GocyJrqQUbb4QsNszze4nnWKo8soVjFhNw+RrzYYNmo5tgk0S+XFDJVP4zTdDT1Q8kqxjDjcM/J67LAvDa6l+vOrmsE74bLqQO/cweX/5GiH3/8H0wa4acLQCF0wPda9dC45IrsHM94G662h5GR4STdfL9ythovRsziIHAYMpETO/oHLoi+00/WmbupIdtrkXipFxg9FWF4hXBM0qIvfrVaysSgtEe7VEjGfO00RvFzFI6pHww29omB+2DslP5K1KXGavKtiRGfvDrswi8BApMycBRF2BxmiTkGWOEV4/QJCoygnUNxZVA9XEAKf2WrJtw4lwRpuFqbEbnxy5SSKcrxExYZyr5M8r+xvzMia60sFPvL1xDplDoGHf9cXCicl5OsJYcsgvwDCZeBgzKuB8uEA/xloFx43btJphBZVjlpqxfYPbE7yNuwvqkJrdbyZUdMQgbaQx8fpyJ10FGZQpRZXtaGxet3UC6ud0Zt7GqDMJRvPeCnhKl+oVyoXoSIcWWRj8TwEr8iGuFPXhtBu1SRqerSLDfZSQCDUdQvxmwQd+Iw9QzhZ1hvrsfYOVvSjYDy0Nb94IEJ8zctsukjvOd9DG2EDQmogSBMuvmbVYURiWAiG2r4UOtQwTfdBS/Ju0YImYc0dZw7OwfHwhbfpjhnZfgzZJRmrpQVN1MuCBslJbTcdM6/2F2/2b9AAvECyrJRY7dsPJdZ2fVgJNv2Q4ankH+XzcYHHmRYvt4P56FWleZoejqlFJPoAloAn+ti7gph+RUlQ6M+oPKWtHYwa2tt/Ykcq2dmJjHDVMdeGLBTHOVh/TlFpsZIrFZF7k4f8jaK+qLFdRfGhBah7AnkckMUNyiZ/dQUTyvL+B09cvypPH5fmT8jiEN5sORCAXi6qPsrXL7D0dQY2bfMvJC4oB8CkXQRx4r5QwaSBDbDfkNnJX3o1E2o5xA7CdqLWBwbrVxcW4yeDQMmc3ANjB0+QH1uLOBsDiztpELu1urQnr35VIOqQrzw66qNGbR5K2NXq1O3RWxy6W/DnU8Fqzab0fxM094JNHY2Z9RteiB/EcBL9ww2ArWObWntdEgrellNVq3OYckaJBBRBqg2fC7meyPumtwKUhou+RG2OEBSlTvwwzRck65W05AsNAJtZqzQa/60nUK2zxzMCyhkwk8NMZTRqXEzOm6vKFplJd1WtIj2w4pCfWDdzzUAWCkgXaLDrB8/1rodSuJskwiJNyG/JZFvRYrWcPbzUFIkXqcQ5hjAMTGscERI6+sVCBuXKj8ZhT4UkZYp3zIOqjjAScTYhO3s+wR/CiyKfKt+ghQARq+GQelNawXYAjBbvEOcJXMEK+gATxN+Ieiu92UFL9MSjyYt8JJcjEeZqwuQDCHCEB2MjWvmnYYtr/ErCPyGASSVAhDzJCS5kzy+izx+8ZnTvTxgR7ryFt3RlOIvB66rxFoUsw4a7tKPvGm98WrsqywVAmDrrXSqEIsYfrrlwo1hcVmukNGMTMUXNMK69epjTbZGpyx9mJJ99i/ajRjzKPwYFLUlGFNgeDUCPIvQNMOEHtYEGrM+GzKoRjj3vsU1+Y4y7jYhHwDrzAXGSSey6wpdikMBpLkitSvwNYarGRfBcXlgYusSTZ9/ey0EkqRGtIsPYYBodfHjgFhFltuxkC5r8cSw/aMV5mRoE2Y6cHjULp53gpobhC0c7tJDCo5bA5lrgaTN+wufQ8H2nd5GE2ECpx1DREE9nCMwjVcXiHXOTT9hT5YH9GH3oEl7zo3tq+Dtg85OGtVCJ+N5FOomQGZy6e2JuwVOxPaBbwfvWB3RT9scNe/nbtKe9sh+SwUAbNuF3us5k+Vug5v0nBExRvUxJ2P/d0QzgEqXzIF6saTCG9fYCkEGmEM6QZqb9sIlBYCjw23X+Jz5SQU8SF5f7W8QBmx7cQ+bltRr5rxqm7CnII5scCeo/ydloKKR9UDuRoGOL5W0NtQEGNi4u9pNTHOvKXPuSsCVfKX50+vIN5OT6K6mvgc+A7Vu6Xj6xpAr9DxvJwpShc/8olKnm9BMldH7NLncy+qt1tM7odspz/TPxkjc7LIhQX5oXsV7mX4S2g0aB0zM9V6GrT80HCg037qqPEqgaRyuFO0o+TeQivgiEktjtx9RXrqIy0mXVD/fxasnglOQm9UDkeiWcpnoRRmEAq+495e/Nmxi7vmyZqjXEnrSVJ9/rsB4yAZvSPECKlCzbv4kxKs9Sfgo9iOYF5zcgR8HUyVlzuR8O0PUDVyojqcQGAXj8Oft2GdltiusWrnK7cw7m6+O/jiKx58vJoNk3dLN7edoQbriCWfRVSsS1dktif5H43JOhyjQnDKWvWCn0NmWP4v/ytUd/8uZc9Da0diZDzthG+EA62pqYui0hAkCPfIk/UeiESH0fmZ0OfiUbHv61znTaXmDiOMIn5T3KmSsqkDFOgceCfeTAZMGiYBQtbRq/tZZWikVjPj8tqIe323/tRu0fbklDB0J1AbDgD7dWv5He3iGPVKPCWpyYnez9RRPmrsiNNhEfgwNyIgqwWwTb5KUpV1PTracWEueiif+DeoAC4vwB1Q+j99jill12AdHIzXpTTJtw8El4/jJe0XkSybQb7r2g8cMvdTWC8rPegFzAGe0VeaRPKRyrE4XBGvFSgDBlR4APO68pZGrkFhjyiQdpMRDCbsobLWFJLPLldvuFSqZn1WHecPRzO9vMhe54rwH7naSRyYHTb2Ol/LE80/nb6LYmH+1pYWa8e3BlV5aL6Zsg//dUnLxFQtvhG40MOC/A/k2BJLcNBJFrYQsgxIKiAxTYTtzX/d7IDsycAi7jCBFb1S5KWb1eOm12/yasN5wTHSH1HsEXWvo2cvS/tUFzBs4Xi8yHtcPqyN14wCvPtqJ9GGIXNQXxy0AbZX2MeQT7i9TRH7KmaCbkaMsybdZlTImnzVgtDDMzowwMf1RNeIePIddcgZCgsnQge366m9dY248LGs4jn4sK/2lO86FwlcTuW86eSxGQKPRmnVrNXO9ZqNidnorwiA7GlXye/5Z1veBohjC6e9cjRNCAH/OMwpJzbb4FbpcY0uyh1YA5VC9DafSSWKOebwW2zdd75hl/hGGOI+zC3Wmz4jZevC9yIaNcYPRckjMsCLTlz6ZQx+6BIum1LelPdtCg3sYYPinBvWLCL9eWuwy0jsLcLb4iuOYb3lXsKbp8+fM0G9VncRQbPxx0mewUYIO2w/Yn2RmkCq+D9oUE7fKrravz/1/GMtyVnnaA02UZNS/82FtiF2Bob50YKD9k1RwE92DLuTQ2YDzQgbsMOGyoSgNnFUtLQeqrBG+aw3OnBMWyd+OAQd8IjqouYL1JL+AUSz+oxLg0u5LrCL11CCILz9T1z7fj0lA2zmAmF4Aj9ymfD5OLe4Lhr92dPMLIU8BmqxiO8Pj25JyxSAyJ8qlj3N6Zt7R4Ezcl23TorDwW1Y+HP8hYZliK55jBQNrtRAIiB3kVBeV0vMETSU8DqEOkN3ywRGW4vDDVzSw74oYpJHms2LHs0QPQdt9530hTM6n8jSBtzhSk8d7EvGZIftlOd6QB/hX/+bWNdxC7/qZVGkM71TieDWOs7L2IKlqw7S1LdNDWnB+DucMQUzPyPad2ccuHYN2oydj82GTCYxIyqtn5mS9Nyovq3V8OoZLDYDSGe69IKtqV1x18xB+Lc0gaTgRyc5QwkvGchaqsJ3KaMhCpAeEPYoU+eITRtx4DLfjDV+HtT6dMWe2RhtKTodOgqOgsqyg0FpB0P2AkcrnFr/FSbV0XyrM49HF5bpwgczeyBUr1CTpBaiC+G69Jek9v4y0MyiqqmFZrHBnhJlNQkwvaZbHiA/QkHnYkpHdfNwxntJZOwdAvqV/pIPK/bftQpOOlJxdKeFV6y7p7jvajaFqFiFOEz9ctDb6tg5AlQQ7VruoGU0YD/YxBWBKKucIoIlFoLg3obr+tsXf2pN1yNFdSqTTi9sW4PVjNrPUZv8pUFNgiCJLMr4XVfiRksFZxynrwXfB/BRuc4KLyQRx9MRYDYb8LqcFQC5s6SCKH0yep7kv66PPTV2uQIktC7q/Q2uoV3DRn+AiMeMJxU3b6iaJ3mQOnxMtGfZXsV9tulrDweEfnagZL5iCHpWAq4yHdExj0E5AdWfCUxoRNjKyOy0gEmG++cPQNuT9njIg9YHIFMQbKe/3epE/pNbwbRHJNj4jwwumg05beKxuQsl9RPVplJYOFmOEIpn/m/pugEZQWTMUlJptLXOaUX26E2rREPd2TV/hko8oFuoXqj1vELACGjnPUEyILZI2vXscz3bUQ/S/VeuzXf7EdQz2oHpJLuQ6kDi77GuYzVLJpW+VHRd1aBtAseCFztX1IF0vLLzowBJbUCn9mbnUVHmiCwH+xiCsnXDwbZmhD3Lv6xXzWsQm3NnC/oMnKidDvaY00wsAQiyWCFGq2uwUF0ScZ/1xLzDHcnFLM0jxCiyjqw2iXUIQrnjiFJBuBrQ3j+ZIaNvmbrW4+5hHbIUD/dN29oCRtJyfKqVCV5e9CJ3xJ6p/dSPCiTu7Aqok1p+OdkBYZVSErK5GmiizSdNV0+KhEKxpNWKayE0yS8KgBvFRn+Zrealj0W8zjdl+H7rKBCjPE2QxDMj7ULRfEd8Higd+ZiEBw1Mw/Tcu1nHjKLpLfpQvro5HJMNaak5a/tzgkoHI2H6h759n4/cZHtQAJtlA3I1RrWOzOOz6UNZqhrhOfmJQMT3/x5LjQNrTRH2PY3HulUUu0BJhfzHoZizYUJJ4EBOGFv2JDgjvonhMpLjusTjClm/gics1zTBFCvA1aRcYbIRu+KQqSUXdQoQE18V71Rb2AxqskMKgQl4qlRh1ilLTqZrO/BIIhkltZ0dniVSUezUepuf7ei5TiwACPyKKm0r1ksvq4HpTp8aJZ9QhagepSy9BFsQJmdEMY1gciOrMSqr6vVPtUDhvy8VFPfq397tXPKtGHEUCGeEqrZZ6wekofCnsBMeMTVZdodI1A1o+VsZxtkUGmj4RYX+ac5Xkqy+jSWMpLDIlH0IVZwoLXPqgEJ1q80e3Kx3qIEj6G/qG669JGl/khOpn+tpnb0FyOiRUmFeStc8zHbikQB3qzQt1iHPDjaXzurHMG+hnY+uTC4ScMNLLIRNsv5iJUJSt0EYKH1v3NInxSL55DH0F1u0G3F4ibTurBfSKRqWGafkdjnlnZbIBZZNwwIqpmWPda9iCQCdcTHdbDaV2HkANdSHGhTVzxjiCAZQWBgFdZxrP74K5TrI5kqpOAD9YD5h4r4+t5+dTKki3UkG4YpM1Z72rKkrAUiixa4iLimHNSWAPBuvtwdgZNkgHZ5cTtg5mmtgyXBISuHLFy6bqrVHvRt7UkL2K8FrLiJQPWXYNtOS0elODvLnAlAF/rAqc7vmWRG54oXA28Uxh4pBhglHRnrgPHd0CPiKabmbdGF31JuZOo4vQwuY1CSbmGq0imRLgfkR2fVycz1Tm62b9zBzv+fmLRC9ifuvnLD1sLIUr2dedvpSrsfM37S5DUjGX8lXGBj72z3JY5aZYI0rIZHGOrl8A78P+9j6FyAu2z/pZvJApHmFFy62l+lj9AadovyUstYldvqCs3//M7dGpAekz3pand/1YupaSrXiuTchYkqcqfVo0vviYBLu+AkEsq0XRPLVk2IgEwXUjl56whRD4yChe/+MEye2s2z4VVuQWs7e/4b2tyx4bQlbhxYeOgMy+osoDA1GVEORTBQZ48VoGjo18WjJhuW3At3AWeVaA909LgtRPVrMCQsIkyX2H0ogjQGdTK9VQsVIJCHzeBxQ3lBfb+EiCaYND7Bdo5wOmreEangDory5z52L0DlnbnhBIq6zqqeCa3i28gfczWFKhkD0aWKwSJUZvFrbsxRl9znNEmcxBypK+xhs+iPF4DEbkx7mTB8tdJa0TfyGAmw3k1UqDVotBHPL5kUyMiCdJT9oQ+Pm2bpQzpBIrOT5Jgc+mz6dSFs381aT/8lIp3xWFs26DCAQgUbucn3dCkRmdK7qwzq6FwTXByCArFlqcTJO3mAmfE3VU6vMjob70vmCvdBL+RkWRZmgj79pT0NmMk5YE0fD0dXdpDyake2KrS+6/navHe+7kTHd4AyyrpuC9fylq4r9AKnwAfIy2pR6SAVs1mDLBNOCUwgkZYMgwa1oQjfQaG05bA1a20+bGgHFeeG+2RxdsqWmRtm4nPqiLGHy3pEH3Y5JuabqK6FMtjS4WqZvYnh/MFf0O56bGWcuaUcp7wfkPIrx0VSfMpJuWr8BhorM56IhfNsO+QsHtLkMrC0DyesXZv1MQSIseoaAjhkpF7TFp0o3nL95Do5sHgyDaBV4xPBjw5KenmK69lZbsBuigpK8v+G9jxs0Wu597vRBDA+wB9wQozMdwSGbgtiMHLeXyyavAfdwnO6rGlYvTVhcaTzuodpu3oLZ/mGroFzUZyl7sMpBX2lLs4T2DuSJMV0TnRMnjTs/wngPhlYkx1VNpPvNI4mLm6LkSmCHJhYReOGib3uqiqGKN9X34pjD+Yh+Hcgm5JnAfQSI3w7jU2DVuzi8Xoi6X0brkyLSc99ZOejQ4lpX2G3VL0D6hWT/D45U1QjYRuz4NoDgW2CWM2mbZr1/t19+Ar693J3RYrvCcl+rMjTb/DoQXg6miWyY7iK6afS+xZ0sk/pMJ7aTDrw2GQYaxgxtWtJWlxmsyGEbX6vkx2x2YxSFtM3l3VW8wrlCLHvBXmDGoSzs/O4go1ac74qJdYTBEglSdwJgkaAA7cqWmZBnkTWKC6ewWsu4fY/7UtYodDvhHDqzouU/ubnfuSL5CwH7Sal7tOBSv+Xc+xNWxz/rwJi22ayjc3iYViPaco7MjEMOSejVQgOEgnVx808gfpo4R51I3F2L5qK2tbVOFinZ9nM7Iu6Jc5lAlWpgKSw3rzIgHDkV2TBJhQ2cAd1IQJS6CiMtI6A5/kxqxpA8vPjSoU6B8tcUWyEvWKwBUcX4Cve9WcE8f9vMQ56H669NrrWU38zqZr8+bKHI1GQMeO9X0h2Ja91pDn7udlisv1QUrd22MIijeQnbb7u11P1vzBmqy39lBnu+8hRshBEfWHL6BE+TE4ytOH+HZTFZEelsZfIdPoqlIXsrZ2nFAFxKYhWqlK14ymBAsVHbjdz+hggYctePoQBZm4iZxLpBrz8IFP72tozdnGuLJoHEu+16tsanJwrSfA2jely06u0EQWJuHhmUP/6BEjHsXoFhTrrtp/Q/zhjTCx/kZOHHYcLTnNOIJcY2jH9v/vj/osHRTg58DhLcw0yf585k93fU+pXoAeq7U8VS8dCE1nIjh/6+ca6xDFYzvQknh5ddzbscmFM9nbYupLIGH7iHSwQvOsTgqC5UlYsR9RJvyDalLyRvui5w/ZqB7Q6UbFqSZ0Gqx+MQGR72HqS1QPT0yMowRLwd3Ne4CjpY/qXxYpzDJHon3gAqW6XB74dGICDyzhkQE096UB2mKWAiO5PxMsgkY8nUz+KnecP0vuwK2g+UwB8gaUezjGcHcdsyQnyGGFtZ3Wm/U/NoYadAYcvH1EheA6zhHphF/x41+TwcgAsIKXo8Ur1wXLW5ASuYGG5cSn4YqOBWAYtvg8hmW3OOYHqFgYvB4prwPyL0b1S/yjFwvxpj/o9Xu74cwG6aZMjldYxYPNres6UK08dEun0C56XB8+Na9+45n40nxcp7tJNJV/K4EcG1hVYGGhT9Pk2zna5rMrCYDCECX33ONdJUPlQH0lZhRULPBlSrKJdJUe9BVrbadgQJUQhCwWKXXh69E/pVADBMw6d0puGraZwmE0YvooycUi7ihvYonV7fci3+2CRbsqDozOIU/8LzjXypRzSac1bdTo8M/56NAg6hlR15qaak+YUqu1lF2FS5pR1Htz6SXAwdJiD+w7DoNhEWbTI01cMWCT1bwSkSguxh9jVdl1lOGlbzDZj2tIQqamSIvKQbwn1FUdMc5az3Aa9noU9OQXJyGjVfh74k0cnoQl5O7x1N0+oRZBwOstblRZM9hG0KOEqS6qvlNL/Tgp6+qd40JY0LtHX9c38lYt73MMDnSMzv3ff43HPl7590g0Q7qcd2LdbSIUyJT5XLpYw2XpDO9lUqDJ3JBARZF79uhFb/caR1ZD6np1JHQ2LnoppAf0gjp8Xt4ITIiX1xheG8jyamTHtVBsQo5SwiBn359egtnxgOyAe0F4RCXUh+SnMQOwgReh7orL4CMIRa9dgWyH5b9SjEAdxpskjJ540u+IlXtgWDiT/IMd0BXDhKU1VYmpgsvvjSssKDaeH89zxzRbrKA6jC+335ogX9NPS28mkD6wR7ZojmKPFJnhJrmi9B3ITsp1NtXNKuBdLy4UjAAtKQOCDnMqVGdmRRXiXZg+xaAZeXjmFP4jPLP+kKC42FmUMPxzDwJfqOu5I8xRGvu+uXrvFg2xfU5I8RAeSpMoj8TxazteCoedXugBtShoKqlBb1V7fmfuNnZLlEufiM2iK7KaFFNAzD5Hl5duCTqsRc44EDWAcsQzda/a4KSQ2UUqrF5PZrkElQk5CCRwlWpHMR2pbEktenoXQtBC9Uar/mwOxUFawXJJjirQEaWx5jUu4VrL7IQ+7fDKK98zRAWJeLEoVIFiEtzUa04/gU5+5B6TCa/NvnjfWTIoeWstYxsocBGwY+bHcmgo9vare8rkFJyXLovdSDZqkRqMr4kmwHxP+tQEcqMR2ezAnLsdK6uO8kf+HpkdGCpa+yG9Hn5aQ8v6u5QTl01ASnrFu7y+3G3MezSid/4afxUexvmiITXEw7c2EkAZlpQYd0hgg4dmFQTBRBRReIyUCrqlfT3DG6EVqTv5/eMF5WByy/tWfO+Rwz31C4c+IkyrTbjrYxDl5nez+6zPOjOS98gZcboXe8JMQVJtrH88+SQucW/aTghzFx2qxOliKt3t+9IxvCdPvtHH+tBS6inhUU0ALK9im7vHdT7nYtwiul8wwcnkzlV73DiAAT7IgcUoUiaJX6uBGePs42/ofUiO0c8R3V2ngKruo7+uvqWHuaF4RHHlkIvQWCGWLiNv9YOi/bAZP3KWcCfZMnklXcf0couTWpCY6mQG8MTCHPEQdLt5QO/eH91/BlKY11ULvCGolVnCsqWZsiy14cgon4+OCz23vwekdc6xT+2dszSYtXMgHrXeaSr9xm2YVCxyqNYFgqAiT/HUP7G7ip5KhWui9ozRdbquJp/YTnpBYhR+VTPPcLErJbynC+Rd3Xq84500wQAqktfYtF7jziwjrQEMTRnovIbazth5mJ7RiEfRkMK8JE4Ly084qFLE2GkUeJ8bRu8OVqyhFLViDmaHuV7NIs6zIO6l580ORR+w1PkYERkTsO+9oAJxrAW2oLpLftj3j3hHh3QE6CuaC3haOkK1s1vNsPza87u0LU7DTjDcubxYj9SweQLroJPvneTtNFQddIuyoiYBBVAvJpApizP3mUU4cJp1ihBpBC66eoFEXA8tfn3r3cjjKon9t42hT1akmbTThzYX33qUoQO5+u9jRJhRG+clLfKj15YmTRvEr7uq6PowsZ8VF2xjMFaBMyz6vZ+tSt4PW3jZh85eUiliyIbmK/LxegHWXfEAze8JZTRrn4JvC5hVm/M1oz0cDb3Hg4wrusiSBvcRYt4JDzwgY7vQ8EV6WTqlPNiuawxPyOhB5R0EMmLnO6wT5o8p2NthIOZDqaWHR7EYjlIkMKqIlnOdwpuUXsuDabre9HAe6qvaceH1rrNLJCiNK833UcO+vAFepbp0Q0LiHu5AN66C+1K+XPsO4aMRdc+IznLSGrTXDhDJNXXcc62FJqD2i6JISQcxODJRovqeySpw4N6Aep/DaMMA292p23AhuEje2rS14v6jbBtw5D0pJwZkBDwIEGOxdepZ92BN2B514iCH7rUy1RjXmVmECY/YHzImESydR4Uz9ejrygzbfZ7GLwg7hc6sxaa00xsxNhp+NvUMzZ8Kh8h6tmdykh/5taT1JfT2pKPH68Tg9bRwP8/qriAaS98plpXKGx1CFrveraDFjbZKb2V1awi/SaYkmaLlVy24Qv+OQLwrRX1OlK6/KnU8FjMvREuqR8IIl3hWzPFwBNHCCZ2u39LAX5nwt6Fp/FhVXfYZ9vCpfV4bvJJ7Vw0E07/jEolxhQu3eIzj6i2HyToDlIuFDl2sk9vjJ+ykP97yqWpFZM7qZYu8UFwU+TEz7a42ESUfRIb57wNJYM/vFci7gSZuIXWj364tOaLm+EJQg0eOwC5QAbQTgSCGM6Gz9TcKVw+AI3D4Xo44EcLpuezDQgJ3Cp/E23WrqBvXvvoJPrJZAKToM2q6q43trmX6eAL8udOg8TVKeiNAjzcg2cp9ekxmqK6KQgvKHa/C5GehWCkBDHvTlmkkGBBcj+hi0JpSU9j8RWOLmZ/IoeQhzlqZjABGcVwKYlLFbSL65DerPvdO5VNsuent7t3mh7Q3grZftnA0sb8xtMlz91NqLohUluDcKgoYvZPZQA9FsA0Ubi8+lnTjHVhVxoDZZAnJxI7sFTw4YJ4Io2wnfK9CKq9K1tka47m0ImrgY4GsNqArM/D7kqUnf0NxlqoiSSy9xThJo8XQye1Pd2wLrmAzffJGjNI6WQe4ax8EUgjiIz1hbDMatUOIRyEt1geAzQzW1qIZ6m3zucCxEcXfxIJkm5IKPbLAlSBUXpDMjIw3NZIs4sYg0zjSH0XVUMnWFIhiRcyONJGyvLbZLHatP2px441xcRJIQxocrcWBv6V7SSh99Slimht6pKX3AsfXu0XNkG1FFwDHajF0ZlaC8lb90clRlF8U+3jwdR4Sk+dEdW3Kd3sWhOxcqFNv7+w4SyBF5VwGZ9z5b0wiNAjBqTY36aA7UHSlMbK73i6uvIAplapjgWNF5zva+nzp8vZUNqAAgOLzcjxwDXcrAEC5knS0Zk3VmiwB+JEcu5FaVv7qODbuebfNI+0+96hlQyeDsyBfLyGa0vjmAHhygK/fMLGDnREe8Nf22J6ORZkMM/DPVtRNKMcdfAOL518sscKlROYoG9HEEaPOsTmxQgK4YMqCsTWW6S1RU5ZgJ0Ikqu1yhjLghzrz0GPH0V9dTOTRtO27zX4q3CTXQ0BH9un81vJuXIQEYXsT/hRKr49xvQ+dtMlpbGRhP3DBmiF1no0IRsFBhTMEvDBCnUU6okAO/K+eBQ9ViaR0Nw7N0emsbeV6B5SWkKXSvL5xOUqNR9yGSQ+Dmi3TdImDjZNUoP8ZCnBtjAAx3k5Huni/qVH8wCOwKqNyMypk3kTP1zo+RKoRv7B7sB4xAuqdY7q6rwJZAK3SFbHnoOqSTJE3TbNpIykORZCWGP1NFeTtjxvGNDo2Yh2m9DP8Co7sCbJhFk8irN4Q7Vs+yKKZxF0KynqWrgZpbAtp5mzzUPJhkLrFTEU/AM8Iowg7gPdlGFumte6u5vr80bBHB05mu/ptzTEbWcx0/xMasjvQwG0iOZoK1EbByzUbRB+Lc2+3zm/jP12KD4dedU4s4iNCCo7nt4VVDcmrUVgtFPGRFL6h9SmDfu8wX2/W2pF/FQgESa2AmiFsiyHqkt+4GKFdipw7vMxIch6Nm6F4J4FTYQ6Ufj5cEoGTv1Cnb6G3QH+53JH2w42/LYQ0AHoKIy8wGrAvW05LpjqNDdrNe+ryENo6BMJ4WJMc54KejbF2weOlWhF0QNqcI+PryAuVwXKIACXy6IVcrqinMe8bwwOdIjaSMbFFdKvzG0p4XH/PBk4vCPvufL7fWW/n2cYwgSMrFyQoGqq/x7hvnFOYQuRgP4QTW1+zE/NPuff3+UM5imGciweaL1Cd13+gG8SlUj6sxRsz9XHqGIrXUCoH/2rf2Fcio28CZiClbD2yLMgcmGcQsLUdhVi69gDK95ioM9dT/IoUg2xi39Cb3cbz2Y5udvYVx7AP1PmCRxYThCl6HauQt8x6K84XuUKqMZ24BkwbrUCnfU44lzn725gFMhTWNIZrWrxX2Z3YpIyhIZPI0rIGccrRjzcOjZiSSskSgJ6XApU1T9Z5ik1DSM5ubgLcBR74Zkxwq2JjNuOkKC0Z+eNOgKSPf2/e+aeULiU/DLHMFwYSywJKBUxJg3olye5KGgICzsujDLzuJdeCEv5IFvm4kYCM5D6xSg6okLDSBzMEHvTuZrmT4Q2hQsbEyDJSy9RH5kMwuy5xqtYlK27OiDyMP4rC6AmEMeIXWbVG5A17aVJGgBUcYO0olNkqOsqzK7dCZz8XLbkFqD6fKLCUNaZjkjpjy+bN64Um65F0NryAO85VCi4uivLLsq8u99Yd2uhl91DKfI/4DVujMpwu1pMv5TMZY8mZ5rEd9Uu/NnMEbGXB4y92v5AX2ov+bLxXbhEdQZJMA5Xh+1gMvCIbxXzSValvPqHNhOS8g7IgdDOVeWTyCAMtG4AwPiM7Zd4i9z1n8+n2fx2ILp1voAb2pOV7ih22vBRktvl+GEcsw7BxHcRz4AKB6LLaohuJnJNx/aa0pU9pYOzlvCIsE1887I5uuHT9vxX+qE8Hd3nxGPz0Hl9Kp1sUt9Gr2UXPq8JiTzmVgyTKMDXNiAX6ntmC+4D9BvTX8cp1sFoWgFLMGUogUhHRaDRXpRYTQ6QDc1kEKoupAftDqS863tMRlec8tlEiXaDayRxRBzjBtm1QUQXmTWLTAGyuJeKyIMLPnI8BwMkWDE6cmCngkqKeTxZPlggtj4Aejv/c4XSZ8wuxChKGWO9VPUpfjrFBCd2KzCqwUGd4JFUAtmO6LyAsqb6dw65V1OaKswJdCa0mvhCoSbztarTm7gwk2GbYs4gU98Nt4GAoCdj6BpbXHSrUjzD6IM7na26PProuFFtWS6hnAJ9leBFKHtS3kH85qlN6//TD6Cw2P5C2csdcazchnmKOHn8HI7lNTLOkk6LRtJ1bVhbJCUUoSLX0VKYSYfhQ5Jcdmnnks4e2rtoBTzA78+r+NySB+qr64qSEHdvv2rPLWvYaIowrzo5g2nAfpm+ng2+epYYaz1dlHSF8tCRUCvn8QO9R4AoqC5L73URgU62gKt7S6g/xwzSEW9RiDy5x19em/tNAU73uKiKcKALJewJR4Ufw6nkHm4efwVEoLswDF8/FyVlQpaM3yseBaBgH7wHkm/r00E8fwkMmstqI/icz3kmhPiAYFF4SOWiNMupt9+dwWh/qsM6+XaoTgrDADKFcIyE0j9NmLcHYvLZZfEe4lia2QwvtOQbUS88Poe2spnta08CNcUqBDp6xXbVRjAvo4AYJR7BNQZaaMq5DtDBUAo/xitUaDLzfH9uskZj2zpT0Hb11LSKA1X/ch73znIcY3VGdUAkwChuL7G40RDWSg2jP3+QjAEv+BoDBsiPFJQswMSPPGJuJEYQGfqn1M8f0I3vftXb4ycDFqRuItZP+KT/9lA5HKAQuqulC6yXkTCHJv71fug7YC4IqGOmhoG22MqUFmN7DS7yirfWyZKFCg5ZB2A9v3YCP5YFyK1Nj6UK30qxxcVzJur4O+2ca1AKpjId6KOv7mGdvJbuaTQ6UOlk0LMArOtzuizOYsdWIlwZgXzIskeORAhT2CcbhduNQZzpbas2cY7arZRCBNfpmw774gLhQQYQSaqk2dOA+DGRMXtjLvbZsE8RnVwJS9jAkw0KKkeQSTSVqe4kfEbz2dqKmYU2Geo3J88ygzcXwWN/KtGoO+GZPC8u9UYJIU+M3OBv9Q3mNy3Hvv8zI2nUJRlSsZ35GCwzAD2yNKCklNYeuTjuveaxcy8ViNd5VZ2IV3/1/0IwNtx+mDu29nu0Lbu4TNLFxy/F3AT//ghuyQO2pWmM4rbWkq1oWdzHB/mR//B4TUTG1ztBAvTsACM2ZgGQJnNpmMJtYnCEkWrUlzB62wlReOsAAtl21f2GAVXA+fsk7VWPrPBrxh6mwOpGf0OnFdinyW445tB7M2p6F9M/QwzOWpt0DJFA5TzoisGzMRtVB+dKbVPlFm2vR9a6yCT6yoYt/QJ/QjHQPd531CC4vgV8Pf2ns3xD96WuH7E+cqG1uItBcu+/djdVmlO6+asVs2XpdrvipDQL2AjB/a+eu92FPxGzewhRSxwaHNiLvsWz2i0pzMAw9ON8RuSSMdj1roka5fv96HCW7FM4rzouQqLKhxTAV/m8hMCYMZmcDu+OycUeguzWAA3/JPZhi+78b2aPWRVsf7b5aTO4NSJwNIUnkRw3CXJ8lBo/7FXYl2oik84cJun9o605WctzdSsO4exp5BJx4lLLMqEH44SE55r/agvXWhrErhSs+whQbKU/nAQ+indQvoGitiIHUmPROR7GRANxvkoAeBYeFgBMbHsqyfBcqenRDz6rT2mJRWwHz1VTgnzpwXdAQkTy88eTgLifxj/WZgeuLDHaqvS9WUjc9+sDEQqa0TySao5DfTxPGqZz/axuB4VbbMM9eC/dtKGNXHWB7oWTkgYFipeANe0gybSYjMf4ckK83mdLH/F6wgQ38SbwzN910+zuML89D9uKSzNtAIt0X1a9q+Ud2+h+cfoOzWPXrLglfpt0+Sa/XMBNGaFWiWuymPFLlS01JFQKVODM6mI7Jsxk8gNIIsiv6Vu+yycrdKhvIADhWpCEN3j0HRtXDidayE/xZBfD3QDLXakYrtPahkpFivq1k6vMB9pEXgzOUD9cKL243xWA39RJKfdO24Zb9HfZzDIbL2eQYy23rMgItN3SLcJLNZM+uBULU7DCJH8Kfy4PP/bOH4zlElqXdZXyejiOs/9G2LbELmFgUr2QHGTUb9mPgNRbXVXFs8a5+WnvP0VCBKhKuo7KU0lL6VWDvB2gELu/6HxXPBs/ooVH/EepOvPwM/l1PdhocgdVYO2KSOtkkT4AT9/6L83R8kS4JQJ/J/6fmrqPdDV088PmkqwmVTaGh30jch6IPF7RjZVAXu+Dd4NiqqYPav5jjqs41pdyZxMB2vOFxTSWmA9X4qxXVV1hj4vTDYV05gaBneG4BogwYwy73IzG3qZ22VVrzNlBYntWsrguF5N0o8SALHvZzTckvpIfb4YGBDhSySVsymJwCY72SZ+Cjfbps63YNoNqgiP2n+K14oj8Bh0rmTIoqtuFXBO5/unxDm/VMYix0pkf5OtGbboUBvNjif/WgH7rdCk2/jX+0ivts85RHzpyZ1oC00uBxhIMNRQ0EXteLO2oPDpZ0oLcsqVp5ug3LHeBOTjTQvQ9Epbs8nDTAYDyV+fZAqHqIldZp46hcL5qerB7MOFlZup+EGzGbUgTYDJO7RSvslJuu+ZO1SGn41FIF00PMuZ0TELk5lDcrwMWj2COnLy3CR+7EhwEaXNUi8650BwkoV3ieJHDyWv32p9zqBrwEGijBmTH6P8GXrSgXvnCrtGFt+eQg2lKfg/lEZbHghvyK0uFtBbH7sqxNniHnNyjItvX7tGc+asrTa2+SPoDeHgK85Yl/te8mVqnsyfT8T31ZkhrrqL7nFVQ83Y6yOvR4GZNkwQlQXpgMwm5u5OHoe/ChHmh8LePLMRQReURbZJgK3ygHxrocGOEW8viT8qIAEm+NQ20i/X5iSdZm+bh2z5cGLS9C5pgfAfaCiWeJPz9KwKE4G8YqDjYKUD/BZ6XLFRt0iqLJdtHXzE1m/JZSSgb7wUolEbOGUWgS+UQ8BiA+J2NPbUFyqCUKHaJC46rtMEi3rb91xr4/khBX/FOZULW6DWL0mULC7ZwZNeeUDrapApXvNwkDPhidrzmyOTmXn3fJ62PUkNlnJuAXgwgnltMTRU4rYrC/VGJDwlK2o1WFyQkXTDHYlYLepuTN90AUrwdTmj5cpC+bdY34fC6kPxFxziDTup9qramPOX36EXtRKjVq0pdgykBcFf7PcZoe/FdLR0Yz7RZs3RczGaBbBQ+XdPZZghkG8WnYlh+r9RHSClgiGA57I93McEX9SdPF6w2BxU44GAEKY+rhAJ7JkewAGtWrDAONnP+KAc7v1IA/x6eNCaOhwjy9vYVO8a/c8z+/iAYGD0irP2/8OcFtLvvq5QMk1Fdv9MCD4yId9gqsXdKONv2EfTAZYkcjj56lz+rprngPJSNZPNP7oknYLmf15ALY+DcrtExo/c1YJNWVQfP/uCshK5OIq9d2JsJfDsmnZFZUC6ydaQ2BMapFvu+r2ATHGj0RPeCMyq5Fkxbve0n7BYhVfOQLktvnBxiF41bZBRPaY+MXVTTaSXsw1tjLac+03bwZGK3N4sVeHZd3nOC4apag29ThDt2MdLNXo8/n1DtNF19LfP5G84tEDNjrDMrwDU0K7jjzegK73JV6vUX70znO9K65dHTj8sV1yhIqtzHlytmgqj2IzqWt9NeWWyjpxlrvnAy7V6ZjS+v2duAc58xOWEiyOyp3Ui7faHIa0fmZMORAUffownDlY1XonGSirdnfTaPHSr/M61uOAwuXjbpkEQmkg2EcTrVDjrPGNJe9Uylad5IsfYmbFfyxPgPCx87elrFmXppD2HMug8cJybWJgc1mhl46CmlM02y9ctmy5uo48LKryi3I9FOI4gIvhFPAOLcz5V40/6j2UeCvqehhYbjCFCyDShp6D5EoTZs6H7yHDIi+PF756GT+vc6HB/+RMlSJPc1CQMLmC9dAK7wGlQ76l2pBWtPua/l0FfW/cWcU6Rxwd3vZXO9p/jzU+oqjx+oIkA8o89x1vbnz/ZwEwxutZL5yg8EByBjmbNpxdLzljYnuH63/y6btr/iMXODs1M5YVt0z3SFlIQk84yyFWTyI/vKaQwZ+DGp+uTFwxBJAV2+c0CZAP3uq5ZJq9fE7RgDVV4AOIXaX6eo/vaKZUQKI2h0oHnoTpNgWHy+PoBObJEnRh2Xb5xN3/L4DLfthBxT05BKZ2TK294a8d7qeUn+UXNcPB8Se6NrhmV6P14ooP0u84j7Or9tYZGqxLGHf4yas/nGkSlNh/AhwXrf9Iilq+qMtSSisfieLX14BBnppjblyc5YWVAgBdiU2TZzzFUl+lqgdB4mXImOf6F84kRdOFXqL4/ArMoSDD3qlyuuo95Ue2LPuz3iRWW8pu/PR/AxE3rWbcHUjyGv1JYrwTCUw+8ebss7G4+Nw+Y8Hmomsss8tN3b5VRy0XNN4LKzQH+P/4A0VYQnCqLxge0YyiQtkVazkvwJXcdPvTZZWCsE5qVxKiLWrWlsyt1lWW4yawMYDm7+yRa1/+k5LlzwHEqmBmB3GUEm1ikU2rLgAGugZAhTGwqITmarjvLo6YTe9+7aFeNzkYdPH53BIl3KC6WzfAP9PIAUitTm9MZ7rIdow0/inD+kz77MYlTbmwp1cMFJkzukME5EeEE3q8mk/KJ81Lkrqk3u1JHtY8Q2bPbwtAUrY6ImZtFE3YnwoD3o5D00JWemP+EMLFS3vzOBxDBFA19FAR/56XX2xjla3/S6xYRRZdra34kysQ7uXMs52E1nCtwSpg1ObT76bubBLURjOOo/EVAQ0KNICLnp9zsW4RXf+Z8yf6b4ELdW2+XZ9kQR4/kyz5V+rfGvdQOIO7hQm9FAPvCBNp4Cq7qP0um8JhIfnlSINIhFS98RWjoecAtJznf6W+tpwlnCLZH1f3bxj7aFvq7HITBvZMrTiL8eHmCehJK7g8WT1zUGUuBt+YDcl01ag/g1fDx2UUodPnmivG0yzIpc63mFsN27ugcnAtnm3A5drI9WZ6b1ZyTt/dANFVJ9iXvYnX0CGeACp5KhW9DaWgbGsOUvXbxMVJruhj5VJLlALJ3DHVefDXv5hHTyJ97oJZZp/LpL+s/AeGolWd4hJ8QsZpBq7w+xsyRkLCHVIa8iJD9r3GI+jS9HHUOfvVtpNA04JCyjRlu95QmucJG4cZT3qUSsMnQvhq2+6YO1wjJjGFRO0f4wDnV7CNU1VccfNtcO1tujsqiYdqmD8bh3WpoeHKabVKFZZFPxOeMwlyVr6GaeTO5CWalhA1sXo6Txf1Jxa/lU5OMGk7DyD67Y7I67bllpdsG+c2R2DUlFf83hSF6+mqK0QR7ZMHr7t4LM0vgXuEiodbSyaYkxj8UbJkZMbIGc0YtPXcVHII4sL8r/sl4+Y1NFjyu1/YUKFVdtYuadUQk9xI7FkhsqOySGXwrlgItOF1y9k8OjGiDcqhUv+MGcgFieqwLcmJ7/XCaXa+m006nHyPdptQMZC3WCM0OUbo+9vF9NCHq9jkHlh5O9NUsdrmuICFu5PcpVgupinuXnUElSREIyMa/vIq9wkqiJk4ivToG4t1kEheNiVqI/wREMBIU5ik0pcVfNEBKx93KiJktoU42jFrVDGqcL/P3kxvORRZzrvKiawKunnyQdlTL/qX3h30hBSEPts2+cyf3/PxwfpVzisSyEmfyuW1sCxImzK1UmsSshnUU+s6cpaKAef7U6CQBIPbdsNhwc1UPweuZXIlyCT7/XHRpPyI1AK/6pPJFuLWns6oC8GZOIFpT05wuoGxvR4JpVQxfhONIxtnC1T6hvuR5gV/66GFnXR8zktcTSHlZHSJ7GmCVSmiFCTohAa8ZrDnzh3kN6ZfZsWj5+ChNLj9mCQYkZ+ZvbYSGBZuhk5OVxTpbheKBeVMHLjaVBbav9JTDdIB8E0fS4kJnBZ2e7g7keeMkB2gUNzQ1Py37mvhRZMJDDPA1YdOsFAOzydi2xM69fLgDRpgkICkgCMUM9wvyChDKei1jHUFN2KlO37QiKCLaPYiPbLVYT2FheZDk2Bq9V3MmZUzsnEDXqz8p7nHbCJolYID9Q0I7pqPKVwDpvqYU5yRiyDLgQBhfQY7iRbgRkn8xGtTQh2aqrpmAfR4Jy2eGOPiiQ90jcUCF5Z0zk0ruzaIEiMR2oaod9+DpjHO3BoE2lC8DdqI4CRFcGlJ9SQtqP6wPnZLPJKvIyDwE0Ns8Rwok9xa2CeSr6a0Cri/OPjyN5ogQnpsYyktPjpQ8C9jL8X0N4TWmNzY7vbT6dxTDRUvfKzKAi7X8e/yC0G4iyYDkfKvcwMhWd4WSIcWoLpv7u/yIm/9KC7cMfZ3oGX4wvE1xVDlXonOTCSdVTqQhFVd7GOGCVlySUTVPoAdRDZPqzPo+O3UWlkDlRtNUAl1gFMUt+JIpqTX4wFge9HBLW2ktREpcwGUUn+DNe8++03VjsrbmiJfpfpxebw7RS/TTnicSo1U0OY9T0GxKfQjXVhmxBaHSugICjT68AZ1y4PagJRYOGKpMB+DJW2iPSnRZycWYYj8Ur35giTH8dTUFfe+5tMTCT+Ogy/2WqJ7Du1ZBcZMJ5S3k22l4fWKVuarIjxq5LkjrKM7PG01b5qw0XX6HJUYjXFPuAEHUeEWYp3TV9a6KKFUvvBzhTb+4bUzZM3NfYxeURP0FOAOEIwanFN+pGTYQdKWxxdm94ur8s5kt8hWxwLGnWzQpqk6Jh+6pkPs3XU1ebkeOXjsaWCStSWcgho4pZasz9TMRHSZMeAHCq7JG0LnPmpL1eGcsrFV3nsx6Zylka0vjpIIO2zvH05QStQN+ibMbWwzOoNAEQyFcO6yyGHg/8ipxfOvmAShT9g2y1OMOumy7rz9nCE6XDBlQa0QBbqKzCRLMXNaESVWGObuMuFOwteg5WqPobTva0NeqtTEQZBEjKMXCVtZbPag+zgliqGItVibUHypDYy5F3H7MHXNpJA75OjA75/XYRGtmNgoMKRQI0cQp1BiyF+O/8r5zegF280XTHKIPCRh3aTCttm512Y1jUrTDqKTPFF1xo3nw8H7C4c8xZTOFo7V3eGGUiP5h16+lCCkg5iMsc8P2YU5GgOybyJnpB/qVmFYL7sTQAwTHRNUNQlJhwKmGIGMQorc9BnJIKDKyem4o2VNC5Ne0R3+KQOY0/bwJvu9Qw9fAEnxT/suIf0/x0vLOfFHTJFPPtFHC06ceeAOS+we/gxSvxiJsfH0lovyI/7QEcn9ufGzif4f8w8ATfJKWLPUg4+N2lATffjE97JPFuOmwlA/NPL2Yf/j8hRwTrwF3E6rcX90UEi8/K0jlHf1a+nvLMinsPI+FVACyoqgGPJfMvSxqMudlGmWl1/cBmbu0/gbzCbu++XOuk1BRaE7JzYZZ4i0GKA/3POs4hTpGX2Vv7xNj8VREY43S5mV+mmGsBBp7hq8sY4Ajk9GhkAPlnVj+T0ErmFD5FKm9fvjlQt+nhXzZdEYQSFpZXbWE9pLSh9zSJ+P8wC8kQLsqjezzvaPAmbkynoUBfmbKrHd5VmmzoyGWvhP+OfRYCJF8ifg1dfi9jtK6KJS5ZjzVdsHtcpsqjU32606yl7pLCM9Ou+ki3JW5alPBLo2FsnhmOd7Zz+upPRAzS2ei5v9iTdTS8+WFpBM76YdKKSv9ee3aA+36xWzz7sNYBuPMC4B2LW+4m3DfHuyjBgRhZHSkjhnWEC/FKwv2+hTzuA5pJO29uwpQtpw3ZCGoNlEI592LGpKpvFufWOMy8oTALjMsavhhxYDXhAF/Bn8AHvB7jNHfhdwGTY3CYSPeLUrlAAMin2UuTh06HcViysaDQlhF+ky2W/Ql98+nY4d3mQgOQ9GqHMhwgcZOyBAEWsEx2TqSfNJ/lbFVv4yle4J11GVdYrpopDhV5uGjAI4ICsx8fCCm3hktsJMuHIakwN9UgwVsEetc0LMvWFMXAGOqk2ht8RfK3mgBkxdI7GFgpJrxcSQyvlbAxY7Qe0HscLDRdblYBsLa41rUZCCNGRvg8sSPw2PkaYeoM1AhvZ+NgKYJ5/zQStbIVx174zdsN4VGDre3DglH0Pfs7jHKqjao/3kBCYw31rZpS8UXyBIGdhgHLB4og1uxFvqERlNYvL0uoS0oi0qHn1/+v/Ouhd+rhzSQ3LSW5SaR0vi7RTnlq+N6bMHBxiOAAekYhe7miwrmR6s9kYzE3ay2qWoOZ0Fx2GA8Tb4ic+Vfqx58fht5LEbKqNNrMEIutGWia+8TDG+2EU2QjXQjP4AOdaYzdYpzF7KlVVVpf5VeulALQXj3iedEy+Yc7hxJnIwOcKvssNcXPGmdK3p2OHd5jwDkPSIgXeF/Sa7O8ySSnBKBk7WnzJbUQKA/3OxPE9eNM9IuQmyb2cXvp9T6mIJd+uVlCGazeJnVRsi/v8YOMQ/ykHQ+7+csbpkqBj6lKMCTt2L5vb20206cUGUD1oo0wW40nRcsx4plA4U+9uFz+rDV/nGNt7+Js96owSIQPkhaPnXv/3RtunjEfOhTfb5Zi4fKHtfvjGqFGlgUXjUsMVrAmCCkqCgzC/Y9kblxRujSJHPE+0KeF+OoGn7p9/lV3vARcfPqJKCyUUFJSkiZIcw2ptFtbIEdHLcP/vXCvSXRFRS7JENOvfVY86YHCs1ovJtVfJRE+Lolagr8zEBVxvi5PEyhFyFpJbyc/SgPxIHRA+w1svkfGUc3M/68z0PT9pQyLSihCxFCQziZ4uUMFbzutLw18znEMtMxJFg8Wj8hYncAXClR+X1WC8BcEp6BUy/YWDtGWwuiOUXRQXnqz0GR3gPJN/XpNKoTHqbx04a1oXQQvzx4JOoxr8rydn0GsViQt1ylyms4TpexU1skhDm9uYFiCQ51RSZCfKGC7sR5q3+oxNVI8+9uN4JhQglwuizHmukGNVjqc5vYrMJC3ju1qy8j1/N0UEBVSjJCsAh23YvJcR11V7ET+77KKPrHu2dKeg7dI0HJGerJb7gS+c4oN6DFL1QCS/TbPPPdxl/bshN9M3p+LhNAIAXM1c9uuVArevFNN4GJuJD/v3fqn1M8XDhve/au3woXwM5WvWjm9qP6yVayKPwJGbRPYI0FpOusBENILBPxXoWhQqrdNDQNtsYakTjG9hpd5RV0r45Zjp7ZDZHK4fz9mVXbauRWpsfSe4l6YazEug0kPWRxynslDj634JKpLnFo8FJsXCjEU3T05c+t78XWuGs7lrKNDI5vBtg2ATB8usmsM6pUwm3KkTUEVEW6nVgdsKvs3++SDCqjXTfiWgs50oZ8nz06JqeNZQTd55edTOZ3pDeQETOuBLnnlXaCtRlYNMKwgNA3gD/0cft+GtI5BOtm+srHSiE6tgEFaBD+LFB5lFaIk79Yq4raeb4nNr8Zyl7sM+8B9bEvfpbSg8nav8V8xivxpSaQrQM5wSFu68yD64LIoSohaxKz9up42e1nvZ3SqAQHly208l5x0VZuQkHnjGgDKQ5N1gzmAPAf3qhefEYy8DoE7m7cK56TooRY7gkCgqJXzuZlD0B49Wg4OOc5CjhfeER4Vw5xeaKlEmgwXknerd9A2AcnHHU6EG7ToBUmrMk2+YtUFPorLa4H4lhfqBdeBgWJkzzcqgvwOra9eK4u5QfPpd2xEZJbMgbOEmBDOJf8wMBR9LmBpHNW9TxwfrUYPANhWgqOfR9J5Ucdm2hFg+yr/Ih1puJOfM/CtOw1uPgWyTsbB3LgGEUr4CbFcwTTFRwazb4TyMYEE3y7HNZQPgjdz42ByA+oqzlwjf/SYI+cEgA3fo8SJfdf07FTRSsU1+As8qvA+M5oA2yMzwmsU9hvlmUg+Z6LVTKU8+s7ktf1tpHogYSpx/peikIBvru2cCC2l/vu+qS4uEu08HDiJrcp4Ol2Z56JAMC1CVivGu0kczQP5ConeNna5D2Ayez3yRqCqLSnyZyhi3L+ELHxKCcFNKn9AC+yB9BvsviUE53XZSTknswJYpOuSaL1PhYH4vJRjUDeVEnt4MuaginY/NujMbo7axC8MT4Wv494nG75vbCbcPEb7MmPFSax/KEvgZkSLLivFEe9sszdFPDhrUz8H2wz13WZtVp0IIliNUdzusMwro6x9lY2NWJ08tL2nuRmy+ripDcC91aQdWZjLBBR5cA8EjguLYZMYgDbrlAJiF+9mdkIyCdpxSM7jKoQcDfuMv0SLMPp3FkIOLSxC0g8rfF2k49vuOvlI9t/almyfqJ0QUyQ4OMgcQxcBWJeGIDcunIeReAPAymfF2bXckni/tfmvTYQ17ujwAbcd+Fo8tp+6NdOkiHntWOes2CtG6qz83qua4+NpSVu1a8puML77Bi7dYdj+lg5F8+9hDLKjOK3zeGr1jbXwXMNKtS4UlHfJamybBVXZ4qYQA49OZkHKWeRqVslGsRE1pAFfrVDVEDU4uDV4FQjY7NbRWf4DHjTzz38fIcjqIVb2ghbKDNSeKwIrWVNmAb4bvDZdlJdZZvZCCc6Ka7/ixv0Pf0Wl3RVEd+eRIDb03vzsCKSjq+Odc4oiPZu9gOftalJykRLaFfxatQYGRQI4Syg33WECorYp7LC2Fi0xtFqGLhiNYYYVLtYQoJfaxRUg0H8OMUK3A4/j9ylwrQzpfiJpczH6+3L4kJT/OCYsqZW1ekaFXK0oOpAHklbH4ULdclaV1CaDZMKMpTltoRy6mPChFOY7i29eJ9uisrMGmfn9bZiWzzbNCF7w0fiDzLrUiJ2AWVOfNFnFWMi5S86DYqZ/h9rPoEC5aQaZjlQ/J3hyq3SsW6DwzOiGM4aN0HMcm+9rFKAwUU9KfQ2AV+ZQ53AhbDcnQdMXueAL3zW4w6pLlqgi6fY5RHzyN97aEjvRDozOaoIIfFJm96wYsqfL32eQGNp2sWa3nl5d+RtbhZ5GSFeh8moIy/Afydbjd10SJtiyKnRRz+F6obofWbmbO4GEuG8jZ8YVdlAgK6NbHdFLrddVlgZnd3ttste46kJBF3SdWGG8PYIXnZ/SzNjenFI3dp+BQChwEZsJptb6tXbf03tfpGqmB+L4s4H1yi2ix/muk0gnJhSrbvzs52ODu/MBbJH3t0etKghDlYMYyb91CJD0JA9T1vctOABq5rCGfXM33NOY7o+KjhMPldHZZXb1DhD+C0yCc3nA7rLYOGoBTggbC9fHzCykkG+8MC8g5fj1YGjVHdxd6j5sqfxDbZxEokcz5Lq0GghNJzfl2JWPQblcc7ozhqwYGAyJbj6LUeYkJH82nitOiE/LaB//QbMnQTNcxVv58TrvRsPZpSzvs2lW4XeW20B2IwotUhCUGiFKMEA+PNdQ6VRw4CEjxbQ0tUPfpqdiaak+WdfGvHmmxAeUMHQwZrxHDMD4x9a6/nLoiMarRBv8GqMeI7O2J7p+JRg/xpZ1xIZX63cIYqfp4O8MImhk8e6aIK4qdF7t+sDqUQpvHnISTZafG4ep4FJRNaD4kHl+XDqTKd7/Zj6Yh67hJEMihzlUvvAowPbNVPuVIq1nJgWVeeiA8DT5qsBb9+pDWg92v41u/DdicvgvmcZ6VCtHnSBc5MqpOS5fECsw2apEam1vkGsUil8tHmCM0vTs2wOD3kdu1XHeXruxTbRyPcRt9yesqwN0hF+e0LPqvamI/08gKvFwVTqxnunJVGGn8YpqucfBL8eWfqM1k7ZZiJiQ62kkc7MKBeCiCii+P5LkrqcUfVbfkn2qOfjaou6laKiK+tzsdqOcnkwqjRUJrQA7jdU7I/lPbLiSl+r04NaGdMqAkgalnuTCTESd+6Ugecq+X+0lq6Ujr/EhAkGwNm17XaZ5Js8j15+f1ncRGcdRKFoLK9im7vO8/9DsW4qKSU4FIQHeLt1bfibPsiCYXpXFItX6ujgYr7dwd3Chl/Bgs7neDVkJ3hdnaomzgXJ9fBlF3b8jJeI+4YTXDBOemxRbgbsm6IP/V0e3lOKGFKp593crphnOopWnEX48LC7gaCN5X4FLuv4MoZX3C+a+cD3XbE05RbARLO44WSAUghBvXtapCuqKEgZxhBQGIxpA0E1sqtt2Qk1ZD8yRQzxFmdEvJZC53pYbtCvBWNeC/f/Bh/xhOdRQc6Zt9YwNW3F1f8Qw5/WNBtNjDpkGr5qwrQiP5tk6Fy77Au5iHfh29h/eq1V9j9euzve/Or+VYzPXfyNzCQ1wNyvI5hOeDQtqP5z9mDfEIwHfLPKJclqSNhjlA/D3OTZCO4O7L8ZMYjCPhzxMmDF04SVvCahCIV2vpWeYbkWvzxUM3dwgx78WFbIhTANNJs/cJ8lydIwZ0D+/pzIXr3aJactAW2Kxl84njuh4f0DGlgVKZptazQBWLxPjpSXL0XVLnLNNsjoMGa2cICyNyqREKy5AOZsilqwtMpxNC94vwPc94VRSDemKXpltjfKEIyNL/q9I4UPTLuNdgMH1ynOsixA4DW+yChskumWsP2ZZK7hN0LIjINvydDPowDN8E2uvdXjt0Hl7heVjtkToFYyocqHE4N8TqSAhZY2TGytLWZeVDSwnkP8wLRecs48lrqzVJR0l8GKsDRQFl/aifwcitBe/7kuM+PvUeCUbov8m84kWLAO/cNSc+PijXjHccHBxzdEXce30HoDUl0z8XU0JfarWFfiT6In4mQyg1yggLU+XpY3oHs+3piHZ4gtvsQn0lL+++xRHbawIFhIA2T5RmTw/1lGGmt6yzyzVZrOluxk0BjZe4moXNqL0WxaaQrpD2fYk9zRmh8UBVOzCozVV4GTO8FK4BcYb/4wq0TZALHCNUOI3DJaiDXP4w38Go3AIFxgbjsNpeHBJslQ4X9Oa8eDQy5SFc/HCpYj2mB6ebkc19w8zCoYAz37K6U/uvAOlJdLaMVt8TxGIXhOIEB1sUnPedqWsTD1DMr6CL0vYEaDqAr5SdYZAAQlls69s7HfUvQLZTXo7pZIGk3xAtWQN/1hFd6vFiaLFd9WPCHIkFxB8shgJDxlalBoeIHgK0O6kQRhegfCUhVl5K+nb/lX9oTXoYMzdQ1hh0sod6jV0T8t4/URyIP6+SlZXfZNPHJy5UB5D6srgD8z0T6h3KsKCo8WWZWy1yW8NSVCxBC/IiswDOLGYFs+ad96C1RUub0GFC8aKVDxYLdB9Iiv1FJGc5V34a1y6yoFLAMY2vnsXb8JazwY9NJhRhvWks/z7HXkC12h3wZ8wmNkuyPuwEq7g7+oveWyILauYa/UiKs07tZ5S/+vRSAixUVlTr4a+qOhp2qMXGVTxdl7BEYGovC/fm1SPKZ4eGMPlVWwlnCQ8gArfFzUnCx8GzOqk20AFrtzCWQywLo9g1pwC61gBBS2Uf6kr7umPG2U2BTxhxHqOZwTNL4SVkLfYU3blos7X82ea6N+joa/QIi7SGTVM5ouvEwclCDTnoQuYQNR0OS0NPOgsjaBR6hhOC+HzJD4dDMJAGFR50ZyNfc22ARuWAAB1KD5UAB2erFC7kH65PxVmq109nwUwYEHzcaZqQraaW/u1BixYXBzGpEiuxOJjB7xi9vr+zVC30jKvbHWcGacywDLsdjUF9AJYnsYAVgWE6wJgYHR/ehOsqBK5voxebXsjrSHy1UX9alsmKSdKUg7naQbUpaI0f5I7UYDPgEvK7BipERZmKTm0cJDwN/MzmTMaK3wUwI1Ozs+gn6+Ac2FhiDRZeRVay0M+DNKamPKd7mA7A1Xt7uWf6cWEKtjVd6N9M0X1CrhoE8/uUXKntOiuyp++udghFVd7RPkHscJ4GzMjD3Kw/Jc5KmjCJVMBdmLyhkCfAZTevGzGcP7AQYNmCGneX3Z4R9myMuzdQykFWNu5TdyICbb87JAQ+6c6iISMkudzVuTn9bvs63O/KAI3r+S6X18+E/za0HNMdXk+YMtdjICps8H2BA+a8yKovSz2guk18BIuZEKt4n55Dnntq2BuuqbTu2/LhRLjIE863akhyybUuy2d+LwmEv4qSuW8DCkVZElhqodowlY7Vb5pp5uXTfcEpZ2F3R9Xy20AqANBgait+2HN4OTu8d31ibf3Yo38Dmb66UEc+VsgTfPYyMGpsoj1JuPFB0psOB2PKyjIeQFMriPLIWNZywT1aReeVQRt0N5uumPwPv0oQ84uQ0abBnBOCD4+axSRwx6EAWmkBbimrX56DTOkVc/q7azpWMKCPZk0uAZvcM18baE2RbIoPBGX1z4I95vxesJ/aVAalMhXDusxazxtuIBxfOvmHr2n2Y8xQNvx+58WpSg+EKSFL0cR0lUnx9EXUpcd+Ao+ZdZVw8fufWkHKv6DVMlcxGz/DmvWGzGDhIPyjn2m4wRqS8sg6MEOYQEYXsUavf5Xx7jeoA+EEhxmnBEMm3aaMgOIbL1K/hcm4XuvlOOoJRl2qzvPK/FlETCyGBFR+FBXVSCLAmfKwb0SVCNklAD0i/TYdq6F3rU2ZwYByTD/dHY+wwh7lK2iUy+dcjNqPR8vrFwxIiki98zyE/HIroOaRgvqszmELjovvM2rQSW3EajY2whAUiGgHKXLGDJpAS85oa8j75arZZt0GGuPXZfOfhFvTbUjzYOlCimPovck0ev4ysLvWHYeyRveH7eUk5Vdek7qNGajXNhSzNeEs0NnN6UZMOG3kcQZ9QVXgIkXuqORQL0nASQmyyOIsJdrDf+zyYHAJ2YVKY0ljFqz9QBCX5VtCpzUBIDabc75DWpVV/Nkd2K4UEMNnHLtcfpaIfrRwopf5oMzPjXd5upLxwwzkdLkXVWoAkMCHb1UjpnJFtkJ/z4qyyR0XPWVyiAz3WxDPBkZd01hMzOTUP3oHbdE+MkrA34igclyEcd6XzNm7+TSfmuEGu4XAAdE7bE09TO2Ydl3HstP8J/XlddvhIQ3mcKn4wo3Z+CP9qL12+j4kMHWf7zhAWsuusJVi/vvFw10t8Qk9uue+7IH/axuoTUdpSQ6jPSn8HAk/Rb4R4qZXg3FRb9M1vyvNsHcgLPlmN7BZenymMkH43v/CushnZrdA9dPxyaTHguMk2tnDuKfdKKCwcvcYD0egR2H0nxg6RfbzoDucZ5W2WABJPdQ/vg57Xa+yfkeY1hW+qAfB/KTAeUSzgqw2nyXWnjWH4HtT3kFABVfitacnfizvxNvbeyU7dRkGIqH9qHgT3jWzdbyEGCl35Ccfpq6jHZBMkhOq8K9JpZbQKPFkZIfp+x6zT1nV1X8wPcTkytxASWod/7xnGnAtyJtZaHJkAkLHcN8ZcUvlHPsSDWiymPZDQdLCv4DPOc/GTe5TdjMpml2S0ztvXcjtcHap/v5ovQZTCreesrxHfNnMwIxfdGDtvoxZAa2MIuGxYbU9r/6Z5FNo5r3J5zhcRAqtX6CEJ8SX5EPeFP4shQBTsn+XIHaz719yLOMSRLXgd13g23wIrK6bOxBGXnLfvEZQ2KuMcc0q4s2R9kDEDQzXWKA8ITpzXHOG++jSF+Bj63Ed+1KkJzk6XGFN+tZPLvRmu7jUXhfZaS/iCyx5STpauHm3/fngCtxGMCf4k2s7iIFzjNyjxhfC6RY/phB0wwIFsHuuzLHpW+5FYBDUjvmQbJGHkv745b7VcUe+8+Sc7LHeepWJCGXWjexgYu87Om+EAYJZzZUX853X7hwHd4TVXRphS4vTJkiWO+ScRwqZGxvzHESqfgK0WYJGh8/dsiazELtPpe455A+93oWqw9R2d7RAA8ttGNI1F0iz/f8+YM7wKGvgm47K/Tx+zIA0+6dFd25TpTSi+7g3/fFmZlQwpZ4PMawsfhV4KuraA0FCLGWEDCJiSXlmUCSkFbbTIKyIuScck/4cU53/H/Z5K+cuCyOW1jOZUJJKffC4mBIWqyHD8wddzTr8/AYoDrw7atGEoPFI27NIcpQfGo2/bH898xiM4HflJdEi5o2sz0d6aDM7+n9pJpWCjh78MnwklNwQENKmCU3SR+ZjSg5a59srFfa0eGMG2PMxyeCbCU6eWYF+pAOaMfxq+K4jtcAXpj9lAjcpPDwsvOXHPyAPnvCroPGQUGyzH4hnPZJbEYRtcSgmcIQpTTmteCK2T8pEuhcRLwUdXqdRqqeGDeHwLM0FDnV71p5sEW6t8/hZqdPI4q4q9Tst63RGzrH4oHABEFRQClptFBPvJi98f4udx0IVc9wyGS+1rcRixGIyDPBg47BM0J0Xw1o4Ia2fnD8dMRADqoKraHLlzdCTn0UIHWoSC24jOSfYa3SExfd/ne0IM1buy3TEaxNBt/AKMOCrpx8YaEM2/n6UBHKIKaRQHXruH3bR4afUYhkMYMDjCzxjZfEkjUGcHHYmGWMe6SnOcyDzHGtFGxnDn+BaWaiTZlTUBHmGBUlkywwaN56GeiDuGl4G1LMesJeeHS/c3Xz+GH3Ds2i/6a5GY9N4pv8+fhp1kX0xgMPhEl3Mx0DV6XGvw8SX8r9rs3uQSwYlFkEFLALSWHvFjzSmnngRmjG0xhNoJGOpeYSUdhHAfef61wIMxiHtCrxJAURVP+xei8gU0zjHQ6kAc0OTeodlx07OoK3Vd8vG+JUCjTguDFSbY8uRDIW0cfpoENv5/oilfgbbxtLPZf8xjrpu9sZqbw75JpCNAaAD9dUe8cyhSl68Yqc7yAxIlO9X1UfmflQXm/v2rt7IbC1JrIT3hLbilAiLDwWsSJGbRPo6DR9j+rgHf/d4zuNjLy/JTeNRGq/XTkjcN9hpq+OxR8G5ZjsCJDYyz2X7sA0zimGitTY+k5zMCx1mJdBqbm6syalt8RvIgHw9c6ajQRuN3vb6Y3xgjYgqGJcl9auEdTdi1KOU6o8E5NESL6k8BwNJhtad3eKbFV2NjdBPZaNp++cUpZOY6POF/AoglnWNYOYI2/9jhGXf9Ep3vuWumhaGb+AJ7oMGKXcONPcWnACjGBFIPmvzg0oq3KuvojiiXdhg6j4FQdrDGoiqsjM2uoHSDQv1imTUN2xhy9dQX3Z+rMifjyus9wwT9jIFYcraTfoWu+YZhEXffh6thy2kt9U5MSgv/bHo8pDM6QgnGJwbHsD1X3XSlh6pd7sPr6EEkLHVEKw2wkaDoAecWiVZfhqZEasJREwTFHf3rKUsySySe0iFmDjrZwRBVf8blvgNCU7m30p+FG4vmG6VsJ5JcHodbBWHS4x20MgPTrKCA1ARu8mnvyBDkujOGlFWPuDxk0cNlHbHAQ32IvFUa8fGp9jySFfjxSzvjNf3/uxMkCvvb987lg2NmndccSqJV6PCDCqoWFIXVp3j5+vuwpi32Vs11uBJhDQuP0CSEzP5i0BXcwl4Z8oL2PJAfUzsCJWDBRqANeTsAwmzBNY0DI5tHCrWFRBMvqUNqr6ItwBWrkvEBVG/JRz/zl9DqCZOe+AUSI+978+BLLgmQo+h6ce4ApyoUt2I29RbWzy6GOX9pWLQllZT7VllNxJlf6C8r2ej3W6TDtKdfHKuLzJGDko8URju7kDVzQJ1XrpPcNgFykLkzWvuR7WSA4xHBlOOCc1S6LPgVFxRZndu1W7LHfDcgMkQUpVozKpnz89/ESNRk6YLVZWN+5NBThCDL5IYq+0ylhDZr8ejhIvxZrimsWYWB/AyI5NvexSqqdSHJEL5lF9m6YvE6Ek8NsnLpnkIG/RLhLxQeALnk6wfPTscOOYVrM49IhFl1ujJgNHHuPYuMmSYtF+un5QZx5rDdPe8yO5Xz6nYJmTbY9Cm1DBXptZivVFJ37okTZg0f+d822FAXLUn+tnL+VzYD3FX3ctbPuqYFfkSnnB3bJhFMIWJWv2ZiKtsy20bzno50gdyCBgVOshHs8gXdpjDeBy7af7vC2WvYWNenETn2S+ZxPMyVpiJdx3uDWWMFFfUT/flm/vScDa+tT6nQmS0nK2YeBMjWvMCcTJKGDI4h0CzXm3/jAnCi1uOjJdltE9VE9u9o5NFTf3C0XHh6gKkgS9Z42Yy6GTnYD1kuXqWnYqfDjpErtBZzZYpgTrTPpx0LcvjUKxEbAUh8UNX9cXtqSt6eGqIJH/AmBEPp9xF3eJp/wB8NizTruaATGUzYvyPsCOR7mBhvFtvraIe4PTPTbgNVUb2M7YzSxOyWszW7FTuQ0kHuNG9LhnwcdlCXnVhBiatCA36WQcnLBp9HBDFUpAEiQhNihSvbnaW/bW4cUHuZvErxMP0BRpEFdBZ65ACsfzoYfn77AmSouHdt/Ab+KyTbrwTK6ll/Ag6mD9+sMTHPW13w+KeBAAAIKUGaJGxCv97WFgKGZhvekeqiLnu+uz7nKr/XmMwyQ5vCtns0UBTt6OBiVgRyQL8zOHd++lffDdifYjq+zJIOrXa3e2vcFIt2TFcsVX+dWlW0Tv0fQvTysZhNKre7eushnqvSwmckf3Oj0/DpvnD3xM+RDJRUcDWNIHvdNQ7Fo4CC0iTdmQEbrvdzT9qxTcl2jB6qlKjge6dxy+gkp2w0Yp++v2yWW2KKQ6jddiwyCle5XpSy7klVbmM+qh8senIr7KEbI9dHyr1bVtoXGJTkgMbCtJ0OoCQQLfVlTBuvAk3+B/vpyacj7yrJNNfK/f467xS2YrJD8x3dT6GUKzjAirPZ92vGbVt53eX2upS71y0lnoLOFkHmLuGE0nZ++06TqGz3mhSE53wwTs6ShnpjXz1n9psaIRrOZcbXf0NWzpcXL2PP6O4zJIZrSUYLfgIZRQ9+6IdMffu78u48a7hM8AeqENPLCfgR8QNqPoSt2VvEB/kmj75djpS+THaaEh5hVXXiCco6c1sDhpryICQzbNWFlmQcdnG0pCBZ+ICBc5xrKmGVPmcFMfkNlKDLQaeN9sT3hnyG3qvcOo7R7b68027l2PcnjOnNjpCWbImA84Pt9lJtCEUdgkcxB/RuLQCcxLB0/0yG80shTy5/Ayg9Qbn8+ltJbEab+gtjrlYzNon2haC6BD5I60J673yCqF30UqiIPsHK2g2iE1KdnUe9GN7pNI8tWpf6uCE1B8PAn50wkRpS0qNmLONG/FAkiVJtEJHViN7gQ3Vos6O+ssXMdoPVBu3yCwlQ5FrZDsrpo8TkhU5Xq2akLVDLsAzIVTk5Y/nEPzhgs5+nCWH7wFHOSbg45A0hHt8C2UoFKzF8Q9dBZqNUTE6YmMyM/S5Vw7i8RBh91LDquuq+xFqHbW+yAkkjnmcwCSBqHVraqVTcZo8RzhGpv1Kof8YPh/Fh+lZs0V0v6IP1BCtOADFSQEfSN2yV+xyo3RoRg2uNGEMN95Ok2tBpSCe7chvdz7MzeItmuWfYlPk6GG8MWvEJF92r8y7lrxXbEp/meW+Tp+hphYOKRSCS8umPc3/hbMHeLHrjZ+HL9tzMVcAYVa4jxTcVZG8+v25jbGNj0hM3QRjalDdo9Q5unYadKG03L+T/a7P8lkS7Obd1xwr40bvkgL/+7b+A1LRMnpNhqgpYRw9NGFWqqR7lzsaL0Or3MUbG7Dr2cri0/gmod5w0PhBy+nL0PjG8KPDVNwrnk7EOs1UsWJ5Jq7+ntFcPmkyLMLeBkoL2V5EIWPypELphgnysHW6ukdrq+t4IRD33TIuKF80fMbLe3GCDqHc4+SPLA3CQ7YdUaLtNKwqJpQobPnxF8ncYgtMExlGVWIrQ9jtrg1NifWkJO0m438+CbGoKoYdVz9AIVPsrMzQZy5wipLKNYfCLMEa43YdMumvUFX7EcIHc29TJu0iuvBHcUCd6Uetf9jx4S1qCtUzjtma0U3qWx1ETm780VKkY768O0Y/iav1wRo4IrHfAEeBkcNWiY21IWgj8rt8Ae7F8MyZSkvt0Ale5kiqN+TR4dpFF5gFoGx8+IbuyjnEwuFg2vfZDKSCb4OpOMILUl+sCtbywzLg5dUMXEA6BcMewnK8QbEWnCXwMGWXbIBjyY1Ol5Joxi3+cvRcwytJWlRcozJPn+LAe7EkqqkHf/bnfaV31GWqRDTluoXzJUPLri24QhJC7K9l2j6WN4c8e/wRfYuWYJKAEjAT2QDs3078XeSSi1ARFVJ6a3uLt3Upc0tmb2CupwcuWqekpV17/ARcEPFxgLhJJV6fEFjE2d4X++wS+lOWZft+FZi5wFqINM7hlFr1QyI9QQ5FlDuA++yt97CG0TWvxiM5laR7I/eXTebyxFq1ruo82k6TacqbOCDCSj8HXLkILyQQ2wMoU1PESkTOspqmVCL5uUIZQUBdESyAFdWib7zlffmH1Mk36VV/iJPAjqsHwCRyXZW+pD5kj4MACScmwEk0uH+6FbQJhUhR/Jd4iT1JI1scpUCUG2oioKFYid4kicTb4NJs7DeBeKtMVNgkx+rDXWloczNc/4JwJZLxwYPmsaEphARBeUq9eBJkCka48mVv/u+WxHNtoaC+j8ZUhpT7ZPPSu2M+Ju2XggILWF5Loz3TgECgwcYRCeDO/kQWFp4+WTSLouv7QFYSEAkDwzsHOzYKeekvpr3fq2IRRRYRLBf/XUTzujQPtZSqkB5jdXtCjJg/jR5WBjkdDqj9TK2KlPAM9XMHEB9dPByR0x7urDMHQjS7KxbTMT5xcaTt/8qQRE/Tg5xC0w4eQZaYsCZm7o+nUJgZgp+UOo6eJrsg7s/IEaoXJbmA1vk2+JYdAC/n0S52U9Gd2Nol8ZoUfw6liafEIWxTaB2yTWx8/FyVUAVaM3ynncfLI1aAeSb+vY4kt2+QzIlDcV1IAMmQrWjYQnTvJYnMFFAI3UlIPN0MpYZrgNSh6LTB1BoaHrBtOHPhXkUs6AKbdEUf2vD5JWqzwdnw4ffjAzEkwKtrHxJ1M+ZLDIYlVbsVmLt6g2rfRvhtBHixi70gLA1BeJo61uDXng+IzPMX658N6jKZqu9ebZONPTc5srj56EjUQvAzg70rQ3nTAtkahQEDE6opn7zqigfjgSQzEivUAmatCo8I2V2KL4uCcTZIzsOvAP71nO0mSIRl3ebxjHtfBJFy7GDc/p3Hhmzc51LoB340uxftnX2EQBDPpbrS1mfm2yE5I91zGsEYHkCKb9ko2n2uiNWfoxfJ7yk4SaTi0284AAAAUQZ5CeL/DyKV1KJLXQvV/cvTJDFkAAAFoAZ5hdFfH5ynJeBGirxGEgSrAhXBszrfgInxfFlpojzjjCpYFFf99sNnp/6QHgkKn3rd/ZnHnlmDBsh0KZ9XIW+ShM6Ag7JUNh53DDjcXFev48EfTlGKcg2rrGns15+aqbIKavl4/xKmi7SgPAFfxd0iloEyGB+lYvuDQx6r3hGxIya+OCAijt3n0ywZ7J2/GpbO98MjD6kprIIVgpkMb26DoMD8TsvXaKRJThb3gtRZIkLsEwue9v3UBN5ih03AEs88BIjdwMgAskw6gMCDQzEoSrB0ZLfdeJA3KMYYIVjxZU94Z6YWs0TlP7kP4Yt9XaNxMeVQtJcVqzMzWN5kjL1cnRTtFg2sYqAwNl1P26zwvZyhKEu5XV9ee2PoRSKXdLmHVfDonbHtVc0rnCovH2ZBEbnxx9JBrh+0GvfJ9KPe+t3mGNJGteRLasiJFTvjeWzxZXPHRvmTrSqwmu4u4ISLIJnK4eIcwAAAACgGeY2pXNq+6EfEAAAK0QZpoSahBaJlMCFf/3nIVkEvsXSnth5d8nSNzMTuoE34FGkVwEjdQKr6bkfF8Xxw+qEHDbIFoNX8FFgWH4zrmR5GIuPsMFJUv88Vxk7I04Y0fP+F3Jvv6ViUZXilndaRiEkFxjgegw4Pecr1l55qjTwlOTxnBaJ+8gsw6wMAW/ZeBo7mibykTfPlo+bHzGcsDQ7V+5yBSo3ktaZOXOXLqgbl1nKR3EZQqVKpLPIZQjnU8ZnKDfW3Mxz0rncnZQVBP8sI4hoTVu2MeSdCxxkvGtKaEAEji4/i+Li/dpoQ79Gu7Ii8NI/sgi4Cpgw9IODkBmf68vmx87fVPeTanRzNLTEUxPHfHL3Kg/wzPWRMdgGo0bbaxusknLnLoq9frtqElgZgK0SUiyI8sudWET+MR/ZQTA+XU/YYVbTN9E0e5AOmA/v8xnSDl0NEYax+vPENa6n4a0uKy+GgG8ZYwlv12O835w3cR4atiJHw8h6PNkwaQUoQm4rd4pZihFOdi9rIafcnCMRPnpxMesNOwnPSoLhzJ3Ygv8EUdADSxYco7Ph1OeEGzOqggxgVWsnD2/pYXkn8wAnCQljHfwIKp0vIeYQHUbi96PtBhYEv3Td5vgJ2bwP1vyOycTel4vFfblJQjMtcJVpLtVJq0yQZq3BZaDejdi+VL3jR8eCjzdgm6mg5nJpsetlwDNUntNoSx8sVV2q/TVOHM+SjhQC+INgrMdRBAADN5eVp9I5RFk9zw8glU63/XdOlmsT5nKoELsTNsb+xN55Hj+4ftkW/p8ANEEW8mLJMw5tIos1ozO9e3pa/+ddO8MO/VATgTuFhSgEEbcvBJy2ooILA+rBfZB/pQNLzQ6JxqkI5VnYQ5tGrrJWrF9VojZ3JwBtdDx9Xf7sEiPGIJUM2UP7jpB2YtzFiaxykFZ90AAAHWQZ6GRREt/8PIpXSNBL2rMjqELZbkU95eD8YCPz3/3dho1E8GNDYRX+oQIUWNWRAQwmvpG8Y0GX5OuPM+4DF7PqGHMObaQDOZbNVGSM9OjnbqFQLoAUfEulensJJlIBcaqpcMjsxiVdnreAoFFOjFQBUKP1GbVBbUjm/hLqHWjlApbOD3hclveGqzFZNqTJU76n0QKQYvil9CVev1pLiRgr4gVivwbOIjbpE/41m5NMWGG2B09l1LJ+kCNBgZuBKQzr0YxMGAVSbWIssNO8BMQd18QJN8xUKbPjsjNkOtcwCldhp4CsnFqODVdZ++3S/EDAWsuWu+d2nJt+Mo8V7Jo2P7y8HT1oJIovJYuPle5bF1lLpphERo9KG5QB6ShFnoE5Cn/b/9/Skdg9PwEN/c+nZiMDkUs1Av6F1B38i9g7NbDkP8D/wKtE0GDQd9J27Uvag5dqADcRu3CBdh+jXp6/I7Hu3Z95CViwzrMWxwf2HZo3bvm3J4oT7KrC0x9zsQbOGE8NaM71oX+EO7K2KIC18yfVY5lTdSDdpXhtIuMqtvtSu7NvF+UDLNZhAC/PUEB/HKcnayNpDg4LYaQV+LNqqo9oSFpwZ8jJGnPcSokYp5H5k0CPEAAAAOAZ6ldFfIDW+ooDqvnL8AAAAWAZ6nalcLz7bzSse7tSwP5jpguR/aeQAAAclBmqxJqEFsmUwIV//eDH+7AHEBU9tfbCcvKc9awhPa0qZff94QRE/IHnlGYIS6v9SjqJ8NYhMsf6BewUTMhc+6kqEjYv2lpBzdFIUGp4Hzsv3r26lGYsMIQqj33u1Kw0CG7JDLZmLEtoRyNcScIWQvkSYmTr2QIQvJGznppXFbVhtd+o+HhaG+YfMrLKgOE2d9AzcR9iMxj5wxNTKwigmen0FuJsTsFHnyEE9D6HOHNdAAApgmpnR2qZwdNBKQvzcgiu5sFZH+qIOF2RmvGoFU4V0zdC68dQtCc2NTgtFA5QjvvPWbsoEyJOZIdjbQP/OTgjeP35tT6SH7aK0kBuxCOoNm3otKUpkhTXDHlmAYu0u6yeE0nwVdONioGufpRKxZL8EQ3+oim2N+CN21r3kPecvmZQJ0s2nhBojzlr3j3hWnXgRu4BszxzEQPGMljx3vaHWhKVAllzBh36oKeBO3X+UXEBMvmloPGN8L33CVuj09lpHMr8VR6iOHl8CPGXfXdLvobYj1aB1u0SJyOr1NPtEN2VuwMWwk1UHkwdKcqj1S1snvbsHxqF4hm29GBBPBFY1RzHgM5aTavNmez0yyuaGuAdGlVtmAAAABvUGeykUVLf9LnvpI43hUv7jT0W7Wzt+zvqk1mRIv7j8J7JXCOoCTbMl6NsRiaQphy6OAwMoI1VuiqSaW29VRkJcTWkaAZOP/07PTbdSPBSGRGJv/qmjL9i/1hjz9/9VfH+07fxS3/cL9KvLatH3EEXKzOdzxDD76MQXKbC/AJzUSvmxI3dUfCUKzG3VOxYnbmr7ZteVS6l4GVusLSvMl6TJlb2dp9lZCrjciJ3ksEaSDIu+tU6IaZ9cwjEh0onpupjuUTw4IUea1BeEnl6fwSlk1mTnkU+oUsMgkobfIehv4RRgq5l2w7e8b2Bc37dCxaOxvzFXuvHXB2/jRO6bP1AVpLIslSdmarqMIJ8YFxoKkZsidjrh7pcXQGWog2KpVKS9rMfqlv+puD+Rj+uok/7COUyks4oi47/XB+8otK2rbniZCsau6reeRAHTrHkP9lRwpUeSp+QtS0gQM1xJ+nSw1nwcEbzHdpEurbk/kIP8P74N3QRbdKsbPYnzxwRJIQ4ciqN/e0+PjBG/we9AwcbJBZN95/JSaOSYfJhKi3gVolEjVyKoHxj4thQFsf7ZUdYp2KbQt+RhWfNSzGiEAAAG4AZ7pdFcCQ4ETs0swSDPBisOHboxuoWw8EYVfP96O0W80ayM+Y5NruG5+YvdymtY3Gow/xX4S4R3Maj1UB4X0lYji5pC6cghtL5V2P0V4nQNJ/z+hEpFy2n4rB9X0u2eNDDaM8XWasAsANB+Of87FXTbwDOe05anolP7z6nGoaGs/aS5nb8UBU7HXtaEt/adeu8Gmzv/xU1+JJOMyEriWU1j+s0wagKmzTUGIOyN8l6LIaPChuve19MDXpaI/bM55e0cAshXp9+baj8OODLpi2ouLg2FIJzWk9U/KJDLjcZShL/G69389eC+zNfxpbfE5TuUpxdXq3HSTF6V2EYTP8w+MTaoTXagSJtqT0W7FH6wIVZpfs5ljHvyYjGwT8RQ5g8YkWhyl+AZQCvd45/rKukQ+TyIqq2w3ptqGTvyDACqL5KyXUMAeb2gJCq90CnNXQlk574QY45snCwSIJvEE+MiQdm60hOZS2fgbUxDlFgPzselFJIcDHroL6aJiQtKMM4wAHV40BL1BdGc7G7smRihUcSYopoMpZp8pjAg8qK6W9o047KL76x2iAK6iJzZNbaGxp6XS74kAAAGdAZ7raldZbQD3/YREcL7GkGxIvogzwYrDh26QJ4qGc4/tAO3yqfWieYA495Bbw+g3Z2a9ZWED3zzfuU5dk1G1a8+j3LOHfFAukDUPeQynPMOYI7GqEtGuYcTdv7VC2gF84BAWciCijQjJkFZTeCMVTZvqQQU7GEskgua9yty+gF+UVT6L1ZjpKkQp1Go5dsj9l2OT4CiB5+VEJjYP4tndBHT+cq7HWR5r3IAeuSmQxl7KYhHYt+K8Dpv/A050vetTR9Dn/O0SDF3co0WfvAzUojjCJj0+YANmqYn2E5UZIHTNvRJCJrykHrF0wZ1C6CyZ6tKF5BX5IAYelAEDOqCI1krgV33rLM8g7dEIcPJJNoLilV884ijjSfWnLW9m/B1sGKo79AumhLpzZ5QuKa1cb+k1CplEBJ5Sic0wBOwAxZTkQYwoveUYEwfw4aoKUY3FQ+EUBCYDQFAgxI676d6wasBG33oU9nJ/CulfvD3ROgU11XWAZAImulsl8GAaYBczkGPbTVhg1HJqKiey+xgrJBt+T7aZbfsKHp5VMh4AAAGQQZrwSahBbJlMCE///fr0UNd5P/EBpK5nhmyGky036lmPUquY0aFw2MrX+0wZSjcsebUA9uthMSI62JPBqFuqAzHHC/kbnXIepJJUhqri0pHwAJONbuJhgrHrQz1b//3GtLT0pa7b32px+QHNuT/NjGx7NUUPZTt+eMIBHhRZGPC1ovGswBI478ONenTdjtMhQsHVcOph3xStjeZU/naZcbwo9l0nYWyyVPUxQuquKvJPDDApf5if8yBY9ij02y5nNTehfNgACQuL5gNOmNr+ZpSYsL1ItibL4Cw5ed00oqHTvXB+tcvXMoOLkPae4H9tJCl56kMpPw9EFOFps7uymCLkd/kRN8oC83nORcMMZC8OFeSGbNNVac1PNiLlV+eEV+GUHXKImcUwFeDmw/XFM27mnz+K8E8L+0k88NbapsHBOi7q7j6/k+ge6i7f9DVmDIh6NbPjGyWY4U4dX4EksNFl5xGX2mcQPeB3I2gbxInYccOq2AXqplNWjk5wdIhbOhVymLLsvboJeecABe/aCQAAAg1Bnw5FFS3/TB/HH87VmR1CFstyKe8vB9QrgEnk0QAMCO5EsRW/AhlVG6HlLPZ++ayhdMXc/lYluqos8xCzohVgcou4TNFifAEqCt38gh2A/aRC8I5+oSlthqJ/zCupKRqPjTCw3WrvZ1z2h3PeLCACIKhf6ArLZ3aWFugFJBQ+r5ARWwWeU0YT/qk4ibkkVttkX1Zz8nCSS9EsvK1Tu40TL68CDPnjn9vr5hCCRq5E3PDJK2gFhE1cCHBROIUuzUL929su/cuRhGDpECc+OAX0VvnTs1GrpxQeMeMg91M39B9MrQNNSvizoEoWZvFbHxQJ1n51eBtiJXhFtPkfr3vq1Xk/6CRyPQLrKDowRk1sa1nPGX2sUoUb3i3QRBH+TS0Gc2NeGOyzD2dMJP6bAFv9jAU2JkSq/QoF5pPEwInGnMYcTg8vNqdTsQi4cb3JELoyHvzDTfxmwpSnvTLdO14Upk3V1DPOKXrJe5bPfsbVkTb0yG1AZwVnuyySGwxSisG+GYmVq4Nam6nyOGN6ROPABKCXAO+2DEBo27F7HKuGheo50P7WtSf0B9mxv69Q7GygRn5WviuulosmHouvQ4KrtJ7TcbG5ti1wG2xbDbtZDt6tXmOkPitWlfUaL18927LP5NjNGi+DvrZHqXloQKufqekTBqjMwHj/kRCjzMrH/3pka7rU8Avthw2wAS8AAAAbAZ8tdFdXZQjk026UwC7YGIhviwjULPLPrwUFAAAAHQGfL2pXWW3V/S2CK9RAaO5kZlkRnYmEWO/9bAEnAAAASkGbNEmoQWyZTAhP//4EZJeiUI1Isk7BHochKuGkowuwYBZkwxLRWMcZ1tt+2LdRRQVkYwF0vVxM3Sh8W31AH87kbKZzI9C8gAQcAAAAF0GfUkUVLf9KRAqXG6YaKh05Phv0AOmBAAAAEwGfcXRXV2MfjXdQu9TfqO1EekAAAAAKAZ9zalcRKe3KwAAAAFlBm3hJqEFsmUwIR//+OH0f949dbkM0pvx41JAchd63GcvttD6g3AjdSeXklLdKSRCquiKZa2wt2QPELQWiDT39xkcMvvrtNbWfoOQhUJ2JK5oHiZgg/hIj4QAAABRBn5ZFFS3/S50xZogyEFVqXgTFtAAAAAoBn7V0VxENecrBAAAADwGft2pXWWwO1iMdYv0UUwAAAflBm7tJqEFsmUwIR//9MPnIGT0sfmuPVRErT8zHilDK1MWBm8psRPazzpYaTqLNzSLt0nVNdbpj6WiVm6hEpKVOBb/6XaZKXv0/UlC2y9UCAQA+vaOsHk452IyaMlf/z+KDxDIiXegFi1HVuiKcWsuhTYr99y7ivzzTZA3lWbrQrQeiWdkeVOpiNO0/Go6RcCmGho2ScFxay9e/Lp25R6xrL8Dpi/DjXp03Y7VQ2Ytkrr+2NZRegazIgy8pY2xeDJPAOqu0y8JKfqaEFzKkw8Pr03tTvV2A1NtcYv2WUZBLfHFXq24r1ujJDQUo0kOISxcO07dDpsiQ7n8SyeIa4xJCXfAusi8eH15k7uJ2F4M6gOZEsdGgk9LrJeGHFYXVRWR58nGKpg8LUvSQ1tRI424vgXpYCP/rNqu54DFX5DqFNCkxhWDIcNkpszOPt0CHRFeIuKvcuILsUsJwXEBbTgLui/LaUqdLmMaoVG/yJKKEWBhY11vckCiAJG9w6kRGNK6beKNojNdMdyseFsQ5raaMJ2kHsuqzIpvq3IrCoKWDc3R3s7dBGR8Act/Z02gpMvxWnT7uSnR8KawVkFMlRvArl72RnAZHDKEDQCWECxmk3uHKOo8lulS7n87CzOxjuhU2vXhnQgEIPneSgz6SiagZIVCiiyunhAmYAAAAHkGf2UUVLf92JqJ+rIETAuOxZ8Yv5lZmngqP9tAGNQAAABIBn/pqV4DU3whFmGjEwsKAq4AAAAHXQZv9SahBbJlMFEwj/9QMchONLH6HBlYP7VYekNoRlb/+8IIw1kMx0yHhLZn3NM2jr4qw0T0Jg/HLrGYw5S1VwoaI5/qSi+CGJ+GDXKMSuN585Ga2Ztr1j9qCkWOp5awPDY78VHnzJEcEOZWNcOKYv76v2UREO4YVt+2W6O97L87ZJdJ1n1rEhDRr32C/oF3kNXZRHGcdWb4NZlrq66wOVvnUTeAdtflJb56bPaGLbzupOvqWnaBKloOkgQzCW/8welL12PfJSmOlAsuS96YQYQSX4vVgRBmJT0z2MidJ0NZI6gnpcBm72/vpw4OpRKHhW29XbQkrQtIMt7duEA/qnZCO1UDCr8ULxWOR6wmRMlOkYuOwKQmDRRzTWTfvvLSboAH1zeuGbhrnFh+nP0oNR0ZUGkuBTY5pjNWyWFJUZZvhCmQ1nokJ6qI9eTdvKkX7h0bQaKqZu5he8WdXek5J5qqI0TL0hBGB6+OyUlu0+Q2hFzWdGF/R0qw89QRW9joWUsI3XZv5JTM1JS+KBPc7e6wnWcabnb3Dqi+z809TZyRIvAgeQIUOF/B7T75R3387MC+HkhSsffS2i4yAgC3jxl/Ig4u8Hd+uanGaNsWOtwfxxR3+QA9JAAABagGeHGpXyd6fly9DRWJFlUGlxV9gJkm2G1ODJgOQ3uFQEUlq/RHgiiqMKIbKkNfW5ptu9eDTldEhR0DfPCtaUFTxH6A1z0bxuOsaFaoUc/5uEkTaP0OPigmrp3nnCM8Z+/8v9ap3CjkatcWBm9563Dqi9xW970hur3U5Cz5GoYE7v03dpH4uEXGIfFv014blOInzqkMC+EIalAZkPkW2Ih59cR1NFILIC5lrHo4ntWwT6k8yUOHOWu+vd+3my1LwvtGk5+LtHm2ypvjSesI0h4N6XW96g1NXgPcbrU37cVURggGwXikPMKbNrZTb2jwr/KnN9vZnMj/48tlV6I9mxsQ3UYV6K4eyMRetKJNN1yjs8iVq+6N7G3QQHyFEeo8gAEJkSmG16I8P2IlvSZNljst+jbI9gOA7+wTKz0e+2B4t6fFgNmmKP7Y4JhYG94JmL03n+hR2v6eKpHjOG+shdqxN1N5WOz5VGxUlAAABw0GaAUnhClJlMCP/zg2gpKZ6h+IWMyNvcFPJyAUjCub7qaOSWyCrkPU0ln4jyfrzXHH21Qtili7Je9L/6wAxVgZDiLzBV9iy50f9u7yTDG+dss4llMwZt9u/fDewFO4Vq/TyUf42ZZcabOEqlzaR9VYawgTSGzkdmH0UNf/iclNIgK0OpB1xPYXmaE8Qs9GGndxOBa4pvTdzsrqh2EeRg8dMAWjpD04s4dnBz0fm6CVLSTUf2siWoLIX2xOlr9ysl2omXW62jlJwEiMjsNZ2qYvFiZTPEX4jdFADHbFRIe+3GJUZirfX0bGu32bHAOcyrBXaRxM5Nt1tSnNvZ1w9RHnrHQGHRkkLxYPY48TUqwrN/sIXj9AOpqB1N7PKirQSp557MCfouZaZ8Go6+Ns8rn4bc/1dnmuDp4qJmEKeD41mcnvIiFOGeDFAhH1Yrpabodby/guFJcvPOZhV2lwnJ7KOSN4FcUoxgeIEbhKUvcfMGkjhM5HEc4YaINvkMMNzS4mngzcUplVDDD/E4l+5VGncVyk5bVmB3kt5pGO9A/MxS8EgH7BGwRZ8Z+vRFaRqdQ7NPAQvAbMYYrENsjaQJJPc7zcAAAHHQZ4/RTRN/8Pr2SOOJgEzet7wIEqN1dqzI6hC2W5FPeXhBVwu+e/93YZ/NO5jDcc1UcqybopZTP34pJAY77PCgj7gMXs+wlkQ5jVAGqPRmiFhKjlGEj33Hc6dRnwdV7opL8pCAuNXvjlLZ/ASAZSzR7p+VyyU5IFtVn1I0KX4Sgo0rjQXP0tpaeiL3pBuwLSCwOL2YHfdVEz2msvucNwNwMgrHnVaVw/bvuZ2jDy08R9ka97MHtgzUsg6oOgEnG2K6ivTlq2U2KRHSm4jg7D2miJQ8XigQiH/XOodVFjhgnUqbkNZxpZ868blRxXbtQivcL2ZZPMvF9AxjiwmBdj+8vB1PVM5Y/zKhKn37E0Ab4892U0Yr2qLCwNA0ci7lhHzMmXxrdeIu7yNhAAkL0JKtkZHNr6tQXqlWVow5LYIeGwp6L13HWGu55cNfAsiXVyezlFrt6o0jmvGwE8U2jp/5eGvaPlLxnTkas7bPAri7F/BsJZdgC7UcD2AcBgaX2YepD6mmZ5LoeTu9M7uq/NbI7BX7XdZw3ebVySPkq8prCB9Yg88h8ih/iK2Kptuw9B6VL0E0iuCnbFx0JfOnl0W0YwqkWdayaMAAAAWAZ5edFfRrEFkh/3gmlvN5WjJo0tDuwAAABgBnkBqV4/8sAgLzABlED8A8L13tONLt2AAAAAmQZpFSahBaJlMCN/6WJQOQIrZPc7SLJrj/K1kt+o7B2TLDx7BNdkAAAGXQZ5jRREt/4bw0eJolr0NuNtPDjSfOj56dbUrqy437rZbSU31bveF9qC0iIRMDZ/6NesmdRAQMGDBh3+0hZ38JvYRBrOIW1u3BXqcrWTMtd2b+63jZVyC9flKoMCuLDlhVLgAB+BcLgJ9cXMyPhM+nvWb00y7agt4ayBO97Oq+fcB1jyaJPk+QDNkg9+ecu6XkMSolCAbSBGpjxnVtakb4VnLY3L1j2IBwMaK6WaxwqFu8eqYRiJnpxvf5xPTPaHUICzRL9y0dtDbZZb7KwQK3JiImFIdENXaXqjXaCLOV4tOvNw69cecXnaWcVGAdKmWZh93agmDH/4liy9dcQMK/PaFs+Op5x53NUoBMSYJus4tfzqg+yMDmTycbc5XFlvIwOnEX26kve8SdAppDwKz6Z3mV9GJ0051rmjvHh8I37cufp3D6aU+PBKg2yKZzh979K1BCkMw2/idTVFJoq9OK7gm+aGGI292SOf0dnqzNlM9aoRC0hjyxHIwD/QLWpLjMJXOBKQ0tB60xbYSx4iBu4wvTQYe67AAAAATAZ6CdFeLNlpzSZPpp0ZWXQb/WQAAAVIBnoRqV4/7z+bUyJQjWuK7HGzCKfCCqwJjzON3lXyolz+8hmUiqOJ/yjn9r3/cUezJ4C30RKnvjlC3SC2f7hrM4X5fDTCt3l062e+Sp73Qa1sI/u0fr1XMMTDW3LJ0P9YSXrmm+9nGfk0ipsfjyMSTS511NGiqBkFIx+dZCivC9QjyFUpjRXVqEExwZD/Xv8g6a7LsdOZp3zu8xYJadyXozP+pmW2u9yst41UWrcIv67Stf96nQ3Eh/X8IHl+GnSh6dZzj2XmygG048dDZDJeTwcfqyfWqKYdNIfRFX/bwjxycR9K2QaVq7w1dlGSXd9stIUV83DuOKWwuL7/15pTduIPAS33tC21Q3aHIRdGQXiX8ddgt4MuwRBulWBn9lYMQVaYBDE+8XvGpO/y2fMbgf7xq1W5hdNoW0aPa264g7LPWM6rECL0zCdcgPQh4ip8tSQAAAClBmolJqEFsmUwIv/pYAoLq3SLcO7yRSEiqoxIRA5i3qEFPtbRbAqT9PQAAABxBnqdFFS3/hvCmdxJ2UyXPL1MEyIjjmsw7hJmBAAAAEwGexnRXizUpZVg+GSoTQ5p3UOAAAAARAZ7IaleP+597HIVpQD1lpeAAAAHLQZrNSahBbJlMCf/kQAOe5lGpnEltUKloWv7k4b01TH6NiY5acYRktV86HDeuRyUYjZnsVXlKwpdMKQhDSmpCNVmimeOGYztOYd20MjvC2urLP52Xz/55OpgRcUBn6XQTvcTkChkBqJT6FPk1nuZoKStT4ashN34BFc0opR+xj0jFmk+K7qSmn5F7TntK7VQckD/nTI/OvpPRAnc8QKymWUqLVB2JljdMUpkHCy3NlE9j9iq5zrNSrt+zHD+JzeyhTFl1gSDOAkvCYKJmzg7KITLt901TUl+Wn5E6zfz8l/jRgG9yotbYmWiTWnxaM4ttYUDUGjw7d52PtOQABctL3rywo9AHulOM0xIKHahNdjHB9AX8paay76OerTaXgALC6OzM2GzRoDZFFHBWfmavxAKHRn0E8LMBeKm9iV0Olx0dEfUS0pPnvETKNaKbk4eApp2fj3zrOTB8Hr3nxVY0ixI8BFwRzlALsfWUsTg9pnFwNsl+LbujYcRxRJpLJOxy0fIiw1THIJ0bhaun7EPkzzoEdxwyZoBp6coVm2Qi8Y7xDM7lIxmrLGobJZy0ICuCPPjI58xWeOhu6Gc21lfsTCcbDkb5xsmDXnG5AAAAGkGe60UVLf+G8J2Vgxe7FO9tAUAop1oo9k+gAAAACgGfCnRXizTUpIAAAAG2AZ8MaleP+5/AMlPxX0QZ4MVhw7dGOhSFZGuggKPejtFlASDOYx2odf4ZBxJZWsbjUYf4r8JcI7mNR6qA8L6SsRxc0hdOQQ2l8q7H6K8ToGk/5/QiUi5bT8Vg+r6XbPGhhtGeLrNWAWAGg/HP+dirpt4BnPactT0Sn959TjUNDWftJczt+KAqdjr2tCW/tOvXeDTZ832l60llmZk5VxLKax/WaYNQFTZpqDEHZG+S9FkNHhQ3Xva+mBr0tEftmc8vaOAWQr0+/NtR+HHBl0xbUXFwbCkE5rSeqflEhlxuMpQl/jde7+evBfZmv40tvicp1W4/Ur9tRbxvm7URTcHE0+z1g6a7UCRNtSei3Yo/WBCrNL9nMsY9+TEY2CfiKHMHjEi0OUvwDKAV7vHP9ZV0iHyeRFVW2G9NtQyd+QYAVRfJWS6hgDze0nIKvdApzV0JZOe+EGOObJwsEiCbxBPjIkHZutITmUtn4G1MQ5RYD87HpRSSHAx66C+miYkLSjDOMAB1eNAS9QXRnOxu7JkYoVHEmKKaDKWafKYwIPKiU1/PRmRUvvrHaIArspJNk1tobGnrZ4bRAAADA0GbD0moQWyZTBRNfwADxypO6/9R+3UbIuHW3T2vj3jELjCbddmQ4UtXMpIPCgy1oS5I159eSqEwWUc+FV+Yfn81eZKDaICWOcRTSz2dN45ArOCd5/SX5uCD5jHpep7FfisKLgBI0hWBR84HgPd+exN3FL/gIjJw/vlF8YZe4nWegJo/hj0aBwcAzQ/iY1rAkehy8EIkCBbFNAlJnuCmCZQKMBsvVW5J3uQ6LyOHusi5PaaQb0b0Q7z7bgTMKiAgH40bNSDUH2HYkXO4fhbxX2FTK8yXzkrU71JDkW++SvoJpVIa5pKEGMYeUPZQi8j2zs2sLHmal0cvP0ZZh+JX+R3TxpT+x+XKHC1dNxLtKVtb7Ejw/1BXK99Tsx0yATy9RHuDCGG2IIih73jdEu/QnIUJ8eGFL7Xd1n7DMluvWwD72bVdR9eJnDhWIM7ZDDjXiBpE817/ClQyNhBZDW9FBXVp7ZWxbGj/8kKdrr/f3GWhHP5D4JM9jhaEH2CNL0jZDNVm4YiMdhFppbHcth0fB/D1QFcnqd4Bt/9acs1fXn0v9IoHXaAUx7W3rJ1ac+IU1byefqLQ4zf7+m6mD37T1g7sLDIefPZXKGvueOixigQ1PSA9TK8S04TF416n5h5BrLy9Hh+SdeZzTKTEkErXuv0oSsE0mhmU7Tsdl61B1iYTxVfBsZ5465eRs7uAQtGPA7LQK3No+avedPRGUB6eavC1lA7YENEKIlbYe8c2BnwTx/ZEh9xYV/yYDuZVZ3zSnKqlkeLSNXHuMkE+eXtGtHWG7DA4D/tctDZsn1hiDI3CPIU+4DSalAkJrRGnkLfpq10Xo49LsTajmFCpFW2yZpDPd/GNj4SuOqCLU1LY01f9ju38N0+Jl/1AWsHUzwzJrG/75mtveTk60+OHqGgYOZPgwnDYuXITbBdaNoAHG1O9+eRaZidBWJMruI5IybkuVox7D1hcJS2GPLGknI+yHOcN/RWTpark8PpNA+7CARdeRhdavg1m2lPBri93UN3sFEfM0QAAAZ8Bny5qV5E9iLA7Z5G3q+iDPBisOHbo+GLnHnH9oB2+VT60TzAHHvILeH0G7OzXrKwgNGMi3zfuU5dlDA9a8+j3LOHfFAukDUPeQynPMOYI7GqEtGuYcTdv7VC2gF84BAWciCijQjJkFZTeCMVTZvqQQU7GEskgua9yty+gF+UVT6L1ZjpKkQp1Go5dsj9l2OT4CiB5+VEJjQv4tndBHT+cq7HWR5r3IAeuSmQxl7KYhHYt+K8Dpv/A050vetTR9Dn/O0SDF3co0WfvAzUojjCJj0+YANmqYn2E5UZIDDRRo7Sn2NylIPWLpgzqF0Fkz1aULyCvyQAw9KAIGdUERrJXArvvWWZ5B26IQ4eSSbQXFKr55xFHGk+tOWt7N+DrYMVR36BdNCXTmzyhcU1q439JqFTKICTylE5pgCgFxeynIgxhRe8owJg/hw1QUoxuKh8IoCEwGgKBBiR13071g1YCNvvQp7OT+FdK/eHuidAprqusAyARNdLZHNjgBingA7cgx7aasMGo5L5UT2X2MFZIOMb/IoSuz303IGZf3qLhAAAFYm1vb3YAAABsbXZoZAAAAAAAAAAAAAAAAAAAA+gAAC7gAAEAAAEAAAAAAAAAAAAAAAABAAAAAAAAAAAAAAAAAAAAAQAAAAAAAAAAAAAAAAAAQAAAAAAAAAAAAAAAAAAAAAAAAAAAAAAAAAAAAAAAAAIAAASMdHJhawAAAFx0a2hkAAAAAwAAAAAAAAAAAAAAAQAAAAAAAC7gAAAAAAAAAAAAAAAAAAAAAAABAAAAAAAAAAAAAAAAAAAAAQAAAAAAAAAAAAAAAAAAQAAAAAEAAAABAAAAAAAAJGVkdHMAAAAcZWxzdAAAAAAAAAABAAAu4AAAIAAAAQAAAAAEBG1kaWEAAAAgbWRoZAAAAAAAAAAAAAAAAAAAQAAAAwAAVcQAAAAAAC1oZGxyAAAAAAAAAAB2aWRlAAAAAAAAAAAAAAAAVmlkZW9IYW5kbGVyAAAAA69taW5mAAAAFHZtaGQAAAABAAAAAAAAAAAAAAAkZGluZgAAABxkcmVmAAAAAAAAAAEAAAAMdXJsIAAAAAEAAANvc3RibAAAAK9zdHNkAAAAAAAAAAEAAACfYXZjMQAAAAAAAAABAAAAAAAAAAAAAAAAAAAAAAEAAQAASAAAAEgAAAAAAAAAAQAAAAAAAAAAAAAAAAAAAAAAAAAAAAAAAAAAAAAAAAAAABj//wAAADVhdmNDAWQADP/hABhnZAAMrNlBAIaEAAADAAQAAAMAIDxQplgBAAZo6+PLIsD9+PgAAAAAFGJ0cnQAAAAAAABiqgAAYqoAAAAYc3R0cwAAAAAAAAABAAAAMAAAEAAAAAAUc3RzcwAAAAAAAAABAAAAAQAAAYhjdHRzAAAAAAAAAC8AAAABAAAgAAAAAAEAAFAAAAAAAQAAIAAAAAABAAAAAAAAAAEAABAAAAAAAQAAUAAAAAABAAAgAAAAAAEAAAAAAAAAAQAAEAAAAAABAABQAAAAAAEAACAAAAAAAQAAAAAAAAABAAAQAAAAAAEAAFAAAAAAAQAAIAAAAAABAAAAAAAAAAEAABAAAAAAAQAAUAAAAAABAAAgAAAAAAEAAAAAAAAAAQAAEAAAAAABAABQAAAAAAEAACAAAAAAAQAAAAAAAAABAAAQAAAAAAEAAEAAAAAAAgAAEAAAAAABAAAwAAAAAAEAABAAAAAAAQAAUAAAAAABAAAgAAAAAAEAAAAAAAAAAQAAEAAAAAABAABQAAAAAAEAACAAAAAAAQAAAAAAAAABAAAQAAAAAAEAAFAAAAAAAQAAIAAAAAABAAAAAAAAAAEAABAAAAAAAQAAUAAAAAABAAAgAAAAAAEAAAAAAAAAAQAAEAAAAAABAAAwAAAAAAEAABAAAAAAHHN0c2MAAAAAAAAAAQAAAAEAAAAwAAAAAQAAANRzdHN6AAAAAAAAAAAAAAAwAABkPgAACC0AAAAYAAABbAAAAA4AAAK4AAAB2gAAABIAAAAaAAABzQAAAcEAAAG8AAABoQAAAZQAAAIRAAAAHwAAACEAAABOAAAAGwAAABcAAAAOAAAAXQAAABgAAAAOAAAAEwAAAf0AAAAiAAAAFgAAAdsAAAFuAAABxwAAAcsAAAAaAAAAHAAAACoAAAGbAAAAFwAAAVYAAAAtAAAAIAAAABcAAAAVAAABzwAAAB4AAAAOAAABugAAAwcAAAGjAAAAFHN0Y28AAAAAAAAAAQAAADAAAABidWR0YQAAAFptZXRhAAAAAAAAACFoZGxyAAAAAAAAAABtZGlyYXBwbAAAAAAAAAAAAAAAAC1pbHN0AAAAJal0b28AAAAdZGF0YQAAAAEAAAAATGF2ZjU4Ljc2LjEwMA==\"></video>"
            ]
          },
          "metadata": {},
          "execution_count": 17
        }
      ]
    },
    {
      "cell_type": "markdown",
      "source": [
        "## **Policy iteration algorithm**\n",
        "this algorithm can be divided into two components:\n",
        "1. policy evaluation\n",
        "2. policy improvment\n",
        "\n",
        "It starts with an arbitrary policy, And each iteration, It first computes the policy values given the latest policy, Based on the $\\normalsize\\textit{Bellman expectation equation}$; It then extract an improved policy out the resulting policy values, Based on the $\\normalsize\\textit{Bellman optimality equation}$. It iteratively evaluates the policy and generates an improved version until the policy doesn't change any more.\n",
        "\n",
        "<br>\n",
        "\n",
        "$$\n",
        "\\large \\textit{Bellman expectation equation:}\\\\\n",
        "V(s) = \\sum_{a}{\\pi(s, a)\\left[R(s,a) +\n",
        "\\gamma\\sum_{s^{'}}{T(s,a,s^{'})V(s^{'})}\\right]}\n",
        "$$\n",
        "\n",
        "<br>\n",
        "\n",
        "$$\n",
        "\\large\\textit{Bellman optimality equation}\\\\\n",
        "\\pi_{*}(s) := argmax_{a}\\sum_{s^{'}}{T(s,a,s^{'})}\n",
        "\\left[R(s,a, s^{'}) + \\gamma V_{*}(s^{'})\\right]\n",
        "$$\n",
        "\n",
        "<br>\n",
        "<br>\n",
        "\n",
        "now we implement Policy evaluation and Policy imporovement multiple time:\n",
        "\n",
        "<br>\n",
        "\n",
        "$$\n",
        "    \\large \\pi_0 \\xrightarrow{evaluation} v_{\\pi_0} \\xrightarrow{improve} \\pi_1 \\xrightarrow{evaluation} v_{\\pi_1} \\xrightarrow{improve} \\pi_2 ...  \\pi_* \\xrightarrow{evaluation} v_{*}\n",
        "$$"
      ],
      "metadata": {
        "id": "gSBaeZHoZeEj"
      }
    },
    {
      "cell_type": "code",
      "source": [
        "def policy_evaluation(env, policy, gamma, threshhold):\n",
        "    n_state = env.observation_space.n\n",
        "    V = torch.zeros(n_state)\n",
        "    while True:\n",
        "        v_temp = torch.zeros(n_state)\n",
        "        for state in range(n_state):\n",
        "            action = policy[state].item()\n",
        "            for T_prob, s_prime, R, _ in env.env.P[state][action]:\n",
        "                v_temp[state] += T_prob * (R + gamma * V[s_prime].item())\n",
        "\n",
        "        delta = torch.max(torch.abs(V - v_temp))\n",
        "        V = v_temp.clone()\n",
        "        if delta <= threshhold:\n",
        "            break\n",
        "    return V\n",
        "\n",
        "\n",
        "def policy_improvment(env, optimal_value, gamma):\n",
        "    n_state = env.observation_space.n\n",
        "    n_action = env.action_space.n\n",
        "    policy = torch.zeros(n_state)\n",
        "    for state in range(n_state):\n",
        "        v_action = torch.zeros(n_action)\n",
        "        for action in range(n_action):\n",
        "            for T_prob, s_prime, R, _ in env.env.P[state][action]:\n",
        "                v_action[action] += T_prob * (R + gamma * optimal_value[s_prime].item())\n",
        "\n",
        "        policy[state] = torch.argmax(v_action)\n",
        "\n",
        "    return policy"
      ],
      "metadata": {
        "id": "hh-cI57cZd7-"
      },
      "execution_count": 35,
      "outputs": []
    },
    {
      "cell_type": "code",
      "source": [
        "def policy_iteration(env, gamma, threshhold):\n",
        "    \"\"\"\n",
        "    Performs policy iteration to compute the optimal policy and value function.\n",
        "\n",
        "    Parameters:\n",
        "        env: The environment object (assumed to follow OpenAI Gym's structure).\n",
        "        gamma (float): The discount factor (0 <= gamma < 1).\n",
        "        threshhold (float): The convergence threshold for stopping the policy evaluation step.\n",
        "\n",
        "    Returns:\n",
        "        V (torch.Tensor): The optimal value function for the environment.\n",
        "        improved_policy (torch.Tensor): The optimal policy derived through policy iteration.\n",
        "    \"\"\"\n",
        "    n_state = env.observation_space.n # Number of states in the environment\n",
        "    n_action = env.action_space.n # Number of actions in the environment\n",
        "\n",
        "    # Initialize a random policy with shape (n_state,)\n",
        "    # Each state is assigned a random action initially\n",
        "    policy = torch.randint(high=n_action, size=(n_state,)).float()\n",
        "\n",
        "    # Start the policy iteration loop\n",
        "    while True:\n",
        "        # Evaluate the current policy to compute the value function\n",
        "        V = policy_evaluation(env, policy, gamma, threshhold)\n",
        "\n",
        "        # Improve the policy based on the computed value function\n",
        "        improved_policy = policy_improvment(env, V, gamma)\n",
        "\n",
        "        # Check if the policy has converged (no changes in policy)\n",
        "        if torch.equal(improved_policy, policy):\n",
        "            # Return the optimal value function and policy\n",
        "            return V, improved_policy\n",
        "\n",
        "        # Update the policy for the next iteration\n",
        "        policy = improved_policy"
      ],
      "metadata": {
        "id": "1STWR8mBJ6qZ"
      },
      "execution_count": 36,
      "outputs": []
    },
    {
      "cell_type": "code",
      "source": [
        "env = create_env(\"FrozenLake-v1\")\n",
        "gamma = 0.99\n",
        "threshhold = 0.0001\n",
        "v_optimal, policy_improved = policy_iteration(env, gamma, threshhold)\n",
        "\n",
        "print(f\"Optimal value: \\n{v_optimal}\\n\")\n",
        "print(f\"optimal policy: \\n{policy_improved}\\n\")"
      ],
      "metadata": {
        "id": "3ENGDHfdZd5W",
        "colab": {
          "base_uri": "https://localhost:8080/"
        },
        "outputId": "db48141e-67d8-44c4-a1b5-ec9aec9ceb86"
      },
      "execution_count": 37,
      "outputs": [
        {
          "output_type": "stream",
          "name": "stdout",
          "text": [
            "Optimal value: \n",
            "tensor([0.5404, 0.4966, 0.4681, 0.4541, 0.5569, 0.0000, 0.3572, 0.0000, 0.5905,\n",
            "        0.6421, 0.6144, 0.0000, 0.0000, 0.7410, 0.8625, 0.0000])\n",
            "\n",
            "optimal policy: \n",
            "tensor([0., 3., 3., 3., 0., 0., 0., 0., 3., 1., 0., 0., 0., 2., 1., 0.])\n",
            "\n"
          ]
        }
      ]
    },
    {
      "cell_type": "code",
      "source": [
        "n_episode = 500\n",
        "total_rewards = []\n",
        "for episode in range(n_episode):\n",
        "    R = run_episode(env, policy_improved.long())\n",
        "    total_rewards.append(R)\n",
        "\n",
        "    if episode % 50 == 0 and episode > 0:\n",
        "        avg_tot_reward = sum(total_rewards) / episode\n",
        "        print(f\"Average total reward over {episode} episodes: {avg_tot_reward:.2f}\")"
      ],
      "metadata": {
        "id": "85bQnEeBZd3R",
        "colab": {
          "base_uri": "https://localhost:8080/"
        },
        "outputId": "dace820c-092a-4e8d-bb60-e6c206ab887b"
      },
      "execution_count": 20,
      "outputs": [
        {
          "output_type": "stream",
          "name": "stdout",
          "text": [
            "Average total reward over 50 episodes: 0.76\n",
            "Average total reward over 100 episodes: 0.74\n",
            "Average total reward over 150 episodes: 0.77\n",
            "Average total reward over 200 episodes: 0.76\n",
            "Average total reward over 250 episodes: 0.75\n",
            "Average total reward over 300 episodes: 0.75\n",
            "Average total reward over 350 episodes: 0.75\n",
            "Average total reward over 400 episodes: 0.74\n",
            "Average total reward over 450 episodes: 0.75\n"
          ]
        }
      ]
    },
    {
      "cell_type": "code",
      "source": [
        "display_video(450)"
      ],
      "metadata": {
        "id": "EWuv-VYaZdy4",
        "colab": {
          "base_uri": "https://localhost:8080/",
          "height": 620
        },
        "outputId": "15cd392a-a990-4eb6-9ac2-b50b582b01b2"
      },
      "execution_count": 21,
      "outputs": [
        {
          "output_type": "execute_result",
          "data": {
            "text/plain": [
              "<IPython.core.display.HTML object>"
            ],
            "text/html": [
              "<video width=\"600\"\" controls><source src=\"data:video/mp4;base64,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\"></video>"
            ]
          },
          "metadata": {},
          "execution_count": 21
        }
      ]
    },
    {
      "cell_type": "code",
      "source": [],
      "metadata": {
        "id": "w3TCweqhMh1g"
      },
      "execution_count": null,
      "outputs": []
    }
  ]
}