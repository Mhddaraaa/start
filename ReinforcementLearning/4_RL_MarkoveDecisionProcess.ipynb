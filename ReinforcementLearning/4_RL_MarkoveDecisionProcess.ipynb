{
  "nbformat": 4,
  "nbformat_minor": 0,
  "metadata": {
    "colab": {
      "provenance": []
    },
    "kernelspec": {
      "name": "python3",
      "display_name": "Python 3"
    },
    "language_info": {
      "name": "python"
    }
  },
  "cells": [
    {
      "cell_type": "markdown",
      "source": [
        "# **Reinforcement Learning**\n",
        "<img align=\"right\" src=\"https://vitalflux.com/wp-content/uploads/2020/12/Reinforcement-learning-real-world-example.png\">\n",
        "\n",
        "- In reinforcement learning, your system learns how to interact intuitively with the environment by basically doing stuff and watching what happens.\n",
        "\n",
        "if you need the last version of gym use block of code below:\n",
        "```\n",
        "!pip uninstall gym -y\n",
        "!pip install gym\n",
        "```"
      ],
      "metadata": {
        "id": "S3pPXb372sNO"
      }
    },
    {
      "cell_type": "code",
      "execution_count": 1,
      "metadata": {
        "id": "lP82hohi2bRT",
        "colab": {
          "base_uri": "https://localhost:8080/"
        },
        "outputId": "629f8dd2-2b78-4ca1-e4c0-bf5206884b06"
      },
      "outputs": [
        {
          "output_type": "stream",
          "name": "stdout",
          "text": [
            "Requirement already satisfied: gym[atari] in /usr/local/lib/python3.10/dist-packages (0.25.2)\n",
            "Requirement already satisfied: numpy>=1.18.0 in /usr/local/lib/python3.10/dist-packages (from gym[atari]) (1.23.5)\n",
            "Requirement already satisfied: cloudpickle>=1.2.0 in /usr/local/lib/python3.10/dist-packages (from gym[atari]) (2.2.1)\n",
            "Requirement already satisfied: gym-notices>=0.0.4 in /usr/local/lib/python3.10/dist-packages (from gym[atari]) (0.0.8)\n",
            "Collecting ale-py~=0.7.5 (from gym[atari])\n",
            "  Downloading ale_py-0.7.5-cp310-cp310-manylinux_2_17_x86_64.manylinux2014_x86_64.whl (1.6 MB)\n",
            "\u001b[2K     \u001b[90m━━━━━━━━━━━━━━━━━━━━━━━━━━━━━━━━━━━━━━━━\u001b[0m \u001b[32m1.6/1.6 MB\u001b[0m \u001b[31m8.3 MB/s\u001b[0m eta \u001b[36m0:00:00\u001b[0m\n",
            "\u001b[?25hRequirement already satisfied: importlib-resources in /usr/local/lib/python3.10/dist-packages (from ale-py~=0.7.5->gym[atari]) (6.0.1)\n",
            "Installing collected packages: ale-py\n",
            "Successfully installed ale-py-0.7.5\n",
            "Collecting autorom[accept-rom-license]\n",
            "  Downloading AutoROM-0.6.1-py3-none-any.whl (9.4 kB)\n",
            "Requirement already satisfied: click in /usr/local/lib/python3.10/dist-packages (from autorom[accept-rom-license]) (8.1.7)\n",
            "Requirement already satisfied: requests in /usr/local/lib/python3.10/dist-packages (from autorom[accept-rom-license]) (2.31.0)\n",
            "Collecting AutoROM.accept-rom-license (from autorom[accept-rom-license])\n",
            "  Downloading AutoROM.accept-rom-license-0.6.1.tar.gz (434 kB)\n",
            "\u001b[2K     \u001b[90m━━━━━━━━━━━━━━━━━━━━━━━━━━━━━━━━━━━━━━━\u001b[0m \u001b[32m434.7/434.7 kB\u001b[0m \u001b[31m3.8 MB/s\u001b[0m eta \u001b[36m0:00:00\u001b[0m\n",
            "\u001b[?25h  Installing build dependencies ... \u001b[?25l\u001b[?25hdone\n",
            "  Getting requirements to build wheel ... \u001b[?25l\u001b[?25hdone\n",
            "  Preparing metadata (pyproject.toml) ... \u001b[?25l\u001b[?25hdone\n",
            "Requirement already satisfied: charset-normalizer<4,>=2 in /usr/local/lib/python3.10/dist-packages (from requests->autorom[accept-rom-license]) (3.2.0)\n",
            "Requirement already satisfied: idna<4,>=2.5 in /usr/local/lib/python3.10/dist-packages (from requests->autorom[accept-rom-license]) (3.4)\n",
            "Requirement already satisfied: urllib3<3,>=1.21.1 in /usr/local/lib/python3.10/dist-packages (from requests->autorom[accept-rom-license]) (2.0.4)\n",
            "Requirement already satisfied: certifi>=2017.4.17 in /usr/local/lib/python3.10/dist-packages (from requests->autorom[accept-rom-license]) (2023.7.22)\n",
            "Building wheels for collected packages: AutoROM.accept-rom-license\n",
            "  Building wheel for AutoROM.accept-rom-license (pyproject.toml) ... \u001b[?25l\u001b[?25hdone\n",
            "  Created wheel for AutoROM.accept-rom-license: filename=AutoROM.accept_rom_license-0.6.1-py3-none-any.whl size=446660 sha256=e2c7fedfbbb79bb62ad48890256801a2404a1443f436d2863d120a74b4c82e9e\n",
            "  Stored in directory: /root/.cache/pip/wheels/6b/1b/ef/a43ff1a2f1736d5711faa1ba4c1f61be1131b8899e6a057811\n",
            "Successfully built AutoROM.accept-rom-license\n",
            "Installing collected packages: AutoROM.accept-rom-license, autorom\n",
            "Successfully installed AutoROM.accept-rom-license-0.6.1 autorom-0.6.1\n",
            "Collecting swig\n",
            "  Downloading swig-4.1.1-py2.py3-none-manylinux_2_5_x86_64.manylinux1_x86_64.whl (1.8 MB)\n",
            "\u001b[2K     \u001b[90m━━━━━━━━━━━━━━━━━━━━━━━━━━━━━━━━━━━━━━━━\u001b[0m \u001b[32m1.8/1.8 MB\u001b[0m \u001b[31m15.1 MB/s\u001b[0m eta \u001b[36m0:00:00\u001b[0m\n",
            "\u001b[?25hInstalling collected packages: swig\n",
            "Successfully installed swig-4.1.1\n",
            "Requirement already satisfied: gym[box2d] in /usr/local/lib/python3.10/dist-packages (0.25.2)\n",
            "Requirement already satisfied: numpy>=1.18.0 in /usr/local/lib/python3.10/dist-packages (from gym[box2d]) (1.23.5)\n",
            "Requirement already satisfied: cloudpickle>=1.2.0 in /usr/local/lib/python3.10/dist-packages (from gym[box2d]) (2.2.1)\n",
            "Requirement already satisfied: gym-notices>=0.0.4 in /usr/local/lib/python3.10/dist-packages (from gym[box2d]) (0.0.8)\n",
            "Collecting box2d-py==2.3.5 (from gym[box2d])\n",
            "  Downloading box2d-py-2.3.5.tar.gz (374 kB)\n",
            "\u001b[2K     \u001b[90m━━━━━━━━━━━━━━━━━━━━━━━━━━━━━━━━━━━━━━━\u001b[0m \u001b[32m374.4/374.4 kB\u001b[0m \u001b[31m5.8 MB/s\u001b[0m eta \u001b[36m0:00:00\u001b[0m\n",
            "\u001b[?25h  Preparing metadata (setup.py) ... \u001b[?25l\u001b[?25hdone\n",
            "Collecting pygame==2.1.0 (from gym[box2d])\n",
            "  Downloading pygame-2.1.0-cp310-cp310-manylinux_2_17_x86_64.manylinux2014_x86_64.whl (18.3 MB)\n",
            "\u001b[2K     \u001b[90m━━━━━━━━━━━━━━━━━━━━━━━━━━━━━━━━━━━━━━━━\u001b[0m \u001b[32m18.3/18.3 MB\u001b[0m \u001b[31m42.3 MB/s\u001b[0m eta \u001b[36m0:00:00\u001b[0m\n",
            "\u001b[?25hRequirement already satisfied: swig==4.* in /usr/local/lib/python3.10/dist-packages (from gym[box2d]) (4.1.1)\n",
            "Building wheels for collected packages: box2d-py\n",
            "  Building wheel for box2d-py (setup.py) ... \u001b[?25l\u001b[?25hdone\n",
            "  Created wheel for box2d-py: filename=box2d_py-2.3.5-cp310-cp310-linux_x86_64.whl size=2373129 sha256=98e7dbeaa2dbac9b03dd9b47280ab75ec3bd05839c7e5be1b2259d18bde9dc6f\n",
            "  Stored in directory: /root/.cache/pip/wheels/db/8f/6a/eaaadf056fba10a98d986f6dce954e6201ba3126926fc5ad9e\n",
            "Successfully built box2d-py\n",
            "Installing collected packages: box2d-py, pygame\n",
            "  Attempting uninstall: pygame\n",
            "    Found existing installation: pygame 2.5.1\n",
            "    Uninstalling pygame-2.5.1:\n",
            "      Successfully uninstalled pygame-2.5.1\n",
            "Successfully installed box2d-py-2.3.5 pygame-2.1.0\n"
          ]
        }
      ],
      "source": [
        "# !pip install -U gym==0.25.2\n",
        "!pip install gym[atari]\n",
        "!pip install autorom[accept-rom-license]\n",
        "!pip install swig\n",
        "!pip install gym[box2d]"
      ]
    },
    {
      "cell_type": "code",
      "source": [
        "import numpy as np\n",
        "import matplotlib.pyplot as plt\n",
        "import gym\n",
        "from IPython.core.display import HTML\n",
        "from base64 import b64encode\n",
        "from gym.wrappers import record_video, record_episode_statistics\n",
        "from gym.wrappers import RecordVideo, RecordEpisodeStatistics\n",
        "import torch\n",
        "import os\n",
        "\n",
        "import warnings\n",
        "warnings.filterwarnings('ignore')"
      ],
      "metadata": {
        "id": "VC8vzsao2rmI"
      },
      "execution_count": 2,
      "outputs": []
    },
    {
      "cell_type": "code",
      "source": [
        "def display_video(episode=0, video_width=600, video_dir= \"/content/video\"):\n",
        "\n",
        "    video_path = os.path.join(video_dir, f\"rl-video-episode-{episode}.mp4\")\n",
        "    video_file = open(video_path, \"rb\").read()\n",
        "    decoded = b64encode(video_file).decode()\n",
        "    video_url = f\"data:video/mp4;base64,{decoded}\"\n",
        "    return HTML(f\"\"\"<video width=\"{video_width}\"\" controls><source src=\"{video_url}\"></video>\"\"\")\n",
        "\n",
        "def create_env(name, render_mode=None, video_folder='/content/video'):\n",
        "    # render mode: \"human\", \"rgb_array\", \"ansi\")\n",
        "    env = gym.make(name, new_step_api=True, render_mode=render_mode)\n",
        "    env = RecordVideo(env, video_folder=video_folder, episode_trigger=lambda x: x % 50 == 0)\n",
        "    env = RecordEpisodeStatistics(env)\n",
        "    return env\n",
        "\n",
        "def show_reward(total_rewards):\n",
        "    plt.plot(total_rewards)\n",
        "    plt.xlabel('Episode')\n",
        "    plt.ylabel('Reward')\n",
        "    plt.show()"
      ],
      "metadata": {
        "id": "t0ptWCSA2zrU"
      },
      "execution_count": 3,
      "outputs": []
    },
    {
      "cell_type": "markdown",
      "source": [
        "## **Understanding the Markov Decision Process (MDP)**\n",
        "\n",
        "**Future is Independent of the past**\n",
        "\n",
        "&nbsp; &nbsp; In mathematics, a Markov decision process (MDP) is a discrete-time stochastic control process. It provides a mathematical framework for modeling decision making in situations where outcomes are partly random and partly under the control of a decision maker. MDPs are useful for studying optimization problems solved via dynamic programming.\n",
        "\n",
        "**Transition** : Moving from one state to another is called Transition.\n",
        "\n",
        "**Transition Probability (T)**: The probability that the agent will move from one\n",
        "state to another is called transition probability.\n",
        "\n",
        "<br>\n",
        "\n",
        "<img align='right' width='400' src=\"https://miro.medium.com/v2/resize:fit:860/format:webp/1*MBcie302iU3qbQPbhU0psw.png\">\n",
        "\n",
        "&nbsp; &nbsp; The edges of the tree denote transition probability. From this chain let’s take some sample.\n",
        "\n",
        "&nbsp; &nbsp; Now, suppose that we were sleeping and the according to the probability distribution there is a 0.6 chance that we will Run and 0.2 chance we sleep more and again 0.2 that we will eat ice-cream.\n",
        "\n",
        "- you can see transition matrix below (each row for one state):\n",
        "\n",
        "$$\n",
        "\\begin{bmatrix}\n",
        "0.2 & 0.6 & 0.2\\\\\n",
        "0.1 & 0.6 & 0.3 \\\\\n",
        "0.2 & 0.7 & 0.1\n",
        "\\end{bmatrix}\n",
        "$$\n",
        "\n",
        "<br>\n",
        "<br>\n",
        "<br>\n",
        "\n",
        "\n",
        "- **The return Gt is the total discounted reward from time-step t**\n",
        "\n",
        "$\\large Gt =R_{t+1}+γR_{t+2}+...=\\sum_{k=0}^{\\infty}γ^kR_{t+k+1}$\n",
        "\n",
        "<img align='left' width='350' src=\"https://miro.medium.com/v2/resize:fit:4800/format:webp/1*p5KQnP1rwTcXFooMF0n-TA.png\">\n",
        "\n",
        "<br>\n",
        "<br>\n",
        "<br>\n",
        "Suppose our start state is Class 2,\n",
        "Class 2 > Class 3 > Pass > Sleep.\n",
        "<br>\n",
        "$γ = 0.5$\n",
        "$G_t = -2 + (-2 * 0.5) + (10 * 0.25) +0 = -0.5$"
      ],
      "metadata": {
        "id": "I4fPPCpw22D8"
      }
    },
    {
      "cell_type": "markdown",
      "source": [
        "## **Bellman Equation for Value Function**\n",
        "\n",
        "Bellman Equation helps us to find optimal policies and value functions.\n",
        "\n",
        "$ V_{t+1} = R + \\gamma * T * V_{t} $\n",
        "<br>\n",
        "\n",
        "when the value converges, which means $ V_{t+1} = V_{t}$:\n",
        "\n",
        "<br>\n",
        "\n",
        "$$   \n",
        "V - \\gamma * T * V = R \\\\\n",
        "V(I - \\gamma * T) = R \\\\\n",
        "V = (I - \\gamma * T)^{-1} * R\n",
        "$$\n",
        "\n",
        "<br>\n",
        "\n",
        "**Create and MDP:**\n",
        "- we have invironment consist of:\n",
        "\n",
        "$\n",
        "S = [s_0, s_1, s_2], \\hspace{6mm} A = [a_0, a_1], \\\\\n",
        "transition \\hspace{1mm} matrix: T(s, a, s^{'}), \\\\\n",
        "discount \\hspace{2mm} factor: \\gamma\n",
        "$\n",
        "\n",
        "<br>\n",
        "\n",
        "- for the first time we don't want to implement to complex model so we assume optimal policy select first action in all circumstances. $ \\hspace{1mm}{action = a_0} $ which means it would be 0 all the time.\n",
        "- define reward function and discount factor\n",
        "\n"
      ],
      "metadata": {
        "id": "iqKC7xn0Rjfw"
      }
    },
    {
      "cell_type": "code",
      "source": [
        "def calc_value_matrix_inv(gamma, trans_matrix, rewards):\n",
        "    inv = torch.inverse(torch.eye(rewards.shape[0]) - gamma * trans_matrix)\n",
        "    v = torch.mm(inv, rewards.reshape(-1, 1))\n",
        "    return v"
      ],
      "metadata": {
        "id": "OyrooHagE0WL"
      },
      "execution_count": 4,
      "outputs": []
    },
    {
      "cell_type": "code",
      "source": [
        "T = torch.tensor(\n",
        "    [[[0.8, 0.1, 0.1],\n",
        "      [0.1, 0.6, 0.3]],\n",
        "     [[0.7, 0.2, 0.1],\n",
        "      [0.1, 0.8, 0.1]],\n",
        "     [[0.6, 0.2, 0.2],\n",
        "      [0.1, 0.4, 0.5]]]\n",
        ")\n",
        "\n",
        "R = torch.tensor([1., 0., -1.])\n",
        "gammas = [0, 0.5, 0.99]\n",
        "action = 0\n",
        "\n",
        "Trans_matrix = T[:, action]\n",
        "for gamma in gammas:\n",
        "    v = calc_value_matrix_inv(gamma, Trans_matrix, R)\n",
        "    print(f\"The value function under he optimal policy and discount factor = {gamma} is: \\n{v.numpy()} \\n\")"
      ],
      "metadata": {
        "id": "OFWc2hAjV0Ca",
        "colab": {
          "base_uri": "https://localhost:8080/"
        },
        "outputId": "34d4a029-2b6e-4a0f-8d2d-08b9998ba390"
      },
      "execution_count": 5,
      "outputs": [
        {
          "output_type": "stream",
          "name": "stdout",
          "text": [
            "The value function under he optimal policy and discount factor = 0 is: \n",
            "[[ 1.]\n",
            " [ 0.]\n",
            " [-1.]] \n",
            "\n",
            "The value function under he optimal policy and discount factor = 0.5 is: \n",
            "[[ 1.6786704 ]\n",
            " [ 0.62603873]\n",
            " [-0.48199445]] \n",
            "\n",
            "The value function under he optimal policy and discount factor = 0.99 is: \n",
            "[[65.8293 ]\n",
            " [64.71942]\n",
            " [63.4876 ]] \n",
            "\n"
          ]
        }
      ]
    },
    {
      "cell_type": "markdown",
      "source": [
        "## **Performing Policy evalulation**\n",
        "&nbsp;&nbsp;we have just developed an MDP and computed the value function of the optimal policy using matrix inversion.\n",
        "\n",
        "&nbsp;&nbsp;policy evaluation is a iterative algorithm. It starts with arbitrary policy values and then iteratively update the values base on **Bellman expectation equation** until they converge. In each iteration value of a policy $\\pi$, for state $S$ is updated as follow:\n",
        "\n",
        "<br>\n",
        "\n",
        "$$\n",
        "\\large \\textit{Bellman expectation equation:}\\\\\n",
        "V(s) = \\sum_{a}{\\pi(s, a)\\left[R(s,a) +\n",
        "\\gamma\\sum_{s^{'}}{T(s,a,s^{'})V(s^{'})}\\right]}\n",
        "$$"
      ],
      "metadata": {
        "id": "IZyofEq7V03d"
      }
    },
    {
      "cell_type": "code",
      "source": [
        "def policy_evaluation(policy, trans_matrix, rewards, gamma, threshhold):\n",
        "    n_state = policy.shape[0]\n",
        "    V = torch.zeros(n_state)\n",
        "    v_history = [V]\n",
        "    while True:\n",
        "        v_temp = torch.zeros(n_state)\n",
        "        for state, actions in enumerate(policy):\n",
        "            for action, action_prob in enumerate(actions):\n",
        "                sigma = torch.dot(trans_matrix[state, action], V)\n",
        "                v_temp[state] += action_prob * (rewards[state] + gamma * sigma)\n",
        "\n",
        "        delta = torch.max(torch.abs(V - v_temp))\n",
        "        V = v_temp.clone()\n",
        "        v_history.append(V)\n",
        "        if delta <= threshhold:\n",
        "            break\n",
        "    return V, v_history"
      ],
      "metadata": {
        "id": "5CG2iw2_Kxbb"
      },
      "execution_count": 6,
      "outputs": []
    },
    {
      "cell_type": "code",
      "source": [
        "T = torch.tensor(\n",
        "    [[[0.8, 0.1, 0.1],\n",
        "      [0.1, 0.6, 0.3]],\n",
        "     [[0.7, 0.2, 0.1],\n",
        "      [0.1, 0.8, 0.1]],\n",
        "     [[0.6, 0.2, 0.2],\n",
        "      [0.1, 0.4, 0.5]]]\n",
        ")\n",
        "\n",
        "R = torch.tensor([1., 0., -1.])\n",
        "gamma = 0.5\n",
        "policy_optimal = torch.tensor(\n",
        "    [[1., 0.],\n",
        "     [1., 0.],\n",
        "     [1., 0.]]\n",
        ")\n",
        "threshhold = 0.0001\n",
        "\n",
        "V, _ = policy_evaluation(policy_optimal, T, R, gamma, threshhold)\n",
        "print(f\"the value function under the optimal policy is: \\n{V.numpy()}\")"
      ],
      "metadata": {
        "id": "zc7cRcm-V1MC",
        "colab": {
          "base_uri": "https://localhost:8080/"
        },
        "outputId": "5d2b0d3f-d955-4462-b17c-ef952e7dfb1e"
      },
      "execution_count": 7,
      "outputs": [
        {
          "output_type": "stream",
          "name": "stdout",
          "text": [
            "the value function under the optimal policy is: \n",
            "[ 1.6785905   0.6259589  -0.48207426]\n"
          ]
        }
      ]
    },
    {
      "cell_type": "code",
      "source": [
        "policy_optimal = torch.tensor(\n",
        "    [[.5, .5],\n",
        "     [.5, .5],\n",
        "     [.5, .5]]\n",
        ")\n",
        "\n",
        "V, v_history = policy_evaluation(policy_optimal, T, R, gamma, threshhold)\n",
        "print(f\"the value function under the optimal policy is: \\n{V.numpy()}\")"
      ],
      "metadata": {
        "colab": {
          "base_uri": "https://localhost:8080/"
        },
        "id": "6E5_TWqVN3Bg",
        "outputId": "d18170a9-9aed-417e-df95-73d1b69bd27c"
      },
      "execution_count": 8,
      "outputs": [
        {
          "output_type": "stream",
          "name": "stdout",
          "text": [
            "the value function under the optimal policy is: \n",
            "[ 1.2347662   0.26914817 -0.90129805]\n"
          ]
        }
      ]
    },
    {
      "cell_type": "code",
      "source": [
        "s0, = plt.plot([v[0] for v in v_history])\n",
        "s1, = plt.plot([v[1] for v in v_history])\n",
        "s2, = plt.plot([v[2] for v in v_history])\n",
        "plt.title(f\"optimal policy with gamma = {gamma}\")\n",
        "plt.xlabel(\"Iteration\")\n",
        "plt.ylabel(\"Policy values\")\n",
        "plt.legend([s0, s1, s2], [\"State s0\", \"State s1\", \"State s2\"], loc=\"upper left\")\n",
        "plt.show()"
      ],
      "metadata": {
        "colab": {
          "base_uri": "https://localhost:8080/",
          "height": 471
        },
        "id": "_ql_zPLMSCde",
        "outputId": "e2996a3b-9539-4c18-f3a3-e10567cd5db6"
      },
      "execution_count": 9,
      "outputs": [
        {
          "output_type": "display_data",
          "data": {
            "text/plain": [
              "<Figure size 640x480 with 1 Axes>"
            ],
            "image/png": "[encoded data removed]"
          },
          "metadata": {}
        }
      ]
    },
    {
      "cell_type": "markdown",
      "source": [
        "## **Frozen Lake Environment**\n",
        "<center><img align=\"center\" width=\"200\" src=\"https://www.gymlibrary.dev/_images/frozen_lake.gif\">"
      ],
      "metadata": {
        "id": "KUmvZQuBT7Ip"
      }
    },
    {
      "cell_type": "code",
      "source": [
        "env = create_env(\"FrozenLake-v1\")"
      ],
      "metadata": {
        "id": "f2XZNAMrTX-Y"
      },
      "execution_count": 10,
      "outputs": []
    },
    {
      "cell_type": "markdown",
      "source": [
        "## **Value iteration algorithm**\n",
        "\n",
        "An MDP is considered solved if it's optinal policy is found. we will figure out the optimal policy for the Frozen Lake environment using **value iteration**\n",
        "\n",
        "The behind this algorithm is quite similar to that of policy evaluation, It is also an iterative algorithm. It starts with arbitrary policy value and the iteratively updates the values base on **Bellman optimality equation**. So in each iteration instead of taking the expectation(average) of values across all actions, it pick the action that achieve the maximal policy values:\n",
        "\n",
        "<br>\n",
        "\n",
        "$$\n",
        "\\large\\textit{Bellman optimality equations:}\\\\\n",
        "V^{*}(s) := max_{a}\\left[R(s,a) +\n",
        "\\gamma\\sum_{s^{'}}{T(s,a,s^{'})V^{*}(s^{'})}\\right]\n",
        "$$\n",
        "or\n",
        "$$\n",
        "V^{*}(s) := max_{a}\\sum_{s^{'}}{T(s,a,s^{'})}\n",
        "\\left[R(s,a, s^{'}) + \\gamma V^{*}(s^{'})\\right]\n",
        "$$\n",
        "\n",
        "<br>\n",
        "\n",
        "Once the optimal values are computed, we can easily obtain the obtimal policy acccordingly:\n",
        "\n",
        "$$\n",
        "\\pi^{*}(s) := argmax_{a}\\sum_{s^{'}}{T(s,a,s^{'})}\n",
        "\\left[R(s,a, s^{'}) + \\gamma V^{*}(s^{'})\\right]\n",
        "$$\n",
        "\n",
        "<br>\n",
        "\n",
        "- **Gym Environment**\n",
        "\n",
        "```\n",
        "env.env.P[s][a] --> Transition_matrix_Prob, next_state, reward, info\n",
        "```\n",
        "we going to use above function for value iteration algorithm"
      ],
      "metadata": {
        "id": "Qe4uVwctUMdu"
      }
    },
    {
      "cell_type": "code",
      "source": [
        "def value_iteration(env, gamma, threshhold):\n",
        "    n_state = env.observation_space.n\n",
        "    n_action = env.action_space.n\n",
        "    V = torch.zeros(n_state)\n",
        "    while True:\n",
        "        v_temp = torch.empty(n_state)\n",
        "        for state in range(n_state):\n",
        "            v_action = torch.zeros(n_action)\n",
        "            for action in range(n_action):\n",
        "                for T_prob, s_prime, R, _ in env.env.P[state][action]:\n",
        "                    v_action[action] += T_prob * (R + gamma * V[s_prime].item())\n",
        "\n",
        "            v_temp[state] = torch.max(v_action)\n",
        "\n",
        "        delta = torch.max(torch.abs(V - v_temp))\n",
        "        V = v_temp.clone()\n",
        "        if delta <= threshhold:\n",
        "            break\n",
        "    return V\n",
        "\n",
        "\n",
        "def optimal_policy(env, optimal_value, gamma):\n",
        "    n_state = env.observation_space.n\n",
        "    n_action = env.action_space.n\n",
        "    policy = torch.zeros(n_state)\n",
        "    for state in range(n_state):\n",
        "        v_action = torch.zeros(n_action)\n",
        "        for action in range(n_action):\n",
        "            for T_prob, s_prime, R, _ in env.env.P[state][action]:\n",
        "                v_action[action] += T_prob * (R + gamma * optimal_value[s_prime].item())\n",
        "\n",
        "        policy[state] = torch.argmax(v_action)\n",
        "\n",
        "    return policy"
      ],
      "metadata": {
        "id": "xJYep4bRNvNC"
      },
      "execution_count": 11,
      "outputs": []
    },
    {
      "cell_type": "code",
      "source": [
        "gamma = 0.99\n",
        "threshhold = 0.0001\n",
        "v_optimal = value_iteration(env, gamma, threshhold)\n",
        "optimal_policy = optimal_policy(env, v_optimal, gamma).long()"
      ],
      "metadata": {
        "id": "CuJHXjBxNvKf"
      },
      "execution_count": 12,
      "outputs": []
    },
    {
      "cell_type": "code",
      "source": [
        "def run_episode(env, policy):\n",
        "    state = env.reset()\n",
        "    total_reward = 0\n",
        "    done = False\n",
        "    while not done:\n",
        "        action = policy[state].item()\n",
        "        state, reward, done, _ =  env.step(action)\n",
        "        total_reward += reward\n",
        "\n",
        "    return total_reward"
      ],
      "metadata": {
        "id": "_7eCqFdbVX7Q"
      },
      "execution_count": 13,
      "outputs": []
    },
    {
      "cell_type": "code",
      "source": [
        "import os\n",
        "os.environ[\"SDL_VIDEODRIVER\"] = \"dummy\""
      ],
      "metadata": {
        "id": "uYWF6JqWW2pX"
      },
      "execution_count": 16,
      "outputs": []
    },
    {
      "cell_type": "code",
      "source": [
        "# env = create_env(\"FrozenLake-v1\")\n",
        "n_episode = 500\n",
        "total_rewards = []\n",
        "for episode in range(n_episode):\n",
        "    R = run_episode(env, optimal_policy)\n",
        "    total_rewards.append(R)\n",
        "\n",
        "    if episode % 50 == 0 and episode > 0:\n",
        "        avg_tot_reward = sum(total_rewards) / episode\n",
        "        print(f\"Average total reward over {episode} episodes: {avg_tot_reward:.2f}\")\n"
      ],
      "metadata": {
        "colab": {
          "base_uri": "https://localhost:8080/"
        },
        "id": "GVtZFZQgUTXk",
        "outputId": "e5f1d405-18a4-452f-91b9-f27a13553d4f"
      },
      "execution_count": 17,
      "outputs": [
        {
          "output_type": "stream",
          "name": "stdout",
          "text": [
            "Average total reward over 50 episodes: 0.68\n",
            "Average total reward over 100 episodes: 0.64\n",
            "Average total reward over 150 episodes: 0.67\n",
            "Average total reward over 200 episodes: 0.71\n",
            "Average total reward over 250 episodes: 0.72\n",
            "Average total reward over 300 episodes: 0.74\n",
            "Average total reward over 350 episodes: 0.74\n",
            "Average total reward over 400 episodes: 0.74\n",
            "Average total reward over 450 episodes: 0.74\n"
          ]
        }
      ]
    },
    {
      "cell_type": "code",
      "source": [
        "display_video(450)"
      ],
      "metadata": {
        "id": "49exIinKGURi",
        "colab": {
          "base_uri": "https://localhost:8080/",
          "height": 620
        },
        "outputId": "a1bebc8a-c7c6-4123-8402-4ec2b6f33361"
      },
      "execution_count": 18,
      "outputs": [
        {
          "output_type": "execute_result",
          "data": {
            "text/plain": [
              "<IPython.core.display.HTML object>"
            ],
            "text/html": [
              "<video width=\"600\"\" controls><source src=\"data:video/mp4;base64,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\"></video>"
            ]
          },
          "metadata": {},
          "execution_count": 18
        }
      ]
    },
    {
      "cell_type": "markdown",
      "source": [
        "## **Policy iteration algorithm**\n",
        "this algorithm can be divided into two components:\n",
        "1. policy evaluation\n",
        "2. policy improvment\n",
        "\n",
        "It starts with an arbitrary policy, And each iteration, It first computes the policy values given the latest policy, Based on the $\\normalsize\\textit{Bellman expectation equation}$; It then extract an improved policy out the resulting policy values, Based on the $\\normalsize\\textit{Bellman optimality equation}$. It iteratively evaluates the policy and generates an improved version until the policy doesn't change any more.\n",
        "\n",
        "<br>\n",
        "\n",
        "$$\n",
        "\\large \\textit{Bellman expectation equation:}\\\\\n",
        "V(s) = \\sum_{a}{\\pi(s, a)\\left[R(s,a) +\n",
        "\\gamma\\sum_{s^{'}}{T(s,a,s^{'})V(s^{'})}\\right]}\n",
        "$$\n",
        "\n",
        "<br>\n",
        "\n",
        "$$\n",
        "\\large\\textit{Bellman optimality equation}\\\\\n",
        "\\pi^{*}(s) := argmax_{a}\\sum_{s^{'}}{T(s,a,s^{'})}\n",
        "\\left[R(s,a, s^{'}) + \\gamma V^{*}(s^{'})\\right]\n",
        "$$"
      ],
      "metadata": {
        "id": "PVMPmmLMXkn2"
      }
    },
    {
      "cell_type": "code",
      "source": [
        "def policy_evaluation(env, policy, gamma, threshhold):\n",
        "    n_state = env.observation_space.n\n",
        "    V = torch.zeros(n_state)\n",
        "    while True:\n",
        "        v_temp = torch.zeros(n_state)\n",
        "        for state in range(n_state):\n",
        "            action = policy[state].item()\n",
        "            for T_prob, s_prime, R, _ in env.env.P[state][action]:\n",
        "                v_temp[state] += T_prob * (R + gamma * V[s_prime].item())\n",
        "\n",
        "        delta = torch.max(torch.abs(V - v_temp))\n",
        "        V = v_temp.clone()\n",
        "        if delta <= threshhold:\n",
        "            break\n",
        "    return V\n",
        "\n",
        "\n",
        "def policy_improvment(env, optimal_value, gamma):\n",
        "    n_state = env.observation_space.n\n",
        "    n_action = env.action_space.n\n",
        "    policy = torch.zeros(n_state)\n",
        "    for state in range(n_state):\n",
        "        v_action = torch.zeros(n_action)\n",
        "        for action in range(n_action):\n",
        "            for T_prob, s_prime, R, _ in env.env.P[state][action]:\n",
        "                v_action[action] += T_prob * (R + gamma * optimal_value[s_prime].item())\n",
        "\n",
        "        policy[state] = torch.argmax(v_action)\n",
        "\n",
        "    return policy\n",
        "\n",
        "def policy_iteration(env, gamma, threshhold):\n",
        "    n_state = env.observation_space.n\n",
        "    n_action = env.action_space.n\n",
        "    policy = torch.randint(high=n_action, size=(n_state,)).float()\n",
        "\n",
        "    while True:\n",
        "        V = policy_evaluation(env, policy, gamma, threshhold)\n",
        "        policy_improved = policy_improvment(env, V, gamma)\n",
        "        if torch.equal(policy_improved, policy):\n",
        "            return V, policy_improved\n",
        "\n",
        "        policy = policy_improved"
      ],
      "metadata": {
        "id": "MfNS1RrpXlGC"
      },
      "execution_count": 19,
      "outputs": []
    },
    {
      "cell_type": "code",
      "source": [
        "env = create_env(\"FrozenLake-v1\")\n",
        "gamma = 0.99\n",
        "threshhold = 0.0001\n",
        "v_optimal, policy_improved = policy_iteration(env, gamma, threshhold)\n",
        "\n",
        "print(f\"Optimal value: \\n{v_optimal}\\n\")\n",
        "print(f\"optimal policy: \\n{policy_improved}\\n\")"
      ],
      "metadata": {
        "colab": {
          "base_uri": "https://localhost:8080/"
        },
        "id": "-BS81TN3awU2",
        "outputId": "b9390e99-56a7-489e-fa21-64cf77264342"
      },
      "execution_count": 20,
      "outputs": [
        {
          "output_type": "stream",
          "name": "stdout",
          "text": [
            "Optimal value: \n",
            "tensor([0.5404, 0.4966, 0.4681, 0.4541, 0.5569, 0.0000, 0.3572, 0.0000, 0.5905,\n",
            "        0.6421, 0.6144, 0.0000, 0.0000, 0.7410, 0.8625, 0.0000])\n",
            "\n",
            "optimal policy: \n",
            "tensor([0., 3., 3., 3., 0., 0., 0., 0., 3., 1., 0., 0., 0., 2., 1., 0.])\n",
            "\n"
          ]
        }
      ]
    },
    {
      "cell_type": "code",
      "source": [
        "n_episode = 500\n",
        "total_rewards = []\n",
        "for episode in range(n_episode):\n",
        "    R = run_episode(env, policy_improved.long())\n",
        "    total_rewards.append(R)\n",
        "\n",
        "    if episode % 50 == 0 and episode > 0:\n",
        "        avg_tot_reward = sum(total_rewards) / episode\n",
        "        print(f\"Average total reward over {episode} episodes: {avg_tot_reward:.2f}\")"
      ],
      "metadata": {
        "colab": {
          "base_uri": "https://localhost:8080/"
        },
        "id": "2D78wulvbFy8",
        "outputId": "28ea5302-1da7-4047-c7d1-af42e35b31ef"
      },
      "execution_count": 21,
      "outputs": [
        {
          "output_type": "stream",
          "name": "stdout",
          "text": [
            "Average total reward over 50 episodes: 0.78\n",
            "Average total reward over 100 episodes: 0.79\n",
            "Average total reward over 150 episodes: 0.77\n",
            "Average total reward over 200 episodes: 0.74\n",
            "Average total reward over 250 episodes: 0.73\n",
            "Average total reward over 300 episodes: 0.75\n",
            "Average total reward over 350 episodes: 0.74\n",
            "Average total reward over 400 episodes: 0.73\n",
            "Average total reward over 450 episodes: 0.74\n"
          ]
        }
      ]
    },
    {
      "cell_type": "code",
      "source": [
        "display_video(450)"
      ],
      "metadata": {
        "colab": {
          "base_uri": "https://localhost:8080/",
          "height": 620
        },
        "id": "89t7HJE9cvuA",
        "outputId": "1b36ee08-6e5c-407e-d8fd-e2ccec14cfb4"
      },
      "execution_count": 22,
      "outputs": [
        {
          "output_type": "execute_result",
          "data": {
            "text/plain": [
              "<IPython.core.display.HTML object>"
            ],
            "text/html": [
              "<video width=\"600\"\" controls><source src=\"data:video/mp4;base64,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\"></video>"
            ]
          },
          "metadata": {},
          "execution_count": 22
        }
      ]
    },
    {
      "cell_type": "code",
      "source": [],
      "metadata": {
        "id": "vIbWUNnUc6PM"
      },
      "execution_count": null,
      "outputs": []
    }
  ]
}