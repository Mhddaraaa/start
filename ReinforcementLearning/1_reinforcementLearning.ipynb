{
  "nbformat": 4,
  "nbformat_minor": 0,
  "metadata": {
    "colab": {
      "provenance": []
    },
    "kernelspec": {
      "name": "python3",
      "display_name": "Python 3"
    },
    "language_info": {
      "name": "python"
    }
  },
  "cells": [
    {
      "cell_type": "markdown",
      "source": [
        "# **Reinforcement Learning**\n",
        "<img align=\"right\" src=\"https://vitalflux.com/wp-content/uploads/2020/12/Reinforcement-learning-real-world-example.png\">\n",
        "\n",
        "- In reinforcement learning, your system learns how to interact intuitively with the environment by basically doing stuff and watching what happens"
      ],
      "metadata": {
        "id": "oiWqgAcZ-G8C"
      }
    },
    {
      "cell_type": "markdown",
      "source": [
        "if you need the last version of gym use block of code below:\n",
        "```\n",
        "!pip uninstall gym -y\n",
        "!pip install gym\n",
        "```"
      ],
      "metadata": {
        "id": "yXtFkOrMv_uu"
      }
    },
    {
      "cell_type": "code",
      "source": [
        "# !pip install -U gym==0.25.2\n",
        "!pip install gym[atari]\n",
        "!pip install autorom[accept-rom-license]\n",
        "!pip install swig\n",
        "!pip install gym[box2d]"
      ],
      "metadata": {
        "id": "z3nm85oCkYt0"
      },
      "execution_count": null,
      "outputs": []
    },
    {
      "cell_type": "code",
      "source": [
        "# !pip install --upgrade IPython"
      ],
      "metadata": {
        "id": "Qzlw6rNrzEjc"
      },
      "execution_count": 111,
      "outputs": []
    },
    {
      "cell_type": "code",
      "execution_count": 153,
      "metadata": {
        "id": "M1lRsA66h0fU"
      },
      "outputs": [],
      "source": [
        "import numpy as np\n",
        "import matplotlib.pyplot as plt\n",
        "import gym\n",
        "from IPython.core.display import HTML\n",
        "from base64 import b64encode\n",
        "from gym.wrappers import record_video, record_episode_statistics\n",
        "from gym.wrappers import RecordVideo, RecordEpisodeStatistics\n",
        "import torch"
      ]
    },
    {
      "cell_type": "code",
      "source": [
        "# turn off or turn on warning messages in Jupyter notebooks\n",
        "import warnings\n",
        "warnings.filterwarnings('ignore')"
      ],
      "metadata": {
        "id": "xjoplAktL0hN"
      },
      "execution_count": 156,
      "outputs": []
    },
    {
      "cell_type": "code",
      "source": [
        "# Check gym version\n",
        "gym.__version__"
      ],
      "metadata": {
        "colab": {
          "base_uri": "https://localhost:8080/",
          "height": 34
        },
        "id": "f92zCADaqkkz",
        "outputId": "4385bf57-a8aa-4dfd-a320-63bd5d188803"
      },
      "execution_count": 113,
      "outputs": [
        {
          "output_type": "execute_result",
          "data": {
            "text/plain": [
              "'0.25.2'"
            ],
            "application/vnd.google.colaboratory.intrinsic+json": {
              "type": "string"
            }
          },
          "metadata": {},
          "execution_count": 113
        }
      ]
    },
    {
      "cell_type": "markdown",
      "source": [
        "## **Create invironment**\n",
        "<img width=\"600\" align=\"right\" src=\"https://shirsho-12.github.io/images/rl/gym.png\">\n",
        "\n",
        "we use gym from OPenAl for create our invironment\n",
        "- first define to funciton:\n",
        "    1. create and save video `create_env`\n",
        "    2. display saved video `display_video`\n",
        "\n",
        "- in the time this notebook created the gym version is `0.26.2` but running veriosn on colab is `0.25.2` which I worked with\n",
        "\n",
        "<br>\n",
        "\n",
        "to record video in mac or linux we need `ffmpeg` pakage\n",
        "- MAC: `brew install ffmpeg`\n",
        "- linux: `apt install ffmpeg`\n",
        "\n",
        "**note**: in lunux first run `apt update && apt upgtade -y`\n",
        "\n",
        "after create env game instance use code below:\n",
        " ```\n",
        " video_dir = \"/video/\"\n",
        " env = gym.wrapper.Monitor(env, video_dir)\n",
        " ```\n"
      ],
      "metadata": {
        "id": "hsHTAY_7_w2a"
      }
    },
    {
      "cell_type": "code",
      "source": [
        "def display_video(episode=0, video_width=600):\n",
        "    video_path = f\"/content/video/rl-video-episode-{episode}.mp4\"\n",
        "    video_file = open(video_path, \"rb\").read()\n",
        "    decoded = b64encode(video_file).decode()\n",
        "    video_url = f\"data:video/mp4;base64,{decoded}\"\n",
        "    return HTML(f\"\"\"<video width=\"{video_width}\"\" controls><source src=\"{video_url}\"></video>\"\"\")"
      ],
      "metadata": {
        "id": "2jAW-8KO0j2q"
      },
      "execution_count": 143,
      "outputs": []
    },
    {
      "cell_type": "code",
      "source": [
        "def create_env(name, render_mode=None):\n",
        "    # render mode: \"human\", \"rgb_array\", \"ansi\")\n",
        "    env = gym.make(name, new_step_api=True, render_mode=render_mode)\n",
        "    env = RecordVideo(env, video_folder='/content/video')\n",
        "    return env"
      ],
      "metadata": {
        "id": "17KJo28k2qud"
      },
      "execution_count": 124,
      "outputs": []
    },
    {
      "cell_type": "markdown",
      "source": [
        "### **Make our first games and see how it work**"
      ],
      "metadata": {
        "id": "yZUDNRnpGrlo"
      }
    },
    {
      "cell_type": "markdown",
      "source": [
        "#### **Lunar Lander**\n",
        "<img align=\"center\" width=\"400\" src=\"https://www.gymlibrary.dev/_images/lunar_lander.gif\">"
      ],
      "metadata": {
        "id": "fsDSeWFwG1w_"
      }
    },
    {
      "cell_type": "code",
      "source": [
        "!rm -r /content/video\n",
        "env = create_env(\"LunarLander-v2\", \"rgb_array\")\n",
        "for episode in range(10):\n",
        "    done = False\n",
        "    env.reset()\n",
        "    while not done:\n",
        "        action = env.action_space.sample()\n",
        "        state, reward, done, info =  env.step(action)\n",
        "    if episode % 5 == 0 and episode > 0:\n",
        "        print(f\"- Game completed at episode: {episode}\")"
      ],
      "metadata": {
        "id": "6h793mfvh__b"
      },
      "execution_count": null,
      "outputs": []
    },
    {
      "cell_type": "code",
      "source": [
        "display_video(0)"
      ],
      "metadata": {
        "id": "sCphQ5OO4kcr"
      },
      "execution_count": null,
      "outputs": []
    },
    {
      "cell_type": "markdown",
      "source": [
        "#### **Space Invador**\n",
        "<img align=\"center\" width=\"200\" src=\"https://www.gymlibrary.dev/_images/space_invaders.gif\">"
      ],
      "metadata": {
        "id": "_t5czP2JG6tV"
      }
    },
    {
      "cell_type": "code",
      "source": [
        "!rm -r /content/video\n",
        "env = create_env(\"ALE/SpaceInvaders-v5\", 'rgb_array')\n",
        "for episode in range(10):\n",
        "    done = False\n",
        "    env.reset()\n",
        "    while not done:\n",
        "        action = env.action_space.sample()\n",
        "        state, reward, done, info =  env.step(action)\n",
        "    if episode % 5 == 0 and episode > 0:\n",
        "        print(f\"- Game completed at episode: {episode}\")"
      ],
      "metadata": {
        "id": "dwuPMgTFBre_"
      },
      "execution_count": null,
      "outputs": []
    },
    {
      "cell_type": "code",
      "source": [
        "display_video(8, 400)"
      ],
      "metadata": {
        "id": "5bFQQwqDF70X"
      },
      "execution_count": null,
      "outputs": []
    },
    {
      "cell_type": "markdown",
      "source": [
        "#### **Cartpole**\n",
        "<img align=\"center\" width=\"300\" src=\"https://www.gymlibrary.dev/_images/cart_pole.gif\">"
      ],
      "metadata": {
        "id": "oGVZq31fG-Lm"
      }
    },
    {
      "cell_type": "code",
      "source": [
        "!rm -r /content/video\n",
        "env = create_env(\"CartPole-v1\", 'rgb_array')\n",
        "for episode in range(10):\n",
        "    done = False\n",
        "    env.reset()\n",
        "    while not done:\n",
        "        action = env.action_space.sample()\n",
        "        state, reward, done, info =  env.step(action)\n",
        "    if episode % 5 == 0 and episode > 0:\n",
        "        print(f\"- Game completed at episode: {episode}\")"
      ],
      "metadata": {
        "id": "xv6-VVjvFDVJ"
      },
      "execution_count": null,
      "outputs": []
    },
    {
      "cell_type": "code",
      "source": [
        "display_video(1)"
      ],
      "metadata": {
        "id": "yRBklNJIFR_9"
      },
      "execution_count": null,
      "outputs": []
    },
    {
      "cell_type": "markdown",
      "source": [
        "### **How well the agent perform!?**\n",
        "we can simulate many episodes and then average the total reward for and individual episode. **the average total reward** will tell us about the performance ot the agent that take random action"
      ],
      "metadata": {
        "id": "qe4wzzQNI-k0"
      }
    },
    {
      "cell_type": "code",
      "source": [
        "!rm -r /content/video\n",
        "env = create_env(\"ALE/SpaceInvaders-v5\", 'rgb_array')\n",
        "total_rewards = []\n",
        "n_episodes = 100\n",
        "for episode in range(n_episodes):\n",
        "    done = False\n",
        "    env.reset()\n",
        "    total_reward = 0\n",
        "    while not done:\n",
        "        action = env.action_space.sample()\n",
        "        state, reward, done, info =  env.step(action)\n",
        "        total_reward += reward\n",
        "\n",
        "    total_rewards.append(total_reward)\n",
        "    if episode % 20 == 0 and episode > 0:\n",
        "        print(f\"- Game completed at episode: {episode}\")"
      ],
      "metadata": {
        "colab": {
          "base_uri": "https://localhost:8080/"
        },
        "id": "ehXU1UIFGlA_",
        "outputId": "6a15f57e-88e7-4e0d-adde-edacef55237f"
      },
      "execution_count": 155,
      "outputs": [
        {
          "output_type": "stream",
          "name": "stdout",
          "text": [
            "- Game completed at episode: 20\n",
            "- Game completed at episode: 40\n",
            "- Game completed at episode: 60\n",
            "- Game completed at episode: 80\n"
          ]
        }
      ]
    },
    {
      "cell_type": "code",
      "source": [
        "avg_tot_reward = sum(total_rewards) / n_episodes\n",
        "print(f\"Average total reward over {n_episodes} episodes: {avg_tot_reward}\")"
      ],
      "metadata": {
        "colab": {
          "base_uri": "https://localhost:8080/"
        },
        "id": "2Y7InJd1Kdjf",
        "outputId": "238e8a25-748b-4011-d072-11014cb31906"
      },
      "execution_count": 157,
      "outputs": [
        {
          "output_type": "stream",
          "name": "stdout",
          "text": [
            "Average total reward over 100 episodes: 143.75\n"
          ]
        }
      ]
    },
    {
      "cell_type": "code",
      "source": [],
      "metadata": {
        "id": "H5AR1xJsSs0V"
      },
      "execution_count": null,
      "outputs": []
    }
  ]
}